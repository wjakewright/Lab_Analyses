{
 "cells": [
  {
   "cell_type": "markdown",
   "id": "c79d8a3a",
   "metadata": {},
   "source": [
    "# Data Converstion\n",
    "Jupyter Notebook to convert data from .mat files to pickle files\n",
    "Updated to use the generic load_mat function"
   ]
  },
  {
   "cell_type": "code",
   "execution_count": 1,
   "id": "6d8132f6",
   "metadata": {},
   "outputs": [],
   "source": [
    "import os\n",
    "from save_load_pickle import save_pickle, load_pickle\n",
    "from load_mat_files_v2 import load_mat, merge_imaging_behavior"
   ]
  },
  {
   "cell_type": "markdown",
   "id": "dd3c0ce1",
   "metadata": {},
   "source": [
    "### Loop through list of files to be converted "
   ]
  },
  {
   "cell_type": "markdown",
   "id": "e99e7f65",
   "metadata": {},
   "source": [
    "Section for standalone behavior or imaging files ctrl+/ to comment/uncomment if needed"
   ]
  },
  {
   "cell_type": "code",
   "execution_count": 2,
   "id": "2caa941e",
   "metadata": {},
   "outputs": [],
   "source": [
    "# os.chdir(r'C:\\Users\\Jake\\Desktop\\Processed_data')\n",
    "# load_path = r'matlab_data\\to_convert' # string for the directory of where to load the files\n",
    "# mat_name =['JW010_211105_Behavior_8mW','JW010_211105_Behavior_10mW','JW010_211105_Behavior_15mW',\n",
    "#            'JW010_211105_Behavior_20mW','JW011_211105_Behavior_8mW',\n",
    "#            'JW011_211105_Behavior_10mW','JW011_211105_Behavior_15mW','JW011_211105_Behavior_20mW',\n",
    "#            'JW011_211105_Behavior_25mW'] # current name of .mat file\n",
    "# mat_name1 = ['JW010_211105_Behavior','JW010_211105_Behavior','JW010_211105_Behavior',\n",
    "#            'JW010_211105_Behavior','JW011_211105_Behavior',\n",
    "#            'JW011_211105_Behavior','JW011_211105_Behavior','JW011_211105_Behavior',\n",
    "#            'JW011_211105_Behavior'] # name of structure saved in .mat file\n",
    "# # mat_name1 = None # uncomment if mat_name and mat_name1 will be the same\n",
    "# new_name = ['JW010_211105_Behavior_8mW','JW010_211105_Behavior_10mW','JW010_211105_Behavior_15mW',\n",
    "#            'JW010_211105_Behavior_20mW','JW011_211105_Behavior_8mW',\n",
    "#            'JW011_211105_Behavior_10mW','JW011_211105_Behavior_15mW','JW011_211105_Behavior_20mW',\n",
    "#            'JW011_211105_Behavior_25mW'] # new name for the pickle file\n",
    "# for m_name, m_name1, n_name in zip(mat_name,mat_name1,new_name):\n",
    "#     mat_data = load_mat(m_name,m_name1,load_path)\n",
    "#     save_pickle(n_name,mat_data,save_path)"
   ]
  },
  {
   "cell_type": "markdown",
   "id": "1e2e323a",
   "metadata": {},
   "source": [
    "Section for paired behavior and imaging files. ctrl+/ to comment/uncomment if needed"
   ]
  },
  {
   "cell_type": "code",
   "execution_count": null,
   "id": "2a71f327",
   "metadata": {},
   "outputs": [],
   "source": [
    "os.chdir(r'C:\\Users\\Jake\\Desktop\\Processed_data')\n",
    "load_path = r'matlab_data\\to_convert' # string for the directory of where to load the files\n",
    "save_path = r'python_data\\converted' # string for the directory of where to save the files\n",
    "\n",
    "image_mat_name = ['JW012_211113_Summary_5mw','JW012_211113_Summary_8mw',\n",
    "                  'JW012_211113_Summary_10mw','JW012_211113_Summary_15mw'] #Name of the current imaging .mat files \n",
    "image_mat_name1 = ['JW012_211113_Summary','JW012_211113_Summary',\n",
    "                  'JW012_211113_Summary','JW012_211113_Summary'] #Name of the structure within .mat file if not the same as file name\n",
    "beh_mat_name =['JW012_211113_Behavior_5mw','JW012_211113_Behavior_8mw',\n",
    "               'JW012_211113_Behavior_10mw','JW012_211113_Behavior_15mw'] #Name of the current behavioral .mat files\n",
    "beh_mat_name1 = ['JW012_211113_Behavior','JW012_211113_Behavior',\n",
    "                 'JW012_211113_Behavior','JW012_211113_Behavior'] #Name of the strucutre within the .mat file if not the same as file name\n",
    "new_name = ['JW012_211113_5mw','JW012_211113_8mw',\n",
    "            'JW012_211113_10mw','JW012_211113_15mw'] #Name for the new pickle files\n",
    "\n",
    "for i_name, i_name1, b_name, b_name1, n_name in zip(image_mat_name,image_mat_name1,beh_mat_name,\n",
    "                                                    beh_mat_name1, new_name\n",
    "    imaging = load_mat(i_name,i_name1,load_path)\n",
    "    behavior = load_mat(b_name,b_name1,load_path)\n",
    "    data = merge_imaging_behavior(imaging,behavior)\n",
    "    save_pickle(n_name,data,save_path)"
   ]
  }
 ],
 "metadata": {
  "kernelspec": {
   "display_name": "Python 3 (ipykernel)",
   "language": "python",
   "name": "python3"
  },
  "language_info": {
   "codemirror_mode": {
    "name": "ipython",
    "version": 3
   },
   "file_extension": ".py",
   "mimetype": "text/x-python",
   "name": "python",
   "nbconvert_exporter": "python",
   "pygments_lexer": "ipython3",
   "version": "3.8.8"
  }
 },
 "nbformat": 4,
 "nbformat_minor": 5
}
