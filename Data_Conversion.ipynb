{
 "cells": [
  {
   "cell_type": "markdown",
   "id": "18d8a4f2",
   "metadata": {},
   "source": [
    "# Data Converstion\n",
    "Jupyter Notebook to convert data from .mat files to pickle files\n",
    "Loading .mat files is currently coded to only load behavior and somatic calcium imaging data"
   ]
  },
  {
   "cell_type": "code",
   "execution_count": null,
   "id": "f6675b84",
   "metadata": {},
   "outputs": [],
   "source": [
    "import os\n",
    "from load_mat_files import load_behavior, load_soma_imaging\n",
    "from save_load_pickle import save_pickle, load_pickle"
   ]
  },
  {
   "cell_type": "markdown",
   "id": "b7067fdf",
   "metadata": {},
   "source": [
    "Loop through list of files to be converted"
   ]
  },
  {
   "cell_type": "code",
   "execution_count": null,
   "id": "1341314f",
   "metadata": {},
   "outputs": [],
   "source": [
    "# for behavior files\n",
    "os.chdir(r'C:\\Users\\Jake\\Desktop\\Processed_data')\n",
    "load_path = 'matlab_data' # string for the directory of where to load the files\n",
    "mat_name =['JW006_211018_Behavior_10mW','JW006_211018_Behavior_15mW', \n",
    "           'JW006_211018_Behavior_20mW', 'JW006_211018_Behavior_25mW'] # current name of .mat file\n",
    "mat_name1 = ['JW006_211018_Behavior','JW006_211018_Behavior',\n",
    "             'JW006_211018_Behavior','JW006_211018_Behavior'] # name of structure saved in .mat file\n",
    "# mat_name1 = None # uncomment if mat_name and mat_name1 will be the same\n",
    "save_path = 'python_data' # string for the directory of where to save the files\n",
    "new_name = ['JW006_211018_Behavior_10mW','JW006_211018_Behavior_15mW', \n",
    "           'JW006_211018_Behavior_20mW', 'JW006_211018_Behavior_25mW'] # new name for the pickle file\n",
    "for m_name, m_name1, n_name in zip(mat_name,mat_name1,new_name):\n",
    "    mat_data = load_behavior(m_name,m_name1,load_path)\n",
    "    save_pickle(n_name,mat_data,save_path)"
   ]
  },
  {
   "cell_type": "code",
   "execution_count": null,
   "id": "fd0bfdf4",
   "metadata": {},
   "outputs": [],
   "source": [
    "# for imaging files\n",
    "os.chdir(r'C:\\Users\\Jake\\Desktop\\Processed_data')\n",
    "load_path = 'matlab_data' # string for the directory of where to load the files\n",
    "mat_name =['JW002_211019_Summary_10mW','JW002_211019_Summary_15mW', \n",
    "           'JW002_211019_Summary_20mW', 'JW002_211019_Summary_25mW'] # current name of .mat file\n",
    "mat_name1 = ['JW002_211019_Summary','JW002_211019_Summary',\n",
    "             'JW002_211019_Summary','JW002_211019_Summary'] # name of structure saved in .mat file\n",
    "# mat_name1 = None # uncomment if mat_name and mat_name1 will be the same\n",
    "save_path = 'python_data' # string for the directory of where to save the files\n",
    "new_name = ['JW002_211019_Summary_10mW','JW002_211019_Summary_15mW', \n",
    "           'JW002_211019_Summary_20mW', 'JW002_211019_Summary_25mW'] # new name for the pickle file\n",
    "for m_name, m_name1, n_name in zip(mat_name,mat_name1,new_name):\n",
    "    mat_data = load_soma_imaging(m_name,m_name1,load_path)\n",
    "    save_pickle(n_name,mat_data,save_path)"
   ]
  },
  {
   "cell_type": "code",
   "execution_count": null,
   "id": "f38b4ba6",
   "metadata": {},
   "outputs": [],
   "source": [
    "# Test loading \n",
    "# load_pickle(fname_list, path)\n",
    "data = load_pickle(['JW006_211018_Summary_10mW'],save_path)\n",
    "data[0].keys()"
   ]
  },
  {
   "cell_type": "code",
   "execution_count": null,
   "id": "c4c0cadf",
   "metadata": {},
   "outputs": [],
   "source": []
  }
 ],
 "metadata": {
  "kernelspec": {
   "display_name": "Python 3 (ipykernel)",
   "language": "python",
   "name": "python3"
  },
  "language_info": {
   "codemirror_mode": {
    "name": "ipython",
    "version": 3
   },
   "file_extension": ".py",
   "mimetype": "text/x-python",
   "name": "python",
   "nbconvert_exporter": "python",
   "pygments_lexer": "ipython3",
   "version": "3.8.8"
  }
 },
 "nbformat": 4,
 "nbformat_minor": 5
}
