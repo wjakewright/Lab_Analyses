{
 "cells": [
  {
   "cell_type": "markdown",
   "id": "18d8a4f2",
   "metadata": {},
   "source": [
    "# Data Converstion\n",
    "Jupyter Notebook to convert data from .mat files to pickle files\n",
    "Loading .mat files is currently coded to only load behavior and somatic calcium imaging data"
   ]
  },
  {
   "cell_type": "code",
   "execution_count": null,
   "id": "f6675b84",
   "metadata": {},
   "outputs": [],
   "source": [
    "import os\n",
    "from load_mat_files import (load_behavior, load_soma_imaging, load_spine_imaging, \n",
    "                            merge_imaging_behavior)\n",
    "from save_load_pickle import save_pickle, load_pickle"
   ]
  },
  {
   "cell_type": "markdown",
   "id": "b7067fdf",
   "metadata": {},
   "source": [
    "Loop through list of files to be converted"
   ]
  },
  {
   "cell_type": "code",
   "execution_count": null,
   "id": "1341314f",
   "metadata": {},
   "outputs": [],
   "source": [
    "# for behavior files only\n",
    "os.chdir(r'C:\\Users\\Jake\\Desktop\\Processed_data')\n",
    "load_path = r'matlab_data\\to_convert' # string for the directory of where to load the files\n",
    "mat_name =['JW010_211105_Behavior_8mW','JW010_211105_Behavior_10mW','JW010_211105_Behavior_15mW',\n",
    "           'JW010_211105_Behavior_20mW','JW011_211105_Behavior_8mW',\n",
    "           'JW011_211105_Behavior_10mW','JW011_211105_Behavior_15mW','JW011_211105_Behavior_20mW',\n",
    "           'JW011_211105_Behavior_25mW'] # current name of .mat file\n",
    "mat_name1 = ['JW010_211105_Behavior','JW010_211105_Behavior','JW010_211105_Behavior',\n",
    "           'JW010_211105_Behavior','JW011_211105_Behavior',\n",
    "           'JW011_211105_Behavior','JW011_211105_Behavior','JW011_211105_Behavior',\n",
    "           'JW011_211105_Behavior'] # name of structure saved in .mat file\n",
    "# mat_name1 = None # uncomment if mat_name and mat_name1 will be the same\n",
    "save_path = r'python_data\\converted' # string for the directory of where to save the files\n",
    "new_name = ['JW010_211105_Behavior_8mW','JW010_211105_Behavior_10mW','JW010_211105_Behavior_15mW',\n",
    "           'JW010_211105_Behavior_20mW','JW011_211105_Behavior_8mW',\n",
    "           'JW011_211105_Behavior_10mW','JW011_211105_Behavior_15mW','JW011_211105_Behavior_20mW',\n",
    "           'JW011_211105_Behavior_25mW'] # new name for the pickle file\n",
    "for m_name, m_name1, n_name in zip(mat_name,mat_name1,new_name):\n",
    "    mat_data = load_behavior(m_name,m_name1,load_path)\n",
    "    save_pickle(n_name,mat_data,save_path)"
   ]
  },
  {
   "cell_type": "code",
   "execution_count": null,
   "id": "fd0bfdf4",
   "metadata": {},
   "outputs": [],
   "source": [
    "# for soma imaging files only\n",
    "os.chdir(r'C:\\Users\\Jake\\Desktop\\Processed_data')\n",
    "load_path = r'matlab_data\\to_convert' # string for the directory of where to load the files\n",
    "mat_name =['JW010_211105_Summary_8mW','JW010_211105_Summary_10mW','JW010_211105_Summary_15mW',\n",
    "           'JW010_211105_Summary_20mW','JW010_211105_Summary_25mW','JW011_211105_Summary_8mW',\n",
    "           'JW011_211105_Summary_10mW','JW011_211105_Summary_15mW','JW011_211105_Summary_20mW',\n",
    "           'JW011_211105_Summary_25mW'] # current name of .mat file\n",
    "mat_name1 = ['JW010_211105_Summary','JW010_211105_Summary','JW010_211105_Summary','JW010_211105_Summary',\n",
    "             'JW010_211105_Summary','JW011_211105_Summary','JW011_211105_Summary','JW011_211105_Summary',\n",
    "             'JW011_211105_Summary','JW011_211105_Summary'] # name of structure saved in .mat file\n",
    "# mat_name1 = None # uncomment if mat_name and mat_name1 will be the same\n",
    "save_path = r'python_data\\converted' # string for the directory of where to save the files\n",
    "new_name = ['JW010_211105_Summary_8mW','JW010_211105_Summary_10mW','JW010_211105_Summary_15mW',\n",
    "           'JW010_211105_Summary_20mW','JW010_211105_Summary_25mW','JW011_211105_Summary_8mW',\n",
    "           'JW011_211105_Summary_10mW','JW011_211105_Summary_15mW','JW011_211105_Summary_20mW',\n",
    "           'JW011_211105_Summary_25mW'] # new name for the pickle file\n",
    "for m_name, m_name1, n_name in zip(mat_name,mat_name1,new_name):\n",
    "    mat_data = load_soma_imaging(m_name,m_name1,load_path)\n",
    "    save_pickle(n_name,mat_data,save_path)"
   ]
  },
  {
   "cell_type": "code",
   "execution_count": null,
   "id": "f38b4ba6",
   "metadata": {},
   "outputs": [],
   "source": [
    "# for paired behavior and soma imaging files \n",
    "os.chdir(r'C:\\Users\\Jake\\Desktop\\Processed_data')\n",
    "load_path = r'matlab_data\\to_convert' # string for the directory of where to load the files\n",
    "save_path = r'python_data\\converted' # string for the directory of where to save the files\n",
    "\n",
    "image_mat_name = ['JW015_211112_Summary_5mw_f2','JW015_211112_Summary_8mw_f2',\n",
    "                  'JW015_211112_Summary_10mw_f2','JW015_211112_Summary_15mw_f2',\n",
    "                  'JW015_211112_Summary_20mw_f2'] #Name of the current imaging .mat files \n",
    "image_mat_name1 = ['JW015_211112_Summary','JW015_211112_Summary',\n",
    "                  'JW015_211112_Summary','JW015_211112_Summary',\n",
    "                  'JW015_211112_Summary'] #Name of the structure within .mat file if not the same as file name\n",
    "beh_mat_name =['JW015_211112_Behavior_5mw','JW015_211112_Behavior_8mw',\n",
    "               'JW015_211112_Behavior_10mw','JW015_211112_Behavior_15mw',\n",
    "               'JW015_211112_Behavior_20mw'] #Name of the current behavioral .mat files\n",
    "beh_mat_name1 = ['JW015_211112_Behavior','JW015_211112_Behavior',\n",
    "                 'JW015_211112_Behavior','JW015_211112_Behavior',\n",
    "                 'JW015_211112_Behavior'] #Name of the strucutre within the .mat file if not the same as file name\n",
    "new_name = ['JW015_211112_5mw_f2','JW015_211112_8mw_f2',\n",
    "            'JW015_211112_10mw_f2','JW015_211112_15mw_f2',\n",
    "            'JW015_211112_20mw_f2'] #Name for the new pickle files\n",
    "\n",
    "for i_name, i_name1, b_name, b_name1, n_name in zip(image_mat_name,image_mat_name1,beh_mat_name,\n",
    "                                                    beh_mat_name1, new_name):\n",
    "    # for soma imaging\n",
    "    imaging = load_soma_imaging(i_name,i_name1,load_path)\n",
    "    # for spine imaging\n",
    "    # imaing = load_spine_imaging(i_name,i_name1,load_path)\n",
    "    behavior = load_behavior(b_name,b_name1,load_path)\n",
    "    data = merge_imaging_behavior(imaging,behavior)\n",
    "    save_pickle(n_name,data,save_path)"
   ]
  },
  {
   "cell_type": "code",
   "execution_count": null,
   "id": "fa8c5b89",
   "metadata": {},
   "outputs": [],
   "source": [
    "# for spine imaging files\n",
    "os.chdir(r'C:\\Users\\Jake\\Desktop\\Processed_data')\n",
    "load_path = r'matlab_data\\to_convert' # string for the directory of where to load the files\n",
    "\n",
    "mat_name =[] # current name of .mat file\n",
    "mat_name1 = [] # name of structure saved in .mat file\n",
    "# mat_name1 = None # uncomment if mat_name and mat_name1 will be the same\n",
    "save_path = r'python_data\\converted' # string for the directory of where to save the files\n",
    "new_name = [] # new name for the pickle file\n",
    "for m_name, m_name1, n_name in zip(mat_name,mat_name1,new_name):\n",
    "    mat_data = load_spine_imaging(m_name,m_name1,load_path)\n",
    "    save_pickle(n_name,mat_data,save_path)"
   ]
  },
  {
   "cell_type": "code",
   "execution_count": null,
   "id": "b6e18b86",
   "metadata": {},
   "outputs": [],
   "source": [
    "# for paired behavior and spine imaging files \n",
    "os.chdir(r'C:\\Users\\Jake\\Desktop\\Processed_data')\n",
    "load_path = r'matlab_data\\to_convert' # string for the directory of where to load the files\n",
    "save_path = r'python_data\\converted' # string for the directory of where to save the files\n",
    "\n",
    "image_mat_name = ['JW015_211113_Summary_5mw','JW015_211113_Summary_8mw',\n",
    "                  'JW015_211113_Summary_10mw','JW015_211113_Summary_15mw'] #Name of the current imaging .mat files \n",
    "image_mat_name1 = ['JW015_211113_Summary','JW015_211113_Summary',\n",
    "                  'JW015_211113_Summary','JW015_211113_Summary'] #Name of the structure within .mat file if not the same as file name\n",
    "beh_mat_name =['JW015_211113_Behavior_5mw','JW015_211113_Behavior_8mw',\n",
    "               'JW015_211113_Behavior_10mw','JW015_211113_Behavior_15mw'] #Name of the current behavioral .mat files\n",
    "beh_mat_name1 = ['JW015_211113_Behavior','JW015_211113_Behavior',\n",
    "                 'JW015_211113_Behavior','JW015_211113_Behavior'] #Name of the strucutre within the .mat file if not the same as file name\n",
    "new_name = ['JW015_211113_5mw','JW015_211113_8mw',\n",
    "            'JW015_211113_10mw','JW015_211113_15mw'] #Name for the new pickle files\n",
    "\n",
    "for i_name, i_name1, b_name, b_name1, n_name in zip(image_mat_name,image_mat_name1,beh_mat_name,\n",
    "                                                    beh_mat_name1, new_name):\n",
    "    # for soma imaging\n",
    "    imaging = load_spine_imaging(i_name,i_name1,load_path)\n",
    "    # for spine imaging\n",
    "    # imaing = load_spine_imaging(i_name,i_name1,load_path)\n",
    "    behavior = load_behavior(b_name,b_name1,load_path)\n",
    "    data = merge_imaging_behavior(imaging,behavior)\n",
    "    save_pickle(n_name,data,save_path)"
   ]
  },
  {
   "cell_type": "code",
   "execution_count": null,
   "id": "577fb088",
   "metadata": {},
   "outputs": [],
   "source": []
  }
 ],
 "metadata": {
  "kernelspec": {
   "display_name": "Python 3 (ipykernel)",
   "language": "python",
   "name": "python3"
  },
  "language_info": {
   "codemirror_mode": {
    "name": "ipython",
    "version": 3
   },
   "file_extension": ".py",
   "mimetype": "text/x-python",
   "name": "python",
   "nbconvert_exporter": "python",
   "pygments_lexer": "ipython3",
   "version": "3.8.8"
  }
 },
 "nbformat": 4,
 "nbformat_minor": 5
}
