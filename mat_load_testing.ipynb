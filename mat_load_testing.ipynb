{
 "cells": [
  {
   "cell_type": "code",
   "execution_count": null,
   "id": "5a36fbe6",
   "metadata": {},
   "outputs": [],
   "source": [
    "from os.path import dirname,join as pjoin\n",
    "import scipy.io as sio\n",
    "from collections import defaultdict"
   ]
  },
  {
   "cell_type": "code",
   "execution_count": null,
   "id": "9107eefa",
   "metadata": {},
   "outputs": [],
   "source": [
    "def retrieve_behavior_mat_file(fname,fname1=None):\n",
    "    p = 'C:\\\\Users\\\\Jake\\\\Desktop\\\\Processed_data'\n",
    "    #data_dir = pjoin(dirname(p))\n",
    "    mat_fname = pjoin(p, fname)\n",
    "    mat_file = sio.loadmat(mat_fname)\n",
    "    behavior_dict = {}\n",
    "    behavior_dict['lever_active'] = mat_file[fname1]['lever_active'][0,0]\n",
    "    behavior_dict['lever_force_resample'] = mat_file[fname1]['lever_force_resample'][0,0]\n",
    "    behavior_dict['lever_force_smooth'] = mat_file[fname1]['lever_force_smooth'][0,0]\n",
    "    behavior_dict['lever_velocity_envelope_smooth'] = mat_file[fname1]['lever_velocity_envelope_smooth'][0,0]\n",
    "    behavior_dict['imaged_trials'] = mat_file[fname1]['Imaged_Trials'][0,0]\n",
    "    behavior_frames = mat_file[fname1]['Behavior_Frames'][0,0]\n",
    "    # behavior trials is a list, with each item being a dictionary for each trial\n",
    "    behavior_trials = []\n",
    "\n",
    "    for i in range(len(behavior_frames)):\n",
    "        # behavior frame dictionary. Contains dictionary for states, pokes, and waves\n",
    "        behavior_d = {}\n",
    "        states = behavior_frames[i][0][0,0]['states']\n",
    "        # dictionary containing all info in the states structure\n",
    "        behavior_states = {}\n",
    "        behavior_states['state_0'] = states[0,0]['state_0']\n",
    "        behavior_states['next_trial_ready'] = states[0,0]['check_next_trial_ready']\n",
    "        behavior_states['bitcode'] = states[0,0]['bitcode'] \n",
    "        behavior_states['cue'] = states[0,0]['cue']\n",
    "        behavior_states['end_cue_hold'] = states[0,0]['end_cue_hold']\n",
    "        behavior_states['reward'] = states[0,0]['reward']\n",
    "        behavior_states['end_cue_punish'] = states[0,0]['end_cue_punish']\n",
    "        behavior_states['punish'] = states[0,0]['punish']\n",
    "        behavior_states['opto_off'] = states[0,0]['opto_off']\n",
    "        behavior_states['iti'] = states[0,0]['iti']\n",
    "        behavior_states['iti2'] = states[0,0]['iti2']\n",
    "        behavior_states['iti3'] = states[0,0]['iti3']\n",
    "        behavior_states['starting_state'] = states[0,0]['starting_state']\n",
    "        behavior_states['ending_state'] = states[0,0]['ending_state']\n",
    "        behavior_d['states'] = behavior_states\n",
    "        \n",
    "        pokes = behavior_frames[i][0][0,0]['pokes']\n",
    "        # dictionary containing all info in the pokes structure\n",
    "        behavior_pokes = {}\n",
    "        behavior_pokes['C'] = pokes[0,0]['C']\n",
    "        behavior_pokes['L'] = pokes[0,0]['L']\n",
    "        behavior_pokes['R'] = pokes[0,0]['R']\n",
    "        p_starting_states = {}\n",
    "        p_starting_states['C'] = pokes[0,0]['starting_state'][0,0]['C']\n",
    "        p_starting_states['L'] = pokes[0,0]['starting_state'][0,0]['L']\n",
    "        p_starting_states['R'] = pokes[0,0]['starting_state'][0,0]['R']\n",
    "        behavior_pokes['starting_state'] = p_starting_states\n",
    "        p_ending_states = {}\n",
    "        p_ending_states['C'] = pokes[0,0]['ending_state'][0,0]['C']\n",
    "        p_ending_states['L'] = pokes[0,0]['ending_state'][0,0]['L']\n",
    "        p_ending_states['R'] = pokes[0,0]['ending_state'][0,0]['R']\n",
    "        behavior_pokes['ending_state'] = p_ending_states\n",
    "        behavior_d['pokes'] = behavior_pokes\n",
    "        \n",
    "        ## Waves is currently only contains empty structures, do not going to code in right now\n",
    "        #waves = behavior_frames[i][0][0,0]['waves']\n",
    "        # dictionary containing all info in the waves structure\n",
    "        #behavior_waves = defaultdict(list)\n",
    "        \n",
    "        behavior_trials.append(behavior_d)\n",
    "    \n",
    "    behavior_dict['behavior_frames'] = behavior_trials\n",
    "    behavior_dict['frame_times'] = mat_file[fname1]['Frame_Times'][0,0] \n",
    "        \n",
    "    return behavior_dict"
   ]
  },
  {
   "cell_type": "code",
   "execution_count": null,
   "id": "835ea3b7",
   "metadata": {},
   "outputs": [],
   "source": [
    "dic = retrieve_behavior_mat_file('JW001_210927_Behavior_8mW','JW001_210927_Behavior')\n"
   ]
  },
  {
   "cell_type": "code",
   "execution_count": 1,
   "id": "2f473237",
   "metadata": {},
   "outputs": [],
   "source": [
    "import load_mat_files as mfile\n",
    "behavior = mfile.load_behavior('JW001_210927_Behavior_8mW','JW001_210927_Behavior')"
   ]
  },
  {
   "cell_type": "code",
   "execution_count": 2,
   "id": "e215b1b4",
   "metadata": {},
   "outputs": [],
   "source": [
    "import pandas as pd\n",
    "imaging = mfile.load_soma_imaging('JW001_210927_Summary_8mW','JW001_210927_Summary')\n"
   ]
  },
  {
   "cell_type": "code",
   "execution_count": 3,
   "id": "d8f57f2c",
   "metadata": {},
   "outputs": [],
   "source": [
    "from pop_opto_analysis import population_opto_analysis"
   ]
  },
  {
   "cell_type": "code",
   "execution_count": 4,
   "id": "d063055b",
   "metadata": {},
   "outputs": [],
   "source": [
    "opto = population_opto_analysis(imaging,behavior)"
   ]
  },
  {
   "cell_type": "code",
   "execution_count": 5,
   "id": "5225797e",
   "metadata": {},
   "outputs": [
    {
     "data": {
      "text/plain": [
       "Index(['ROI 1.0', 'ROI 2.0', 'ROI 3.0', 'ROI 4.0', 'ROI 5.0', 'ROI 6.0',\n",
       "       'ROI 7.0', 'ROI 8.0', 'ROI 9.0', 'ROI 10.0', 'ROI 11.0', 'ROI 12.0',\n",
       "       'ROI 13.0', 'ROI 14.0', 'ROI 15.0', 'ROI 16.0', 'ROI 17.0', 'ROI 18.0',\n",
       "       'ROI 19.0', 'ROI 20.0', 'ROI 21.0'],\n",
       "      dtype='object')"
      ]
     },
     "execution_count": 5,
     "metadata": {},
     "output_type": "execute_result"
    }
   ],
   "source": [
    "import numpy as np\n",
    "dFoF=opto.dFoF\n",
    "itis = opto.itis\n",
    "dFoF.columns"
   ]
  },
  {
   "cell_type": "code",
   "execution_count": 6,
   "id": "f3b32386",
   "metadata": {},
   "outputs": [],
   "source": [
    "sig = opto.significance_testing(method='shuff')"
   ]
  },
  {
   "cell_type": "code",
   "execution_count": 10,
   "id": "acb43d85",
   "metadata": {},
   "outputs": [
    {
     "data": {
      "text/plain": [
       "[0, 0, 1, 0, 0, 0, 0, 0, 0, 0, 0, 0, 1, 1, 0, 0, 0, 0, 0, 0, 0]"
      ]
     },
     "execution_count": 10,
     "metadata": {},
     "output_type": "execute_result"
    }
   ],
   "source": [
    "sigs = []\n",
    "diffs = []\n",
    "for key,value in sig.items():\n",
    "    sigs.append(value['sig'])\n",
    "    diffs.append(value['real_diff'])\n",
    "sigs"
   ]
  },
  {
   "cell_type": "code",
   "execution_count": 8,
   "id": "1fcd64b6",
   "metadata": {},
   "outputs": [
    {
     "data": {
      "text/plain": [
       "[0.011530030163656233,\n",
       " -0.12191677309515121,\n",
       " -0.4190645319908087,\n",
       " -0.11872631831603148,\n",
       " 0.0064216922454679495,\n",
       " -0.12327188321941208,\n",
       " 0.008429964007351982,\n",
       " -0.030988014330878465,\n",
       " -0.13250455876730166,\n",
       " -0.13391281071686842,\n",
       " 0.009733693550591036,\n",
       " -0.11498504952027894,\n",
       " 0.33074808887918805,\n",
       " 0.2519142124084529,\n",
       " 0.014908095295369902,\n",
       " 0.012210704479305754,\n",
       " 0.017279417031175057,\n",
       " -0.007437048100651281,\n",
       " -0.034659703696688096,\n",
       " -0.07901430777270145,\n",
       " 0.009353074969884474]"
      ]
     },
     "execution_count": 8,
     "metadata": {},
     "output_type": "execute_result"
    }
   ],
   "source": [
    "diffs"
   ]
  },
  {
   "cell_type": "code",
   "execution_count": null,
   "id": "90c7404d",
   "metadata": {},
   "outputs": [],
   "source": [
    "for i in new_itis:\n",
    "    print(i)"
   ]
  },
  {
   "cell_type": "code",
   "execution_count": null,
   "id": "ae942d47",
   "metadata": {},
   "outputs": [],
   "source": [
    "print([i for i in x])"
   ]
  },
  {
   "cell_type": "code",
   "execution_count": null,
   "id": "c7a78f78",
   "metadata": {},
   "outputs": [],
   "source": [
    "import numpy as np\n",
    "x1= np.asarray([int(i) for i in x])"
   ]
  },
  {
   "cell_type": "code",
   "execution_count": null,
   "id": "ffbc1351",
   "metadata": {},
   "outputs": [],
   "source": [
    "x1[0]"
   ]
  },
  {
   "cell_type": "code",
   "execution_count": null,
   "id": "3ff827eb",
   "metadata": {},
   "outputs": [],
   "source": [
    "a = np.array([])"
   ]
  },
  {
   "cell_type": "code",
   "execution_count": null,
   "id": "647ce2b8",
   "metadata": {},
   "outputs": [],
   "source": [
    "import pop_opto_analysis as opto"
   ]
  },
  {
   "cell_type": "code",
   "execution_count": null,
   "id": "ab116e7d",
   "metadata": {},
   "outputs": [],
   "source": [
    "help(opto)"
   ]
  },
  {
   "cell_type": "code",
   "execution_count": null,
   "id": "955526b8",
   "metadata": {},
   "outputs": [],
   "source": []
  }
 ],
 "metadata": {
  "kernelspec": {
   "display_name": "Python 3",
   "language": "python",
   "name": "python3"
  },
  "language_info": {
   "codemirror_mode": {
    "name": "ipython",
    "version": 3
   },
   "file_extension": ".py",
   "mimetype": "text/x-python",
   "name": "python",
   "nbconvert_exporter": "python",
   "pygments_lexer": "ipython3",
   "version": "3.8.8"
  }
 },
 "nbformat": 4,
 "nbformat_minor": 5
}
