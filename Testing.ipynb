{
 "cells": [
  {
   "cell_type": "markdown",
   "id": "abd7235c",
   "metadata": {},
   "source": [
    "# Work PC testing"
   ]
  },
  {
   "cell_type": "code",
   "execution_count": null,
   "id": "a3c4dca7",
   "metadata": {},
   "outputs": [],
   "source": [
    "import utilities as utils\n",
    "import load_mat_files as load_mat\n",
    "import pop_opto_analysis as opto"
   ]
  },
  {
   "cell_type": "code",
   "execution_count": null,
   "id": "3a5990d1",
   "metadata": {},
   "outputs": [],
   "source": [
    "imaging = load_mat.load_soma_imaging('JW001_210927_Summary_8mW','JW001_210927_Summary')\n",
    "behavior = load_mat.load_behavior('JW001_210927_Behavior_8mW','JW001_210927_Behavior')"
   ]
  },
  {
   "cell_type": "code",
   "execution_count": null,
   "id": "1a4dfdbe",
   "metadata": {},
   "outputs": [],
   "source": [
    "o = opto.population_opto_analysis(imaging,behavior)"
   ]
  },
  {
   "cell_type": "code",
   "execution_count": null,
   "id": "cbd5e0e6",
   "metadata": {},
   "outputs": [],
   "source": [
    "o.plot_session_activity()"
   ]
  },
  {
   "cell_type": "markdown",
   "id": "c6367240",
   "metadata": {},
   "source": [
    "# Home Mac Testing"
   ]
  },
  {
   "cell_type": "code",
   "execution_count": null,
   "id": "15bf4fdd",
   "metadata": {},
   "outputs": [],
   "source": [
    "import utilities as utils\n",
    "import pop_opto_analysis as opto_anal\n",
    "import pop_opto_curve as curve\n",
    "import load_pickle as lp\n",
    "%matplotlib notebook"
   ]
  },
  {
   "cell_type": "code",
   "execution_count": null,
   "id": "d12cf71b",
   "metadata": {},
   "outputs": [],
   "source": [
    "# Load some pickled data\n",
    "i_fnames = ['i_8mW.pickle','i_11mW.pickle','i_15mW.pickle','i_20mW.pickle']\n",
    "b_fnames = ['b_8mW.pickle','b_11mW.pickle','b_15mW.pickle','b_20mW.pickle']\n",
    "path = 'test_data'\n",
    "i_data = lp.load_pickle(i_fnames,path)\n",
    "b_data  = lp.load_pickle(b_fnames,path)"
   ]
  },
  {
   "cell_type": "code",
   "execution_count": null,
   "id": "7020ad30",
   "metadata": {},
   "outputs": [],
   "source": [
    "opto = opto_anal.population_opto_analysis(i_data[0],b_data[0])"
   ]
  },
  {
   "cell_type": "code",
   "execution_count": null,
   "id": "6cf66595",
   "metadata": {},
   "outputs": [],
   "source": [
    "opto.plot_session_activity(figsize=(7,8))"
   ]
  },
  {
   "cell_type": "code",
   "execution_count": null,
   "id": "a009f80b",
   "metadata": {},
   "outputs": [],
   "source": [
    "opto.plot_mean_sem(figsize=(10,10),col_num=5)"
   ]
  },
  {
   "cell_type": "code",
   "execution_count": null,
   "id": "1745469e",
   "metadata": {},
   "outputs": [],
   "source": [
    "opto.plot_shuff_results(figsize=(10,10),col_num=5)"
   ]
  },
  {
   "cell_type": "code",
   "execution_count": null,
   "id": "9ef1f118",
   "metadata": {},
   "outputs": [],
   "source": [
    "opto.disp_results()"
   ]
  },
  {
   "cell_type": "code",
   "execution_count": null,
   "id": "9c400cfe",
   "metadata": {},
   "outputs": [],
   "source": [
    "c = curve.pop_opto_curve(i_data,b_data,[8,11,15,20],'null')"
   ]
  },
  {
   "cell_type": "code",
   "execution_count": null,
   "id": "a0e6cc50",
   "metadata": {
    "scrolled": false
   },
   "outputs": [],
   "source": [
    "c.visualize_individual_sessions(1)"
   ]
  },
  {
   "cell_type": "code",
   "execution_count": null,
   "id": "e606ad67",
   "metadata": {},
   "outputs": [],
   "source": []
  }
 ],
 "metadata": {
  "kernelspec": {
   "display_name": "Python 3 (ipykernel)",
   "language": "python",
   "name": "python3"
  },
  "language_info": {
   "codemirror_mode": {
    "name": "ipython",
    "version": 3
   },
   "file_extension": ".py",
   "mimetype": "text/x-python",
   "name": "python",
   "nbconvert_exporter": "python",
   "pygments_lexer": "ipython3",
   "version": "3.8.8"
  }
 },
 "nbformat": 4,
 "nbformat_minor": 5
}
