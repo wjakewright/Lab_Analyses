{
 "cells": [
  {
   "cell_type": "markdown",
   "id": "c6367240",
   "metadata": {},
   "source": [
    "# Testing"
   ]
  },
  {
   "cell_type": "code",
   "execution_count": null,
   "id": "15bf4fdd",
   "metadata": {},
   "outputs": [],
   "source": [
    "import utilities as utils\n",
    "import pop_opto_analysis as opto_anal\n",
    "import pop_opto_curve as curve\n",
    "import load_pickle as lp\n",
    "%matplotlib notebook"
   ]
  },
  {
   "cell_type": "code",
   "execution_count": null,
   "id": "d12cf71b",
   "metadata": {},
   "outputs": [],
   "source": [
    "# Load some pickled data\n",
    "i_fnames = ['i_8mW.pickle','i_11mW.pickle','i_15mW.pickle','i_20mW.pickle']\n",
    "b_fnames = ['b_8mW.pickle','b_11mW.pickle','b_15mW.pickle','b_20mW.pickle']\n",
    "path = 'test_data'\n",
    "i_data = lp.load_pickle(i_fnames,path)\n",
    "b_data  = lp.load_pickle(b_fnames,path)"
   ]
  },
  {
   "cell_type": "code",
   "execution_count": null,
   "id": "7020ad30",
   "metadata": {},
   "outputs": [],
   "source": [
    "opto = opto_anal.population_opto_analysis(i_data[0],b_data[0])"
   ]
  },
  {
   "cell_type": "code",
   "execution_count": null,
   "id": "6cf66595",
   "metadata": {},
   "outputs": [],
   "source": [
    "opto.plot_session_activity(figsize=(7,8))"
   ]
  },
  {
   "cell_type": "code",
   "execution_count": null,
   "id": "a009f80b",
   "metadata": {},
   "outputs": [],
   "source": [
    "opto.plot_mean_sem(figsize=(10,10),col_num=5)"
   ]
  },
  {
   "cell_type": "code",
   "execution_count": null,
   "id": "1745469e",
   "metadata": {},
   "outputs": [],
   "source": [
    "#opto.plot_shuff_dist(figsize=(10,10),col_num=5)\n",
    "opto.itis"
   ]
  },
  {
   "cell_type": "code",
   "execution_count": null,
   "id": "9ef1f118",
   "metadata": {},
   "outputs": [],
   "source": [
    "opto.significance_testing('test')\n",
    "opto.disp_results()"
   ]
  },
  {
   "cell_type": "code",
   "execution_count": null,
   "id": "9c400cfe",
   "metadata": {},
   "outputs": [],
   "source": [
    "c = curve.pop_opto_curve(i_data,b_data,[8,11,15,20],'shuff')"
   ]
  },
  {
   "cell_type": "code",
   "execution_count": null,
   "id": "a0e6cc50",
   "metadata": {
    "scrolled": false
   },
   "outputs": [],
   "source": [
    "c.get_power_curves()"
   ]
  }
 ],
 "metadata": {
  "kernelspec": {
   "display_name": "Python 3",
   "language": "python",
   "name": "python3"
  },
  "language_info": {
   "codemirror_mode": {
    "name": "ipython",
    "version": 3
   },
   "file_extension": ".py",
   "mimetype": "text/x-python",
   "name": "python",
   "nbconvert_exporter": "python",
   "pygments_lexer": "ipython3",
   "version": "3.8.8"
  }
 },
 "nbformat": 4,
 "nbformat_minor": 5
}
