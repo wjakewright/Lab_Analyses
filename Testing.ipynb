{
 "cells": [
  {
   "cell_type": "markdown",
   "id": "c6367240",
   "metadata": {},
   "source": [
    "# Testing"
   ]
  },
  {
   "cell_type": "code",
   "execution_count": null,
   "id": "15bf4fdd",
   "metadata": {},
   "outputs": [],
   "source": [
    "import numpy as np\n",
    "import matplotlib.pyplot as plt"
   ]
  },
  {
   "cell_type": "code",
   "execution_count": null,
   "id": "e09021f6",
   "metadata": {},
   "outputs": [],
   "source": [
    "a = np.array([[1.1,1.2,1.0,0.9,1.1],\n",
    "              [1.1,1.2,1.0,0.9,1.1],\n",
    "              [1.1,1.2,1.0,0.9,1.1]]).transpose()\n",
    "print(a)"
   ]
  },
  {
   "cell_type": "code",
   "execution_count": null,
   "id": "d12cf71b",
   "metadata": {},
   "outputs": [],
   "source": [
    "plt.figure(figsize=(3,7))\n",
    "x = np.array([1,2,3,4,5])\n",
    "for col in range(len(a[0,:])):\n",
    "    if col == 0:\n",
    "        plt.plot(x,a[:,col])\n",
    "    else:\n",
    "        pad = len(x) + 1\n",
    "        x = x + pad\n",
    "        plt.plot(x,a[:,col])"
   ]
  },
  {
   "cell_type": "code",
   "execution_count": null,
   "id": "7020ad30",
   "metadata": {},
   "outputs": [],
   "source": [
    "for count, i in enumerate(range(len(a[:,0]))):\n",
    "    print(count)\n"
   ]
  },
  {
   "cell_type": "code",
   "execution_count": 1,
   "id": "6cf66595",
   "metadata": {},
   "outputs": [],
   "source": [
    "import re"
   ]
  },
  {
   "cell_type": "code",
   "execution_count": 24,
   "id": "a009f80b",
   "metadata": {},
   "outputs": [],
   "source": [
    "target_string = \"JW0035AAAA0001_Frame.xsglog\""
   ]
  },
  {
   "cell_type": "code",
   "execution_count": 25,
   "id": "1745469e",
   "metadata": {},
   "outputs": [],
   "source": [
    "# What I want to get\n",
    "# name = \"JW0035\"\n",
    "# epoch = \"AAAA0001\"\n",
    "# channel = \"Frame\""
   ]
  },
  {
   "cell_type": "code",
   "execution_count": 34,
   "id": "9ef1f118",
   "metadata": {},
   "outputs": [
    {
     "data": {
      "text/plain": [
       "'JW0035'"
      ]
     },
     "execution_count": 34,
     "metadata": {},
     "output_type": "execute_result"
    }
   ],
   "source": [
    "a = re.search(\"[A-Z]{2}[0-9]{4}\",target_string).group()\n"
   ]
  },
  {
   "cell_type": "code",
   "execution_count": 36,
   "id": "4266317c",
   "metadata": {},
   "outputs": [
    {
     "data": {
      "text/plain": [
       "'AAAA0001_Frame.xsglog'"
      ]
     },
     "execution_count": 36,
     "metadata": {},
     "output_type": "execute_result"
    }
   ],
   "source": [
    "new_string = target_string.replace(a,\"\")\n",
    "new_string"
   ]
  },
  {
   "cell_type": "code",
   "execution_count": null,
   "id": "cd6c4337",
   "metadata": {},
   "outputs": [],
   "source": []
  },
  {
   "cell_type": "code",
   "execution_count": null,
   "id": "9c400cfe",
   "metadata": {},
   "outputs": [],
   "source": []
  },
  {
   "cell_type": "code",
   "execution_count": null,
   "id": "a0e6cc50",
   "metadata": {
    "scrolled": false
   },
   "outputs": [],
   "source": []
  }
 ],
 "metadata": {
  "kernelspec": {
   "display_name": "Python 3 (ipykernel)",
   "language": "python",
   "name": "python3"
  },
  "language_info": {
   "codemirror_mode": {
    "name": "ipython",
    "version": 3
   },
   "file_extension": ".py",
   "mimetype": "text/x-python",
   "name": "python",
   "nbconvert_exporter": "python",
   "pygments_lexer": "ipython3",
   "version": "3.8.8"
  }
 },
 "nbformat": 4,
 "nbformat_minor": 5
}
