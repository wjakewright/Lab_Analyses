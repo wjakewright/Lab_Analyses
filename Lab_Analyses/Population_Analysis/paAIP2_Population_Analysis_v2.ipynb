{
 "cells": [
  {
   "cell_type": "markdown",
   "id": "ce01a1a2",
   "metadata": {},
   "source": [
    "# paAIP2 Population Analysis"
   ]
  },
  {
   "cell_type": "code",
   "execution_count": null,
   "id": "888a9d6d",
   "metadata": {},
   "outputs": [],
   "source": [
    "# Configure Notebook width\n",
    "from IPython.display import display, HTML\n",
    "display(HTML(\"<style>.container { width:90% !important; }</style>\"))"
   ]
  },
  {
   "cell_type": "code",
   "execution_count": null,
   "id": "1a7cba2f",
   "metadata": {},
   "outputs": [],
   "source": [
    "# Import packages and modules\n",
    "import os\n",
    "import numpy as np\n",
    "\n",
    "from Lab_Analyses.Population_Analysis import population_utilities as p_utils\n",
    "from Lab_Analyses.Population_Analysis.preprocess_population_data import organize_population_data\n",
    "from Lab_Analyses.Population_Analysis.paAIP2_population_analysis import paAIP2_population_analysis\n",
    "from Lab_Analyses.Population_Analysis.paAIP2_population_plotting import plot_paAIP2_population_dynamics\n",
    "\n",
    "%matplotlib inline"
   ]
  },
  {
   "cell_type": "markdown",
   "id": "d1ead349",
   "metadata": {},
   "source": [
    "## Datasets"
   ]
  },
  {
   "cell_type": "code",
   "execution_count": null,
   "id": "e9beb13c",
   "metadata": {},
   "outputs": [],
   "source": [
    "# paAIP2 mouse ids\n",
    "pa_1 = \"JW156\" # Not using due to missing session\n",
    "pa_2 = \"JW157\"\n",
    "pa_3 = \"JW158\"\n",
    "pa_4 = \"JW159\"\n",
    "pa_5 = \"JW175\"\n",
    "pa_6 = \"JW176\"\n",
    "\n",
    "pa_mice = [pa_2, pa_3, pa_4, pa_5, pa_6]\n",
    "\n",
    "# EGFP mouse ids\n",
    "gfp_1 = \"JW196\"\n",
    "gfp_2 = \"JW197\"\n",
    "gfp_3 = \"JW198\"\n",
    "gfp_4 = \"JW199\"\n",
    "\n",
    "gfp_mice = [gfp_1, gfp_2, gfp_3, gfp_4]\n",
    "gfp_mice = [gfp_1, gfp_2, gfp_4]\n",
    "\n",
    "## Analysis Parameters\n",
    "roi_match = False\n",
    "sensor = \"RCaMP2\"\n",
    "zoom_factor = 2\n",
    "reprocess = False\n",
    "activity_window = (-1, 2)\n"
   ]
  },
  {
   "cell_type": "markdown",
   "id": "b8046827",
   "metadata": {},
   "source": [
    "## Preprocess data"
   ]
  },
  {
   "cell_type": "code",
   "execution_count": null,
   "id": "929e1cc9",
   "metadata": {
    "scrolled": false
   },
   "outputs": [],
   "source": [
    "# paAIP2 mice\n",
    "for mouse in pa_mice:\n",
    "    organize_population_data(\n",
    "        mouse_id=mouse,\n",
    "        roi_match=roi_match,\n",
    "        sensor=sensor,\n",
    "        zoom_factor=zoom_factor,\n",
    "        reprocess=True,\n",
    "        save=True\n",
    "    )\n",
    "    \n",
    "# EGFP mice\n",
    "for mouse in gfp_mice:\n",
    "    organize_population_data(\n",
    "        mouse_id=mouse,\n",
    "        roi_match=roi_match,\n",
    "        sensor=sensor,\n",
    "        zoom_factor=zoom_factor,\n",
    "        reprocess=True,\n",
    "        save=True\n",
    "    )"
   ]
  },
  {
   "cell_type": "markdown",
   "id": "5490e341",
   "metadata": {},
   "source": [
    "## Analyze Population Data"
   ]
  },
  {
   "cell_type": "code",
   "execution_count": null,
   "id": "82ff8171",
   "metadata": {
    "scrolled": false
   },
   "outputs": [],
   "source": [
    "paAIP2_population_analysis(\n",
    "    paAIP2_mice=pa_mice,\n",
    "    EGFP_mice=gfp_mice,\n",
    "    activity_window=activity_window,\n",
    "    save_ind=True\n",
    ")"
   ]
  },
  {
   "cell_type": "markdown",
   "id": "67bf427e",
   "metadata": {},
   "source": [
    "## Visualize data"
   ]
  },
  {
   "cell_type": "code",
   "execution_count": null,
   "id": "30f61b41",
   "metadata": {},
   "outputs": [],
   "source": [
    "# Load datasets\n",
    "EGFP_data_list = p_utils.load_analyzed_pop_datasets(gfp_mice, \"EGFP\")\n",
    "paAIP2_data_list = p_utils.load_analyzed_pop_datasets(pa_mice, \"paAIP2\")\n",
    "\n",
    "figure_path = r\"C:\\Users\\Jake\\Desktop\\Figures\\grouped_data\\paAIP2_Population\\Activity\""
   ]
  },
  {
   "cell_type": "code",
   "execution_count": null,
   "id": "1dea52b8",
   "metadata": {
    "scrolled": false
   },
   "outputs": [],
   "source": [
    "# Plot Activity Dynamics\n",
    "plot_paAIP2_population_dynamics(\n",
    "    EGFP_data_list,\n",
    "    paAIP2_data_list,\n",
    "    mvmt_only=True,\n",
    "    norm=True,\n",
    "    spikes=True,\n",
    "    example_pa=None,\n",
    "    example_gfp=None,\n",
    "    figsize=(15,15),\n",
    "    save=False,\n",
    "    save_path=figure_path,\n",
    ")"
   ]
  },
  {
   "cell_type": "code",
   "execution_count": null,
   "id": "40bb4440",
   "metadata": {},
   "outputs": [],
   "source": [
    "# Plot some session traces\n",
    "## Select data\n",
    "data = paAIP2_data_list[1]\n",
    "data = EGFP_data_list[0]\n",
    "\n",
    "## Traces\n",
    "traces = data.zscore_smooth_spikes[0]\n",
    "mvmt = data.lever_active[0]\n",
    "color = \"mediumslateblue\""
   ]
  },
  {
   "cell_type": "code",
   "execution_count": null,
   "id": "75e81d53",
   "metadata": {},
   "outputs": [],
   "source": [
    "import matplotlib.pyplot as plt\n",
    "%matplotlib qt\n",
    "save_path = r\"C:\\Users\\Jake\\Desktop\\Figures\\Examples\\Example_images\\coactivity_plasticity\\Local_Coactivity\\basal_stable\"\n",
    "\n",
    "x = np.arange(traces.shape[0]) / 30\n",
    "fig, ax = plt.subplot_mosaic(\"\"\"A\"\"\",figsize=(7,10))\n",
    "title = \"JW196_EGFP_Day_1\"\n",
    "# Randomly select 20 traces\n",
    "#idxs = np.random.randint(low=0, high=traces.shape[1], size=20)\n",
    "idxs = [0,1,2,3,4,5,6,7]\n",
    "for j, i in enumerate(idxs):\n",
    "    print(i)\n",
    "    ax[\"A\"].plot(x[:], traces[:, i] + j * 10, color=color, linewidth=.5)"
   ]
  },
  {
   "cell_type": "code",
   "execution_count": null,
   "id": "334f0c1d",
   "metadata": {},
   "outputs": [],
   "source": [
    "data.__dict__.keys()"
   ]
  },
  {
   "cell_type": "code",
   "execution_count": 1,
   "id": "0ee6fe8f",
   "metadata": {},
   "outputs": [],
   "source": [
    "from Lab_Analyses.Utilities.save_load_pickle import load_pickle\n",
    "import os"
   ]
  },
  {
   "cell_type": "code",
   "execution_count": 2,
   "id": "a365207a",
   "metadata": {},
   "outputs": [
    {
     "name": "stdout",
     "output_type": "stream",
     "text": [
      "G:\\Analyzed_data\\individual\\JW157\\population_data\\JW157_Early_population_data\n"
     ]
    }
   ],
   "source": [
    "path = r\"G:\\Analyzed_data\\individual\\JW157\\population_data\"\n",
    "fname = \"JW157_Early_population_data\"\n",
    "print(os.path.join(path, fname))\n",
    "data = load_pickle([os.path.join(path, fname)])[0]"
   ]
  },
  {
   "cell_type": "code",
   "execution_count": 3,
   "id": "d0d92f73",
   "metadata": {},
   "outputs": [
    {
     "data": {
      "text/plain": [
       "dict_keys(['mouse_id', 'session', 'date', 'imaging_parameters', 'time', 'lever_force_resample', 'lever_force_smooth', 'lever_velocity_envelop', 'lever_active', 'rewarded_movement_force', 'rewarded_movement_binary', 'binary_cue', 'reward_delivery', 'punish_delivery', 'cell_positions', 'fluorescence', 'dFoF', 'processed_dFoF', 'estimated_spikes', 'processed_estimated_spikes', 'activity_trace', 'floored_trace', 'movement_cells', 'silent_cells', 'reward_movement_cells', 'reward_silent_cells', 'movement_cells_spikes', 'silent_cells_spikes', 'reward_movement_cells_spikes', 'reward_silent_cells_spikes'])"
      ]
     },
     "execution_count": 3,
     "metadata": {},
     "output_type": "execute_result"
    }
   ],
   "source": [
    "data.__dict__.keys()"
   ]
  },
  {
   "cell_type": "code",
   "execution_count": 7,
   "id": "7394f809",
   "metadata": {},
   "outputs": [],
   "source": [
    "import numpy as np\n",
    "sname = \"JW157_Early_population_spikes.npy\"\n",
    "load_spikes = np.load(os.path.join(path, sname))"
   ]
  },
  {
   "cell_type": "code",
   "execution_count": 98,
   "id": "3b5b480c",
   "metadata": {},
   "outputs": [],
   "source": [
    "# Plot some session traces\n",
    "## Select data\n",
    "dFoF = data.processed_dFoF\n",
    "spikes = load_spikes.T\n",
    "spikes = np.nan_to_num(spikes, nan=0)\n",
    "#spikes = data.estimated_spikes\n",
    "\n",
    "color_dFoF = \"mediumslateblue\"\n",
    "color_spikes = \"red\""
   ]
  },
  {
   "cell_type": "code",
   "execution_count": 25,
   "id": "10d91a9a",
   "metadata": {},
   "outputs": [
    {
     "name": "stdout",
     "output_type": "stream",
     "text": [
      "229\n",
      "68\n",
      "15\n",
      "231\n",
      "234\n",
      "125\n",
      "241\n",
      "10\n",
      "96\n",
      "164\n",
      "6\n",
      "233\n",
      "63\n",
      "118\n",
      "195\n",
      "29\n",
      "47\n",
      "108\n",
      "213\n",
      "206\n"
     ]
    }
   ],
   "source": [
    "import matplotlib.pyplot as plt\n",
    "%matplotlib qt\n",
    "save_path = r\"C:\\Users\\Jake\\Desktop\\Figures\\Examples\\Example_images\\coactivity_plasticity\\Local_Coactivity\\basal_stable\"\n",
    "\n",
    "x = np.arange(dFoF.shape[0]) / 30\n",
    "fig, ax = plt.subplot_mosaic(\"\"\"A\"\"\",figsize=(7,10))\n",
    "title = \"JW196_EGFP_Day_1\"\n",
    "# Randomly select 20 traces\n",
    "idxs = np.random.randint(low=0, high=dFoF.shape[1], size=20)\n",
    "for j, i in enumerate(idxs):\n",
    "    print(i)\n",
    "    #ax[\"A\"].plot(x[:], dFoF[:, i] + j * 2, color=\"mediumslateblue\", linewidth=.5)\n",
    "    ax[\"A\"].plot(x[:], spikes[:, i] + j * 0.2, color=\"red\", linewidth=.5)"
   ]
  },
  {
   "cell_type": "code",
   "execution_count": 16,
   "id": "3939d119",
   "metadata": {},
   "outputs": [
    {
     "data": {
      "text/plain": [
       "[<matplotlib.lines.Line2D at 0x294e5156370>]"
      ]
     },
     "execution_count": 16,
     "metadata": {},
     "output_type": "execute_result"
    }
   ],
   "source": []
  },
  {
   "cell_type": "code",
   "execution_count": 99,
   "id": "f23508ec",
   "metadata": {},
   "outputs": [],
   "source": [
    "x = spikes[:, 2]\n",
    "d = dFoF[:, 2]\n",
    "active_x = np.zeros(len(x))\n",
    "active_x[x > 0.2] = 1"
   ]
  },
  {
   "cell_type": "code",
   "execution_count": 101,
   "id": "d5649dd6",
   "metadata": {},
   "outputs": [],
   "source": [
    "pad = np.zeros(1)\n",
    "diff = np.diff(np.concatenate((pad,active_x, pad)))\n",
    "\n",
    "start = diff == 1\n",
    "stop = diff == -1\n",
    "start_idxs = np.nonzero(start)[0]\n",
    "stop_idxs = np.nonzero(stop)[0]\n",
    "\n",
    "deriv = np.gradient(x)"
   ]
  },
  {
   "cell_type": "code",
   "execution_count": 102,
   "id": "6ce7ad35",
   "metadata": {},
   "outputs": [
    {
     "name": "stdout",
     "output_type": "stream",
     "text": [
      "294 - 329\n",
      "363 - 370\n",
      "387 - 392\n",
      "440 - 441\n",
      "573 - 579\n",
      "1192 - 1207\n",
      "1268 - 1282\n",
      "1374 - 1379\n",
      "1391 - 1398\n",
      "1407 - 1423\n",
      "1457 - 1462\n",
      "1581 - 1584\n",
      "1866 - 1878\n",
      "1906 - 1920\n",
      "2126 - 2132\n",
      "2498 - 2503\n",
      "2526 - 2532\n",
      "2574 - 2596\n",
      "3141 - 3155\n",
      "3209 - 3216\n",
      "3496 - 3501\n",
      "3516 - 3543\n",
      "3557 - 3564\n",
      "3663 - 3670\n",
      "3685 - 3691\n",
      "3716 - 3721\n",
      "4045 - 4056\n",
      "4081 - 4097\n",
      "4145 - 4150\n",
      "4195 - 4201\n",
      "5321 - 5333\n",
      "5456 - 5468\n",
      "5553 - 5565\n",
      "5591 - 5595\n",
      "6184 - 6192\n",
      "6646 - 6651\n",
      "6671 - 6681\n",
      "6705 - 6727\n",
      "6930 - 6949\n",
      "7477 - 7490\n",
      "7540 - 7547\n",
      "8606 - 8618\n",
      "8670 - 8674\n",
      "8871 - 8872\n",
      "9500 - 9519\n",
      "10119 - 10126\n",
      "11251 - 11267\n",
      "11329 - 11338\n",
      "11367 - 11379\n",
      "11985 - 12004\n",
      "12031 - 12039\n",
      "12592 - 12597\n",
      "12619 - 12626\n",
      "12875 - 12885\n",
      "12978 - 12995\n",
      "13279 - 13284\n",
      "13345 - 13347\n",
      "13483 - 13491\n",
      "13632 - 13635\n",
      "13808 - 13820\n",
      "13838 - 13840\n",
      "14209 - 14219\n",
      "14572 - 14600\n",
      "14694 - 14702\n",
      "14861 - 14875\n",
      "14987 - 15005\n",
      "15012 - 15024\n",
      "15469 - 15478\n",
      "15491 - 15501\n",
      "16263 - 16266\n",
      "16565 - 16571\n",
      "16590 - 16600\n",
      "16732 - 16737\n",
      "16784 - 16785\n",
      "16875 - 16888\n",
      "17231 - 17244\n",
      "17546 - 17561\n",
      "18261 - 18272\n",
      "18285 - 18290\n",
      "18724 - 18727\n",
      "19209 - 19218\n",
      "19700 - 19701\n",
      "20260 - 20286\n",
      "20719 - 20736\n",
      "20756 - 20768\n",
      "20829 - 20833\n",
      "21812 - 21829\n",
      "21844 - 21848\n",
      "21868 - 21877\n",
      "22002 - 22011\n",
      "22396 - 22406\n",
      "22618 - 22633\n",
      "22810 - 22817\n",
      "24032 - 24033\n",
      "24238 - 24254\n",
      "24642 - 24647\n",
      "24941 - 24954\n",
      "24992 - 25000\n",
      "25024 - 25040\n",
      "25198 - 25210\n",
      "25221 - 25229\n",
      "25232 - 25236\n",
      "25242 - 25246\n",
      "25275 - 25280\n",
      "25306 - 25314\n",
      "25380 - 25391\n",
      "25644 - 25654\n",
      "25755 - 25768\n",
      "25785 - 25791\n",
      "25999 - 26004\n",
      "26042 - 26052\n",
      "26181 - 26191\n",
      "26366 - 26370\n",
      "27043 - 27050\n",
      "27480 - 27488\n",
      "27512 - 27526\n",
      "27531 - 27537\n",
      "27830 - 27843\n",
      "27902 - 27913\n",
      "28243 - 28248\n",
      "28257 - 28269\n",
      "28581 - 28592\n",
      "28605 - 28612\n",
      "28621 - 28627\n",
      "29047 - 29051\n",
      "29067 - 29089\n",
      "29165 - 29171\n",
      "29892 - 29910\n",
      "30060 - 30066\n",
      "30103 - 30118\n",
      "30931 - 30939\n",
      "30981 - 31000\n",
      "31113 - 31130\n",
      "31266 - 31267\n",
      "31372 - 31384\n",
      "31937 - 31952\n",
      "32204 - 32217\n",
      "32675 - 32696\n",
      "32699 - 32705\n",
      "32886 - 32893\n",
      "32915 - 32918\n",
      "32925 - 32929\n",
      "32979 - 32986\n",
      "33427 - 33442\n",
      "33483 - 33484\n",
      "33705 - 33728\n",
      "33774 - 33784\n",
      "34796 - 34817\n",
      "35219 - 35225\n",
      "35624 - 35635\n",
      "35664 - 35669\n",
      "35805 - 35808\n",
      "36413 - 36420\n",
      "37423 - 37437\n",
      "37450 - 37453\n",
      "37479 - 37482\n",
      "37528 - 37548\n",
      "37612 - 37626\n",
      "37636 - 37638\n",
      "38085 - 38099\n",
      "38462 - 38478\n",
      "38841 - 38845\n",
      "39319 - 39321\n",
      "39752 - 39758\n",
      "40409 - 40423\n",
      "40504 - 40512\n",
      "40811 - 40818\n",
      "40833 - 40839\n",
      "40898 - 40918\n",
      "41136 - 41154\n",
      "41638 - 41645\n",
      "41676 - 41679\n",
      "41715 - 41721\n",
      "42051 - 42053\n",
      "42387 - 42399\n",
      "42598 - 42604\n",
      "43141 - 43145\n",
      "43227 - 43239\n",
      "43484 - 43510\n",
      "44589 - 44594\n",
      "44739 - 44746\n",
      "44923 - 44927\n",
      "44968 - 44975\n",
      "45008 - 45014\n",
      "45412 - 45416\n",
      "46424 - 46425\n",
      "47912 - 47914\n"
     ]
    }
   ],
   "source": [
    "for i, j in zip(start_idxs, stop_idxs):\n",
    "    print(f\"{i} - {j}\")"
   ]
  },
  {
   "cell_type": "code",
   "execution_count": 103,
   "id": "a04b7dc8",
   "metadata": {},
   "outputs": [],
   "source": [
    "def refine_start_stop(start, stop, deriv, cutoff):\n",
    "    # Refine start\n",
    "    start_search = deriv[:start]\n",
    "    below_cutoff = start_search <= cutoff\n",
    "    new_start = np.nonzero(below_cutoff)[0][-1]\n",
    "    # Refine stop\n",
    "    stop_search = deriv[stop:]\n",
    "    below_cutoff = stop_search >= -cutoff\n",
    "    new_stop = np.nonzero(below_cutoff)[0][0] + stop\n",
    "    \n",
    "    return (new_start, new_stop)"
   ]
  },
  {
   "cell_type": "code",
   "execution_count": 104,
   "id": "2a52ce9e",
   "metadata": {},
   "outputs": [
    {
     "data": {
      "text/plain": [
       "[(291, 336),\n",
       " (357, 377),\n",
       " (380, 400),\n",
       " (430, 448),\n",
       " (564, 584),\n",
       " (1187, 1213),\n",
       " (1261, 1288),\n",
       " (1366, 1381),\n",
       " (1388, 1402),\n",
       " (1402, 1429),\n",
       " (1445, 1469),\n",
       " (1571, 1590),\n",
       " (1859, 1883),\n",
       " (1900, 1924),\n",
       " (2118, 2139),\n",
       " (2491, 2514),\n",
       " (2520, 2539),\n",
       " (2565, 2604),\n",
       " (3132, 3163),\n",
       " (3202, 3222),\n",
       " (3486, 3508),\n",
       " (3510, 3548),\n",
       " (3550, 3572),\n",
       " (3653, 3675),\n",
       " (3676, 3693),\n",
       " (3714, 3731),\n",
       " (4037, 4066),\n",
       " (4075, 4103),\n",
       " (4137, 4156),\n",
       " (4182, 4208),\n",
       " (5315, 5338),\n",
       " (5438, 5473),\n",
       " (5546, 5573),\n",
       " (5581, 5603),\n",
       " (6176, 6198),\n",
       " (6636, 6656),\n",
       " (6664, 6688),\n",
       " (6696, 6735),\n",
       " (6921, 6958),\n",
       " (7469, 7498),\n",
       " (7531, 7557),\n",
       " (8598, 8621),\n",
       " (8662, 8684),\n",
       " (8857, 8880),\n",
       " (9490, 9530),\n",
       " (10110, 10133),\n",
       " (11243, 11274),\n",
       " (11324, 11346),\n",
       " (11360, 11387),\n",
       " (11980, 12005),\n",
       " (12022, 12045),\n",
       " (12579, 12605),\n",
       " (12609, 12629),\n",
       " (12866, 12894),\n",
       " (12970, 13003),\n",
       " (13267, 13291),\n",
       " (13340, 13356),\n",
       " (13473, 13495),\n",
       " (13623, 13645),\n",
       " (13801, 13824),\n",
       " (13828, 13851),\n",
       " (14198, 14226),\n",
       " (14565, 14613),\n",
       " (14685, 14708),\n",
       " (14855, 14881),\n",
       " (14978, 15008),\n",
       " (15009, 15029),\n",
       " (15462, 15484),\n",
       " (15485, 15507),\n",
       " (16253, 16273),\n",
       " (16556, 16581),\n",
       " (16583, 16606),\n",
       " (16721, 16744),\n",
       " (16770, 16797),\n",
       " (16867, 16895),\n",
       " (17222, 17255),\n",
       " (17536, 17565),\n",
       " (18254, 18277),\n",
       " (18281, 18297),\n",
       " (18713, 18735),\n",
       " (19202, 19224),\n",
       " (19686, 19708),\n",
       " (20250, 20293),\n",
       " (20711, 20743),\n",
       " (20749, 20772),\n",
       " (20821, 20840),\n",
       " (21809, 21833),\n",
       " (21836, 21855),\n",
       " (21860, 21886),\n",
       " (21995, 22017),\n",
       " (22387, 22415),\n",
       " (22605, 22640),\n",
       " (22802, 22824),\n",
       " (24022, 24042),\n",
       " (24232, 24256),\n",
       " (24639, 24661),\n",
       " (24932, 24958),\n",
       " (24981, 25009),\n",
       " (25016, 25049),\n",
       " (25190, 25214),\n",
       " (25216, 25230),\n",
       " (25230, 25237),\n",
       " (25239, 25253),\n",
       " (25264, 25286),\n",
       " (25297, 25322),\n",
       " (25372, 25399),\n",
       " (25636, 25661),\n",
       " (25747, 25775),\n",
       " (25776, 25800),\n",
       " (25991, 26012),\n",
       " (26032, 26058),\n",
       " (26172, 26198),\n",
       " (26358, 26378),\n",
       " (27034, 27057),\n",
       " (27474, 27495),\n",
       " (27503, 27528),\n",
       " (27528, 27539),\n",
       " (27821, 27852),\n",
       " (27894, 27919),\n",
       " (28235, 28250),\n",
       " (28254, 28274),\n",
       " (28574, 28598),\n",
       " (28599, 28613),\n",
       " (28617, 28637),\n",
       " (29039, 29058),\n",
       " (29060, 29094),\n",
       " (29158, 29174),\n",
       " (29884, 29916),\n",
       " (30050, 30073),\n",
       " (30094, 30123),\n",
       " (30919, 30947),\n",
       " (30973, 31007),\n",
       " (31105, 31133),\n",
       " (31254, 31277),\n",
       " (31367, 31395),\n",
       " (31926, 31958),\n",
       " (32195, 32225),\n",
       " (32662, 32697),\n",
       " (32697, 32712),\n",
       " (32876, 32900),\n",
       " (32902, 32921),\n",
       " (32921, 32936),\n",
       " (32972, 32995),\n",
       " (33422, 33450),\n",
       " (33475, 33488),\n",
       " (33697, 33733),\n",
       " (33767, 33792),\n",
       " (34785, 34826),\n",
       " (35210, 35233),\n",
       " (35616, 35641),\n",
       " (35657, 35678),\n",
       " (35796, 35817),\n",
       " (36402, 36428),\n",
       " (37415, 37444),\n",
       " (37444, 37457),\n",
       " (37468, 37491),\n",
       " (37519, 37557),\n",
       " (37605, 37629),\n",
       " (37631, 37652),\n",
       " (38078, 38104),\n",
       " (38454, 38488),\n",
       " (38832, 38858),\n",
       " (39310, 39331),\n",
       " (39744, 39763),\n",
       " (40402, 40428),\n",
       " (40494, 40519),\n",
       " (40796, 40822),\n",
       " (40825, 40848),\n",
       " (40889, 40928),\n",
       " (41125, 41157),\n",
       " (41628, 41653),\n",
       " (41666, 41687),\n",
       " (41707, 41728),\n",
       " (42041, 42062),\n",
       " (42380, 42415),\n",
       " (42587, 42616),\n",
       " (43132, 43153),\n",
       " (43220, 43248),\n",
       " (43477, 43514),\n",
       " (44581, 44602),\n",
       " (44730, 44755),\n",
       " (44909, 44935),\n",
       " (44960, 44983),\n",
       " (44999, 45022),\n",
       " (45404, 45424),\n",
       " (46414, 46439),\n",
       " (47903, 47916)]"
      ]
     },
     "execution_count": 104,
     "metadata": {},
     "output_type": "execute_result"
    }
   ],
   "source": [
    "transitions = []\n",
    "for start, stop in zip(start_idxs, stop_idxs):\n",
    "    trans = refine_start_stop(start, stop, deriv, cutoff=0.005)\n",
    "    transitions.append(trans)\n",
    "transitions"
   ]
  },
  {
   "cell_type": "code",
   "execution_count": 105,
   "id": "8b9db3e4",
   "metadata": {},
   "outputs": [
    {
     "name": "stdout",
     "output_type": "stream",
     "text": [
      "[    0     1     2 ... 48201 48202 48203]\n",
      "[0. 0. 0. ... 0. 0. 0.]\n",
      "[0. 0. 0. ... 0. 0. 0.]\n"
     ]
    }
   ],
   "source": [
    "refined_active = np.zeros(len(active_x))\n",
    "for trans in transitions:\n",
    "    refined_active[trans[0]: trans[1]] = 1\n",
    "    \n",
    "floored = np.copy(x)\n",
    "inactive_idxs = np.nonzero(refined_active == 0)[0]\n",
    "print(inactive_idxs)\n",
    "floored[inactive_idxs] = 0\n",
    "print(x)\n",
    "print(floored)"
   ]
  },
  {
   "cell_type": "code",
   "execution_count": 100,
   "id": "62ea11d5",
   "metadata": {},
   "outputs": [
    {
     "data": {
      "text/plain": [
       "[<matplotlib.lines.Line2D at 0x29486defa30>]"
      ]
     },
     "execution_count": 100,
     "metadata": {},
     "output_type": "execute_result"
    }
   ],
   "source": [
    "plt.plot(d)\n",
    "plt.plot(x)\n",
    "#plt.plot(active_x)\n",
    "plt.plot(refined_active)"
   ]
  },
  {
   "cell_type": "code",
   "execution_count": 106,
   "id": "29187b43",
   "metadata": {},
   "outputs": [
    {
     "data": {
      "text/plain": [
       "[<matplotlib.lines.Line2D at 0x29487206b50>]"
      ]
     },
     "execution_count": 106,
     "metadata": {},
     "output_type": "execute_result"
    }
   ],
   "source": [
    "plt.plot(x)\n",
    "plt.plot(floored)"
   ]
  },
  {
   "cell_type": "code",
   "execution_count": 93,
   "id": "a00b8a8d",
   "metadata": {},
   "outputs": [
    {
     "data": {
      "text/plain": [
       "1383.7189632270738"
      ]
     },
     "execution_count": 93,
     "metadata": {},
     "output_type": "execute_result"
    }
   ],
   "source": [
    "np.nansum(x)"
   ]
  },
  {
   "cell_type": "code",
   "execution_count": null,
   "id": "55cba510",
   "metadata": {},
   "outputs": [],
   "source": []
  }
 ],
 "metadata": {
  "kernelspec": {
   "display_name": "Python 3 (ipykernel)",
   "language": "python",
   "name": "python3"
  },
  "language_info": {
   "codemirror_mode": {
    "name": "ipython",
    "version": 3
   },
   "file_extension": ".py",
   "mimetype": "text/x-python",
   "name": "python",
   "nbconvert_exporter": "python",
   "pygments_lexer": "ipython3",
   "version": "3.8.18"
  }
 },
 "nbformat": 4,
 "nbformat_minor": 5
}
