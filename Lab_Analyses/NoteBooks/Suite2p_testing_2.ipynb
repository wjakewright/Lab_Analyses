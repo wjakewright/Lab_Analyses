{
 "cells": [
  {
   "cell_type": "code",
   "execution_count": 1,
   "id": "4f5451e1",
   "metadata": {},
   "outputs": [],
   "source": [
    "import numpy as np\n",
    "import pandas as pd\n",
    "import matplotlib.pyplot as plt\n",
    "import seaborn as sns\n",
    "\n",
    "from Lab_Analyses.Utilities.get_dFoF import get_dFoF\n",
    "%matplotlib notebook\n",
    "sns.set()\n",
    "sns.set_style(\"ticks\")"
   ]
  },
  {
   "cell_type": "code",
   "execution_count": 2,
   "id": "ab016580",
   "metadata": {},
   "outputs": [],
   "source": [
    "initial_path = r\"D:\\Suite2P_data\\paAIP2\"\n",
    "mouse_ids = [\"JW157\", \"JW158\", \"JW159\"]\n",
    "\n",
    "periods = [\"Early\", \"Middle\", \"Late\"]"
   ]
  },
  {
   "cell_type": "code",
   "execution_count": 4,
   "id": "8ae2584d",
   "metadata": {},
   "outputs": [],
   "source": [
    "import os\n",
    "ops_path = os.path.join(initial_path, mouse_ids[0], periods[0], \"JW157_230227_ops.npy\")\n",
    "ops = np.load(ops_path, allow_pickle=True)"
   ]
  },
  {
   "cell_type": "code",
   "execution_count": 7,
   "id": "56aeee55",
   "metadata": {},
   "outputs": [
    {
     "data": {
      "text/plain": [
       "{'suite2p_version': '0.12.0',\n",
       " 'look_one_level_down': 0.0,\n",
       " 'fast_disk': 'D:/Suite2P_data/paAIP2/JW157/Early',\n",
       " 'delete_bin': True,\n",
       " 'mesoscan': False,\n",
       " 'bruker': False,\n",
       " 'bruker_bidirectional': False,\n",
       " 'h5py': [],\n",
       " 'h5py_key': 'data',\n",
       " 'nwb_file': '',\n",
       " 'nwb_driver': '',\n",
       " 'nwb_series': '',\n",
       " 'save_path0': 'D:/Suite2P_data/paAIP2/JW157/Early',\n",
       " 'save_folder': 'suite2p',\n",
       " 'subfolders': [],\n",
       " 'move_bin': False,\n",
       " 'nplanes': 1,\n",
       " 'nchannels': 1,\n",
       " 'functional_chan': 1,\n",
       " 'tau': 1.25,\n",
       " 'fs': 30.0,\n",
       " 'force_sktiff': False,\n",
       " 'frames_include': -1,\n",
       " 'multiplane_parallel': 0.0,\n",
       " 'ignore_flyback': [],\n",
       " 'preclassify': 0.0,\n",
       " 'save_mat': True,\n",
       " 'save_NWB': 0.0,\n",
       " 'combined': 1.0,\n",
       " 'aspect': 1.0,\n",
       " 'do_bidiphase': False,\n",
       " 'bidiphase': 0.0,\n",
       " 'bidi_corrected': False,\n",
       " 'do_registration': 0,\n",
       " 'two_step_registration': 0.0,\n",
       " 'keep_movie_raw': False,\n",
       " 'nimg_init': 300,\n",
       " 'batch_size': 500,\n",
       " 'maxregshift': 0.1,\n",
       " 'align_by_chan': 1,\n",
       " 'reg_tif': False,\n",
       " 'reg_tif_chan2': False,\n",
       " 'subpixel': 10,\n",
       " 'smooth_sigma_time': 0.0,\n",
       " 'smooth_sigma': 1.15,\n",
       " 'th_badframes': 1.0,\n",
       " 'norm_frames': True,\n",
       " 'force_refImg': False,\n",
       " 'pad_fft': False,\n",
       " 'nonrigid': True,\n",
       " 'block_size': [128, 128],\n",
       " 'snr_thresh': 1.2,\n",
       " 'maxregshiftNR': 5.0,\n",
       " '1Preg': False,\n",
       " 'spatial_hp_reg': 42.0,\n",
       " 'pre_smooth': 0.0,\n",
       " 'spatial_taper': 40.0,\n",
       " 'roidetect': True,\n",
       " 'spikedetect': True,\n",
       " 'sparse_mode': True,\n",
       " 'spatial_scale': 2,\n",
       " 'connected': True,\n",
       " 'nbinned': 5000,\n",
       " 'max_iterations': 20,\n",
       " 'threshold_scaling': 0.6,\n",
       " 'max_overlap': 0.8,\n",
       " 'high_pass': 1000.0,\n",
       " 'spatial_hp_detect': 25.0,\n",
       " 'denoise': 1.0,\n",
       " 'anatomical_only': 0,\n",
       " 'diameter': 0,\n",
       " 'cellprob_threshold': 0.0,\n",
       " 'flow_threshold': 1.5,\n",
       " 'spatial_hp_cp': 0.0,\n",
       " 'pretrained_model': 'cyto',\n",
       " 'soma_crop': 1.0,\n",
       " 'neuropil_extract': True,\n",
       " 'inner_neuropil_radius': 5,\n",
       " 'min_neuropil_pixels': 350,\n",
       " 'lam_percentile': 50.0,\n",
       " 'allow_overlap': False,\n",
       " 'use_builtin_classifier': False,\n",
       " 'classifier_path': '',\n",
       " 'chan2_thres': 0.65,\n",
       " 'baseline': 'maximin',\n",
       " 'win_baseline': 60.0,\n",
       " 'sig_baseline': 10.0,\n",
       " 'prctile_baseline': 8.0,\n",
       " 'neucoeff': 0.6,\n",
       " 'data_path': ['D:/temp_data/Early/RedCh'],\n",
       " 'input_format': 'tif',\n",
       " 'save_path': 'D:/Suite2P_data/paAIP2/JW157/Early\\\\suite2p\\\\plane0',\n",
       " 'ops_path': 'D:/Suite2P_data/paAIP2/JW157/Early\\\\suite2p\\\\plane0\\\\ops.npy',\n",
       " 'reg_file': 'D:/Suite2P_data/paAIP2/JW157/Early\\\\suite2p\\\\plane0\\\\data.bin',\n",
       " 'first_tiffs': array([ True, False, False, False, False, False, False, False, False,\n",
       "        False, False, False, False, False, False, False, False, False,\n",
       "        False, False, False, False, False, False, False, False, False,\n",
       "        False, False, False, False, False, False, False, False, False,\n",
       "        False, False, False, False, False, False, False, False, False,\n",
       "        False, False, False, False, False, False, False, False, False,\n",
       "        False, False, False, False, False, False, False]),\n",
       " 'frames_per_folder': array([48677]),\n",
       " 'filelist': ['D:/temp_data/Early/RedCh\\\\JW157_0227_00001_00001_corrected.tif',\n",
       "  'D:/temp_data/Early/RedCh\\\\JW157_0227_00001_00002_corrected.tif',\n",
       "  'D:/temp_data/Early/RedCh\\\\JW157_0227_00001_00003_corrected.tif',\n",
       "  'D:/temp_data/Early/RedCh\\\\JW157_0227_00001_00004_corrected.tif',\n",
       "  'D:/temp_data/Early/RedCh\\\\JW157_0227_00001_00005_corrected.tif',\n",
       "  'D:/temp_data/Early/RedCh\\\\JW157_0227_00001_00006_corrected.tif',\n",
       "  'D:/temp_data/Early/RedCh\\\\JW157_0227_00001_00007_corrected.tif',\n",
       "  'D:/temp_data/Early/RedCh\\\\JW157_0227_00001_00008_corrected.tif',\n",
       "  'D:/temp_data/Early/RedCh\\\\JW157_0227_00001_00009_corrected.tif',\n",
       "  'D:/temp_data/Early/RedCh\\\\JW157_0227_00001_00010_corrected.tif',\n",
       "  'D:/temp_data/Early/RedCh\\\\JW157_0227_00001_00011_corrected.tif',\n",
       "  'D:/temp_data/Early/RedCh\\\\JW157_0227_00001_00012_corrected.tif',\n",
       "  'D:/temp_data/Early/RedCh\\\\JW157_0227_00001_00013_corrected.tif',\n",
       "  'D:/temp_data/Early/RedCh\\\\JW157_0227_00001_00014_corrected.tif',\n",
       "  'D:/temp_data/Early/RedCh\\\\JW157_0227_00001_00015_corrected.tif',\n",
       "  'D:/temp_data/Early/RedCh\\\\JW157_0227_00001_00016_corrected.tif',\n",
       "  'D:/temp_data/Early/RedCh\\\\JW157_0227_00001_00017_corrected.tif',\n",
       "  'D:/temp_data/Early/RedCh\\\\JW157_0227_00001_00018_corrected.tif',\n",
       "  'D:/temp_data/Early/RedCh\\\\JW157_0227_00001_00019_corrected.tif',\n",
       "  'D:/temp_data/Early/RedCh\\\\JW157_0227_00001_00020_corrected.tif',\n",
       "  'D:/temp_data/Early/RedCh\\\\JW157_0227_00001_00021_corrected.tif',\n",
       "  'D:/temp_data/Early/RedCh\\\\JW157_0227_00001_00022_corrected.tif',\n",
       "  'D:/temp_data/Early/RedCh\\\\JW157_0227_00001_00023_corrected.tif',\n",
       "  'D:/temp_data/Early/RedCh\\\\JW157_0227_00001_00024_corrected.tif',\n",
       "  'D:/temp_data/Early/RedCh\\\\JW157_0227_00001_00025_corrected.tif',\n",
       "  'D:/temp_data/Early/RedCh\\\\JW157_0227_00001_00026_corrected.tif',\n",
       "  'D:/temp_data/Early/RedCh\\\\JW157_0227_00001_00027_corrected.tif',\n",
       "  'D:/temp_data/Early/RedCh\\\\JW157_0227_00001_00028_corrected.tif',\n",
       "  'D:/temp_data/Early/RedCh\\\\JW157_0227_00001_00029_corrected.tif',\n",
       "  'D:/temp_data/Early/RedCh\\\\JW157_0227_00001_00030_corrected.tif',\n",
       "  'D:/temp_data/Early/RedCh\\\\JW157_0227_00001_00031_corrected.tif',\n",
       "  'D:/temp_data/Early/RedCh\\\\JW157_0227_00001_00032_corrected.tif',\n",
       "  'D:/temp_data/Early/RedCh\\\\JW157_0227_00001_00033_corrected.tif',\n",
       "  'D:/temp_data/Early/RedCh\\\\JW157_0227_00001_00034_corrected.tif',\n",
       "  'D:/temp_data/Early/RedCh\\\\JW157_0227_00001_00035_corrected.tif',\n",
       "  'D:/temp_data/Early/RedCh\\\\JW157_0227_00001_00036_corrected.tif',\n",
       "  'D:/temp_data/Early/RedCh\\\\JW157_0227_00001_00037_corrected.tif',\n",
       "  'D:/temp_data/Early/RedCh\\\\JW157_0227_00001_00038_corrected.tif',\n",
       "  'D:/temp_data/Early/RedCh\\\\JW157_0227_00001_00039_corrected.tif',\n",
       "  'D:/temp_data/Early/RedCh\\\\JW157_0227_00001_00040_corrected.tif',\n",
       "  'D:/temp_data/Early/RedCh\\\\JW157_0227_00001_00041_corrected.tif',\n",
       "  'D:/temp_data/Early/RedCh\\\\JW157_0227_00001_00042_corrected.tif',\n",
       "  'D:/temp_data/Early/RedCh\\\\JW157_0227_00001_00043_corrected.tif',\n",
       "  'D:/temp_data/Early/RedCh\\\\JW157_0227_00001_00044_corrected.tif',\n",
       "  'D:/temp_data/Early/RedCh\\\\JW157_0227_00001_00045_corrected.tif',\n",
       "  'D:/temp_data/Early/RedCh\\\\JW157_0227_00001_00046_corrected.tif',\n",
       "  'D:/temp_data/Early/RedCh\\\\JW157_0227_00001_00047_corrected.tif',\n",
       "  'D:/temp_data/Early/RedCh\\\\JW157_0227_00001_00048_corrected.tif',\n",
       "  'D:/temp_data/Early/RedCh\\\\JW157_0227_00001_00049_corrected.tif',\n",
       "  'D:/temp_data/Early/RedCh\\\\JW157_0227_00001_00050_corrected.tif',\n",
       "  'D:/temp_data/Early/RedCh\\\\JW157_0227_00001_00051_corrected.tif',\n",
       "  'D:/temp_data/Early/RedCh\\\\JW157_0227_00001_00052_corrected.tif',\n",
       "  'D:/temp_data/Early/RedCh\\\\JW157_0227_00001_00053_corrected.tif',\n",
       "  'D:/temp_data/Early/RedCh\\\\JW157_0227_00001_00054_corrected.tif',\n",
       "  'D:/temp_data/Early/RedCh\\\\JW157_0227_00001_00055_corrected.tif',\n",
       "  'D:/temp_data/Early/RedCh\\\\JW157_0227_00001_00056_corrected.tif',\n",
       "  'D:/temp_data/Early/RedCh\\\\JW157_0227_00001_00057_corrected.tif',\n",
       "  'D:/temp_data/Early/RedCh\\\\JW157_0227_00001_00058_corrected.tif',\n",
       "  'D:/temp_data/Early/RedCh\\\\JW157_0227_00001_00059_corrected.tif',\n",
       "  'D:/temp_data/Early/RedCh\\\\JW157_0227_00001_00060_corrected.tif',\n",
       "  'D:/temp_data/Early/RedCh\\\\JW157_0227_00001_00061_corrected.tif'],\n",
       " 'nframes': 48677,\n",
       " 'frames_per_file': array([800, 800, 800, 800, 800, 800, 800, 800, 800, 800, 800, 800, 800,\n",
       "        800, 800, 800, 800, 800, 800, 800, 800, 800, 800, 800, 800, 800,\n",
       "        800, 800, 800, 800, 800, 800, 800, 800, 800, 800, 800, 800, 800,\n",
       "        800, 800, 800, 800, 800, 800, 800, 800, 800, 800, 800, 800, 800,\n",
       "        800, 800, 800, 800, 800, 800, 800, 800, 677]),\n",
       " 'meanImg': array([[ 0.7318446,  3.022947 ,  3.1754627, ...,  3.1250694,  3.0610554,\n",
       "          2.4121454],\n",
       "        [ 1.753703 ,  7.4625387,  7.626703 , ...,  7.5067077,  7.338743 ,\n",
       "          5.790661 ],\n",
       "        [ 1.9862975, 11.555765 , 12.594387 , ..., 12.7872095, 12.723237 ,\n",
       "         10.746964 ],\n",
       "        ...,\n",
       "        [ 3.625018 , 24.857182 , 43.345894 , ..., 51.664604 , 51.41395  ,\n",
       "         48.066254 ],\n",
       "        [ 3.34883  , 23.911457 , 41.527004 , ..., 54.042896 , 53.878075 ,\n",
       "         49.95339  ],\n",
       "        [ 2.6977832, 21.409988 , 39.043697 , ..., 49.47692  , 48.470448 ,\n",
       "         45.322124 ]], dtype=float32),\n",
       " 'Ly': 512,\n",
       " 'Lx': 512,\n",
       " 'yrange': array([  0, 512]),\n",
       " 'xrange': array([  0, 512]),\n",
       " 'date_proc': datetime.datetime(2023, 7, 28, 15, 1, 1, 496729, tzinfo=datetime.timezone(datetime.timedelta(days=-1, seconds=61200), 'Pacific Daylight Time')),\n",
       " 'Lyc': 512,\n",
       " 'Lxc': 512,\n",
       " 'max_proj': array([[11.844937, 40.15643 , 41.442295, ..., 39.418926, 40.16292 ,\n",
       "         33.80625 ],\n",
       "        [24.235922, 35.91103 , 36.392033, ..., 35.40764 , 34.676163,\n",
       "         32.0971  ],\n",
       "        [28.37748 , 29.764729, 29.868359, ..., 28.80678 , 27.850492,\n",
       "         28.429197],\n",
       "        ...,\n",
       "        [43.55864 , 39.037888, 24.532084, ..., 10.246834,  9.771046,\n",
       "         18.616402],\n",
       "        [39.952656, 36.22184 , 23.675798, ..., 10.827415,  9.318184,\n",
       "         16.293785],\n",
       "        [35.09323 , 38.595818, 25.922169, ..., 17.208138, 15.333912,\n",
       "         20.07911 ]], dtype=float32),\n",
       " 'Vmax': array([443.35491943, 386.47463989, 380.62487793, ...,   7.13720655,\n",
       "          7.13720655,   7.13700342]),\n",
       " 'ihop': array([2., 2., 2., ..., 0., 0., 2.]),\n",
       " 'Vsplit': array([1.03170574, 1.00887418, 1.01417649, ..., 1.27286053, 1.        ,\n",
       "        1.91710901]),\n",
       " 'Vcorr': array([[38.05828094, 38.05828094, 42.30399966, ..., 45.29036092,\n",
       "         40.76896286, 40.76896286],\n",
       "        [38.05828094, 38.05828094, 42.30399966, ..., 45.29036092,\n",
       "         40.76896286, 40.76896286],\n",
       "        [39.69789824, 39.69789824, 46.50899319, ..., 49.9704835 ,\n",
       "         41.82351586, 39.79810787],\n",
       "        ...,\n",
       "        [25.20318821, 28.25447845, 23.92195507, ...,  7.69174062,\n",
       "          7.11530863,  5.33388935],\n",
       "        [22.19013214, 28.74640656, 20.72829799, ...,  8.16204666,\n",
       "          7.32922638,  6.49766922],\n",
       "        [17.43867493, 19.38428879, 16.53537044, ...,  7.68513526,\n",
       "          6.54113633,  4.81194925]]),\n",
       " 'Vmap': [array([[ 46.7474  , 104.34774 , 127.19102 , ..., 135.91953 , 122.647644,\n",
       "           73.83063 ],\n",
       "         [ 82.11789 , 144.34158 , 178.7802  , ..., 188.40953 , 169.00032 ,\n",
       "           97.96318 ],\n",
       "         [ 76.20629 , 130.66086 , 174.35695 , ..., 182.37457 , 161.1934  ,\n",
       "           85.36029 ],\n",
       "         ...,\n",
       "         [ 94.003685, 114.36153 ,  50.065605, ...,   0.      ,   0.      ,\n",
       "            0.      ],\n",
       "         [ 90.74263 , 114.80713 ,  60.582817, ...,   0.      ,  27.703884,\n",
       "           25.165363],\n",
       "         [ 57.311462,  75.07503 ,  43.06768 , ...,   0.      ,   0.      ,\n",
       "            0.      ]], dtype=float32),\n",
       "  array([[118.089005, 193.4636  , 214.75514 , ..., 228.27618 , 216.2709  ,\n",
       "          131.00537 ],\n",
       "         [157.27708 , 247.21776 , 260.20102 , ..., 279.40982 , 267.98074 ,\n",
       "          168.68645 ],\n",
       "         [125.91522 , 178.87077 , 169.1363  , ..., 185.91336 , 190.02834 ,\n",
       "          119.38538 ],\n",
       "         ...,\n",
       "         [ 99.57738 ,  63.25985 ,   0.      , ...,   0.      ,   0.      ,\n",
       "            0.      ],\n",
       "         [102.21249 ,  77.65702 ,   0.      , ...,   0.      ,  24.99692 ,\n",
       "            0.      ],\n",
       "         [ 67.539696,  53.80365 ,   0.      , ...,   0.      ,  28.92655 ,\n",
       "            0.      ]], dtype=float32),\n",
       "  array([[166.4812  , 252.77068 , 251.02734 , ..., 271.29495 , 270.9374  ,\n",
       "          172.75479 ],\n",
       "         [124.961784, 161.65831 , 109.755226, ..., 155.92355 , 146.81021 ,\n",
       "           90.95056 ],\n",
       "         [ 23.929363,  27.621424,  47.499615, ...,  29.313559,  32.563934,\n",
       "            0.      ],\n",
       "         ...,\n",
       "         [ 51.615143,  14.406639,  10.983885, ...,  20.036224,   0.      ,\n",
       "            0.      ],\n",
       "         [ 54.04304 ,  25.702684,  27.492561, ...,   0.      ,   0.      ,\n",
       "            0.      ],\n",
       "         [ 39.47441 ,  23.459753,   0.      , ...,   0.      ,   0.      ,\n",
       "            0.      ]], dtype=float32),\n",
       "  array([[ 59.955948, 101.99047 ,  75.94069 , ...,  88.397316,  80.65761 ,\n",
       "           42.28764 ],\n",
       "         [ 68.890144,  98.93301 ,  44.836697, ...,  83.56609 ,  77.526566,\n",
       "           26.862244],\n",
       "         [  0.      ,   6.362096, 108.21219 , ...,  39.69525 ,  68.47153 ,\n",
       "           11.465706],\n",
       "         ...,\n",
       "         [  0.      ,  26.39761 ,   0.      , ...,   0.      ,   0.      ,\n",
       "            0.      ],\n",
       "         [  0.      ,  26.057577,   0.      , ...,   0.      ,   0.      ,\n",
       "            0.      ],\n",
       "         [  0.      ,   0.      ,   0.      , ...,   0.      ,   0.      ,\n",
       "            0.      ]], dtype=float32),\n",
       "  array([[ 58.13483 ,  92.06237 ,  62.047012, ...,  69.90444 ,  72.96925 ,\n",
       "           39.092728],\n",
       "         [ 80.23703 , 114.23182 ,  63.8965  , ...,  57.504562,  88.97785 ,\n",
       "           33.43448 ],\n",
       "         [  0.      ,   0.      ,   0.      , ...,   0.      ,   0.      ,\n",
       "            0.      ],\n",
       "         ...,\n",
       "         [  0.      ,  29.443663,   0.      , ...,   0.      ,   0.      ,\n",
       "            0.      ],\n",
       "         [ 31.965677,  34.953503,   0.      , ...,   0.      ,   0.      ,\n",
       "            0.      ],\n",
       "         [ 23.977604,  24.466608,   0.      , ...,   0.      ,   0.      ,\n",
       "            0.      ]], dtype=float32)],\n",
       " 'spatscale_pix': 12,\n",
       " 'timing': {'detection': 369.1262695789337,\n",
       "  'extraction': 335.3779468536377,\n",
       "  'classification': 0.031243085861206055,\n",
       "  'deconvolution': 7.394759654998779,\n",
       "  'total_plane_runtime': 742.4047393798828}}"
      ]
     },
     "execution_count": 7,
     "metadata": {},
     "output_type": "execute_result"
    }
   ],
   "source": [
    "ops.item()"
   ]
  },
  {
   "cell_type": "code",
   "execution_count": null,
   "id": "5b9d836e",
   "metadata": {},
   "outputs": [],
   "source": [
    "import os\n",
    "F = {}\n",
    "iscell = {}\n",
    "ops = {}\n",
    "for mouse in mouse_ids:\n",
    "    mouse_f = {}\n",
    "    mouse_cell = {}\n",
    "    mouse_ops = {}\n",
    "    for period in periods:\n",
    "        load_path = os.path.join(initial_path, mouse, period, \"suite2p\", \"plane0\")\n",
    "        f_name = os.path.join(load_path, \"F.npy\")\n",
    "        cell_name = os.path.join(load_path, \"iscell.npy\")\n",
    "        ops_name = os.path.join(load_path, \"stat.npy\")\n",
    "        f = np.load(f_name)\n",
    "        cell = np.load(cell_name)[:, 0].astype(int)\n",
    "        cell = cell.astype(bool)\n",
    "        ops_n = np.load(ops_name, allow_pickle=True)\n",
    "        mouse_f[period] = f\n",
    "        mouse_cell[period] = cell\n",
    "        mouse_ops[period] = ops_n\n",
    "    F[mouse] = mouse_f\n",
    "    iscell[mouse] = mouse_cell\n",
    "    ops[mouse] = mouse_ops"
   ]
  },
  {
   "cell_type": "code",
   "execution_count": null,
   "id": "59192bce",
   "metadata": {},
   "outputs": [],
   "source": [
    "a = ops[\"JW157\"][\"Early\"]\n",
    "a[iscell[\"JW157\"][\"Early\"]][0][\"med\"]"
   ]
  },
  {
   "cell_type": "code",
   "execution_count": null,
   "id": "7fb71b60",
   "metadata": {},
   "outputs": [],
   "source": [
    "fluorescence = {}\n",
    "for key, value in F.items():\n",
    "    new_f = {}\n",
    "    for period, data in value.items():\n",
    "        cells = iscell[key][period]\n",
    "        f_cells = data[cells]\n",
    "        new_f[period] = f_cells.T\n",
    "    fluorescence[key] = new_f\n",
    "        "
   ]
  },
  {
   "cell_type": "code",
   "execution_count": null,
   "id": "750f2f11",
   "metadata": {},
   "outputs": [],
   "source": [
    "dFoF = {}\n",
    "processed_dFoF = {}\n",
    "for key, value in fluorescence.items():\n",
    "    new_d = {}\n",
    "    new_pd = {}\n",
    "    for period, data in value.items():\n",
    "        d = np.zeros(data.shape)\n",
    "        pd = np.zeros(data.shape)\n",
    "        for i in range(data.shape[1]):\n",
    "            x, y, _ = get_dFoF(data[:, i], 30, 0.5, None, None)\n",
    "            d[:, i] = x\n",
    "            pd[:, i] = y\n",
    "        new_d[period] = d\n",
    "        new_pd[period] = pd\n",
    "    dFoF[key] = new_d\n",
    "    processed_dFoF[key] = new_pd\n",
    "    "
   ]
  },
  {
   "cell_type": "code",
   "execution_count": null,
   "id": "2f7ee327",
   "metadata": {},
   "outputs": [],
   "source": [
    "counts = np.zeros((3,4))\n",
    "counts"
   ]
  },
  {
   "cell_type": "code",
   "execution_count": null,
   "id": "99c0115f",
   "metadata": {},
   "outputs": [],
   "source": [
    "for col, (key, value) in enumerate(dFoF.items()):\n",
    "    for row, (k, v) in enumerate(value.items()):\n",
    "        counts[row, col] = v.shape[1]"
   ]
  },
  {
   "cell_type": "code",
   "execution_count": null,
   "id": "cbba87e6",
   "metadata": {},
   "outputs": [],
   "source": [
    "count_dict = {\"paAIP2\": counts}"
   ]
  },
  {
   "cell_type": "code",
   "execution_count": null,
   "id": "89946366",
   "metadata": {},
   "outputs": [],
   "source": [
    "from Lab_Analyses.Plotting.plot_multi_line_plot import plot_multi_line_plot"
   ]
  },
  {
   "cell_type": "code",
   "execution_count": null,
   "id": "109ac0f6",
   "metadata": {},
   "outputs": [],
   "source": [
    "\n",
    "plot_multi_line_plot(\n",
    "    count_dict,\n",
    "    x_vals = [0, 1, 2],\n",
    "    plot_ind=True,\n",
    "    figsize=(4,3),\n",
    "    title=None,\n",
    "    ytitle=\"Number of detected cells\",\n",
    "    xtitle=\"Imaging session\",\n",
    "    ylim=(0,300),\n",
    "    line_color=\"mediumblue\",\n",
    "    face_color=\"white\",\n",
    "    m_size=7,\n",
    "    linewidth=1.5,\n",
    "    linestyle=\"-\",\n",
    "    axis_width=1.5,\n",
    "    minor_ticks=\"y\",\n",
    "    tick_len=3,\n",
    "    ax=None,\n",
    "    legend=False,\n",
    "    save=False,\n",
    "    save_path=None\n",
    ")"
   ]
  },
  {
   "cell_type": "code",
   "execution_count": null,
   "id": "906f20ee",
   "metadata": {},
   "outputs": [],
   "source": [
    "plot_data = processed_dFoF[\"JW156\"][\"Late\"]"
   ]
  },
  {
   "cell_type": "code",
   "execution_count": null,
   "id": "ba90820b",
   "metadata": {
    "scrolled": false
   },
   "outputs": [],
   "source": [
    "%matplotlib qt\n",
    "fig, ax = plt.subplots(figsize=(8,10))\n",
    "\n",
    "for i in range(50):\n",
    "    x = np.linspace(0, len(plot_data[5000:50000, i]) / 30, len(plot_data[5000:50000, i]))\n",
    "    ax.plot(x, plot_data[5000:50000, i] + i, linewidth=0.5)\n",
    "\n",
    "plt.xlabel(\"Time (s)\")\n",
    "plt.ylabel(\"Cell number\")\n",
    "plt.xlim(0, 1000)\n",
    "plt.tick_params(left=False) \n",
    "ax.set_yticklabels([])\n",
    "sns.despine(top=True, right=True, left=True, bottom=False)"
   ]
  },
  {
   "cell_type": "code",
   "execution_count": null,
   "id": "4c69bea8",
   "metadata": {},
   "outputs": [],
   "source": [
    "from Lab_Analyses.Population_Analysis.preprocess_population_data import organize_population_data"
   ]
  },
  {
   "cell_type": "code",
   "execution_count": null,
   "id": "51c87880",
   "metadata": {},
   "outputs": [],
   "source": [
    "organize_population_data(\n",
    "    mouse_id=\"JW157\",\n",
    "    roi_match=False,\n",
    "    sensor=\"RCaMP2\",\n",
    "    zoom_factor=2,\n",
    "    deconvolve=True,\n",
    "    reprocess=True,\n",
    "    save=True,\n",
    ")"
   ]
  },
  {
   "cell_type": "code",
   "execution_count": null,
   "id": "b0c0195e",
   "metadata": {},
   "outputs": [],
   "source": [
    "import numpy as np\n",
    "a = np.array([0,0,0,0,0,0,1,0,0])\n",
    "np.nonzero((a[1:] > 0).astype(int) & (a[:-1] < 1).astype(int))[0]"
   ]
  },
  {
   "cell_type": "code",
   "execution_count": null,
   "id": "519cf008",
   "metadata": {},
   "outputs": [],
   "source": [
    "from Lab_Analyses.Utilities.save_load_pickle import load_pickle"
   ]
  },
  {
   "cell_type": "code",
   "execution_count": null,
   "id": "e99324b2",
   "metadata": {},
   "outputs": [],
   "source": [
    "data = load_pickle([r\"C:\\Users\\Jake\\Desktop\\Analyzed_data\\individual\\JW157\\population_data\\JW157_Early_population_data\"])[0]"
   ]
  },
  {
   "cell_type": "code",
   "execution_count": null,
   "id": "ec2c3bec",
   "metadata": {},
   "outputs": [],
   "source": [
    "spikes = data.estimated_spikes"
   ]
  },
  {
   "cell_type": "code",
   "execution_count": null,
   "id": "df6e5eee",
   "metadata": {},
   "outputs": [],
   "source": [
    "dFoF = data.processed_dFoF"
   ]
  },
  {
   "cell_type": "code",
   "execution_count": null,
   "id": "eba65209",
   "metadata": {},
   "outputs": [],
   "source": [
    "import matplotlib.pyplot as plt\n",
    "%matplotlib notebook"
   ]
  },
  {
   "cell_type": "code",
   "execution_count": null,
   "id": "f9e15eaa",
   "metadata": {},
   "outputs": [],
   "source": [
    "plt.figure()\n",
    "plt.plot(spikes[28000:30000, 0])\n",
    "plt.figure()\n",
    "plt.plot(dFoF[28000:30000, 0])"
   ]
  },
  {
   "cell_type": "code",
   "execution_count": null,
   "id": "2f392c98",
   "metadata": {},
   "outputs": [],
   "source": [
    "from scipy.ndimage import uniform_filter1d"
   ]
  },
  {
   "cell_type": "code",
   "execution_count": null,
   "id": "d1399eac",
   "metadata": {},
   "outputs": [],
   "source": [
    "binned_spikes = uniform_filter1d(spikes, 6, axis=0)"
   ]
  },
  {
   "cell_type": "code",
   "execution_count": null,
   "id": "de508f7b",
   "metadata": {},
   "outputs": [],
   "source": [
    "plt.figure()\n",
    "plt.plot(binned_spikes[28000:30000, 0])"
   ]
  },
  {
   "cell_type": "code",
   "execution_count": null,
   "id": "82d39ac7",
   "metadata": {},
   "outputs": [],
   "source": [
    "from skimage.measure import block_reduce\n",
    "import numpy as np\n",
    "\n",
    "ds_spikes = block_reduce(spikes[:, 0].reshape(-1,1), block_size=(6,1), func=np.mean)"
   ]
  },
  {
   "cell_type": "code",
   "execution_count": null,
   "id": "607259a7",
   "metadata": {},
   "outputs": [],
   "source": [
    "plt.figure()\n",
    "plt.plot(ds_spikes)"
   ]
  },
  {
   "cell_type": "code",
   "execution_count": null,
   "id": "8aa85c43",
   "metadata": {},
   "outputs": [],
   "source": [
    "from Lab_Analyses.Utilities.event_detection import event_detection"
   ]
  },
  {
   "cell_type": "code",
   "execution_count": null,
   "id": "a169a7a5",
   "metadata": {},
   "outputs": [],
   "source": [
    "activity_dFoF, _, _ = event_detection(dFoF, threshold=3, lower_threshold=1, lower_limit=0, sampling_rate=30, filt_poly=3, sec_smooth=1)"
   ]
  },
  {
   "cell_type": "code",
   "execution_count": null,
   "id": "369cd91a",
   "metadata": {},
   "outputs": [],
   "source": [
    "activity_spikes, _, _ = event_detection(binned_spikes, threshold=3, lower_threshold=1, lower_limit=0, sampling_rate=30, filt_poly=3, sec_smooth=1)"
   ]
  },
  {
   "cell_type": "code",
   "execution_count": null,
   "id": "a2522860",
   "metadata": {},
   "outputs": [],
   "source": [
    "from Lab_Analyses.Utilities import data_utilities as d_utils\n",
    "\n",
    "norm_spikes = d_utils.peak_normalize_data(binned_spikes)\n",
    "norm_dFoF = d_utils.peak_normalize_data(dFoF)"
   ]
  },
  {
   "cell_type": "code",
   "execution_count": null,
   "id": "98bd56b9",
   "metadata": {},
   "outputs": [],
   "source": [
    "z_spikes = d_utils.z_score(spikes)\n",
    "norm_z = d_utils.peak_normalize_data(z_spikes)"
   ]
  },
  {
   "cell_type": "code",
   "execution_count": null,
   "id": "629f48da",
   "metadata": {},
   "outputs": [],
   "source": [
    "import scipy.signal as sysignal\n",
    "plt.figure()\n",
    "plt.plot(norm_spikes[:, 0])\n",
    "plt.plot(norm_dFoF[:, 0])\n",
    "plt.plot(sysignal.savgol_filter(norm_spikes[:, 0], 31, 3), color=\"black\")\n",
    "plt.plot(sysignal.savgol_filter(sysignal.savgol_filter(norm_spikes[:, 0], 31, 3), 15, 2), color=\"blue\")\n",
    "#plt.plot(norm_z[:, 0], color=\"red\")"
   ]
  },
  {
   "cell_type": "code",
   "execution_count": null,
   "id": "d3020fc9",
   "metadata": {},
   "outputs": [],
   "source": [
    "a = [\"JW156\", \"JW157\"]\n",
    "b = [\"JW160\", \"JW161\"]\n",
    "c = a + b\n",
    "c"
   ]
  },
  {
   "cell_type": "code",
   "execution_count": null,
   "id": "d3939d21",
   "metadata": {},
   "outputs": [],
   "source": [
    "a = []\n",
    "\n",
    "for i in a:\n",
    "    print(i)"
   ]
  },
  {
   "cell_type": "code",
   "execution_count": null,
   "id": "57b87566",
   "metadata": {},
   "outputs": [],
   "source": [
    "len(a) / 5"
   ]
  },
  {
   "cell_type": "code",
   "execution_count": null,
   "id": "282a6abe",
   "metadata": {},
   "outputs": [],
   "source": [
    "if not len(a):\n",
    "    print(\"empty\")"
   ]
  },
  {
   "cell_type": "code",
   "execution_count": 1,
   "id": "529d49cd",
   "metadata": {},
   "outputs": [],
   "source": [
    "from Lab_Analyses.Utilities.save_load_pickle import load_pickle"
   ]
  },
  {
   "cell_type": "code",
   "execution_count": 2,
   "id": "e2ed69d9",
   "metadata": {},
   "outputs": [],
   "source": [
    "fname = r\"C:\\Users\\Jake\\Desktop\\Analyzed_data\\individual\\JW092\\spine_data\\FOV1_apical\\JW092_FOV1_apical_Early_dual_spine_data\""
   ]
  },
  {
   "cell_type": "code",
   "execution_count": 3,
   "id": "71c39d4c",
   "metadata": {},
   "outputs": [],
   "source": [
    "data = load_pickle([fname])[0]"
   ]
  },
  {
   "cell_type": "code",
   "execution_count": 4,
   "id": "d52598e4",
   "metadata": {},
   "outputs": [],
   "source": [
    "spine_activity = data.spine_GluSnFr_activity\n",
    "spine_groupings = data.spine_groupings"
   ]
  },
  {
   "cell_type": "code",
   "execution_count": 5,
   "id": "6384e3e3",
   "metadata": {},
   "outputs": [],
   "source": [
    "flags = data.spine_flags\n",
    "\n",
    "from Lab_Analyses.Spine_Analysis_v2.spine_utilities import find_present_spines\n",
    "present = find_present_spines(flags)"
   ]
  },
  {
   "cell_type": "code",
   "execution_count": 6,
   "id": "ebdffcc5",
   "metadata": {},
   "outputs": [
    {
     "name": "stdout",
     "output_type": "stream",
     "text": [
      "[]\n",
      "[2, 3, 6]\n",
      "[1, 3, 4, 5, 7]\n",
      "[1, 2, 4, 5, 6]\n",
      "[2, 3, 5, 7, 8, 9]\n",
      "[2, 3, 4, 7, 8, 9]\n",
      "[1, 3]\n",
      "[2, 4, 5, 8, 9]\n",
      "[4, 5, 7, 9]\n",
      "[4, 5, 7, 8]\n",
      "[1, 2, 3, 4]\n",
      "[0, 2, 3, 4]\n",
      "[0, 1, 3, 4]\n",
      "[0, 1, 2, 4]\n",
      "[0, 1, 2, 3, 5, 6]\n",
      "[4, 6, 7]\n",
      "[4, 5, 7]\n",
      "[5, 6, 8, 9, 11]\n",
      "[7, 9, 10, 11]\n",
      "[7, 8, 10, 11, 12, 26]\n",
      "[8, 9, 11, 12, 13, 23, 26]\n",
      "[7, 8, 9, 10, 12, 13, 26]\n",
      "[9, 10, 11, 13, 23, 26]\n",
      "[10, 11, 12, 14, 23, 24, 25, 26]\n",
      "[13, 15, 16, 23, 24, 25]\n",
      "[14, 16, 24, 25]\n",
      "[14, 15, 17]\n",
      "[16, 18]\n",
      "[17, 19]\n",
      "[18]\n",
      "[21, 22]\n",
      "[20, 22]\n",
      "[20, 21]\n",
      "[10, 12, 13, 14, 24, 25, 26]\n",
      "[13, 14, 15, 23, 25]\n",
      "[13, 14, 15, 23, 24]\n",
      "[9, 10, 11, 12, 13, 23]\n",
      "[2]\n",
      "[2, 3, 4, 5, 6]\n",
      "[0, 1, 3, 4, 6]\n",
      "[1, 2, 4, 5, 6]\n",
      "[1, 2, 3, 5, 6]\n",
      "[1, 3, 4, 6, 7]\n",
      "[1, 2, 3, 4, 5, 7]\n",
      "[5, 6, 8]\n",
      "[7, 9, 10, 11]\n",
      "[8, 10, 11, 12, 14]\n",
      "[8, 9, 11, 12, 14]\n",
      "[8, 9, 10, 12, 13, 14]\n",
      "[9, 10, 11, 13, 14, 15]\n",
      "[11, 12, 14, 15, 16]\n",
      "[9, 10, 11, 12, 13]\n",
      "[12, 13, 16, 17]\n",
      "[13, 15, 17]\n",
      "[15, 16, 18]\n",
      "[17]\n"
     ]
    }
   ],
   "source": [
    "positions = data.spine_positions\n",
    "from Lab_Analyses.Spine_Analysis_v2.spine_utilities import find_nearby_spines\n",
    "\n",
    "nearby_spine_idxs = find_nearby_spines(positions, flags, spine_groupings, None, 5)"
   ]
  },
  {
   "cell_type": "code",
   "execution_count": 11,
   "id": "086d80a4",
   "metadata": {},
   "outputs": [
    {
     "name": "stdout",
     "output_type": "stream",
     "text": [
      "[array([], dtype=int32), array([2, 3, 6]), array([1, 3, 4, 5, 7]), array([1, 2, 4, 5, 6]), array([2, 3, 5, 7, 8, 9]), array([2, 3, 4, 7, 8, 9]), array([1, 3]), array([2, 4, 5, 8, 9]), array([4, 5, 7, 9]), array([4, 5, 7, 8]), array([11, 12, 13, 14]), array([10, 12, 13, 14]), array([10, 11, 13, 14]), array([10, 11, 12, 14]), array([10, 11, 12, 13, 15, 16]), array([14, 16, 17]), array([14, 15, 17]), array([15, 16, 18, 19, 21]), array([17, 19, 20, 21]), array([17, 18, 20, 21, 22, 55]), array([18, 19, 21, 22, 23, 33, 55]), array([17, 18, 19, 20, 22, 23, 55]), array([19, 20, 21, 23, 33, 55]), array([20, 21, 22, 24, 33, 34, 35, 55]), array([23, 25, 26, 33, 34, 35]), array([24, 26, 34, 35]), array([24, 25, 27]), array([26, 28]), array([27, 29]), array([28]), array([31, 32]), array([30, 32]), array([30, 31]), array([20, 22, 23, 24, 34, 35, 55]), array([23, 24, 25, 33, 35]), array([23, 24, 25, 33, 34]), array([38]), array([38, 39, 40, 41, 42]), array([36, 37, 39, 40, 42]), array([37, 38, 40, 41, 42]), array([37, 38, 39, 41, 42]), array([37, 39, 40, 42, 43]), array([37, 38, 39, 40, 41, 43]), array([41, 42, 44]), array([43, 45, 46, 47]), array([44, 46, 47, 48, 50]), array([44, 45, 47, 48, 50]), array([44, 45, 46, 48, 49, 50]), array([45, 46, 47, 49, 50, 51]), array([47, 48, 50, 51, 52]), array([45, 46, 47, 48, 49]), array([48, 49, 52, 53]), array([49, 51, 53]), array([51, 52, 54]), array([53]), array([19, 20, 21, 22, 23, 33]), None, None, None, None, None, None, None, None, None, None, None, None, None, None, None, None, None, None, None, None, None, None, None, None, None, None, None, None, None, None, None]\n",
      "[[0, 1, 2, 3, 4, 5, 6, 7, 8, 9], [10, 11, 12, 13, 14, 15, 16, 17, 18, 19, 20, 21, 22, 23, 24, 25, 26, 27, 28, 29, 30, 31, 32, 33, 34, 35, 55], [36, 37, 38, 39, 40, 41, 42, 43, 44, 45, 46, 47, 48, 49, 50, 51, 52, 53, 54]]\n"
     ]
    },
    {
     "data": {
      "text/plain": [
       "0"
      ]
     },
     "execution_count": 11,
     "metadata": {},
     "output_type": "execute_result"
    }
   ],
   "source": [
    "print(nearby_spine_idxs)\n",
    "print(spine_groupings)\n",
    "len(nearby_spine_idxs[0])"
   ]
  },
  {
   "cell_type": "code",
   "execution_count": 10,
   "id": "ef4f6776",
   "metadata": {},
   "outputs": [
    {
     "name": "stdout",
     "output_type": "stream",
     "text": [
      "0 has no neighbors\n",
      "56 has no neighbors\n",
      "57 has no neighbors\n",
      "58 has no neighbors\n",
      "59 has no neighbors\n",
      "60 has no neighbors\n",
      "61 has no neighbors\n",
      "62 has no neighbors\n",
      "63 has no neighbors\n",
      "64 has no neighbors\n",
      "65 has no neighbors\n",
      "66 has no neighbors\n",
      "67 has no neighbors\n",
      "68 has no neighbors\n",
      "69 has no neighbors\n",
      "70 has no neighbors\n",
      "71 has no neighbors\n",
      "72 has no neighbors\n",
      "73 has no neighbors\n",
      "74 has no neighbors\n",
      "75 has no neighbors\n",
      "76 has no neighbors\n",
      "77 has no neighbors\n",
      "78 has no neighbors\n",
      "79 has no neighbors\n",
      "80 has no neighbors\n",
      "81 has no neighbors\n",
      "82 has no neighbors\n",
      "83 has no neighbors\n",
      "84 has no neighbors\n",
      "85 has no neighbors\n",
      "86 has no neighbors\n"
     ]
    }
   ],
   "source": [
    "for spine in range(spine_activity.shape[1]):\n",
    "    if (nearby_spine_idxs[spine] is None) or (len(nearby_spine_idxs[spine]) == 0):\n",
    "        print(f\"{spine} has no neighbors\")\n"
   ]
  },
  {
   "cell_type": "code",
   "execution_count": 16,
   "id": "4d132397",
   "metadata": {},
   "outputs": [
    {
     "data": {
      "text/plain": [
       "array([[0., 0., 0., 0., 0., 0., 0., 0., 0., 0.],\n",
       "       [0., 0., 0., 0., 0., 0., 0., 0., 0., 0.],\n",
       "       [0., 0., 0., 0., 0., 0., 0., 0., 0., 0.],\n",
       "       [0., 0., 0., 0., 0., 0., 0., 0., 0., 0.],\n",
       "       [0., 0., 0., 0., 0., 0., 0., 0., 0., 0.],\n",
       "       [0., 0., 0., 0., 0., 0., 0., 0., 0., 0.],\n",
       "       [0., 0., 0., 0., 0., 0., 0., 0., 0., 0.],\n",
       "       [0., 0., 0., 0., 0., 0., 0., 0., 0., 0.],\n",
       "       [0., 0., 0., 0., 0., 0., 0., 0., 0., 0.],\n",
       "       [0., 0., 0., 0., 0., 0., 0., 0., 0., 0.],\n",
       "       [0., 0., 0., 0., 0., 0., 0., 0., 0., 0.],\n",
       "       [0., 0., 0., 0., 0., 0., 0., 0., 0., 0.],\n",
       "       [0., 0., 0., 0., 0., 0., 0., 0., 0., 0.],\n",
       "       [0., 0., 0., 0., 0., 0., 0., 0., 0., 0.],\n",
       "       [0., 0., 0., 0., 0., 0., 0., 0., 0., 0.],\n",
       "       [0., 0., 0., 0., 0., 0., 0., 0., 0., 0.],\n",
       "       [0., 0., 0., 0., 0., 0., 0., 0., 0., 0.],\n",
       "       [0., 0., 0., 0., 0., 0., 0., 0., 0., 0.],\n",
       "       [0., 0., 0., 0., 0., 0., 0., 0., 0., 0.],\n",
       "       [0., 0., 0., 0., 0., 0., 0., 0., 0., 0.],\n",
       "       [0., 0., 0., 0., 0., 0., 0., 0., 0., 0.],\n",
       "       [0., 0., 0., 0., 0., 0., 0., 0., 0., 0.],\n",
       "       [0., 0., 0., 0., 0., 0., 0., 0., 0., 0.],\n",
       "       [0., 0., 0., 0., 0., 0., 0., 0., 0., 0.],\n",
       "       [0., 0., 0., 0., 0., 0., 0., 0., 0., 0.],\n",
       "       [0., 0., 0., 0., 0., 0., 0., 0., 0., 0.],\n",
       "       [0., 0., 0., 0., 0., 0., 0., 0., 0., 0.],\n",
       "       [0., 0., 0., 0., 0., 0., 0., 0., 0., 0.],\n",
       "       [0., 0., 0., 0., 0., 0., 0., 0., 0., 0.],\n",
       "       [0., 0., 0., 0., 0., 0., 0., 0., 0., 0.],\n",
       "       [0., 0., 0., 0., 0., 0., 0., 0., 0., 0.],\n",
       "       [0., 0., 0., 0., 0., 0., 0., 0., 0., 0.],\n",
       "       [0., 0., 0., 0., 0., 0., 0., 0., 0., 0.],\n",
       "       [0., 0., 0., 0., 0., 0., 0., 0., 0., 0.],\n",
       "       [0., 0., 0., 0., 0., 0., 0., 0., 0., 0.],\n",
       "       [0., 0., 0., 0., 0., 0., 0., 0., 0., 0.],\n",
       "       [0., 0., 0., 0., 0., 0., 0., 0., 0., 0.],\n",
       "       [0., 0., 0., 0., 0., 0., 0., 0., 0., 0.],\n",
       "       [0., 0., 0., 0., 0., 0., 0., 0., 0., 0.],\n",
       "       [0., 0., 0., 0., 0., 0., 0., 0., 0., 0.],\n",
       "       [0., 0., 0., 0., 0., 0., 0., 0., 0., 0.],\n",
       "       [0., 0., 0., 0., 0., 0., 0., 0., 0., 0.],\n",
       "       [0., 0., 0., 0., 0., 0., 0., 0., 0., 0.],\n",
       "       [0., 0., 0., 0., 0., 0., 0., 0., 0., 0.],\n",
       "       [0., 0., 0., 0., 0., 0., 0., 0., 0., 0.],\n",
       "       [0., 0., 0., 0., 0., 0., 0., 0., 0., 0.],\n",
       "       [0., 0., 0., 0., 0., 0., 0., 0., 0., 0.],\n",
       "       [0., 0., 0., 0., 0., 0., 0., 0., 0., 0.],\n",
       "       [0., 0., 0., 0., 0., 0., 0., 0., 0., 0.],\n",
       "       [0., 0., 0., 0., 0., 0., 0., 0., 0., 0.],\n",
       "       [0., 0., 0., 0., 0., 0., 0., 0., 0., 0.],\n",
       "       [0., 0., 0., 0., 0., 0., 0., 0., 0., 0.],\n",
       "       [0., 0., 0., 0., 0., 0., 0., 0., 0., 0.],\n",
       "       [0., 0., 0., 0., 0., 0., 0., 0., 0., 0.],\n",
       "       [0., 0., 0., 0., 0., 0., 0., 0., 0., 0.],\n",
       "       [0., 0., 0., 0., 0., 0., 0., 0., 0., 0.],\n",
       "       [0., 0., 0., 0., 0., 0., 0., 0., 0., 0.],\n",
       "       [0., 0., 0., 0., 0., 0., 0., 0., 0., 0.],\n",
       "       [0., 0., 0., 0., 0., 0., 0., 0., 0., 0.],\n",
       "       [0., 0., 0., 0., 0., 0., 0., 0., 0., 0.],\n",
       "       [0., 0., 0., 0., 0., 0., 0., 0., 0., 0.],\n",
       "       [0., 0., 0., 0., 0., 0., 0., 0., 0., 0.],\n",
       "       [0., 0., 0., 0., 0., 0., 0., 0., 0., 0.],\n",
       "       [0., 0., 0., 0., 0., 0., 0., 0., 0., 0.],\n",
       "       [0., 0., 0., 0., 0., 0., 0., 0., 0., 0.],\n",
       "       [0., 0., 0., 0., 0., 0., 0., 0., 0., 0.],\n",
       "       [0., 0., 0., 0., 0., 0., 0., 0., 0., 0.],\n",
       "       [0., 0., 0., 0., 0., 0., 0., 0., 0., 0.],\n",
       "       [0., 0., 0., 0., 0., 0., 0., 0., 0., 0.],\n",
       "       [0., 0., 0., 0., 0., 0., 0., 0., 0., 0.],\n",
       "       [0., 0., 0., 0., 0., 0., 0., 0., 0., 0.],\n",
       "       [0., 0., 0., 0., 0., 0., 0., 0., 0., 0.],\n",
       "       [0., 0., 0., 0., 0., 0., 0., 0., 0., 0.],\n",
       "       [0., 0., 0., 0., 0., 0., 0., 0., 0., 0.],\n",
       "       [0., 0., 0., 0., 0., 0., 0., 0., 0., 0.],\n",
       "       [0., 0., 0., 0., 0., 0., 0., 0., 0., 0.],\n",
       "       [0., 0., 0., 0., 0., 0., 0., 0., 0., 0.],\n",
       "       [0., 0., 0., 0., 0., 0., 0., 0., 0., 0.],\n",
       "       [0., 0., 0., 0., 0., 0., 0., 0., 0., 0.],\n",
       "       [0., 0., 0., 0., 0., 0., 0., 0., 0., 0.],\n",
       "       [0., 0., 0., 0., 0., 0., 0., 0., 0., 0.],\n",
       "       [0., 0., 0., 0., 0., 0., 0., 0., 0., 0.],\n",
       "       [0., 0., 0., 0., 0., 0., 0., 0., 0., 0.],\n",
       "       [0., 0., 0., 0., 0., 0., 0., 0., 0., 0.],\n",
       "       [0., 0., 0., 0., 0., 0., 0., 0., 0., 0.],\n",
       "       [0., 0., 0., 0., 0., 0., 0., 0., 0., 0.],\n",
       "       [0., 0., 0., 0., 0., 0., 0., 0., 0., 0.],\n",
       "       [0., 0., 0., 0., 0., 0., 0., 0., 0., 0.],\n",
       "       [0., 0., 0., 0., 0., 0., 0., 0., 0., 0.],\n",
       "       [0., 0., 0., 0., 0., 0., 0., 0., 0., 0.],\n",
       "       [0., 0., 0., 0., 0., 0., 0., 0., 0., 0.],\n",
       "       [0., 0., 0., 0., 0., 0., 0., 0., 0., 0.],\n",
       "       [0., 0., 0., 0., 0., 0., 0., 0., 0., 0.],\n",
       "       [0., 0., 0., 0., 0., 0., 0., 0., 0., 0.],\n",
       "       [0., 0., 0., 0., 0., 0., 0., 0., 0., 0.],\n",
       "       [0., 0., 0., 0., 0., 0., 0., 0., 0., 0.],\n",
       "       [0., 0., 0., 0., 0., 0., 0., 0., 0., 0.],\n",
       "       [0., 0., 0., 0., 0., 0., 0., 0., 0., 0.],\n",
       "       [0., 0., 0., 0., 0., 0., 0., 0., 0., 0.],\n",
       "       [0., 0., 0., 0., 0., 0., 0., 0., 0., 0.]])"
      ]
     },
     "execution_count": 16,
     "metadata": {},
     "output_type": "execute_result"
    }
   ],
   "source": [
    "import numpy as np\n",
    "a = np.zeros((100, 10))\n",
    "a"
   ]
  },
  {
   "cell_type": "code",
   "execution_count": 20,
   "id": "0c116061",
   "metadata": {},
   "outputs": [
    {
     "data": {
      "text/plain": [
       "array([[0., 0.],\n",
       "       [0., 0.],\n",
       "       [0., 0.],\n",
       "       [0., 0.],\n",
       "       [0., 0.],\n",
       "       [0., 0.],\n",
       "       [0., 0.],\n",
       "       [0., 0.],\n",
       "       [0., 0.],\n",
       "       [0., 0.]])"
      ]
     },
     "execution_count": 20,
     "metadata": {},
     "output_type": "execute_result"
    }
   ],
   "source": [
    "a = np.zeros(10)\n",
    "b = np.zeros(10)\n",
    "c  = np.vstack((a,b)).T\n",
    "c"
   ]
  },
  {
   "cell_type": "code",
   "execution_count": 24,
   "id": "8fb8c83e",
   "metadata": {},
   "outputs": [],
   "source": [
    "poly_dendrite_dFoF = data.poly_dendrite_calcium_processed_dFoF"
   ]
  },
  {
   "cell_type": "code",
   "execution_count": 42,
   "id": "11cb984c",
   "metadata": {},
   "outputs": [
    {
     "data": {
      "text/plain": [
       "array([ 0., -1., nan, -3.])"
      ]
     },
     "execution_count": 42,
     "metadata": {},
     "output_type": "execute_result"
    }
   ],
   "source": [
    "a = np.array([1,2,np.nan,4])\n",
    "b = np.array([2,2,np.nan,2])\n",
    "\n",
    "1 - a"
   ]
  },
  {
   "cell_type": "code",
   "execution_count": null,
   "id": "5d3bfd57",
   "metadata": {},
   "outputs": [],
   "source": []
  }
 ],
 "metadata": {
  "kernelspec": {
   "display_name": "Python 3 (ipykernel)",
   "language": "python",
   "name": "python3"
  },
  "language_info": {
   "codemirror_mode": {
    "name": "ipython",
    "version": 3
   },
   "file_extension": ".py",
   "mimetype": "text/x-python",
   "name": "python",
   "nbconvert_exporter": "python",
   "pygments_lexer": "ipython3",
   "version": "3.8.1"
  }
 },
 "nbformat": 4,
 "nbformat_minor": 5
}
