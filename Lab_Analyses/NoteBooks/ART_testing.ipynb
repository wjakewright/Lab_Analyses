{
 "cells": [
  {
   "cell_type": "code",
   "execution_count": 1,
   "id": "904593f9",
   "metadata": {},
   "outputs": [],
   "source": [
    "import os\n",
    "import subprocess\n",
    "import pandas as pd\n",
    "\n",
    "os.environ[\"R_HOME\"] = r\"C:/Users/Jake/Documents/Anaconda3/envs/analysis_env/Lib/R\"\n",
    "\n",
    "import pymer4\n",
    "\n",
    "from pymer4.utils import get_resource_path\n",
    "\n",
    "df = pd.read_csv(os.path.join(get_resource_path(), \"sample_data.csv\"))"
   ]
  },
  {
   "cell_type": "code",
   "execution_count": 2,
   "id": "93aab3e1",
   "metadata": {},
   "outputs": [],
   "source": [
    "from pymer4.models import Lmer"
   ]
  },
  {
   "cell_type": "code",
   "execution_count": 3,
   "id": "822847d5",
   "metadata": {},
   "outputs": [
    {
     "name": "stdout",
     "output_type": "stream",
     "text": [
      "Linear mixed model fit by REML [’lmerMod’]\n",
      "Formula: DV~IV1+IV3+IV1:IV3+(1|Group)\n",
      "\n",
      "Family: gaussian\t Inference: parametric\n",
      "\n",
      "Number of observations: 564\t Groups: {'Group': 47.0}\n",
      "\n",
      "Log-likelihood: -2405.729 \t AIC: 4823.458\n",
      "\n",
      "Random effects:\n",
      "\n",
      "                 Name      Var     Std\n",
      "Group     (Intercept)  727.489  26.972\n",
      "Residual               221.824  14.894\n",
      "\n",
      "No random effect correlations specified\n",
      "\n",
      "Fixed effects:\n",
      "\n"
     ]
    },
    {
     "data": {
      "text/html": [
       "<div>\n",
       "<style scoped>\n",
       "    .dataframe tbody tr th:only-of-type {\n",
       "        vertical-align: middle;\n",
       "    }\n",
       "\n",
       "    .dataframe tbody tr th {\n",
       "        vertical-align: top;\n",
       "    }\n",
       "\n",
       "    .dataframe thead th {\n",
       "        text-align: right;\n",
       "    }\n",
       "</style>\n",
       "<table border=\"1\" class=\"dataframe\">\n",
       "  <thead>\n",
       "    <tr style=\"text-align: right;\">\n",
       "      <th></th>\n",
       "      <th>Estimate</th>\n",
       "      <th>2.5_ci</th>\n",
       "      <th>97.5_ci</th>\n",
       "      <th>SE</th>\n",
       "      <th>DF</th>\n",
       "      <th>T-stat</th>\n",
       "      <th>P-val</th>\n",
       "      <th>Sig</th>\n",
       "    </tr>\n",
       "  </thead>\n",
       "  <tbody>\n",
       "    <tr>\n",
       "      <th>(Intercept)</th>\n",
       "      <td>39.170</td>\n",
       "      <td>21.720</td>\n",
       "      <td>56.620</td>\n",
       "      <td>8.903</td>\n",
       "      <td>469.624</td>\n",
       "      <td>4.400</td>\n",
       "      <td>0.000</td>\n",
       "      <td>***</td>\n",
       "    </tr>\n",
       "    <tr>\n",
       "      <th>IV1</th>\n",
       "      <td>0.419</td>\n",
       "      <td>-0.550</td>\n",
       "      <td>1.388</td>\n",
       "      <td>0.494</td>\n",
       "      <td>516.425</td>\n",
       "      <td>0.847</td>\n",
       "      <td>0.397</td>\n",
       "      <td></td>\n",
       "    </tr>\n",
       "    <tr>\n",
       "      <th>IV3</th>\n",
       "      <td>-1.679</td>\n",
       "      <td>-13.378</td>\n",
       "      <td>10.021</td>\n",
       "      <td>5.969</td>\n",
       "      <td>515.275</td>\n",
       "      <td>-0.281</td>\n",
       "      <td>0.779</td>\n",
       "      <td></td>\n",
       "    </tr>\n",
       "    <tr>\n",
       "      <th>IV1:IV3</th>\n",
       "      <td>-0.076</td>\n",
       "      <td>-0.838</td>\n",
       "      <td>0.686</td>\n",
       "      <td>0.389</td>\n",
       "      <td>514.577</td>\n",
       "      <td>-0.195</td>\n",
       "      <td>0.845</td>\n",
       "      <td></td>\n",
       "    </tr>\n",
       "  </tbody>\n",
       "</table>\n",
       "</div>"
      ],
      "text/plain": [
       "             Estimate  2.5_ci  97.5_ci     SE       DF  T-stat  P-val  Sig\n",
       "(Intercept)    39.170  21.720   56.620  8.903  469.624   4.400  0.000  ***\n",
       "IV1             0.419  -0.550    1.388  0.494  516.425   0.847  0.397     \n",
       "IV3            -1.679 -13.378   10.021  5.969  515.275  -0.281  0.779     \n",
       "IV1:IV3        -0.076  -0.838    0.686  0.389  514.577  -0.195  0.845     "
      ]
     },
     "execution_count": 3,
     "metadata": {},
     "output_type": "execute_result"
    }
   ],
   "source": [
    "formula = \"DV ~ IV1 + IV3 + IV1:IV3 + (1|Group)\"\n",
    "model = Lmer(formula, data=df)\n",
    "model.fit(summarize=True)"
   ]
  },
  {
   "cell_type": "code",
   "execution_count": 4,
   "id": "940747c4",
   "metadata": {},
   "outputs": [
    {
     "name": "stdout",
     "output_type": "stream",
     "text": [
      "SS Type III Analysis of Variance Table with Satterthwaite approximated degrees of freedom:\n",
      "(NOTE: Using original model contrasts, orthogonality not guaranteed)\n"
     ]
    },
    {
     "data": {
      "text/html": [
       "<div>\n",
       "<style scoped>\n",
       "    .dataframe tbody tr th:only-of-type {\n",
       "        vertical-align: middle;\n",
       "    }\n",
       "\n",
       "    .dataframe tbody tr th {\n",
       "        vertical-align: top;\n",
       "    }\n",
       "\n",
       "    .dataframe thead th {\n",
       "        text-align: right;\n",
       "    }\n",
       "</style>\n",
       "<table border=\"1\" class=\"dataframe\">\n",
       "  <thead>\n",
       "    <tr style=\"text-align: right;\">\n",
       "      <th></th>\n",
       "      <th>SS</th>\n",
       "      <th>MS</th>\n",
       "      <th>NumDF</th>\n",
       "      <th>DenomDF</th>\n",
       "      <th>F-stat</th>\n",
       "      <th>P-val</th>\n",
       "      <th>Sig</th>\n",
       "    </tr>\n",
       "  </thead>\n",
       "  <tbody>\n",
       "    <tr>\n",
       "      <th>IV1</th>\n",
       "      <td>159.168201</td>\n",
       "      <td>159.168201</td>\n",
       "      <td>1</td>\n",
       "      <td>516.425102</td>\n",
       "      <td>0.717542</td>\n",
       "      <td>0.397344</td>\n",
       "      <td></td>\n",
       "    </tr>\n",
       "    <tr>\n",
       "      <th>IV3</th>\n",
       "      <td>17.541469</td>\n",
       "      <td>17.541469</td>\n",
       "      <td>1</td>\n",
       "      <td>515.274804</td>\n",
       "      <td>0.079078</td>\n",
       "      <td>0.778663</td>\n",
       "      <td></td>\n",
       "    </tr>\n",
       "    <tr>\n",
       "      <th>IV1:IV3</th>\n",
       "      <td>8.433876</td>\n",
       "      <td>8.433876</td>\n",
       "      <td>1</td>\n",
       "      <td>514.576588</td>\n",
       "      <td>0.038021</td>\n",
       "      <td>0.845479</td>\n",
       "      <td></td>\n",
       "    </tr>\n",
       "  </tbody>\n",
       "</table>\n",
       "</div>"
      ],
      "text/plain": [
       "                 SS          MS  NumDF     DenomDF    F-stat     P-val Sig\n",
       "IV1      159.168201  159.168201      1  516.425102  0.717542  0.397344    \n",
       "IV3       17.541469   17.541469      1  515.274804  0.079078  0.778663    \n",
       "IV1:IV3    8.433876    8.433876      1  514.576588  0.038021  0.845479    "
      ]
     },
     "execution_count": 4,
     "metadata": {},
     "output_type": "execute_result"
    }
   ],
   "source": [
    "model.anova()"
   ]
  },
  {
   "cell_type": "code",
   "execution_count": 50,
   "id": "6c69c239",
   "metadata": {},
   "outputs": [
    {
     "data": {
      "text/plain": [
       "Index(['Group', 'IV1', 'DV_l', 'DV', 'IV2', 'IV3'], dtype='object')"
      ]
     },
     "execution_count": 50,
     "metadata": {},
     "output_type": "execute_result"
    }
   ],
   "source": [
    "df\n",
    "#df.to_csv('test_data.csv', index=False)\n",
    "df.columns"
   ]
  },
  {
   "cell_type": "code",
   "execution_count": 11,
   "id": "bec838a7",
   "metadata": {},
   "outputs": [
    {
     "ename": "CalledProcessError",
     "evalue": "Command 'C:\\Users\\Jake\\Desktop\\python_code\\Lab_Analyses\\Lab_Analyses\\NoteBooks\\r_test.r' returned non-zero exit status 2.",
     "output_type": "error",
     "traceback": [
      "\u001b[1;31m---------------------------------------------------------------------------\u001b[0m",
      "\u001b[1;31mCalledProcessError\u001b[0m                        Traceback (most recent call last)",
      "Cell \u001b[1;32mIn[11], line 1\u001b[0m\n\u001b[1;32m----> 1\u001b[0m proc \u001b[38;5;241m=\u001b[39m \u001b[43msubprocess\u001b[49m\u001b[38;5;241;43m.\u001b[39;49m\u001b[43mcheck_output\u001b[49m\u001b[43m(\u001b[49m\u001b[38;5;124;43mr\u001b[39;49m\u001b[38;5;124;43m'\u001b[39;49m\u001b[38;5;124;43mC:\u001b[39;49m\u001b[38;5;124;43m\\\u001b[39;49m\u001b[38;5;124;43mUsers\u001b[39;49m\u001b[38;5;124;43m\\\u001b[39;49m\u001b[38;5;124;43mJake\u001b[39;49m\u001b[38;5;124;43m\\\u001b[39;49m\u001b[38;5;124;43mDesktop\u001b[39;49m\u001b[38;5;124;43m\\\u001b[39;49m\u001b[38;5;124;43mpython_code\u001b[39;49m\u001b[38;5;124;43m\\\u001b[39;49m\u001b[38;5;124;43mLab_Analyses\u001b[39;49m\u001b[38;5;124;43m\\\u001b[39;49m\u001b[38;5;124;43mLab_Analyses\u001b[39;49m\u001b[38;5;124;43m\\\u001b[39;49m\u001b[38;5;124;43mNoteBooks\u001b[39;49m\u001b[38;5;124;43m\\\u001b[39;49m\u001b[38;5;124;43mr_test.r\u001b[39;49m\u001b[38;5;124;43m'\u001b[39;49m\u001b[43m,\u001b[49m\u001b[43m \u001b[49m\u001b[43mshell\u001b[49m\u001b[38;5;241;43m=\u001b[39;49m\u001b[38;5;28;43;01mTrue\u001b[39;49;00m\u001b[43m)\u001b[49m\n\u001b[0;32m      2\u001b[0m out \u001b[38;5;241m=\u001b[39m proc\u001b[38;5;241m.\u001b[39mdecode(\u001b[38;5;124m'\u001b[39m\u001b[38;5;124mutf-8\u001b[39m\u001b[38;5;124m'\u001b[39m)\n",
      "File \u001b[1;32m~\\Documents\\Anaconda3\\envs\\analysis_env\\lib\\subprocess.py:415\u001b[0m, in \u001b[0;36mcheck_output\u001b[1;34m(timeout, *popenargs, **kwargs)\u001b[0m\n\u001b[0;32m    412\u001b[0m         empty \u001b[38;5;241m=\u001b[39m \u001b[38;5;124mb\u001b[39m\u001b[38;5;124m'\u001b[39m\u001b[38;5;124m'\u001b[39m\n\u001b[0;32m    413\u001b[0m     kwargs[\u001b[38;5;124m'\u001b[39m\u001b[38;5;124minput\u001b[39m\u001b[38;5;124m'\u001b[39m] \u001b[38;5;241m=\u001b[39m empty\n\u001b[1;32m--> 415\u001b[0m \u001b[38;5;28;01mreturn\u001b[39;00m \u001b[43mrun\u001b[49m\u001b[43m(\u001b[49m\u001b[38;5;241;43m*\u001b[39;49m\u001b[43mpopenargs\u001b[49m\u001b[43m,\u001b[49m\u001b[43m \u001b[49m\u001b[43mstdout\u001b[49m\u001b[38;5;241;43m=\u001b[39;49m\u001b[43mPIPE\u001b[49m\u001b[43m,\u001b[49m\u001b[43m \u001b[49m\u001b[43mtimeout\u001b[49m\u001b[38;5;241;43m=\u001b[39;49m\u001b[43mtimeout\u001b[49m\u001b[43m,\u001b[49m\u001b[43m \u001b[49m\u001b[43mcheck\u001b[49m\u001b[38;5;241;43m=\u001b[39;49m\u001b[38;5;28;43;01mTrue\u001b[39;49;00m\u001b[43m,\u001b[49m\n\u001b[0;32m    416\u001b[0m \u001b[43m           \u001b[49m\u001b[38;5;241;43m*\u001b[39;49m\u001b[38;5;241;43m*\u001b[39;49m\u001b[43mkwargs\u001b[49m\u001b[43m)\u001b[49m\u001b[38;5;241m.\u001b[39mstdout\n",
      "File \u001b[1;32m~\\Documents\\Anaconda3\\envs\\analysis_env\\lib\\subprocess.py:516\u001b[0m, in \u001b[0;36mrun\u001b[1;34m(input, capture_output, timeout, check, *popenargs, **kwargs)\u001b[0m\n\u001b[0;32m    514\u001b[0m     retcode \u001b[38;5;241m=\u001b[39m process\u001b[38;5;241m.\u001b[39mpoll()\n\u001b[0;32m    515\u001b[0m     \u001b[38;5;28;01mif\u001b[39;00m check \u001b[38;5;129;01mand\u001b[39;00m retcode:\n\u001b[1;32m--> 516\u001b[0m         \u001b[38;5;28;01mraise\u001b[39;00m CalledProcessError(retcode, process\u001b[38;5;241m.\u001b[39margs,\n\u001b[0;32m    517\u001b[0m                                  output\u001b[38;5;241m=\u001b[39mstdout, stderr\u001b[38;5;241m=\u001b[39mstderr)\n\u001b[0;32m    518\u001b[0m \u001b[38;5;28;01mreturn\u001b[39;00m CompletedProcess(process\u001b[38;5;241m.\u001b[39margs, retcode, stdout, stderr)\n",
      "\u001b[1;31mCalledProcessError\u001b[0m: Command 'C:\\Users\\Jake\\Desktop\\python_code\\Lab_Analyses\\Lab_Analyses\\NoteBooks\\r_test.r' returned non-zero exit status 2."
     ]
    }
   ],
   "source": [
    "proc = subprocess.check_output(r'C:\\Users\\Jake\\Desktop\\python_code\\Lab_Analyses\\Lab_Analyses\\NoteBooks\\r_test.r', shell=True)\n",
    "out = proc.decode('utf-8')"
   ]
  },
  {
   "cell_type": "code",
   "execution_count": null,
   "id": "81f7c686",
   "metadata": {},
   "outputs": [],
   "source": [
    "out"
   ]
  },
  {
   "cell_type": "code",
   "execution_count": null,
   "id": "e3c0dda5",
   "metadata": {},
   "outputs": [],
   "source": [
    "cmd = 'Rscript r_test.r'\n",
    "!{cmd}"
   ]
  },
  {
   "cell_type": "code",
   "execution_count": 51,
   "id": "c8d36e90",
   "metadata": {},
   "outputs": [],
   "source": [
    "proc = subprocess.run([\"Rscript\",\"aligned_rank_transform_test.r\"], capture_output=False)"
   ]
  },
  {
   "cell_type": "code",
   "execution_count": 52,
   "id": "94ee4d1f",
   "metadata": {},
   "outputs": [],
   "source": [
    "result = pd.read_csv(r'C:\\Users\\Jake\\Desktop\\python_code\\Lab_Analyses\\Lab_Analyses\\NoteBooks\\result.csv')"
   ]
  },
  {
   "cell_type": "code",
   "execution_count": 58,
   "id": "57da6213",
   "metadata": {},
   "outputs": [
    {
     "data": {
      "text/html": [
       "<div>\n",
       "<style scoped>\n",
       "    .dataframe tbody tr th:only-of-type {\n",
       "        vertical-align: middle;\n",
       "    }\n",
       "\n",
       "    .dataframe tbody tr th {\n",
       "        vertical-align: top;\n",
       "    }\n",
       "\n",
       "    .dataframe thead th {\n",
       "        text-align: right;\n",
       "    }\n",
       "</style>\n",
       "<table border=\"1\" class=\"dataframe\">\n",
       "  <thead>\n",
       "    <tr style=\"text-align: right;\">\n",
       "      <th></th>\n",
       "      <th>Term</th>\n",
       "      <th>F</th>\n",
       "      <th>Df</th>\n",
       "      <th>Df.res</th>\n",
       "      <th>Pr(&gt;F)</th>\n",
       "    </tr>\n",
       "  </thead>\n",
       "  <tbody>\n",
       "    <tr>\n",
       "      <th>0</th>\n",
       "      <td>DV_l</td>\n",
       "      <td>0.014886</td>\n",
       "      <td>1</td>\n",
       "      <td>514.022618</td>\n",
       "      <td>0.902941</td>\n",
       "    </tr>\n",
       "    <tr>\n",
       "      <th>1</th>\n",
       "      <td>IV3</td>\n",
       "      <td>6.453065</td>\n",
       "      <td>2</td>\n",
       "      <td>512.015894</td>\n",
       "      <td>0.001707</td>\n",
       "    </tr>\n",
       "    <tr>\n",
       "      <th>2</th>\n",
       "      <td>DV_l:IV3</td>\n",
       "      <td>1.047150</td>\n",
       "      <td>2</td>\n",
       "      <td>514.317873</td>\n",
       "      <td>0.351684</td>\n",
       "    </tr>\n",
       "  </tbody>\n",
       "</table>\n",
       "</div>"
      ],
      "text/plain": [
       "       Term         F  Df      Df.res    Pr(>F)\n",
       "0      DV_l  0.014886   1  514.022618  0.902941\n",
       "1       IV3  6.453065   2  512.015894  0.001707\n",
       "2  DV_l:IV3  1.047150   2  514.317873  0.351684"
      ]
     },
     "execution_count": 58,
     "metadata": {},
     "output_type": "execute_result"
    }
   ],
   "source": [
    "result"
   ]
  },
  {
   "cell_type": "code",
   "execution_count": 55,
   "id": "25216f13",
   "metadata": {},
   "outputs": [],
   "source": [
    "posthoc = pd.read_csv(r'C:\\Users\\Jake\\Desktop\\python_code\\Lab_Analyses\\Lab_Analyses\\NoteBooks\\posthoc.csv')"
   ]
  },
  {
   "cell_type": "code",
   "execution_count": 56,
   "id": "9c8ae2bd",
   "metadata": {},
   "outputs": [
    {
     "data": {
      "text/html": [
       "<div>\n",
       "<style scoped>\n",
       "    .dataframe tbody tr th:only-of-type {\n",
       "        vertical-align: middle;\n",
       "    }\n",
       "\n",
       "    .dataframe tbody tr th {\n",
       "        vertical-align: top;\n",
       "    }\n",
       "\n",
       "    .dataframe thead th {\n",
       "        text-align: right;\n",
       "    }\n",
       "</style>\n",
       "<table border=\"1\" class=\"dataframe\">\n",
       "  <thead>\n",
       "    <tr style=\"text-align: right;\">\n",
       "      <th></th>\n",
       "      <th>contrast</th>\n",
       "      <th>estimate</th>\n",
       "      <th>SE</th>\n",
       "      <th>df</th>\n",
       "      <th>t.ratio</th>\n",
       "      <th>p.value</th>\n",
       "    </tr>\n",
       "  </thead>\n",
       "  <tbody>\n",
       "    <tr>\n",
       "      <th>0</th>\n",
       "      <td>IV30.5 - IV31</td>\n",
       "      <td>7.752139</td>\n",
       "      <td>8.289493</td>\n",
       "      <td>512.005092</td>\n",
       "      <td>0.935176</td>\n",
       "      <td>0.350138</td>\n",
       "    </tr>\n",
       "    <tr>\n",
       "      <th>1</th>\n",
       "      <td>IV30.5 - IV31.5</td>\n",
       "      <td>28.897895</td>\n",
       "      <td>8.317183</td>\n",
       "      <td>512.018442</td>\n",
       "      <td>3.474481</td>\n",
       "      <td>0.001666</td>\n",
       "    </tr>\n",
       "    <tr>\n",
       "      <th>2</th>\n",
       "      <td>IV31 - IV31.5</td>\n",
       "      <td>21.145756</td>\n",
       "      <td>8.326436</td>\n",
       "      <td>512.024238</td>\n",
       "      <td>2.539593</td>\n",
       "      <td>0.017089</td>\n",
       "    </tr>\n",
       "  </tbody>\n",
       "</table>\n",
       "</div>"
      ],
      "text/plain": [
       "          contrast   estimate        SE          df   t.ratio   p.value\n",
       "0    IV30.5 - IV31   7.752139  8.289493  512.005092  0.935176  0.350138\n",
       "1  IV30.5 - IV31.5  28.897895  8.317183  512.018442  3.474481  0.001666\n",
       "2    IV31 - IV31.5  21.145756  8.326436  512.024238  2.539593  0.017089"
      ]
     },
     "execution_count": 56,
     "metadata": {},
     "output_type": "execute_result"
    }
   ],
   "source": [
    "posthoc"
   ]
  },
  {
   "cell_type": "code",
   "execution_count": null,
   "id": "d27d1e6c",
   "metadata": {},
   "outputs": [],
   "source": [
    "import numpy as np"
   ]
  },
  {
   "cell_type": "code",
   "execution_count": null,
   "id": "c88c830b",
   "metadata": {},
   "outputs": [],
   "source": [
    "a = np.array([1,1,1,1,1])\n",
    "b = a * 2\n",
    "c = a * 3\n",
    "\n",
    "d = np.vstack([a,b,c])\n",
    "d"
   ]
  },
  {
   "cell_type": "code",
   "execution_count": null,
   "id": "1dbab70b",
   "metadata": {},
   "outputs": [],
   "source": [
    "np.nanmean(d, axis=0)"
   ]
  },
  {
   "cell_type": "code",
   "execution_count": null,
   "id": "25dae438",
   "metadata": {},
   "outputs": [],
   "source": [
    "a = {\"A\":1, \"B\":2}\n",
    "b = {\"C\":4, \"D\": 4}\n",
    "\n",
    "c = {\"a\": a, \"b\": b}\n",
    "d = {\"a1\": a, \"b1\": b}"
   ]
  },
  {
   "cell_type": "code",
   "execution_count": null,
   "id": "93df7893",
   "metadata": {},
   "outputs": [],
   "source": [
    "f = {**c, **d}"
   ]
  },
  {
   "cell_type": "code",
   "execution_count": null,
   "id": "07e7ad1b",
   "metadata": {},
   "outputs": [],
   "source": [
    "f[\"a\"]"
   ]
  },
  {
   "cell_type": "code",
   "execution_count": null,
   "id": "3f2ab665",
   "metadata": {},
   "outputs": [],
   "source": [
    "f[\"a1\"]"
   ]
  },
  {
   "cell_type": "code",
   "execution_count": null,
   "id": "9431fd1e",
   "metadata": {},
   "outputs": [],
   "source": []
  }
 ],
 "metadata": {
  "kernelspec": {
   "display_name": "Python 3 (ipykernel)",
   "language": "python",
   "name": "python3"
  },
  "language_info": {
   "codemirror_mode": {
    "name": "ipython",
    "version": 3
   },
   "file_extension": ".py",
   "mimetype": "text/x-python",
   "name": "python",
   "nbconvert_exporter": "python",
   "pygments_lexer": "ipython3",
   "version": "3.8.18"
  }
 },
 "nbformat": 4,
 "nbformat_minor": 5
}
