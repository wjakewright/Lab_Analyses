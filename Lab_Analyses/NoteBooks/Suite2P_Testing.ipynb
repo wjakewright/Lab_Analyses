{
 "cells": [
  {
   "cell_type": "markdown",
   "id": "c6367240",
   "metadata": {},
   "source": [
    "# Suite2P Testing"
   ]
  },
  {
   "cell_type": "code",
   "execution_count": null,
   "id": "15bf4fdd",
   "metadata": {},
   "outputs": [],
   "source": [
    "import numpy as np\n",
    "import pandas as pd\n",
    "import matplotlib.pyplot as plt\n",
    "from Lab_Analyses.Utilities.save_load_pickle import save_pickle, load_pickle\n",
    "from Lab_Analyses.Utilities import data_utilities as utils"
   ]
  },
  {
   "cell_type": "code",
   "execution_count": null,
   "id": "5772f88b",
   "metadata": {},
   "outputs": [],
   "source": [
    "path = r'C:\\Users\\Jake\\Desktop\\Processed_data\\Suite2P_data\\BRAIN_test\\suite2p\\BRAIN_Example\\plane0\\F.npy'\n",
    "dFoF = np.load(path)\n",
    "path_s = r'C:\\Users\\Jake\\Desktop\\Processed_data\\Suite2P_data\\BRAIN_test\\suite2p\\BRAIN_Example\\plane0\\spks.npy'\n",
    "spikes = np.load(path_s)\n",
    "path2 = r'C:\\Users\\Jake\\Desktop\\Processed_data\\Suite2P_data\\BRAIN_test\\suite2p\\BRAIN_Example\\plane0\\iscell.npy'\n",
    "iscell = np.load(path2)[:,0].astype(int)\n",
    "iscell_bool = iscell.astype(bool)\n",
    "dFoF_cells = dFoF[iscell_bool]\n",
    "spikes_cells = spikes[iscell_bool]\n",
    "dFoF_df = pd.DataFrame(dFoF_cells.T)\n",
    "spikes_df = pd.DataFrame(spikes_cells.T)"
   ]
  },
  {
   "cell_type": "code",
   "execution_count": null,
   "id": "e3cc5ac3",
   "metadata": {
    "scrolled": true
   },
   "outputs": [],
   "source": [
    "from Lab_Analyses.Utilities.event_detection import event_detection\n",
    "from Lab_Analyses.Utilities.get_dFoF import get_dFoF\n",
    "\n",
    "fluorescence = np.array(dFoF_df)\n",
    "new_dFoF = np.zeros(np.shape(fluorescence))\n",
    "for i in range(fluorescence.shape[1]):\n",
    "    f = fluorescence[:,i]\n",
    "    d, pd, _ = get_dFoF(f, 30, 0.2, None, None)\n",
    "    new_dFoF[:,i] = pd\n",
    "active_traces, floored_traces, _ = event_detection(new_dFoF, 2, 10)"
   ]
  },
  {
   "cell_type": "code",
   "execution_count": null,
   "id": "93ef193f",
   "metadata": {
    "scrolled": true
   },
   "outputs": [],
   "source": [
    "import scipy.signal as sysignal\n",
    "def detection(dFoF, threshold, sampling_rate):\n",
    "    LOWER_THRESH = 1\n",
    "    LOWER_LIMIT = 0.2\n",
    "    SEC_TO_SMOOTH = 0.5\n",
    "\n",
    "    smooth_window = int(sampling_rate * SEC_TO_SMOOTH)\n",
    "    # Make sure smooth window is odd\n",
    "    if not smooth_window % 2:\n",
    "        smooth_window = smooth_window + 1\n",
    "\n",
    "    # initialize the output array\n",
    "    active_traces = np.zeros(np.shape(dFoF))\n",
    "    floored_traces = np.zeros(np.shape(dFoF))\n",
    "    thresh_values = {\"Upper Threshold\": [], \"Lower Threshold\": [], \"Artifact Limit\": []}\n",
    "\n",
    "    # Analyze each ROI\n",
    "    for i in range(dFoF.shape[1]):\n",
    "        roi = dFoF[:, i]\n",
    "        # Estimate the noise of the traces using the mirrored below-zero trace\n",
    "        below_zero = roi[roi < 0]\n",
    "        noise_est = np.nanstd(np.concatenate((below_zero, -below_zero)))\n",
    "\n",
    "        # Set threshold values\n",
    "        high_thresh = noise_est * threshold\n",
    "        low_thresh = noise_est * LOWER_THRESH\n",
    "        # Account for movement artifacts by using largest negative deflections\n",
    "        artifact_limit = np.absolute(np.percentile(below_zero, 5))\n",
    "        if high_thresh < artifact_limit:\n",
    "            high_thresh = artifact_limit\n",
    "        if high_thresh < LOWER_LIMIT:\n",
    "            high_thresh = LOWER_LIMIT\n",
    "\n",
    "        thresh_values[\"Upper Threshold\"].append(high_thresh)\n",
    "        thresh_values[\"Lower Threshold\"].append(low_thresh)\n",
    "        thresh_values[\"Artifact Limit\"].append(artifact_limit)\n",
    "\n",
    "        # Generate a smoothed trace\n",
    "        temp_smooth = sysignal.savgol_filter(roi, smooth_window, 2)\n",
    "        # Find periods above the thrsholds\n",
    "        above_low = temp_smooth > low_thresh\n",
    "        above_high = temp_smooth > high_thresh\n",
    "\n",
    "        # Fill in high portions where low threshold is not crossed\n",
    "        ## E.g., dips down but not to baseline, so continuously active\n",
    "\n",
    "        # Find edges of long-smooth above_thesh periods\n",
    "        pad = np.zeros(1)\n",
    "        thresh_low_start = np.diff(np.concatenate((pad, above_low, pad))) == 1\n",
    "        thresh_low_stop = np.diff(np.concatenate((pad, above_low, pad))) == -1\n",
    "        thresh_high_start = np.diff(np.concatenate((pad, above_high, pad))) == 1\n",
    "        thresh_high_stop = np.diff(np.concatenate((pad, above_high, pad))) == -1\n",
    "        thresh_high_start_idx = np.nonzero(thresh_high_start)[0]\n",
    "        thresh_high_stop_idx = np.nonzero(thresh_high_stop)[0]\n",
    "\n",
    "        # Locate transitions from low threshold to high threshold\n",
    "        thresh_low_high_smooth_idx = []\n",
    "        for start, stop in zip(thresh_high_start_idx, thresh_high_stop_idx):\n",
    "            transition = find_low_high_transitions(start, stop, thresh_low_start)\n",
    "            thresh_low_high_smooth_idx.append(transition)\n",
    "\n",
    "        # Exclude periods before and after the imaging session\n",
    "        to_exclude = []\n",
    "        for x in thresh_low_high_smooth_idx:\n",
    "            to_exclude.append(any(x <= 0) or any(x > len(roi)))\n",
    "\n",
    "        # Refine start times of activity when dFoF goes above high thresh\n",
    "        thresh_low_high_smooth_idx = np.array(thresh_low_high_smooth_idx, dtype=object)\n",
    "        thresh_low_high_raw_idx = []\n",
    "        for idx in thresh_low_high_smooth_idx[[not x for x in to_exclude]]:\n",
    "            thresh_low_high_raw_idx.append(refine_start_times(idx, roi, high_thresh))\n",
    "\n",
    "        # Exlude periods before and after the imaging session\n",
    "        to_exclude_2 = []\n",
    "        for x in thresh_low_high_raw_idx:\n",
    "            to_exclude_2.append(any(x <= 0) or any(x > len(roi)))\n",
    "        for exclude in to_exclude_2:\n",
    "            thresh_low_high_raw_idx[exclude] = np.array([])\n",
    "        try:\n",
    "            thresh_low_high_raw_idx = np.concatenate(thresh_low_high_raw_idx).astype(\n",
    "                int\n",
    "            )\n",
    "        except ValueError:\n",
    "            thresh_low_high_raw_idx = []\n",
    "\n",
    "        # Find continuous active portions\n",
    "        active_trace = np.zeros(len(roi))\n",
    "\n",
    "        active_trace[thresh_low_high_raw_idx] = 1\n",
    "\n",
    "        # Floor activity trace during inactive portions\n",
    "        inactive_idxs = np.nonzero(active_trace == 0)[0]\n",
    "        floored_trace = np.copy(roi)\n",
    "        floored_trace[inactive_idxs] = 0\n",
    "\n",
    "        active_traces[:, i] = active_trace\n",
    "        floored_traces[:, i] = floored_trace\n",
    "\n",
    "    return active_traces, floored_traces, thresh_values\n",
    "\n",
    "\n",
    "def find_low_high_transitions(start_idx, stop_idx, thresh_low_start):\n",
    "    \"\"\"Helper function to find transitions from low threshold to high threshold\"\"\"\n",
    "    rev_low_start = thresh_low_start[start_idx:0:-1]\n",
    "    try:\n",
    "        new_start = start_idx - np.nonzero(rev_low_start)[0][0] + 1\n",
    "    except IndexError:\n",
    "        new_start = start_idx\n",
    "    low_high_idx = np.arange(new_start, stop_idx)\n",
    "\n",
    "    return low_high_idx\n",
    "\n",
    "\n",
    "def refine_start_times(idx, trace, high_thresh):\n",
    "    \"\"\"Helper function to help refine start times when dFoF goes above high thresh\"\"\"\n",
    "    start = idx[0]\n",
    "    try:\n",
    "        u1 = np.nonzero(trace[idx[0] :] > high_thresh)[0][0]\n",
    "    except IndexError:\n",
    "        u1 = 0\n",
    "    try:\n",
    "        u2 = np.nonzero(trace[start + u1 : 0 : -1] < high_thresh)[0][0]\n",
    "    except IndexError:\n",
    "        u2 = 0\n",
    "    new_idx = np.arange(start + u1 - u2, idx[-1])\n",
    "\n",
    "    return new_idx"
   ]
  },
  {
   "cell_type": "code",
   "execution_count": null,
   "id": "9eda6c7d",
   "metadata": {
    "scrolled": true
   },
   "outputs": [],
   "source": [
    "a, f, t = detection(new_dFoF, 3, 30)\n",
    "for i in range(new_dFoF.shape[1]):\n",
    "    plt.figure()\n",
    "    plt.plot(a[:,i])\n",
    "    plt.plot(new_dFoF[:,i])"
   ]
  },
  {
   "cell_type": "code",
   "execution_count": null,
   "id": "d4785cbe",
   "metadata": {
    "scrolled": true
   },
   "outputs": [],
   "source": [
    "def downsample_avg(n, array1d):\n",
    "    end =  n * int(len(array1d)/n)\n",
    "    return np.mean(array1d[:end].reshape(-1, n), 1)\n",
    "dFoF_ds = pd.DataFrame()\n",
    "spikes_ds = pd.DataFrame()\n",
    "\n",
    "for col in dFoF_df:\n",
    "    dFoF_ds[col] = downsample_avg(3, np.asarray(dFoF_df[col]))\n",
    "    spikes_ds[col] = downsample_avg(3, np.asarray(spikes_df[col]))\n",
    "\n",
    "dFoF_z = utils.z_score(np.array(dFoF_ds))\n",
    "spikes_z = utils.z_score(np.array(spikes_ds))"
   ]
  },
  {
   "cell_type": "code",
   "execution_count": null,
   "id": "a51a7431",
   "metadata": {},
   "outputs": [],
   "source": [
    "a = 4\n",
    "if not a%2:\n",
    "    print(\"even\")\n",
    "else:\n",
    "    print(\"odd\")"
   ]
  },
  {
   "cell_type": "code",
   "execution_count": null,
   "id": "e47f9c0e",
   "metadata": {
    "scrolled": false
   },
   "outputs": [],
   "source": [
    "a = dFoF_z[:, 0]\n",
    "std = np.nanstd(a)\n",
    "inactive = np.nonzero(a < std*2)[0]\n",
    "active = np.copy(a)\n",
    "#active[inactive] = 0\n",
    "\n",
    "plt.figure()\n",
    "plt.plot(a)\n",
    "b = np.copy(a)\n",
    "b[inactive] = np.nan\n",
    "\n",
    "plt.plot(b)\n",
    "plt.ylim((-1,7))\n",
    "\n",
    "active = np.split(active, 2)\n",
    "frame_tracker = 0\n",
    "\n",
    "for i in active:\n",
    "    inactive = np.array(inactive) - frame_tracker\n",
    "    ina = [x for x in inactive if x >0 and x <= len(i)]\n",
    "    print(ina)\n",
    "    c = np.copy(i)\n",
    "    c[ina[:-1]] = 0\n",
    "    d = i[ina[:-1]]\n",
    "    plt.figure()\n",
    "    plt.plot(i)\n",
    "    plt.plot(c)\n",
    "    plt.figure()\n",
    "    plt.plot(d)\n",
    "    frame_tracker = frame_tracker + len(i)"
   ]
  },
  {
   "cell_type": "code",
   "execution_count": null,
   "id": "871f4c4b",
   "metadata": {
    "scrolled": true
   },
   "outputs": [],
   "source": [
    "for col in dFoF_ds.columns:\n",
    "    plt.figure()\n",
    "    plt.title(f\"Cell {col + 1}\")\n",
    "    plt.plot(dFoF_z[:,col])\n",
    "    plt.figure()\n",
    "    plt.plot(spikes_z[:,col])"
   ]
  },
  {
   "cell_type": "code",
   "execution_count": null,
   "id": "dd33b8f4",
   "metadata": {
    "scrolled": true
   },
   "outputs": [],
   "source": [
    "import os\n",
    "cells = [0,4,5,7,9,10,18,19,23,25,28,45]\n",
    "save_path = r'C:\\Users\\Jake\\Desktop\\Figures\\BRAIN_F32\\Fig_1_General'\n",
    "\n",
    "for cell in cells:\n",
    "    plt.figure()\n",
    "    plt.title(f'Cell {cell + 1}')\n",
    "    plt.plot(spikes_z[cell])\n",
    "    plt.ylim(bottom=-1, top=30)\n",
    "    name = f'Cell_{cell + 1}'\n",
    "    fname = os.path.join(save_path, name)\n",
    "    fname = fname +'.pdf'\n",
    "    #plt.savefig(fname)"
   ]
  },
  {
   "cell_type": "code",
   "execution_count": null,
   "id": "097c8c41",
   "metadata": {},
   "outputs": [],
   "source": [
    "load_path = r'C:\\Users\\Jake\\Desktop\\Processed_data\\python_data\\JW070\\220311'\n",
    "fname = ['JW070_220311_Summary_dend1g', 'JW070_220311_Summary_dend1r']\n",
    "\n",
    "data = load_pickle(fname, load_path)\n",
    "spine_dFoF = data[0].Processed_dFoF\n",
    "spine_activity = data[0].ActivityMap\n",
    "dend_dFoF = data[1].Processed_Dendrite_dFoF\n",
    "dend_activity = data[1].Dendrite_Binarized"
   ]
  },
  {
   "cell_type": "code",
   "execution_count": null,
   "id": "f2d4699f",
   "metadata": {
    "scrolled": true
   },
   "outputs": [],
   "source": [
    "data[0]._fieldnames"
   ]
  },
  {
   "cell_type": "code",
   "execution_count": null,
   "id": "2d86fbea",
   "metadata": {},
   "outputs": [],
   "source": [
    "spine_dFoF_df = pd.DataFrame(spine_dFoF.T)\n",
    "spine_activity_df = pd.DataFrame(spine_activity.T)\n",
    "spine_dFoF_ds = pd.DataFrame()\n",
    "dend_dFoF_df = pd.DataFrame(dend_dFoF.T)\n",
    "dend_activity_df = pd.DataFrame(dend_activity.T)\n",
    "\n",
    "for col in spine_dFoF_df:\n",
    "    spine_dFoF_ds[col] = downsample_avg(6, np.asarray(spine_dFoF_df[col]))\n",
    "\n",
    "dend_dFoF_ds = downsample_avg(6, np.asarray(dend_dFoF_df[0]))\n",
    "dend_dFoF_ds = pd.DataFrame(dend_dFoF_ds)\n",
    "#spine_dFoF_z = utils.z_score(spine_dFoF_ds)\n",
    "#dend_dFoF_z = utils.z_score(dend_dFoF_ds)"
   ]
  },
  {
   "cell_type": "code",
   "execution_count": null,
   "id": "0c9a8614",
   "metadata": {},
   "outputs": [],
   "source": [
    "import copy\n",
    "def get_active_inactive(dFoF, active):\n",
    "    active_mask = (active == 1)\n",
    "    inactive_mask = (active == 0)\n",
    "    active_dFoF = np.copy(dFoF)\n",
    "    inactive_dFoF = np.copy(dFoF)\n",
    "    active_dFoF[active_mask] = np.nan\n",
    "    inactive_dFoF[inactive_mask] = np.nan\n",
    "    \n",
    "    return active_dFoF, inactive_dFoF"
   ]
  },
  {
   "cell_type": "code",
   "execution_count": null,
   "id": "7d961c01",
   "metadata": {
    "scrolled": true
   },
   "outputs": [],
   "source": [
    "save_path = r'C:\\Users\\Jake\\Desktop\\Figures\\BRAIN_F32\\Fig_2_Dual'\n",
    "for col in spine_dFoF_df.columns:\n",
    "    active_dFoF, inactive_dFoF = get_active_inactive(spine_dFoF_df[col], spine_activity_df[col])\n",
    "    plt.figure()\n",
    "    plt.title(f\"Cell {col + 1}\")\n",
    "    plt.plot(active_dFoF, color='blue')\n",
    "    plt.plot(inactive_dFoF, color='red')\n",
    "    plt.ylim(bottom=-0.5, top=1.5)\n",
    "    plt.xticks(ticks=[0,600],labels=[0,600])\n",
    "    name = f'Cell_{col + 1}'\n",
    "    fname = os.path.join(save_path, name)\n",
    "    fname = fname +'.pdf'\n",
    "    plt.savefig(fname)\n",
    "plt.figure()\n",
    "dend_active, dend_inactive = get_active_inactive(dend_dFoF_df[0], dend_activity_df[0])\n",
    "plt.title(\"Dendrite\")\n",
    "plt.plot(dend_active, color='blue')\n",
    "plt.plot(dend_inactive, color='red')\n",
    "name = 'Dendrite'\n",
    "fname = os.path.join(save_path, name)\n",
    "fname = fname + '.pdf'\n",
    "#plt.savefig(fname)"
   ]
  },
  {
   "cell_type": "code",
   "execution_count": null,
   "id": "2f2ad282",
   "metadata": {},
   "outputs": [],
   "source": [
    "cells = {0:[4000,8000], 1:[0,4000],7:[4000,8000],10:[2000,6000], 21:[4000,8000], 26:[3000,7000]}\n",
    "save_path = r'C:\\Users\\Jake\\Desktop\\Figures\\BRAIN_F32\\Fig_1_General'\n",
    "\n",
    "for key, value in cells.items():\n",
    "    print(value)\n",
    "    plt.figure()\n",
    "    plt.title(f'Cell {key + 1}')\n",
    "    plt.plot(spine_dFoF_df[key].iloc[value[0]:value[1]])\n",
    "    plt.ylim(bottom=-1, top=2.5)\n",
    "    name = f'Cell_{key + 1}'\n",
    "    fname = os.path.join(save_path, name)\n",
    "    fname = fname +'.pdf'\n",
    "    #plt.savefig(fname)"
   ]
  },
  {
   "cell_type": "code",
   "execution_count": null,
   "id": "837c3d5d",
   "metadata": {},
   "outputs": [],
   "source": [
    "total_21 = np.array([36,39,43,43,42,41,41,40,41,40,39,40,43,42])\n",
    "new_21 = np.array([0,9,11,3,1,4,3,3,2,2,3,4,5,3])\n",
    "elim_21 = np.array([0,6,6,3,2,5,3,4,1,3,4,3,2,4])\n",
    "\n",
    "total_22 = np.array([34,36,29,29,31,29,27,28,20,31,32,33,33,32])\n",
    "new_22 = np.array([0,5,0,3,4,4,3,2,2,2,3,3,2,1])\n",
    "elim_22 = np.array([0,3,7,3,2,6,5,1,1,0,22,2,2,2])\n",
    "\n",
    "total_22b = np.array([38,33,30,31,34,35,38,33,34,38,34,33,33,31])\n",
    "new_22b = np.array([0,2,0,2,6,4,4,0,4,6,1,2,2,2])\n",
    "elim_22b = np.array([0,7,3,1,3,2,1,5,3,2,5,3,2,4])\n",
    "\n",
    "total_41 = np.array([40,39,44,46,47,46,46,45,45,40,39,41,42,42])\n",
    "new_41 = np.array([0,2,6,2,3,2,3,0,1,0,2,2,1,1])\n",
    "elim_41 = np.array([0,3,1,0,1,3,3,1,1,5,3,0,0,1])\n",
    "\n",
    "total_41b = np.array([49,53,58,57,58,52,51,48,45,46,43,46,46,44])\n",
    "new_41b = np.array([0,5,9,1,4,3,4,2,3,3,1,7,4,3])\n",
    "elim_41b = np.array([0,1,4,2,3,9,3,5,6,2,4,4,4,1])\n",
    "\n",
    "total_44 = np.array([90,83,83,85,84,83,84,86,84,83,83,87,84,86])\n",
    "new_44 = np.array([0,3,6,4,4,5,3,6,2,3,5,6,1,4])\n",
    "elim_44 = np.array([0,10,6,2,5,6,2,4,4,4,5,2,3,2])"
   ]
  },
  {
   "cell_type": "code",
   "execution_count": null,
   "id": "06d194b8",
   "metadata": {},
   "outputs": [],
   "source": [
    "control_total = [total_21, total_41, total_41b]\n",
    "control_new = [new_21, new_41, new_41b]\n",
    "control_elim = [elim_21, elim_41, elim_41b]\n",
    "gbp_total = [total_22, total_22b, total_44]\n",
    "gbp_new = [new_22, new_22b, new_44]\n",
    "gbp_elim = [elim_22, elim_22b, elim_44]\n",
    "\n",
    "control_tot_norm = []\n",
    "control_new_frac = []\n",
    "control_elim_frac = []\n",
    "for tot, new, elim in zip(control_total, control_new, control_elim):\n",
    "    tot_norm = [x/tot[0] for x in tot]\n",
    "    new_frac = [new[i]/tot[i] for i in range(len(new))]\n",
    "    elim_frac = [-elim[a]/tot[a] for a in range(len(elim))]\n",
    "    control_tot_norm.append(np.array(tot_norm))\n",
    "    control_new_frac.append(np.array(new_frac))\n",
    "    control_elim_frac.append(np.array(elim_frac))\n",
    "\n",
    "    \n",
    "gbp_tot_norm = []\n",
    "gbp_new_frac = []\n",
    "gbp_elim_frac = []\n",
    "for tot, new, elim in zip(gbp_total, gbp_new, gbp_elim):\n",
    "    tot_norm = [x/tot[0] for x in tot]\n",
    "    new_frac = [new[i]/tot[i] for i in range(len(new))]\n",
    "    elim_frac = [-elim[a]/tot[a] for a in range(len(elim))]\n",
    "    gbp_tot_norm.append(np.array(tot_norm))\n",
    "    gbp_new_frac.append(np.array(new_frac))\n",
    "    gbp_elim_frac.append(np.array(elim_frac))"
   ]
  },
  {
   "cell_type": "code",
   "execution_count": null,
   "id": "b7fca661",
   "metadata": {},
   "outputs": [],
   "source": [
    "from scipy import stats\n",
    "control_tot_mean = np.mean(control_tot_norm, axis=0)\n",
    "control_tot_sem = stats.sem(control_tot_norm, axis=0)\n",
    "control_new_mean = np.mean(control_new_frac, axis=0)\n",
    "control_new_sem = stats.sem(control_new_frac, axis=0)\n",
    "control_elim_mean = np.mean(control_elim_frac, axis=0)\n",
    "control_elim_sem = stats.sem(control_elim_frac, axis=0)\n",
    "\n",
    "gbp_tot_mean = np.mean(gbp_tot_norm, axis=0)\n",
    "gbp_tot_sem = stats.sem(gbp_tot_norm, axis=0)\n",
    "gbp_new_mean = np.mean(gbp_new_frac, axis=0)\n",
    "gbp_new_sem = stats.sem(gbp_new_frac, axis=0)\n",
    "gbp_elim_mean = np.mean(gbp_elim_frac, axis=0)\n",
    "gbp_elim_sem = stats.sem(gbp_elim_frac, axis=0)"
   ]
  },
  {
   "cell_type": "code",
   "execution_count": null,
   "id": "5036700c",
   "metadata": {},
   "outputs": [],
   "source": [
    "import matplotlib.pyplot as plt\n",
    "%matplotlib notebook\n",
    "path =  r'C:\\Users\\Jake\\Desktop\\Figures'\n",
    "fig = plt.figure(figsize=(7,5))\n",
    "fig.suptitle(\"Normalized Spine Density\")\n",
    "sessions = [x+1 for x in range(len(control_tot_mean))]\n",
    "plt.errorbar(sessions, control_tot_mean, yerr=control_tot_sem, color=\"black\", marker=\"o\", markerfacecolor=\"white\", markeredgecolor='black',\n",
    "            linewidth=1.5, elinewidth=0.8, ecolor=\"black\")\n",
    "plt.errorbar(sessions, gbp_tot_mean, yerr=gbp_tot_sem, color=\"red\", marker=\"o\", markerfacecolor=\"white\", markeredgecolor='red',\n",
    "            linewidth=1.5, elinewidth=0.8, ecolor=\"red\")\n",
    "plt.xlabel(\"Session\", labelpad=15)\n",
    "plt.ylabel(\"Spine Density (Norm.)\", labelpad=15)\n",
    "plt.ylim(bottom=0.7, top = 1.3)\n",
    "plt.axhline(y=1.0, color=\"black\", linestyle=\"--\")\n",
    "fig.tight_layout()\n",
    "fname = os.path.join(path, 'spine_density.pdf')\n",
    "plt.savefig(fname)"
   ]
  },
  {
   "cell_type": "code",
   "execution_count": null,
   "id": "875186ae",
   "metadata": {},
   "outputs": [],
   "source": [
    "fig = plt.figure(figsize=(7,5))\n",
    "fig.suptitle(\"Control Spine Dynamics\")\n",
    "\n",
    "plt.bar(sessions, height=control_new_mean, yerr=control_new_sem,color=\"black\")\n",
    "plt.bar(sessions, height=control_elim_mean, yerr=control_elim_sem, color=\"black\")\n",
    "plt.axhline(y=0, color=\"black\", linestyle=\"-\")\n",
    "plt.xlabel(\"Session\", labelpad=15)\n",
    "plt.ylabel(\"Spine Dynamics (frac.)\", labelpad=15)\n",
    "plt.ylim(bottom=-.25, top = .25)\n",
    "fig.tight_layout()\n",
    "fname = os.path.join(path, 'ctl_dynamics.pdf')\n",
    "plt.savefig(fname)"
   ]
  },
  {
   "cell_type": "code",
   "execution_count": null,
   "id": "2585153b",
   "metadata": {},
   "outputs": [],
   "source": [
    "fig = plt.figure(figsize=(7,5))\n",
    "fig.suptitle(\"GBP Spine Dynamics\")\n",
    "\n",
    "plt.bar(sessions, height=gbp_new_mean, yerr=gbp_new_sem,color=\"red\")\n",
    "plt.bar(sessions, height=gbp_elim_mean, yerr=gbp_elim_sem, color=\"red\")\n",
    "plt.axhline(y=0, color=\"black\", linestyle=\"-\")\n",
    "plt.xlabel(\"Session\", labelpad=15)\n",
    "plt.ylabel(\"Spine Dynamics (frac.)\", labelpad=15)\n",
    "plt.ylim(bottom=-.25, top = .25)\n",
    "fig.tight_layout()\n",
    "fname = os.path.join(path, 'gbp_dynamics.pdf')\n",
    "plt.savefig(fname)"
   ]
  },
  {
   "cell_type": "code",
   "execution_count": null,
   "id": "951acfca",
   "metadata": {},
   "outputs": [],
   "source": [
    "a = np.array([[1,2,3],[4,5,6]])\n",
    "b = np.array([[4,5,6,7],[8,9,10,11]])\n",
    "m = b.shape[1]\n",
    "c = [a,b]\n",
    "\n",
    "padded = []\n",
    "for x in c:\n",
    "    diff = m - x.shape[1]\n",
    "    if diff > 0:\n",
    "        z = np.zeros((x.shape[0], diff))\n",
    "        print(x)\n",
    "        padded.append(np.concatenate((x, z),axis=1))\n",
    "    else:\n",
    "        padded.append(x)"
   ]
  },
  {
   "cell_type": "code",
   "execution_count": null,
   "id": "928c9e18",
   "metadata": {},
   "outputs": [],
   "source": [
    "type(padded[0])"
   ]
  },
  {
   "cell_type": "code",
   "execution_count": null,
   "id": "6540de72",
   "metadata": {},
   "outputs": [],
   "source": [
    "d= np.int64(1)"
   ]
  },
  {
   "cell_type": "code",
   "execution_count": null,
   "id": "c6f90e3f",
   "metadata": {},
   "outputs": [],
   "source": [
    "isinstance(d, (int, np.int32, np.int64))"
   ]
  },
  {
   "cell_type": "code",
   "execution_count": null,
   "id": "6ac0979e",
   "metadata": {},
   "outputs": [],
   "source": [
    "c = np.array([\"a\", \"b\"])"
   ]
  },
  {
   "cell_type": "code",
   "execution_count": null,
   "id": "21b4fee1",
   "metadata": {},
   "outputs": [],
   "source": [
    "type(c[0]) == np.str_"
   ]
  },
  {
   "cell_type": "code",
   "execution_count": null,
   "id": "0dad7dfc",
   "metadata": {},
   "outputs": [],
   "source": [
    "if type(b[0]) == str:\n",
    "    print(\"it's a string\")"
   ]
  },
  {
   "cell_type": "code",
   "execution_count": null,
   "id": "c8183262",
   "metadata": {},
   "outputs": [],
   "source": [
    "a = type(c[0])\n",
    "\n",
    "type(a(b[0]))"
   ]
  },
  {
   "cell_type": "code",
   "execution_count": 5,
   "id": "d3636a45",
   "metadata": {},
   "outputs": [
    {
     "name": "stdout",
     "output_type": "stream",
     "text": [
      "A\n"
     ]
    }
   ],
   "source": [
    "a = 4\n",
    "\n",
    "if not a % 2:\n",
    "    print(\"A\")"
   ]
  },
  {
   "cell_type": "code",
   "execution_count": null,
   "id": "23bda388",
   "metadata": {},
   "outputs": [],
   "source": []
  }
 ],
 "metadata": {
  "kernelspec": {
   "display_name": "Python 3 (ipykernel)",
   "language": "python",
   "name": "python3"
  },
  "language_info": {
   "codemirror_mode": {
    "name": "ipython",
    "version": 3
   },
   "file_extension": ".py",
   "mimetype": "text/x-python",
   "name": "python",
   "nbconvert_exporter": "python",
   "pygments_lexer": "ipython3",
   "version": "3.8.1"
  }
 },
 "nbformat": 4,
 "nbformat_minor": 5
}
