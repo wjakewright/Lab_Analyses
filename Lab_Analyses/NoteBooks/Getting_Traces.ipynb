{
 "cells": [
  {
   "cell_type": "code",
   "execution_count": 1,
   "id": "28f514c0",
   "metadata": {},
   "outputs": [],
   "source": [
    "## Imports\n",
    "import os\n",
    "import numpy as np                    \n",
    "import matplotlib.pyplot as plt\n",
    "import seaborn as sns\n",
    "from Lab_Analyses.Spine_Analysis_v2 import spine_utilities as s_utils\n",
    "\n",
    "sns.set()\n",
    "sns.set_style(\"ticks\")"
   ]
  },
  {
   "cell_type": "code",
   "execution_count": 84,
   "id": "c194c075",
   "metadata": {},
   "outputs": [],
   "source": [
    "## Specify data to load\n",
    "mouse_id = \"JW153\"\n",
    "days = [\"Early\"]\n",
    "fov_type = \"apical\"\n",
    "\n",
    "# Load the data\n",
    "full_data = s_utils.load_spine_datasets(mouse_id, days, fov_type)"
   ]
  },
  {
   "cell_type": "code",
   "execution_count": 85,
   "id": "c8291706",
   "metadata": {},
   "outputs": [],
   "source": [
    "# Grab relevant data\n",
    "data = full_data[\"FOV2_apical\"][\"Early\"]"
   ]
  },
  {
   "cell_type": "code",
   "execution_count": 25,
   "id": "7b40d0a6",
   "metadata": {},
   "outputs": [
    {
     "data": {
      "text/plain": [
       "dict_keys(['mouse_id', 'session', 'date', 'imaging_parameters', 'time', 'lever_force_resample', 'lever_force_smooth', 'lever_velocity_envelope', 'lever_active', 'rewarded_movement_force', 'rewarded_movement_binary', 'binary_cue', 'reward_delivery', 'punish_delivery', 'spine_flags', 'spine_groupings', 'spine_positions', 'spine_volume', 'corrected_spine_volume', 'spine_GluSnFr_dFoF', 'spine_GluSnFr_processed_dFoF', 'spine_GluSnFr_activity', 'spine_GluSnFr_floored', 'spine_calcium_dFoF', 'spine_calcium_processed_dFoF', 'spine_calcium_activity', 'spine_calcium_floored', 'movement_spines', 'reward_movement_spines', 'silent_spines', 'reward_silent_spines', 'dendrite_length', 'dendrite_calcium_dFoF', 'dendrite_calcium_processed_dFoF', 'dendrite_calcium_activity', 'dendrite_calcium_floored', 'movement_dendrites', 'reward_movement_dendrites', 'silent_dendrites', 'reward_silent_dendrites', 'poly_dendrite_positions', 'poly_dendrite_calcium_dFoF', 'poly_dendrite_calcium_processed_dFoF', 'followup_flags', 'followup_volume', 'corrected_followup_volume', 'followup_positions', 'followup_groupings'])"
      ]
     },
     "execution_count": 25,
     "metadata": {},
     "output_type": "execute_result"
    }
   ],
   "source": [
    "data.__dict__.keys()"
   ]
  },
  {
   "cell_type": "code",
   "execution_count": null,
   "id": "bb5c10b2",
   "metadata": {},
   "outputs": [],
   "source": [
    "data.imaging_parameters"
   ]
  },
  {
   "cell_type": "code",
   "execution_count": 86,
   "id": "20a95f31",
   "metadata": {},
   "outputs": [],
   "source": [
    "# Get activity related data\n",
    "spine_activity = data.spine_GluSnFr_activity\n",
    "spine_dFoF = data.spine_GluSnFr_processed_dFoF\n",
    "dendrite_activity = data.dendrite_calcium_activity\n",
    "dendrite_dFoF = data.dendrite_calcium_processed_dFoF\n",
    "spine_calcium = data.spine_calcium_processed_dFoF"
   ]
  },
  {
   "cell_type": "code",
   "execution_count": 87,
   "id": "d0b1e3a4",
   "metadata": {},
   "outputs": [],
   "source": [
    "# Mask active and inactive portions\n",
    "def get_active_inactive(dFoF, active):\n",
    "    inactive_mask = (active == 1)\n",
    "    active_mask = (active == 0)\n",
    "    active_dFoF = np.copy(dFoF)\n",
    "    inactive_dFoF = np.copy(dFoF)\n",
    "    active_dFoF[active_mask] = np.nan\n",
    "    inactive_dFoF[inactive_mask] = np.nan\n",
    "    \n",
    "    return active_dFoF, inactive_dFoF"
   ]
  },
  {
   "cell_type": "code",
   "execution_count": 88,
   "id": "6cba3118",
   "metadata": {},
   "outputs": [],
   "source": [
    "spine_active = np.zeros(spine_activity.shape) * np.nan\n",
    "spine_inactive = np.zeros(spine_activity.shape) * np.nan\n",
    "dend_active = np.zeros(dendrite_activity.shape) * np.nan\n",
    "dend_inactive = np.zeros(dendrite_activity.shape) * np.nan\n",
    "\n",
    "for i in range(spine_activity.shape[1]):\n",
    "    s_active, s_inactive = get_active_inactive(spine_dFoF[:, i], spine_activity[:, i])\n",
    "    d_active, d_inactive = get_active_inactive(dendrite_dFoF[:, i], dendrite_activity[:, i])\n",
    "    spine_active[:, i] = s_active\n",
    "    spine_inactive[:, i] = s_inactive\n",
    "    dend_active[:, i] = d_active\n",
    "    dend_inactive[:, i] = d_inactive"
   ]
  },
  {
   "cell_type": "code",
   "execution_count": 29,
   "id": "2b5ee492",
   "metadata": {
    "scrolled": false
   },
   "outputs": [
    {
     "name": "stderr",
     "output_type": "stream",
     "text": [
      "C:\\Users\\Jake\\AppData\\Local\\Temp\\ipykernel_24020\\385542645.py:5: RuntimeWarning: More than 20 figures have been opened. Figures created through the pyplot interface (`matplotlib.pyplot.figure`) are retained until explicitly closed and may consume too much memory. (To control this warning, see the rcParam `figure.max_open_warning`). Consider using `matplotlib.pyplot.close()`.\n",
      "  plt.figure()\n"
     ]
    }
   ],
   "source": [
    "# Explore the traces\n",
    "%matplotlib qt\n",
    "\n",
    "for i in range(spine_activity.shape[1]):\n",
    "    plt.figure()\n",
    "    plt.plot(spine_inactive[:, i], color=\"black\")\n",
    "    plt.plot(spine_active[:, i], color=\"blue\")\n",
    "    plt.ylim(bottom=-0.5, top=1.5)"
   ]
  },
  {
   "cell_type": "code",
   "execution_count": 91,
   "id": "9457aba5",
   "metadata": {
    "scrolled": false
   },
   "outputs": [
    {
     "name": "stdout",
     "output_type": "stream",
     "text": [
      "23\n",
      "22\n",
      "21\n",
      "20\n",
      "19\n",
      "18\n",
      "17\n",
      "16\n",
      "15\n",
      "14\n",
      "13\n",
      "12\n",
      "11\n",
      "10\n",
      "9\n",
      "8\n",
      "7\n",
      "6\n",
      "5\n",
      "4\n",
      "3\n",
      "2\n",
      "1\n",
      "0\n"
     ]
    }
   ],
   "source": [
    "# Group plot\n",
    "%matplotlib qt\n",
    "save_path = r\"C:\\Users\\Jake\\Desktop\\Figures\\Examples\\Example_traces\"\n",
    "\n",
    "x = np.arange(len(spine_active)) / 60\n",
    "fig, ax = plt.subplot_mosaic(\"\"\"A\"\"\",figsize=(7,10))\n",
    "title = \"JW153_FOV2_Early_Glut_Calcium_Traces\"\n",
    "fig.suptitle(title)\n",
    "ax[\"A\"].plot(x[:], dend_inactive[:,0], color=\"red\", alpha=0.3, linewidth=.8)\n",
    "ax[\"A\"].plot(x[:], dend_active[:,0], color=\"red\", linewidth=.8)\n",
    "\n",
    "for  i in reversed(range(spine_activity.shape[1])):\n",
    "#for j, i in enumerate(reversed([5,9,1])):\n",
    "    if np.isnan(spine_active[:, i]).all():\n",
    "        continue\n",
    "    print(i)\n",
    "    #coactivity = dendrite_activity[:, 0] * spine_activity[:, i]\n",
    "    ax[\"A\"].plot(x[:], spine_inactive[:, i] + i +1.1, color=\"blue\", alpha=0.3, linewidth=.8)\n",
    "    ax[\"A\"].plot(x[:], spine_active[:, i] + i + 1.1, color=\"blue\", linewidth=.8)\n",
    "    ax[\"A\"].plot(x[:], spine_calcium[:, i] + i + 1.1, color=\"black\", linewidth=.8)\n",
    "\n",
    "fname = os.path.join(save_path, title)\n",
    "#fname = os.path.join(save_path, \"Spine_10_traces\")\n",
    "#fig.savefig(fname + \".pdf\")"
   ]
  },
  {
   "cell_type": "code",
   "execution_count": null,
   "id": "61432170",
   "metadata": {},
   "outputs": [],
   "source": [
    "fig, ax = plt.subplot_mosaic(\"\"\"A\"\"\",figsize=(7,10))\n",
    "x = np.arange(len(spine_active)) / 60\n",
    "ax[\"A\"].plot(x[5100:6300], dendrite_activity[5100:6300, 0], color=\"red\", alpha=1, linewidth=.8)\n",
    "for i in reversed(range(30,37)):\n",
    "    ax[\"A\"].plot(x[5100:6300], spine_activity[5100:6300, i] + i +1.1, color=\"black\", alpha=1, linewidth=.8)\n",
    "    \n",
    "fname = os.path.join(save_path, \"Example_coincidental_activity_binary\")\n",
    "fig.savefig(fname + \".pdf\")"
   ]
  },
  {
   "cell_type": "code",
   "execution_count": null,
   "id": "712483b9",
   "metadata": {},
   "outputs": [],
   "source": [
    "## Elim spine examples\n",
    "from numpy import genfromtxt\n",
    "control_dFoF = genfromtxt(r'Z:\\People\\Jake\\Ctl_dFoF.csv', delimiter=',').T\n",
    "control_activity = genfromtxt(r\"Z:\\People\\Jake\\Ctl_Active.csv\", delimiter=\",\").T\n",
    "elim_dFoF = genfromtxt(r\"Z:\\People\\Jake\\Elim_dFoF.csv\", delimiter=\",\").T\n",
    "elim_activity = genfromtxt(r\"Z:\\People\\Jake\\Elim_Active.csv\", delimiter=\",\").T"
   ]
  },
  {
   "cell_type": "code",
   "execution_count": null,
   "id": "4b2e0aa7",
   "metadata": {},
   "outputs": [],
   "source": [
    "ctl_active = np.zeros(control_activity.shape) * np.nan\n",
    "ctl_inactive = np.zeros(control_activity.shape) * np.nan\n",
    "elim_active = np.zeros(elim_activity.shape) * np.nan\n",
    "elim_inactive = np.zeros(elim_activity.shape) * np.nan\n",
    "\n",
    "for i in range(control_activity.shape[1]):\n",
    "    s_active, s_inactive = get_active_inactive(control_dFoF[:, i], control_activity[:, i])\n",
    "    ctl_active[:, i] = s_active\n",
    "    ctl_inactive[:, i] = s_inactive\n",
    "\n",
    "for i in range(elim_activity.shape[1]):\n",
    "    s_active, s_inactive = get_active_inactive(elim_dFoF[:, i], elim_activity[:, i])\n",
    "    elim_active[:, i] = s_active\n",
    "    elim_inactive[:, i] = s_inactive"
   ]
  },
  {
   "cell_type": "code",
   "execution_count": null,
   "id": "e36241c1",
   "metadata": {},
   "outputs": [],
   "source": [
    "# Group plot\n",
    "%matplotlib qt\n",
    "save_path = r\"C:\\Users\\Jake\\Desktop\\Figures\"\n",
    "\n",
    "x = np.arange(len(ctl_active)) / 60\n",
    "fig, ax = plt.subplot_mosaic(\"\"\"A\"\"\",figsize=(7,10))\n",
    "title = \"Control Spine Examples (elim proj.)\"\n",
    "fig.suptitle(title)\n",
    "\n",
    "\n",
    "for i in reversed(range(control_activity.shape[1])):\n",
    "    if np.isnan(ctl_active[:, i]).all():\n",
    "        continue\n",
    "    print(i)\n",
    "    ax[\"A\"].plot(x[:], ctl_inactive[:, i] + i +1.1, color=\"black\", alpha=0.3, linewidth=.8)\n",
    "    ax[\"A\"].plot(x[:], ctl_active[:, i] + i + 1.1, color=\"black\", linewidth=.8)\n",
    "\n",
    "fname = os.path.join(save_path, title)\n",
    "fname = os.path.join(save_path, \"Ctl_example_traces\")\n",
    "fig.savefig(fname + \".pdf\")"
   ]
  },
  {
   "cell_type": "code",
   "execution_count": null,
   "id": "c69acf2d",
   "metadata": {},
   "outputs": [],
   "source": [
    "# Group plot\n",
    "%matplotlib qt\n",
    "save_path = r\"C:\\Users\\Jake\\Desktop\\Figures\"\n",
    "\n",
    "x = np.arange(len(elim_active)) / 60\n",
    "fig, ax = plt.subplot_mosaic(\"\"\"A\"\"\",figsize=(7,10))\n",
    "title = \"Elim. Spine Examples (elim proj.)\"\n",
    "fig.suptitle(title)\n",
    "\n",
    "\n",
    "for i in reversed(range(elim_activity.shape[1])):\n",
    "    if np.isnan(elim_active[:, i]).all():\n",
    "        continue\n",
    "    print(i)\n",
    "    ax[\"A\"].plot(x[:], elim_inactive[:, i] + i +1.1, color=\"red\", alpha=0.3, linewidth=.8)\n",
    "    ax[\"A\"].plot(x[:], elim_active[:, i] + i + 1.1, color=\"red\", linewidth=.8)\n",
    "\n",
    "fname = os.path.join(save_path, title)\n",
    "fname = os.path.join(save_path, \"Elim_example_traces\")\n",
    "fig.savefig(fname + \".pdf\")"
   ]
  },
  {
   "cell_type": "code",
   "execution_count": null,
   "id": "25437df7",
   "metadata": {},
   "outputs": [],
   "source": []
  }
 ],
 "metadata": {
  "kernelspec": {
   "display_name": "Python 3 (ipykernel)",
   "language": "python",
   "name": "python3"
  },
  "language_info": {
   "codemirror_mode": {
    "name": "ipython",
    "version": 3
   },
   "file_extension": ".py",
   "mimetype": "text/x-python",
   "name": "python",
   "nbconvert_exporter": "python",
   "pygments_lexer": "ipython3",
   "version": "3.8.18"
  }
 },
 "nbformat": 4,
 "nbformat_minor": 5
}
