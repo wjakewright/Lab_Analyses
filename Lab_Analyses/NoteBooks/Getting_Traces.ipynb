{
 "cells": [
  {
   "cell_type": "code",
   "execution_count": 2,
   "id": "ed687e7b",
   "metadata": {},
   "outputs": [],
   "source": [
    "# Imports\n",
    "import os\n",
    "import numpy as np\n",
    "import matplotlib.pyplot as plt\n",
    "import seaborn as sns\n",
    "from Lab_Analyses.Spine_Analysis_v2 import spine_utilities as s_utils\n",
    "\n",
    "sns.set()\n",
    "sns.set_style(\"ticks\")"
   ]
  },
  {
   "cell_type": "code",
   "execution_count": null,
   "id": "c194c075",
   "metadata": {},
   "outputs": [],
   "source": [
    "## Specify data to load\n",
    "mouse_id = \"JW090\"\n",
    "days = [\"Early\"]\n",
    "fov_type = \"apical\"\n",
    "\n",
    "# Load the data\n",
    "full_data = s_utils.load_spine_datasets(mouse_id, days, fov_type)"
   ]
  },
  {
   "cell_type": "code",
   "execution_count": null,
   "id": "c8291706",
   "metadata": {},
   "outputs": [],
   "source": [
    "# Grab relevant data\n",
    "data = full_data[\"FOV2_apical\"][\"Early\"]"
   ]
  },
  {
   "cell_type": "code",
   "execution_count": null,
   "id": "7b40d0a6",
   "metadata": {},
   "outputs": [],
   "source": [
    "data.__dict__.keys()"
   ]
  },
  {
   "cell_type": "code",
   "execution_count": null,
   "id": "bb5c10b2",
   "metadata": {},
   "outputs": [],
   "source": [
    "data.imaging_parameters"
   ]
  },
  {
   "cell_type": "code",
   "execution_count": null,
   "id": "20a95f31",
   "metadata": {},
   "outputs": [],
   "source": [
    "# Get activity related data\n",
    "spine_activity = data.spine_GluSnFr_activity\n",
    "spine_dFoF = data.spine_GluSnFr_processed_dFoF\n",
    "dendrite_activity = data.dendrite_calcium_activity\n",
    "dendrite_dFoF = data.dendrite_calcium_processed_dFoF"
   ]
  },
  {
   "cell_type": "code",
   "execution_count": 6,
   "id": "973714fb",
   "metadata": {},
   "outputs": [],
   "source": [
    "from Lab_Analyses.Utilities.load_mat_files import load_mat\n",
    "matlab_path = r\"Z:\\People\\Nathan\\Elim Spine Manuscript\\GluSnFR2_data\"\n",
    "matlat_data = load_mat(\"NH085_Aligned\", path=matlab_path)"
   ]
  },
  {
   "cell_type": "code",
   "execution_count": 7,
   "id": "17eea490",
   "metadata": {},
   "outputs": [
    {
     "data": {
      "text/plain": [
       "array([[0.   ],\n",
       "       [0.125],\n",
       "       [0.5  ],\n",
       "       [1.   ],\n",
       "       [0.   ],\n",
       "       [0.125],\n",
       "       [0.625]])"
      ]
     },
     "execution_count": 7,
     "metadata": {},
     "output_type": "execute_result"
    }
   ],
   "source": [
    "#spine_dFoF = matlat_data[-1].ProcessedSpineActivity.T\n",
    "#spine_activity = matlat_data[-1].BinarizedOverallSpineData.T\n",
    "import sklearn as sk\n",
    "\n",
    "#a = np.array([[1,2],\n",
    "#              [10,10],\n",
    "#              [5, 15]])\n",
    "a = np.array([1,2,5,9,1,2,6])\n",
    "scaler = sk.preprocessing.MinMaxScaler()\n",
    "b = scaler.fit_transform(a)\n",
    "b"
   ]
  },
  {
   "cell_type": "code",
   "execution_count": 8,
   "id": "d0b1e3a4",
   "metadata": {},
   "outputs": [],
   "source": [
    "# Mask active and inactive portions\n",
    "def get_active_inactive(dFoF, active):\n",
    "    inactive_mask = (active == 1)\n",
    "    active_mask = (active == 0)\n",
    "    active_dFoF = np.copy(dFoF)\n",
    "    inactive_dFoF = np.copy(dFoF)\n",
    "    active_dFoF[active_mask] = np.nan\n",
    "    inactive_dFoF[inactive_mask] = np.nan\n",
    "    \n",
    "    return active_dFoF, inactive_dFoF"
   ]
  },
  {
   "cell_type": "code",
   "execution_count": 9,
   "id": "6cba3118",
   "metadata": {},
   "outputs": [],
   "source": [
    "spine_active = np.zeros(spine_activity.shape) * np.nan\n",
    "spine_inactive = np.zeros(spine_activity.shape) * np.nan\n",
    "dend_active = np.zeros(dendrite_activity.shape) * np.nan\n",
    "dend_inactive = np.zeros(dendrite_activity.shape) * np.nan\n",
    "\n",
    "for i in range(spine_activity.shape[1]):\n",
    "    s_active, s_inactive = get_active_inactive(spine_dFoF[:, i], spine_activity[:, i])\n",
    "    d_active, d_inactive = get_active_inactive(dendrite_dFoF[:, i], dendrite_activity[:, i])\n",
    "    spine_active[:, i] = s_active\n",
    "    spine_inactive[:, i] = s_inactive\n",
    "    dend_active[:, i] = d_active\n",
    "    dend_inactive[:, i] = d_inactive"
   ]
  },
  {
   "cell_type": "code",
   "execution_count": null,
   "id": "2b5ee492",
   "metadata": {
    "scrolled": false
   },
   "outputs": [],
   "source": [
    "# Explore the traces\n",
    "%matplotlib qt\n",
    "\n",
    "for i in range(spine_activity.shape[1]):\n",
    "    plt.figure()\n",
    "    plt.plot(spine_inactive[:, i], color=\"black\")\n",
    "    plt.plot(spine_active[:, i], color=\"blue\")\n",
    "    plt.ylim(bottom=-0.5, top=1.5)"
   ]
  },
  {
   "cell_type": "code",
   "execution_count": null,
   "id": "9457aba5",
   "metadata": {
    "scrolled": false
   },
   "outputs": [],
   "source": [
    "# Group plot\n",
    "%matplotlib qt\n",
    "save_path = r\"C:\\Users\\Jake\\Desktop\\Figures\\Examples\\Example_traces\\dual_GluSnFr_RCaMP\"\n",
    "\n",
    "x = np.arange(len(spine_active)) / 60\n",
    "fig, ax = plt.subplot_mosaic(\"\"\"A\"\"\",figsize=(7,10))\n",
    "title = \"JW090_FOV2_Early_All_spine_traces\"\n",
    "fig.suptitle(title)\n",
    "#ax[\"A\"].plot(x, dend_inactive[33000:, 0], color=\"red\", alpha=0.3, linewidth=.8)\n",
    "#ax[\"A\"].plot(x, dend_active[33000:, 0], color=\"red\", linewidth=.8)\n",
    "\n",
    "for i in reversed(range(spine_activity.shape[1])):\n",
    "    ax[\"A\"].plot(x, spine_inactive[:, i] + i +1.1, color=\"blue\", alpha=0.3, linewidth=.8)\n",
    "    ax[\"A\"].plot(x, spine_active[:, i] + i + 1.1, color=\"blue\", linewidth=.8)\n",
    "\n",
    "fname = os.path.join(save_path, title)\n",
    "#fig.savefig(fname + \".pdf\")"
   ]
  },
  {
   "cell_type": "code",
   "execution_count": null,
   "id": "61432170",
   "metadata": {},
   "outputs": [],
   "source": [
    "import re\n",
    "\n",
    "\n",
    "fname = \"JW223_FOV1_test_kir_population_data\""
   ]
  },
  {
   "cell_type": "code",
   "execution_count": null,
   "id": "712483b9",
   "metadata": {},
   "outputs": [],
   "source": [
    "import random\n",
    "import numpy as np\n",
    "a = np.array([1,2,3,4,5,6,7,8,9,10])\n",
    "\n",
    "b = random.sample(list(a), 5)\n",
    "print(b)"
   ]
  },
  {
   "cell_type": "code",
   "execution_count": null,
   "id": "f0c2b2d3",
   "metadata": {},
   "outputs": [],
   "source": [
    "import matplotlib.pyplot as plt"
   ]
  },
  {
   "cell_type": "code",
   "execution_count": null,
   "id": "9434fb01",
   "metadata": {},
   "outputs": [],
   "source": [
    "data = np.random.random(size=(1000,22))\n",
    "fig, axs = plt.subplots(2,3, figsize=(7,4)\n",
    ")\n",
    "gridspec = axs[0, 0].get_subplotspec().get_gridspec()\n",
    "# clear the left column for the subfigure:\n",
    "for a in axs[:, 0]:\n",
    "    a.remove()\n",
    "for a in axs[:, 1]:\n",
    "    a.remove()\n",
    "# make the subfigure in the empty gridspec slots:\n",
    "subfig = fig.add_subfigure(gridspec[:, 0])\n",
    "axsLeft = subfig.subplots(3,1,sharex=True,                                         )                       \n",
    "               interpolation='nearest')\n",
    "a2 = axsLeft[1].imshow(data[:,5:10].T, cmap=\"hot\", \n",
    "               vmin=0.0, vmax=1.0, aspect='auto',  \n",
    "               interpolation='nearest')\n",
    "a3 = axsLeft[2].imshow(data[:,11:].T, cmap=\"hot\", \n",
    "               vmin=0.0, vmax=1.0, aspect='auto',  \n",
    "               interpolation='nearest')\n",
    "subfig.colorbar(a1, shrink=0.3, ax=axsLeft, location='right', orientation=\"vertical\")\n",
    "axs[0,2].plot(data[:, 0])\n",
    "subfig2 = fig.add_subfigure(gridspec[:, 1])\n",
    "axsLeft2 = subfig2.subplots(1,1,sharex=True)\n",
    "a12 = axsLeft2.imshow(data[:,:5].T, cmap=\"hot\", \n",
    "               vmin=0.0, vmax=1.0, aspect='auto',  \n",
    "               interpolation='nearest')\n"
   ]
  },
  {
   "cell_type": "code",
   "execution_count": null,
   "id": "0ef0fd6e",
   "metadata": {},
   "outputs": [],
   "source": []
  },
  {
   "cell_type": "code",
   "execution_count": null,
   "id": "a352810f",
   "metadata": {},
   "outputs": [],
   "source": [
    "a = [\"JW111\", \"JW111\", \"JW222\", \"JW222\"]\n",
    "b = [\"FOV1\", \"FOV2\",\"FOV1\", \"FOV2\"]\n",
    "c = np.array([(x==\"JW111\") * (y==\"FOV2\") for x,y in zip(a,b)]).astype(bool)"
   ]
  },
  {
   "cell_type": "code",
   "execution_count": null,
   "id": "3d96e947",
   "metadata": {},
   "outputs": [],
   "source": [
    "c"
   ]
  },
  {
   "cell_type": "code",
   "execution_count": null,
   "id": "8edbac56",
   "metadata": {},
   "outputs": [],
   "source": [
    "import numpy as np\n",
    "a = np.zeros((5,5))"
   ]
  },
  {
   "cell_type": "code",
   "execution_count": null,
   "id": "c438f524",
   "metadata": {},
   "outputs": [],
   "source": [
    "a = np.array([1,2,3,4,5])\n",
    "b = np.ones(a.shape)"
   ]
  },
  {
   "cell_type": "code",
   "execution_count": null,
   "id": "34024365",
   "metadata": {},
   "outputs": [],
   "source": [
    "a = np.append(a, np.array([np.nan, np.nan]))"
   ]
  },
  {
   "cell_type": "code",
   "execution_count": null,
   "id": "14f47340",
   "metadata": {},
   "outputs": [],
   "source": [
    "np.percentile(a, 50)"
   ]
  },
  {
   "cell_type": "code",
   "execution_count": null,
   "id": "30ef2f3e",
   "metadata": {},
   "outputs": [],
   "source": [
    "def exp_func(t, A, K, C):\n",
    "    return A * np.exp(-K * t) + C"
   ]
  },
  {
   "cell_type": "code",
   "execution_count": null,
   "id": "d9d49abb",
   "metadata": {},
   "outputs": [],
   "source": [
    "plt.figure()\n",
    "plt.plot(np.arange(100), exp_func(np.arange(100), 100, 0.005, 6))"
   ]
  },
  {
   "cell_type": "code",
   "execution_count": null,
   "id": "53bfc2b9",
   "metadata": {},
   "outputs": [],
   "source": [
    "fitted = exp_func(np.arange(100), 100, 0.000005, 6)\n",
    "m = (fitted[-1] - fitted[0]) / (\n",
    "                    np.arange(100)[-1] / 60\n",
    "                    - np.arange(100)[0] / 60\n",
    "                )\n",
    "m"
   ]
  },
  {
   "cell_type": "code",
   "execution_count": null,
   "id": "4b2e0aa7",
   "metadata": {},
   "outputs": [],
   "source": []
  }
 ],
 "metadata": {
  "kernelspec": {
   "display_name": "Python 3 (ipykernel)",
   "language": "python",
   "name": "python3"
  },
  "language_info": {
   "codemirror_mode": {
    "name": "ipython",
    "version": 3
   },
   "file_extension": ".py",
   "mimetype": "text/x-python",
   "name": "python",
   "nbconvert_exporter": "python",
   "pygments_lexer": "ipython3",
   "version": "3.8.1"
  }
 },
 "nbformat": 4,
 "nbformat_minor": 5
}
