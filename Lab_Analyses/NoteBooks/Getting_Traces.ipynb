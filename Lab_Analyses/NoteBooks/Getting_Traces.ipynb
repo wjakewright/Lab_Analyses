{
 "cells": [
  {
   "cell_type": "code",
   "execution_count": 1,
   "id": "28f514c0",
   "metadata": {},
   "outputs": [],
   "source": [
    "## Imports\n",
    "import os\n",
    "import numpy as np                    \n",
    "import matplotlib.pyplot as plt\n",
    "import seaborn as sns\n",
    "from Lab_Analyses.Spine_Analysis_v2 import spine_utilities as s_utils\n",
    "\n",
    "sns.set()\n",
    "sns.set_style(\"ticks\")"
   ]
  },
  {
   "cell_type": "code",
   "execution_count": 111,
   "id": "c194c075",
   "metadata": {},
   "outputs": [],
   "source": [
    "## Specify data to load\n",
    "mouse_id = \"JW153\"\n",
    "days = [\"Early\"]\n",
    "fov_type = \"apical\"\n",
    "\n",
    "# Load the data\n",
    "full_data = s_utils.load_spine_datasets(mouse_id, days, fov_type)"
   ]
  },
  {
   "cell_type": "code",
   "execution_count": 112,
   "id": "c8291706",
   "metadata": {},
   "outputs": [],
   "source": [
    "# Grab relevant data\n",
    "data = full_data[\"FOV2_apical\"][\"Early\"]"
   ]
  },
  {
   "cell_type": "code",
   "execution_count": 16,
   "id": "7b40d0a6",
   "metadata": {},
   "outputs": [
    {
     "data": {
      "text/plain": [
       "dict_keys(['mouse_id', 'session', 'date', 'imaging_parameters', 'time', 'lever_force_resample', 'lever_force_smooth', 'lever_velocity_envelope', 'lever_active', 'rewarded_movement_force', 'rewarded_movement_binary', 'binary_cue', 'reward_delivery', 'punish_delivery', 'spine_flags', 'spine_groupings', 'spine_positions', 'spine_volume', 'corrected_spine_volume', 'spine_GluSnFr_dFoF', 'spine_GluSnFr_processed_dFoF', 'spine_GluSnFr_activity', 'spine_GluSnFr_floored', 'spine_calcium_dFoF', 'spine_calcium_processed_dFoF', 'spine_calcium_activity', 'spine_calcium_floored', 'movement_spines', 'reward_movement_spines', 'silent_spines', 'reward_silent_spines', 'dendrite_length', 'dendrite_calcium_dFoF', 'dendrite_calcium_processed_dFoF', 'dendrite_calcium_activity', 'dendrite_calcium_floored', 'movement_dendrites', 'reward_movement_dendrites', 'silent_dendrites', 'reward_silent_dendrites', 'poly_dendrite_positions', 'poly_dendrite_calcium_dFoF', 'poly_dendrite_calcium_processed_dFoF', 'followup_flags', 'followup_volume', 'corrected_followup_volume'])"
      ]
     },
     "execution_count": 16,
     "metadata": {},
     "output_type": "execute_result"
    }
   ],
   "source": [
    "data.__dict__.keys()"
   ]
  },
  {
   "cell_type": "code",
   "execution_count": null,
   "id": "bb5c10b2",
   "metadata": {},
   "outputs": [],
   "source": [
    "from Lab_Analyses.Utilities.save_load_pickle import load_pickle"
   ]
  },
  {
   "cell_type": "code",
   "execution_count": null,
   "id": "2b1b882a",
   "metadata": {},
   "outputs": [],
   "source": [
    "#path = r\"G:\\Spine_Project_Data\\JW153\\spine_data\\FOV2_apical\\JW153_FOV2_apical_Early_dual_spine_data.pickle\"\n",
    "\n",
    "#data = load_pickle([path])[0]"
   ]
  },
  {
   "cell_type": "code",
   "execution_count": 113,
   "id": "20a95f31",
   "metadata": {},
   "outputs": [],
   "source": [
    "# Get activity related data\n",
    "spine_activity = data.spine_GluSnFr_activity\n",
    "spine_dFoF = data.spine_GluSnFr_processed_dFoF\n",
    "dendrite_activity = data.dendrite_calcium_activity\n",
    "dendrite_dFoF = data.dendrite_calcium_processed_dFoF\n",
    "spine_calcium = data.spine_calcium_processed_dFoF"
   ]
  },
  {
   "cell_type": "code",
   "execution_count": 18,
   "id": "d0b1e3a4",
   "metadata": {},
   "outputs": [],
   "source": [
    "# Mask active and inactive portions\n",
    "def get_active_inactive(dFoF, active):\n",
    "    inactive_mask = (active == 1)\n",
    "    active_mask = (active == 0)\n",
    "    active_dFoF = np.copy(dFoF)\n",
    "    inactive_dFoF = np.copy(dFoF)\n",
    "    active_dFoF[active_mask] = np.nan\n",
    "    inactive_dFoF[inactive_mask] = np.nan\n",
    "    \n",
    "    return active_dFoF, inactive_dFoF"
   ]
  },
  {
   "cell_type": "code",
   "execution_count": 114,
   "id": "6cba3118",
   "metadata": {},
   "outputs": [],
   "source": [
    "spine_active = np.zeros(spine_activity.shape) * np.nan\n",
    "spine_inactive = np.zeros(spine_activity.shape) * np.nan\n",
    "dend_active = np.zeros(dendrite_activity.shape) * np.nan\n",
    "dend_inactive = np.zeros(dendrite_activity.shape) * np.nan\n",
    "\n",
    "for i in range(spine_activity.shape[1]):\n",
    "    s_active, s_inactive = get_active_inactive(spine_dFoF[:, i], spine_activity[:, i])\n",
    "    d_active, d_inactive = get_active_inactive(dendrite_dFoF[:, i], dendrite_activity[:, i])\n",
    "    spine_active[:, i] = s_active\n",
    "    spine_inactive[:, i] = s_inactive\n",
    "    dend_active[:, i] = d_active\n",
    "    dend_inactive[:, i] = d_inactive"
   ]
  },
  {
   "cell_type": "code",
   "execution_count": null,
   "id": "2b5ee492",
   "metadata": {
    "scrolled": false
   },
   "outputs": [],
   "source": [
    "# Explore the traces\n",
    "%matplotlib qt\n",
    "\n",
    "for i in range(spine_activity.shape[1]):\n",
    "    plt.figure()\n",
    "    plt.plot(spine_inactive[:, i], color=\"black\")\n",
    "    plt.plot(spine_active[:, i], color=\"blue\")\n",
    "    plt.ylim(bottom=-0.5, top=1.5)"
   ]
  },
  {
   "cell_type": "code",
   "execution_count": 118,
   "id": "9457aba5",
   "metadata": {
    "scrolled": false
   },
   "outputs": [
    {
     "name": "stdout",
     "output_type": "stream",
     "text": [
      "11\n",
      "10\n",
      "9\n"
     ]
    }
   ],
   "source": [
    "# Group plot\n",
    "%matplotlib qt\n",
    "save_path = r\"C:\\Users\\Jake\\Desktop\\Figures\\Examples\\Example_traces\"\n",
    "\n",
    "x = np.arange(len(spine_active)) / 60\n",
    "fig, ax = plt.subplot_mosaic(\"\"\"A\"\"\",figsize=(7,10))\n",
    "title = \"JW306_FOV2_Coactivity_Example\"\n",
    "fig.suptitle(title)\n",
    "frame_range = (12000, 14400-1000)\n",
    "\n",
    "frame_range=(0, len(x))\n",
    "ax[\"A\"].plot(x[frame_range[0]:frame_range[1]], dend_inactive[frame_range[0]:frame_range[1],0], color=\"red\", alpha=0.3, linewidth=.8)\n",
    "ax[\"A\"].plot(x[frame_range[0]:frame_range[1]], dend_active[frame_range[0]:frame_range[1],0], color=\"red\", linewidth=.8)\n",
    "spine_idxs = [9,10,11]\n",
    "zzz = 39\n",
    "#for  i in reversed(range(spine_activity.shape[1])):\n",
    "for j, i in enumerate(reversed(spine_idxs)):\n",
    "    if np.isnan(spine_active[:, i]).all():\n",
    "        continue\n",
    "    print(i)\n",
    "    #coactivity = dendrite_activity[:, 0] * spine_activity[:, i]\n",
    "    ax[\"A\"].plot(x[frame_range[0]:frame_range[1]], spine_inactive[frame_range[0]:frame_range[1], i] + j +1.1, color=\"blue\", alpha=0.3, linewidth=.8)\n",
    "    ax[\"A\"].plot(x[frame_range[0]:frame_range[1]], spine_active[frame_range[0]:frame_range[1], i] + j + 1.1, color=\"blue\", linewidth=.8)\n",
    "    #ax[\"A\"].plot(x[:], spine_calcium[:, i] + i + 1.1, color=\"black\", linewidth=.8)\n",
    "\n",
    "\n",
    "fname = os.path.join(save_path, title)\n",
    "fig.savefig(fname + \".svg\")"
   ]
  },
  {
   "cell_type": "code",
   "execution_count": 108,
   "id": "16df0976",
   "metadata": {},
   "outputs": [
    {
     "ename": "NameError",
     "evalue": "name 'dend_activity' is not defined",
     "output_type": "error",
     "traceback": [
      "\u001b[1;31m---------------------------------------------------------------------------\u001b[0m",
      "\u001b[1;31mNameError\u001b[0m                                 Traceback (most recent call last)",
      "Cell \u001b[1;32mIn[108], line 12\u001b[0m\n\u001b[0;32m      9\u001b[0m frame_range2 \u001b[38;5;241m=\u001b[39m (\u001b[38;5;241m42930\u001b[39m, \u001b[38;5;241m45330\u001b[39m\u001b[38;5;241m-\u001b[39m\u001b[38;5;241m1000\u001b[39m)\n\u001b[0;32m     10\u001b[0m \u001b[38;5;66;03m#frame_range=(0, len(x))\u001b[39;00m\n\u001b[0;32m     11\u001b[0m \u001b[38;5;66;03m#ax[\"A\"].plot(x[frame_range[0]:frame_range[1]], dend_inactive[frame_range[0]:frame_range[1],0], color=\"red\", alpha=0.3, linewidth=.8)\u001b[39;00m\n\u001b[1;32m---> 12\u001b[0m ax[\u001b[38;5;124m\"\u001b[39m\u001b[38;5;124mA\u001b[39m\u001b[38;5;124m\"\u001b[39m]\u001b[38;5;241m.\u001b[39mplot(x[frame_range[\u001b[38;5;241m0\u001b[39m]:frame_range[\u001b[38;5;241m1\u001b[39m]], \u001b[43mdend_activity\u001b[49m[frame_range[\u001b[38;5;241m0\u001b[39m]:frame_range[\u001b[38;5;241m1\u001b[39m],\u001b[38;5;241m0\u001b[39m], color\u001b[38;5;241m=\u001b[39m\u001b[38;5;124m\"\u001b[39m\u001b[38;5;124mred\u001b[39m\u001b[38;5;124m\"\u001b[39m, linewidth\u001b[38;5;241m=\u001b[39m\u001b[38;5;241m.8\u001b[39m)\n\u001b[0;32m     13\u001b[0m spine_idxs \u001b[38;5;241m=\u001b[39m [\u001b[38;5;241m39\u001b[39m, \u001b[38;5;241m31\u001b[39m, \u001b[38;5;241m48\u001b[39m]\n\u001b[0;32m     14\u001b[0m zzz \u001b[38;5;241m=\u001b[39m \u001b[38;5;241m39\u001b[39m\n",
      "\u001b[1;31mNameError\u001b[0m: name 'dend_activity' is not defined"
     ]
    }
   ],
   "source": [
    "# Group plot\n",
    "save_path = r\"C:\\Users\\Jake\\Desktop\\Figures\\Examples\\Example_traces\"\n",
    "\n",
    "x = np.arange(len(spine_active)) / 60\n",
    "fig, ax = plt.subplot_mosaic(\"\"\"A\"\"\",figsize=(7,10))\n",
    "title = \"JW306_FOV2_Coactivity_Example_Binarized\"\n",
    "fig.suptitle(title)\n",
    "frame_range = (12000, 14400-1000)\n",
    "frame_range2 = (42930, 45330-1000)\n",
    "#frame_range=(0, len(x))\n",
    "#ax[\"A\"].plot(x[frame_range[0]:frame_range[1]], dend_inactive[frame_range[0]:frame_range[1],0], color=\"red\", alpha=0.3, linewidth=.8)\n",
    "ax[\"A\"].plot(x[frame_range[0]:frame_range[1]], dend_activity[frame_range[0]:frame_range[1],0], color=\"red\", linewidth=.8)\n",
    "spine_idxs = [39, 30, 48]\n",
    "zzz = 39\n",
    "#for  i in reversed(range(spine_activity.shape[1])):\n",
    "for j, i in enumerate(reversed(spine_idxs)):\n",
    "    if np.isnan(spine_active[:, i]).all():\n",
    "        continue\n",
    "    print(i)\n",
    "    #coactivity = dendrite_activity[:, 0] * spine_activity[:, i]\n",
    "    ax[\"A\"].plot(x[frame_range[0]:frame_range[1]], spine_activity[frame_range[0]:frame_range[1], i] + j +1.1, color=\"blue\", alpha=1, linewidth=.8)\n",
    "    #ax[\"A\"].plot(x[frame_range[0]:frame_range[1]], spine_active[frame_range[0]:frame_range[1], i] + j + 1.1, color=\"blue\", linewidth=.8)\n",
    "    #ax[\"A\"].plot(x[:], spine_calcium[:, i] + i + 1.1, color=\"black\", linewidth=.8)\n",
    "\n",
    "#fname = os.path.join(save_path, title)\n",
    "fname = os.path.join(save_path, title)\n",
    "fig.savefig(fname + \".svg\")"
   ]
  },
  {
   "cell_type": "code",
   "execution_count": null,
   "id": "61432170",
   "metadata": {},
   "outputs": [],
   "source": [
    "fig, ax = plt.subplot_mosaic(\"\"\"A\"\"\",figsize=(7,10))\n",
    "x = np.arange(len(spine_active)) / 60\n",
    "ax[\"A\"].plot(x[5100:6300], dendrite_activity[5100:6300, 0], color=\"red\", alpha=1, linewidth=.8)\n",
    "for i in reversed(range(30,37)):\n",
    "    ax[\"A\"].plot(x[5100:6300], spine_activity[5100:6300, i] + i +1.1, color=\"black\", alpha=1, linewidth=.8)\n",
    "    \n",
    "fname = os.path.join(save_path, \"Example_coincidental_activity_binary\")\n",
    "fig.savefig(fname + \".pdf\")"
   ]
  },
  {
   "cell_type": "code",
   "execution_count": null,
   "id": "712483b9",
   "metadata": {},
   "outputs": [],
   "source": [
    "## Elim spine examples\n",
    "from numpy import genfromtxt\n",
    "control_dFoF = genfromtxt(r'Z:\\People\\Jake\\Ctl_dFoF.csv', delimiter=',').T\n",
    "control_activity = genfromtxt(r\"Z:\\People\\Jake\\Ctl_Active.csv\", delimiter=\",\").T\n",
    "elim_dFoF = genfromtxt(r\"Z:\\People\\Jake\\Elim_dFoF.csv\", delimiter=\",\").T\n",
    "elim_activity = genfromtxt(r\"Z:\\People\\Jake\\Elim_Active.csv\", delimiter=\",\").T"
   ]
  },
  {
   "cell_type": "code",
   "execution_count": null,
   "id": "4b2e0aa7",
   "metadata": {},
   "outputs": [],
   "source": [
    "ctl_active = np.zeros(control_activity.shape) * np.nan\n",
    "ctl_inactive = np.zeros(control_activity.shape) * np.nan\n",
    "elim_active = np.zeros(elim_activity.shape) * np.nan\n",
    "elim_inactive = np.zeros(elim_activity.shape) * np.nan\n",
    "\n",
    "for i in range(control_activity.shape[1]):\n",
    "    s_active, s_inactive = get_active_inactive(control_dFoF[:, i], control_activity[:, i])\n",
    "    ctl_active[:, i] = s_active\n",
    "    ctl_inactive[:, i] = s_inactive\n",
    "\n",
    "for i in range(elim_activity.shape[1]):\n",
    "    s_active, s_inactive = get_active_inactive(elim_dFoF[:, i], elim_activity[:, i])\n",
    "    elim_active[:, i] = s_active\n",
    "    elim_inactive[:, i] = s_inactive"
   ]
  },
  {
   "cell_type": "code",
   "execution_count": null,
   "id": "e36241c1",
   "metadata": {},
   "outputs": [],
   "source": [
    "# Group plot\n",
    "%matplotlib qt\n",
    "save_path = r\"C:\\Users\\Jake\\Desktop\\Figures\"\n",
    "\n",
    "x = np.arange(len(ctl_active)) / 60\n",
    "fig, ax = plt.subplot_mosaic(\"\"\"A\"\"\",figsize=(7,10))\n",
    "title = \"Control Spine Examples (elim proj.)\"\n",
    "fig.suptitle(title)\n",
    "\n",
    "\n",
    "for i in reversed(range(control_activity.shape[1])):\n",
    "    if np.isnan(ctl_active[:, i]).all():\n",
    "        continue\n",
    "    print(i)\n",
    "    ax[\"A\"].plot(x[:], ctl_inactive[:, i] + i +1.1, color=\"black\", alpha=0.3, linewidth=.8)\n",
    "    ax[\"A\"].plot(x[:], ctl_active[:, i] + i + 1.1, color=\"black\", linewidth=.8)\n",
    "\n",
    "fname = os.path.join(save_path, title)\n",
    "fname = os.path.join(save_path, \"Ctl_example_traces\")\n",
    "fig.savefig(fname + \".pdf\")"
   ]
  },
  {
   "cell_type": "code",
   "execution_count": null,
   "id": "c69acf2d",
   "metadata": {},
   "outputs": [],
   "source": [
    "# Group plot\n",
    "%matplotlib qt\n",
    "save_path = r\"C:\\Users\\Jake\\Desktop\\Figures\"\n",
    "\n",
    "x = np.arange(len(elim_active)) / 60\n",
    "fig, ax = plt.subplot_mosaic(\"\"\"A\"\"\",figsize=(7,10))\n",
    "title = \"Elim. Spine Examples (elim proj.)\"\n",
    "fig.suptitle(title)\n",
    "\n",
    "\n",
    "for i in reversed(range(elim_activity.shape[1])):\n",
    "    if np.isnan(elim_active[:, i]).all():\n",
    "        continue\n",
    "    print(i)\n",
    "    ax[\"A\"].plot(x[:], elim_inactive[:, i] + i +1.1, color=\"red\", alpha=0.3, linewidth=.8)\n",
    "    ax[\"A\"].plot(x[:], elim_active[:, i] + i + 1.1, color=\"red\", linewidth=.8)\n",
    "\n",
    "fname = os.path.join(save_path, title)\n",
    "fname = os.path.join(save_path, \"Elim_example_traces\")\n",
    "fig.savefig(fname + \".pdf\")"
   ]
  },
  {
   "cell_type": "code",
   "execution_count": null,
   "id": "25437df7",
   "metadata": {},
   "outputs": [],
   "source": [
    "session = [\"Early\", \"Late\", \"Middle\"]\n",
    "\n",
    "if \"Early\" and \"Late\" and \"Middle\""
   ]
  }
 ],
 "metadata": {
  "kernelspec": {
   "display_name": "Python 3 (ipykernel)",
   "language": "python",
   "name": "python3"
  },
  "language_info": {
   "codemirror_mode": {
    "name": "ipython",
    "version": 3
   },
   "file_extension": ".py",
   "mimetype": "text/x-python",
   "name": "python",
   "nbconvert_exporter": "python",
   "pygments_lexer": "ipython3",
   "version": "3.8.20"
  }
 },
 "nbformat": 4,
 "nbformat_minor": 5
}
