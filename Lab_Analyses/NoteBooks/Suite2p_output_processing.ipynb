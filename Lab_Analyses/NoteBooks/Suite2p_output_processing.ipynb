{
 "cells": [
  {
   "cell_type": "code",
   "execution_count": 1,
   "id": "d8397fe8",
   "metadata": {},
   "outputs": [],
   "source": [
    "from Lab_Analyses.Video_Processing import reformat_suite2p_output as reformat"
   ]
  },
  {
   "cell_type": "code",
   "execution_count": null,
   "id": "d066d5ce",
   "metadata": {},
   "outputs": [],
   "source": [
    "time_series_dir = r\"D:\\Dual_Plane_Processed_tiffs\\JW153_FOV2_ts\\suite2p\\plane0\\reg_tif_chan2\"\n",
    "save_dir = r\"Z:\\People\\Jake\\Imaging_Data\\JW153\\230222\\soma_2\"\n",
    "out_name = \"JW153_FOV2_Soma_RedCh\""
   ]
  },
  {
   "cell_type": "code",
   "execution_count": null,
   "id": "fcb72e76",
   "metadata": {},
   "outputs": [],
   "source": [
    "## Reformat the time series \n",
    "reformat.reformat_suite2p_output(time_series_dir, save_dir, out_name, frame_num=800)"
   ]
  },
  {
   "cell_type": "code",
   "execution_count": 2,
   "id": "3b9e774f",
   "metadata": {},
   "outputs": [
    {
     "name": "stdout",
     "output_type": "stream",
     "text": [
      "['000.tif', '001.tif', '002.tif', '003.tif', '004.tif', '005.tif', '006.tif', '007.tif', '008.tif', '010.tif', '011.tif', '012.tif', '013.tif', '014.tif', '015.tif', '016.tif', '017.tif', '018.tif', '019.tif', '020.tif', '021.tif', '022.tif', '023.tif', '024.tif', '025.tif', '026.tif', '027.tif', '028.tif', '030.tif', '031.tif', '032.tif', '033.tif', '034.tif', '035.tif']\n",
      "(60, 512, 512)\n",
      "(60, 512, 512)\n",
      "(60, 512, 512)\n",
      "(60, 512, 512)\n",
      "(60, 512, 512)\n",
      "(60, 512, 512)\n",
      "(60, 512, 512)\n",
      "(60, 512, 512)\n",
      "(60, 512, 512)\n",
      "(60, 512, 512)\n",
      "(60, 512, 512)\n",
      "(60, 512, 512)\n",
      "(60, 512, 512)\n",
      "(60, 512, 512)\n",
      "(60, 512, 512)\n",
      "(60, 512, 512)\n",
      "(60, 512, 512)\n",
      "(60, 512, 512)\n",
      "(60, 512, 512)\n",
      "(60, 512, 512)\n",
      "(60, 512, 512)\n",
      "(60, 512, 512)\n",
      "(60, 512, 512)\n",
      "(60, 512, 512)\n",
      "(60, 512, 512)\n",
      "(60, 512, 512)\n",
      "(60, 512, 512)\n",
      "(60, 512, 512)\n",
      "(60, 512, 512)\n",
      "(60, 512, 512)\n",
      "(60, 512, 512)\n",
      "(60, 512, 512)\n",
      "(60, 512, 512)\n",
      "(60, 512, 512)\n"
     ]
    }
   ],
   "source": [
    "## Reformat z stack\n",
    "z_series_dir = r\"D:\\Dual_Plane_Processed_tiffs\\JW153_FOV1_zs\\suite2p\\all_planes\"\n",
    "save_dir = r\"Z:\\People\\Jake\\Imaging_Data\\JW153\\230222\\FOV1_zstack\"\n",
    "out_name = \"AVG_Stack\"\n",
    "reformat.reformat_suite2p_zstacks(z_series_dir, save_dir, out_name)"
   ]
  },
  {
   "cell_type": "code",
   "execution_count": null,
   "id": "f1c1376d",
   "metadata": {},
   "outputs": [],
   "source": []
  }
 ],
 "metadata": {
  "kernelspec": {
   "display_name": "Python 3 (ipykernel)",
   "language": "python",
   "name": "python3"
  },
  "language_info": {
   "codemirror_mode": {
    "name": "ipython",
    "version": 3
   },
   "file_extension": ".py",
   "mimetype": "text/x-python",
   "name": "python",
   "nbconvert_exporter": "python",
   "pygments_lexer": "ipython3",
   "version": "3.8.15"
  }
 },
 "nbformat": 4,
 "nbformat_minor": 5
}
