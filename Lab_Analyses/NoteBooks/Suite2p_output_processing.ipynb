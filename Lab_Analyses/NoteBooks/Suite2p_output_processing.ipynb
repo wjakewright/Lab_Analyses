{
 "cells": [
  {
   "cell_type": "code",
   "execution_count": 1,
   "id": "d8397fe8",
   "metadata": {},
   "outputs": [],
   "source": [
    "from Lab_Analyses.Video_Processing import reformat_suite2p_output as reformat"
   ]
  },
  {
   "cell_type": "code",
   "execution_count": 19,
   "id": "d066d5ce",
   "metadata": {},
   "outputs": [],
   "source": [
    "time_series_dir = r\"D:\\Dual_Plane_Processed_tiffs\\JW167_FOV3_ts\\suite2p\\plane0\\reg_tif_chan2\"\n",
    "save_dir = r\"Z:\\People\\Jake\\Imaging_Data\\JW167\\230404\\soma_3\"\n",
    "out_name = \"JW167_230404_Soma_RedCh\""
   ]
  },
  {
   "cell_type": "code",
   "execution_count": 20,
   "id": "fcb72e76",
   "metadata": {},
   "outputs": [
    {
     "name": "stdout",
     "output_type": "stream",
     "text": [
      "['file0000_chan1.tif', 'file0500_chan1.tif', 'file1000_chan1.tif', 'file1500_chan1.tif', 'file2000_chan1.tif', 'file2500_chan1.tif', 'file3000_chan1.tif', 'file3500_chan1.tif', 'file4000_chan1.tif']\n",
      "file0000_chan1.tif\n",
      "file0500_chan1.tif\n",
      "file1000_chan1.tif\n",
      "file1500_chan1.tif\n",
      "file2000_chan1.tif\n",
      "file2500_chan1.tif\n",
      "file3000_chan1.tif\n",
      "file3500_chan1.tif\n",
      "file4000_chan1.tif\n"
     ]
    }
   ],
   "source": [
    "## Reformat the time series \n",
    "reformat.reformat_suite2p_output(time_series_dir, save_dir, out_name, frame_num=800)"
   ]
  },
  {
   "cell_type": "code",
   "execution_count": 23,
   "id": "3b9e774f",
   "metadata": {},
   "outputs": [
    {
     "name": "stdout",
     "output_type": "stream",
     "text": [
      "['plane_00.tif', 'plane_01.tif', 'plane_02.tif', 'plane_03.tif', 'plane_04.tif', 'plane_05.tif', 'plane_06.tif', 'plane_07.tif', 'plane_08.tif', 'plane_09.tif', 'plane_10.tif', 'plane_11.tif', 'plane_12.tif', 'plane_13.tif', 'plane_14.tif']\n",
      "(60, 512, 512)\n",
      "(60, 512, 512)\n",
      "(60, 512, 512)\n",
      "(60, 512, 512)\n",
      "(60, 512, 512)\n",
      "(60, 512, 512)\n",
      "(60, 512, 512)\n",
      "(60, 512, 512)\n",
      "(60, 512, 512)\n",
      "(60, 512, 512)\n",
      "(60, 512, 512)\n",
      "(60, 512, 512)\n",
      "(60, 512, 512)\n",
      "(60, 512, 512)\n",
      "(60, 512, 512)\n"
     ]
    }
   ],
   "source": [
    "## Reformat z stack\n",
    "z_series_dir = r\"D:\\Dual_Plane_Processed_tiffs\\JW167_FOV3_zs\\suite2p\\all_planes\"\n",
    "save_dir = r\"Z:\\People\\Jake\\Imaging_Data\\JW167\\230404\\FOV3_zstack\"\n",
    "out_name = \"AVG_Stack\"\n",
    "reformat.reformat_suite2p_zstacks(z_series_dir, save_dir, out_name)"
   ]
  },
  {
   "cell_type": "code",
   "execution_count": null,
   "id": "f1c1376d",
   "metadata": {},
   "outputs": [],
   "source": []
  }
 ],
 "metadata": {
  "kernelspec": {
   "display_name": "Python 3 (ipykernel)",
   "language": "python",
   "name": "python3"
  },
  "language_info": {
   "codemirror_mode": {
    "name": "ipython",
    "version": 3
   },
   "file_extension": ".py",
   "mimetype": "text/x-python",
   "name": "python",
   "nbconvert_exporter": "python",
   "pygments_lexer": "ipython3",
   "version": "3.8.15"
  }
 },
 "nbformat": 4,
 "nbformat_minor": 5
}
