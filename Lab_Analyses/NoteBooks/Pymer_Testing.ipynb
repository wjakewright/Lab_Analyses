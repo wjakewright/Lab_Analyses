{
 "cells": [
  {
   "cell_type": "code",
   "execution_count": 1,
   "id": "e67c2668",
   "metadata": {},
   "outputs": [],
   "source": [
    "import os\n",
    "import pandas as pd\n",
    "\n",
    "os.environ[\"R_HOME\"] = r\"C:/Users/Jake/Documents/Anaconda3/envs/analysis_env/Lib/R\""
   ]
  },
  {
   "cell_type": "code",
   "execution_count": 2,
   "id": "1859075d",
   "metadata": {
    "scrolled": false
   },
   "outputs": [],
   "source": [
    "import pymer4"
   ]
  },
  {
   "cell_type": "code",
   "execution_count": 3,
   "id": "637314b8",
   "metadata": {},
   "outputs": [],
   "source": [
    "from pymer4.utils import get_resource_path\n",
    "\n",
    "df = pd.read_csv(os.path.join(get_resource_path(), \"sample_data.csv\"))"
   ]
  },
  {
   "cell_type": "code",
   "execution_count": 4,
   "id": "4109bd70",
   "metadata": {},
   "outputs": [
    {
     "data": {
      "text/plain": [
       "Index(['Group', 'IV1', 'DV_l', 'DV', 'IV2', 'IV3'], dtype='object')"
      ]
     },
     "execution_count": 4,
     "metadata": {},
     "output_type": "execute_result"
    }
   ],
   "source": [
    "\n",
    "df.columns"
   ]
  },
  {
   "cell_type": "code",
   "execution_count": 5,
   "id": "9e1fbc07",
   "metadata": {},
   "outputs": [],
   "source": [
    "import matplotlib.pyplot as plt\n",
    "from pymer4.models import Lmer"
   ]
  },
  {
   "cell_type": "code",
   "execution_count": 6,
   "id": "16d36961",
   "metadata": {},
   "outputs": [
    {
     "data": {
      "text/html": [
       "<div>\n",
       "<style scoped>\n",
       "    .dataframe tbody tr th:only-of-type {\n",
       "        vertical-align: middle;\n",
       "    }\n",
       "\n",
       "    .dataframe tbody tr th {\n",
       "        vertical-align: top;\n",
       "    }\n",
       "\n",
       "    .dataframe thead th {\n",
       "        text-align: right;\n",
       "    }\n",
       "</style>\n",
       "<table border=\"1\" class=\"dataframe\">\n",
       "  <thead>\n",
       "    <tr style=\"text-align: right;\">\n",
       "      <th></th>\n",
       "      <th>Group</th>\n",
       "      <th>IV1</th>\n",
       "      <th>DV_l</th>\n",
       "      <th>DV</th>\n",
       "      <th>IV2</th>\n",
       "      <th>IV3</th>\n",
       "      <th>Group_id</th>\n",
       "    </tr>\n",
       "  </thead>\n",
       "  <tbody>\n",
       "    <tr>\n",
       "      <th>0</th>\n",
       "      <td>1</td>\n",
       "      <td>20.0</td>\n",
       "      <td>0</td>\n",
       "      <td>7.936508</td>\n",
       "      <td>4.563492</td>\n",
       "      <td>0.5</td>\n",
       "      <td>sLTP</td>\n",
       "    </tr>\n",
       "    <tr>\n",
       "      <th>1</th>\n",
       "      <td>1</td>\n",
       "      <td>20.0</td>\n",
       "      <td>0</td>\n",
       "      <td>15.277778</td>\n",
       "      <td>0.000000</td>\n",
       "      <td>1.0</td>\n",
       "      <td>sLTD</td>\n",
       "    </tr>\n",
       "    <tr>\n",
       "      <th>2</th>\n",
       "      <td>1</td>\n",
       "      <td>20.0</td>\n",
       "      <td>1</td>\n",
       "      <td>0.000000</td>\n",
       "      <td>0.000000</td>\n",
       "      <td>1.5</td>\n",
       "      <td>Stable</td>\n",
       "    </tr>\n",
       "    <tr>\n",
       "      <th>3</th>\n",
       "      <td>1</td>\n",
       "      <td>20.0</td>\n",
       "      <td>1</td>\n",
       "      <td>9.523810</td>\n",
       "      <td>0.000000</td>\n",
       "      <td>0.5</td>\n",
       "      <td>sLTP</td>\n",
       "    </tr>\n",
       "    <tr>\n",
       "      <th>4</th>\n",
       "      <td>1</td>\n",
       "      <td>12.5</td>\n",
       "      <td>0</td>\n",
       "      <td>0.000000</td>\n",
       "      <td>0.000000</td>\n",
       "      <td>1.0</td>\n",
       "      <td>sLTD</td>\n",
       "    </tr>\n",
       "    <tr>\n",
       "      <th>...</th>\n",
       "      <td>...</td>\n",
       "      <td>...</td>\n",
       "      <td>...</td>\n",
       "      <td>...</td>\n",
       "      <td>...</td>\n",
       "      <td>...</td>\n",
       "      <td>...</td>\n",
       "    </tr>\n",
       "    <tr>\n",
       "      <th>559</th>\n",
       "      <td>53</td>\n",
       "      <td>8.0</td>\n",
       "      <td>0</td>\n",
       "      <td>48.412698</td>\n",
       "      <td>13.492063</td>\n",
       "      <td>1.0</td>\n",
       "      <td>sLTD</td>\n",
       "    </tr>\n",
       "    <tr>\n",
       "      <th>560</th>\n",
       "      <td>53</td>\n",
       "      <td>5.0</td>\n",
       "      <td>1</td>\n",
       "      <td>50.000000</td>\n",
       "      <td>70.039683</td>\n",
       "      <td>1.5</td>\n",
       "      <td>Stable</td>\n",
       "    </tr>\n",
       "    <tr>\n",
       "      <th>561</th>\n",
       "      <td>53</td>\n",
       "      <td>12.5</td>\n",
       "      <td>0</td>\n",
       "      <td>50.000000</td>\n",
       "      <td>69.047619</td>\n",
       "      <td>0.5</td>\n",
       "      <td>sLTP</td>\n",
       "    </tr>\n",
       "    <tr>\n",
       "      <th>562</th>\n",
       "      <td>53</td>\n",
       "      <td>5.0</td>\n",
       "      <td>0</td>\n",
       "      <td>50.000000</td>\n",
       "      <td>71.626984</td>\n",
       "      <td>1.0</td>\n",
       "      <td>sLTD</td>\n",
       "    </tr>\n",
       "    <tr>\n",
       "      <th>563</th>\n",
       "      <td>53</td>\n",
       "      <td>5.0</td>\n",
       "      <td>0</td>\n",
       "      <td>50.000000</td>\n",
       "      <td>69.642857</td>\n",
       "      <td>1.5</td>\n",
       "      <td>Stable</td>\n",
       "    </tr>\n",
       "  </tbody>\n",
       "</table>\n",
       "<p>564 rows × 7 columns</p>\n",
       "</div>"
      ],
      "text/plain": [
       "     Group   IV1  DV_l         DV        IV2  IV3 Group_id\n",
       "0        1  20.0     0   7.936508   4.563492  0.5     sLTP\n",
       "1        1  20.0     0  15.277778   0.000000  1.0     sLTD\n",
       "2        1  20.0     1   0.000000   0.000000  1.5   Stable\n",
       "3        1  20.0     1   9.523810   0.000000  0.5     sLTP\n",
       "4        1  12.5     0   0.000000   0.000000  1.0     sLTD\n",
       "..     ...   ...   ...        ...        ...  ...      ...\n",
       "559     53   8.0     0  48.412698  13.492063  1.0     sLTD\n",
       "560     53   5.0     1  50.000000  70.039683  1.5   Stable\n",
       "561     53  12.5     0  50.000000  69.047619  0.5     sLTP\n",
       "562     53   5.0     0  50.000000  71.626984  1.0     sLTD\n",
       "563     53   5.0     0  50.000000  69.642857  1.5   Stable\n",
       "\n",
       "[564 rows x 7 columns]"
      ]
     },
     "execution_count": 6,
     "metadata": {},
     "output_type": "execute_result"
    }
   ],
   "source": [
    "map_dict = {0.5: \"sLTP\", 1.0: \"sLTD\", 1.5: \"Stable\"}\n",
    "#map_dict = {1: \"sLTP\", 0: \"Stable\"}\n",
    "new_df = df.assign(Group_id=df[\"IV3\"].map(map_dict))\n",
    "#new_df = df.assign(Group_id=df[\"DV_l\"].map(map_dict))\n",
    "new_df"
   ]
  },
  {
   "cell_type": "code",
   "execution_count": 7,
   "id": "a7359587",
   "metadata": {},
   "outputs": [],
   "source": [
    "import numpy as np\n",
    "t=np.unique(new_df[\"DV_l\"])"
   ]
  },
  {
   "cell_type": "code",
   "execution_count": 9,
   "id": "8ccb4c7b",
   "metadata": {},
   "outputs": [
    {
     "data": {
      "text/plain": [
       "numpy.int64"
      ]
     },
     "execution_count": 9,
     "metadata": {},
     "output_type": "execute_result"
    }
   ],
   "source": [
    "type(t[0])"
   ]
  },
  {
   "cell_type": "code",
   "execution_count": 11,
   "id": "e534d43f",
   "metadata": {},
   "outputs": [
    {
     "name": "stdout",
     "output_type": "stream",
     "text": [
      "Linear mixed model fit by REML [’lmerMod’]\n",
      "Formula: DV~IV1+Group_id+(1|Group)\n",
      "\n",
      "Family: gaussian\t Inference: parametric\n",
      "\n",
      "Number of observations: 564\t Groups: {'Group': 47.0}\n",
      "\n",
      "Log-likelihood: -2404.654 \t AIC: 4821.309\n",
      "\n",
      "Random effects:\n",
      "\n",
      "                 Name      Var     Std\n",
      "Group     (Intercept)  727.418  26.971\n",
      "Residual               221.490  14.883\n",
      "\n",
      "No random effect correlations specified\n",
      "\n",
      "Fixed effects:\n",
      "\n"
     ]
    },
    {
     "data": {
      "text/html": [
       "<div>\n",
       "<style scoped>\n",
       "    .dataframe tbody tr th:only-of-type {\n",
       "        vertical-align: middle;\n",
       "    }\n",
       "\n",
       "    .dataframe tbody tr th {\n",
       "        vertical-align: top;\n",
       "    }\n",
       "\n",
       "    .dataframe thead th {\n",
       "        text-align: right;\n",
       "    }\n",
       "</style>\n",
       "<table border=\"1\" class=\"dataframe\">\n",
       "  <thead>\n",
       "    <tr style=\"text-align: right;\">\n",
       "      <th></th>\n",
       "      <th>Estimate</th>\n",
       "      <th>2.5_ci</th>\n",
       "      <th>97.5_ci</th>\n",
       "      <th>SE</th>\n",
       "      <th>DF</th>\n",
       "      <th>T-stat</th>\n",
       "      <th>P-val</th>\n",
       "      <th>Sig</th>\n",
       "    </tr>\n",
       "  </thead>\n",
       "  <tbody>\n",
       "    <tr>\n",
       "      <th>(Intercept)</th>\n",
       "      <td>37.586</td>\n",
       "      <td>28.613</td>\n",
       "      <td>46.560</td>\n",
       "      <td>4.579</td>\n",
       "      <td>79.101</td>\n",
       "      <td>8.209</td>\n",
       "      <td>0.000</td>\n",
       "      <td>***</td>\n",
       "    </tr>\n",
       "    <tr>\n",
       "      <th>IV1</th>\n",
       "      <td>0.342</td>\n",
       "      <td>0.005</td>\n",
       "      <td>0.679</td>\n",
       "      <td>0.172</td>\n",
       "      <td>522.785</td>\n",
       "      <td>1.986</td>\n",
       "      <td>0.048</td>\n",
       "      <td>*</td>\n",
       "    </tr>\n",
       "    <tr>\n",
       "      <th>Group_id1</th>\n",
       "      <td>-1.907</td>\n",
       "      <td>-4.524</td>\n",
       "      <td>0.711</td>\n",
       "      <td>1.335</td>\n",
       "      <td>517.071</td>\n",
       "      <td>-1.428</td>\n",
       "      <td>0.154</td>\n",
       "      <td></td>\n",
       "    </tr>\n",
       "    <tr>\n",
       "      <th>Group_id2</th>\n",
       "      <td>-0.986</td>\n",
       "      <td>-3.121</td>\n",
       "      <td>1.149</td>\n",
       "      <td>1.090</td>\n",
       "      <td>514.085</td>\n",
       "      <td>-0.905</td>\n",
       "      <td>0.366</td>\n",
       "      <td></td>\n",
       "    </tr>\n",
       "  </tbody>\n",
       "</table>\n",
       "</div>"
      ],
      "text/plain": [
       "             Estimate  2.5_ci  97.5_ci     SE       DF  T-stat  P-val  Sig\n",
       "(Intercept)    37.586  28.613   46.560  4.579   79.101   8.209  0.000  ***\n",
       "IV1             0.342   0.005    0.679  0.172  522.785   1.986  0.048    *\n",
       "Group_id1      -1.907  -4.524    0.711  1.335  517.071  -1.428  0.154     \n",
       "Group_id2      -0.986  -3.121    1.149  1.090  514.085  -0.905  0.366     "
      ]
     },
     "execution_count": 11,
     "metadata": {},
     "output_type": "execute_result"
    }
   ],
   "source": [
    "formula = \"DV ~ IV1 + Group_id + (1|Group)\"\n",
    "#formula = \"DV ~ DV_l*Group_id + (1|Group)\"\n",
    "#formula = \"DV ~ Group_id + (1|Group)\"\n",
    "model = Lmer(formula, data=new_df)\n",
    "model.fit(summarize=True, factors={\"Group_id\": [\"sLTP\", \"sLTD\", \"Stable\"]}, ordered=True)"
   ]
  },
  {
   "cell_type": "code",
   "execution_count": null,
   "id": "5d768945",
   "metadata": {
    "scrolled": false
   },
   "outputs": [],
   "source": []
  },
  {
   "cell_type": "code",
   "execution_count": 14,
   "id": "49335975",
   "metadata": {},
   "outputs": [
    {
     "name": "stdout",
     "output_type": "stream",
     "text": [
      "SS Type III Analysis of Variance Table with Satterthwaite approximated degrees of freedom:\n",
      "(NOTE: Model refit with orthogonal polynomial contrasts)\n"
     ]
    },
    {
     "data": {
      "text/html": [
       "<div>\n",
       "<style scoped>\n",
       "    .dataframe tbody tr th:only-of-type {\n",
       "        vertical-align: middle;\n",
       "    }\n",
       "\n",
       "    .dataframe tbody tr th {\n",
       "        vertical-align: top;\n",
       "    }\n",
       "\n",
       "    .dataframe thead th {\n",
       "        text-align: right;\n",
       "    }\n",
       "</style>\n",
       "<table border=\"1\" class=\"dataframe\">\n",
       "  <thead>\n",
       "    <tr style=\"text-align: right;\">\n",
       "      <th></th>\n",
       "      <th>SS</th>\n",
       "      <th>MS</th>\n",
       "      <th>NumDF</th>\n",
       "      <th>DenomDF</th>\n",
       "      <th>F-stat</th>\n",
       "      <th>P-val</th>\n",
       "      <th>Sig</th>\n",
       "    </tr>\n",
       "  </thead>\n",
       "  <tbody>\n",
       "    <tr>\n",
       "      <th>IV1</th>\n",
       "      <td>873.767716</td>\n",
       "      <td>873.767716</td>\n",
       "      <td>1</td>\n",
       "      <td>522.785407</td>\n",
       "      <td>3.944946</td>\n",
       "      <td>0.047534</td>\n",
       "      <td>*</td>\n",
       "    </tr>\n",
       "    <tr>\n",
       "      <th>Group_id</th>\n",
       "      <td>663.565644</td>\n",
       "      <td>331.782822</td>\n",
       "      <td>2</td>\n",
       "      <td>515.563281</td>\n",
       "      <td>1.497956</td>\n",
       "      <td>0.224558</td>\n",
       "      <td></td>\n",
       "    </tr>\n",
       "  </tbody>\n",
       "</table>\n",
       "</div>"
      ],
      "text/plain": [
       "                  SS          MS  NumDF     DenomDF    F-stat     P-val Sig\n",
       "IV1       873.767716  873.767716      1  522.785407  3.944946  0.047534   *\n",
       "Group_id  663.565644  331.782822      2  515.563281  1.497956  0.224558    "
      ]
     },
     "execution_count": 14,
     "metadata": {},
     "output_type": "execute_result"
    }
   ],
   "source": [
    "a = model.anova(force_orthogonal=True)\n",
    "\n",
    "a"
   ]
  },
  {
   "cell_type": "code",
   "execution_count": 17,
   "id": "cc377aab",
   "metadata": {},
   "outputs": [
    {
     "name": "stdout",
     "output_type": "stream",
     "text": [
      "P-values adjusted by fdr method for 3 comparisons\n"
     ]
    }
   ],
   "source": [
    "posthoc = model.post_hoc(marginal_vars=[\"IV1\"], grouping_vars=[\"Group_id\"], p_adjust=\"fdr\")"
   ]
  },
  {
   "cell_type": "code",
   "execution_count": 18,
   "id": "01e6416f",
   "metadata": {},
   "outputs": [
    {
     "data": {
      "text/plain": [
       "(  Group_id  Estimate  2.5_ci  97.5_ci     SE       DF\n",
       " 1   Stable     0.342   0.004     0.68  0.172  522.785\n",
       " 2     sLTD     0.342   0.004     0.68  0.172  522.785\n",
       " 3     sLTP     0.342   0.004     0.68  0.172  522.785,\n",
       "         Contrast  Estimate  2.5_ci  97.5_ci   SE  DF  Z-stat  P-val Sig\n",
       " 1  Stable - sLTD       0.0     0.0      0.0  0.0 NaN     NaN    NaN    \n",
       " 2  Stable - sLTP       0.0     0.0      0.0  0.0 NaN     NaN    NaN    \n",
       " 3    sLTD - sLTP       0.0     0.0      0.0  0.0 NaN     NaN    NaN    )"
      ]
     },
     "execution_count": 18,
     "metadata": {},
     "output_type": "execute_result"
    }
   ],
   "source": [
    "posthoc"
   ]
  },
  {
   "cell_type": "code",
   "execution_count": 15,
   "id": "0194c5e0",
   "metadata": {},
   "outputs": [
    {
     "data": {
      "text/html": [
       "\n",
       "        <span>FloatVector with 564 elements.</span>\n",
       "        <table>\n",
       "        <tbody>\n",
       "          <tr>\n",
       "          \n",
       "            <td>\n",
       "            8.391517\n",
       "            </td>\n",
       "          \n",
       "            <td>\n",
       "            8.250829\n",
       "            </td>\n",
       "          \n",
       "            <td>\n",
       "            5.694981\n",
       "            </td>\n",
       "          \n",
       "            <td>\n",
       "            ...\n",
       "            </td>\n",
       "          \n",
       "            <td>\n",
       "            51.061668\n",
       "            </td>\n",
       "          \n",
       "            <td>\n",
       "            48.356493\n",
       "            </td>\n",
       "          \n",
       "            <td>\n",
       "            45.800646\n",
       "            </td>\n",
       "          \n",
       "          </tr>\n",
       "        </tbody>\n",
       "        </table>\n",
       "        "
      ],
      "text/plain": [
       "<rpy2.robjects.vectors.FloatVector object at 0x000001700C325440> [RTYPES.REALSXP]\n",
       "R classes: ('numeric',)\n",
       "[8.391517, 8.250829, 5.694981, 8.391517, ..., 45.800646, 51.061668, 48.356493, 45.800646]"
      ]
     },
     "execution_count": 15,
     "metadata": {},
     "output_type": "execute_result"
    }
   ],
   "source": [
    "model.fits"
   ]
  },
  {
   "cell_type": "code",
   "execution_count": null,
   "id": "8ad00dc6",
   "metadata": {
    "scrolled": false
   },
   "outputs": [],
   "source": [
    "import numpy as np\n",
    "from scipy import stats\n",
    "sLTP_df = new_df[new_df[\"Group_id\"]==\"sLTP\"]\n",
    "sLTP_data = np.array(sLTP_df[\"DV\"])\n",
    "sLTD_df = new_df[new_df[\"Group_id\"]==\"sLTD\"]\n",
    "sLTD_data = np.array(sLTD_df[\"DV\"])\n",
    "stable_df = new_df[new_df[\"Group_id\"]==\"Stable\"]\n",
    "stable_data = np.array(stable_df[\"DV\"])"
   ]
  },
  {
   "cell_type": "code",
   "execution_count": null,
   "id": "10bbefd0",
   "metadata": {},
   "outputs": [],
   "source": [
    "posthoc1 = model.post_hoc(marginal_vars=[\"DV_l\"], grouping_vars=[\"Group_id\"], p_adjust=\"fdr\")\n",
    "posthoc1[1]"
   ]
  },
  {
   "cell_type": "code",
   "execution_count": null,
   "id": "0f35e716",
   "metadata": {},
   "outputs": [],
   "source": [
    "from statsmodels.stats.multitest import multipletests"
   ]
  },
  {
   "cell_type": "code",
   "execution_count": null,
   "id": "a1c73be0",
   "metadata": {},
   "outputs": [],
   "source": [
    "t1, p1 = stats.ttest_ind(sLTP_data, sLTD_data)\n",
    "t2, p2 = stats.ttest_ind(sLTP_data, stable_data)\n",
    "t3, p3 = stats.ttest_ind(sLTD_data, stable_data)"
   ]
  },
  {
   "cell_type": "code",
   "execution_count": null,
   "id": "b205e056",
   "metadata": {},
   "outputs": [],
   "source": [
    "raw_pvals = [p1, p2, p3]\n",
    "_, adj_pvals, _, _ = multipletests(\n",
    "            raw_pvals,\n",
    "            alpha=0.05,\n",
    "            method=\"fdr_tsbh\",\n",
    "            is_sorted=False,\n",
    "            returnsorted=False,\n",
    "        )"
   ]
  },
  {
   "cell_type": "code",
   "execution_count": null,
   "id": "4aeae7b7",
   "metadata": {},
   "outputs": [],
   "source": [
    "adj_pvals"
   ]
  },
  {
   "cell_type": "code",
   "execution_count": null,
   "id": "cf5e4404",
   "metadata": {},
   "outputs": [],
   "source": [
    "raw_pvals"
   ]
  },
  {
   "cell_type": "code",
   "execution_count": null,
   "id": "493f0141",
   "metadata": {},
   "outputs": [],
   "source": [
    "c = np.zeros(a.shape)\n",
    "c[:, 2] = d\n",
    "c"
   ]
  },
  {
   "cell_type": "code",
   "execution_count": null,
   "id": "d663926e",
   "metadata": {},
   "outputs": [],
   "source": [
    "data_dict = {\"A\": [1,1,1,1,1,1,1,np.nan], \"B\": [2,2,2,2,2,2,2,2], \"C\": [3,3,3,3,3,3,3,3]}\n",
    "random_dict = {\"A\": [\"a\",\"a\",\"a\",\"b\",\"b\",\"b\",\"c\",\"c\"], \"B\": [\"a\",\"a\",\"a\",\"b\",\"b\",\"b\",\"c\",\"c\"], \"C\": [\"a\",\"a\",\"a\",\"b\",\"b\",\"b\",\"c\",\"c\"]}"
   ]
  },
  {
   "cell_type": "code",
   "execution_count": null,
   "id": "d9aaa61c",
   "metadata": {},
   "outputs": [],
   "source": [
    "df = pd.DataFrame(dict([(k, pd.Series(v)) for k, v in data_dict.items()]))\n",
    "new_df = df.dropna()\n",
    "new_df"
   ]
  },
  {
   "cell_type": "code",
   "execution_count": null,
   "id": "67e7b92c",
   "metadata": {},
   "outputs": [],
   "source": [
    "df = pd.DataFrame.from_dict(data_dict)\n",
    "df"
   ]
  },
  {
   "cell_type": "code",
   "execution_count": null,
   "id": "f2990abc",
   "metadata": {},
   "outputs": [],
   "source": [
    "melted = pd.melt(df, value_vars=[\"A\", \"B\", \"C\"], var_name=\"condition\", value_name=\"data\")\n",
    "melted"
   ]
  },
  {
   "cell_type": "code",
   "execution_count": null,
   "id": "b6c7883a",
   "metadata": {},
   "outputs": [],
   "source": [
    "rand_df = pd.DataFrame.from_dict(random_dict)\n",
    "rand_melt = pd.melt(rand_df, value_vars=random_dict.keys(), var_name=\"condition\", value_name=\"rand_var\")\n",
    "rand_melt"
   ]
  },
  {
   "cell_type": "code",
   "execution_count": null,
   "id": "f4c41ada",
   "metadata": {},
   "outputs": [],
   "source": []
  },
  {
   "cell_type": "code",
   "execution_count": null,
   "id": "68ea1769",
   "metadata": {},
   "outputs": [],
   "source": [
    "melted[\"rand_var\"] = rand_melt[\"rand_var\"]"
   ]
  },
  {
   "cell_type": "code",
   "execution_count": null,
   "id": "45f1ad7c",
   "metadata": {},
   "outputs": [],
   "source": [
    "map_dict = {}\n",
    "codes = list(range(len(data_dict.keys())))\n",
    "for i, key in enumerate(data_dict.keys()):\n",
    "    map_dict[key] = codes[i]\n",
    "map_dict"
   ]
  },
  {
   "cell_type": "code",
   "execution_count": null,
   "id": "1eeab14b",
   "metadata": {},
   "outputs": [],
   "source": [
    "melted = melted.assign(condition_coded=melted[\"condition\"].map(map_dict))"
   ]
  },
  {
   "cell_type": "code",
   "execution_count": null,
   "id": "4859b54f",
   "metadata": {},
   "outputs": [],
   "source": [
    "melted"
   ]
  },
  {
   "cell_type": "code",
   "execution_count": null,
   "id": "05e490f8",
   "metadata": {},
   "outputs": [],
   "source": [
    "import pingouin as pg\n",
    "data_wide = pg.read_dataset('rm_anova_wide')\n",
    "data_wide"
   ]
  },
  {
   "cell_type": "code",
   "execution_count": null,
   "id": "d4df2b07",
   "metadata": {},
   "outputs": [],
   "source": [
    "import numpy as np\n",
    "dic = {\"A\": np.array([[1,2,3], [1,2,3]]), \"B\": np.array([[4,5,6], [4,5,6]]), \"C\": np.array([[7,8,9], [7,8,9]])}\n",
    "\n",
    "#a = np.array(list(dic.values())).T\n",
    "#a"
   ]
  },
  {
   "cell_type": "code",
   "execution_count": null,
   "id": "615c5597",
   "metadata": {},
   "outputs": [],
   "source": [
    "b = [a, a, a]"
   ]
  },
  {
   "cell_type": "code",
   "execution_count": null,
   "id": "25a6c4b6",
   "metadata": {},
   "outputs": [],
   "source": [
    "import matplotlib.pyplot as plt\n",
    "import numpy as np\n",
    "\n",
    "from sklearn.cross_decomposition import CCA\n",
    "from sklearn.datasets import make_multilabel_classification\n",
    "from sklearn.decomposition import PCA\n",
    "from sklearn.multiclass import OneVsRestClassifier\n",
    "from sklearn.svm import SVC\n",
    "\n",
    "X, Y = make_multilabel_classification(\n",
    "    n_classes=2, n_labels=1, allow_unlabeled=True, random_state=1\n",
    ")\n"
   ]
  },
  {
   "cell_type": "code",
   "execution_count": null,
   "id": "ec66e879",
   "metadata": {},
   "outputs": [],
   "source": [
    "Y = np.sum(Y, axis=1)"
   ]
  },
  {
   "cell_type": "code",
   "execution_count": null,
   "id": "133b1c11",
   "metadata": {},
   "outputs": [],
   "source": [
    "print(X.shape)\n",
    "clf = SVC(kernel=\"linear\", decision_function_shape=\"ovr\")\n",
    "clf.fit(X, Y)\n",
    "clf.classes_"
   ]
  },
  {
   "cell_type": "code",
   "execution_count": null,
   "id": "65efc248",
   "metadata": {},
   "outputs": [],
   "source": [
    "print(np.absolute(clf.coef_))"
   ]
  },
  {
   "cell_type": "code",
   "execution_count": null,
   "id": "73473481",
   "metadata": {},
   "outputs": [],
   "source": [
    "import matplotlib.pyplot as plt\n",
    "for i in range(clf.coef_.shape[0]):\n",
    "    plt.plot(np.absolute(clf.coef_[i, :]), marker=\"o\", linestyle=\"-\")\n",
    "    \n",
    "plt.plot(np.nanmean(np.absolute(clf.coef_), axis=0), color=\"black\")"
   ]
  },
  {
   "cell_type": "code",
   "execution_count": null,
   "id": "c4bcd3be",
   "metadata": {},
   "outputs": [],
   "source": [
    "from sklearn.preprocessing import LabelEncoder\n",
    "y = [\"sLTP\", \"sLTP\", \"Stable\", \"sLTD\", \"Stable\", \"sLTD\"]\n",
    "le = LabelEncoder()\n",
    "le.fit(y)"
   ]
  },
  {
   "cell_type": "code",
   "execution_count": null,
   "id": "10f8fbc4",
   "metadata": {},
   "outputs": [],
   "source": [
    "coded = le.transform(y)\n",
    "print(coded)"
   ]
  },
  {
   "cell_type": "code",
   "execution_count": null,
   "id": "486468c7",
   "metadata": {},
   "outputs": [],
   "source": [
    "a = \"distance_coactivity_rate\"\n",
    "if \"distance_coactivity_rate\" in a or\"distrbution\" in a:\n",
    "    print(\"Present\")"
   ]
  },
  {
   "cell_type": "code",
   "execution_count": null,
   "id": "437eb9db",
   "metadata": {},
   "outputs": [],
   "source": [
    "a = np.array([1,1,1,1,2,2,2,2,3,3,3,3]).reshape(3,4)\n",
    "d = {\"A\": a, \"B\": a, \"C\": a}"
   ]
  },
  {
   "cell_type": "code",
   "execution_count": null,
   "id": "a4449747",
   "metadata": {},
   "outputs": [],
   "source": [
    "import pandas as pd\n",
    "dfs = []\n",
    "sub_count = 1\n",
    "rm_vals = [1,2,3]\n",
    "for key, value in d.items():\n",
    "    for v in range(value.shape[1]):\n",
    "        data=value[:, v]\n",
    "        g = [key for x in range(len(data))]\n",
    "        sub = [sub_count for x in range(len(data))]\n",
    "        temp_dict = {\"subject\": sub, \"data\": data, \"group\": g, \"rm_val\": rm_vals}\n",
    "        temp_df = pd.DataFrame(temp_dict)\n",
    "        dfs.append(temp_df.dropna())\n",
    "        sub_count = sub_count + 1\n",
    "test_df = pd.concat(dfs)\n",
    "test_df"
   ]
  },
  {
   "cell_type": "code",
   "execution_count": null,
   "id": "e4c49339",
   "metadata": {},
   "outputs": [],
   "source": [
    "a = (1 < 0.05) *1\n",
    "a"
   ]
  },
  {
   "cell_type": "code",
   "execution_count": null,
   "id": "e0bb1dbc",
   "metadata": {},
   "outputs": [],
   "source": [
    "a = list(np.array(list(range(10))).astype(str))"
   ]
  },
  {
   "cell_type": "code",
   "execution_count": null,
   "id": "504ae03c",
   "metadata": {},
   "outputs": [],
   "source": [
    "a"
   ]
  },
  {
   "cell_type": "code",
   "execution_count": null,
   "id": "50b0d206",
   "metadata": {},
   "outputs": [],
   "source": [
    "a = np.array([1,2,3,4])\n",
    "d = {\"a\": a.reshape(-1,1), \"b\": a.reshape(-1,1)}"
   ]
  },
  {
   "cell_type": "code",
   "execution_count": null,
   "id": "696f2379",
   "metadata": {},
   "outputs": [],
   "source": [
    "c = list(d.values())\n",
    "10 - np.nanmean(np.nan)"
   ]
  },
  {
   "cell_type": "code",
   "execution_count": null,
   "id": "d1938d0c",
   "metadata": {},
   "outputs": [],
   "source": [
    "position_bins = np.array([5, 10, 15, 20, 25, 30, 35, 40])\n",
    "cluster_dist=10\n",
    "DISTANT_BIN = 35\n",
    "\n",
    "near_bin_idx = np.nonzero(position_bins == cluster_dist)[0][0]\n",
    "dist_bin_idx = np.nonzero(position_bins >= DISTANT_BIN)[0][0]"
   ]
  },
  {
   "cell_type": "code",
   "execution_count": null,
   "id": "a48ae6c1",
   "metadata": {},
   "outputs": [],
   "source": [
    "a = np.array([2,3,4,5,6,7])\n",
    "b = np.array([1,2,3,4,5,6])"
   ]
  },
  {
   "cell_type": "code",
   "execution_count": null,
   "id": "5b569803",
   "metadata": {},
   "outputs": [],
   "source": [
    "c = np.vstack([a,b])\n",
    "c"
   ]
  },
  {
   "cell_type": "code",
   "execution_count": null,
   "id": "a382e1e2",
   "metadata": {},
   "outputs": [],
   "source": [
    "np.nanmean(c, axis=1)"
   ]
  },
  {
   "cell_type": "code",
   "execution_count": null,
   "id": "5a3688fe",
   "metadata": {},
   "outputs": [],
   "source": [
    "a = [\"A\", \"B\", \"C\", \"A\", \"A\", \"C\"]\n",
    "b = [\"a\", \"a\", \"c\", \"b\", \"b\", \"b\"]\n",
    "\n"
   ]
  },
  {
   "cell_type": "code",
   "execution_count": null,
   "id": "462bda93",
   "metadata": {},
   "outputs": [],
   "source": [
    "a_i = [i for i,x in enumerate(a) if x==\"A\"]\n",
    "b_i = [i for i,x in enumerate(b) if x==\"b\"]"
   ]
  },
  {
   "cell_type": "code",
   "execution_count": null,
   "id": "4609fd53",
   "metadata": {},
   "outputs": [],
   "source": [
    "a_i"
   ]
  },
  {
   "cell_type": "code",
   "execution_count": null,
   "id": "2784812b",
   "metadata": {},
   "outputs": [],
   "source": [
    "b_i"
   ]
  },
  {
   "cell_type": "code",
   "execution_count": null,
   "id": "744560db",
   "metadata": {},
   "outputs": [],
   "source": [
    "np.intersect1d(a_i, b_i)"
   ]
  },
  {
   "cell_type": "code",
   "execution_count": null,
   "id": "46f0d90b",
   "metadata": {},
   "outputs": [],
   "source": [
    "a = np.array([0, 1,1,1, 0, 0])"
   ]
  },
  {
   "cell_type": "code",
   "execution_count": null,
   "id": "b9880e09",
   "metadata": {},
   "outputs": [],
   "source": [
    "set(a)"
   ]
  },
  {
   "cell_type": "code",
   "execution_count": null,
   "id": "5ed7b12e",
   "metadata": {},
   "outputs": [],
   "source": [
    "a = [\"A\", \"A\", \"B\", \"C\"]\n",
    "c = np.array([0,0,0,1,1,2,2])\n",
    "b = np.zeros(len(c)).astype(int)\n",
    "\n",
    "b[np.where(c==1)] = 10\n",
    "print(b)"
   ]
  },
  {
   "cell_type": "code",
   "execution_count": null,
   "id": "2de32776",
   "metadata": {},
   "outputs": [],
   "source": [
    "idxs = np.array([0,4,0,0,0,0,0])\n",
    "print(idxs)"
   ]
  },
  {
   "cell_type": "code",
   "execution_count": null,
   "id": "97f58f23",
   "metadata": {},
   "outputs": [],
   "source": [
    "np.vstack((b, idxs)).T"
   ]
  },
  {
   "cell_type": "code",
   "execution_count": null,
   "id": "a9b48623",
   "metadata": {},
   "outputs": [],
   "source": [
    "import numpy as np\n",
    "\n",
    "a = np.array([1,1,1,1])\n",
    "\n",
    "l = [a, a, a*2]\n",
    "\n",
    "np.vstack(l).T"
   ]
  },
  {
   "cell_type": "code",
   "execution_count": null,
   "id": "68bbb903",
   "metadata": {},
   "outputs": [],
   "source": [
    "def corr2_coeff(A, B):\n",
    "    # Rowwise mean of input arrays & subtract from input arrays themeselves\n",
    "    A_mA = A - A.mean(1)[:, None]\n",
    "    B_mB = B - B.mean(1)[:, None]\n",
    "\n",
    "    # Sum of squares across rows\n",
    "    ssA = (A_mA**2).sum(1)\n",
    "    ssB = (B_mB**2).sum(1)\n",
    "\n",
    "    # Finally get corr coeff\n",
    "    return np.dot(A_mA, B_mB.T) / np.sqrt(np.dot(ssA[:, None],ssB[None]))"
   ]
  },
  {
   "cell_type": "code",
   "execution_count": null,
   "id": "151b6416",
   "metadata": {},
   "outputs": [],
   "source": [
    "A = np.random.rand(100, 20).T\n",
    "\n",
    "B = np.random.rand(100, 20).T"
   ]
  },
  {
   "cell_type": "code",
   "execution_count": null,
   "id": "24f270f8",
   "metadata": {},
   "outputs": [],
   "source": [
    "C = corr2_coeff(A, B)"
   ]
  },
  {
   "cell_type": "code",
   "execution_count": null,
   "id": "316d8512",
   "metadata": {},
   "outputs": [],
   "source": [
    "C.shape"
   ]
  },
  {
   "cell_type": "code",
   "execution_count": null,
   "id": "f3a2a07b",
   "metadata": {},
   "outputs": [],
   "source": [
    "np.dot(A, B.T).shape"
   ]
  },
  {
   "cell_type": "code",
   "execution_count": null,
   "id": "352f2fe5",
   "metadata": {},
   "outputs": [],
   "source": [
    "target_vector = np.array([a,a,a])\n",
    "print(target_vector)\n",
    "candidate_vector = np.array([a, a*2, a*3])\n",
    "print(candidate_vector)"
   ]
  },
  {
   "cell_type": "code",
   "execution_count": null,
   "id": "2a252479",
   "metadata": {},
   "outputs": [],
   "source": [
    "distance = np.linalg.norm(target_vector - candidate_vector, axis=1)"
   ]
  },
  {
   "cell_type": "code",
   "execution_count": null,
   "id": "422a45ba",
   "metadata": {},
   "outputs": [],
   "source": [
    "distance"
   ]
  },
  {
   "cell_type": "code",
   "execution_count": null,
   "id": "94cdc548",
   "metadata": {},
   "outputs": [],
   "source": [
    "1 / candidate_vector"
   ]
  },
  {
   "cell_type": "code",
   "execution_count": null,
   "id": "7c9e4f70",
   "metadata": {},
   "outputs": [],
   "source": [
    "l = [\"JW139\", \"JW139\", \"JW139\", \"JW167\", \"JW306\", \"JW139\"]\n",
    "\n"
   ]
  },
  {
   "cell_type": "code",
   "execution_count": null,
   "id": "e5b9f447",
   "metadata": {},
   "outputs": [],
   "source": [
    "from sklearn.preprocessing import LabelBinarizer\n",
    "encoder = LabelBinarizer()\n",
    "housing_cat_1hot = encoder.fit_transform(l)\n",
    "housing_cat_1hot"
   ]
  },
  {
   "cell_type": "code",
   "execution_count": null,
   "id": "6a6d1ccf",
   "metadata": {},
   "outputs": [],
   "source": [
    "from collections import defaultdict\n",
    "temp = defaultdict(lambda: len(temp))\n",
    "res = [temp[ele] for ele in l]\n",
    "\n",
    "res"
   ]
  },
  {
   "cell_type": "code",
   "execution_count": null,
   "id": "a6ad2d03",
   "metadata": {},
   "outputs": [],
   "source": [
    "import pandas as pd\n",
    "import numpy as np\n",
    "\n",
    "d = dict( A = np.array([1,2]), B = np.array([1,2,3,4]) )\n",
    "    \n",
    "df = pd.DataFrame(dict([ (k,pd.Series(v)) for k,v in d.items() ]))"
   ]
  },
  {
   "cell_type": "code",
   "execution_count": null,
   "id": "070394af",
   "metadata": {},
   "outputs": [],
   "source": [
    "melted = pd.melt(df, value_vars=d.keys(), var_name=\"Group\", value_name=\"Data\")"
   ]
  },
  {
   "cell_type": "code",
   "execution_count": null,
   "id": "6f4d1ead",
   "metadata": {},
   "outputs": [],
   "source": [
    "melted.dropna(axis=0, how=\"any\")"
   ]
  },
  {
   "cell_type": "code",
   "execution_count": null,
   "id": "f1a46c00",
   "metadata": {},
   "outputs": [],
   "source": [
    "a = np.array(1)\n",
    "b = np.array(2)\n",
    "\n",
    "(b - a) / (b + a)"
   ]
  },
  {
   "cell_type": "code",
   "execution_count": null,
   "id": "953ea301",
   "metadata": {},
   "outputs": [],
   "source": [
    "for x, y in zip(a,b):\n",
    "    print(x)\n",
    "    print(y)"
   ]
  },
  {
   "cell_type": "code",
   "execution_count": null,
   "id": "d257fa04",
   "metadata": {},
   "outputs": [],
   "source": []
  }
 ],
 "metadata": {
  "kernelspec": {
   "display_name": "Python 3 (ipykernel)",
   "language": "python",
   "name": "python3"
  },
  "language_info": {
   "codemirror_mode": {
    "name": "ipython",
    "version": 3
   },
   "file_extension": ".py",
   "mimetype": "text/x-python",
   "name": "python",
   "nbconvert_exporter": "python",
   "pygments_lexer": "ipython3",
   "version": "3.8.18"
  }
 },
 "nbformat": 4,
 "nbformat_minor": 5
}
