{
 "cells": [
  {
   "cell_type": "code",
   "execution_count": null,
   "id": "2f4a4d84",
   "metadata": {},
   "outputs": [],
   "source": [
    "from Lab_Analyses.Utilities.get_dFoF import get_dFoF\n",
    "from Lab_Analyses.Utilities.load_mat_files import load_mat"
   ]
  },
  {
   "cell_type": "code",
   "execution_count": null,
   "id": "74844144",
   "metadata": {},
   "outputs": [],
   "source": [
    "SnFr_path = r\"Z:\\People\\Jake\\Imaging_Data\\JW033\\220103\\dendrite_1\\summed\"\n",
    "SnFr_file = \"JW033_0103_00001_00001_summed_50_Analyzed_ByJake\"\n",
    "\n",
    "SnFr_data = load_mat(SnFr_file, SnFr_file, SnFr_path)"
   ]
  },
  {
   "cell_type": "code",
   "execution_count": null,
   "id": "5e604d9a",
   "metadata": {},
   "outputs": [],
   "source": [
    "SnFr_fluoro = SnFr_data.Fluorescence_Measurement"
   ]
  },
  {
   "cell_type": "code",
   "execution_count": null,
   "id": "c971c69d",
   "metadata": {},
   "outputs": [],
   "source": [
    "SnFr_sampling_rate = 58.30\n"
   ]
  },
  {
   "cell_type": "code",
   "execution_count": null,
   "id": "b586e706",
   "metadata": {},
   "outputs": [],
   "source": [
    "SnFr_fluoro[0]"
   ]
  },
  {
   "cell_type": "code",
   "execution_count": null,
   "id": "c07bf000",
   "metadata": {},
   "outputs": [],
   "source": [
    "SnFr_dFoF, SnFr_PdFoF, SnFr_baseline = get_dFoF(SnFr_fluoro[0],SnFr_sampling_rate, smooth_window=0.5)"
   ]
  },
  {
   "cell_type": "code",
   "execution_count": null,
   "id": "2edab684",
   "metadata": {},
   "outputs": [],
   "source": [
    "import matplotlib.pyplot as plt\n",
    "%matplotlib notebook"
   ]
  },
  {
   "cell_type": "code",
   "execution_count": null,
   "id": "123c7789",
   "metadata": {
    "scrolled": false
   },
   "outputs": [],
   "source": [
    "plt.figure()\n",
    "plt.plot(SnFr_dFoF)\n",
    "plt.figure()\n",
    "plt.plot(SnFr_PdFoF)\n",
    "plt.figure()\n",
    "plt.plot(SnFr_fluoro[0])\n",
    "plt.plot(SnFr_baseline)"
   ]
  },
  {
   "cell_type": "code",
   "execution_count": null,
   "id": "705177c9",
   "metadata": {},
   "outputs": [],
   "source": [
    "import numpy as np\n",
    "\n",
    "new_fluo = (SnFr_fluoro[0] - SnFr_fluoro[0].min()) / (SnFr_fluoro[0].max() - SnFr_fluoro[0].min())\n",
    "new_base = (SnFr_baseline -  SnFr_fluoro[0].min()) / (SnFr_fluoro[0].max() - SnFr_fluoro[0].min())"
   ]
  },
  {
   "cell_type": "code",
   "execution_count": null,
   "id": "209ea626",
   "metadata": {},
   "outputs": [],
   "source": [
    "plt.figure()\n",
    "plt.plot(new_fluo)\n",
    "plt.plot(new_base)"
   ]
  },
  {
   "cell_type": "code",
   "execution_count": null,
   "id": "af78556b",
   "metadata": {},
   "outputs": [],
   "source": [
    "c = np.array([5,6,7,8]).reshape(1,-1)\n",
    "a = np.append(a,c,axis=0)\n",
    "a[1:,:]"
   ]
  },
  {
   "cell_type": "code",
   "execution_count": null,
   "id": "88f651ea",
   "metadata": {},
   "outputs": [],
   "source": [
    "a = [np.array([1,2,3]), np.array([4,5,6])]\n",
    "b = np.vstack(a).T\n",
    "b"
   ]
  },
  {
   "cell_type": "code",
   "execution_count": null,
   "id": "343f9bbf",
   "metadata": {},
   "outputs": [],
   "source": [
    "b.mean(axis=1).reshape(-1,1)"
   ]
  },
  {
   "cell_type": "code",
   "execution_count": null,
   "id": "3c222e0a",
   "metadata": {},
   "outputs": [],
   "source": [
    "c = np.array([1,2,3]).reshape(-1,1)\n",
    "d = np.array([4,5,6]).reshape(-1,1)\n",
    "e = [c,d]\n",
    "f = np.hstack(e).mean(axis=1).reshape(-1,1)"
   ]
  },
  {
   "cell_type": "code",
   "execution_count": null,
   "id": "4ed1d2ea",
   "metadata": {},
   "outputs": [],
   "source": [
    "file1 = \"JW033_0103_00001_00001_corrected\"\n",
    "file2 = \"JW033_0103_00001_00002_corrected\"\n",
    "file3 = \"JW033_0103_00001_00003_corrected\"\n",
    "file4 = \"JW033_0103_00002_00001_corrected\"\n",
    "file5 = \"JW033_0103_00002_00002_corrected\"\n",
    "file6 = \"JW033_0103_00002_00003_corrected\"\n",
    "files = [file1, file2, file3, file4, file5, file6]\n",
    "frame_counts = [800,800,650,800,800,440]"
   ]
  },
  {
   "cell_type": "code",
   "execution_count": null,
   "id": "541b6d9e",
   "metadata": {},
   "outputs": [],
   "source": [
    "import re\n",
    "\n",
    "name = \"JW015_1113_00002_00001_summed_50\"\n",
    "a = re.search(\"[A-Z]{2}[0-9]{3}\", name).group()\n",
    "a"
   ]
  },
  {
   "cell_type": "code",
   "execution_count": 2,
   "id": "4946c345",
   "metadata": {},
   "outputs": [
    {
     "ename": "SyntaxError",
     "evalue": "(unicode error) 'unicodeescape' codec can't decode bytes in position 2-3: truncated \\UXXXXXXXX escape (Temp/ipykernel_17324/1361557119.py, line 2)",
     "output_type": "error",
     "traceback": [
      "\u001b[1;36m  File \u001b[1;32m\"C:\\Users\\Jake\\AppData\\Local\\Temp/ipykernel_17324/1361557119.py\"\u001b[1;36m, line \u001b[1;32m2\u001b[0m\n\u001b[1;33m    with open(\"C:\\Users\\Jake\\Desktop\\test_output.pickle\", \"rb\") as f:\u001b[0m\n\u001b[1;37m                                                        ^\u001b[0m\n\u001b[1;31mSyntaxError\u001b[0m\u001b[1;31m:\u001b[0m (unicode error) 'unicodeescape' codec can't decode bytes in position 2-3: truncated \\UXXXXXXXX escape\n"
     ]
    }
   ],
   "source": [
    "import pickle\n",
    "with open(\"C:\\Users\\Jake\\Desktop\\test_output.pickle\", \"rb\") as f:\n",
    "    file = pickle.load(f)"
   ]
  },
  {
   "cell_type": "code",
   "execution_count": null,
   "id": "9d315136",
   "metadata": {},
   "outputs": [],
   "source": [
    "a = Object(name=\"Jake\")"
   ]
  },
  {
   "cell_type": "code",
   "execution_count": null,
   "id": "6e20eb4b",
   "metadata": {},
   "outputs": [],
   "source": []
  },
  {
   "cell_type": "code",
   "execution_count": null,
   "id": "f434fcff",
   "metadata": {},
   "outputs": [],
   "source": [
    "import numpy as np\n",
    "\n",
    "ops = np.load(\"ops.npy\", allow_pickle=True)"
   ]
  },
  {
   "cell_type": "code",
   "execution_count": null,
   "id": "0829b5ca",
   "metadata": {},
   "outputs": [],
   "source": [
    "ops"
   ]
  },
  {
   "cell_type": "code",
   "execution_count": null,
   "id": "937ccb73",
   "metadata": {},
   "outputs": [],
   "source": []
  }
 ],
 "metadata": {
  "kernelspec": {
   "display_name": "Python 3 (ipykernel)",
   "language": "python",
   "name": "python3"
  },
  "language_info": {
   "codemirror_mode": {
    "name": "ipython",
    "version": 3
   },
   "file_extension": ".py",
   "mimetype": "text/x-python",
   "name": "python",
   "nbconvert_exporter": "python",
   "pygments_lexer": "ipython3",
   "version": "3.9.7"
  }
 },
 "nbformat": 4,
 "nbformat_minor": 5
}
