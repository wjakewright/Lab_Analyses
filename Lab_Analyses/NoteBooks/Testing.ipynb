{
 "cells": [
  {
   "cell_type": "markdown",
   "id": "c6367240",
   "metadata": {},
   "source": [
    "# Testing"
   ]
  },
  {
   "cell_type": "code",
   "execution_count": 1,
   "id": "15bf4fdd",
   "metadata": {},
   "outputs": [],
   "source": [
    "from Lab_Analyses.Utilities import load_mat_files\n",
    "from Lab_Analyses.Behavior import process_lever_behavior as plb\n",
    "from Lab_Analyses.Behavior import summarize_lever_behavior as slb"
   ]
  },
  {
   "cell_type": "code",
   "execution_count": null,
   "id": "e09021f6",
   "metadata": {},
   "outputs": [],
   "source": [
    "path = r'Z:\\People\\Jake\\Behavior\\JW003\\211019\\JW003_8MW'\n",
    "fname = 'data_@lever2p_ITIOptoPulsed_JW_JW003_210919a'\n",
    "\n",
    "behavior_data = plb.process_lever_press_behavior(path, True)"
   ]
  },
  {
   "cell_type": "code",
   "execution_count": null,
   "id": "0bbdf05b",
   "metadata": {},
   "outputs": [],
   "source": [
    "summarized_data = slb.summarize_lever_behavior(behavior_data)"
   ]
  },
  {
   "cell_type": "code",
   "execution_count": null,
   "id": "8f6c3500",
   "metadata": {},
   "outputs": [],
   "source": [
    "a = 1-1\n",
    "type(a)"
   ]
  },
  {
   "cell_type": "code",
   "execution_count": null,
   "id": "49740bd9",
   "metadata": {},
   "outputs": [],
   "source": [
    "type(1)"
   ]
  },
  {
   "cell_type": "code",
   "execution_count": null,
   "id": "f0e0f197",
   "metadata": {},
   "outputs": [],
   "source": [
    "behavior_data.lever_force_smooth[6:100]"
   ]
  },
  {
   "cell_type": "code",
   "execution_count": null,
   "id": "1c41067e",
   "metadata": {},
   "outputs": [],
   "source": [
    "a = []\n",
    "len(a)"
   ]
  },
  {
   "cell_type": "code",
   "execution_count": null,
   "id": "9eb2d5d6",
   "metadata": {},
   "outputs": [],
   "source": [
    "import numpy as np\n",
    "a = np.array([1,2,3,4,5,6,7,8,9])\n",
    "b= [True,False,True,False,True,True,False,False,False]\n",
    "a[np.nonzero(b)[0]]"
   ]
  },
  {
   "cell_type": "code",
   "execution_count": null,
   "id": "402b13a0",
   "metadata": {},
   "outputs": [],
   "source": [
    "c = np.nonzero(b)\n",
    "print(c[0])"
   ]
  },
  {
   "cell_type": "code",
   "execution_count": null,
   "id": "41dd557b",
   "metadata": {},
   "outputs": [],
   "source": [
    "a[np.array(b)]"
   ]
  },
  {
   "cell_type": "code",
   "execution_count": null,
   "id": "2b4b133b",
   "metadata": {},
   "outputs": [],
   "source": [
    "a = [1,2,3,np.nan]"
   ]
  },
  {
   "cell_type": "code",
   "execution_count": null,
   "id": "f7ac0a9e",
   "metadata": {},
   "outputs": [],
   "source": [
    "np.min(a)"
   ]
  },
  {
   "cell_type": "code",
   "execution_count": null,
   "id": "825a64bd",
   "metadata": {},
   "outputs": [],
   "source": []
  }
 ],
 "metadata": {
  "kernelspec": {
   "display_name": "Python 3 (ipykernel)",
   "language": "python",
   "name": "python3"
  },
  "language_info": {
   "codemirror_mode": {
    "name": "ipython",
    "version": 3
   },
   "file_extension": ".py",
   "mimetype": "text/x-python",
   "name": "python",
   "nbconvert_exporter": "python",
   "pygments_lexer": "ipython3",
   "version": "3.9.7"
  }
 },
 "nbformat": 4,
 "nbformat_minor": 5
}
