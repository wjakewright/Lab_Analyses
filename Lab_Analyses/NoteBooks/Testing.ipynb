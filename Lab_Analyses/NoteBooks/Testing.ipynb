{
 "cells": [
  {
   "cell_type": "code",
   "execution_count": 6,
   "id": "937ccb73",
   "metadata": {},
   "outputs": [],
   "source": [
    "import os \n",
    "import numpy as np\n",
    "import matplotlib.pyplot as plt\n",
    "from Lab_Analyses.Utilities.save_load_pickle import load_pickle\n",
    "from Lab_Analyses.Optogenetics.optogenetic_responses import classify_opto_responses, group_opto_responses\n",
    "from Lab_Analyses.Optogenetics.load_opto_sessions import load_opto_sessions"
   ]
  },
  {
   "cell_type": "code",
   "execution_count": 2,
   "id": "3b875f55",
   "metadata": {},
   "outputs": [],
   "source": [
    "# Load Datasets\n",
    "\n",
    "# Mice\n",
    "m1 = \"JW088\"\n",
    "m2 = \"JW095\"\n",
    "m3 = \"JW096\"\n",
    "m4 = \"JW097\"\n",
    "\n",
    "# Days\n",
    "d1 = [\"220507\", \"220510\"]\n",
    "d2 = [\"220606\", \"220609\"]\n",
    "d3 = [\"220606\", \"220609\"]\n",
    "d4 = [\"220606\", \"220609\"]\n",
    "\n",
    "# Keyword for which files to load\n",
    "keywords = [\"Dendrite\", \"Dendrite_2\"]\n",
    "\n",
    "# Specify which ROI types you want to include in the analysis\n",
    "## Put in a list\n",
    "### None will include all ROI types\n",
    "ROI_types = [\"Dendrite\"]\n",
    "\n",
    "mice = [m1, m2, m3, m4]\n",
    "days = [d1, d2, d3, d4]\n",
    "\n",
    "imaging_datasets, behavior_datasets = load_opto_sessions(mice, days, keywords)"
   ]
  },
  {
   "cell_type": "code",
   "execution_count": 3,
   "id": "98cfe60f",
   "metadata": {},
   "outputs": [
    {
     "name": "stdout",
     "output_type": "stream",
     "text": [
      "-----------------------------------------\n",
      "Analyzing JW088_220507_Dendrite\n",
      "-----------------------------------------\n",
      "Analyzing JW088_220510_Dendrite\n",
      "-----------------------------------------\n",
      "Analyzing JW088_220510_Dendrite_2\n",
      "-----------------------------------------\n",
      "Analyzing JW095_220606_Dendrite\n",
      "-----------------------------------------\n",
      "Analyzing JW096_220606_Dendrite\n",
      "-----------------------------------------\n",
      "Analyzing JW097_220606_Dendrite\n"
     ]
    }
   ],
   "source": [
    "# Analyze each imaging session/subsession for optogenetic responsiveness\n",
    "opto_datasets = {}\n",
    "for (key, image), (_, behavior) in zip(imaging_datasets.items(), behavior_datasets.items()):\n",
    "    optos = []\n",
    "    print(\"-----------------------------------------\")\n",
    "    print(f\"Analyzing {key}\")\n",
    "    for i, b in zip(image, behavior):\n",
    "        opto = classify_opto_responses(\n",
    "            imaging_data=i, \n",
    "            behavior_data=b,\n",
    "            session_type=\"pulsed\",\n",
    "            method=\"test\",\n",
    "            ROI_types=ROI_types,\n",
    "            window=[-1,1],\n",
    "            vis_window=[-2,3],\n",
    "            processed_dFoF=False,\n",
    "            save=True\n",
    "        )\n",
    "        optos.append(opto)\n",
    "    opto_datasets[key] = optos"
   ]
  },
  {
   "cell_type": "code",
   "execution_count": 4,
   "id": "0e1aacbb",
   "metadata": {},
   "outputs": [],
   "source": [
    "# Group datasets\n",
    "group_path = r\"C:\\Users\\Jake\\Desktop\\Analyzed_data\\grouped\"\n",
    "experiment_directory = \"opto_pulsed\"\n",
    "base_name = \"soma_chrimson\"\n",
    "grouped_datasets = {}\n",
    "for opto in zip(*opto_datasets.values()):\n",
    "    group_name = f\"{base_name}_{opto[0].session}\"\n",
    "    save_path = os.path.join(group_path, experiment_directory, base_name)\n",
    "    grouped_data = group_opto_responses(opto, group_name, save=True, save_path=save_path)\n",
    "    grouped_datasets[opto[0].session] = grouped_data"
   ]
  },
  {
   "cell_type": "code",
   "execution_count": 7,
   "id": "321b3d5f",
   "metadata": {
    "scrolled": true
   },
   "outputs": [],
   "source": [
    "# Visualize the data\n",
    "figure_base_path = r\"C:\\Users\\Jake\\Desktop\\Figures\\grouped_data\"\n",
    "figure_save_path = os.path.join(figure_base_path, experiment_directory, base_name)\n",
    "parameters = {\"title\": \"default\", \"hmap_range\": (0,3), \"cmap\": \"plasma\", \"zeroed\": True, \"sort\": True, \"center\": None}\n",
    "for name,dataset in grouped_datasets.items():\n",
    "    if dataset.ROI_types is None:\n",
    "        rois = \"allROIs\"\n",
    "    else:\n",
    "        if len(ROI_types) > 1:\n",
    "            sep = \"_\"\n",
    "            rois = sep.join(dataset.ROI_types)\n",
    "        else:\n",
    "            rois = dataset.ROI_types[0]\n",
    "    dataset_save_path = os.path.join(figure_save_path, rois, name)\n",
    "    if not os.path.isdir(dataset_save_path):\n",
    "        os.makedirs(dataset_save_path)\n",
    "    dataset.display_results(parameters=parameters, save=True, save_path=dataset_save_path)\n",
    "    \n",
    "    # Change if you want all figures to stay visible\n",
    "    plt.close(\"all\")"
   ]
  },
  {
   "cell_type": "code",
   "execution_count": null,
   "id": "1a970807",
   "metadata": {
    "scrolled": false
   },
   "outputs": [],
   "source": [
    "parameters = {\"title\": \"default\", \"hmap_range\": (0,3), \"cmap\": \"plasma\", \"zeroed\": True, \"sort\": True, \"center\": None}\n",
    "opto_datasets[\"JW088_220507_Dendrite\"][0].display_results(parameters=parameters)"
   ]
  },
  {
   "cell_type": "code",
   "execution_count": null,
   "id": "f375d061",
   "metadata": {},
   "outputs": [],
   "source": [
    "grouped_datasets[\"5mw_Dendrite\"].ROI_ids"
   ]
  },
  {
   "cell_type": "code",
   "execution_count": null,
   "id": "8dbf59eb",
   "metadata": {},
   "outputs": [],
   "source": [
    "ROI_types = list(set([x.rsplit(\"_\")[-1].split(\" \")[0] for x in grouped_datasets[\"5mw_Dendrite\"].ROI_ids]))[0]"
   ]
  },
  {
   "cell_type": "code",
   "execution_count": null,
   "id": "109912a3",
   "metadata": {},
   "outputs": [],
   "source": [
    "\"_\".join(ROI_types)"
   ]
  },
  {
   "cell_type": "code",
   "execution_count": null,
   "id": "4e42e84c",
   "metadata": {},
   "outputs": [],
   "source": []
  }
 ],
 "metadata": {
  "kernelspec": {
   "display_name": "Python 3 (ipykernel)",
   "language": "python",
   "name": "python3"
  },
  "language_info": {
   "codemirror_mode": {
    "name": "ipython",
    "version": 3
   },
   "file_extension": ".py",
   "mimetype": "text/x-python",
   "name": "python",
   "nbconvert_exporter": "python",
   "pygments_lexer": "ipython3",
   "version": "3.9.7"
  }
 },
 "nbformat": 4,
 "nbformat_minor": 5
}
