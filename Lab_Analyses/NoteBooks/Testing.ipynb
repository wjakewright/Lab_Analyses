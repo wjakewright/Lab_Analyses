{
 "cells": [
  {
   "cell_type": "markdown",
   "id": "c6367240",
   "metadata": {},
   "source": [
    "# Testing"
   ]
  },
  {
   "cell_type": "code",
   "execution_count": 1,
   "id": "15bf4fdd",
   "metadata": {},
   "outputs": [],
   "source": [
    "from Lab_Analyses.Utilities import load_mat_files\n",
    "from Lab_Analyses.Behavior import process_lever_behavior as plb\n",
    "from Lab_Analyses.Behavior import summarize_lever_behavior as slb"
   ]
  },
  {
   "cell_type": "code",
   "execution_count": 2,
   "id": "e09021f6",
   "metadata": {},
   "outputs": [
    {
     "name": "stderr",
     "output_type": "stream",
     "text": [
      "c:\\users\\jake\\desktop\\python_code\\lab_analyses\\Lab_Analyses\\Behavior\\process_lever_behavior.py:411: ComplexWarning: Casting complex values to real discards the imaginary part\n",
      "  lever_velocity_envelope = np.sqrt(\n"
     ]
    }
   ],
   "source": [
    "path = r'Z:\\People\\Jake\\Behavior\\JW002\\practice_training\\211118\\JW0002'\n",
    "fname = 'data_@lever2p_ITIOptoPulsed_JW_JW002_21118a'\n",
    "\n",
    "behavior_data = plb.process_lever_press_behavior(path, False)"
   ]
  },
  {
   "cell_type": "code",
   "execution_count": 3,
   "id": "5570eb68",
   "metadata": {},
   "outputs": [
    {
     "name": "stdout",
     "output_type": "stream",
     "text": [
      "Animal was moving at the beginning of trial 2!\n",
      "Animal was moving at the beginning of trial 7!\n",
      "Animal was moving at the beginning of trial 8!\n",
      "Animal was moving at the beginning of trial 10!\n",
      "Animal was moving at the beginning of trial 12!\n",
      "Animal was moving at the beginning of trial 13!\n",
      "Animal was moving at the beginning of trial 19!\n",
      "Animal was moving at the beginning of trial 27!\n",
      "Animal was moving at the beginning of trial 34!\n",
      "Animal was moving at the beginning of trial 43!\n",
      "Animal was moving at the beginning of trial 60!\n",
      "Animal was moving at the beginning of trial 93!\n"
     ]
    }
   ],
   "source": [
    "summarized_data = slb.summarize_lever_behavior(behavior_data)"
   ]
  },
  {
   "cell_type": "code",
   "execution_count": 5,
   "id": "4bdb498b",
   "metadata": {},
   "outputs": [
    {
     "data": {
      "text/plain": [
       "(-2.5, 0.0)"
      ]
     },
     "execution_count": 5,
     "metadata": {},
     "output_type": "execute_result"
    },
    {
     "data": {
      "image/png": "[encoded data removed]",
      "text/plain": [
       "<Figure size 432x288 with 1 Axes>"
      ]
     },
     "metadata": {
      "needs_background": "light"
     },
     "output_type": "display_data"
    }
   ],
   "source": [
    "summarized_data.__dict__.keys()\n",
    "import matplotlib.pyplot as plt\n",
    "plt.figure()\n",
    "plt.plot(summarized_data.movement_avg)\n",
    "plt.ylim(-2.5,0)"
   ]
  },
  {
   "cell_type": "code",
   "execution_count": 12,
   "id": "585eb927",
   "metadata": {},
   "outputs": [
    {
     "data": {
      "text/plain": [
       "dict_keys(['used_trial', 'movement_matrix', 'movement_avg', 'rewards', 'move_at_start_faults', 'avg_reaction_time', 'avg_cue_to_reward', 'trials', 'move_duration_before_cue', 'number_of_movements_during_ITI', 'fraction_ITI_spent_moving'])"
      ]
     },
     "execution_count": 12,
     "metadata": {},
     "output_type": "execute_result"
    }
   ],
   "source": [
    "summarized_data.__dict__.keys()"
   ]
  },
  {
   "cell_type": "code",
   "execution_count": 22,
   "id": "9e1ba2b0",
   "metadata": {},
   "outputs": [],
   "source": [
    "import numpy as np\n",
    "import scipy.signal as sysignal"
   ]
  },
  {
   "cell_type": "code",
   "execution_count": 21,
   "id": "d711a44e",
   "metadata": {},
   "outputs": [
    {
     "data": {
      "text/plain": [
       "[0,\n",
       " 2,\n",
       " 4,\n",
       " 3,\n",
       " 2,\n",
       " 3,\n",
       " 2,\n",
       " 3,\n",
       " 3,\n",
       " 1,\n",
       " 1,\n",
       " 37,\n",
       " 1,\n",
       " 47,\n",
       " 52,\n",
       " 60,\n",
       " 1,\n",
       " 66,\n",
       " 1,\n",
       " 72,\n",
       " 79,\n",
       " 1,\n",
       " 81,\n",
       " 1,\n",
       " 93,\n",
       " 1,\n",
       " 3,\n",
       " 109,\n",
       " 115,\n",
       " 125,\n",
       " 1,\n",
       " 135,\n",
       " 154,\n",
       " 156,\n",
       " 180,\n",
       " 4,\n",
       " 187]"
      ]
     },
     "execution_count": 21,
     "metadata": {},
     "output_type": "execute_result"
    }
   ],
   "source": [
    "summarized_data.number_of_movements_during_ITI"
   ]
  },
  {
   "cell_type": "code",
   "execution_count": 23,
   "id": "2afae80b",
   "metadata": {},
   "outputs": [],
   "source": [
    "file = behavior_data\n",
    "\n",
    "successful_movements = []  # movement trace for rewarded movements for each trial\n",
    "cue_to_reward = []  # movement trace from cue to reward delivery\n",
    "post_success_licking = []  # licking trace following reward delivery\n",
    "faults = []\n",
    "# num_trials = len(file.behavior_frames)  # Number of trials performed\n",
    "trial_used = []\n",
    "used_trial = []  # Boolean list indicating if a trial was used or ignored\n",
    "reaction_time = []  # Reaction time values\n",
    "cs2r = []  # time from cue to reward delivery\n",
    "trial_length = []  # Length of each trial\n",
    "move_duration_before_cue = []  # Duration of movement before cue\n",
    "movement_matrix = []  # 2D array of the movements for each trial\n",
    "number_of_movements_during_ITI = []  # Number of movements during ITI\n",
    "fraction_ITI_spent_moving = []  # Fraction of ITI time spent moving\n",
    "# Set up temporary variables\n",
    "rewards = 0  # Reward counter\n",
    "move_at_start_fault = 0\n",
    "reward_times = []\n",
    "trial_ends = []\n",
    "movements = []\n",
    "past_threshold_reward_trials = []\n",
    "\n",
    "xsg_data = file.xsg_data.channels[\"Trial_number\"]\n",
    "bit_code = plb.read_bit_code(xsg_data)\n",
    "bitcode = bit_code[:, 1]\n",
    "num_trials = file.dispatcher_data.saved.ProtocolsSection_n_done_trials"
   ]
  },
  {
   "cell_type": "code",
   "execution_count": 24,
   "id": "a09927bd",
   "metadata": {},
   "outputs": [],
   "source": [
    "boundary_frames = np.nonzero(np.diff(np.insert(file.lever_active.astype(float),[0, len(file.lever_active)],np.Inf,axis=0))!= 0)[0]\n",
    "if boundary_frames[0] == 0:\n",
    "    boundary_frames = boundary_frames[1:]\n"
   ]
  },
  {
   "cell_type": "code",
   "execution_count": 25,
   "id": "b5ba8fd5",
   "metadata": {},
   "outputs": [
    {
     "data": {
      "text/plain": [
       "array([0., 0., 0., 0., 0., 0., 0., 0., 0., 0., 0., 0., 0., 0., 0., 0., 0.,\n",
       "       0., 0., 0., 0., 0., 0., 0., 0., 0., 0., 0., 0., 0., 0., 0., 0., 0.,\n",
       "       0., 0., 0., 0., 0., 0., 0., 0., 0., 0., 0., 0., 0., 0., 0., 0., 0.,\n",
       "       0., 0., 0., 0., 0., 0., 0., 0., 0., 0., 0., 0., 0., 0., 0., 0., 0.,\n",
       "       0., 0., 0., 0., 0., 0., 0., 0., 0., 0., 0., 0., 0., 0., 0., 0., 0.,\n",
       "       0., 0., 0., 0., 0., 0., 0., 0., 0., 0., 0., 0., 0., 0., 0., 0.])"
      ]
     },
     "execution_count": 25,
     "metadata": {},
     "output_type": "execute_result"
    }
   ],
   "source": [
    "bitcode_offset = bitcode - np.arange(1, len(bitcode) + 1)\n",
    "bitcode_offset"
   ]
  },
  {
   "cell_type": "code",
   "execution_count": 26,
   "id": "ba876af5",
   "metadata": {
    "scrolled": true
   },
   "outputs": [],
   "source": [
    "### Setting trial number\n",
    "num = 0\n",
    "trial = file.dispatcher_data.saved_history.ProtocolsSection_parsed_events[num]"
   ]
  },
  {
   "cell_type": "code",
   "execution_count": 27,
   "id": "25b2662d",
   "metadata": {},
   "outputs": [
    {
     "data": {
      "text/plain": [
       "26044"
      ]
     },
     "execution_count": 27,
     "metadata": {},
     "output_type": "execute_result"
    }
   ],
   "source": [
    "i_bitcode = (num) - np.absolute(bitcode_offset[num])\n",
    "i_bitcode = int(i_bitcode)\n",
    "start_trial = np.round(\n",
    "            bit_code[i_bitcode, 0] * 1000\n",
    "        )\n",
    "t0 = trial.states.bitcode[0]\n",
    "end_trial = int(\n",
    "            start_trial + np.round((trial.states.state_0[1, 0] - t0) * 1000)\n",
    "        )\n",
    "end_trial"
   ]
  },
  {
   "cell_type": "code",
   "execution_count": null,
   "id": "8f550809",
   "metadata": {},
   "outputs": [],
   "source": [
    "movethresh = 0.0007\n",
    "lever_active = (lever_velocity_envelope_smooth > movethresh).astype(int)\n",
    "movement_leeway = 150  # ms to extend the movment total (half on each end)\n",
    "movement_leeway_filt = np.ones(movement_leeway, dtype=int)\n",
    "npad = len(movement_leeway_filt) - 1\n",
    "lever_active_padded = np.pad(\n",
    "        lever_active, (npad // 2, npad - npad // 2), mode=\"constant\"\n",
    "    )\n",
    "lever_active = (\n",
    "        np.convolve(lever_active_padded, movement_leeway_filt, \"valid\")\n",
    "        .astype(bool)\n",
    "        .astype(int)\n",
    "    )\n",
    "gap_allowance = 500  # in ms\n",
    "(\n",
    "        lever_active_starts,\n",
    "        lever_active_stops,\n",
    "        _,\n",
    "        lever_active_intermovement_times,\n",
    ") = get_lever_active_points(lever_active)\n",
    "lever_active_fill = lever_active_intermovement_times < gap_allowance\n",
    "for i in np.nonzero(lever_active_fill)[0]:\n",
    "    lever_active[lever_active_stops[i] : lever_active_starts[i + 1]] = 1\n",
    "\n",
    "minimum_movement_fast = 0  ## Not using since small movements seemed real\n",
    "minimum_movemet = minimum_movement_fast + movement_leeway\n",
    "(\n",
    "        lever_active_starts,\n",
    "        lever_active_stops,\n",
    "        lever_active_movement_times,\n",
    "        _,\n",
    ") = get_lever_active_points(lever_active)\n",
    "lever_active_erase = lever_active_movement_times < minimum_movemet\n",
    "for i in np.nonzero(lever_active_erase)[0]:\n",
    "    lever_active[lever_active_starts[i] : lever_active_stops[i]] = 0\n",
    "(lever_active_starts, lever_active_stops, _, _,) = get_lever_active_points(\n",
    "        lever_active\n",
    ")\n",
    "if lever_active_starts[0] == 0:\n",
    "    lever_active[0 : lever_active_stops[0] + 1] = 0\n",
    "if lever_active_stops[-1] == len(lever_force_resample) - 1:\n",
    "    lever_active[lever_active_starts[-1] :] = 0\n",
    "(lever_active_starts, lever_active_stops, _, _,) = get_lever_active_points(\n",
    "        lever_active\n",
    ")\n",
    "noise = (\n",
    "        lever_force_resample[np.where(lever_active == 0)]\n",
    "        - lever_force_smooth[np.where(lever_active == 0)]\n",
    "    )\n",
    "noise_cutoff = np.percentile(noise, 99)\n",
    "move_start_values = lever_force_smooth[lever_active_starts]\n",
    "move_start_cutoffs = move_start_values + noise_cutoff\n",
    "move_stop_values = lever_force_smooth[lever_active_stops]\n",
    "move_stop_cutoffs = move_stop_values + noise_cutoff\n",
    "splits = list(zip(lever_active_starts, lever_active_stops + 1))\n",
    "movement_epochs = [lever_force_resample[x:y] for x, y in splits]\n",
    "# Look for trace consecutively past threshold\n",
    "thresh_run = 3"
   ]
  },
  {
   "cell_type": "code",
   "execution_count": null,
   "id": "490f84f3",
   "metadata": {},
   "outputs": [],
   "source": [
    "def get_move_start_offset(w, x, y, z, thresh_run):\n",
    "    \"\"\"Helper function to get movement start offsets\"\"\"\n",
    "    u = (np.absolute(x - w) > np.absolute(y - w)).astype(int)\n",
    "    v = np.ones(thresh_run)\n",
    "    npad = len(v) - 1\n",
    "    u_padded = np.pad(u, (npad // 2, npad - npad // 2), mode=\"constant\")\n",
    "    conv = np.convolve(u_padded, v, \"valid\")\n",
    "    flr = np.floor(thresh_run / 2)\n",
    "    find = np.nonzero(conv >= thresh_run)[0][0]\n",
    "    end = find - flr\n",
    "    result = np.arange(z, z + end + 2)\n",
    "\n",
    "    return result\n",
    "\n",
    "\n",
    "def get_move_stop_offset(w, x, y, z, thresh_run):\n",
    "    \"\"\"Helper function to get movment stop offsets\"\"\"\n",
    "    u = (np.absolute(x[::-1] - w) > np.absolute(y - w)).astype(int)\n",
    "    v = np.ones(thresh_run)\n",
    "    npad = len(v) - 1\n",
    "    u_padded = np.pad(u, (npad // 2, npad - npad // 2), mode=\"constant\")\n",
    "    conv = np.convolve(u_padded, v, \"valid\")\n",
    "    flr = np.floor(thresh_run / 2)\n",
    "    find = np.nonzero(conv >= thresh_run)[0][0]\n",
    "    end = z - find + flr - 1  # weird indexing issue\n",
    "    result = np.arange(end, z + 1)\n",
    "\n",
    "    return result"
   ]
  },
  {
   "cell_type": "code",
   "execution_count": null,
   "id": "9e3a211d",
   "metadata": {},
   "outputs": [],
   "source": [
    "def get_lever_active_points(lever_active):\n",
    "    \"\"\"Helper function to get active_lever_switch, active_lever_starts, active_lever_stops\"\"\"\n",
    "    lever_active_switch = np.diff(lever_active, prepend=0, append=0)\n",
    "    lever_active_starts = np.argwhere(lever_active_switch == 1).flatten()\n",
    "    lever_active_stops = np.argwhere(lever_active_switch == -1).flatten() -1\n",
    "    lever_active_movement_times = (lever_active_stops) - (\n",
    "        lever_active_starts + 1\n",
    "    )  # Accounting for index differences\n",
    "    lever_active_intermovement_times = (lever_active_starts[1:]) - lever_active_stops[\n",
    "        0:-1\n",
    "    ]  # Accounting for index differences\n",
    "\n",
    "    return (\n",
    "        lever_active_starts,\n",
    "        lever_active_stops,\n",
    "        lever_active_movement_times,\n",
    "        lever_active_intermovement_times,\n",
    "    )"
   ]
  },
  {
   "cell_type": "code",
   "execution_count": null,
   "id": "2feb5d51",
   "metadata": {},
   "outputs": [],
   "source": [
    "movement_start_offsets = []\n",
    "for w, x, y, z in zip(\n",
    "        move_start_values, movement_epochs, move_start_cutoffs, lever_active_starts\n",
    "    ):\n",
    "    offset = get_move_start_offset(w, x, y, z, thresh_run)\n",
    "    movement_start_offsets.append(offset.astype(int))\n",
    "movement_stop_offsets = []\n",
    "for w, x, y, z in zip(\n",
    "        move_stop_values, movement_epochs, move_stop_cutoffs, lever_active_stops\n",
    "    ):\n",
    "    offset = get_move_stop_offset(w, x, y, z, thresh_run)\n",
    "    movement_stop_offsets.append(offset.astype(int))\n",
    "\n",
    "lever_active[np.concatenate(movement_start_offsets)] = 0\n",
    "lever_active[np.concatenate(movement_stop_offsets)] = 0"
   ]
  },
  {
   "cell_type": "code",
   "execution_count": null,
   "id": "f7823614",
   "metadata": {},
   "outputs": [],
   "source": [
    "np.nonzero(lever_active)[0]"
   ]
  },
  {
   "cell_type": "code",
   "execution_count": null,
   "id": "aac012ce",
   "metadata": {},
   "outputs": [],
   "source": [
    "movement_stop_offsets[2]"
   ]
  },
  {
   "cell_type": "code",
   "execution_count": null,
   "id": "9a7759a9",
   "metadata": {},
   "outputs": [],
   "source": [
    "np.floor(thresh_run / 2)"
   ]
  },
  {
   "cell_type": "code",
   "execution_count": null,
   "id": "b7e2227c",
   "metadata": {},
   "outputs": [],
   "source": [
    "x[::-1]"
   ]
  },
  {
   "cell_type": "code",
   "execution_count": null,
   "id": "c650282e",
   "metadata": {},
   "outputs": [],
   "source": []
  }
 ],
 "metadata": {
  "kernelspec": {
   "display_name": "Python 3 (ipykernel)",
   "language": "python",
   "name": "python3"
  },
  "language_info": {
   "codemirror_mode": {
    "name": "ipython",
    "version": 3
   },
   "file_extension": ".py",
   "mimetype": "text/x-python",
   "name": "python",
   "nbconvert_exporter": "python",
   "pygments_lexer": "ipython3",
   "version": "3.9.7"
  }
 },
 "nbformat": 4,
 "nbformat_minor": 5
}
