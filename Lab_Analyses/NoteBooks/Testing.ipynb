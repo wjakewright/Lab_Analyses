{
 "cells": [
  {
   "cell_type": "code",
   "execution_count": null,
   "id": "2f4a4d84",
   "metadata": {},
   "outputs": [],
   "source": [
    "from Lab_Analyses.Utilities.get_dFoF import get_dFoF\n",
    "from Lab_Analyses.Utilities.load_mat_files import load_mat"
   ]
  },
  {
   "cell_type": "code",
   "execution_count": null,
   "id": "74844144",
   "metadata": {},
   "outputs": [],
   "source": [
    "SnFr_path = r\"Z:\\People\\Jake\\Imaging_Data\\JW033\\220103\\dendrite_1\\summed\"\n",
    "SnFr_file = \"JW033_0103_00001_00001_summed_50_Analyzed_ByJake\"\n",
    "\n",
    "SnFr_data = load_mat(SnFr_file, SnFr_file, SnFr_path)"
   ]
  },
  {
   "cell_type": "code",
   "execution_count": null,
   "id": "5e604d9a",
   "metadata": {},
   "outputs": [],
   "source": [
    "SnFr_fluoro = SnFr_data.Fluorescence_Measurement"
   ]
  },
  {
   "cell_type": "code",
   "execution_count": null,
   "id": "c971c69d",
   "metadata": {},
   "outputs": [],
   "source": [
    "SnFr_sampling_rate = 58.30\n"
   ]
  },
  {
   "cell_type": "code",
   "execution_count": null,
   "id": "b586e706",
   "metadata": {},
   "outputs": [],
   "source": [
    "SnFr_fluoro[0]"
   ]
  },
  {
   "cell_type": "code",
   "execution_count": null,
   "id": "c07bf000",
   "metadata": {},
   "outputs": [],
   "source": [
    "SnFr_dFoF, SnFr_PdFoF, SnFr_baseline = get_dFoF(SnFr_fluoro[0],SnFr_sampling_rate, smooth_window=0.5)"
   ]
  },
  {
   "cell_type": "code",
   "execution_count": null,
   "id": "2edab684",
   "metadata": {},
   "outputs": [],
   "source": [
    "import matplotlib.pyplot as plt\n",
    "%matplotlib notebook"
   ]
  },
  {
   "cell_type": "code",
   "execution_count": null,
   "id": "123c7789",
   "metadata": {
    "scrolled": false
   },
   "outputs": [],
   "source": [
    "plt.figure()\n",
    "plt.plot(SnFr_dFoF)\n",
    "plt.figure()\n",
    "plt.plot(SnFr_PdFoF)\n",
    "plt.figure()\n",
    "plt.plot(SnFr_fluoro[0])\n",
    "plt.plot(SnFr_baseline)"
   ]
  },
  {
   "cell_type": "code",
   "execution_count": null,
   "id": "705177c9",
   "metadata": {},
   "outputs": [],
   "source": [
    "import numpy as np\n",
    "\n",
    "new_fluo = (SnFr_fluoro[0] - SnFr_fluoro[0].min()) / (SnFr_fluoro[0].max() - SnFr_fluoro[0].min())\n",
    "new_base = (SnFr_baseline -  SnFr_fluoro[0].min()) / (SnFr_fluoro[0].max() - SnFr_fluoro[0].min())"
   ]
  },
  {
   "cell_type": "code",
   "execution_count": null,
   "id": "209ea626",
   "metadata": {},
   "outputs": [],
   "source": [
    "plt.figure()\n",
    "plt.plot(new_fluo)\n",
    "plt.plot(new_base)"
   ]
  },
  {
   "cell_type": "code",
   "execution_count": null,
   "id": "af78556b",
   "metadata": {},
   "outputs": [],
   "source": [
    "c = np.array([5,6,7,8]).reshape(1,-1)\n",
    "a = np.append(a,c,axis=0)\n",
    "a[1:,:]"
   ]
  },
  {
   "cell_type": "code",
   "execution_count": null,
   "id": "88f651ea",
   "metadata": {},
   "outputs": [],
   "source": [
    "a = [np.array([1,2,3]), np.array([4,5,6])]\n",
    "b = np.vstack(a).T\n",
    "b"
   ]
  },
  {
   "cell_type": "code",
   "execution_count": null,
   "id": "343f9bbf",
   "metadata": {},
   "outputs": [],
   "source": [
    "b.mean(axis=1).reshape(-1,1)"
   ]
  },
  {
   "cell_type": "code",
   "execution_count": null,
   "id": "3c222e0a",
   "metadata": {},
   "outputs": [],
   "source": [
    "c = np.array([1,2,3]).reshape(-1,1)\n",
    "d = np.array([4,5,6]).reshape(-1,1)\n",
    "e = [c,d]\n",
    "f = np.hstack(e).mean(axis=1).reshape(-1,1)"
   ]
  },
  {
   "cell_type": "code",
   "execution_count": null,
   "id": "4ed1d2ea",
   "metadata": {},
   "outputs": [],
   "source": [
    "file1 = \"JW033_0103_00001_00001_corrected\"\n",
    "file2 = \"JW033_0103_00001_00002_corrected\"\n",
    "file3 = \"JW033_0103_00001_00003_corrected\"\n",
    "file4 = \"JW033_0103_00002_00001_corrected\"\n",
    "file5 = \"JW033_0103_00002_00002_corrected\"\n",
    "file6 = \"JW033_0103_00002_00003_corrected\"\n",
    "files = [file1, file2, file3, file4, file5, file6]\n",
    "frame_counts = [800,800,650,800,800,440]"
   ]
  },
  {
   "cell_type": "code",
   "execution_count": null,
   "id": "541b6d9e",
   "metadata": {},
   "outputs": [],
   "source": [
    "import re\n",
    "\n",
    "name = \"JW015_1113_00002_00001_summed_50\"\n",
    "a = re.search(\"[A-Z]{2}[0-9]{3}\", name).group()\n",
    "a"
   ]
  },
  {
   "cell_type": "code",
   "execution_count": null,
   "id": "4946c345",
   "metadata": {},
   "outputs": [],
   "source": [
    "import pickle\n",
    "with open(\"viewer_test.pickle\", \"rb\") as f:\n",
    "    file = pickle.load(f)"
   ]
  },
  {
   "cell_type": "code",
   "execution_count": null,
   "id": "9d315136",
   "metadata": {},
   "outputs": [],
   "source": [
    "a = Object(name=\"Jake\")"
   ]
  },
  {
   "cell_type": "code",
   "execution_count": null,
   "id": "6e20eb4b",
   "metadata": {},
   "outputs": [],
   "source": [
    "from PyQt5 import QtCore, QtGui, QtWidgets\n",
    "import sys\n",
    " \n",
    "class Ui_MainWindow(QtWidgets.QWidget):\n",
    "    def setupUi(self, MainWindow):\n",
    "        MainWindow.resize(422, 255)\n",
    "        self.centralwidget = QtWidgets.QWidget(MainWindow)\n",
    " \n",
    "        self.pushButton = QtWidgets.QPushButton(self.centralwidget)\n",
    "        self.pushButton.setGeometry(QtCore.QRect(160, 130, 93, 28))\n",
    " \n",
    "        # For displaying confirmation message along with user's info.\n",
    "        self.label = QtWidgets.QLabel(self.centralwidget)   \n",
    "        self.label.setGeometry(QtCore.QRect(170, 40, 201, 111))\n",
    " \n",
    "        # Keeping the text of label empty initially.      \n",
    "        self.label.setText(\"\")    \n",
    " \n",
    "        MainWindow.setCentralWidget(self.centralwidget)\n",
    "        self.retranslateUi(MainWindow)\n",
    "        QtCore.QMetaObject.connectSlotsByName(MainWindow)\n",
    " \n",
    "    def retranslateUi(self, MainWindow):\n",
    "        _translate = QtCore.QCoreApplication.translate\n",
    "        MainWindow.setWindowTitle(_translate(\"MainWindow\", \"MainWindow\"))\n",
    "        self.pushButton.setText(_translate(\"MainWindow\", \"Proceed\"))\n",
    "        self.pushButton.clicked.connect(self.takeinputs)\n",
    "         \n",
    "    def takeinputs(self):\n",
    "        name, done1 = QtWidgets.QInputDialog.getText(\n",
    "             self, 'Input Dialog', 'Enter your name:')\n",
    " \n",
    "        roll, done2 = QtWidgets.QInputDialog.getInt(\n",
    "           self, 'Input Dialog', 'Enter your roll:') \n",
    " \n",
    "        cgpa, done3 = QtWidgets.QInputDialog.getDouble(\n",
    "              self, 'Input Dialog', 'Enter your CGPA:')\n",
    " \n",
    "        langs =['C', 'c++', 'Java', 'Python', 'Javascript']\n",
    "        lang, done4 = QtWidgets.QInputDialog.getItem(\n",
    "          self, 'Input Dialog', 'Language you know:', langs)\n",
    " \n",
    "        if done1 and done2 and done3 and done4 :\n",
    "             # Showing confirmation message along\n",
    "             # with information provided by user.\n",
    "             self.label.setText('Information stored Successfully\\nName: '\n",
    "                                 +str(name)+'('+str(roll)+')'+'\\n'+'CGPA: '\n",
    "                                 +str(cgpa)+'\\nSelected Language: '+str(lang))  \n",
    "  \n",
    "             # Hide the pushbutton after inputs provided by the use.\n",
    "             self.pushButton.hide()     \n",
    "               \n",
    "              \n",
    "              \n",
    "if __name__ == \"__main__\":\n",
    "    app = QtWidgets.QApplication(sys.argv)\n",
    "    MainWindow = QtWidgets.QMainWindow()\n",
    "    ui = Ui_MainWindow()\n",
    "    ui.setupUi(MainWindow)\n",
    "    MainWindow.show() \n",
    " \n",
    "    sys.exit(app.exec_())"
   ]
  },
  {
   "cell_type": "code",
   "execution_count": null,
   "id": "f434fcff",
   "metadata": {},
   "outputs": [],
   "source": [
    "import numpy as np\n",
    "\n",
    "ops = np.load(\"ops.npy\", allow_pickle=True)"
   ]
  },
  {
   "cell_type": "code",
   "execution_count": null,
   "id": "0829b5ca",
   "metadata": {},
   "outputs": [],
   "source": [
    "ops"
   ]
  },
  {
   "cell_type": "code",
   "execution_count": null,
   "id": "937ccb73",
   "metadata": {},
   "outputs": [],
   "source": []
  }
 ],
 "metadata": {
  "kernelspec": {
   "display_name": "Python 3 (ipykernel)",
   "language": "python",
   "name": "python3"
  },
  "language_info": {
   "codemirror_mode": {
    "name": "ipython",
    "version": 3
   },
   "file_extension": ".py",
   "mimetype": "text/x-python",
   "name": "python",
   "nbconvert_exporter": "python",
   "pygments_lexer": "ipython3",
   "version": "3.9.7"
  }
 },
 "nbformat": 4,
 "nbformat_minor": 5
}
