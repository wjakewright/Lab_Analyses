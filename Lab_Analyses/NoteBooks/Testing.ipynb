{
 "cells": [
  {
   "cell_type": "markdown",
   "id": "c6367240",
   "metadata": {},
   "source": [
    "# Testing"
   ]
  },
  {
   "cell_type": "code",
   "execution_count": 1,
   "id": "15bf4fdd",
   "metadata": {},
   "outputs": [],
   "source": [
    "from Lab_Analyses.Utilities import load_mat_files\n",
    "from Lab_Analyses.Behavior import process_lever_behavior as plb\n",
    "from Lab_Analyses.Behavior import summarize_lever_behavior as slb"
   ]
  },
  {
   "cell_type": "code",
   "execution_count": 2,
   "id": "e09021f6",
   "metadata": {},
   "outputs": [
    {
     "name": "stderr",
     "output_type": "stream",
     "text": [
      "c:\\users\\jake\\desktop\\python_code\\lab_analyses\\Lab_Analyses\\Behavior\\process_lever_behavior.py:405: ComplexWarning: Casting complex values to real discards the imaginary part\n",
      "  lever_velocity_envelope = np.sqrt(\n"
     ]
    }
   ],
   "source": [
    "path = r'Z:\\People\\Jake\\Behavior\\JW003\\211019\\JW003_8MW'\n",
    "fname = 'data_@lever2p_ITIOptoPulsed_JW_JW003_210919a'\n",
    "\n",
    "behavior_data = plb.process_lever_press_behavior(path, True)"
   ]
  },
  {
   "cell_type": "code",
   "execution_count": 3,
   "id": "6b52e46f",
   "metadata": {},
   "outputs": [
    {
     "name": "stdout",
     "output_type": "stream",
     "text": [
      "7\n",
      "8\n",
      "10\n"
     ]
    }
   ],
   "source": [
    "summarized_data = slb.summarize_lever_behavior(behavior_data)"
   ]
  },
  {
   "cell_type": "code",
   "execution_count": 4,
   "id": "338c0792",
   "metadata": {},
   "outputs": [
    {
     "data": {
      "text/plain": [
       "array([[-1.02819585, -1.02818073, -1.02816551, ..., -1.15045179,\n",
       "        -1.15042017, -1.15038871],\n",
       "       [-1.08086025, -1.08086092, -1.08086173, ..., -1.40795265,\n",
       "        -1.40840828, -1.4088594 ],\n",
       "       [-1.10551809, -1.10549106, -1.10546433, ..., -1.14011554,\n",
       "        -1.14010992, -1.14010423]])"
      ]
     },
     "execution_count": 4,
     "metadata": {},
     "output_type": "execute_result"
    }
   ],
   "source": [
    "summarized_data.movement_matrix"
   ]
  },
  {
   "cell_type": "code",
   "execution_count": 16,
   "id": "306f41cc",
   "metadata": {},
   "outputs": [
    {
     "data": {
      "text/plain": [
       "(-2.5, 0.0)"
      ]
     },
     "execution_count": 16,
     "metadata": {},
     "output_type": "execute_result"
    },
    {
     "data": {
      "image/png": "[encoded data removed]",
      "text/plain": [
       "<Figure size 432x288 with 1 Axes>"
      ]
     },
     "metadata": {
      "needs_background": "light"
     },
     "output_type": "display_data"
    }
   ],
   "source": [
    "import matplotlib.pyplot as plt\n",
    "plt.figure()\n",
    "plt.plot(summarized_data.movement_avg)\n",
    "plt.plot(summarized_data.movement_matrix[0,:])\n",
    "plt.plot(summarized_data.movement_matrix[1,:])\n",
    "plt.plot(summarized_data.movement_matrix[2,:])\n",
    "plt.ylim((-2.5,0))"
   ]
  },
  {
   "cell_type": "code",
   "execution_count": 23,
   "id": "8aa1e0f3",
   "metadata": {},
   "outputs": [
    {
     "data": {
      "text/plain": [
       "2.8206666666666664"
      ]
     },
     "execution_count": 23,
     "metadata": {},
     "output_type": "execute_result"
    }
   ],
   "source": [
    "summarized_data.avg_cue_to_reward"
   ]
  },
  {
   "cell_type": "code",
   "execution_count": 26,
   "id": "fa3534ba",
   "metadata": {},
   "outputs": [
    {
     "data": {
      "text/plain": [
       "[29, 3, 47]"
      ]
     },
     "execution_count": 26,
     "metadata": {},
     "output_type": "execute_result"
    }
   ],
   "source": [
    "summarized_data.number_of_movements_during_ITI"
   ]
  },
  {
   "cell_type": "code",
   "execution_count": 8,
   "id": "f75df845",
   "metadata": {},
   "outputs": [
    {
     "data": {
      "text/plain": [
       "array([1, 3, 5, 6])"
      ]
     },
     "execution_count": 8,
     "metadata": {},
     "output_type": "execute_result"
    }
   ],
   "source": [
    "import numpy as np\n",
    "a = np.array([1,2,3,4,5,6,7,8,9])\n",
    "b= [True,False,True,False,True,True,False,False,False]\n",
    "a[np.nonzero(b)[0]]"
   ]
  },
  {
   "cell_type": "code",
   "execution_count": 9,
   "id": "c84be16a",
   "metadata": {},
   "outputs": [
    {
     "name": "stdout",
     "output_type": "stream",
     "text": [
      "[0 2 4 5]\n"
     ]
    }
   ],
   "source": [
    "c = np.nonzero(b)\n",
    "print(c[0])"
   ]
  },
  {
   "cell_type": "code",
   "execution_count": 10,
   "id": "6e470666",
   "metadata": {},
   "outputs": [
    {
     "data": {
      "text/plain": [
       "array([1, 3, 5, 6])"
      ]
     },
     "execution_count": 10,
     "metadata": {},
     "output_type": "execute_result"
    }
   ],
   "source": [
    "a[np.array(b)]"
   ]
  },
  {
   "cell_type": "code",
   "execution_count": 11,
   "id": "a077d20f",
   "metadata": {},
   "outputs": [],
   "source": [
    "a = [1,2,3,np.nan]"
   ]
  },
  {
   "cell_type": "code",
   "execution_count": 12,
   "id": "ef66983b",
   "metadata": {},
   "outputs": [
    {
     "data": {
      "text/plain": [
       "nan"
      ]
     },
     "execution_count": 12,
     "metadata": {},
     "output_type": "execute_result"
    }
   ],
   "source": [
    "np.min(a)"
   ]
  },
  {
   "cell_type": "code",
   "execution_count": null,
   "id": "1656e24a",
   "metadata": {},
   "outputs": [],
   "source": []
  }
 ],
 "metadata": {
  "kernelspec": {
   "display_name": "Python 3 (ipykernel)",
   "language": "python",
   "name": "python3"
  },
  "language_info": {
   "codemirror_mode": {
    "name": "ipython",
    "version": 3
   },
   "file_extension": ".py",
   "mimetype": "text/x-python",
   "name": "python",
   "nbconvert_exporter": "python",
   "pygments_lexer": "ipython3",
   "version": "3.9.7"
  }
 },
 "nbformat": 4,
 "nbformat_minor": 5
}
