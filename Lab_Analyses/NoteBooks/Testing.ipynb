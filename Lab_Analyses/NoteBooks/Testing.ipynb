{
 "cells": [
  {
   "cell_type": "markdown",
   "id": "c6367240",
   "metadata": {},
   "source": [
    "# Testing"
   ]
  },
  {
   "cell_type": "code",
   "execution_count": 1,
   "id": "15bf4fdd",
   "metadata": {},
   "outputs": [],
   "source": [
    "from Lab_Analyses.Utilities import load_mat_files\n",
    "from Lab_Analyses.Behavior import process_lever_behavior as plb\n",
    "from Lab_Analyses.Behavior import summarize_lever_behavior as slb"
   ]
  },
  {
   "cell_type": "code",
   "execution_count": 2,
   "id": "e09021f6",
   "metadata": {},
   "outputs": [
    {
     "name": "stderr",
     "output_type": "stream",
     "text": [
      "c:\\users\\jake\\desktop\\python_code\\lab_analyses\\Lab_Analyses\\Behavior\\process_lever_behavior.py:405: ComplexWarning: Casting complex values to real discards the imaginary part\n",
      "  lever_velocity_envelope = np.sqrt(\n"
     ]
    }
   ],
   "source": [
    "path = r'Z:\\People\\Jake\\Behavior\\JW003\\211019\\JW003_8MW'\n",
    "fname = 'data_@lever2p_ITIOptoPulsed_JW_JW003_210919a'\n",
    "\n",
    "behavior_data = plb.process_lever_press_behavior(path, True)"
   ]
  },
  {
   "cell_type": "code",
   "execution_count": 3,
   "id": "aff8df7f",
   "metadata": {},
   "outputs": [
    {
     "name": "stdout",
     "output_type": "stream",
     "text": [
      "7\n",
      "8\n",
      "10\n"
     ]
    }
   ],
   "source": [
    "summarized_data = slb.summarize_lever_behavior(behavior_data)"
   ]
  },
  {
   "cell_type": "code",
   "execution_count": 4,
   "id": "f6c124bf",
   "metadata": {},
   "outputs": [
    {
     "data": {
      "text/plain": [
       "array([[-1.02819585, -1.02818073, -1.02816551, ..., -1.15045179,\n",
       "        -1.15042017, -1.15038871],\n",
       "       [-1.08086025, -1.08086092, -1.08086173, ..., -1.40795265,\n",
       "        -1.40840828, -1.4088594 ],\n",
       "       [-1.10551809, -1.10549106, -1.10546433, ..., -1.14011554,\n",
       "        -1.14010992, -1.14010423]])"
      ]
     },
     "execution_count": 4,
     "metadata": {},
     "output_type": "execute_result"
    }
   ],
   "source": [
    "summarized_data.movement_matrix"
   ]
  },
  {
   "cell_type": "code",
   "execution_count": 15,
   "id": "717f93d3",
   "metadata": {},
   "outputs": [
    {
     "data": {
      "text/plain": [
       "(-2.5, 0.0)"
      ]
     },
     "execution_count": 15,
     "metadata": {},
     "output_type": "execute_result"
    },
    {
     "data": {
      "image/png": "[encoded data removed]",
      "text/plain": [
       "<Figure size 432x288 with 1 Axes>"
      ]
     },
     "metadata": {
      "needs_background": "light"
     },
     "output_type": "display_data"
    }
   ],
   "source": [
    "import matplotlib.pyplot as plt\n",
    "plt.figure()\n",
    "plt.plot(summarized_data.movement_avg)\n",
    "plt.ylim((-2.5,0))"
   ]
  },
  {
   "cell_type": "code",
   "execution_count": 6,
   "id": "28494ae0",
   "metadata": {},
   "outputs": [
    {
     "data": {
      "text/plain": [
       "array([-0.58874747, -0.59720786, -0.60564428, -0.61405334, -0.62243166,\n",
       "       -0.6307759 , -0.63908275, -0.64734892, -0.65557119, -0.66374637,\n",
       "       -0.67187129, -0.67994287, -0.68795805, -0.69591383, -0.70380728,\n",
       "       -0.71163552, -0.71939571, -0.7270851 , -0.73470099, -0.74224076,\n",
       "       -0.74970185, -0.75708177, -0.76437811, -0.77158851, -0.77871073,\n",
       "       -0.78574257, -0.79268191, -0.79952673, -0.80627508, -0.8129251 ,\n",
       "       -0.81947499, -0.82592306, -0.83226768, -0.83850734, -0.84464057,\n",
       "       -0.85066602, -0.85658241, -0.86238855, -0.86808335, -0.87366578,\n",
       "       -0.87913492, -0.88448992, -0.88973002, -0.89485456, -0.89986293,\n",
       "       -0.90475465, -0.90952928, -0.9141865 , -0.91872605, -0.92314776,\n",
       "       -0.92745154, -0.93163738, -0.93570534, -0.93965557, -0.9434883 ,\n",
       "       -0.94720381, -0.95080248, -0.95428475, -0.95765114, -0.96090224,\n",
       "       -0.96403868, -0.96706121, -0.96997059, -0.97276767, -0.97545338,\n",
       "       -0.97802867, -0.98049458, -0.9828522 , -0.98510266, -0.98724715,\n",
       "       -0.98928693, -0.99122328, -0.99305756, -0.99479114, -0.99642547,\n",
       "       -0.99796201, -0.99940228, -1.00074784, -1.00200026, -1.00316118,\n",
       "       -1.00423225, -1.00521516, -1.00611162, -1.00692338, -1.0076522 ,\n",
       "       -1.00829987, -1.0088682 , -1.00935902, -1.00977418, -1.01011554,\n",
       "       -1.01038499, -1.0105844 , -1.01071567, -1.01078073])"
      ]
     },
     "execution_count": 6,
     "metadata": {},
     "output_type": "execute_result"
    }
   ],
   "source": [
    "behavior_data.lever_force_smooth[6:100]"
   ]
  },
  {
   "cell_type": "code",
   "execution_count": 7,
   "id": "bf9b4548",
   "metadata": {},
   "outputs": [
    {
     "data": {
      "text/plain": [
       "0"
      ]
     },
     "execution_count": 7,
     "metadata": {},
     "output_type": "execute_result"
    }
   ],
   "source": [
    "a = []\n",
    "len(a)"
   ]
  },
  {
   "cell_type": "code",
   "execution_count": 8,
   "id": "ca1e81ca",
   "metadata": {},
   "outputs": [
    {
     "data": {
      "text/plain": [
       "array([1, 3, 5, 6])"
      ]
     },
     "execution_count": 8,
     "metadata": {},
     "output_type": "execute_result"
    }
   ],
   "source": [
    "import numpy as np\n",
    "a = np.array([1,2,3,4,5,6,7,8,9])\n",
    "b= [True,False,True,False,True,True,False,False,False]\n",
    "a[np.nonzero(b)[0]]"
   ]
  },
  {
   "cell_type": "code",
   "execution_count": 9,
   "id": "8257e1a3",
   "metadata": {},
   "outputs": [
    {
     "name": "stdout",
     "output_type": "stream",
     "text": [
      "[0 2 4 5]\n"
     ]
    }
   ],
   "source": [
    "c = np.nonzero(b)\n",
    "print(c[0])"
   ]
  },
  {
   "cell_type": "code",
   "execution_count": 10,
   "id": "3ece917e",
   "metadata": {},
   "outputs": [
    {
     "data": {
      "text/plain": [
       "array([1, 3, 5, 6])"
      ]
     },
     "execution_count": 10,
     "metadata": {},
     "output_type": "execute_result"
    }
   ],
   "source": [
    "a[np.array(b)]"
   ]
  },
  {
   "cell_type": "code",
   "execution_count": 11,
   "id": "59df6043",
   "metadata": {},
   "outputs": [],
   "source": [
    "a = [1,2,3,np.nan]"
   ]
  },
  {
   "cell_type": "code",
   "execution_count": 12,
   "id": "9b8bb1b3",
   "metadata": {},
   "outputs": [
    {
     "data": {
      "text/plain": [
       "nan"
      ]
     },
     "execution_count": 12,
     "metadata": {},
     "output_type": "execute_result"
    }
   ],
   "source": [
    "np.min(a)"
   ]
  },
  {
   "cell_type": "code",
   "execution_count": null,
   "id": "17567893",
   "metadata": {},
   "outputs": [],
   "source": []
  }
 ],
 "metadata": {
  "kernelspec": {
   "display_name": "Python 3 (ipykernel)",
   "language": "python",
   "name": "python3"
  },
  "language_info": {
   "codemirror_mode": {
    "name": "ipython",
    "version": 3
   },
   "file_extension": ".py",
   "mimetype": "text/x-python",
   "name": "python",
   "nbconvert_exporter": "python",
   "pygments_lexer": "ipython3",
   "version": "3.9.7"
  }
 },
 "nbformat": 4,
 "nbformat_minor": 5
}
