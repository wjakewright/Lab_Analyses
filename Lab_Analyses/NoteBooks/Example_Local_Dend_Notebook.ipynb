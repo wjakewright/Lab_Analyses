{
 "cells": [
  {
   "cell_type": "code",
   "execution_count": null,
   "id": "528d3810",
   "metadata": {},
   "outputs": [],
   "source": [
    "from Lab_Analyses.Spine_Analysis_v2.example_local_dend_traces import example_local_dend_traces"
   ]
  },
  {
   "cell_type": "code",
   "execution_count": null,
   "id": "02b99d18",
   "metadata": {},
   "outputs": [],
   "source": [
    "id_1 = \"JW082\"\n",
    "id_2 = \"JW083\" \n",
    "id_3 = \"JW090\"\n",
    "id_4 = \"JW092\"\n",
    "#id_5 = \"JW126\" # Not using\n",
    "id_6 = \"JW129\" \n",
    "id_7 = \"JW130\" \n",
    "id_8 = \"JW153\"\n",
    "id_9 = \"JW150\"\n",
    "id_10 = \"JW168\"\n",
    "id_11 = \"JW202\"\n",
    "#id_12 = \"JW215\"\n",
    "#id_12 = \"JW241\" # Not using\n",
    "#id_13 = \"JW242\" # Not using\n",
    "\n",
    "\n",
    "\n",
    "mouse_list = [id_1, id_2, id_3, id_4, id_6, id_7, id_8, id_9, id_10, id_11]"
   ]
  },
  {
   "cell_type": "code",
   "execution_count": null,
   "id": "a0cb99d7",
   "metadata": {
    "scrolled": false
   },
   "outputs": [],
   "source": [
    "example_local_dend_traces(mouse_list, fov_type=\"apical\", example=\"JW150 FOV3_apical 11\", save=True)"
   ]
  },
  {
   "cell_type": "code",
   "execution_count": null,
   "id": "d3990b7a",
   "metadata": {},
   "outputs": [],
   "source": []
  }
 ],
 "metadata": {
  "kernelspec": {
   "display_name": "Python 3 (ipykernel)",
   "language": "python",
   "name": "python3"
  },
  "language_info": {
   "codemirror_mode": {
    "name": "ipython",
    "version": 3
   },
   "file_extension": ".py",
   "mimetype": "text/x-python",
   "name": "python",
   "nbconvert_exporter": "python",
   "pygments_lexer": "ipython3",
   "version": "3.8.18"
  }
 },
 "nbformat": 4,
 "nbformat_minor": 5
}
