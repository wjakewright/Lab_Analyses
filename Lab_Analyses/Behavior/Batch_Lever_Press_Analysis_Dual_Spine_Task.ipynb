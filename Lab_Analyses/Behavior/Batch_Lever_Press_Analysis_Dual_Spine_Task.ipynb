{
 "cells": [
  {
   "cell_type": "markdown",
   "id": "5bd4657a",
   "metadata": {},
   "source": [
    "# Batch Lever Press Analysis\n",
    "\n",
    "### Notebook for processing and analyzing lever press behavior\n",
    "Allows for processing, summarizing, and analysis of lever behavior across all sessions, and across multiple mice. Includes sections for data visualization "
   ]
  },
  {
   "cell_type": "code",
   "execution_count": null,
   "id": "73b008d9",
   "metadata": {},
   "outputs": [],
   "source": [
    "# Import modules\n",
    "import os\n",
    "import numpy as np\n",
    "from Lab_Analyses.Behavior.mouse_lever_behavior import analyze_mouse_lever_behavior\n",
    "from Lab_Analyses.Behavior.group_lever_press import Group_Lever_Press\n",
    "from Lab_Analyses.Behavior import behavior_plotting as bplot\n",
    "from Lab_Analyses.Utilities.save_load_pickle import save_pickle, load_pickle"
   ]
  },
  {
   "cell_type": "markdown",
   "id": "6a44cc3c",
   "metadata": {},
   "source": [
    "## Across Day Batch Processing and Summarizing\n",
    "Sections below are for analyzing all sessions across all days of a standard lever press training regime. \n"
   ]
  },
  {
   "cell_type": "markdown",
   "id": "60da9221",
   "metadata": {},
   "source": [
    "### Specify the data to be analyzed\n",
    "#### Paths\n",
    "Specify the paths where data files are located"
   ]
  },
  {
   "cell_type": "code",
   "execution_count": null,
   "id": "b984943f",
   "metadata": {},
   "outputs": [],
   "source": [
    "# Parent path leading to where raw dispatcher and xsglog files are loacted\n",
    "raw_path = r'Z:\\People\\Jake\\Behavior'\n",
    "#raw_path = r\"C:\\Users\\Jake\\Desktop\\temp_behavior\"\n",
    "# Parent path leading to where analyzed data are saved\n",
    "save_path = r'C:\\Users\\Jake\\Desktop\\Analyzed_data\\individual'"
   ]
  },
  {
   "cell_type": "markdown",
   "id": "abf049e9",
   "metadata": {},
   "source": [
    "#### Datasets\n",
    "Specify what data to be processed and analyzed as well as other parameters associated with the data"
   ]
  },
  {
   "cell_type": "code",
   "execution_count": null,
   "id": "eee0f6e8",
   "metadata": {},
   "outputs": [],
   "source": [
    "# Mouse ids you wish to analyze\n",
    "## Can have as many different ids as needed\n",
    "id_1 = \"JW082\"\n",
    "id_2 = \"JW083\"\n",
    "id_3 = \"JW090\"\n",
    "id_4 = \"JW092\"\n",
    "id_6 = \"JW129\"\n",
    "id_7 = \"JW130\"\n",
    "id_9 = \"JW150\" # Not using anymore\n",
    "id_10 = \"JW152\"\n",
    "id_11 = \"JW153\"\n",
    "id_12 = \"JW154\"\n",
    "id_13 = \"JW167\"\n",
    "id_14 = \"JW168\"\n",
    "id_15 = \"JW169\"\n",
    "\n",
    "\n",
    "## Reanalyze ?\n",
    "# Indicate if you are reanalyzing the data\n",
    "# Will re-process, summarize, and analyze data even if already analyzed before\n",
    "reanalyze = [True, True, True, True, True, True, True, True, True, True, True, True, True, True]\n",
    "#reanalyze = [not x for x in reanalyze]\n",
    "\n",
    "## Ignore days ?\n",
    "# Indicate if there are any days for each mouse you wish to ignore for analysis\n",
    "# For example you did another session unrelated to this task (e.g. opto)\n",
    "ignore_1 = ()\n",
    "ignore_2 = ()\n",
    "ignore_3 = ()\n",
    "ignore_4 = ()\n",
    "ignore_6 = ()\n",
    "ignore_7 = ()\n",
    "ignore_9 = ()\n",
    "ignore_10 = ()\n",
    "ignore_11 = ()\n",
    "ignore_12 = ()\n",
    "ignore_13 = ()\n",
    "ignore_14 = ()\n",
    "ignore_15 = ()\n",
    "\n",
    "# Imaged Sessions\n",
    "## Indicate which sessions were imaged\n",
    "\n",
    "#### Number of sessiosn\n",
    "num_of_sessions = 14\n",
    "#### Put which sessions were imaged in the lists (must be int)\n",
    "im_1 = [1,2,3,6,7,8,11,12,13]\n",
    "im_2 = [1,2,3,6,7,8,11,13]\n",
    "im_3 = [1,2,3,6,7,8,12,13]\n",
    "im_4 = [1,2,3,6,7,8,11,12,13]\n",
    "\n",
    "im_6 = [1,2,3,6,7,8,11,12,13]\n",
    "im_7 = [1,2,3,6,7,8,11,12,13]\n",
    "\n",
    "im_9 = [1,2,3,8,13]\n",
    "im_10 = [1,2,3,6,8,11,13]\n",
    "im_11 = [1,2,3,6,7,8,11,12]\n",
    "im_12 = [1,2,3,6,7,8,11,12,13]\n",
    "im_13 = [1,2,3,6,7,8,12]\n",
    "im_14 = [1,2,3,6,7,8,12,13]\n",
    "im_15 = [1,2,3,6,7,8,11,12,13]\n",
    "#### Do not change this part\n",
    "image_1 = [False if x not in np.array(im_1)-1 else True for x in range(num_of_sessions)]\n",
    "image_2 = [False if x not in np.array(im_2)-1 else True for x in range(num_of_sessions)]\n",
    "image_3 = [False if x not in np.array(im_3)-1 else True for x in range(num_of_sessions)]\n",
    "image_4 = [False if x not in np.array(im_4)-1 else True for x in range(num_of_sessions)]\n",
    "\n",
    "image_6 = [False if x not in np.array(im_6)-1 else True for x in range(num_of_sessions)]\n",
    "image_7 = [False if x not in np.array(im_7)-1 else True for x in range(num_of_sessions)]\n",
    "\n",
    "image_9 = [False if x not in np.array(im_9)-1 else True for x in range(num_of_sessions)]\n",
    "image_10 = [False if x not in np.array(im_10)-1 else True for x in range(num_of_sessions)]\n",
    "image_11 = [False if x not in np.array(im_11)-1 else True for x in range(num_of_sessions)]\n",
    "image_12 = [False if x not in np.array(im_12)-1 else True for x in range(num_of_sessions)]\n",
    "image_13 = [False if x not in np.array(im_13)-1 else True for x in range(num_of_sessions)]\n",
    "image_14 = [False if x not in np.array(im_14)-1 else True for x in range(num_of_sessions)]\n",
    "image_15 = [False if x not in np.array(im_15)-1 else True for x in range(num_of_sessions)]\n",
    "\n",
    "# Give info about the experiment for each mouse\n",
    "## Optional. Set to none below if not being used\n",
    "exp_1 = \"GluSnFr and RCaMP Imaging Task\"\n",
    "exp_2 = \"GluSnFr and RCaMP Imaging Task\"\n",
    "exp_3 = \"GluSnFr and RCaMP Imaging Task\"\n",
    "exp_4 = \"GluSnFr and RCaMP Imaging Task\"\n",
    "\n",
    "exp_6 = \"GluSnFr and RCaMP Imaging Task\"\n",
    "exp_7 = \"GluSnFr and RCaMP Imaging Task\"\n",
    "\n",
    "exp_9 = \"GluSnFr and RCaMP Imaging Task\"\n",
    "exp_10 = \"GluSnFr and RCaMP Imaging Task\"\n",
    "exp_11 = \"GluSnFr and RCaMP Imaging Task\"\n",
    "exp_12 = \"GluSnFr and RCaMP Imaging Task\"\n",
    "exp_13 = \"GluSnFr and RCaMP Imaging Task\"\n",
    "exp_14 = \"GluSnFr and RCaMP Imaging Task\"\n",
    "exp_15 = \"GluSnFr and RCaMP Imaging Task\"\n",
    "\n",
    "# Put information for each mouse in a list\n",
    "### Can be just one mouse in the list\n",
    "\n",
    "mouse_ids = [id_1, id_2, id_3, id_4,  id_6, id_7, id_9, id_11, id_12, id_13, id_14, id_15]\n",
    "imaged = [image_1, image_2, image_3, image_4, image_6, image_7, image_9, image_11, image_12, image_13, image_14, image_15]\n",
    "exps = [exp_1, exp_2, exp_3, exp_4, exp_6, exp_7, exp_9, exp_11, exp_12, exp_13, exp_14, exp_15]\n",
    "ignore_dirs = [ignore_1, ignore_2, ignore_3, ignore_4, ignore_6, ignore_7, ignore_9, ignore_11, ignore_12, ignore_13, ignore_14, ignore_15]"
   ]
  },
  {
   "cell_type": "markdown",
   "id": "0fc46cb6",
   "metadata": {},
   "source": [
    "### Process and Summarize each dataset"
   ]
  },
  {
   "cell_type": "code",
   "execution_count": null,
   "id": "0a6399ab",
   "metadata": {
    "scrolled": false
   },
   "outputs": [],
   "source": [
    "summed_data = []\n",
    "for mouse_id, img, exp, reanaly, ignore in zip(mouse_ids, imaged, exps, reanalyze, ignore_dirs):\n",
    "    print(mouse_id)\n",
    "    path = os.path.join(raw_path, mouse_id)\n",
    "    sd = analyze_mouse_lever_behavior(\n",
    "        mouse_id=mouse_id, path=path, imaged=img, save=True, save_suffix=None, reanalyze=reanaly, \n",
    "        ignore_dir=ignore, press_len=2.0\n",
    "    )\n",
    "    summed_data.append(sd)"
   ]
  },
  {
   "cell_type": "code",
   "execution_count": null,
   "id": "20c2c629",
   "metadata": {},
   "outputs": [],
   "source": []
  },
  {
   "cell_type": "markdown",
   "id": "6fd325e6",
   "metadata": {},
   "source": [
    "### Or load specific files\n",
    "Give path and name for specific files you wish to load.  \n",
    "Change the cell below to run the code"
   ]
  },
  {
   "cell_type": "markdown",
   "id": "ee869f01",
   "metadata": {},
   "source": [
    "path = r'C:\\Users\\Jake\\Desktop\\Analyzed_data\\individual'  \n",
    "fname = \"JW041_all_lever_data\"  \n",
    "loaded_data = load_pickle([fname], path)  "
   ]
  },
  {
   "cell_type": "markdown",
   "id": "364b482a",
   "metadata": {},
   "source": [
    "## Grouped analysis\n",
    "Section to group data across mice within the same experimental group"
   ]
  },
  {
   "cell_type": "code",
   "execution_count": null,
   "id": "a942e30d",
   "metadata": {
    "scrolled": true
   },
   "outputs": [],
   "source": [
    "# Parent path for where grouped data is stored\n",
    "group_path = r'C:\\Users\\Jake\\Desktop\\Analyzed_data\\grouped'\n",
    "# Specify specific paths for this group\n",
    "experiment_directory = \"Dual_Spine_Imaging\"\n",
    "group_directory = \"Lever_Press_Behavior\"\n",
    "# Specify the name of the group file\n",
    "group_name = f\"Task_{experiment_directory}_lever_press_data_two_sec\"\n",
    "\n",
    "# Specify if you would like to load or regenerate the grouped data\n",
    "load_data = False\n",
    "# Specify if you would like to save the grouped data\n",
    "save_grouped = True\n",
    "\n",
    "# Group Data\n",
    "if load_data is True:\n",
    "    load_path = os.path.join(group_path, experiment_directory, group_directory)\n",
    "    try:\n",
    "        grouped_data = load_pickle([group_name],load_path)\n",
    "        grouped_data = grouped_data[0]\n",
    "        print(\"Grouped file loaded\")\n",
    "    except FileNotFoundError:\n",
    "        print(\"Grouped file not found. Regenerating...\")    \n",
    "        grouped_data = Group_Lever_Press(summed_data)\n",
    "else:\n",
    "    grouped_data = Group_Lever_Press(summed_data)\n",
    "\n",
    "if save_grouped is True:\n",
    "    save_path = os.path.join(group_path, experiment_directory, group_directory)\n",
    "    if not os.path.isdir(save_path):\n",
    "        os.makedirs(save_path)\n",
    "    save_pickle(group_name, grouped_data, save_path)\n",
    "        \n"
   ]
  },
  {
   "cell_type": "markdown",
   "id": "d9403639",
   "metadata": {},
   "source": [
    "# Visualize Data\n",
    "Uses built in plotting methods of the Group_Lever_Press class.  \n",
    "If you wish to visualize only a single animal's data across sessions it can still be put into a Group_Lever_Press class for plotting"
   ]
  },
  {
   "cell_type": "markdown",
   "id": "c712c25f",
   "metadata": {},
   "source": [
    "grouped_data = Group_Lever_Press() # Put individual mouse data inside to visualize a single mouse"
   ]
  },
  {
   "cell_type": "markdown",
   "id": "cd82da76",
   "metadata": {},
   "source": [
    "### Visualize data across sessions"
   ]
  },
  {
   "cell_type": "code",
   "execution_count": null,
   "id": "ab0aad97",
   "metadata": {
    "scrolled": false
   },
   "outputs": [],
   "source": [
    "figure_path = r'C:\\Users\\Jake\\Desktop\\Figures'\n",
    "\n",
    "# Specify if you want to save grouped figures\n",
    "group_fig_save = False\n",
    "group_fig_path = os.path.join(figure_path, \"grouped_data\", experiment_directory, group_directory)\n",
    "if not os.path.isdir(group_fig_path):\n",
    "    os.makedirs(group_fig_path)\n",
    "\n",
    "# Plot the grouped data\n",
    "colors = {\"success\": \"mediumblue\", \"reaction_time\": \"firebrick\", \"cue_to_reward\": \"forestgreen\", \n",
    "          \"within\": \"black\", \"across\":\"grey\", \"cmap\": \"plasma\"}\n",
    "ylims = {\"success\": (0,100), \"reaction_time\": (0,2.5), \"cue_to_reward\": (0,8), \"within\": (0,0.4), \"across\": (0,0.4), \"cmap\": (0.05,0.3)}\n",
    "grouped_data.plot_data(figsize=(6.5,9),colors=colors, plot_ind=False, ylims=ylims, save=group_fig_save, save_path=group_fig_path)"
   ]
  },
  {
   "cell_type": "markdown",
   "id": "1fa1f532",
   "metadata": {},
   "source": [
    "### Visualize single session lever presses"
   ]
  },
  {
   "cell_type": "code",
   "execution_count": null,
   "id": "f1eebd7f",
   "metadata": {
    "scrolled": false
   },
   "outputs": [],
   "source": [
    "# specify which mouse and which session to plot\n",
    "mouse = summed_data[-2]\n",
    "session = 1\n",
    "\n",
    "# Specify if you want to save the figure\n",
    "save_press = False\n",
    "individual_lever_path = os.path.join(figure_path, \"individual_mice\", mouse.mouse_id)\n",
    "if not os.path.isdir(individual_lever_path):\n",
    "    os.mkdir(individual_lever_path)\n",
    "    \n",
    "# Plot the lever press traces\n",
    "bplot.plot_session_rewarded_lever_presses(mouse, session, x_lim=(0,2400), figsize=(4,5), \n",
    "                                          save=save_press, save_path=individual_lever_path)"
   ]
  },
  {
   "cell_type": "code",
   "execution_count": null,
   "id": "42183733",
   "metadata": {},
   "outputs": [],
   "source": [
    "def example_function(string):\n",
    "    print(string)\n",
    "    return string"
   ]
  },
  {
   "cell_type": "code",
   "execution_count": null,
   "id": "cd6e65cc",
   "metadata": {},
   "outputs": [],
   "source": [
    "a = example_function(\"Hello World\")"
   ]
  },
  {
   "cell_type": "code",
   "execution_count": null,
   "id": "c2a42006",
   "metadata": {},
   "outputs": [],
   "source": [
    "import numpy as np"
   ]
  },
  {
   "cell_type": "code",
   "execution_count": null,
   "id": "f64cd139",
   "metadata": {},
   "outputs": [],
   "source": [
    "a = np.array([1, 2, 3, 4, 1])\n",
    "c = [False, False, True, True, False]"
   ]
  },
  {
   "cell_type": "code",
   "execution_count": null,
   "id": "79b6bbdc",
   "metadata": {},
   "outputs": [],
   "source": [
    "a[c]"
   ]
  },
  {
   "cell_type": "code",
   "execution_count": null,
   "id": "30e8f6df",
   "metadata": {},
   "outputs": [],
   "source": [
    "b = [1, 2, 3, 4, 1]"
   ]
  },
  {
   "cell_type": "code",
   "execution_count": null,
   "id": "af84202b",
   "metadata": {},
   "outputs": [],
   "source": [
    "b[c]"
   ]
  },
  {
   "cell_type": "code",
   "execution_count": null,
   "id": "23e4b854",
   "metadata": {},
   "outputs": [],
   "source": [
    "c = \"Hello World\""
   ]
  },
  {
   "cell_type": "code",
   "execution_count": 3,
   "id": "7095dfd8",
   "metadata": {},
   "outputs": [
    {
     "name": "stdout",
     "output_type": "stream",
     "text": [
      "A: [[1 1 1]\n",
      " [2 2 2]\n",
      " [3 3 3]]\n",
      "B [[1 2 3]\n",
      " [1 2 3]\n",
      " [1 2 3]]\n"
     ]
    }
   ],
   "source": [
    "import numpy as np\n",
    "a = np.array([[1,1,1],\n",
    "              [2,2,2],\n",
    "              [3,3,3]])\n",
    "b = a.T\n",
    "print(f\"A: {a}\")\n",
    "print(f\"B {b}\")"
   ]
  },
  {
   "cell_type": "code",
   "execution_count": 5,
   "id": "78ce9ae8",
   "metadata": {},
   "outputs": [],
   "source": [
    "c = np.array([[0,1,0],\n",
    "              [1,0,1],\n",
    "              [0,1,0]])"
   ]
  },
  {
   "cell_type": "code",
   "execution_count": 6,
   "id": "3f8275cd",
   "metadata": {},
   "outputs": [
    {
     "data": {
      "text/plain": [
       "array([[1, 0, 1],\n",
       "       [0, 1, 0],\n",
       "       [1, 0, 1]])"
      ]
     },
     "execution_count": 6,
     "metadata": {},
     "output_type": "execute_result"
    }
   ],
   "source": [
    "1 - c"
   ]
  },
  {
   "cell_type": "code",
   "execution_count": null,
   "id": "130851bc",
   "metadata": {},
   "outputs": [],
   "source": []
  }
 ],
 "metadata": {
  "kernelspec": {
   "display_name": "Python 3 (ipykernel)",
   "language": "python",
   "name": "python3"
  },
  "language_info": {
   "codemirror_mode": {
    "name": "ipython",
    "version": 3
   },
   "file_extension": ".py",
   "mimetype": "text/x-python",
   "name": "python",
   "nbconvert_exporter": "python",
   "pygments_lexer": "ipython3",
   "version": "3.8.15"
  }
 },
 "nbformat": 4,
 "nbformat_minor": 5
}
