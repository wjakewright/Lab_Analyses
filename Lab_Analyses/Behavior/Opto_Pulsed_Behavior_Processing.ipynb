{
 "cells": [
  {
   "cell_type": "markdown",
   "id": "6ff2bd7c",
   "metadata": {},
   "source": [
    "# Opto Pulsed Behavior Processing"
   ]
  },
  {
   "cell_type": "markdown",
   "id": "26ee4e55",
   "metadata": {},
   "source": [
    "### Notebook for processing behavior from opto pulsed sessions\n",
    "Processes behavioral data across multiple days and stimulation sessions for individual mice and saves the output"
   ]
  },
  {
   "cell_type": "code",
   "execution_count": 1,
   "id": "ed328c5f",
   "metadata": {},
   "outputs": [],
   "source": [
    "# Import modules\n",
    "from Lab_Analyses.Behavior.opto_pulse_behavior import analyze_opto_pulse_behavior"
   ]
  },
  {
   "cell_type": "markdown",
   "id": "9991f73d",
   "metadata": {},
   "source": [
    "### Datasets\n",
    "Specify the datasets to be analyzed"
   ]
  },
  {
   "cell_type": "code",
   "execution_count": 2,
   "id": "36825414",
   "metadata": {},
   "outputs": [],
   "source": [
    "### Base Path\n",
    "# Specify the base path where the mice behavioral data will be located\n",
    "base_path = r'Z:\\People\\Jake\\Behavior'\n",
    "\n",
    "### Mouse Ids\n",
    "# Specify the id of each mouse to be analyzed\n",
    "id_1 = \"JW088\"\n",
    "id_2 = \"JW095\"\n",
    "id_3 = \"JW096\"\n",
    "id_4 = \"JW097\"\n",
    "\n",
    "### Days \n",
    "# Specify the days you wish to include in the analysis. If none are given all days in a mouse's directory will be processed\n",
    "# Give list of strings with the name of that day's folder (e.g. \"220606\")\n",
    "days_1 = []\n",
    "days_2 = []\n",
    "days_3 = []\n",
    "days_4 = []\n",
    "\n",
    "ids = [id_1, id_2, id_3, id_4]\n",
    "days = [days_1, days_2, days_3, days_4]"
   ]
  },
  {
   "cell_type": "markdown",
   "id": "179f5c33",
   "metadata": {},
   "source": [
    "### Process the datasets"
   ]
  },
  {
   "cell_type": "code",
   "execution_count": 3,
   "id": "cf06605a",
   "metadata": {},
   "outputs": [
    {
     "name": "stdout",
     "output_type": "stream",
     "text": [
      "---------------------\n",
      "Analyzing Mouse JW088\n",
      "- 220507\n",
      "---10mw_Dendrite\n",
      "---10mw_Soma\n",
      "---15mw_Dendrite\n",
      "---15mw_Soma\n",
      "---5mw_Dendrite\n",
      "---5mw_Soma\n",
      "- 220510\n",
      "---10mw_Dendrites\n",
      "---10mw_Dendrites_2\n",
      "---10mw_Somas\n",
      "---10mw_Somas_2\n",
      "---15mw_Dendrites\n",
      "---15mw_Dendrites_2\n",
      "---15mw_Somas\n",
      "---15mw_Somas_2\n",
      "---5mw_Dendrites\n",
      "---5mw_Dendrites_2\n",
      "---5mw_Somas\n",
      "---5mw_Somas_2\n",
      "Done\n",
      "---------------------\n",
      "Analyzing Mouse JW095\n",
      "- 220606\n",
      "---10mw\n",
      "---15mw\n",
      "---5mw\n",
      "- 220609\n",
      "---10mw\n",
      "---15mw\n",
      "---5mw\n",
      "Done\n",
      "---------------------\n",
      "Analyzing Mouse JW096\n",
      "- 220606\n",
      "---10mw\n",
      "---15mw\n",
      "---5mw\n",
      "- 220609\n",
      "---10mw\n",
      "---15mw\n",
      "---5mw\n",
      "Done\n",
      "---------------------\n",
      "Analyzing Mouse JW097\n",
      "- 220606\n",
      "---10mw\n",
      "---15mw\n",
      "---5mw\n",
      "- 220609\n",
      "---10mw\n",
      "---15mw\n",
      "---5mw\n",
      "Done\n"
     ]
    }
   ],
   "source": [
    "for mouse, day in zip(ids, days):\n",
    "    print(f\"---------------------\\nAnalyzing Mouse {mouse}\")\n",
    "    analyze_opto_pulse_behavior(mouse_id=mouse, base_path=base_path, days=day, save=True)\n",
    "    print(\"Done\")"
   ]
  },
  {
   "cell_type": "code",
   "execution_count": 6,
   "id": "1a0fc18d",
   "metadata": {},
   "outputs": [],
   "source": [
    "from Lab_Analyses.Utilities.save_load_pickle import load_pickle\n",
    "path = r\"C:\\Users\\Jake\\Desktop\\Analyzed_data\\individual\\JW096\\behavior\\220606\"\n",
    "name = \"JW096_220606_5mw_processed_lever_data\""
   ]
  },
  {
   "cell_type": "code",
   "execution_count": 14,
   "id": "cc2e9c3e",
   "metadata": {},
   "outputs": [],
   "source": [
    "a = load_pickle(fname_list=[name], path=path)[0]"
   ]
  },
  {
   "cell_type": "code",
   "execution_count": 23,
   "id": "917a84f8",
   "metadata": {},
   "outputs": [
    {
     "data": {
      "text/plain": [
       "array([911., 941.])"
      ]
     },
     "execution_count": 23,
     "metadata": {},
     "output_type": "execute_result"
    }
   ],
   "source": [
    "a.behavior_frames[0].states.iti2"
   ]
  },
  {
   "cell_type": "code",
   "execution_count": null,
   "id": "be3f2f52",
   "metadata": {},
   "outputs": [],
   "source": [
    "print([])"
   ]
  },
  {
   "cell_type": "code",
   "execution_count": null,
   "id": "1a160208",
   "metadata": {},
   "outputs": [],
   "source": []
  }
 ],
 "metadata": {
  "kernelspec": {
   "display_name": "Python 3 (ipykernel)",
   "language": "python",
   "name": "python3"
  },
  "language_info": {
   "codemirror_mode": {
    "name": "ipython",
    "version": 3
   },
   "file_extension": ".py",
   "mimetype": "text/x-python",
   "name": "python",
   "nbconvert_exporter": "python",
   "pygments_lexer": "ipython3",
   "version": "3.9.7"
  }
 },
 "nbformat": 4,
 "nbformat_minor": 5
}
