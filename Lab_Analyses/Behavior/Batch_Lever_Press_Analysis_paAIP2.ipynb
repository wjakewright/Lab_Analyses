{
 "cells": [
  {
   "cell_type": "markdown",
   "id": "5bd4657a",
   "metadata": {},
   "source": [
    "# Batch Lever Press Analysis\n",
    "\n",
    "### Notebook for processing and analyzing lever press behavior\n",
    "Allows for processing, summarizing, and analysis of lever behavior across all sessions, and across multiple mice. Includes sections for data visualization "
   ]
  },
  {
   "cell_type": "code",
   "execution_count": null,
   "id": "73b008d9",
   "metadata": {},
   "outputs": [],
   "source": [
    "# Import modules\n",
    "import os\n",
    "import numpy as np\n",
    "from Lab_Analyses.Behavior.mouse_lever_behavior import analyze_mouse_lever_behavior\n",
    "from Lab_Analyses.Behavior.group_lever_press import Group_Lever_Press\n",
    "from Lab_Analyses.Behavior import behavior_plotting as bplot\n",
    "from Lab_Analyses.Utilities.save_load_pickle import save_pickle, load_pickle"
   ]
  },
  {
   "cell_type": "markdown",
   "id": "6a44cc3c",
   "metadata": {},
   "source": [
    "## Across Day Batch Processing and Summarizing\n",
    "Sections below are for analyzing all sessions across all days of a standard lever press training regime. \n"
   ]
  },
  {
   "cell_type": "markdown",
   "id": "60da9221",
   "metadata": {},
   "source": [
    "### Specify the data to be analyzed\n",
    "#### Paths\n",
    "Specify the paths where data files are located"
   ]
  },
  {
   "cell_type": "code",
   "execution_count": null,
   "id": "b984943f",
   "metadata": {},
   "outputs": [],
   "source": [
    "# Parent path leading to where raw dispatcher and xsglog files are loacted\n",
    "raw_path = r'Z:\\People\\Jake\\Behavior'\n",
    "#raw_path = r\"C:\\Users\\Jake\\Desktop\\temp_behavior\"\n",
    "# Parent path leading to where analyzed data are saved\n",
    "save_path = r'C:\\Users\\Jake\\Desktop\\Analyzed_data\\individual'"
   ]
  },
  {
   "cell_type": "markdown",
   "id": "abf049e9",
   "metadata": {},
   "source": [
    "#### Datasets\n",
    "Specify what data to be processed and analyzed as well as other parameters associated with the data"
   ]
  },
  {
   "cell_type": "code",
   "execution_count": null,
   "id": "eee0f6e8",
   "metadata": {},
   "outputs": [],
   "source": [
    "# Mouse ids you wish to analyze\n",
    "## Can have as many different ids as needed\n",
    "id_1 = \"JW156\"\n",
    "id_2 = \"JW157\"\n",
    "id_3 = \"JW158\"\n",
    "id_4 = \"JW159\"\n",
    "id_5 = \"JW175\"\n",
    "id_6 = \"JW176\"\n",
    "\n",
    "\n",
    "## Reanalyze ?\n",
    "# Indicate if you are reanalyzing the data\n",
    "# Will re-process, summarize, and analyze data even if already analyzed before\n",
    "reanalyze = [True, True, True, True, True, True, ]\n",
    "\n",
    "## Ignore days ?\n",
    "# Indicate if there are any days for each mouse you wish to ignore for analysis\n",
    "# For example you did another session unrelated to this task (e.g. opto)\n",
    "ignore_1 = ()\n",
    "ignore_2 = ()\n",
    "ignore_3 = ()\n",
    "ignore_4 = ()\n",
    "ignore_5 = ()\n",
    "ignore_6 = ()\n",
    "\n",
    "# Imaged Sessions\n",
    "## Indicate which sessions were imaged\n",
    "\n",
    "#### Number of sessiosn\n",
    "num_of_sessions = 14\n",
    "#### Put which sessions were imaged in the lists (must be int)\n",
    "im_1 = [1,7,14]\n",
    "im_2 = [1,7,14]\n",
    "im_3 = [1,7,14]\n",
    "im_4 = [1,7,14]\n",
    "im_5 = [1,7,14]\n",
    "im_6 = [1,7,14]\n",
    "\n",
    "#### Do not change this part\n",
    "image_1 = [False if x not in np.array(im_1)-1 else True for x in range(num_of_sessions)]\n",
    "image_2 = [False if x not in np.array(im_2)-1 else True for x in range(num_of_sessions)]\n",
    "image_3 = [False if x not in np.array(im_3)-1 else True for x in range(num_of_sessions)]\n",
    "image_4 = [False if x not in np.array(im_4)-1 else True for x in range(num_of_sessions)]\n",
    "image_5 = [False if x not in np.array(im_5)-1 else True for x in range(num_of_sessions)]\n",
    "image_6 = [False if x not in np.array(im_6)-1 else True for x in range(num_of_sessions)]\n",
    "\n",
    "\n",
    "# Give info about the experiment for each mouse\n",
    "## Optional. Set to none below if not being used\n",
    "exp_1 = \"paAIP2 Population Imaging\"\n",
    "exp_2 = \"paAIP2 Population Imaging\"\n",
    "exp_3 = \"paAIP2 Population Imaging\"\n",
    "exp_4 = \"paAIP2 Population Imaging\"\n",
    "exp_5 = \"paAIP2 Population Imaging\"\n",
    "exp_6 = \"paAIP2 Population Imaging\"\n",
    "\n",
    "\n",
    "# Put information for each mouse in a list\n",
    "### Can be just one mouse in the list\n",
    "\n",
    "mouse_ids = [id_1,id_2, id_3, id_4, id_5, id_6]\n",
    "imaged = [image_1, image_2, image_3, image_4, image_5, image_6]\n",
    "exps = [exp_1, exp_2, exp_3, exp_4, exp_5, exp_6]\n",
    "ignore_dirs = [ignore_1, ignore_2, ignore_3, ignore_4, ignore_5, ignore_6]"
   ]
  },
  {
   "cell_type": "markdown",
   "id": "0fc46cb6",
   "metadata": {},
   "source": [
    "### Process and Summarize each dataset"
   ]
  },
  {
   "cell_type": "code",
   "execution_count": null,
   "id": "0a6399ab",
   "metadata": {
    "scrolled": false
   },
   "outputs": [],
   "source": [
    "summed_data = []\n",
    "for mouse_id, img, exp, reanaly, ignore in zip(mouse_ids, imaged, exps, reanalyze, ignore_dirs):\n",
    "    print(mouse_id)\n",
    "    path = os.path.join(raw_path, mouse_id)\n",
    "    sd = analyze_mouse_lever_behavior(\n",
    "        mouse_id=mouse_id, path=path, imaged=img, save=True, save_suffix=None, reanalyze=reanaly, \n",
    "        ignore_dir=ignore, press_len=0.5\n",
    "    )\n",
    "    summed_data.append(sd)"
   ]
  },
  {
   "cell_type": "code",
   "execution_count": null,
   "id": "20c2c629",
   "metadata": {},
   "outputs": [],
   "source": []
  },
  {
   "cell_type": "markdown",
   "id": "6fd325e6",
   "metadata": {},
   "source": [
    "### Or load specific files\n",
    "Give path and name for specific files you wish to load.  \n",
    "Change the cell below to run the code"
   ]
  },
  {
   "cell_type": "markdown",
   "id": "ee869f01",
   "metadata": {},
   "source": [
    "path = r'C:\\Users\\Jake\\Desktop\\Analyzed_data\\individual'  \n",
    "fname = \"JW041_all_lever_data\"  \n",
    "loaded_data = load_pickle([fname], path)  "
   ]
  },
  {
   "cell_type": "markdown",
   "id": "364b482a",
   "metadata": {},
   "source": [
    "## Grouped analysis\n",
    "Section to group data across mice within the same experimental group"
   ]
  },
  {
   "cell_type": "code",
   "execution_count": null,
   "id": "a942e30d",
   "metadata": {
    "scrolled": true
   },
   "outputs": [],
   "source": [
    "# Parent path for where grouped data is stored\n",
    "group_path = r'C:\\Users\\Jake\\Desktop\\Analyzed_data\\grouped'\n",
    "# Specify specific paths for this group\n",
    "experiment_directory = \"paAIP2_Population\"\n",
    "group_directory = \"paAIP2\"\n",
    "# Specify the name of the group file\n",
    "group_name = f\"{group_directory}_{experiment_directory}_lever_press_data\"\n",
    "\n",
    "# Specify if you would like to load or regenerate the grouped data\n",
    "load_data = False\n",
    "# Specify if you would like to save the grouped data\n",
    "save_grouped = True\n",
    "\n",
    "# Group Data\n",
    "if load_data is True:\n",
    "    load_path = os.path.join(group_path, experiment_directory, group_directory)\n",
    "    try:\n",
    "        grouped_data = load_pickle([group_name],load_path)\n",
    "        grouped_data = grouped_data[0]\n",
    "        print(\"Grouped file loaded\")\n",
    "    except FileNotFoundError:\n",
    "        print(\"Grouped file not found. Regenerating...\")    \n",
    "        grouped_data = Group_Lever_Press(summed_data)\n",
    "else:\n",
    "    grouped_data = Group_Lever_Press(summed_data)\n",
    "\n",
    "if save_grouped is True:\n",
    "    save_path = os.path.join(group_path, experiment_directory, group_directory)\n",
    "    if not os.path.isdir(save_path):\n",
    "        os.makedirs(save_path)\n",
    "    save_pickle(group_name, grouped_data, save_path)\n",
    "        \n"
   ]
  },
  {
   "cell_type": "markdown",
   "id": "d9403639",
   "metadata": {},
   "source": [
    "# Visualize Data\n",
    "Uses built in plotting methods of the Group_Lever_Press class.  \n",
    "If you wish to visualize only a single animal's data across sessions it can still be put into a Group_Lever_Press class for plotting"
   ]
  },
  {
   "cell_type": "markdown",
   "id": "c712c25f",
   "metadata": {},
   "source": [
    "grouped_data = Group_Lever_Press() # Put individual mouse data inside to visualize a single mouse"
   ]
  },
  {
   "cell_type": "markdown",
   "id": "cd82da76",
   "metadata": {},
   "source": [
    "### Visualize data across sessions"
   ]
  },
  {
   "cell_type": "code",
   "execution_count": null,
   "id": "ab0aad97",
   "metadata": {
    "scrolled": false
   },
   "outputs": [],
   "source": [
    "figure_path = r'C:\\Users\\Jake\\Desktop\\Figures'\n",
    "\n",
    "# Specify if you want to save grouped figures\n",
    "group_fig_save = True\n",
    "group_fig_path = os.path.join(figure_path, \"grouped_data\", experiment_directory, group_directory)\n",
    "if not os.path.isdir(group_fig_path):\n",
    "    os.makedirs(group_fig_path)\n",
    "\n",
    "# Plot the grouped data\n",
    "colors = {\"success\": \"mediumblue\", \"reaction_time\": \"firebrick\", \"cue_to_reward\": \"forestgreen\", \n",
    "          \"within\": \"black\", \"across\":\"grey\", \"cmap\": \"plasma\"}\n",
    "ylims = {\"success\": (0,100), \"reaction_time\": (0,2.5), \"cue_to_reward\": (0,8), \n",
    "         \"within\": (0,0.4), \"across\": (0,0.4), \"cmap\": (0, 0.25)}\n",
    "grouped_data.plot_data(figsize=(7.5,9), colors=colors, plot_ind=False, ylims=ylims, save=group_fig_save, save_path=group_fig_path)"
   ]
  },
  {
   "cell_type": "markdown",
   "id": "1fa1f532",
   "metadata": {},
   "source": [
    "### Visualize single session lever presses"
   ]
  },
  {
   "cell_type": "code",
   "execution_count": null,
   "id": "f1eebd7f",
   "metadata": {
    "scrolled": false
   },
   "outputs": [],
   "source": [
    "# specify which mouse and which session to plot\n",
    "mouse = summed_data[-1]\n",
    "session = 14\n",
    "\n",
    "# Specify if you want to save the figure\n",
    "save_press = False\n",
    "individual_lever_path = os.path.join(figure_path, \"individual_mice\", mouse.mouse_id)\n",
    "if not os.path.isdir(individual_lever_path):\n",
    "    os.mkdir(individual_lever_path)\n",
    "    \n",
    "# Plot the lever press traces\n",
    "bplot.plot_session_rewarded_lever_presses(mouse, session, x_lim=(0,2400), figsize=(4,5), \n",
    "                                          save=save_press, save_path=individual_lever_path)"
   ]
  },
  {
   "cell_type": "code",
   "execution_count": null,
   "id": "42183733",
   "metadata": {},
   "outputs": [],
   "source": [
    "d = summed_data[0]"
   ]
  },
  {
   "cell_type": "code",
   "execution_count": null,
   "id": "cd6e65cc",
   "metadata": {},
   "outputs": [],
   "source": [
    "d.__dict__.keys()"
   ]
  },
  {
   "cell_type": "code",
   "execution_count": null,
   "id": "c2a42006",
   "metadata": {},
   "outputs": [],
   "source": [
    "d.corr_movements[3].shape"
   ]
  },
  {
   "cell_type": "code",
   "execution_count": null,
   "id": "f64cd139",
   "metadata": {},
   "outputs": [],
   "source": [
    "a = []\n",
    "b = []\n",
    "c =[]\n",
    "l = [a, b, c]\n",
    "d = [y for x in l for y in x]"
   ]
  },
  {
   "cell_type": "code",
   "execution_count": null,
   "id": "79b6bbdc",
   "metadata": {},
   "outputs": [],
   "source": [
    "d"
   ]
  },
  {
   "cell_type": "code",
   "execution_count": null,
   "id": "5fd3dd29",
   "metadata": {},
   "outputs": [],
   "source": [
    "import numpy as np\n",
    "data = np.random.normal(5, 2, 1000)\n",
    "data2 = np.random.normal(5.5, 2, 1000)"
   ]
  },
  {
   "cell_type": "code",
   "execution_count": null,
   "id": "07817a47",
   "metadata": {},
   "outputs": [],
   "source": [
    "import matplotlib.pyplot as plt\n",
    "#sort data\n",
    "x = np.sort(data)\n",
    "x2 = np.sort(data2)\n",
    "\n",
    "#calculate CDF values\n",
    "y = 1. * np.arange(len(data)) / (len(data) - 1)\n",
    "y2 = 1. * np.arange(len(data2)) / (len(data2) - 1)\n",
    "\n",
    "#plot CDF\n",
    "\n",
    "plt.plot(x, y)\n",
    "plt.plot(x2, y2)\n",
    "plt.xlabel('x')"
   ]
  },
  {
   "cell_type": "code",
   "execution_count": 1,
   "id": "94def294",
   "metadata": {},
   "outputs": [],
   "source": [
    "from Lab_Analyses.Spine_Analysis_v2 import spine_utilities as s_utils"
   ]
  },
  {
   "cell_type": "code",
   "execution_count": 2,
   "id": "5c4cf0f4",
   "metadata": {},
   "outputs": [],
   "source": [
    "dataset = s_utils.load_analyzed_datasets(\n",
    "    type=\"Local\",\n",
    "    grouped=True,\n",
    "    session=\"Early\",\n",
    "    norm=True,\n",
    "    activity_type=\"dFoF\",\n",
    "    extended=None,\n",
    "    mouse=None,\n",
    "    fov=None,\n",
    "    fov_type=\"apical\",\n",
    "    period=None,\n",
    "    partner=None,\n",
    ")"
   ]
  },
  {
   "cell_type": "code",
   "execution_count": 4,
   "id": "7912bf42",
   "metadata": {},
   "outputs": [],
   "source": [
    "data = s_utils.load_spine_datasets(\"JW153\", [\"Early\"], \"apical\")\n",
    "data = data[\"FOV2_apical\"][\"Early\"]"
   ]
  },
  {
   "cell_type": "code",
   "execution_count": 37,
   "id": "7d88fc7f",
   "metadata": {},
   "outputs": [
    {
     "data": {
      "text/plain": [
       "array([1.1, 1.2, nan])"
      ]
     },
     "execution_count": 37,
     "metadata": {},
     "output_type": "execute_result"
    }
   ],
   "source": [
    "import numpy as np\n",
    "positions = np.array([1,1.1,1.2,2.1,2.2,2.3,3.1,3.3,3.4])\n",
    "data = np.array([0,1,0,1,1,1,0,1,1])\n",
    "\n",
    "binned_data = s_utils.bin_by_position(a, b, bins=np.array([1,2,3,4]), const=None)\n",
    "binned_data"
   ]
  },
  {
   "cell_type": "code",
   "execution_count": 38,
   "id": "25c51637",
   "metadata": {},
   "outputs": [
    {
     "data": {
      "text/plain": [
       "array([1, 2], dtype=int64)"
      ]
     },
     "execution_count": 38,
     "metadata": {},
     "output_type": "execute_result"
    }
   ],
   "source": [
    "MAX_DIST = 40\n",
    "bin_num = int(MAX_DIST / 5)\n",
    "position_bins = np.linspace(0, MAX_DIST, bin_num + 1)\n",
    "np.nonzero((positions > 1) & (positions <= 2))[0]"
   ]
  },
  {
   "cell_type": "code",
   "execution_count": 41,
   "id": "28affff6",
   "metadata": {},
   "outputs": [],
   "source": [
    "bins = np.array([1,2,3,4])\n",
    "binned_data = []\n",
    "const=6\n",
    "for i in range(len(bins)):\n",
    "    if i != len(bins) - 1:\n",
    "        idxs = np.nonzero((positions > bins[i]) & (positions <= bins[i + 1]))[0]\n",
    "        if idxs.size == 0:\n",
    "            binned_data.append(np.nan)\n",
    "            continue\n",
    "        if const is None:\n",
    "            binned_data.append(np.nanmean(data[idxs]))\n",
    "        else:\n",
    "            binned_data.append(np.nansum(data[idxs]) / const)"
   ]
  },
  {
   "cell_type": "code",
   "execution_count": 42,
   "id": "e9c4d790",
   "metadata": {},
   "outputs": [
    {
     "data": {
      "text/plain": [
       "[0.16666666666666666, 0.5, 0.3333333333333333]"
      ]
     },
     "execution_count": 42,
     "metadata": {},
     "output_type": "execute_result"
    }
   ],
   "source": [
    "binned_data"
   ]
  },
  {
   "cell_type": "code",
   "execution_count": null,
   "id": "15d3da7d",
   "metadata": {},
   "outputs": [],
   "source": [
    "avg_local_coactivity_rate = dataset.avg_local_coactivity_rate\n",
    "shuff_local_coactivity_rate = dataset.shuff_local_coactivity_rate\n",
    "spine_volumes = dataset.spine_volumes\n",
    "followup_volumes = dataset.followup_volumes\n",
    "spine_flags = dataset.spine_flags\n",
    "followup_flags = dataset.followup_flags"
   ]
  },
  {
   "cell_type": "code",
   "execution_count": null,
   "id": "3d050c1e",
   "metadata": {},
   "outputs": [],
   "source": [
    "from Lab_Analyses.Spine_Analysis_v2 import structural_plasticity as s_plast"
   ]
  },
  {
   "cell_type": "code",
   "execution_count": null,
   "id": "6b217cb3",
   "metadata": {},
   "outputs": [],
   "source": [
    "volumes = [spine_volumes, followup_volumes]\n",
    "flags = [spine_flags, followup_flags]\n",
    "delta_volume, spine_idxs = s_plast.calculate_volume_change(\n",
    "    volumes, flags, norm=False, exclude=\"Shaft Spine\"\n",
    ")\n",
    "delta_volume = delta_volume[-1]\n",
    "enlarged_spines, shrunken_spines, stable_spines = s_plast.classify_plasticity(\n",
    "    delta_volume, threshold=(0.3,0.5), norm=False\n",
    ")"
   ]
  },
  {
   "cell_type": "code",
   "execution_count": null,
   "id": "35b879f3",
   "metadata": {},
   "outputs": [],
   "source": [
    "from Lab_Analyses.Utilities import data_utilities as d_utils"
   ]
  },
  {
   "cell_type": "code",
   "execution_count": null,
   "id": "07657896",
   "metadata": {},
   "outputs": [],
   "source": [
    "avg_local_coactivity_rate = d_utils.subselect_data_by_idxs(\n",
    "    avg_local_coactivity_rate, spine_idxs\n",
    ")\n",
    "shuff_local_coactivity_rate = d_utils.subselect_data_by_idxs(\n",
    "    shuff_local_coactivity_rate, spine_idxs\n",
    ")"
   ]
  },
  {
   "cell_type": "code",
   "execution_count": null,
   "id": "bdbb90a2",
   "metadata": {},
   "outputs": [],
   "source": [
    "plastic_groups = {\n",
    "        \"Enlarged\": \"enlarged_spines\",\n",
    "        \"Shrunken\": \"shrunken_spines\",\n",
    "        \"Stable\": \"stable_spines\",\n",
    "    }"
   ]
  },
  {
   "cell_type": "code",
   "execution_count": null,
   "id": "fb25bf76",
   "metadata": {},
   "outputs": [],
   "source": [
    "plastic_local_rates = {}\n",
    "plastic_shuff_rates = {}\n",
    "plastic_shuff_medians = {}\n",
    "plastic_shuff_medians_alt = {}"
   ]
  },
  {
   "cell_type": "code",
   "execution_count": null,
   "id": "ae663a56",
   "metadata": {},
   "outputs": [],
   "source": [
    "for key, value in plastic_groups.items():\n",
    "    spines = eval(value)\n",
    "    plastic_local_rates[key] = avg_local_coactivity_rate[spines]\n",
    "    shuff_rates = shuff_local_coactivity_rate[:, spines]\n",
    "    plastic_shuff_rates[key] = shuff_rates\n",
    "    plastic_shuff_medians[key] = np.nanmedian(shuff_rates, axis=1)\n",
    "    plastic_shuff_medians_alt[key] = np.nanmedian(shuff_rates, axis=0)"
   ]
  },
  {
   "cell_type": "code",
   "execution_count": null,
   "id": "e8eebacc",
   "metadata": {},
   "outputs": [],
   "source": [
    "from Lab_Analyses.Plotting.plot_swarm_bar_plot import plot_swarm_bar_plot"
   ]
  },
  {
   "cell_type": "code",
   "execution_count": null,
   "id": "17a95263",
   "metadata": {},
   "outputs": [],
   "source": [
    "#sort data\n",
    "data = plastic_local_rates[\"Enlarged\"]\n",
    "#data = data[~np.isnan(data)]\n",
    "shuff_data = plastic_shuff_rates[\"Enlarged\"]\n",
    "data2 = plastic_shuff_rates[\"Enlarged\"].flatten().astype(np.float32)\n",
    "#data2 = data2[~np.isnan(data2)]\n",
    "#data2 = plastic_shuff_medians_alt[\"Enlarged\"]\n",
    "x = np.sort(data)\n",
    "x2 = np.sort(data2)\n",
    "\n",
    "#calculate CDF values\n",
    "y = 1. * np.arange(len(data)) / (len(data) - 1)\n",
    "y2 = 1. * np.arange(len(data2)) / (len(data2) - 1)\n",
    "\n",
    "# Do each shuffle\n",
    "for r in range(shuff_data.shape[0]):\n",
    "    temp_x = np.sort(shuff_data[r,:])\n",
    "    temp_y = 1. * np.arange(len(shuff_data[r,:])) / (len(shuff_data[r,:]) - 1)\n",
    "    sns.ecdfplot(data = shuff_data[r,:][~np.isnan(shuff_data[r,:])], color=\"black\", alpha=0.002)\n",
    "\n",
    "#plot CDF\n",
    "sns.ecdfplot(data = data, label = \"X1\", color=\"darkorange\")\n",
    "sns.ecdfplot(data = data2, label = \"X2\", color=\"black\")\n",
    "plt.xlabel('x')\n",
    "sns.despine()"
   ]
  },
  {
   "cell_type": "code",
   "execution_count": null,
   "id": "6a1cc188",
   "metadata": {},
   "outputs": [],
   "source": [
    "from Lab_Analyses.Plotting.plot_cummulative_distribution import plot_cummulative_distribution\n",
    "from Lab_Analyses.Plotting.plot_swarm_bar_plot import plot_swarm_bar_plot\n",
    "import seaborn as sns\n",
    "\n",
    "fig, ax = plt.subplots(figsize=(2.5,3))\n",
    "\n",
    "plot_cummulative_distribution(data=[data,shuff_data],plot_ind=True,color=[\"royalblue\", \"black\"], ind_color=[None, \"black\"], \n",
    "                              ax=ax, xlim=(0, 5), line_width=2, ind_line_width=0.4, alpha=0.03, xtitle=\"Coactivity rate (events/min)\")\n",
    "\n",
    "inset = ax.inset_axes([0.8, 0.25, 0.4, 0.6])\n",
    "sns.despine(ax=inset)\n",
    "plot_swarm_bar_plot(\n",
    "    data_dict={\"data\":data, \"shuff\": shuff_data.flatten().astype(np.float32)},\n",
    "    mean_type=\"median\",\n",
    "    err_type=\"CI\",\n",
    "    ytitle=\"Coactivity rate\",\n",
    "    b_colors=[\"darkorange\", \"grey\"],\n",
    "    b_edgecolors=\"black\",\n",
    "    b_linewidth=1.5,\n",
    "    plot_ind=False,\n",
    "    ax=inset,\n",
    "    b_alpha=0.7,\n",
    "    axis_width=1.5,\n",
    "    b_width=0.6\n",
    ")"
   ]
  },
  {
   "cell_type": "code",
   "execution_count": null,
   "id": "64a61a0b",
   "metadata": {},
   "outputs": [],
   "source": [
    "from Lab_Analyses.Plotting.plot_box_plot import plot_box_plot"
   ]
  },
  {
   "cell_type": "code",
   "execution_count": null,
   "id": "2c135c61",
   "metadata": {
    "scrolled": false
   },
   "outputs": [],
   "source": [
    "COLORS = [\"mediumslateblue\", \"tomato\", \"silver\"]\n",
    "#COLORS = [\"darkorange\", \"darkviolet\", \"silver\"]\n",
    "plot_box_plot(\n",
    "        plastic_local_rates,\n",
    "        figsize=(2, 2.5),\n",
    "        title=\"Relative volumes\",\n",
    "        xtitle=None,\n",
    "        ytitle=\"Nearby \\u0394 Volume\",\n",
    "        ylim=(0, None),\n",
    "        b_colors=COLORS,\n",
    "        b_edgecolors=\"black\",\n",
    "        b_err_colors=\"black\",\n",
    "        m_color=\"black\",\n",
    "        m_width=1.5,\n",
    "        b_width=0.5,\n",
    "        b_linewidth=1.5,\n",
    "        b_alpha=0.9,\n",
    "        b_err_alpha=1,\n",
    "        whisker_lim=None,\n",
    "        whisk_width=1.5,\n",
    "        outliers=False,\n",
    "        showmeans=True,\n",
    "        axis_width=1.5,\n",
    "        minor_ticks=\"y\",\n",
    "        tick_len=3,\n",
    "        ax=None,\n",
    "        save=False,\n",
    "        save_path=None,\n",
    "    )"
   ]
  },
  {
   "cell_type": "code",
   "execution_count": null,
   "id": "6bd8fd83",
   "metadata": {},
   "outputs": [],
   "source": [
    "from Lab_Analyses.Utilities.save_load_pickle import load_pickle"
   ]
  },
  {
   "cell_type": "code",
   "execution_count": null,
   "id": "94f67f2b",
   "metadata": {},
   "outputs": [],
   "source": [
    "early_fname = r\"C:\\Users\\Jake\\Desktop\\Analyzed_data\\individual\\JW153\\imaging\\FOV2_apical\\Early\\JW153_230131_GreenCh_imaging_data.pickle\"\n",
    "late_fname = r\"C:\\Users\\Jake\\Desktop\\Analyzed_data\\individual\\JW153\\imaging\\FOV2_apical\\Late\\JW153_230210_GreenCh_imaging_data.pickle\""
   ]
  },
  {
   "cell_type": "code",
   "execution_count": null,
   "id": "87f83035",
   "metadata": {},
   "outputs": [],
   "source": [
    "data = load_pickle([early_fname, late_fname])"
   ]
  },
  {
   "cell_type": "code",
   "execution_count": null,
   "id": "fa16480b",
   "metadata": {},
   "outputs": [],
   "source": [
    "early = data[0]\n",
    "late = data[1]"
   ]
  },
  {
   "cell_type": "code",
   "execution_count": null,
   "id": "3e9310af",
   "metadata": {},
   "outputs": [],
   "source": [
    "import matplotlib.pyplot as plt\n",
    "import seaborn as sns\n",
    "sns.set()\n",
    "sns.set_style(\"ticks\")\n",
    "%matplotlib inline"
   ]
  },
  {
   "cell_type": "code",
   "execution_count": null,
   "id": "0bdc6991",
   "metadata": {},
   "outputs": [],
   "source": [
    "early.__dict__.keys()"
   ]
  },
  {
   "cell_type": "code",
   "execution_count": null,
   "id": "7c190805",
   "metadata": {
    "scrolled": false
   },
   "outputs": [],
   "source": [
    "late_ltp = late.spine_pixel_intensity[16]\n",
    "bg = np.nanmean(late.fluorescence[\"Background\"])\n",
    "late_ltp = late_ltp - bg"
   ]
  },
  {
   "cell_type": "code",
   "execution_count": null,
   "id": "82ad0ff3",
   "metadata": {},
   "outputs": [],
   "source": [
    "import numpy as np\n",
    "from matplotlib import cm\n",
    "fig, ax = plt.subplots(subplot_kw={\"projection\": \"3d\"})\n",
    "x = list(range(late_ltp.shape[1]))\n",
    "y = list(range(late_ltp.shape[0]))\n",
    "x, y = np.meshgrid(x,y)\n",
    "ax.plot_surface(x, y, late_ltp, cmap=cm.plasma)"
   ]
  },
  {
   "cell_type": "code",
   "execution_count": null,
   "id": "e702b8ca",
   "metadata": {},
   "outputs": [],
   "source": [
    "early_ltp = early.spine_pixel_intensity[16]\n",
    "fig, ax = plt.subplots(subplot_kw={\"projection\": \"3d\"})\n",
    "x = list(range(early_ltp.shape[1]))\n",
    "y = list(range(early_ltp.shape[0]))\n",
    "x, y = np.meshgrid(x,y)\n",
    "ax.plot_surface(x, y, early_ltp, cmap=cm.plasma)"
   ]
  },
  {
   "cell_type": "code",
   "execution_count": 1,
   "id": "b8d98637",
   "metadata": {},
   "outputs": [],
   "source": [
    "import os\n",
    "import cv2\n",
    "import numpy as np\n",
    "import matplotlib.pyplot as plt\n",
    "from matplotlib import cm\n",
    "from skimage import io as sio\n",
    "from tifffile import imsave\n",
    "%matplotlib qt"
   ]
  },
  {
   "cell_type": "code",
   "execution_count": 2,
   "id": "c006e257",
   "metadata": {},
   "outputs": [
    {
     "name": "stderr",
     "output_type": "stream",
     "text": [
      "TiffPage 0: TypeError: read_bytes() missing 3 required positional arguments: 'dtype', 'count', and 'offsetsize'\n"
     ]
    }
   ],
   "source": [
    "image_path = r\"C:\\Users\\Jake\\Desktop\\smoothed_JW153_FOV2_Day_2_cropped_LTP.tif\"\n",
    "image = sio.imread(image_path, plugin=\"tifffile\")"
   ]
  },
  {
   "cell_type": "code",
   "execution_count": 17,
   "id": "80309d90",
   "metadata": {},
   "outputs": [
    {
     "name": "stderr",
     "output_type": "stream",
     "text": [
      "C:\\Users\\Jake\\AppData\\Local\\Temp\\ipykernel_18192\\4129018964.py:9: MatplotlibDeprecationWarning: The dist attribute was deprecated in Matplotlib 3.6 and will be removed two minor releases later.\n",
      "  'early_ltp.pdf'.format(ax.azim, ax.dist, ax.elev),\n"
     ]
    }
   ],
   "source": [
    "fig, ax = plt.subplots(subplot_kw={\"projection\": \"3d\"})\n",
    "x = list(range(image.shape[1]))\n",
    "y = list(range(image.shape[0]))\n",
    "x, y = np.meshgrid(x,y)\n",
    "ax.plot_surface(x, y, image, cmap=cm.gnuplot2,linewidth=0.2, edgecolor=\"black\", vmax=80)\n",
    "ax.set_zlim(0,250)\n",
    "ax.set_axis_off()\n",
    "plt.savefig(\n",
    "    'early_ltp.pdf'.format(ax.azim, ax.dist, ax.elev),\n",
    "    format='pdf',\n",
    "    bbox_inches='tight'\n",
    ")"
   ]
  },
  {
   "cell_type": "code",
   "execution_count": 4,
   "id": "d73744d3",
   "metadata": {},
   "outputs": [
    {
     "name": "stderr",
     "output_type": "stream",
     "text": [
      "TiffPage 0: TypeError: read_bytes() missing 3 required positional arguments: 'dtype', 'count', and 'offsetsize'\n"
     ]
    }
   ],
   "source": [
    "image_path2 = r\"C:\\Users\\Jake\\Desktop\\smoothed_JW153_FOV2_Day_12_cropped_LTP.tif\"\n",
    "image2 = sio.imread(image_path2, plugin=\"tifffile\")"
   ]
  },
  {
   "cell_type": "code",
   "execution_count": 18,
   "id": "0ae8f37a",
   "metadata": {},
   "outputs": [
    {
     "name": "stderr",
     "output_type": "stream",
     "text": [
      "C:\\Users\\Jake\\AppData\\Local\\Temp\\ipykernel_18192\\3893193434.py:9: MatplotlibDeprecationWarning: The dist attribute was deprecated in Matplotlib 3.6 and will be removed two minor releases later.\n",
      "  'late_ltp.pdf'.format(ax2.azim, ax2.dist, ax2.elev),\n"
     ]
    }
   ],
   "source": [
    "fig2, ax2 = plt.subplots(subplot_kw={\"projection\": \"3d\"})\n",
    "x = list(range(image2.shape[1]))\n",
    "y = list(range(image2.shape[0]))\n",
    "x, y = np.meshgrid(x,y)\n",
    "ax2.plot_surface(x, y, image2, cmap=cm.gnuplot2,linewidth=0.2, edgecolor=\"black\", vmax=180)\n",
    "ax2.set_zlim(0,450)\n",
    "ax2.set_axis_off()\n",
    "fig2.savefig(\n",
    "    'late_ltp.pdf'.format(ax2.azim, ax2.dist, ax2.elev),\n",
    "    format='pdf',\n",
    "    bbox_inches='tight'\n",
    ")"
   ]
  },
  {
   "cell_type": "code",
   "execution_count": null,
   "id": "2eab027a",
   "metadata": {},
   "outputs": [],
   "source": []
  }
 ],
 "metadata": {
  "kernelspec": {
   "display_name": "Python 3 (ipykernel)",
   "language": "python",
   "name": "python3"
  },
  "language_info": {
   "codemirror_mode": {
    "name": "ipython",
    "version": 3
   },
   "file_extension": ".py",
   "mimetype": "text/x-python",
   "name": "python",
   "nbconvert_exporter": "python",
   "pygments_lexer": "ipython3",
   "version": "3.8.15"
  }
 },
 "nbformat": 4,
 "nbformat_minor": 5
}
