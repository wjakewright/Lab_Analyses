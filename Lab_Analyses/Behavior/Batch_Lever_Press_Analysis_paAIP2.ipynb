{
 "cells": [
  {
   "cell_type": "markdown",
   "id": "5bd4657a",
   "metadata": {},
   "source": [
    "# Batch Lever Press Analysis\n",
    "\n",
    "### Notebook for processing and analyzing lever press behavior\n",
    "Allows for processing, summarizing, and analysis of lever behavior across all sessions, and across multiple mice. Includes sections for data visualization "
   ]
  },
  {
   "cell_type": "code",
   "execution_count": null,
   "id": "73b008d9",
   "metadata": {},
   "outputs": [],
   "source": [
    "# Import modules\n",
    "import os\n",
    "import numpy as np\n",
    "from Lab_Analyses.Behavior.mouse_lever_behavior import analyze_mouse_lever_behavior\n",
    "from Lab_Analyses.Behavior.group_lever_press import Group_Lever_Press\n",
    "from Lab_Analyses.Behavior import behavior_plotting as bplot\n",
    "from Lab_Analyses.Utilities.save_load_pickle import save_pickle, load_pickle"
   ]
  },
  {
   "cell_type": "markdown",
   "id": "6a44cc3c",
   "metadata": {},
   "source": [
    "## Across Day Batch Processing and Summarizing\n",
    "Sections below are for analyzing all sessions across all days of a standard lever press training regime. \n"
   ]
  },
  {
   "cell_type": "markdown",
   "id": "60da9221",
   "metadata": {},
   "source": [
    "### Specify the data to be analyzed\n",
    "#### Paths\n",
    "Specify the paths where data files are located"
   ]
  },
  {
   "cell_type": "code",
   "execution_count": null,
   "id": "b984943f",
   "metadata": {},
   "outputs": [],
   "source": [
    "# Parent path leading to where raw dispatcher and xsglog files are loacted\n",
    "raw_path = r'Z:\\People\\Jake\\Behavior'\n",
    "#raw_path = r\"C:\\Users\\Jake\\Desktop\\temp_behavior\"\n",
    "# Parent path leading to where analyzed data are saved\n",
    "save_path = r'C:\\Users\\Jake\\Desktop\\Analyzed_data\\individual'"
   ]
  },
  {
   "cell_type": "markdown",
   "id": "abf049e9",
   "metadata": {},
   "source": [
    "#### Datasets\n",
    "Specify what data to be processed and analyzed as well as other parameters associated with the data"
   ]
  },
  {
   "cell_type": "code",
   "execution_count": null,
   "id": "eee0f6e8",
   "metadata": {},
   "outputs": [],
   "source": [
    "# Mouse ids you wish to analyze\n",
    "## Can have as many different ids as needed\n",
    "id_1 = \"JW156\"\n",
    "id_2 = \"JW157\"\n",
    "id_3 = \"JW158\"\n",
    "id_4 = \"JW159\"\n",
    "\n",
    "\n",
    "\n",
    "## Reanalyze ?\n",
    "# Indicate if you are reanalyzing the data\n",
    "# Will re-process, summarize, and analyze data even if already analyzed before\n",
    "reanalyze = [True, True, True, True]\n",
    "\n",
    "## Ignore days ?\n",
    "# Indicate if there are any days for each mouse you wish to ignore for analysis\n",
    "# For example you did another session unrelated to this task (e.g. opto)\n",
    "ignore_1 = ()\n",
    "ignore_2 = ()\n",
    "ignore_3 = ()\n",
    "ignore_4 = ()\n",
    "\n",
    "\n",
    "# Imaged Sessions\n",
    "## Indicate which sessions were imaged\n",
    "\n",
    "#### Number of sessiosn\n",
    "num_of_sessions = 14\n",
    "#### Put which sessions were imaged in the lists (must be int)\n",
    "im_1 = [1,7,14]\n",
    "im_2 = [1,7,14]\n",
    "im_3 = [1,7,14]\n",
    "im_4 = [1,7,14]\n",
    "\n",
    "#### Do not change this part\n",
    "image_1 = [False if x not in np.array(im_1)-1 else True for x in range(num_of_sessions)]\n",
    "image_2 = [False if x not in np.array(im_2)-1 else True for x in range(num_of_sessions)]\n",
    "image_3 = [False if x not in np.array(im_3)-1 else True for x in range(num_of_sessions)]\n",
    "image_4 = [False if x not in np.array(im_4)-1 else True for x in range(num_of_sessions)]\n",
    "\n",
    "\n",
    "# Give info about the experiment for each mouse\n",
    "## Optional. Set to none below if not being used\n",
    "exp_1 = \"paAIP2 Population Imaging\"\n",
    "exp_2 = \"paAIP2 Population Imaging\"\n",
    "exp_3 = \"paAIP2 Population Imaging\"\n",
    "exp_4 = \"paAIP2 Population Imaging\"\n",
    "\n",
    "\n",
    "# Put information for each mouse in a list\n",
    "### Can be just one mouse in the list\n",
    "\n",
    "mouse_ids = [id_1,id_2, id_3, id_4]\n",
    "imaged = [image_1, image_2, image_3, image_4]\n",
    "exps = [exp_1, exp_2, exp_3, exp_4]\n",
    "ignore_dirs = [ignore_1, ignore_2, ignore_3, ignore_4]"
   ]
  },
  {
   "cell_type": "markdown",
   "id": "0fc46cb6",
   "metadata": {},
   "source": [
    "### Process and Summarize each dataset"
   ]
  },
  {
   "cell_type": "code",
   "execution_count": null,
   "id": "0a6399ab",
   "metadata": {
    "scrolled": true
   },
   "outputs": [],
   "source": [
    "summed_data = []\n",
    "for mouse_id, img, exp, reanaly, ignore in zip(mouse_ids, imaged, exps, reanalyze, ignore_dirs):\n",
    "    print(mouse_id)\n",
    "    path = os.path.join(raw_path, mouse_id)\n",
    "    sd = analyze_mouse_lever_behavior(\n",
    "        mouse_id=mouse_id, path=path, imaged=img, save=True, save_suffix=None, reanalyze=reanaly, \n",
    "        ignore_dir=ignore, press_len=0.5\n",
    "    )\n",
    "    summed_data.append(sd)"
   ]
  },
  {
   "cell_type": "code",
   "execution_count": null,
   "id": "20c2c629",
   "metadata": {},
   "outputs": [],
   "source": []
  },
  {
   "cell_type": "markdown",
   "id": "6fd325e6",
   "metadata": {},
   "source": [
    "### Or load specific files\n",
    "Give path and name for specific files you wish to load.  \n",
    "Change the cell below to run the code"
   ]
  },
  {
   "cell_type": "markdown",
   "id": "ee869f01",
   "metadata": {},
   "source": [
    "path = r'C:\\Users\\Jake\\Desktop\\Analyzed_data\\individual'  \n",
    "fname = \"JW041_all_lever_data\"  \n",
    "loaded_data = load_pickle([fname], path)  "
   ]
  },
  {
   "cell_type": "markdown",
   "id": "364b482a",
   "metadata": {},
   "source": [
    "## Grouped analysis\n",
    "Section to group data across mice within the same experimental group"
   ]
  },
  {
   "cell_type": "code",
   "execution_count": null,
   "id": "a942e30d",
   "metadata": {
    "scrolled": true
   },
   "outputs": [],
   "source": [
    "# Parent path for where grouped data is stored\n",
    "group_path = r'C:\\Users\\Jake\\Desktop\\Analyzed_data\\grouped'\n",
    "# Specify specific paths for this group\n",
    "experiment_directory = \"paAIP2_Population\"\n",
    "group_directory = \"paAIP2\"\n",
    "# Specify the name of the group file\n",
    "group_name = f\"{group_directory}_{experiment_directory}_lever_press_data\"\n",
    "\n",
    "# Specify if you would like to load or regenerate the grouped data\n",
    "load_data = False\n",
    "# Specify if you would like to save the grouped data\n",
    "save_grouped = True\n",
    "\n",
    "# Group Data\n",
    "if load_data is True:\n",
    "    load_path = os.path.join(group_path, experiment_directory, group_directory)\n",
    "    try:\n",
    "        grouped_data = load_pickle([group_name],load_path)\n",
    "        grouped_data = grouped_data[0]\n",
    "        print(\"Grouped file loaded\")\n",
    "    except FileNotFoundError:\n",
    "        print(\"Grouped file not found. Regenerating...\")    \n",
    "        grouped_data = Group_Lever_Press(summed_data)\n",
    "else:\n",
    "    grouped_data = Group_Lever_Press(summed_data)\n",
    "\n",
    "if save_grouped is True:\n",
    "    save_path = os.path.join(group_path, experiment_directory, group_directory)\n",
    "    if not os.path.isdir(save_path):\n",
    "        os.makedirs(save_path)\n",
    "    save_pickle(group_name, grouped_data, save_path)\n",
    "        \n"
   ]
  },
  {
   "cell_type": "markdown",
   "id": "d9403639",
   "metadata": {},
   "source": [
    "# Visualize Data\n",
    "Uses built in plotting methods of the Group_Lever_Press class.  \n",
    "If you wish to visualize only a single animal's data across sessions it can still be put into a Group_Lever_Press class for plotting"
   ]
  },
  {
   "cell_type": "markdown",
   "id": "c712c25f",
   "metadata": {},
   "source": [
    "grouped_data = Group_Lever_Press() # Put individual mouse data inside to visualize a single mouse"
   ]
  },
  {
   "cell_type": "markdown",
   "id": "cd82da76",
   "metadata": {},
   "source": [
    "### Visualize data across sessions"
   ]
  },
  {
   "cell_type": "code",
   "execution_count": null,
   "id": "ab0aad97",
   "metadata": {
    "scrolled": false
   },
   "outputs": [],
   "source": [
    "figure_path = r'C:\\Users\\Jake\\Desktop\\Figures'\n",
    "\n",
    "# Specify if you want to save grouped figures\n",
    "group_fig_save = True\n",
    "group_fig_path = os.path.join(figure_path, \"grouped_data\", experiment_directory, group_directory)\n",
    "if not os.path.isdir(group_fig_path):\n",
    "    os.makedirs(group_fig_path)\n",
    "\n",
    "# Plot the grouped data\n",
    "colors = {\"success\": \"mediumblue\", \"reaction_time\": \"firebrick\", \"cue_to_reward\": \"forestgreen\", \n",
    "          \"within\": \"black\", \"across\":\"grey\", \"cmap\": \"plasma\"}\n",
    "ylims = {\"success\": (0,100), \"reaction_time\": (0,2.5), \"cue_to_reward\": (0,8), \n",
    "         \"within\": (0,0.4), \"across\": (0,0.4), \"cmap\": (0, 0.25)}\n",
    "grouped_data.plot_data(figsize=(7.5,9), colors=colors, plot_ind=False, ylims=ylims, save=group_fig_save, save_path=group_fig_path)"
   ]
  },
  {
   "cell_type": "markdown",
   "id": "1fa1f532",
   "metadata": {},
   "source": [
    "### Visualize single session lever presses"
   ]
  },
  {
   "cell_type": "code",
   "execution_count": null,
   "id": "f1eebd7f",
   "metadata": {
    "scrolled": false
   },
   "outputs": [],
   "source": [
    "# specify which mouse and which session to plot\n",
    "mouse = summed_data[0]\n",
    "session = 13\n",
    "\n",
    "# Specify if you want to save the figure\n",
    "save_press = False\n",
    "individual_lever_path = os.path.join(figure_path, \"individual_mice\", mouse.mouse_id)\n",
    "if not os.path.isdir(individual_lever_path):\n",
    "    os.mkdir(individual_lever_path)\n",
    "    \n",
    "# Plot the lever press traces\n",
    "bplot.plot_session_rewarded_lever_presses(mouse, session, x_lim=(0,2400), figsize=(4,5), \n",
    "                                          save=save_press, save_path=individual_lever_path)"
   ]
  },
  {
   "cell_type": "code",
   "execution_count": null,
   "id": "42183733",
   "metadata": {},
   "outputs": [],
   "source": [
    "d = summed_data[0]"
   ]
  },
  {
   "cell_type": "code",
   "execution_count": null,
   "id": "cd6e65cc",
   "metadata": {},
   "outputs": [],
   "source": [
    "d.__dict__.keys()"
   ]
  },
  {
   "cell_type": "code",
   "execution_count": null,
   "id": "c2a42006",
   "metadata": {},
   "outputs": [],
   "source": [
    "d.corr_movements[3].shape"
   ]
  },
  {
   "cell_type": "code",
   "execution_count": null,
   "id": "f64cd139",
   "metadata": {},
   "outputs": [],
   "source": [
    "a=np.array([1,2,3])\n",
    "b = np.array([])\n",
    "c = np.concatenate((a,b))\n",
    "c"
   ]
  },
  {
   "cell_type": "code",
   "execution_count": null,
   "id": "79b6bbdc",
   "metadata": {},
   "outputs": [],
   "source": []
  }
 ],
 "metadata": {
  "kernelspec": {
   "display_name": "Python 3 (ipykernel)",
   "language": "python",
   "name": "python3"
  },
  "language_info": {
   "codemirror_mode": {
    "name": "ipython",
    "version": 3
   },
   "file_extension": ".py",
   "mimetype": "text/x-python",
   "name": "python",
   "nbconvert_exporter": "python",
   "pygments_lexer": "ipython3",
   "version": "3.8.15"
  }
 },
 "nbformat": 4,
 "nbformat_minor": 5
}
