{
 "cells": [
  {
   "cell_type": "markdown",
   "id": "cc25f97b",
   "metadata": {},
   "source": [
    "# Multi Session Behavior Processing"
   ]
  },
  {
   "cell_type": "markdown",
   "id": "43df6323",
   "metadata": {},
   "source": [
    "### Notebook for processing behavior when there are multiple sessions in a single day\n",
    "Processes behavioral data across multiple days and stimulation sessions for individual mice and saves the output"
   ]
  },
  {
   "cell_type": "code",
   "execution_count": 1,
   "id": "37b016eb",
   "metadata": {},
   "outputs": [],
   "source": [
    "# Import modules\n",
    "from Lab_Analyses.Behavior.process_multi_session_behavior import process_multi_session_behavior"
   ]
  },
  {
   "cell_type": "markdown",
   "id": "b131bf54",
   "metadata": {},
   "source": [
    "### Datasets\n",
    "Specify the datasets to be analyzed"
   ]
  },
  {
   "cell_type": "code",
   "execution_count": 2,
   "id": "624be443",
   "metadata": {},
   "outputs": [],
   "source": [
    "### Base Path\n",
    "# Specify the base path where the mice behavioral data will be located\n",
    "base_path = r'Z:\\People\\Jake\\Behavior'\n",
    "\n",
    "### Mouse Ids\n",
    "# Specify the id of each mouse to be analyzed\n",
    "id_1 = \"JW088\"\n",
    "id_2 = \"JW095\"\n",
    "id_3 = \"JW096\"\n",
    "id_4 = \"JW097\"\n",
    "\n",
    "### Days \n",
    "# Specify the days you wish to include in the analysis. If none are given all days in a mouse's directory will be processed\n",
    "# Give list of strings with the name of that day's folder (e.g. \"220606\")\n",
    "days_1 = []\n",
    "days_2 = []\n",
    "days_3 = []\n",
    "days_4 = []\n",
    "\n",
    "ids = [id_1, id_2, id_3, id_4]\n",
    "days = [days_1, days_2, days_3, days_4]"
   ]
  },
  {
   "cell_type": "markdown",
   "id": "5b6a571d",
   "metadata": {},
   "source": [
    "### Process the datasets"
   ]
  },
  {
   "cell_type": "code",
   "execution_count": 3,
   "id": "f0e2a096",
   "metadata": {},
   "outputs": [
    {
     "name": "stdout",
     "output_type": "stream",
     "text": [
      "---------------------\n",
      "Analyzing Mouse JW088\n",
      "- 220507                   \n",
      "- 220510                   \n",
      "Done                       \n",
      "---------------------\n",
      "Analyzing Mouse JW095\n",
      "- 220606                   \n",
      "- 220609                   \n",
      "Done                       \n",
      "---------------------\n",
      "Analyzing Mouse JW096\n",
      "- 220606                   \n",
      "- 220609                   \n",
      "Done                       \n",
      "---------------------\n",
      "Analyzing Mouse JW097\n",
      "- 220606                   \n",
      "- 220609                   \n",
      "Done                       \n"
     ]
    }
   ],
   "source": [
    "for mouse, day in zip(ids, days):\n",
    "    print(f\"---------------------\\nAnalyzing Mouse {mouse}\")\n",
    "    process_multi_session_behavior(mouse_id=mouse, base_path=base_path, days=day, save=True)\n",
    "    print(f\"                           \", end=\"\\r\")\n",
    "    print(\"Done\")"
   ]
  },
  {
   "cell_type": "code",
   "execution_count": null,
   "id": "e4640946",
   "metadata": {},
   "outputs": [],
   "source": []
  },
  {
   "cell_type": "code",
   "execution_count": null,
   "id": "0bafc572",
   "metadata": {},
   "outputs": [],
   "source": [
    "a.__dict__.keys()"
   ]
  },
  {
   "cell_type": "code",
   "execution_count": null,
   "id": "e78aa981",
   "metadata": {},
   "outputs": [],
   "source": [
    "a.behavior_frames[0].states._fieldnames"
   ]
  },
  {
   "cell_type": "code",
   "execution_count": null,
   "id": "15364c9d",
   "metadata": {},
   "outputs": [],
   "source": [
    "a.behavior_frames[0].states.cue"
   ]
  },
  {
   "cell_type": "code",
   "execution_count": null,
   "id": "ae21fc7c",
   "metadata": {},
   "outputs": [],
   "source": [
    "a.behavior_frames[0].states.iti3"
   ]
  },
  {
   "cell_type": "code",
   "execution_count": null,
   "id": "accceb1e",
   "metadata": {},
   "outputs": [],
   "source": [
    "a.behavior_frames[1].states.cue"
   ]
  },
  {
   "cell_type": "code",
   "execution_count": null,
   "id": "e39c6e14",
   "metadata": {},
   "outputs": [],
   "source": [
    "a.frame_times"
   ]
  },
  {
   "cell_type": "code",
   "execution_count": null,
   "id": "645a0083",
   "metadata": {},
   "outputs": [],
   "source": []
  }
 ],
 "metadata": {
  "kernelspec": {
   "display_name": "Python 3 (ipykernel)",
   "language": "python",
   "name": "python3"
  },
  "language_info": {
   "codemirror_mode": {
    "name": "ipython",
    "version": 3
   },
   "file_extension": ".py",
   "mimetype": "text/x-python",
   "name": "python",
   "nbconvert_exporter": "python",
   "pygments_lexer": "ipython3",
   "version": "3.9.7"
  }
 },
 "nbformat": 4,
 "nbformat_minor": 5
}
