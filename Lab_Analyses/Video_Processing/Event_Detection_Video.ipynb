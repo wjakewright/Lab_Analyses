{
 "cells": [
  {
   "cell_type": "code",
   "execution_count": 1,
   "id": "3067ca16",
   "metadata": {},
   "outputs": [],
   "source": [
    "## Imports\n",
    "import os\n",
    "import numpy as np                    \n",
    "import matplotlib.pyplot as plt\n",
    "from matplotlib import animation\n",
    "from matplotlib.animation import FuncAnimation\n",
    "import seaborn as sns\n",
    "from skimage import io as sio\n",
    "from Lab_Analyses.Spine_Analysis_v2 import spine_utilities as s_utils\n",
    "from Lab_Analyses.Utilities.save_load_pickle import load_pickle\n",
    "from Lab_Analyses.Video_Processing.smooth_trim_video import smooth_trim_video\n",
    "\n",
    "sns.set()\n",
    "sns.set_style(\"ticks\")"
   ]
  },
  {
   "cell_type": "code",
   "execution_count": 2,
   "id": "5fbf8c00",
   "metadata": {},
   "outputs": [],
   "source": [
    "# Load in output from GUI\n",
    "mouse_id = \"JW306\"\n",
    "file_name = r\"G:\\Analyzed_data\\individual\\JW306\\imaging\\FOV2\\Early\\JW306_240326_GreenCh_imaging_data.pickle\"\n",
    "data = load_pickle([file_name])[0]"
   ]
  },
  {
   "cell_type": "code",
   "execution_count": 3,
   "id": "750be861",
   "metadata": {},
   "outputs": [],
   "source": [
    "# Get activity related data\n",
    "spine_activity = data.activity_trace[\"Spine\"]\n",
    "spine_dFoF = data.processed_dFoF[\"Spine\"]\n",
    "#dendrite_activity = data.dendrite_calcium_activity\n",
    "#dendrite_dFoF = data.dendrite_calcium_processed_dFoF\n",
    "#spine_calcium = data.spine_calcium_processed_dFoF"
   ]
  },
  {
   "cell_type": "code",
   "execution_count": 4,
   "id": "2f871efe",
   "metadata": {},
   "outputs": [],
   "source": [
    "# Mask active and inactive portions\n",
    "def get_active_inactive(dFoF, active):\n",
    "    inactive_mask = (active == 1)\n",
    "    active_mask = (active == 0)\n",
    "    active_dFoF = np.copy(dFoF)\n",
    "    inactive_dFoF = np.copy(dFoF)\n",
    "    active_dFoF[active_mask] = np.nan\n",
    "    #inactive_dFoF[inactive_mask] = np.nan\n",
    "    \n",
    "    return active_dFoF, inactive_dFoF"
   ]
  },
  {
   "cell_type": "code",
   "execution_count": 5,
   "id": "98fa98c7",
   "metadata": {},
   "outputs": [],
   "source": [
    "spine_active = np.zeros(spine_activity.shape) * np.nan\n",
    "spine_inactive = np.zeros(spine_activity.shape) * np.nan\n",
    "#dend_active = np.zeros(dendrite_activity.shape) * np.nan\n",
    "#dend_inactive = np.zeros(dendrite_activity.shape) * np.nan\n",
    "\n",
    "for i in range(spine_activity.shape[1]):\n",
    "    s_active, s_inactive = get_active_inactive(spine_dFoF[:, i], spine_activity[:, i])\n",
    "    # d_active, d_inactive = get_active_inactive(dendrite_dFoF[:, i], dendrite_activity[:, i])\n",
    "    spine_active[:, i] = s_active\n",
    "    spine_inactive[:, i] = s_inactive\n",
    "    #dend_active[:, i] = d_active\n",
    "    #dend_inactive[:, i] = d_inactive"
   ]
  },
  {
   "cell_type": "code",
   "execution_count": 6,
   "id": "48d812e5",
   "metadata": {},
   "outputs": [],
   "source": [
    "# Select the spine idx to look at\n",
    "spine_idxs = [39, 48]"
   ]
  },
  {
   "cell_type": "code",
   "execution_count": 7,
   "id": "c1519458",
   "metadata": {},
   "outputs": [],
   "source": [
    "# Visualize the activity\n",
    "%matplotlib qt\n",
    "\n",
    "fig, ax = plt.subplot_mosaic(\"\"\"A\"\"\",figsize=(7,3))\n",
    "title = f\"{mouse_id}_FOV2_spine_local_coactivity\"\n",
    "fig.suptitle(title)\n",
    "\n",
    "frames = np.arange(len(spine_active))\n",
    "for i, spine in enumerate(spine_idxs):\n",
    "    ax[\"A\"].plot(frames[:], spine_inactive[:, spine] + i, color=\"blue\", alpha=0.3, linewidth=.8)\n",
    "    ax[\"A\"].plot(frames[:], spine_active[:, spine] + i, color=\"blue\", linewidth=.8)"
   ]
  },
  {
   "cell_type": "code",
   "execution_count": 10,
   "id": "3d20a75f",
   "metadata": {},
   "outputs": [],
   "source": [
    "# Specify the frame range to process the video\n",
    "frame_range = (40000, 50000)\n",
    "# Replot\n",
    "fig, ax = plt.subplot_mosaic(\"\"\"A\"\"\",figsize=(7,3))\n",
    "title = f\"{mouse_id}_FOV2_spine_local_coactivity\"\n",
    "fig.suptitle(title)\n",
    "frames = np.arange(len(spine_active))\n",
    "for i, spine in enumerate(spine_idxs):\n",
    "    ax[\"A\"].plot(frames[frame_range[0]:frame_range[1]], (spine_inactive[frame_range[0]:frame_range[1], spine]) / 2 + i, color=\"blue\", alpha=0.3, linewidth=.8)\n",
    "    ax[\"A\"].plot(frames[frame_range[0]:frame_range[1]], (spine_active[frame_range[0]:frame_range[1], spine]) / 2 + i, color=\"blue\", linewidth=.8)"
   ]
  },
  {
   "cell_type": "code",
   "execution_count": 8,
   "id": "06c5165f",
   "metadata": {},
   "outputs": [],
   "source": [
    "# Get active indexes\n",
    "from Lab_Analyses.Utilities.activity_timestamps import get_activity_timestamps"
   ]
  },
  {
   "cell_type": "code",
   "execution_count": null,
   "id": "a5ba6d3f",
   "metadata": {},
   "outputs": [],
   "source": [
    "spine_idxs = [39,48]\n",
    "a_indexs = get_activity_timestamps(spine_activity[frame_range[0]:frame_range[1], 48])\n",
    "a_indexes = [(x[0]-6, x[1]-6) for x in a_indexs]\n",
    "print(a_indexes)"
   ]
  },
  {
   "cell_type": "code",
   "execution_count": null,
   "id": "0d95ea04",
   "metadata": {},
   "outputs": [],
   "source": [
    "# Set up video paths\n",
    "image_dir = r\"Z:\\People\\Jake\\Imaging_Data\\JW306\\240326\\FOV2\\GreenCh\"\n",
    "out_name = f\"JW306_FOV2_frame_{frame_range[0]}_{frame_range[1]}\"\n",
    "save_dir = r\"C:\\Users\\Jake\\Desktop\\Figures\\Examples\\Example_videos\"\n",
    "smooth_window = 30 # In frames"
   ]
  },
  {
   "cell_type": "code",
   "execution_count": null,
   "id": "b6851ad1",
   "metadata": {},
   "outputs": [],
   "source": [
    "# Smooth the images to match processed dFoF and trim to only frames needed\n",
    "frame_range = (frame_range[0] + 229, frame_range[1] + 229)\n",
    "smooth_trim_video(\n",
    "    image_dir=image_dir,\n",
    "    out_name=out_name,\n",
    "    save_dir=save_dir,\n",
    "    frame_range=frame_range,\n",
    "    smooth_window=smooth_window,\n",
    ")"
   ]
  },
  {
   "cell_type": "code",
   "execution_count": null,
   "id": "03629b81",
   "metadata": {},
   "outputs": [],
   "source": [
    "# Specify image path to load in after further processing in imageJ\n",
    "load_image = r\"C:\\Users\\Jake\\Desktop\\Figures\\Examples\\Example_videos\\JW306_FOV2_frame_40000_50000_cropped_outline_rgb_timer_spines.tif\"\n",
    "image = sio.imread(load_image, plugin=\"tifffile\")"
   ]
  },
  {
   "cell_type": "code",
   "execution_count": null,
   "id": "4d8771f8",
   "metadata": {},
   "outputs": [],
   "source": [
    "# Animate plots\n",
    "\n",
    "## Function to update line plots\n",
    "def update_lines(num, active, active_line, inactive, inactive_line, images, spine_image):\n",
    "    active_line.set_data(x[:num], active[:num])\n",
    "    inactive_line.set_data(x[:num], inactive[:num])\n",
    "    spine_image.set_array(images[num, :, :, :])\n",
    "    \n",
    "    return active_line, inactive_line, spine_image,\n",
    "\n",
    "\n",
    "plot_inactivity = spine_inactive[frame_range[0]:frame_range[1], spine_idx] / 2\n",
    "plot_activity = spine_active[frame_range[0]:frame_range[1], spine_idx] / 2\n",
    "x = np.arange(len(plot_activity))\n",
    "\n",
    "def init():\n",
    "    spine_image.set_data(image[0, :, :, :])\n",
    "    active_line.set_data([], [])\n",
    "    inactive_line.set_data([], [])\n",
    "    \n",
    "    return active_line, inactive_line, spine_image,\n",
    "\n",
    "\n",
    "fig, axes = plt.subplot_mosaic(\n",
    "    \"\"\"AB\"\"\",\n",
    "    figsize=(10,3),\n",
    "    width_ratios=[1,2.5]\n",
    ")\n",
    "\n",
    "# Initialize line plots\n",
    "active_line, = axes[\"B\"].plot([], [], color=\"blue\", alpha=1, linewidth=.8, label=\"active\")\n",
    "inactive_line, = axes[\"B\"].plot([], [], color=\"blue\", alpha=0.3, linewidth=.8, label=\"inactive\")\n",
    "\n",
    "# Initizalie the image\n",
    "spine_image = axes[\"A\"].imshow(image[0, :, :, :])\n",
    "\n",
    "\n",
    "\n",
    "\n",
    "axes[\"B\"].legend([active_line, inactive_line], [active_line.get_label(), inactive_line.get_label()], loc=0)\n",
    "axes[\"B\"].set_xlabel(\"Frames\")\n",
    "axes[\"B\"].set_ylabel(\"dF/F\")\n",
    "axes[\"B\"].set_xlim(0, x[-1])\n",
    "axes[\"B\"].set_ylim(-0.1, 3.1)\n",
    "axes[\"A\"].axis(\"off\")\n",
    "\n",
    "fig.tight_layout()\n",
    "\n",
    "# Setup the Writer for saving\n",
    "Writer = animation.FFMpegWriter(fps=60)\n",
    "\n",
    "line_animation = animation.FuncAnimation(\n",
    "    fig, update_lines, init_func=init, frames=len(plot_inactivity), \n",
    "    fargs=(plot_activity, active_line, plot_inactivity, inactive_line, image, spine_image,), \n",
    "    interval=5, blit=True, repeat=True\n",
    ")\n",
    "\n",
    "animation_fname = r\"C:\\Users\\Jake\\Desktop\\Figures\\Examples\\Example_videos\\JW306_FOV2_Spine_40.avi\"\n",
    "\n",
    "#line_animation.save(animation_fname, writer=Writer)"
   ]
  },
  {
   "cell_type": "code",
   "execution_count": null,
   "id": "c99d709d",
   "metadata": {},
   "outputs": [],
   "source": [
    "plt.imshow(image[0, :, :, :])"
   ]
  },
  {
   "cell_type": "code",
   "execution_count": null,
   "id": "0c3591dc",
   "metadata": {},
   "outputs": [],
   "source": [
    "image.shape"
   ]
  },
  {
   "cell_type": "code",
   "execution_count": null,
   "id": "4ddd3ffd",
   "metadata": {},
   "outputs": [],
   "source": [
    "plt.imshow(np.ones((200,211,3)))"
   ]
  },
  {
   "cell_type": "code",
   "execution_count": null,
   "id": "d3387ddc",
   "metadata": {},
   "outputs": [],
   "source": [
    "a = np.array([2,1,1,2,4,5,1,7,])\n",
    "np.unique(a)"
   ]
  },
  {
   "cell_type": "code",
   "execution_count": null,
   "id": "fe1f0696",
   "metadata": {},
   "outputs": [],
   "source": []
  }
 ],
 "metadata": {
  "kernelspec": {
   "display_name": "Python 3 (ipykernel)",
   "language": "python",
   "name": "python3"
  },
  "language_info": {
   "codemirror_mode": {
    "name": "ipython",
    "version": 3
   },
   "file_extension": ".py",
   "mimetype": "text/x-python",
   "name": "python",
   "nbconvert_exporter": "python",
   "pygments_lexer": "ipython3",
   "version": "3.8.20"
  }
 },
 "nbformat": 4,
 "nbformat_minor": 5
}
