{
 "cells": [
  {
   "cell_type": "code",
   "execution_count": 2,
   "id": "3067ca16",
   "metadata": {},
   "outputs": [],
   "source": [
    "## Imports\n",
    "import os\n",
    "import numpy as np                    \n",
    "import matplotlib.pyplot as plt\n",
    "from matplotlib import animation\n",
    "from matplotlib.animation import FuncAnimation\n",
    "import seaborn as sns\n",
    "from skimage import io as sio\n",
    "from Lab_Analyses.Spine_Analysis_v2 import spine_utilities as s_utils\n",
    "from Lab_Analyses.Utilities.save_load_pickle import load_pickle\n",
    "from Lab_Analyses.Video_Processing.smooth_trim_video import smooth_trim_video\n",
    "\n",
    "sns.set()\n",
    "sns.set_style(\"ticks\")"
   ]
  },
  {
   "cell_type": "code",
   "execution_count": 67,
   "id": "5fbf8c00",
   "metadata": {},
   "outputs": [],
   "source": [
    "# Load in output from GUI\n",
    "mouse_id = \"JW306\"\n",
    "file_name = r\"G:\\Analyzed_data\\individual\\JW306\\imaging\\FOV2\\Early\\JW306_240326_GreenCh_imaging_data.pickle\"\n",
    "data = load_pickle([file_name])[0]\n",
    "\n",
    "file_name2 = r\"G:\\Analyzed_data\\individual\\JW306\\imaging\\FOV2\\Early\\JW306_240326_RedCh_imaging_data.pickle\"\n",
    "data2 = load_pickle([file_name2])[0]"
   ]
  },
  {
   "cell_type": "code",
   "execution_count": null,
   "id": "750be861",
   "metadata": {},
   "outputs": [],
   "source": [
    "# Get activity related data\n",
    "spine_activity = data.activity_trace[\"Spine\"]\n",
    "spine_dFoF = data.processed_dFoF[\"Spine\"]\n",
    "dendrite_activity = data2.activity_trace[\"Dendrite\"]\n",
    "dendrite_dFoF = data2.processed_dFoF[\"Dendrite\"]\n",
    "#spine_calcium = data.spine_calcium_processed_dFoF"
   ]
  },
  {
   "cell_type": "code",
   "execution_count": 119,
   "id": "9890e960",
   "metadata": {},
   "outputs": [
    {
     "data": {
      "text/plain": [
       "array([[0.],\n",
       "       [0.],\n",
       "       [0.],\n",
       "       ...,\n",
       "       [0.],\n",
       "       [0.],\n",
       "       [0.]])"
      ]
     },
     "execution_count": 119,
     "metadata": {},
     "output_type": "execute_result"
    }
   ],
   "source": [
    "dendrite_activity"
   ]
  },
  {
   "cell_type": "code",
   "execution_count": 120,
   "id": "2f871efe",
   "metadata": {},
   "outputs": [],
   "source": [
    "# Mask active and inactive portions\n",
    "def get_active_inactive(dFoF, active):\n",
    "    inactive_mask = (active == 1)\n",
    "    active_mask = (active == 0)\n",
    "    active_dFoF = np.copy(dFoF)\n",
    "    inactive_dFoF = np.copy(dFoF)\n",
    "    active_dFoF[active_mask] = np.nan\n",
    "    #inactive_dFoF[inactive_mask] = np.nan\n",
    "    \n",
    "    return active_dFoF, inactive_dFoF"
   ]
  },
  {
   "cell_type": "code",
   "execution_count": 121,
   "id": "98fa98c7",
   "metadata": {},
   "outputs": [],
   "source": [
    "spine_active = np.zeros(spine_activity.shape) * np.nan\n",
    "spine_inactive = np.zeros(spine_activity.shape) * np.nan\n",
    "#dend_active = np.zeros(dendrite_activity.shape) * np.nan\n",
    "#dend_inactive = np.zeros(dendrite_activity.shape) * np.nan\n",
    "\n",
    "for i in range(spine_activity.shape[1]):\n",
    "    s_active, s_inactive = get_active_inactive(spine_dFoF[:, i], spine_activity[:, i])\n",
    "    spine_active[:, i] = s_active\n",
    "    spine_inactive[:, i] = s_inactive\n",
    "\n",
    "dend_active, dend_inactive = get_active_inactive(dendrite_dFoF.flatten(), dendrite_activity.flatten())\n",
    "dend_active[38700:38800] = np.nan"
   ]
  },
  {
   "cell_type": "code",
   "execution_count": 154,
   "id": "3e88ebf9",
   "metadata": {},
   "outputs": [],
   "source": [
    "spine_active[40080:40100] = np.nan"
   ]
  },
  {
   "cell_type": "code",
   "execution_count": 157,
   "id": "48d812e5",
   "metadata": {},
   "outputs": [],
   "source": [
    "# Select the spine idx to look at\n",
    "spine_idxs = [39, 48]\n",
    "\n",
    "spine_idxs = [30]"
   ]
  },
  {
   "cell_type": "code",
   "execution_count": 158,
   "id": "c1519458",
   "metadata": {},
   "outputs": [
    {
     "data": {
      "text/plain": [
       "[<matplotlib.lines.Line2D at 0x23563c01340>]"
      ]
     },
     "execution_count": 158,
     "metadata": {},
     "output_type": "execute_result"
    }
   ],
   "source": [
    "# Visualize the activity\n",
    "%matplotlib qt\n",
    "\n",
    "fig, ax = plt.subplot_mosaic(\"\"\"A\"\"\",figsize=(7,3))\n",
    "title = f\"{mouse_id}_FOV2_spine_local_coactivity\"\n",
    "fig.suptitle(title)\n",
    "\n",
    "frames = np.arange(len(spine_active))\n",
    "for i, spine in enumerate(spine_idxs):\n",
    "    ax[\"A\"].plot(frames[:], spine_inactive[:, spine] + i, color=\"blue\", alpha=0.3, linewidth=.8)\n",
    "    ax[\"A\"].plot(frames[:], spine_active[:, spine] + i, color=\"blue\", linewidth=.8)\n",
    "    \n",
    "ax[\"A\"].plot(frames[:], dend_inactive[:] + 2, color=\"red\", alpha=0.3, linewidth=.8)\n",
    "ax[\"A\"].plot(frames[:], dend_active[:] + 2, color=\"red\", linewidth=.8)"
   ]
  },
  {
   "cell_type": "code",
   "execution_count": 159,
   "id": "3d20a75f",
   "metadata": {},
   "outputs": [
    {
     "data": {
      "text/plain": [
       "[<matplotlib.lines.Line2D at 0x23570560670>]"
      ]
     },
     "execution_count": 159,
     "metadata": {},
     "output_type": "execute_result"
    }
   ],
   "source": [
    "# Specify the frame range to process the video\n",
    "frame_range = (36500, 41000)\n",
    "# Replot\n",
    "fig, ax = plt.subplot_mosaic(\"\"\"A\"\"\",figsize=(7,3))\n",
    "title = f\"{mouse_id}_FOV2_spine_local_coactivity\"\n",
    "fig.suptitle(title)\n",
    "frames = np.arange(len(spine_active))\n",
    "for i, spine in enumerate(spine_idxs):\n",
    "    ax[\"A\"].plot(frames[frame_range[0]:frame_range[1]], (spine_inactive[frame_range[0]:frame_range[1], spine]) / 2 + i, color=\"blue\", alpha=0.3, linewidth=.8)\n",
    "    ax[\"A\"].plot(frames[frame_range[0]:frame_range[1]], (spine_active[frame_range[0]:frame_range[1], spine]) / 2 + i, color=\"blue\", linewidth=.8)\n",
    "    \n",
    "ax[\"A\"].plot(frames[frame_range[0]:frame_range[1]], dend_inactive[frame_range[0]:frame_range[1]] + 1, color=\"red\", alpha=0.3, linewidth=.8)\n",
    "ax[\"A\"].plot(frames[frame_range[0]:frame_range[1]], dend_active[frame_range[0]:frame_range[1]] + 1, color=\"red\", linewidth=.8)"
   ]
  },
  {
   "cell_type": "code",
   "execution_count": 92,
   "id": "0d95ea04",
   "metadata": {},
   "outputs": [],
   "source": [
    "# Set up video paths\n",
    "image_dir = r\"Z:\\People\\Jake\\Imaging_Data\\JW306\\240326\\FOV2\\GreenCh\"\n",
    "out_name = f\"JW306_FOV2_frame_{frame_range[0]}_{frame_range[1]}_GreenCh\"\n",
    "save_dir = r\"C:\\Users\\Jake\\Desktop\\Figures\\Examples\\Example_videos\"\n",
    "smooth_window = 30 # In frames"
   ]
  },
  {
   "cell_type": "code",
   "execution_count": 93,
   "id": "b6851ad1",
   "metadata": {},
   "outputs": [
    {
     "name": "stdout",
     "output_type": "stream",
     "text": [
      "Frames 36000 - 41600\n",
      "Start 36700  End 41200\n",
      "File List:\n",
      "45 : JW306_0326_00003_00002_corrected.tif\n",
      "46 : JW306_0326_00003_00003_corrected.tif\n",
      "47 : JW306_0326_00003_00004_corrected.tif\n",
      "48 : JW306_0326_00003_00005_corrected.tif\n",
      "49 : JW306_0326_00003_00006_corrected.tif\n",
      "50 : JW306_0326_00003_00007_corrected.tif\n",
      "51 : JW306_0326_00003_00008_corrected.tif\n",
      "(100, 512, 512)\n",
      "(800, 512, 512)\n",
      "(800, 512, 512)\n",
      "(800, 512, 512)\n",
      "(800, 512, 512)\n",
      "(800, 512, 512)\n",
      "(400, 512, 512)\n",
      "Done Processing\n"
     ]
    }
   ],
   "source": [
    "# Smooth the images to match processed dFoF and trim to only frames needed\n",
    "frame_range_vid = (frame_range[0]+200, frame_range[1]+200)\n",
    "smooth_trim_video(\n",
    "    image_dir=image_dir,\n",
    "    out_name=out_name,\n",
    "    save_dir=save_dir,\n",
    "    frame_range=frame_range_vid,\n",
    "    smooth_window=smooth_window,\n",
    ")"
   ]
  },
  {
   "cell_type": "code",
   "execution_count": 95,
   "id": "dae10c8b",
   "metadata": {},
   "outputs": [],
   "source": [
    "from Lab_Analyses.Utilities.activity_timestamps import get_activity_timestamps\n",
    "def get_coactive_chunks(coactivity):\n",
    "    chunks = get_activity_timestamps(coactivity)\n",
    "    return chunks"
   ]
  },
  {
   "cell_type": "code",
   "execution_count": 101,
   "id": "e2f07ab0",
   "metadata": {},
   "outputs": [
    {
     "name": "stdout",
     "output_type": "stream",
     "text": [
      "[0. 0. 0. ... 0. 0. 0.]\n"
     ]
    }
   ],
   "source": [
    "print(dendrite_activity.flatten()[frame_range[0]:frame_range[1]])"
   ]
  },
  {
   "cell_type": "code",
   "execution_count": 108,
   "id": "e30bef18",
   "metadata": {},
   "outputs": [
    {
     "name": "stdout",
     "output_type": "stream",
     "text": [
      "[(295, 347), (363, 420), (648, 685), (781, 809), (939, 970), (1057, 1094), (1227, 1260), (1521, 1560), (2078, 2176), (2728, 2778), (2795, 2829), (2954, 2998), (3108, 3145), (3605, 3619), (3668, 3695), (4302, 4501)]\n",
      "\n",
      "\n",
      "[(298, 455), (2239, 2283), (3156, 3337), (3618, 3691), (4008, 4067)]\n",
      "\n",
      "\n",
      "[(298, 347), (363, 420), (3618, 3619), (3668, 3691)]\n"
     ]
    }
   ],
   "source": [
    "# Denote coactive periods\n",
    "spine_1_activity = spine_activity[frame_range[0]:frame_range[1], 30]\n",
    "#spine_3_activity = spine_activity[frame_range[0]:frame_range[1], 48]\n",
    "dend_activity = dendrite_activity.flatten()[frame_range[0]:frame_range[1]]\n",
    "\n",
    "## Spine 1 with Spine 2 coactivity\n",
    "\n",
    "\n",
    "spine_1_3_coactivity = spine_1_activity * dend_activity\n",
    "coactivity_chunks = get_coactive_chunks(spine_1_3_coactivity)\n",
    "\n",
    "spine_activity_chunks = get_coactive_chunks(spine_1_activity)\n",
    "dend_activity_chunks = get_coactive_chunks(dend_activity)\n",
    "\n",
    "s_indexes = [(x[0]+22, x[1]+22) for x in spine_activity_chunks]\n",
    "\n",
    "d_indexes = [(x[0]+22, x[1]+22) for x in dend_activity_chunks]\n",
    "\n",
    "c_indexes = [(x[0]+22, x[1]+22) for x in coactivity_chunks]\n",
    "\n",
    "\n",
    "print(s_indexes)\n",
    "print(\"\")\n",
    "print(\"\")\n",
    "print(d_indexes)\n",
    "print(\"\")\n",
    "print(\"\")\n",
    "print(c_indexes)"
   ]
  },
  {
   "cell_type": "code",
   "execution_count": 160,
   "id": "b533fe99",
   "metadata": {},
   "outputs": [
    {
     "data": {
      "text/plain": [
       "(3596, 3597)"
      ]
     },
     "execution_count": 160,
     "metadata": {},
     "output_type": "execute_result"
    }
   ],
   "source": [
    "coactivity_chunks.pop(2)"
   ]
  },
  {
   "cell_type": "code",
   "execution_count": 41,
   "id": "ad98dfa1",
   "metadata": {},
   "outputs": [
    {
     "name": "stdout",
     "output_type": "stream",
     "text": [
      "[(44, 93), (278, 283), (313, 327), (407, 419), (453, 479), (1056, 1078), (1178, 1264), (3453, 3471), (4480, 4528), (4616, 4627), (4696, 4729), (4780, 4783), (4938, 4959)]\n",
      "[(44, 93), (278, 283), (407, 419), (453, 479), (1056, 1078), (1178, 1264), (4480, 4528), (4696, 4729), (4938, 4959)]\n"
     ]
    }
   ],
   "source": [
    "remove_idxs = [2,7,9,11]\n",
    "print(spine_1_3_chunks)\n",
    "spine_1_3_chunks = [x for i, x in enumerate(spine_1_3_chunks) if i not in remove_idxs]\n",
    "\n",
    "print(spine_1_3_chunks)"
   ]
  },
  {
   "cell_type": "code",
   "execution_count": 128,
   "id": "03629b81",
   "metadata": {},
   "outputs": [],
   "source": [
    "# Specify image path to load in after further processing in imageJ\n",
    "g_image = r\"C:\\Users\\Jake\\Desktop\\Figures\\Examples\\Example_videos\\JW306_FOV2_frame_36500_41000_GreenCh_cropped_outline_labeld_rgb.tif\"\n",
    "green_image = sio.imread(g_image, plugin=\"tifffile\")\n",
    "\n",
    "r_image = r\"C:\\Users\\Jake\\Desktop\\Figures\\Examples\\Example_videos\\JW306_FOV2_frame_36500_41000_RedCh_cropped_outline_labeld_rgb.tif\"\n",
    "red_image = sio.imread(r_image, plugin=\"tifffile\")\n",
    "\n",
    "m_image = r\"C:\\Users\\Jake\\Desktop\\Figures\\Examples\\Example_videos\\JW306_FOV2_frame_36500_41000_Merged_cropped_outline_labeled_rgb.tif\"\n",
    "merged_image = sio.imread(m_image, plugin=\"tifffile\")"
   ]
  },
  {
   "cell_type": "code",
   "execution_count": null,
   "id": "48136fbb",
   "metadata": {},
   "outputs": [],
   "source": []
  },
  {
   "cell_type": "code",
   "execution_count": 162,
   "id": "4d8771f8",
   "metadata": {},
   "outputs": [],
   "source": [
    "# Animate plots\n",
    "spine_idx = 30\n",
    "frame_range_plot = (frame_range[0]-20, frame_range[1]-20)\n",
    "## Function to update line plots\n",
    "def update_lines(\n",
    "    num, \n",
    "    active1, \n",
    "    active_line1, \n",
    "    inactive1, \n",
    "    inactive_line1, \n",
    "    active3, \n",
    "    active_line3, \n",
    "    inactive3, \n",
    "    inactive_line3,\n",
    "    green_images, \n",
    "    spine_image1,\n",
    "    red_images,\n",
    "    spine_image2,\n",
    "    merged_images,\n",
    "    spine_image3\n",
    "):\n",
    "    active_line1.set_data(x[:num], active1[:num])\n",
    "    inactive_line1.set_data(x[:num], inactive1[:num])\n",
    "    active_line3.set_data(x[:num], active3[:num])\n",
    "    inactive_line3.set_data(x[:num], inactive3[:num])\n",
    "    spine_image1.set_array(green_images[num, :, :, :])\n",
    "    spine_image2.set_array(red_images[num, :, :, :])\n",
    "    spine_image3.set_array(merged_images[num, :, :, :])\n",
    "    \n",
    "    return active_line1, inactive_line1,active_line3, inactive_line3, spine_image1, spine_image2, spine_image3,\n",
    "\n",
    "\n",
    "plot_inactivity_1 = spine_inactive[frame_range_plot[0]:frame_range_plot[1], spine_idx] / 2\n",
    "plot_activity_1 = spine_active[frame_range_plot[0]:frame_range_plot[1], spine_idx] / 2\n",
    "plot_inactivity_3 = (dend_inactive[frame_range_plot[0]:frame_range_plot[1]]) +1\n",
    "plot_activity_3 = (dend_active[frame_range_plot[0]:frame_range_plot[1]]) + 1\n",
    "x = np.arange(len(plot_activity_1))\n",
    "\n",
    "def init():\n",
    "    spine_image1.set_data(green_image[0, :, :, :])\n",
    "    spine_image2.set_data(red_image[0, :, :, :])\n",
    "    spine_image3.set_data(merged_image[0, :, :, :])\n",
    "    active_line1.set_data([], [])\n",
    "    inactive_line1.set_data([], [])\n",
    "    active_line3.set_data([], [])\n",
    "    inactive_line3.set_data([], [])\n",
    "    \n",
    "    return active_line1, inactive_line1, active_line3, inactive_line3, spine_image1, spine_image2, spine_image3\n",
    "\n",
    "\n",
    "fig, axes = plt.subplot_mosaic(\n",
    "    \"\"\"\n",
    "    ABC\n",
    "    DDD\n",
    "    \"\"\",\n",
    "    height_ratios=[2,1],\n",
    "    figsize=(12,8),\n",
    ")\n",
    "\n",
    "# Initialize line plots\n",
    "active_line1, = axes[\"D\"].plot([], [], color=\"blue\", alpha=1, linewidth=.8, label=\"active\")\n",
    "inactive_line1, = axes[\"D\"].plot([], [], color=\"blue\", alpha=0.3, linewidth=.8, label=\"inactive\")\n",
    "active_line3, = axes[\"D\"].plot([], [], color=\"crimson\", alpha=1, linewidth=.8, label=\"active\")\n",
    "inactive_line3, = axes[\"D\"].plot([], [], color=\"crimson\", alpha=0.3, linewidth=.8, label=\"inactive\")\n",
    "\n",
    "# Initizalie the image\n",
    "spine_image1 = axes[\"A\"].imshow(green_image[0, :, :, :])\n",
    "spine_image2 = axes[\"B\"].imshow(red_image[0, :, :, :])\n",
    "spine_image3 = axes[\"C\"].imshow(merged_image[0, :, :, :])\n",
    "\n",
    "# Add coactive periods\n",
    "\n",
    "    \n",
    "for chunk in coactivity_chunks:\n",
    "    chunk_1_3 = axes[\"D\"].axvspan(chunk[0]+20, chunk[1]+20, alpha=0.2, color=\"magenta\")\n",
    "\n",
    "\n",
    "\n",
    "axes[\"D\"].legend(\n",
    "    [active_line1,active_line3,chunk_1_3,], \n",
    "    [\"Spine\",  \"Dendrite\", \"Spine-dendrite coactive\",], \n",
    "    loc=9, ncols=6, framealpha=1\n",
    ")\n",
    "axes[\"D\"].set_xlabel(\"Frames\")\n",
    "axes[\"D\"].set_ylabel(\"dF/F\")\n",
    "axes[\"D\"].set_xlim(0, x[-1])\n",
    "axes[\"D\"].set_ylim(-0.1, 2)\n",
    "axes[\"A\"].axis(\"off\")\n",
    "axes[\"B\"].axis(\"off\")\n",
    "axes[\"C\"].axis(\"off\")\n",
    "\n",
    "axes[\"A\"].set_title(\"iGluSnFR3\")\n",
    "axes[\"B\"].set_title(\"RCaMP2\")\n",
    "axes[\"C\"].set_title(\"Merged (spine masked)\")\n",
    "\n",
    "fig.tight_layout()\n",
    "\n",
    "# Setup the Writer for saving\n",
    "Writer = animation.FFMpegWriter(fps=120)\n",
    "\n",
    "\n",
    "line_animation = animation.FuncAnimation(\n",
    "    fig, update_lines, init_func=init, frames=len(plot_inactivity_1), \n",
    "    fargs=(\n",
    "        plot_activity_1, \n",
    "        active_line1, \n",
    "        plot_inactivity_1, \n",
    "        inactive_line1,\n",
    "        plot_activity_3, \n",
    "        active_line3, \n",
    "        plot_inactivity_3, \n",
    "        inactive_line3,\n",
    "        green_image, \n",
    "        spine_image1,\n",
    "        red_image,\n",
    "        spine_image2,\n",
    "        merged_image,\n",
    "        spine_image3,), \n",
    "    interval=0.5, blit=True, repeat=True\n",
    ")\n",
    "\n",
    "animation_fname = r\"C:\\Users\\Jake\\Desktop\\Figures\\Examples\\Example_videos\\Coincident_Activity_Video.mp4\"\n",
    "\n",
    "line_animation.save(animation_fname, writer=Writer)"
   ]
  },
  {
   "cell_type": "code",
   "execution_count": 44,
   "id": "c99d709d",
   "metadata": {},
   "outputs": [
    {
     "name": "stdout",
     "output_type": "stream",
     "text": [
      "-1\n"
     ]
    }
   ],
   "source": [
    "print(plt.rcParams[\"animation.bitrate\"])"
   ]
  },
  {
   "cell_type": "code",
   "execution_count": null,
   "id": "0c3591dc",
   "metadata": {},
   "outputs": [],
   "source": [
    "image.shape"
   ]
  },
  {
   "cell_type": "code",
   "execution_count": null,
   "id": "4ddd3ffd",
   "metadata": {},
   "outputs": [],
   "source": [
    "plt.imshow(np.ones((200,211,3)))"
   ]
  },
  {
   "cell_type": "code",
   "execution_count": null,
   "id": "d3387ddc",
   "metadata": {},
   "outputs": [],
   "source": [
    "a = np.array([2,1,1,2,4,5,1,7,])\n",
    "np.unique(a)"
   ]
  },
  {
   "cell_type": "code",
   "execution_count": null,
   "id": "fe1f0696",
   "metadata": {},
   "outputs": [],
   "source": []
  }
 ],
 "metadata": {
  "kernelspec": {
   "display_name": "Python 3 (ipykernel)",
   "language": "python",
   "name": "python3"
  },
  "language_info": {
   "codemirror_mode": {
    "name": "ipython",
    "version": 3
   },
   "file_extension": ".py",
   "mimetype": "text/x-python",
   "name": "python",
   "nbconvert_exporter": "python",
   "pygments_lexer": "ipython3",
   "version": "3.8.20"
  }
 },
 "nbformat": 4,
 "nbformat_minor": 5
}
