{
 "cells": [
  {
   "cell_type": "code",
   "execution_count": 1,
   "id": "e5a42781",
   "metadata": {},
   "outputs": [],
   "source": [
    "# Imports\n",
    "import os\n",
    "import cv2\n",
    "import numpy as np\n",
    "import matplotlib.pyplot as plt\n",
    "from matplotlib import cm\n",
    "from skimage import io as sio\n",
    "from tifffile import imsave\n",
    "%matplotlib qt"
   ]
  },
  {
   "cell_type": "code",
   "execution_count": 2,
   "id": "c709e495",
   "metadata": {},
   "outputs": [],
   "source": [
    "# load image 1\n",
    "image_path = r\"C:\\Users\\Jake\\Desktop\\Figures\\Examples\\Example_images\\s_LTP_examples\\JW153_FOV2_apical\\early_spine_cropped_LTD.tif\"\n",
    "image = sio.imread(image_path, plugin=\"tifffile\")"
   ]
  },
  {
   "cell_type": "code",
   "execution_count": 3,
   "id": "d8540124",
   "metadata": {},
   "outputs": [
    {
     "data": {
      "text/plain": [
       "255"
      ]
     },
     "execution_count": 3,
     "metadata": {},
     "output_type": "execute_result"
    }
   ],
   "source": [
    "image.max()"
   ]
  },
  {
   "cell_type": "code",
   "execution_count": 14,
   "id": "dd574d89",
   "metadata": {},
   "outputs": [
    {
     "name": "stderr",
     "output_type": "stream",
     "text": [
      "C:\\Users\\Jake\\AppData\\Local\\Temp\\ipykernel_19812\\527932113.py:13: MatplotlibDeprecationWarning: The dist attribute was deprecated in Matplotlib 3.6 and will be removed two minor releases later.\n",
      "  'early_ltd.pdf'.format(ax.azim, ax.dist, ax.elev),\n"
     ]
    }
   ],
   "source": [
    "# Plot image 1 mesh plot\n",
    "pimage = padded = np.pad(image, pad_width=8, constant_values=0)\n",
    "pimage = pimage[8:, :]\n",
    "pimage=image\n",
    "fig, ax = plt.subplots(subplot_kw={\"projection\": \"3d\"})\n",
    "x = list(range(pimage.shape[1]))\n",
    "y = list(range(pimage.shape[0]))\n",
    "x, y = np.meshgrid(x,y)\n",
    "ax.plot_surface(x, y, pimage, cmap=cm.gnuplot2,linewidth=0.0, edgecolor=\"black\", vmax=255)\n",
    "ax.set_zlim(0,700)\n",
    "ax.set_axis_off()\n",
    "plt.savefig(\n",
    "    'early_ltd.pdf'.format(ax.azim, ax.dist, ax.elev),\n",
    "    format='pdf',\n",
    "    bbox_inches='tight'\n",
    ")"
   ]
  },
  {
   "cell_type": "code",
   "execution_count": 15,
   "id": "fc9f94a6",
   "metadata": {},
   "outputs": [],
   "source": [
    "# Load image 2\n",
    "image_path2 =  r\"C:\\Users\\Jake\\Desktop\\Figures\\Examples\\Example_images\\s_LTP_examples\\JW153_FOV2_apical\\late_spine_cropped_ltd.tif\"\n",
    "image2 = sio.imread(image_path2, plugin=\"tifffile\")"
   ]
  },
  {
   "cell_type": "code",
   "execution_count": 20,
   "id": "d439b437",
   "metadata": {},
   "outputs": [
    {
     "name": "stderr",
     "output_type": "stream",
     "text": [
      "C:\\Users\\Jake\\AppData\\Local\\Temp\\ipykernel_19812\\416661088.py:13: MatplotlibDeprecationWarning: The dist attribute was deprecated in Matplotlib 3.6 and will be removed two minor releases later.\n",
      "  'late_ltd.pdf'.format(ax2.azim, ax2.dist, ax2.elev),\n"
     ]
    }
   ],
   "source": [
    "# Plot image 2 mesh plot\n",
    "pimage2 = padded = np.pad(image2, pad_width=13, constant_values=0)\n",
    "pimage2 = pimage2[13:, 6:-6]\n",
    "pimage2 = image2\n",
    "fig2, ax2 = plt.subplots(subplot_kw={\"projection\": \"3d\"})\n",
    "x = list(range(pimage2.shape[1]))\n",
    "y = list(range(pimage2.shape[0]))\n",
    "x, y = np.meshgrid(x,y)\n",
    "ax2.plot_surface(x, y, pimage2, cmap=cm.gnuplot2,linewidth=0.0, edgecolor=\"black\", vmax=110)\n",
    "ax2.set_zlim(0,350)\n",
    "ax2.set_axis_off()\n",
    "fig2.savefig(\n",
    "    'late_ltd.pdf'.format(ax2.azim, ax2.dist, ax2.elev),\n",
    "    format='pdf',\n",
    "    bbox_inches='tight'\n",
    ")"
   ]
  },
  {
   "cell_type": "code",
   "execution_count": null,
   "id": "ed6518b1",
   "metadata": {},
   "outputs": [],
   "source": []
  }
 ],
 "metadata": {
  "kernelspec": {
   "display_name": "Python 3 (ipykernel)",
   "language": "python",
   "name": "python3"
  },
  "language_info": {
   "codemirror_mode": {
    "name": "ipython",
    "version": 3
   },
   "file_extension": ".py",
   "mimetype": "text/x-python",
   "name": "python",
   "nbconvert_exporter": "python",
   "pygments_lexer": "ipython3",
   "version": "3.8.15"
  }
 },
 "nbformat": 4,
 "nbformat_minor": 5
}
