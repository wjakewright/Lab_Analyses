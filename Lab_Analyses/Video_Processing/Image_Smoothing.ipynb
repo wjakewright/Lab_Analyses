{
 "cells": [
  {
   "cell_type": "code",
   "execution_count": null,
   "id": "d157dea6",
   "metadata": {},
   "outputs": [],
   "source": [
    "import os\n",
    "import cv2\n",
    "import numpy as np\n",
    "import matplotlib.pyplot as plt\n",
    "from skimage import io as sio\n",
    "from tifffile import imsave\n",
    "%matplotlib inline"
   ]
  },
  {
   "cell_type": "code",
   "execution_count": null,
   "id": "6e7f73d9",
   "metadata": {},
   "outputs": [],
   "source": [
    "# Load the image\n",
    "image_path = r\"C:\\Users\\Jake\\Desktop\\Figures\\Examples\\Example_images\\coactivity_plasticity\\Local_Coactivity\\basal_stable\\AVG_JW213_Pre.tif\"\n",
    "image = sio.imread(image_path, plugin=\"tifffile\")"
   ]
  },
  {
   "cell_type": "code",
   "execution_count": null,
   "id": "39506acb",
   "metadata": {},
   "outputs": [],
   "source": [
    "# Examine the initial image\n",
    "plt.figure()\n",
    "plt.imshow(image)"
   ]
  },
  {
   "cell_type": "code",
   "execution_count": null,
   "id": "c86f5808",
   "metadata": {},
   "outputs": [],
   "source": [
    "# Interpolate the image\n",
    "#int_img = cv2.resize(image,None, fx = 3, fy = 3, interpolation = cv2.INTER_LINEAR)\n",
    "int_img = cv2.resize(image,(1000,1000), interpolation = cv2.INTER_LINEAR)"
   ]
  },
  {
   "cell_type": "code",
   "execution_count": null,
   "id": "6a86f007",
   "metadata": {
    "scrolled": false
   },
   "outputs": [],
   "source": [
    "# Check image\n",
    "plt.figure()\n",
    "plt.imshow(int_img)"
   ]
  },
  {
   "cell_type": "code",
   "execution_count": null,
   "id": "8f919c11",
   "metadata": {},
   "outputs": [],
   "source": [
    "# Save Image\n",
    "save_path = r\"C:\\Users\\Jake\\Desktop\\Figures\\Examples\\Example_images\\coactivity_plasticity\\Local_Coactivity\\basal_stable\\AVG_JW213_Pre.tif\"\n",
    "imsave(save_path, int_img)"
   ]
  },
  {
   "cell_type": "code",
   "execution_count": null,
   "id": "0ceeaceb",
   "metadata": {},
   "outputs": [],
   "source": []
  }
 ],
 "metadata": {
  "kernelspec": {
   "display_name": "Python 3 (ipykernel)",
   "language": "python",
   "name": "python3"
  },
  "language_info": {
   "codemirror_mode": {
    "name": "ipython",
    "version": 3
   },
   "file_extension": ".py",
   "mimetype": "text/x-python",
   "name": "python",
   "nbconvert_exporter": "python",
   "pygments_lexer": "ipython3",
   "version": "3.8.18"
  }
 },
 "nbformat": 4,
 "nbformat_minor": 5
}
