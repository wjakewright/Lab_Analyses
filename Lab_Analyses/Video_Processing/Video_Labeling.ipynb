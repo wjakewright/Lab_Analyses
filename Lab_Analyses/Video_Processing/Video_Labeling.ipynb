{
 "cells": [
  {
   "cell_type": "markdown",
   "id": "d8e1fef4",
   "metadata": {},
   "source": [
    "# Video Labeling\n",
    "Jupyter implementation of the label_video.py function"
   ]
  },
  {
   "cell_type": "code",
   "execution_count": 1,
   "id": "742929dc",
   "metadata": {},
   "outputs": [],
   "source": [
    "import label_video_v2\n",
    "from Lab_Analyses.Utilities.save_load_pickle import load_pickle"
   ]
  },
  {
   "cell_type": "code",
   "execution_count": 6,
   "id": "1941878a",
   "metadata": {},
   "outputs": [],
   "source": [
    "img_dir = r'C:\\Users\\Jake\\Desktop\\temp_data\\JW130\\plane_1' # Directory where images are located\n",
    "out_name = 'JW129_dendritic' # Name to save the video as\n",
    "fnames = ['JW095_220606_10mw_Dendrite_processed_lever_data'] # Name of the pickle file with relevant behavioral information\n",
    "path = r'C:\\Users\\Jake\\Desktop\\Analyzed_data\\individual\\JW092' # Path of where the pickle file is located\n",
    "#data = load_pickle(fnames,path)[0]"
   ]
  },
  {
   "cell_type": "code",
   "execution_count": null,
   "id": "863652a7",
   "metadata": {},
   "outputs": [],
   "source": [
    "#data.__dict__.keys()"
   ]
  },
  {
   "cell_type": "code",
   "execution_count": null,
   "id": "21966dda",
   "metadata": {},
   "outputs": [],
   "source": [
    "# Get relevant behavioral data\n",
    "### Get itis from optogenetic stimulation data\n",
    "data = data.behavior_frames\n",
    "itis = []\n",
    "for i in data:\n",
    "    iti = list(i.states.iti2)\n",
    "    itis.append(iti)"
   ]
  },
  {
   "cell_type": "code",
   "execution_count": 3,
   "id": "ffac6516",
   "metadata": {},
   "outputs": [],
   "source": [
    "itis=None"
   ]
  },
  {
   "cell_type": "code",
   "execution_count": 7,
   "id": "fb73a555",
   "metadata": {},
   "outputs": [
    {
     "name": "stdout",
     "output_type": "stream",
     "text": [
      "['JW130_RedCh_plane_1_00000.tif', 'JW130_RedCh_plane_1_00001.tif', 'JW130_RedCh_plane_1_00002.tif', 'JW130_RedCh_plane_1_00003.tif', 'JW130_RedCh_plane_1_00004.tif', 'JW130_RedCh_plane_1_00005.tif']\n",
      "Processed Image 1\n",
      "Processed Image 2\n",
      "Processed Image 3\n",
      "Processed Image 4\n",
      "Processed Image 5\n",
      "Processed Image 6\n"
     ]
    }
   ],
   "source": [
    "# Create the video\n",
    "# filter_param=[5,5,1,1]\n",
    "label_video_v2.label_video(img_dir=img_dir,labels=itis,out_name=out_name, save_dir=r'C:\\Users\\Jake\\Desktop\\temp_data',\n",
    "                        avg_rate=30, ds_rate=None, img_range=None, gamma=0.5, resize=None,\n",
    "                        low_thresh=50)"
   ]
  },
  {
   "cell_type": "code",
   "execution_count": null,
   "id": "7eb7fda5",
   "metadata": {},
   "outputs": [],
   "source": []
  },
  {
   "cell_type": "code",
   "execution_count": null,
   "id": "402a7e3b",
   "metadata": {},
   "outputs": [],
   "source": []
  },
  {
   "cell_type": "code",
   "execution_count": null,
   "id": "b048d3b6",
   "metadata": {},
   "outputs": [],
   "source": []
  }
 ],
 "metadata": {
  "kernelspec": {
   "display_name": "Python 3 (ipykernel)",
   "language": "python",
   "name": "python3"
  },
  "language_info": {
   "codemirror_mode": {
    "name": "ipython",
    "version": 3
   },
   "file_extension": ".py",
   "mimetype": "text/x-python",
   "name": "python",
   "nbconvert_exporter": "python",
   "pygments_lexer": "ipython3",
   "version": "3.8.15"
  }
 },
 "nbformat": 4,
 "nbformat_minor": 5
}
