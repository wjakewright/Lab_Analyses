{
 "cells": [
  {
   "cell_type": "markdown",
   "id": "d8e1fef4",
   "metadata": {},
   "source": [
    "# Video Labeling\n",
    "Jupyter implementation of the label_video.py function"
   ]
  },
  {
   "cell_type": "code",
   "execution_count": null,
   "id": "742929dc",
   "metadata": {},
   "outputs": [],
   "source": [
    "import label_video\n",
    "from Lab_Analyses.Utilities.save_load_pickle import load_pickle"
   ]
  },
  {
   "cell_type": "code",
   "execution_count": null,
   "id": "1941878a",
   "metadata": {},
   "outputs": [],
   "source": [
    "img_dir = r'Z:\\People\\Jake\\Data\\JW015\\211113\\10mw' # Directory where images are located\n",
    "out_name = 'JW015_211113_10mw' # Name to save the video ass\n",
    "fnames = ['JW015_211113_10mw'] # Name of the pickle file with relevant behavioral information\n",
    "path = r'C:\\Users\\Jake\\Desktop\\Processed_data\\python_data\\JW015\\dend_1113' # Path of where the pickle file is located\n"
   ]
  },
  {
   "cell_type": "code",
   "execution_count": null,
   "id": "21966dda",
   "metadata": {},
   "outputs": [],
   "source": [
    "# Get relevant behavioral data\n",
    "### Get itis from optogenetic stimulation data\n",
    "data = load_pickle(fnames,path)[0]\n",
    "data = data['behavior'].Behavior_Frames\n",
    "itis = []\n",
    "for i in data:\n",
    "    iti = list(i.states.iti2)\n",
    "    itis.append(iti)"
   ]
  },
  {
   "cell_type": "code",
   "execution_count": null,
   "id": "fb73a555",
   "metadata": {},
   "outputs": [],
   "source": [
    "# Create the video\n",
    "# filter_param=[5,5,1,1]\n",
    "label_video.label_video(img_dir=img_dir,labels=itis,out_name=out_name,\n",
    "                        image_rate=30,speed=3,ds_rate=3,img_range=[0,3],scale=7,\n",
    "                        resize=(500,500),low_thresh=50,filter_param=[5,5,1,1])"
   ]
  },
  {
   "cell_type": "code",
   "execution_count": null,
   "id": "2cf61467",
   "metadata": {},
   "outputs": [],
   "source": []
  }
 ],
 "metadata": {
  "kernelspec": {
   "display_name": "Python 3 (ipykernel)",
   "language": "python",
   "name": "python3"
  },
  "language_info": {
   "codemirror_mode": {
    "name": "ipython",
    "version": 3
   },
   "file_extension": ".py",
   "mimetype": "text/x-python",
   "name": "python",
   "nbconvert_exporter": "python",
   "pygments_lexer": "ipython3",
   "version": "3.8.12"
  }
 },
 "nbformat": 4,
 "nbformat_minor": 5
}
