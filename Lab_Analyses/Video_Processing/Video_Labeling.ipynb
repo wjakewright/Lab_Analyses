{
 "cells": [
  {
   "cell_type": "markdown",
   "id": "d8e1fef4",
   "metadata": {},
   "source": [
    "# Video Labeling\n",
    "Jupyter implementation of the label_video.py function"
   ]
  },
  {
   "cell_type": "code",
   "execution_count": 1,
   "id": "742929dc",
   "metadata": {},
   "outputs": [],
   "source": [
    "import label_video\n",
    "from Lab_Analyses.Utilities.save_load_pickle import load_pickle"
   ]
  },
  {
   "cell_type": "code",
   "execution_count": 2,
   "id": "1941878a",
   "metadata": {},
   "outputs": [],
   "source": [
    "img_dir = r'Z:\\People\\Jake\\Imaging_Data\\JW049\\220210\\FOV1\\10mw' # Directory where images are located\n",
    "out_name = 'JW049_220210_FOV1_10mw' # Name to save the video ass\n",
    "fnames = ['JW049_220210_10mw'] # Name of the pickle file with relevant behavioral information\n",
    "path = r'C:\\Users\\Jake\\Desktop\\Processed_data\\python_data\\JW049\\220210\\FOV1' # Path of where the pickle file is located\n"
   ]
  },
  {
   "cell_type": "code",
   "execution_count": 3,
   "id": "21966dda",
   "metadata": {},
   "outputs": [],
   "source": [
    "# Get relevant behavioral data\n",
    "### Get itis from optogenetic stimulation data\n",
    "data = load_pickle(fnames,path)[0]\n",
    "data = data['behavior'].Behavior_Frames\n",
    "itis = []\n",
    "for i in data:\n",
    "    iti = list(i.states.iti2)\n",
    "    itis.append(iti)"
   ]
  },
  {
   "cell_type": "code",
   "execution_count": 4,
   "id": "fb73a555",
   "metadata": {},
   "outputs": [],
   "source": [
    "# Create the video\n",
    "# filter_param=[5,5,1,1]\n",
    "label_video.label_video(img_dir=img_dir,labels=itis,out_name=out_name,\n",
    "                        image_rate=30,speed=3,ds_rate=3,img_range=[0,3],gamma=1,\n",
    "                        resize=(500,500),low_thresh=50,filter_param=[5,5,1,1])"
   ]
  },
  {
   "cell_type": "code",
   "execution_count": 5,
   "id": "2cf61467",
   "metadata": {},
   "outputs": [],
   "source": [
    "img_dir = r'Z:\\People\\Jake\\Imaging_Data\\JW051\\220214\\FOV1\\10mw' # Directory where images are located\n",
    "out_name = 'JW051_220214_FOV1_10mw' # Name to save the video ass\n",
    "fnames = ['JW051_220214_10mw'] # Name of the pickle file with relevant behavioral information\n",
    "path = r'C:\\Users\\Jake\\Desktop\\Processed_data\\python_data\\JW051\\220214\\FOV1' # Path of where the pickle file is located\n",
    "\n",
    "# Get relevant behavioral data\n",
    "### Get itis from optogenetic stimulation data\n",
    "data = load_pickle(fnames,path)[0]\n",
    "data = data['behavior'].Behavior_Frames\n",
    "itis = []\n",
    "for i in data:\n",
    "    iti = list(i.states.iti2)\n",
    "    itis.append(iti)\n",
    "\n",
    "    # Create the video\n",
    "# filter_param=[5,5,1,1]\n",
    "label_video.label_video(img_dir=img_dir,labels=itis,out_name=out_name,\n",
    "                        image_rate=30,speed=3,ds_rate=3,img_range=[0,3],gamma=1,\n",
    "                        resize=(500,500),low_thresh=50,filter_param=[5,5,1,1])"
   ]
  },
  {
   "cell_type": "code",
   "execution_count": 6,
   "id": "9494b481",
   "metadata": {},
   "outputs": [],
   "source": [
    "img_dir = r'Z:\\People\\Jake\\Imaging_Data\\JW049\\220215\\FOV3_d\\10mw' # Directory where images are located\n",
    "out_name = 'JW049_220215_FOV3d_10mw' # Name to save the video ass\n",
    "fnames = ['JW049_220215_10mw'] # Name of the pickle file with relevant behavioral information\n",
    "path = r'C:\\Users\\Jake\\Desktop\\Processed_data\\python_data\\JW049\\220215\\FOV3_d' # Path of where the pickle file is located\n",
    "\n",
    "# Get relevant behavioral data\n",
    "### Get itis from optogenetic stimulation data\n",
    "data = load_pickle(fnames,path)[0]\n",
    "data = data['behavior'].Behavior_Frames\n",
    "itis = []\n",
    "for i in data:\n",
    "    iti = list(i.states.iti2)\n",
    "    itis.append(iti)\n",
    "\n",
    "    # Create the video\n",
    "# filter_param=[5,5,1,1]\n",
    "label_video.label_video(img_dir=img_dir,labels=itis,out_name=out_name,\n",
    "                        image_rate=30,speed=3,ds_rate=3,img_range=[0,3],gamma=1,\n",
    "                        resize=(500,500),low_thresh=50,filter_param=[5,5,1,1])"
   ]
  }
 ],
 "metadata": {
  "kernelspec": {
   "display_name": "Python 3 (ipykernel)",
   "language": "python",
   "name": "python3"
  },
  "language_info": {
   "codemirror_mode": {
    "name": "ipython",
    "version": 3
   },
   "file_extension": ".py",
   "mimetype": "text/x-python",
   "name": "python",
   "nbconvert_exporter": "python",
   "pygments_lexer": "ipython3",
   "version": "3.9.7"
  }
 },
 "nbformat": 4,
 "nbformat_minor": 5
}
