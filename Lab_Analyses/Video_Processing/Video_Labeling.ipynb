{
 "cells": [
  {
   "cell_type": "markdown",
   "id": "d8e1fef4",
   "metadata": {},
   "source": [
    "# Video Labeling\n",
    "Jupyter implementation of the label_video.py function"
   ]
  },
  {
   "cell_type": "code",
   "execution_count": null,
   "id": "742929dc",
   "metadata": {},
   "outputs": [],
   "source": [
    "import label_video_v2\n",
    "from Lab_Analyses.Utilities.save_load_pickle import load_pickle"
   ]
  },
  {
   "cell_type": "code",
   "execution_count": null,
   "id": "1941878a",
   "metadata": {},
   "outputs": [],
   "source": [
    "img_dir = r'Z:\\People\\Jake\\Imaging_Data\\JW004\\211018\\10mw' # Directory where images are located\n",
    "out_name = 'JW004_211018_soma_10mw' # Name to save the video ass\n",
    "fnames = ['JW004_211018_10mw'] # Name of the pickle file with relevant behavioral information\n",
    "path = r'C:\\Users\\Jake\\Desktop\\Processed_data\\python_data\\JW004' # Path of where the pickle file is located\n"
   ]
  },
  {
   "cell_type": "code",
   "execution_count": null,
   "id": "21966dda",
   "metadata": {},
   "outputs": [],
   "source": [
    "# Get relevant behavioral data\n",
    "### Get itis from optogenetic stimulation data\n",
    "data = load_pickle(fnames,path)[0]\n",
    "data = data['behavior'].Behavior_Frames\n",
    "itis = []\n",
    "for i in data:\n",
    "    iti = list(i.states.iti2)\n",
    "    itis.append(iti)"
   ]
  },
  {
   "cell_type": "code",
   "execution_count": null,
   "id": "fb73a555",
   "metadata": {},
   "outputs": [],
   "source": [
    "# Create the video\n",
    "# filter_param=[5,5,1,1]\n",
    "label_video_v2.label_video(img_dir=img_dir,labels=itis,out_name=out_name, save_dir=path,\n",
    "                        avg_rate=15, ds_rate=None, img_range=(0,4), gamma=3, resize=None,\n",
    "                        low_thresh=50)"
   ]
  },
  {
   "cell_type": "code",
   "execution_count": null,
   "id": "7eb7fda5",
   "metadata": {},
   "outputs": [],
   "source": []
  },
  {
   "cell_type": "code",
   "execution_count": null,
   "id": "402a7e3b",
   "metadata": {},
   "outputs": [],
   "source": []
  },
  {
   "cell_type": "code",
   "execution_count": null,
   "id": "b048d3b6",
   "metadata": {},
   "outputs": [],
   "source": []
  }
 ],
 "metadata": {
  "kernelspec": {
   "display_name": "Python 3 (ipykernel)",
   "language": "python",
   "name": "python3"
  },
  "language_info": {
   "codemirror_mode": {
    "name": "ipython",
    "version": 3
   },
   "file_extension": ".py",
   "mimetype": "text/x-python",
   "name": "python",
   "nbconvert_exporter": "python",
   "pygments_lexer": "ipython3",
   "version": "3.9.7"
  }
 },
 "nbformat": 4,
 "nbformat_minor": 5
}
