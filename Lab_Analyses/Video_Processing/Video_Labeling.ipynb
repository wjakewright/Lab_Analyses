{
 "cells": [
  {
   "cell_type": "markdown",
   "id": "d8e1fef4",
   "metadata": {},
   "source": [
    "# Video Labeling\n",
    "Jupyter implementation of the label_video.py function"
   ]
  },
  {
   "cell_type": "code",
   "execution_count": 1,
   "id": "742929dc",
   "metadata": {},
   "outputs": [],
   "source": [
    "import label_video_v2\n",
    "from Lab_Analyses.Utilities.save_load_pickle import load_pickle"
   ]
  },
  {
   "cell_type": "code",
   "execution_count": 5,
   "id": "1941878a",
   "metadata": {},
   "outputs": [],
   "source": [
    "img_dir = r'Z:\\People\\Jake\\Imaging_Data\\JW126\\221018\\FOV2\\RedCh' # Directory where images are located\n",
    "out_name = 'JW126_dendritic_RCh' # Name to save the video as\n",
    "fnames = ['JW095_220606_10mw_Dendrite_processed_lever_data'] # Name of the pickle file with relevant behavioral information\n",
    "path = r'C:\\Users\\Jake\\Desktop\\Analyzed_data\\individual\\JW092' # Path of where the pickle file is located\n",
    "#data = load_pickle(fnames,path)[0]"
   ]
  },
  {
   "cell_type": "code",
   "execution_count": null,
   "id": "863652a7",
   "metadata": {},
   "outputs": [],
   "source": [
    "#data.__dict__.keys()"
   ]
  },
  {
   "cell_type": "code",
   "execution_count": null,
   "id": "21966dda",
   "metadata": {},
   "outputs": [],
   "source": [
    "# Get relevant behavioral data\n",
    "### Get itis from optogenetic stimulation data\n",
    "data = data.behavior_frames\n",
    "itis = []\n",
    "for i in data:\n",
    "    iti = list(i.states.iti2)\n",
    "    itis.append(iti)"
   ]
  },
  {
   "cell_type": "code",
   "execution_count": 3,
   "id": "ffac6516",
   "metadata": {},
   "outputs": [],
   "source": [
    "itis=None"
   ]
  },
  {
   "cell_type": "code",
   "execution_count": 6,
   "id": "fb73a555",
   "metadata": {},
   "outputs": [
    {
     "name": "stdout",
     "output_type": "stream",
     "text": [
      "Processed Image 1\n",
      "Processed Image 2\n",
      "Processed Image 3\n",
      "Processed Image 4\n",
      "Processed Image 5\n",
      "Processed Image 6\n",
      "Processed Image 7\n",
      "Processed Image 8\n",
      "Processed Image 9\n",
      "Processed Image 10\n"
     ]
    }
   ],
   "source": [
    "# Create the video\n",
    "# filter_param=[5,5,1,1]\n",
    "label_video_v2.label_video(img_dir=img_dir,labels=itis,out_name=out_name, save_dir=r'C:\\Users\\Jake\\Desktop\\temp_data',\n",
    "                        avg_rate=15, ds_rate=None, img_range=(0,10), gamma=1.5, resize=None,\n",
    "                        low_thresh=0)"
   ]
  },
  {
   "cell_type": "code",
   "execution_count": null,
   "id": "7eb7fda5",
   "metadata": {},
   "outputs": [],
   "source": []
  },
  {
   "cell_type": "code",
   "execution_count": 7,
   "id": "402a7e3b",
   "metadata": {},
   "outputs": [],
   "source": [
    "a = {\n",
    "    \"a\": [1,1,1,1,1,1],\n",
    "    \"b\": [2,2,2,2,2,2],\n",
    "    \"c\": [3,3,3,3,3,3],\n",
    "}"
   ]
  },
  {
   "cell_type": "code",
   "execution_count": 8,
   "id": "b048d3b6",
   "metadata": {},
   "outputs": [],
   "source": [
    "import pandas as pd\n",
    "df = pd.DataFrame(dict([(k, pd.Series(v)) for k, v in a.items()]))"
   ]
  },
  {
   "cell_type": "code",
   "execution_count": 10,
   "id": "cd90929b",
   "metadata": {},
   "outputs": [
    {
     "data": {
      "text/html": [
       "<div>\n",
       "<style scoped>\n",
       "    .dataframe tbody tr th:only-of-type {\n",
       "        vertical-align: middle;\n",
       "    }\n",
       "\n",
       "    .dataframe tbody tr th {\n",
       "        vertical-align: top;\n",
       "    }\n",
       "\n",
       "    .dataframe thead th {\n",
       "        text-align: right;\n",
       "    }\n",
       "</style>\n",
       "<table border=\"1\" class=\"dataframe\">\n",
       "  <thead>\n",
       "    <tr style=\"text-align: right;\">\n",
       "      <th></th>\n",
       "      <th>Group</th>\n",
       "      <th>value</th>\n",
       "    </tr>\n",
       "  </thead>\n",
       "  <tbody>\n",
       "    <tr>\n",
       "      <th>0</th>\n",
       "      <td>a</td>\n",
       "      <td>1</td>\n",
       "    </tr>\n",
       "    <tr>\n",
       "      <th>1</th>\n",
       "      <td>a</td>\n",
       "      <td>1</td>\n",
       "    </tr>\n",
       "    <tr>\n",
       "      <th>2</th>\n",
       "      <td>a</td>\n",
       "      <td>1</td>\n",
       "    </tr>\n",
       "    <tr>\n",
       "      <th>3</th>\n",
       "      <td>a</td>\n",
       "      <td>1</td>\n",
       "    </tr>\n",
       "    <tr>\n",
       "      <th>4</th>\n",
       "      <td>a</td>\n",
       "      <td>1</td>\n",
       "    </tr>\n",
       "    <tr>\n",
       "      <th>5</th>\n",
       "      <td>a</td>\n",
       "      <td>1</td>\n",
       "    </tr>\n",
       "    <tr>\n",
       "      <th>6</th>\n",
       "      <td>b</td>\n",
       "      <td>2</td>\n",
       "    </tr>\n",
       "    <tr>\n",
       "      <th>7</th>\n",
       "      <td>b</td>\n",
       "      <td>2</td>\n",
       "    </tr>\n",
       "    <tr>\n",
       "      <th>8</th>\n",
       "      <td>b</td>\n",
       "      <td>2</td>\n",
       "    </tr>\n",
       "    <tr>\n",
       "      <th>9</th>\n",
       "      <td>b</td>\n",
       "      <td>2</td>\n",
       "    </tr>\n",
       "    <tr>\n",
       "      <th>10</th>\n",
       "      <td>b</td>\n",
       "      <td>2</td>\n",
       "    </tr>\n",
       "    <tr>\n",
       "      <th>11</th>\n",
       "      <td>b</td>\n",
       "      <td>2</td>\n",
       "    </tr>\n",
       "    <tr>\n",
       "      <th>12</th>\n",
       "      <td>c</td>\n",
       "      <td>3</td>\n",
       "    </tr>\n",
       "    <tr>\n",
       "      <th>13</th>\n",
       "      <td>c</td>\n",
       "      <td>3</td>\n",
       "    </tr>\n",
       "    <tr>\n",
       "      <th>14</th>\n",
       "      <td>c</td>\n",
       "      <td>3</td>\n",
       "    </tr>\n",
       "    <tr>\n",
       "      <th>15</th>\n",
       "      <td>c</td>\n",
       "      <td>3</td>\n",
       "    </tr>\n",
       "    <tr>\n",
       "      <th>16</th>\n",
       "      <td>c</td>\n",
       "      <td>3</td>\n",
       "    </tr>\n",
       "    <tr>\n",
       "      <th>17</th>\n",
       "      <td>c</td>\n",
       "      <td>3</td>\n",
       "    </tr>\n",
       "  </tbody>\n",
       "</table>\n",
       "</div>"
      ],
      "text/plain": [
       "   Group  value\n",
       "0      a      1\n",
       "1      a      1\n",
       "2      a      1\n",
       "3      a      1\n",
       "4      a      1\n",
       "5      a      1\n",
       "6      b      2\n",
       "7      b      2\n",
       "8      b      2\n",
       "9      b      2\n",
       "10     b      2\n",
       "11     b      2\n",
       "12     c      3\n",
       "13     c      3\n",
       "14     c      3\n",
       "15     c      3\n",
       "16     c      3\n",
       "17     c      3"
      ]
     },
     "execution_count": 10,
     "metadata": {},
     "output_type": "execute_result"
    }
   ],
   "source": [
    "pd.melt(df, value_vars=df.columns, var_name=\"Group\")"
   ]
  },
  {
   "cell_type": "code",
   "execution_count": null,
   "id": "f72d4089",
   "metadata": {},
   "outputs": [],
   "source": []
  }
 ],
 "metadata": {
  "kernelspec": {
   "display_name": "Python 3 (ipykernel)",
   "language": "python",
   "name": "python3"
  },
  "language_info": {
   "codemirror_mode": {
    "name": "ipython",
    "version": 3
   },
   "file_extension": ".py",
   "mimetype": "text/x-python",
   "name": "python",
   "nbconvert_exporter": "python",
   "pygments_lexer": "ipython3",
   "version": "3.8.15"
  }
 },
 "nbformat": 4,
 "nbformat_minor": 5
}
