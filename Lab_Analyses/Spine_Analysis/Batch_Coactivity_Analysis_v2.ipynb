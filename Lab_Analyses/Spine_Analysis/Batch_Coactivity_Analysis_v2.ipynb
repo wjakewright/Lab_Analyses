{
 "cells": [
  {
   "cell_type": "markdown",
   "metadata": {},
   "source": [
    "# Batch Lever Press Analysis\n",
    "## Notebook for preprocessing and analyzing coactivity spine data"
   ]
  },
  {
   "cell_type": "code",
   "execution_count": 1,
   "metadata": {},
   "outputs": [],
   "source": [
    "import os\n",
    "import numpy as np\n",
    "from Lab_Analyses.Spine_Analysis.preprocess_spine_data import organize_dual_spine_data\n",
    "from Lab_Analyses.Spine_Analysis.grouped_coactivity_analysis import grouped_coactivity_analysis\n",
    "from Lab_Analyses.Spine_Analysis.coactivity_plasticity_analysis_v2 import Coactivity_Plasticity\n",
    "from Lab_Analyses.Utilities.save_load_pickle import load_pickle"
   ]
  },
  {
   "cell_type": "markdown",
   "metadata": {},
   "source": [
    "### Datasets\n",
    "Specify mice which mice to be processed and analyzed"
   ]
  },
  {
   "cell_type": "code",
   "execution_count": 2,
   "metadata": {},
   "outputs": [],
   "source": [
    "# Mouse ids\n",
    "id_1 = \"JW082\"\n",
    "id_2 = \"JW083\"\n",
    "id_3 = \"JW090\"\n",
    "id_4 = \"JW092\"\n",
    "id_5 = \"JW126\"\n",
    "id_6 = \"JW129\"\n",
    "id_7 = \"JW130\"\n",
    "\n",
    "mouse_list = [id_1, id_2, id_3, id_4, id_5, id_6, id_7]\n",
    "#mouse_list = [id_4, id_6]"
   ]
  },
  {
   "cell_type": "markdown",
   "metadata": {},
   "source": [
    "### Preprocessing\n",
    "Preprocess spine datasets"
   ]
  },
  {
   "cell_type": "code",
   "execution_count": 3,
   "metadata": {},
   "outputs": [],
   "source": [
    "# Do you want to reprocess the data\n",
    "reprocess = False\n",
    "channels = {\"GluSnFr\": \"GreenCh\", \"Calcium\": \"RedCh\"}\n",
    "\n",
    "# Process data\n",
    "if reprocess:\n",
    "    for mouse in mouse_list:\n",
    "        organize_dual_spine_data(mouse, channels, redetection=True, save=True, structural=True)"
   ]
  },
  {
   "cell_type": "markdown",
   "metadata": {},
   "source": [
    "### Grouped Coactivity Analysis\n",
    "Perform coactivity analysis across all mice and FOVs for a given set of imaging sessions"
   ]
  },
  {
   "cell_type": "code",
   "execution_count": 4,
   "metadata": {
    "scrolled": false
   },
   "outputs": [
    {
     "name": "stdout",
     "output_type": "stream",
     "text": [
      "-Early\n",
      "---------------------------------\n",
      "- Analyzing JW082\n",
      "-- Local Coactivity Analysis\n",
      "--- Analyzing Distance-Dependence Coactivity\n"
     ]
    },
    {
     "name": "stderr",
     "output_type": "stream",
     "text": [
      "C:\\Users\\Jake\\Documents\\Anaconda3\\envs\\analysis_env\\lib\\site-packages\\scipy\\stats\\stats.py:275: RuntimeWarning: divide by zero encountered in log\n",
      "  log_a = np.log(np.array(a, dtype=dtype))\n",
      "c:\\users\\jake\\desktop\\python_code\\lab_analyses\\Lab_Analyses\\Spine_Analysis\\distance_coactivity_rate_analysis.py:151: RuntimeWarning: invalid value encountered in double_scalars\n",
      "  coactivity_rate = event_freq / geo_mean\n",
      "c:\\users\\jake\\desktop\\python_code\\lab_analyses\\Lab_Analyses\\Spine_Analysis\\distance_coactivity_rate_analysis.py:168: RuntimeWarning: Mean of empty slice\n",
      "  binned_data.append(np.nanmean(data[idxs]))\n"
     ]
    },
    {
     "name": "stdout",
     "output_type": "stream",
     "text": [
      "--- Calculating Cluster Score\n"
     ]
    },
    {
     "name": "stderr",
     "output_type": "stream",
     "text": [
      "c:\\users\\jake\\desktop\\python_code\\lab_analyses\\Lab_Analyses\\Spine_Analysis\\calculate_cluster_score.py:108: RuntimeWarning: Mean of empty slice\n",
      "  shuff_nn_distance = np.nanmean(all_shuff_nn_distances)\n"
     ]
    },
    {
     "name": "stdout",
     "output_type": "stream",
     "text": [
      "--- Analyzing Absolute Coactivity\n",
      "-- Spine-Dendrite Coactivity Analysis\n",
      "--- Analyzing Absolute Coactivity\n",
      "--- Analyzing Distance-Dependence Coactivity\n",
      "--- Calculating Cluster Score\n",
      "-- Movement-Related Activity Analysis\n",
      "-- Assessing Movement Quality\n"
     ]
    },
    {
     "name": "stderr",
     "output_type": "stream",
     "text": [
      "c:\\users\\jake\\desktop\\python_code\\lab_analyses\\Lab_Analyses\\Behavior\\mouse_lever_behavior.py:266: RuntimeWarning: invalid value encountered in true_divide\n",
      "  pcorr = (p1 - p2) / np.sqrt(p4 * p3[:, None])\n",
      "C:\\Users\\Jake\\Documents\\Anaconda3\\envs\\analysis_env\\lib\\site-packages\\numpy\\lib\\nanfunctions.py:1119: RuntimeWarning: All-NaN slice encountered\n",
      "  r, k = function_base._ureduce(a, func=_nanmedian, axis=axis, out=out,\n",
      "c:\\users\\jake\\desktop\\python_code\\lab_analyses\\Lab_Analyses\\Utilities\\quantify_movment_quality.py:265: RuntimeWarning: Mean of empty slice\n",
      "  avg_nearby_corr = np.nanmean(nearby_corrs)\n"
     ]
    },
    {
     "name": "stdout",
     "output_type": "stream",
     "text": [
      "---------------------------------\n",
      "- Analyzing JW083\n",
      "-- Local Coactivity Analysis\n",
      "--- Analyzing Distance-Dependence Coactivity\n",
      "--- Calculating Cluster Score\n"
     ]
    },
    {
     "name": "stderr",
     "output_type": "stream",
     "text": [
      "c:\\users\\jake\\desktop\\python_code\\lab_analyses\\Lab_Analyses\\Spine_Analysis\\calculate_cluster_score.py:153: RuntimeWarning: Mean of empty slice\n",
      "  avg_nearest_neighbor = np.nanmean(nearest_neighbor)\n",
      "c:\\users\\jake\\desktop\\python_code\\lab_analyses\\Lab_Analyses\\Spine_Analysis\\calculate_cluster_score.py:154: RuntimeWarning: Mean of empty slice\n",
      "  avg_num_coactive = np.nanmean(number_coactive)\n"
     ]
    },
    {
     "name": "stdout",
     "output_type": "stream",
     "text": [
      "--- Analyzing Absolute Coactivity\n",
      "-- Spine-Dendrite Coactivity Analysis\n",
      "--- Analyzing Absolute Coactivity\n",
      "--- Analyzing Distance-Dependence Coactivity\n",
      "--- Calculating Cluster Score\n",
      "-- Movement-Related Activity Analysis\n",
      "-- Assessing Movement Quality\n",
      "---------------------------------\n",
      "- Analyzing JW090\n",
      "-- Local Coactivity Analysis\n",
      "--- Analyzing Distance-Dependence Coactivity\n",
      "--- Calculating Cluster Score\n",
      "--- Analyzing Absolute Coactivity\n",
      "-- Spine-Dendrite Coactivity Analysis\n",
      "--- Analyzing Absolute Coactivity\n",
      "--- Analyzing Distance-Dependence Coactivity\n",
      "--- Calculating Cluster Score\n",
      "-- Movement-Related Activity Analysis\n",
      "-- Assessing Movement Quality\n",
      "-- Local Coactivity Analysis\n",
      "--- Analyzing Distance-Dependence Coactivity\n",
      "--- Calculating Cluster Score\n",
      "--- Analyzing Absolute Coactivity\n",
      "-- Spine-Dendrite Coactivity Analysis\n",
      "--- Analyzing Absolute Coactivity\n",
      "--- Analyzing Distance-Dependence Coactivity\n",
      "--- Calculating Cluster Score\n",
      "-- Movement-Related Activity Analysis\n",
      "-- Assessing Movement Quality\n",
      "---------------------------------\n",
      "- Analyzing JW092\n",
      "-- Local Coactivity Analysis\n",
      "--- Analyzing Distance-Dependence Coactivity\n",
      "--- Calculating Cluster Score\n",
      "--- Analyzing Absolute Coactivity\n"
     ]
    },
    {
     "name": "stderr",
     "output_type": "stream",
     "text": [
      "c:\\users\\jake\\desktop\\python_code\\lab_analyses\\Lab_Analyses\\Spine_Analysis\\relative_coactivity_analysis.py:39: RuntimeWarning: Mean of empty slice\n",
      "  avg_nearby_coactivity = np.nanmean(nearby_coactivity)\n"
     ]
    },
    {
     "name": "stdout",
     "output_type": "stream",
     "text": [
      "-- Spine-Dendrite Coactivity Analysis\n",
      "--- Analyzing Absolute Coactivity\n",
      "--- Analyzing Distance-Dependence Coactivity\n",
      "--- Calculating Cluster Score\n",
      "-- Movement-Related Activity Analysis\n",
      "-- Assessing Movement Quality\n",
      "-- Local Coactivity Analysis\n",
      "--- Analyzing Distance-Dependence Coactivity\n",
      "--- Calculating Cluster Score\n",
      "--- Analyzing Absolute Coactivity\n",
      "-- Spine-Dendrite Coactivity Analysis\n",
      "--- Analyzing Absolute Coactivity\n",
      "--- Analyzing Distance-Dependence Coactivity\n",
      "--- Calculating Cluster Score\n",
      "-- Movement-Related Activity Analysis\n",
      "-- Assessing Movement Quality\n",
      "---------------------------------\n",
      "- Analyzing JW126\n",
      "-- Local Coactivity Analysis\n",
      "--- Analyzing Distance-Dependence Coactivity\n",
      "--- Calculating Cluster Score\n",
      "--- Analyzing Absolute Coactivity\n",
      "-- Spine-Dendrite Coactivity Analysis\n",
      "--- Analyzing Absolute Coactivity\n",
      "--- Analyzing Distance-Dependence Coactivity\n",
      "--- Calculating Cluster Score\n",
      "-- Movement-Related Activity Analysis\n",
      "-- Assessing Movement Quality\n",
      "---------------------------------\n",
      "- Analyzing JW129\n",
      "-- Local Coactivity Analysis\n",
      "--- Analyzing Distance-Dependence Coactivity\n",
      "--- Calculating Cluster Score\n",
      "--- Analyzing Absolute Coactivity\n",
      "-- Spine-Dendrite Coactivity Analysis\n",
      "--- Analyzing Absolute Coactivity\n",
      "--- Analyzing Distance-Dependence Coactivity\n",
      "--- Calculating Cluster Score\n",
      "-- Movement-Related Activity Analysis\n",
      "-- Assessing Movement Quality\n",
      "-- Local Coactivity Analysis\n",
      "--- Analyzing Distance-Dependence Coactivity\n",
      "--- Calculating Cluster Score\n",
      "--- Analyzing Absolute Coactivity\n",
      "-- Spine-Dendrite Coactivity Analysis\n",
      "--- Analyzing Absolute Coactivity\n",
      "--- Analyzing Distance-Dependence Coactivity\n",
      "--- Calculating Cluster Score\n",
      "-- Movement-Related Activity Analysis\n",
      "-- Assessing Movement Quality\n",
      "---------------------------------\n",
      "- Analyzing JW130\n",
      "-- Local Coactivity Analysis\n",
      "--- Analyzing Distance-Dependence Coactivity\n",
      "--- Calculating Cluster Score\n",
      "--- Analyzing Absolute Coactivity\n"
     ]
    },
    {
     "name": "stderr",
     "output_type": "stream",
     "text": [
      "c:\\users\\jake\\desktop\\python_code\\lab_analyses\\Lab_Analyses\\Spine_Analysis\\relative_coactivity_analysis.py:44: RuntimeWarning: invalid value encountered in double_scalars\n",
      "  relative_coactivity = target_coactivity / avg_nearby_coactivity\n"
     ]
    },
    {
     "name": "stdout",
     "output_type": "stream",
     "text": [
      "-- Spine-Dendrite Coactivity Analysis\n",
      "--- Analyzing Absolute Coactivity\n",
      "--- Analyzing Distance-Dependence Coactivity\n",
      "--- Calculating Cluster Score\n",
      "-- Movement-Related Activity Analysis\n",
      "-- Assessing Movement Quality\n",
      "-Middle\n",
      "---------------------------------\n",
      "- Analyzing JW082\n",
      "-- Local Coactivity Analysis\n",
      "--- Analyzing Distance-Dependence Coactivity\n",
      "--- Calculating Cluster Score\n",
      "--- Analyzing Absolute Coactivity\n",
      "-- Spine-Dendrite Coactivity Analysis\n",
      "--- Analyzing Absolute Coactivity\n",
      "--- Analyzing Distance-Dependence Coactivity\n",
      "--- Calculating Cluster Score\n",
      "-- Movement-Related Activity Analysis\n",
      "-- Assessing Movement Quality\n",
      "---------------------------------\n",
      "- Analyzing JW083\n",
      "-- Local Coactivity Analysis\n",
      "--- Analyzing Distance-Dependence Coactivity\n",
      "--- Calculating Cluster Score\n",
      "--- Analyzing Absolute Coactivity\n",
      "-- Spine-Dendrite Coactivity Analysis\n",
      "--- Analyzing Absolute Coactivity\n",
      "--- Analyzing Distance-Dependence Coactivity\n",
      "--- Calculating Cluster Score\n",
      "-- Movement-Related Activity Analysis\n",
      "-- Assessing Movement Quality\n",
      "---------------------------------\n",
      "- Analyzing JW090\n",
      "-- Local Coactivity Analysis\n",
      "--- Analyzing Distance-Dependence Coactivity\n",
      "--- Calculating Cluster Score\n",
      "--- Analyzing Absolute Coactivity\n",
      "-- Spine-Dendrite Coactivity Analysis\n",
      "--- Analyzing Absolute Coactivity\n",
      "--- Analyzing Distance-Dependence Coactivity\n",
      "--- Calculating Cluster Score\n",
      "-- Movement-Related Activity Analysis\n",
      "-- Assessing Movement Quality\n",
      "-- Local Coactivity Analysis\n",
      "--- Analyzing Distance-Dependence Coactivity\n",
      "--- Calculating Cluster Score\n",
      "--- Analyzing Absolute Coactivity\n",
      "-- Spine-Dendrite Coactivity Analysis\n",
      "--- Analyzing Absolute Coactivity\n",
      "--- Analyzing Distance-Dependence Coactivity\n",
      "--- Calculating Cluster Score\n",
      "-- Movement-Related Activity Analysis\n",
      "-- Assessing Movement Quality\n",
      "---------------------------------\n",
      "- Analyzing JW092\n",
      "-- Local Coactivity Analysis\n",
      "--- Analyzing Distance-Dependence Coactivity\n",
      "--- Calculating Cluster Score\n",
      "--- Analyzing Absolute Coactivity\n",
      "-- Spine-Dendrite Coactivity Analysis\n",
      "--- Analyzing Absolute Coactivity\n",
      "--- Analyzing Distance-Dependence Coactivity\n",
      "--- Calculating Cluster Score\n",
      "-- Movement-Related Activity Analysis\n",
      "-- Assessing Movement Quality\n",
      "-- Local Coactivity Analysis\n",
      "--- Analyzing Distance-Dependence Coactivity\n",
      "--- Calculating Cluster Score\n",
      "--- Analyzing Absolute Coactivity\n",
      "-- Spine-Dendrite Coactivity Analysis\n",
      "--- Analyzing Absolute Coactivity\n",
      "--- Analyzing Distance-Dependence Coactivity\n",
      "--- Calculating Cluster Score\n",
      "-- Movement-Related Activity Analysis\n",
      "-- Assessing Movement Quality\n",
      "---------------------------------\n",
      "- Analyzing JW126\n",
      "-- Local Coactivity Analysis\n",
      "--- Analyzing Distance-Dependence Coactivity\n",
      "--- Calculating Cluster Score\n",
      "--- Analyzing Absolute Coactivity\n",
      "-- Spine-Dendrite Coactivity Analysis\n",
      "--- Analyzing Absolute Coactivity\n",
      "--- Analyzing Distance-Dependence Coactivity\n",
      "--- Calculating Cluster Score\n",
      "-- Movement-Related Activity Analysis\n",
      "-- Assessing Movement Quality\n",
      "---------------------------------\n",
      "- Analyzing JW129\n",
      "-- Local Coactivity Analysis\n",
      "--- Analyzing Distance-Dependence Coactivity\n",
      "--- Calculating Cluster Score\n",
      "--- Analyzing Absolute Coactivity\n",
      "-- Spine-Dendrite Coactivity Analysis\n",
      "--- Analyzing Absolute Coactivity\n",
      "--- Analyzing Distance-Dependence Coactivity\n",
      "--- Calculating Cluster Score\n",
      "-- Movement-Related Activity Analysis\n",
      "-- Assessing Movement Quality\n",
      "-- Local Coactivity Analysis\n",
      "--- Analyzing Distance-Dependence Coactivity\n",
      "--- Calculating Cluster Score\n",
      "--- Analyzing Absolute Coactivity\n",
      "-- Spine-Dendrite Coactivity Analysis\n",
      "--- Analyzing Absolute Coactivity\n",
      "--- Analyzing Distance-Dependence Coactivity\n",
      "--- Calculating Cluster Score\n",
      "-- Movement-Related Activity Analysis\n",
      "-- Assessing Movement Quality\n",
      "---------------------------------\n",
      "- Analyzing JW130\n",
      "-- Local Coactivity Analysis\n",
      "--- Analyzing Distance-Dependence Coactivity\n",
      "--- Calculating Cluster Score\n",
      "--- Analyzing Absolute Coactivity\n"
     ]
    },
    {
     "name": "stderr",
     "output_type": "stream",
     "text": [
      "c:\\users\\jake\\desktop\\python_code\\lab_analyses\\Lab_Analyses\\Utilities\\data_utilities.py:168: RuntimeWarning: Mean of empty slice\n",
      "  m = np.nanmean(value, axis=1)\n",
      "C:\\Users\\Jake\\Documents\\Anaconda3\\envs\\analysis_env\\lib\\site-packages\\numpy\\core\\_methods.py:262: RuntimeWarning: Degrees of freedom <= 0 for slice\n",
      "  ret = _var(a, axis=axis, dtype=dtype, out=out, ddof=ddof,\n",
      "C:\\Users\\Jake\\Documents\\Anaconda3\\envs\\analysis_env\\lib\\site-packages\\numpy\\core\\_methods.py:222: RuntimeWarning: invalid value encountered in true_divide\n",
      "  arrmean = um.true_divide(arrmean, div, out=arrmean, casting='unsafe',\n",
      "C:\\Users\\Jake\\Documents\\Anaconda3\\envs\\analysis_env\\lib\\site-packages\\numpy\\core\\_methods.py:251: RuntimeWarning: invalid value encountered in true_divide\n",
      "  ret = um.true_divide(\n",
      "C:\\Users\\Jake\\Documents\\Anaconda3\\envs\\analysis_env\\lib\\site-packages\\numpy\\lib\\nanfunctions.py:1670: RuntimeWarning: Degrees of freedom <= 0 for slice.\n",
      "  var = nanvar(a, axis=axis, dtype=dtype, out=out, ddof=ddof,\n"
     ]
    },
    {
     "name": "stdout",
     "output_type": "stream",
     "text": [
      "-- Spine-Dendrite Coactivity Analysis\n",
      "--- Analyzing Absolute Coactivity\n",
      "--- Analyzing Distance-Dependence Coactivity\n",
      "--- Calculating Cluster Score\n",
      "-- Movement-Related Activity Analysis\n",
      "-- Assessing Movement Quality\n",
      "-Late\n",
      "---------------------------------\n",
      "- Analyzing JW082\n",
      "-- Local Coactivity Analysis\n",
      "--- Analyzing Distance-Dependence Coactivity\n",
      "--- Calculating Cluster Score\n",
      "--- Analyzing Absolute Coactivity\n",
      "-- Spine-Dendrite Coactivity Analysis\n",
      "--- Analyzing Absolute Coactivity\n",
      "--- Analyzing Distance-Dependence Coactivity\n",
      "--- Calculating Cluster Score\n",
      "-- Movement-Related Activity Analysis\n",
      "-- Assessing Movement Quality\n",
      "---------------------------------\n",
      "- Analyzing JW083\n",
      "-- Local Coactivity Analysis\n",
      "--- Analyzing Distance-Dependence Coactivity\n",
      "--- Calculating Cluster Score\n",
      "--- Analyzing Absolute Coactivity\n",
      "-- Spine-Dendrite Coactivity Analysis\n",
      "--- Analyzing Absolute Coactivity\n",
      "--- Analyzing Distance-Dependence Coactivity\n",
      "--- Calculating Cluster Score\n",
      "-- Movement-Related Activity Analysis\n",
      "-- Assessing Movement Quality\n",
      "---------------------------------\n",
      "- Analyzing JW090\n",
      "-- Local Coactivity Analysis\n",
      "--- Analyzing Distance-Dependence Coactivity\n",
      "--- Calculating Cluster Score\n",
      "--- Analyzing Absolute Coactivity\n",
      "-- Spine-Dendrite Coactivity Analysis\n",
      "--- Analyzing Absolute Coactivity\n",
      "--- Analyzing Distance-Dependence Coactivity\n",
      "--- Calculating Cluster Score\n",
      "-- Movement-Related Activity Analysis\n",
      "-- Assessing Movement Quality\n",
      "-- Local Coactivity Analysis\n",
      "--- Analyzing Distance-Dependence Coactivity\n",
      "--- Calculating Cluster Score\n",
      "--- Analyzing Absolute Coactivity\n",
      "-- Spine-Dendrite Coactivity Analysis\n",
      "--- Analyzing Absolute Coactivity\n",
      "--- Analyzing Distance-Dependence Coactivity\n",
      "--- Calculating Cluster Score\n",
      "-- Movement-Related Activity Analysis\n",
      "-- Assessing Movement Quality\n",
      "---------------------------------\n",
      "- Analyzing JW092\n",
      "-- Local Coactivity Analysis\n",
      "--- Analyzing Distance-Dependence Coactivity\n",
      "--- Calculating Cluster Score\n",
      "--- Analyzing Absolute Coactivity\n",
      "-- Spine-Dendrite Coactivity Analysis\n",
      "--- Analyzing Absolute Coactivity\n",
      "--- Analyzing Distance-Dependence Coactivity\n",
      "--- Calculating Cluster Score\n",
      "-- Movement-Related Activity Analysis\n",
      "-- Assessing Movement Quality\n",
      "-- Local Coactivity Analysis\n",
      "--- Analyzing Distance-Dependence Coactivity\n",
      "--- Calculating Cluster Score\n",
      "--- Analyzing Absolute Coactivity\n",
      "-- Spine-Dendrite Coactivity Analysis\n",
      "--- Analyzing Absolute Coactivity\n",
      "--- Analyzing Distance-Dependence Coactivity\n",
      "--- Calculating Cluster Score\n",
      "-- Movement-Related Activity Analysis\n",
      "-- Assessing Movement Quality\n",
      "---------------------------------\n",
      "- Analyzing JW126\n",
      "-- Local Coactivity Analysis\n",
      "--- Analyzing Distance-Dependence Coactivity\n",
      "--- Calculating Cluster Score\n",
      "--- Analyzing Absolute Coactivity\n",
      "-- Spine-Dendrite Coactivity Analysis\n",
      "--- Analyzing Absolute Coactivity\n",
      "--- Analyzing Distance-Dependence Coactivity\n",
      "--- Calculating Cluster Score\n",
      "-- Movement-Related Activity Analysis\n",
      "-- Assessing Movement Quality\n",
      "---------------------------------\n",
      "- Analyzing JW129\n",
      "-- Local Coactivity Analysis\n",
      "--- Analyzing Distance-Dependence Coactivity\n",
      "--- Calculating Cluster Score\n",
      "--- Analyzing Absolute Coactivity\n",
      "-- Spine-Dendrite Coactivity Analysis\n",
      "--- Analyzing Absolute Coactivity\n",
      "--- Analyzing Distance-Dependence Coactivity\n",
      "--- Calculating Cluster Score\n",
      "-- Movement-Related Activity Analysis\n",
      "-- Assessing Movement Quality\n",
      "-- Local Coactivity Analysis\n",
      "--- Analyzing Distance-Dependence Coactivity\n",
      "--- Calculating Cluster Score\n",
      "--- Analyzing Absolute Coactivity\n",
      "-- Spine-Dendrite Coactivity Analysis\n",
      "--- Analyzing Absolute Coactivity\n",
      "--- Analyzing Distance-Dependence Coactivity\n",
      "--- Calculating Cluster Score\n",
      "-- Movement-Related Activity Analysis\n",
      "-- Assessing Movement Quality\n",
      "---------------------------------\n",
      "- Analyzing JW130\n",
      "-- Local Coactivity Analysis\n",
      "--- Analyzing Distance-Dependence Coactivity\n",
      "--- Calculating Cluster Score\n",
      "--- Analyzing Absolute Coactivity\n",
      "-- Spine-Dendrite Coactivity Analysis\n",
      "--- Analyzing Absolute Coactivity\n",
      "--- Analyzing Distance-Dependence Coactivity\n",
      "--- Calculating Cluster Score\n",
      "-- Movement-Related Activity Analysis\n",
      "-- Assessing Movement Quality\n"
     ]
    }
   ],
   "source": [
    "# Set up parameters\n",
    "## Save path\n",
    "group_path = r'C:\\Users\\Jake\\Desktop\\Analyzed_data\\grouped'\n",
    "experiment_dir = \"Dual_Spine_Imaging\"\n",
    "coactivity_dir = \"Coactivity_Data\"\n",
    "coactivity_path = os.path.join(group_path, experiment_dir, coactivity_dir)\n",
    "\n",
    "## Analysis parameters\n",
    "reanalyze = True\n",
    "save = True\n",
    "days = [\"Early\", \"Middle\", \"Late\"]\n",
    "#days = [\"Middle\"]\n",
    "followup = True\n",
    "zscore = False\n",
    "volume_norm = True\n",
    "\n",
    "coactivity_data = {}\n",
    "for day in days:\n",
    "    print(f\"-{day}\")\n",
    "    coactivity = grouped_coactivity_analysis(\n",
    "        mouse_list,\n",
    "        day,\n",
    "        followup=followup,\n",
    "        activity_window=(-2,4),\n",
    "        zscore=zscore,\n",
    "        volume_norm=volume_norm,\n",
    "        save=save,\n",
    "        save_path=coactivity_path,\n",
    "    )\n",
    "\n",
    "    coactivity_data[day] = coactivity"
   ]
  },
  {
   "cell_type": "markdown",
   "metadata": {},
   "source": [
    "group_path = r'C:\\Users\\Jake\\Desktop\\Analyzed_data\\grouped'\n",
    "experiment_dir = \"Dual_Spine_Imaging\"\n",
    "coactivity_dir = \"Coactivity_Data\"\n",
    "coactivity_path = os.path.join(group_path, experiment_dir, coactivity_dir)\n",
    "\n",
    "load_coactivity = True\n",
    "if load_coactivity:\n",
    "    names = [\"Early_dFoF_norm_spine_coactivity_data\", \"Middle_dFoF_norm_spine_coactivity_data\", \"Late_dFoF_norm_spine_coactivity_data\"]\n",
    "    data = load_pickle(names, coactivity_path)\n",
    "    days = [\"Early\", \"Middle\", \"Late\"]\n",
    "    coactivity_data = dict(zip(days, data))"
   ]
  },
  {
   "cell_type": "markdown",
   "metadata": {},
   "source": [
    "### Coactivity Plasticity Analysis\n",
    "Perform analysis to relate subsequent plasticity to coactivity "
   ]
  },
  {
   "cell_type": "code",
   "execution_count": null,
   "metadata": {},
   "outputs": [],
   "source": [
    "## Save path\n",
    "group_path = r'C:\\Users\\Jake\\Desktop\\Analyzed_data\\grouped'\n",
    "experiment_dir = \"Dual_Spine_Imaging\"\n",
    "plasticity_dir = \"Coactivity_Plasticity\"\n",
    "plasticity_path = os.path.join(group_path, experiment_dir, plasticity_dir)"
   ]
  },
  {
   "cell_type": "code",
   "execution_count": null,
   "metadata": {
    "scrolled": true
   },
   "outputs": [],
   "source": [
    "\n",
    "## Analysis parameters\n",
    "threshold = 0.5\n",
    "exclude = \"Shaft Spine\"\n",
    "save = True\n",
    "\n",
    "plasticity_data = {}\n",
    "for key, value in coactivity_data.items():\n",
    "    plasticity = Coactivity_Plasticity(\n",
    "        value, threshold, exclude, vol_norm=False, save=save, save_path=plasticity_path\n",
    "    )\n",
    "    plasticity_data[key] = plasticity"
   ]
  },
  {
   "cell_type": "markdown",
   "metadata": {},
   "source": [
    "### Visualize Coactivity Plasticity Data\n",
    "Plot selected data and variables from individual datasets.\n",
    "Use data generated above of load in a dataset"
   ]
  },
  {
   "cell_type": "code",
   "execution_count": null,
   "metadata": {},
   "outputs": [],
   "source": [
    "# Select data to plot\n",
    "load_data = False\n",
    "initial_path = r\"C:\\Users\\Jake\\Desktop\\Figures\\grouped_data\"\n",
    "figure_path = os.path.join(initial_path, experiment_dir, plasticity_dir, \"Early\")\n",
    "if not os.path.isdir(figure_path):\n",
    "    os.makedirs(figure_path)\n",
    "if load_data:\n",
    "    load_name = \"Early_dFoF_norm_0.5_coactivity_plasticity_data\"\n",
    "    plot_data = load_pickle([load_name], plasticity_path)[0]\n",
    "else:\n",
    "    plot_data = plasticity_data[\"Early\"]\n"
   ]
  },
  {
   "cell_type": "code",
   "execution_count": null,
   "metadata": {
    "scrolled": true
   },
   "outputs": [],
   "source": [
    "# Print out variable names\n",
    "for key in plot_data.__dict__.keys():\n",
    "    print(key)"
   ]
  },
  {
   "cell_type": "code",
   "execution_count": null,
   "metadata": {},
   "outputs": [],
   "source": [
    "initial_path = r\"C:\\Users\\Jake\\Desktop\\Analyzed_data\\individual\"\n",
    "behavior_path = os.path.join(initial_path, \"JW082\", \"behavior\")\n",
    "final_day = sorted([x[0] for x in os.walk(behavior_path)])[-1]\n",
    "final_day"
   ]
  },
  {
   "cell_type": "code",
   "execution_count": null,
   "metadata": {},
   "outputs": [],
   "source": [
    "b = plot_data"
   ]
  },
  {
   "cell_type": "code",
   "execution_count": null,
   "metadata": {
    "scrolled": false
   },
   "outputs": [],
   "source": [
    "# Correlation Plots\n",
    "plot_data.plot_volume_correlation(\n",
    "    variable_name=\"local_movement_specificity\",\n",
    "    volume_type=\"relative_volume\",\n",
    "    CI=95,\n",
    "    ytitle=\"Relative Correlation with LMP\",\n",
    "    xlim=None,\n",
    "    ylim=None,\n",
    "    face_color=\"mediumblue\",\n",
    "    edge_color=\"white\",\n",
    "    edge_width=1,\n",
    "    s_alpha=0.4,\n",
    "    line_color=\"mediumblue\",\n",
    "    line_width=1,\n",
    "    log_trans=True,\n",
    "    save=False,\n",
    "    save_path=figure_path\n",
    ")"
   ]
  },
  {
   "cell_type": "code",
   "execution_count": null,
   "metadata": {},
   "outputs": [],
   "source": [
    "# Group mean activity plots\n",
    "plot_data.plot_group_scatter_plot(\n",
    "    variable_name=\"spine_dend_coactivity_rate\",\n",
    "    group_type=\"plastic_spines\",\n",
    "    mean_type=\"mean\",\n",
    "    err_type=\"sem\",\n",
    "    figsize=(4,5),\n",
    "    ytitle=\"Fraction of Coactivity Events\",\n",
    "    ylim=None,\n",
    "    s_colors=[\"darkorange\", \"forestgreen\", \"silver\"],\n",
    "    s_size=5,\n",
    "    s_alpha=0.8,\n",
    "    b_colors=[\"darkorange\", \"forestgreen\", \"silver\"],\n",
    "    b_edgecolors = \"black\",\n",
    "    b_err_colors=\"black\",\n",
    "    b_width=0.5,\n",
    "    b_linewidth=0,\n",
    "    b_alpha=0.3,\n",
    "    save=False,\n",
    "    save_path=figure_path,\n",
    ")"
   ]
  },
  {
   "cell_type": "code",
   "execution_count": null,
   "metadata": {},
   "outputs": [],
   "source": [
    "print(np.sum(plot_data.enlarged_spines)/len(plot_data.enlarged_spines))\n",
    "print(np.sum(plot_data.shrunken_spines)/len(plot_data.enlarged_spines))\n",
    "print(np.sum(plot_data.stable_spines)/len(plot_data.enlarged_spines))\n",
    "e= np.sum(plot_data.enlarged_spines*plot_data.movement_spines)/np.sum(plot_data.movement_spines)\n",
    "s= np.sum(plot_data.shrunken_spines*plot_data.movement_spines)/np.sum(plot_data.movement_spines)\n",
    "stab = np.sum(plot_data.stable_spines*plot_data.movement_spines)/np.sum(plot_data.movement_spines)"
   ]
  },
  {
   "cell_type": "code",
   "execution_count": null,
   "metadata": {},
   "outputs": [],
   "source": [
    "import seaborn as sns\n",
    "import matplotlib.pyplot as plt\n",
    "sns.set()\n",
    "sns.set_style(\"ticks\")\n",
    "\n",
    "\n",
    "plt.figure(figsize=(4,5))\n",
    "plt.bar(x=[0,1,2], height=[e, s, stab], color=[\"darkorange\", \"forestgreen\", \"silver\"])\n",
    "plt.ylabel(\"Fraction of MRSs\")\n",
    "plt.xticks(ticks=[0,1,2], labels=[\"enlarged\", \"shrunken\", \"stable\"])\n",
    "plt.ylim(0, 0.5)\n",
    "plt.tight_layout()\n",
    "fname = os.path.join(figure_path, \"frac_MRSs\")\n",
    "plt.savefig(fname + \".pdf\")"
   ]
  },
  {
   "cell_type": "code",
   "execution_count": null,
   "metadata": {},
   "outputs": [],
   "source": [
    "\n",
    "plot_data.plot_multi_group_scatter_plots(\n",
    "    variable_name=\"spine_dend_coactivity_rate_norm\",\n",
    "    group_type=\"movement_spines\",\n",
    "    subgroup_type=\"plastic_spines\",\n",
    "    mean_type=\"mean\",\n",
    "    err_type=\"sem\",\n",
    "    figsize=(5,5),\n",
    "    ytitle=\"Fraction of Coactivity Events\",\n",
    "    ylim=None,\n",
    "    s_colors=[\"darkorange\", \"forestgreen\", \"silver\"],\n",
    "    s_alpha=0.8,\n",
    "    s_size=5,\n",
    "    b_colors=[\"darkorange\", \"forestgreen\", \"silver\"],\n",
    "    b_edgecolors=\"black\",\n",
    "    b_err_colors=\"black\",\n",
    "    b_width=0.2,\n",
    "    b_linewidth=0,\n",
    "    b_alpha=0.3,\n",
    "    save=False,\n",
    "    save_path=figure_path,\n",
    ")"
   ]
  },
  {
   "cell_type": "code",
   "execution_count": null,
   "metadata": {
    "scrolled": false
   },
   "outputs": [],
   "source": [
    "plot_data.plot_group_spine_mean_traces(\n",
    "    group_type=\"plastic_spines\",\n",
    "    trace_type=\"local_avg_nearby_calcium_traces\",\n",
    "    exclude=[],\n",
    "    avlines=[0],\n",
    "    figsize=(5,5),\n",
    "    colors=[\"darkorange\", \"forestgreen\", \"silver\"], \n",
    "    ylim=None,\n",
    "    save=False,\n",
    "    save_path=figure_path\n",
    ")"
   ]
  },
  {
   "cell_type": "code",
   "execution_count": null,
   "metadata": {},
   "outputs": [],
   "source": [
    "plot_data.plot_spine_coactivity_distance(\n",
    "    variable_name=\"spine_dend_distance_coactivity_rate\",\n",
    "    group_type=\"plastic_spines\",\n",
    "    figsize=(5,5),\n",
    "    colors=[\"darkorange\", \"forestgreen\", \"silver\"],\n",
    "    ylim=None,\n",
    "    save=False,\n",
    "    save_path=figure_path,\n",
    ")"
   ]
  },
  {
   "cell_type": "code",
   "execution_count": null,
   "metadata": {},
   "outputs": [],
   "source": [
    "plot_data.plot_histogram(\n",
    "    variable=\"relative_volumes\",\n",
    "    bins=25,\n",
    "    max_lim=None,\n",
    "    avlines=(-0.3, 0.3),\n",
    "    figsize=(5,5),\n",
    "    color=\"blue\",\n",
    "    alpha=0.4,\n",
    "    save=False,\n",
    "    save_path=figure_path\n",
    ")"
   ]
  },
  {
   "cell_type": "code",
   "execution_count": null,
   "metadata": {},
   "outputs": [],
   "source": [
    "plot_data.plot_group_mean_heatmaps(\n",
    "    trace_type=\"rwd_move_spine_traces\",\n",
    "    group_type=\"plastic_spines\",\n",
    "    figsize=(10,5),\n",
    "    hmap_range=(0.2,1),\n",
    "    center=None,\n",
    "    sorted=\"peak\",\n",
    "    normalize=True,\n",
    "    cmap=\"plasma\",\n",
    "    save=False,\n",
    "    save_path=figure_path\n",
    ")"
   ]
  },
  {
   "cell_type": "code",
   "execution_count": null,
   "metadata": {},
   "outputs": [],
   "source": [
    "from Lab_Analyses.Spine_Analysis.spine_plotting import plot_sns_scatter_correlation\n",
    "\n",
    "\n"
   ]
  },
  {
   "cell_type": "code",
   "execution_count": null,
   "metadata": {},
   "outputs": [],
   "source": [
    "original = np.log10(a.relative_volumes)\n",
    "original = a.relative_volumes\n",
    "norm = b.relative_volumes"
   ]
  },
  {
   "cell_type": "code",
   "execution_count": null,
   "metadata": {},
   "outputs": [],
   "source": [
    "plot_sns_scatter_correlation(\n",
    "    original,\n",
    "    norm,\n",
    "    CI=95,\n",
    "    title=\"Relative Volume Comparison\",\n",
    "    xtitle=\"Original Relative Volume\",\n",
    "    ytitle=\"Normalized Relative Volume\",\n",
    "    marker_size=4,\n",
    "    \n",
    ")"
   ]
  },
  {
   "cell_type": "code",
   "execution_count": null,
   "metadata": {},
   "outputs": [],
   "source": []
  },
  {
   "cell_type": "code",
   "execution_count": null,
   "metadata": {},
   "outputs": [],
   "source": []
  },
  {
   "cell_type": "code",
   "execution_count": null,
   "metadata": {},
   "outputs": [],
   "source": []
  }
 ],
 "metadata": {
  "kernelspec": {
   "display_name": "Python 3 (ipykernel)",
   "language": "python",
   "name": "python3"
  },
  "language_info": {
   "codemirror_mode": {
    "name": "ipython",
    "version": 3
   },
   "file_extension": ".py",
   "mimetype": "text/x-python",
   "name": "python",
   "nbconvert_exporter": "python",
   "pygments_lexer": "ipython3",
   "version": "3.8.15"
  }
 },
 "nbformat": 4,
 "nbformat_minor": 2
}
