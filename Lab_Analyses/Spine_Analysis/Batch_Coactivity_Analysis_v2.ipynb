{
 "cells": [
  {
   "cell_type": "markdown",
   "metadata": {},
   "source": [
    "# Batch Lever Press Analysis\n",
    "## Notebook for preprocessing and analyzing coactivity spine data"
   ]
  },
  {
   "cell_type": "code",
   "execution_count": null,
   "metadata": {},
   "outputs": [],
   "source": [
    "import os\n",
    "import numpy as np\n",
    "from Lab_Analyses.Spine_Analysis.preprocess_spine_data import organize_dual_spine_data\n",
    "from Lab_Analyses.Spine_Analysis.grouped_coactivity_analysis_v2 import grouped_coactivity_analysis\n",
    "from Lab_Analyses.Spine_Analysis.coactivity_plasticity_analysis import Coactivity_Plasticity\n",
    "from Lab_Analyses.Utilities.save_load_pickle import load_pickle"
   ]
  },
  {
   "cell_type": "markdown",
   "metadata": {},
   "source": [
    "### Datasets\n",
    "Specify mice which mice to be processed and analyzed"
   ]
  },
  {
   "cell_type": "code",
   "execution_count": null,
   "metadata": {},
   "outputs": [],
   "source": [
    "# Mouse ids\n",
    "id_1 = \"JW082\"\n",
    "id_2 = \"JW083\"\n",
    "id_3 = \"JW090\"\n",
    "id_4 = \"JW092\"\n",
    "\n",
    "mouse_list = [id_1, id_2, id_3, id_4]"
   ]
  },
  {
   "cell_type": "markdown",
   "metadata": {},
   "source": [
    "### Preprocessing\n",
    "Preprocess spine datasets"
   ]
  },
  {
   "cell_type": "code",
   "execution_count": null,
   "metadata": {},
   "outputs": [],
   "source": [
    "# Do you want to reprocess the data\n",
    "reprocess = True\n",
    "channels = {\"GluSnFr\": \"GreenCh\", \"Calcium\": \"RedCh\"}\n",
    "\n",
    "# Process data\n",
    "for mouse in mouse_list:\n",
    "    organize_dual_spine_data(mouse, channels, redetection=True, save=True, structural=True)"
   ]
  },
  {
   "cell_type": "markdown",
   "metadata": {},
   "source": [
    "### Grouped Coactivity Analysis\n",
    "Perform coactivity analysis across all mice and FOVs for a given set of imaging sessions"
   ]
  },
  {
   "cell_type": "code",
   "execution_count": null,
   "metadata": {
    "scrolled": false
   },
   "outputs": [],
   "source": [
    "# Set up parameters\n",
    "## Save path\n",
    "group_path = r'C:\\Users\\Jake\\Desktop\\Analyzed_data\\grouped'\n",
    "experiment_dir = \"Dual_Spine_Imaging\"\n",
    "coactivity_dir = \"Coactivity_Data\"\n",
    "coactivity_path = os.path.join(group_path, experiment_dir, coactivity_dir)\n",
    "\n",
    "## Analysis parameters\n",
    "reanalyze = True\n",
    "save = True\n",
    "days = [\"Early\", \"Middle\", \"Late\"]\n",
    "#days = [\"Middle\"]\n",
    "followup = True\n",
    "movement_epochs = [None, \"movement\", \"rewarded\", \"unrewarded\",\n",
    "                   \"nonmovement\"]\n",
    "#movement_epochs = [\"unrewarded\"]\n",
    "zscore = False\n",
    "volume_norm = True\n",
    "\n",
    "coactivity_data = {}\n",
    "for day in days:\n",
    "    epoch_data = {}\n",
    "    print(f\"-{day}\")\n",
    "    for epoch in movement_epochs:\n",
    "        print(f\"--{epoch}\")\n",
    "        coactivity = grouped_coactivity_analysis(\n",
    "            mouse_list,\n",
    "            day,\n",
    "            followup=followup,\n",
    "            activity_window=(-2,4),\n",
    "            movement_epochs=epoch,\n",
    "            zscore=zscore,\n",
    "            volume_norm=volume_norm,\n",
    "            save=save,\n",
    "            save_path=coactivity_path,\n",
    "        )\n",
    "        if epoch is None:\n",
    "            epoch = \"session\"\n",
    "        epoch_data[epoch] = coactivity\n",
    "    coactivity_data[day] = epoch_data"
   ]
  },
  {
   "cell_type": "markdown",
   "metadata": {},
   "source": [
    "### Coactivity Plasticity Analysis\n",
    "Perform analysis to relate subsequent plasticity to coactivity "
   ]
  },
  {
   "cell_type": "code",
   "execution_count": null,
   "metadata": {},
   "outputs": [],
   "source": [
    "## Save path\n",
    "group_path = r'C:\\Users\\Jake\\Desktop\\Analyzed_data\\grouped'\n",
    "experiment_dir = \"Dual_Spine_Imaging\"\n",
    "plasticity_dir = \"Coactivity_Plasticity\"\n",
    "plasticity_path = os.path.join(group_path, experiment_dir, plasticity_dir)"
   ]
  },
  {
   "cell_type": "code",
   "execution_count": null,
   "metadata": {
    "scrolled": true
   },
   "outputs": [],
   "source": [
    "\n",
    "## Analysis parameters\n",
    "threshold = 0.5\n",
    "exclude = \"Shaft Spine\"\n",
    "save = True\n",
    "\n",
    "plasticity_data = {}\n",
    "for key, value in coactivity_data.items():\n",
    "    sub_data = {}\n",
    "    for k, v in value.items():\n",
    "        plasticity = Coactivity_Plasticity(\n",
    "            v, threshold, exclude, save=save, save_path=plasticity_path\n",
    "        )\n",
    "        sub_data[k] = plasticity\n",
    "    plasticity_data[key] = sub_data"
   ]
  },
  {
   "cell_type": "markdown",
   "metadata": {},
   "source": [
    "### Visualize Coactivity Plasticity Data\n",
    "Plot selected data and variables from individual datasets.\n",
    "Use data generated above of load in a dataset"
   ]
  },
  {
   "cell_type": "code",
   "execution_count": null,
   "metadata": {},
   "outputs": [],
   "source": [
    "# Select data to plot\n",
    "load_data = True\n",
    "initial_path = r\"C:\\Users\\Jake\\Desktop\\Figures\\grouped_data\"\n",
    "figure_path = os.path.join(initial_path, experiment_dir, plasticity_dir, \"session\")\n",
    "if not os.path.isdir(figure_path):\n",
    "    os.makedirs(figure_path)\n",
    "if load_data:\n",
    "    load_name = \"Early_session_dFoF_norm_0.5_coactivity_plasticity_data\"\n",
    "    plot_data = load_pickle([load_name], plasticity_path)[0]\n",
    "else:\n",
    "    plot_data = plasticity_data[\"Early\"][\"movement\"]\n"
   ]
  },
  {
   "cell_type": "code",
   "execution_count": null,
   "metadata": {
    "scrolled": true
   },
   "outputs": [],
   "source": [
    "# Print out variable names\n",
    "for key in plot_data.__dict__.keys():\n",
    "    print(key)"
   ]
  },
  {
   "cell_type": "code",
   "execution_count": null,
   "metadata": {},
   "outputs": [],
   "source": [
    "initial_path = r\"C:\\Users\\Jake\\Desktop\\Analyzed_data\\individual\"\n",
    "behavior_path = os.path.join(initial_path, \"JW082\", \"behavior\")\n",
    "final_day = sorted([x[0] for x in os.walk(behavior_path)])[-1]\n",
    "final_day"
   ]
  },
  {
   "cell_type": "code",
   "execution_count": null,
   "metadata": {},
   "outputs": [],
   "source": [
    "import numpy as np\n",
    "a = np.array([[1,1,1,1,1,1],\n",
    "              [2,2,2,2,2,2],\n",
    "              [3,3,3,3,3,3],\n",
    "              [4,4,4,4,4,4]])\n",
    "b = a[:, [0,1,4,5]]\n",
    "np.sum(b, axis=1)"
   ]
  },
  {
   "cell_type": "code",
   "execution_count": null,
   "metadata": {
    "scrolled": false
   },
   "outputs": [],
   "source": [
    "# Correlation Plots\n",
    "plot_data.plot_volume_correlation(\n",
    "    variable_name=\"dend_active_frac_move\",\n",
    "    volume_type=\"relative_volume\",\n",
    "    CI=95,\n",
    "    ytitle=\"Dendrite dF/F\",\n",
    "    xlim=None,\n",
    "    ylim=None,\n",
    "    face_color=\"mediumblue\",\n",
    "    edge_color=\"white\",\n",
    "    edge_width=1,\n",
    "    s_alpha=0.4,\n",
    "    line_color=\"mediumblue\",\n",
    "    line_width=1,\n",
    "    save=False,\n",
    "    save_path=figure_path\n",
    ")"
   ]
  },
  {
   "cell_type": "code",
   "execution_count": null,
   "metadata": {},
   "outputs": [],
   "source": [
    "# Group mean activity plots\n",
    "plot_data.plot_group_scatter_plots(\n",
    "    variable_name=\"local_movement_corr\",\n",
    "    group_type=\"rwd_movement_spines\",\n",
    "    mean_type=\"median\",\n",
    "    err_type=\"std\",\n",
    "    marker=\"o\",\n",
    "    figsize=(4,5),\n",
    "    ytitle=\"Spine dF/F\",\n",
    "    ylim=None,\n",
    "    s_colors=[\"mediumblue\", \"firebrick\"],\n",
    "    s_size=5,\n",
    "    s_alpha=0.3,\n",
    "    m_colors=[\"mediumblue\", \"firebrick\"],\n",
    "    m_size=6,\n",
    "    save=False,\n",
    "    save_path=figure_path,\n",
    ")"
   ]
  },
  {
   "cell_type": "code",
   "execution_count": null,
   "metadata": {},
   "outputs": [],
   "source": [
    "print(np.sum(plot_data.enlarged_spines)/len(plot_data.enlarged_spines))\n",
    "print(np.sum(plot_data.shrunken_spines)/len(plot_data.enlarged_spines))\n",
    "print(np.sum(plot_data.stable_spines)/len(plot_data.enlarged_spines))\n",
    "e= np.sum(plot_data.enlarged_spines*plot_data.movement_spines)/np.sum(plot_data.movement_spines)\n",
    "s= np.sum(plot_data.shrunken_spines*plot_data.movement_spines)/np.sum(plot_data.movement_spines)\n",
    "stab = np.sum(plot_data.stable_spines*plot_data.movement_spines)/np.sum(plot_data.movement_spines)"
   ]
  },
  {
   "cell_type": "code",
   "execution_count": null,
   "metadata": {},
   "outputs": [],
   "source": [
    "import seaborn as sns\n",
    "import matplotlib.pyplot as plt\n",
    "sns.set()\n",
    "sns.set_style(\"ticks\")\n",
    "\n",
    "\n",
    "plt.figure(figsize=(4,5))\n",
    "plt.bar(x=[0,1,2], height=[e, s, stab], color=[\"darkorange\", \"forestgreen\", \"silver\"])\n",
    "plt.ylabel(\"Fraction of MRSs\")\n",
    "plt.xticks(ticks=[0,1,2], labels=[\"enlarged\", \"shrunken\", \"stable\"])\n",
    "plt.ylim(0, 0.5)\n",
    "plt.tight_layout()\n",
    "fname = os.path.join(figure_path, \"frac_MRSs\")\n",
    "plt.savefig(fname + \".pdf\")"
   ]
  },
  {
   "cell_type": "code",
   "execution_count": null,
   "metadata": {},
   "outputs": [],
   "source": [
    "\n",
    "plot_data.plot_multi_group_scatter_plots(\n",
    "    variable_name=\"relative_spine_dend_move_corr\",\n",
    "    group_type=\"movement_spines\",\n",
    "    subgroup_type=\"plastic_spines\",\n",
    "    mean_type=\"median\",\n",
    "    err_type=\"std\",\n",
    "    marker=\"o\",\n",
    "    figsize=(5,5),\n",
    "    ytitle=\"Relative Learned Movement Correlation (spine-dendrite)\",\n",
    "    ylim=None,\n",
    "    s_colors=[\"darkorange\", \"forestgreen\", \"silver\"],\n",
    "    s_alpha=0.3,\n",
    "    s_size=5,\n",
    "    m_colors=[\"darkorange\", \"forestgreen\", \"silver\"],\n",
    "    m_size=6,\n",
    "    save=True,\n",
    "    save_path=figure_path,\n",
    ")"
   ]
  },
  {
   "cell_type": "code",
   "execution_count": null,
   "metadata": {
    "scrolled": false
   },
   "outputs": [],
   "source": [
    "plot_data.plot_group_spine_mean_traces(\n",
    "    group_type=\"plastic_spines\",\n",
    "    trace_type=\"conj_coactive_dend_traces\",\n",
    "    exclude=[],\n",
    "    avlines=[0],\n",
    "    figsize=(5,5),\n",
    "    colors=[\"darkorange\", \"forestgreen\", \"silver\"], \n",
    "    ylim=None,\n",
    "    save=False,\n",
    "    save_path=figure_path\n",
    ")"
   ]
  },
  {
   "cell_type": "code",
   "execution_count": null,
   "metadata": {},
   "outputs": [],
   "source": [
    "plot_data.plot_spine_coactivity_distance(\n",
    "    group_type=\"plastic_spines\",\n",
    "    figsize=(5,5),\n",
    "    norm=False,\n",
    "    colors=[\"mediumblue\", \"firebrick\", \"silver\"],\n",
    "    ylim=None,\n",
    "    save=False,\n",
    "    save_path=figure_path,\n",
    ")"
   ]
  },
  {
   "cell_type": "code",
   "execution_count": null,
   "metadata": {},
   "outputs": [],
   "source": [
    "plot_data.plot_histogram(\n",
    "    variable=\"relative_volumes\",\n",
    "    bins=20,\n",
    "    avlines=None,\n",
    "    figsize=(5,5),\n",
    "    color=\"blue\",\n",
    "    alpha=0.4,\n",
    "    save=True,\n",
    "    save_path=figure_path\n",
    ")"
   ]
  },
  {
   "cell_type": "code",
   "execution_count": null,
   "metadata": {},
   "outputs": [],
   "source": [
    "plot_data.plot_group_mean_heatmaps(\n",
    "    trace_type=\"rwd_move_spine_traces\",\n",
    "    group_type=\"plastic_spines\",\n",
    "    figsize=(10,5),\n",
    "    hmap_range=(0.2,1),\n",
    "    center=None,\n",
    "    sorted=\"peak\",\n",
    "    normalize=True,\n",
    "    cmap=\"plasma\",\n",
    "    save=False,\n",
    "    save_path=figure_path\n",
    ")"
   ]
  },
  {
   "cell_type": "code",
   "execution_count": null,
   "metadata": {},
   "outputs": [],
   "source": []
  }
 ],
 "metadata": {
  "kernelspec": {
   "display_name": "Python 3 (ipykernel)",
   "language": "python",
   "name": "python3"
  },
  "language_info": {
   "codemirror_mode": {
    "name": "ipython",
    "version": 3
   },
   "file_extension": ".py",
   "mimetype": "text/x-python",
   "name": "python",
   "nbconvert_exporter": "python",
   "pygments_lexer": "ipython3",
   "version": "3.8.15"
  }
 },
 "nbformat": 4,
 "nbformat_minor": 2
}
