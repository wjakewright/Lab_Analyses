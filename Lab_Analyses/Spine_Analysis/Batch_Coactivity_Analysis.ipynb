{
 "cells": [
  {
   "cell_type": "markdown",
   "metadata": {},
   "source": [
    "# Batch Coactivity Analysis\n",
    "\n",
    "## Notebook for preprocessing and analyzing coactivity spine data"
   ]
  },
  {
   "cell_type": "code",
   "execution_count": 1,
   "metadata": {},
   "outputs": [],
   "source": [
    "import os\n",
    "import numpy as np\n",
    "from Lab_Analyses.Spine_Analysis.preprocess_spine_data import organize_dual_spine_data\n",
    "from Lab_Analyses.Spine_Analysis.grouped_coactivity_analysis import grouped_coactivity_analysis\n",
    "from Lab_Analyses.Spine_Analysis.longitudinal_spine_characterization import Longitudinal_Spine_Data\n",
    "from Lab_Analyses.Spine_Analysis.pre_coactivity_plasticity_analysis import Pre_Coactivity_Plasticity\n",
    "from Lab_Analyses.Utilities.save_load_pickle import load_pickle"
   ]
  },
  {
   "cell_type": "markdown",
   "metadata": {},
   "source": [
    "### Datasets\n",
    "Specify mice which mice to be processed and analyzed"
   ]
  },
  {
   "cell_type": "code",
   "execution_count": 2,
   "metadata": {},
   "outputs": [],
   "source": [
    "# Mouse ids\n",
    "id_1 = \"JW082\"\n",
    "id_2 = \"JW083\"\n",
    "id_3 = \"JW090\"\n",
    "id_4 = \"JW092\"\n",
    "id_5 = \"JW126\"\n",
    "id_6 = \"JW129\"\n",
    "id_7 = \"JW130\"\n",
    "id_8 = \"JW150\"\n",
    "\n",
    "mouse_list = [id_1, id_2, id_3, id_4, id_5, id_6, id_7, id_8]\n",
    "#mouse_list = [id_4, id_6]"
   ]
  },
  {
   "cell_type": "markdown",
   "metadata": {},
   "source": [
    "### Preprocessing\n",
    "Preprocess spine datasets"
   ]
  },
  {
   "cell_type": "code",
   "execution_count": 3,
   "metadata": {
    "scrolled": false
   },
   "outputs": [],
   "source": [
    "# Do you want to reprocess the data\n",
    "reprocess = False\n",
    "channels = {\"GluSnFr\": \"GreenCh\", \"Calcium\": \"RedCh\"}\n",
    "fov_type = \"apical\"\n",
    "\n",
    "# Process data\n",
    "if reprocess:\n",
    "    for mouse in mouse_list:\n",
    "        organize_dual_spine_data(mouse, channels, fov_type=fov_type, redetection=True, save=True, structural=True)"
   ]
  },
  {
   "cell_type": "markdown",
   "metadata": {},
   "source": [
    "### Grouped Coactivity Analysis\n",
    "Perform coactivity analysis across all mice and FOVs for a given set of imaging sessions"
   ]
  },
  {
   "cell_type": "code",
   "execution_count": null,
   "metadata": {
    "scrolled": false
   },
   "outputs": [],
   "source": [
    "# Set up parameters\n",
    "## Save path\n",
    "group_path = r'C:\\Users\\Jake\\Desktop\\Analyzed_data\\grouped'\n",
    "experiment_dir = \"Dual_Spine_Imaging\"\n",
    "coactivity_dir = \"Coactivity_Data\"\n",
    "coactivity_path = os.path.join(group_path, experiment_dir, coactivity_dir)\n",
    "\n",
    "## Analysis parameters\n",
    "reanalyze = True\n",
    "save = True\n",
    "days = [\"Early\", \"Middle\", \"Late\"]\n",
    "#days = [\"Middle\"]\n",
    "followup = True\n",
    "zscore = False\n",
    "volume_norm = True\n",
    "fov_type = \"apical\"\n",
    "\n",
    "coactivity_data = {}\n",
    "for day in days:\n",
    "    print(f\"-{day}\")\n",
    "    coactivity = grouped_coactivity_analysis(\n",
    "        mouse_list,\n",
    "        day,\n",
    "        followup=followup,\n",
    "        fov_type=fov_type,\n",
    "        activity_window=(-2,4),\n",
    "        zscore=zscore,\n",
    "        volume_norm=volume_norm,\n",
    "        save=save,\n",
    "        save_path=coactivity_path,\n",
    "    )\n",
    "\n",
    "    coactivity_data[day] = coactivity"
   ]
  },
  {
   "cell_type": "code",
   "execution_count": null,
   "metadata": {},
   "outputs": [],
   "source": [
    "group_path = r'C:\\Users\\Jake\\Desktop\\Analyzed_data\\grouped'\n",
    "experiment_dir = \"Dual_Spine_Imaging\"\n",
    "coactivity_dir = \"Coactivity_Data\"\n",
    "coactivity_path = os.path.join(group_path, experiment_dir, coactivity_dir)\n",
    "\n",
    "load_coactivity = True\n",
    "if load_coactivity:\n",
    "    names = [\"Early_dFoF_norm_spine_coactivity_data\", \"Middle_dFoF_norm_spine_coactivity_data\", \"Late_dFoF_norm_spine_coactivity_data\"]\n",
    "    data = load_pickle(names, coactivity_path)\n",
    "    days = [\"Early\", \"Middle\", \"Late\"]\n",
    "    coactivity_data = dict(zip(days, data))"
   ]
  },
  {
   "cell_type": "markdown",
   "metadata": {},
   "source": [
    "### Longitudinal Analysis\n",
    "Assess variables longitudinally across the entire training duration"
   ]
  },
  {
   "cell_type": "code",
   "execution_count": null,
   "metadata": {},
   "outputs": [],
   "source": [
    "# Save path\n",
    "group_path = r\"C:\\Users\\Jake\\Desktop\\Analyzed_data\\grouped\"\n",
    "experiment_dir = \"Dual_Spine_Imaging\"\n",
    "longitudinal_dir = \"Longitudinal_Data\"\n",
    "longitudinal_path = os.path.join(group_path, experiment_dir, longitudinal_dir)"
   ]
  },
  {
   "cell_type": "code",
   "execution_count": null,
   "metadata": {},
   "outputs": [],
   "source": [
    "## Analysis parmeters\n",
    "threshold = 0.3\n",
    "exclude = \"Shaft Spine\"\n",
    "save = False\n",
    "longitudinal_data = Longitudinal_Spine_Data(\n",
    "    coactivity_data, \n",
    "    threshold, \n",
    "    exclude, \n",
    "    vol_norm=False, \n",
    "    save=save, \n",
    "    save_path=longitudinal_path)"
   ]
  },
  {
   "cell_type": "code",
   "execution_count": null,
   "metadata": {},
   "outputs": [],
   "source": [
    "# Print out variable names\n",
    "for key in longitudinal_data.__dict__.keys():\n",
    "    print(key)"
   ]
  },
  {
   "cell_type": "code",
   "execution_count": null,
   "metadata": {},
   "outputs": [],
   "source": [
    "## Visualize the data\n",
    "initial_path = r\"C:\\Users\\Jake\\Desktop\\Figures\\grouped_data\"\n",
    "figure_path = os.path.join(initial_path, experiment_dir, longitudinal_dir)\n",
    "longitudinal_data.plot_longitudinal_data(\n",
    "    variable_name=\"dend_dend_movement_correlation\",\n",
    "    group_type=None,\n",
    "    plot_ind=\"line\",\n",
    "    figsize=(3,4),\n",
    "    ytitle=\"ytitle\",\n",
    "    mean_color=\"black\",\n",
    "    ylim=(-0.2,1),\n",
    "    save=True,\n",
    "    save_path=figure_path\n",
    ")"
   ]
  },
  {
   "cell_type": "code",
   "execution_count": null,
   "metadata": {},
   "outputs": [],
   "source": [
    "import spine_plotting as sp\n",
    "print(len(longitudinal_data.spine_relative_volumes[\"Middle\"]))\n",
    "sp.plot_histogram(longitudinal_data.spine_relative_volumes[\"Middle\"], bins=40, max_x=8, avlines=[1], stat=\"probability\", title=\"relative_volumes\", xtitle=\"Relative Volume\", alpha=0.5, figsize=(5,3), save=False, save_path=figure_path)"
   ]
  },
  {
   "cell_type": "markdown",
   "metadata": {},
   "source": [
    "### Coactivity Plasticity Analysis\n",
    "Perform analysis to relate subsequent plasticity to coactivity "
   ]
  },
  {
   "cell_type": "code",
   "execution_count": null,
   "metadata": {},
   "outputs": [],
   "source": [
    "## Save path\n",
    "group_path = r'C:\\Users\\Jake\\Desktop\\Analyzed_data\\grouped'\n",
    "experiment_dir = \"Dual_Spine_Imaging\"\n",
    "plasticity_dir = \"Coactivity_Plasticity\"\n",
    "plasticity_path = os.path.join(group_path, experiment_dir, plasticity_dir)"
   ]
  },
  {
   "cell_type": "code",
   "execution_count": null,
   "metadata": {
    "scrolled": true
   },
   "outputs": [],
   "source": [
    "## Analysis parameters\n",
    "threshold = 0.3\n",
    "exclude = \"Shaft Spine\"\n",
    "save = True\n",
    "\n",
    "plasticity_data = {}\n",
    "for key, value in coactivity_data.items():\n",
    "    plasticity = Pre_Coactivity_Plasticity(\n",
    "        value, threshold, exclude, vol_norm=False, save=save, save_path=plasticity_path\n",
    "    )\n",
    "    plasticity_data[key] = plasticity"
   ]
  },
  {
   "cell_type": "markdown",
   "metadata": {},
   "source": [
    "### Visualize Coactivity Plasticity Data\n",
    "Plot selected data and variables from individual datasets.\n",
    "Use data generated above of load in a dataset"
   ]
  },
  {
   "cell_type": "code",
   "execution_count": null,
   "metadata": {},
   "outputs": [],
   "source": [
    "# Select data to plot\n",
    "load_data = False\n",
    "initial_path = r\"C:\\Users\\Jake\\Desktop\\Figures\\grouped_data\"\n",
    "figure_path = os.path.join(initial_path, experiment_dir, plasticity_dir, \"Early\")\n",
    "if not os.path.isdir(figure_path):\n",
    "    os.makedirs(figure_path)\n",
    "if load_data:\n",
    "    load_name = \"Early_dFoF_norm_0.5_coactivity_plasticity_data\"\n",
    "    plot_data = load_pickle([load_name], plasticity_path)[0]\n",
    "else:\n",
    "    plot_data = plasticity_data[\"Early\"]\n"
   ]
  },
  {
   "cell_type": "code",
   "execution_count": null,
   "metadata": {
    "scrolled": true
   },
   "outputs": [],
   "source": [
    "# Print out variable names\n",
    "for key in plot_data.__dict__.keys():\n",
    "    print(key)"
   ]
  },
  {
   "cell_type": "code",
   "execution_count": null,
   "metadata": {
    "scrolled": false
   },
   "outputs": [],
   "source": [
    "# Correlation Plots\n",
    "plot_data.plot_volume_correlation(\n",
    "    variable_name=\"relative_local_coactivity_rate\",\n",
    "    volume_type=\"relative_volume\",\n",
    "    CI=95,\n",
    "    figsize=(3.7,4),\n",
    "    xtitle=\"Spine-dendrite movement reliability\",\n",
    "    xlim=None,\n",
    "    ylim=None,\n",
    "    face_color=\"cmap\",\n",
    "    edge_color=\"white\",\n",
    "    edge_width=1,\n",
    "    s_size=25,\n",
    "    s_alpha=0.8,\n",
    "    line_color=\"mediumblue\",\n",
    "    line_width=1,\n",
    "    log_trans=True,\n",
    "    save=False,\n",
    "    save_path=figure_path\n",
    ")"
   ]
  },
  {
   "cell_type": "code",
   "execution_count": null,
   "metadata": {},
   "outputs": [],
   "source": []
  },
  {
   "cell_type": "code",
   "execution_count": null,
   "metadata": {
    "scrolled": false
   },
   "outputs": [],
   "source": [
    "# Group mean activity plots\n",
    "plot_data.plot_group_scatter_plot(\n",
    "    variable_name=\"relative_local_coactivity_rate\",\n",
    "    group_type=\"plastic_spines\",\n",
    "    mean_type=\"median\",\n",
    "    err_type=\"CI\",\n",
    "    figsize=(3,4),\n",
    "    ytitle=\"Spine-dendrite LMP corr. (r)\",\n",
    "    ylim=None,\n",
    "    s_colors=[\"darkorange\", \"darkviolet\", \"silver\"],\n",
    "    s_size=5,\n",
    "    s_alpha=0.7,\n",
    "    b_colors=[\"darkorange\", \"darkviolet\", \"silver\"],\n",
    "    b_edgecolors = \"black\",\n",
    "    b_err_colors=\"black\",\n",
    "    b_width=0.7,\n",
    "    b_linewidth=0,\n",
    "    b_alpha=0.3,\n",
    "    test_type=\"nonparametric\",\n",
    "    test_method=\"holm-sidak\",\n",
    "    save=False,\n",
    "    save_path=figure_path,\n",
    ")"
   ]
  },
  {
   "cell_type": "code",
   "execution_count": null,
   "metadata": {
    "scrolled": false
   },
   "outputs": [],
   "source": [
    "\n",
    "plot_data.plot_multi_group_scatter_plots(\n",
    "    variable_name=\"avg_nonmovement_local_coactivity_rate_norm\",\n",
    "    group_type=\"movement_spines\",\n",
    "    subgroup_type=\"plastic_spines\",\n",
    "    mean_type=\"median\",\n",
    "    err_type=\"CI\",\n",
    "    figsize=(6,4),\n",
    "    ytitle=\"Spine-dendrite LMP corr. (r)\",\n",
    "    ylim=None,\n",
    "    s_colors=[\"darkorange\", \"darkviolet\", \"silver\"],\n",
    "    s_alpha=0.8,\n",
    "    s_size=5,\n",
    "    b_colors=[\"darkorange\", \"darkviolet\", \"silver\"],\n",
    "    b_edgecolors=\"black\",\n",
    "    b_err_colors=\"black\",\n",
    "    b_width=0.2,\n",
    "    b_linewidth=0,\n",
    "    b_alpha=0.3,\n",
    "    test_method=\"holm-sidak\",\n",
    "    save=False,\n",
    "    save_path=figure_path,\n",
    ")"
   ]
  },
  {
   "cell_type": "code",
   "execution_count": null,
   "metadata": {
    "scrolled": false
   },
   "outputs": [],
   "source": [
    "plot_data.plot_group_spine_mean_traces(\n",
    "    group_type=\"plastic_spines\",\n",
    "    trace_type=\"nonconj_spine_coactive_calcium_traces\",\n",
    "    exclude=[],\n",
    "    avlines=[0],\n",
    "    ahlines=[0,0,0],\n",
    "    figsize=(3.5,5),\n",
    "    colors=[\"darkorange\", \"forestgreen\", \"silver\"], \n",
    "    ylim=None,\n",
    "    test_method=\"fdr_bh\",\n",
    "    save=False,\n",
    "    save_path=figure_path\n",
    ")"
   ]
  },
  {
   "cell_type": "code",
   "execution_count": null,
   "metadata": {
    "scrolled": false
   },
   "outputs": [],
   "source": [
    "plot_data.plot_spine_coactivity_distance(\n",
    "    variable_name=\"positional_coactivity_norm\",\n",
    "    group_type=\"plastic_spines\",\n",
    "    figsize=(4,3),\n",
    "    colors=[\"darkorange\", \"darkviolet\", \"silver\"],\n",
    "    m_size=7,\n",
    "    ylim=None,\n",
    "    ytitle=\"Local Normalized Coactivity Rate\",\n",
    "    test_method=\"fdr_bh\",\n",
    "    save=True,\n",
    "    save_path=figure_path,\n",
    ")"
   ]
  },
  {
   "cell_type": "code",
   "execution_count": null,
   "metadata": {
    "scrolled": false
   },
   "outputs": [],
   "source": [
    "plot_data.plot_histogram(\n",
    "    variable=\"movement_spine_onset\",\n",
    "    bins=30,\n",
    "    max_lim=None,\n",
    "    group_type=\"plastic_spines\",\n",
    "    exclude=[\"stable_spines\"],\n",
    "    stat=\"probability\",\n",
    "    avlines=\"median\",\n",
    "    figsize=(5,5),\n",
    "    color=[\"darkorange\", \"darkviolet\"],\n",
    "    alpha=0.5,\n",
    "    save=True,\n",
    "    save_path=figure_path\n",
    ")"
   ]
  },
  {
   "cell_type": "code",
   "execution_count": null,
   "metadata": {},
   "outputs": [],
   "source": [
    "plot_data.plot_group_mean_heatmaps(\n",
    "    trace_type=\"nonconj_spine_coactive_traces\",\n",
    "    group_type=\"plastic_spines\",\n",
    "    figsize=(10,5),\n",
    "    hmap_range=(0,1),\n",
    "    center=None,\n",
    "    sorted=\"peak\",\n",
    "    normalize=True,\n",
    "    cmap=\"plasma\",\n",
    "    save=False,\n",
    "    save_path=figure_path\n",
    ")"
   ]
  },
  {
   "cell_type": "code",
   "execution_count": null,
   "metadata": {
    "scrolled": false
   },
   "outputs": [],
   "source": [
    "plot_data.plot_cluster_data(\n",
    "    real_variable=\"local_nn_enlarged\",\n",
    "    shuff_variable=\"shuff_nn_enlarged\",\n",
    "    group_type=\"plastic_spines\",\n",
    "    mean_type=\"median\",\n",
    "    err_type=\"CI\",\n",
    "    hist_bins=30,\n",
    "    hist_size=(5,5),\n",
    "    bar_size=(2.5,4),\n",
    "    ytitle=\"Distance_to nearest enlarged_spine (um)\",\n",
    "    colors=[\"darkorange\", \"darkviolet\", \"dimgrey\"],\n",
    "    err_colors=\"black\",\n",
    "    b_width=0.5,\n",
    "    hist_alpha=0.6,\n",
    "    b_alpha=0.7,\n",
    "    save=False,\n",
    "    save_path=figure_path,\n",
    ")"
   ]
  },
  {
   "cell_type": "code",
   "execution_count": null,
   "metadata": {},
   "outputs": [],
   "source": [
    "from Lab_Analyses.Spine_Analysis import spine_plotting as sp"
   ]
  },
  {
   "cell_type": "code",
   "execution_count": null,
   "metadata": {
    "scrolled": false
   },
   "outputs": [],
   "source": [
    "non_local = np.nonzero(~np.isnan(plot_data.avg_nearby_spine_rate))[0]\n",
    "non_dend = np.nonzero(~np.isnan(plot_data.avg_local_coactivity_rate))[0]\n",
    "non_nan = set(non_local).intersection(non_dend)\n",
    "non_nan = np.array(list(non_nan))\n",
    "local = plot_data.avg_nearby_spine_rate[non_nan]\n",
    "dend = plot_data.avg_local_coactivity_rate[non_nan]\n",
    "sp.plot_sns_scatter_correlation(\n",
    "    local,\n",
    "    dend,\n",
    "    CI=95,\n",
    "    title=\"Relative Volume Comparison\",\n",
    "    xtitle=\"local_coactivity\",\n",
    "    ytitle=\"global_coactivity\",\n",
    "    marker_size=20,\n",
    "    \n",
    ")"
   ]
  },
  {
   "cell_type": "code",
   "execution_count": null,
   "metadata": {},
   "outputs": [],
   "source": [
    "import matplotlib.pyplot as plt"
   ]
  },
  {
   "cell_type": "code",
   "execution_count": null,
   "metadata": {},
   "outputs": [],
   "source": [
    "non_activity = np.nonzero(~np.isnan(plot_data.spine_activity_rate))[0]\n",
    "non_coactivity = np.nonzero(~np.isnan(plot_data.avg_nearby_spine_rate))[0]\n",
    "non_nan = set(non_local).intersection(non_dend)\n",
    "non_nan = np.array(list(non_nan))\n",
    "activity = plot_data.avg_nearby_spine_rate\n",
    "coactivity = plot_data.avg_local_coactivity_rate_norm\n",
    "vol = np.log10(plot_data.relative_volumes[non_nan])"
   ]
  },
  {
   "cell_type": "code",
   "execution_count": null,
   "metadata": {},
   "outputs": [],
   "source": [
    "norm_coactivity = coactivity / activity"
   ]
  },
  {
   "cell_type": "code",
   "execution_count": null,
   "metadata": {},
   "outputs": [],
   "source": [
    "data_dict= {\"enlarged\": norm_coactivity[plot_data.enlarged_spines],\n",
    "          \"shurnken\": norm_coactivity[plot_data.shrunken_spines],\n",
    "          \"stable\": norm_coactivity[plot_data.stable_spines]}"
   ]
  },
  {
   "cell_type": "code",
   "execution_count": null,
   "metadata": {},
   "outputs": [],
   "source": [
    "sp.plot_swarm_bar_plot(\n",
    "    data_dict,\n",
    "    mean_type=\"median\",\n",
    "    err_type=\"CI\",\n",
    "    b_colors=[\"darkorange\", \"darkviolet\", \"silver\"],\n",
    "    s_colors=[\"darkorange\", \"darkviolet\", \"silver\"],\n",
    "    ylim=(0,0.2),\n",
    ")"
   ]
  },
  {
   "cell_type": "code",
   "execution_count": null,
   "metadata": {},
   "outputs": [],
   "source": []
  }
 ],
 "metadata": {
  "kernelspec": {
   "display_name": "Python 3 (ipykernel)",
   "language": "python",
   "name": "python3"
  },
  "language_info": {
   "codemirror_mode": {
    "name": "ipython",
    "version": 3
   },
   "file_extension": ".py",
   "mimetype": "text/x-python",
   "name": "python",
   "nbconvert_exporter": "python",
   "pygments_lexer": "ipython3",
   "version": "3.8.15"
  }
 },
 "nbformat": 4,
 "nbformat_minor": 2
}
