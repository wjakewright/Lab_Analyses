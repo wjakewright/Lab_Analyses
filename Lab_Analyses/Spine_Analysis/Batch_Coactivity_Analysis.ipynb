{
 "cells": [
  {
   "cell_type": "markdown",
   "metadata": {},
   "source": [
    "# Batch Coactivity Analysis\n",
    "\n",
    "## Notebook for preprocessing and analyzing coactivity spine data"
   ]
  },
  {
   "cell_type": "code",
   "execution_count": 1,
   "metadata": {},
   "outputs": [],
   "source": [
    "import os\n",
    "import numpy as np\n",
    "from Lab_Analyses.Spine_Analysis.preprocess_spine_data import organize_dual_spine_data\n",
    "from Lab_Analyses.Spine_Analysis.grouped_coactivity_analysis import grouped_coactivity_analysis\n",
    "from Lab_Analyses.Spine_Analysis.coactivity_plasticity_analysis import Coactivity_Plasticity\n",
    "from Lab_Analyses.Utilities.save_load_pickle import load_pickle"
   ]
  },
  {
   "cell_type": "markdown",
   "metadata": {},
   "source": [
    "### Datasets\n",
    "Specify mice which mice to be processed and analyzed"
   ]
  },
  {
   "cell_type": "code",
   "execution_count": null,
   "metadata": {},
   "outputs": [],
   "source": [
    "# Mouse ids\n",
    "id_1 = \"JW082\"\n",
    "id_2 = \"JW083\"\n",
    "id_3 = \"JW090\"\n",
    "id_4 = \"JW092\"\n",
    "id_5 = \"JW126\"\n",
    "id_6 = \"JW129\"\n",
    "id_7 = \"JW130\"\n",
    "\n",
    "mouse_list = [id_1, id_2, id_3, id_4, id_5, id_6, id_7]\n",
    "#mouse_list = [id_4, id_6]"
   ]
  },
  {
   "cell_type": "markdown",
   "metadata": {},
   "source": [
    "### Preprocessing\n",
    "Preprocess spine datasets"
   ]
  },
  {
   "cell_type": "code",
   "execution_count": null,
   "metadata": {},
   "outputs": [],
   "source": [
    "# Do you want to reprocess the data\n",
    "reprocess = False\n",
    "channels = {\"GluSnFr\": \"GreenCh\", \"Calcium\": \"RedCh\"}\n",
    "fov_type = \"apical\"\n",
    "\n",
    "# Process data\n",
    "if reprocess:\n",
    "    for mouse in mouse_list:\n",
    "        organize_dual_spine_data(mouse, channels, fov_type=fov_type, redetection=True, save=True, structural=True)"
   ]
  },
  {
   "cell_type": "markdown",
   "metadata": {},
   "source": [
    "### Grouped Coactivity Analysis\n",
    "Perform coactivity analysis across all mice and FOVs for a given set of imaging sessions"
   ]
  },
  {
   "cell_type": "code",
   "execution_count": null,
   "metadata": {
    "scrolled": false
   },
   "outputs": [],
   "source": [
    "# Set up parameters\n",
    "## Save path\n",
    "group_path = r'C:\\Users\\Jake\\Desktop\\Analyzed_data\\grouped'\n",
    "experiment_dir = \"Dual_Spine_Imaging\"\n",
    "coactivity_dir = \"Coactivity_Data\"\n",
    "coactivity_path = os.path.join(group_path, experiment_dir, coactivity_dir)\n",
    "\n",
    "## Analysis parameters\n",
    "reanalyze = True\n",
    "save = True\n",
    "days = [\"Early\", \"Middle\", \"Late\"]\n",
    "#days = [\"Middle\"]\n",
    "followup = True\n",
    "zscore = False\n",
    "volume_norm = True\n",
    "fov_type = \"apical\"\n",
    "\n",
    "coactivity_data = {}\n",
    "for day in days:\n",
    "    print(f\"-{day}\")\n",
    "    coactivity = grouped_coactivity_analysis(\n",
    "        mouse_list,\n",
    "        day,\n",
    "        followup=followup,\n",
    "        fov_type=fov_type,\n",
    "        activity_window=(-2,4),\n",
    "        zscore=zscore,\n",
    "        volume_norm=volume_norm,\n",
    "        save=save,\n",
    "        save_path=coactivity_path,\n",
    "    )\n",
    "\n",
    "    coactivity_data[day] = coactivity"
   ]
  },
  {
   "cell_type": "code",
   "execution_count": 2,
   "metadata": {},
   "outputs": [],
   "source": [
    "group_path = r'C:\\Users\\Jake\\Desktop\\Analyzed_data\\grouped'\n",
    "experiment_dir = \"Dual_Spine_Imaging\"\n",
    "coactivity_dir = \"Coactivity_Data\"\n",
    "coactivity_path = os.path.join(group_path, experiment_dir, coactivity_dir)\n",
    "\n",
    "load_coactivity = True\n",
    "if load_coactivity:\n",
    "    names = [\"Early_dFoF_norm_spine_coactivity_data\", \"Middle_dFoF_norm_spine_coactivity_data\", \"Late_dFoF_norm_spine_coactivity_data\"]\n",
    "    data = load_pickle(names, coactivity_path)\n",
    "    days = [\"Early\", \"Middle\", \"Late\"]\n",
    "    coactivity_data = dict(zip(days, data))"
   ]
  },
  {
   "cell_type": "markdown",
   "metadata": {},
   "source": [
    "### Coactivity Plasticity Analysis\n",
    "Perform analysis to relate subsequent plasticity to coactivity "
   ]
  },
  {
   "cell_type": "code",
   "execution_count": 3,
   "metadata": {},
   "outputs": [],
   "source": [
    "## Save path\n",
    "group_path = r'C:\\Users\\Jake\\Desktop\\Analyzed_data\\grouped'\n",
    "experiment_dir = \"Dual_Spine_Imaging\"\n",
    "plasticity_dir = \"Coactivity_Plasticity\"\n",
    "plasticity_path = os.path.join(group_path, experiment_dir, plasticity_dir)"
   ]
  },
  {
   "cell_type": "code",
   "execution_count": 4,
   "metadata": {
    "scrolled": true
   },
   "outputs": [],
   "source": [
    "\n",
    "## Analysis parameters\n",
    "threshold = 0.5\n",
    "exclude = \"Shaft Spine\"\n",
    "save = True\n",
    "\n",
    "plasticity_data = {}\n",
    "for key, value in coactivity_data.items():\n",
    "    plasticity = Coactivity_Plasticity(\n",
    "        value, threshold, exclude, vol_norm=False, save=save, save_path=plasticity_path\n",
    "    )\n",
    "    plasticity_data[key] = plasticity"
   ]
  },
  {
   "cell_type": "markdown",
   "metadata": {},
   "source": [
    "### Visualize Coactivity Plasticity Data\n",
    "Plot selected data and variables from individual datasets.\n",
    "Use data generated above of load in a dataset"
   ]
  },
  {
   "cell_type": "code",
   "execution_count": 5,
   "metadata": {},
   "outputs": [],
   "source": [
    "# Select data to plot\n",
    "load_data = False\n",
    "initial_path = r\"C:\\Users\\Jake\\Desktop\\Figures\\grouped_data\"\n",
    "figure_path = os.path.join(initial_path, experiment_dir, plasticity_dir, \"Early\")\n",
    "if not os.path.isdir(figure_path):\n",
    "    os.makedirs(figure_path)\n",
    "if load_data:\n",
    "    load_name = \"Early_dFoF_norm_0.5_coactivity_plasticity_data\"\n",
    "    plot_data = load_pickle([load_name], plasticity_path)[0]\n",
    "else:\n",
    "    plot_data = plasticity_data[\"Early\"]\n"
   ]
  },
  {
   "cell_type": "code",
   "execution_count": 6,
   "metadata": {
    "scrolled": true
   },
   "outputs": [
    {
     "name": "stdout",
     "output_type": "stream",
     "text": [
      "day\n",
      "threshold\n",
      "exclude\n",
      "vol_norm\n",
      "parameters\n",
      "save\n",
      "save_path\n",
      "group_dict\n",
      "relative_volumes\n",
      "enlarged_spines\n",
      "shrunken_spines\n",
      "stable_spines\n",
      "mouse_id\n",
      "FOV\n",
      "spine_flags\n",
      "followup_flags\n",
      "spine_volumes\n",
      "spine_volumes_um\n",
      "followup_volumes\n",
      "followup_volumes_um\n",
      "movement_spines\n",
      "nonmovement_spines\n",
      "rwd_movement_spines\n",
      "rwd_nonmovement_spines\n",
      "movement_dendrites\n",
      "nonmovement_dendrites\n",
      "rwd_movement_dendrites\n",
      "rwd_nonmovement_dendrites\n",
      "spine_activity_rate\n",
      "dend_activity_rate\n",
      "distance_activity_rate\n",
      "distance_relative_activity_rate\n",
      "distance_coactivity_rate\n",
      "distance_coactivity_rate_norm\n",
      "MRS_distance_coactivity_rate\n",
      "MRS_distance_coactivity_rate_norm\n",
      "nMRS_distance_coactivity_rate\n",
      "nMRS_distance_coactivity_rate_norm\n",
      "movement_distance_coactivity_rate\n",
      "movement_distance_coactivity_rate_norm\n",
      "nonmovement_distance_coactivity_rate\n",
      "nonmovement_distance_coactivity_rate_norm\n",
      "avg_local_coactivity_rate\n",
      "avg_local_coactivity_rate_norm\n",
      "avg_MRS_local_coactivity_rate\n",
      "avg_MRS_local_coactivity_rate_norm\n",
      "avg_nMRS_local_coactivity_rate\n",
      "avg_nMRS_local_coactivity_rate_norm\n",
      "avg_movement_local_coactivity_rate\n",
      "avg_movement_local_coactivity_rate_norm\n",
      "avg_nonmovement_local_coactivity_rate\n",
      "avg_nonmovement_local_coactivity_rate_norm\n",
      "avg_nearby_spine_rate\n",
      "avg_nearby_coactive_spine_rate\n",
      "rel_nearby_spine_rate\n",
      "rel_nearby_coactive_spine_rate\n",
      "frac_nearby_MRSs\n",
      "nearby_coactive_spine_volumes\n",
      "local_coactivity_rate\n",
      "local_coactivity_rate_norm\n",
      "local_spine_fraction_coactive\n",
      "local_spine_coactive_amplitude\n",
      "local_spine_coactive_calcium\n",
      "local_spine_coactive_auc\n",
      "local_spine_coactive_calcium_auc\n",
      "local_spine_coactive_traces\n",
      "local_spine_coactive_calcium_traces\n",
      "local_avg_coactive_spine_num\n",
      "local_sum_nearby_amplitude\n",
      "local_avg_nearby_amplitude\n",
      "local_sum_nearby_calcium\n",
      "local_avg_nearby_calcium\n",
      "local_sum_nearby_calcium_auc\n",
      "local_avg_nearby_calcium_auc\n",
      "local_avg_coactive_num_before\n",
      "local_sum_nearby_amplitude_before\n",
      "local_avg_nearby_amplitude_before\n",
      "local_sum_nearby_calcium_before\n",
      "local_avg_nearby_calcium_before\n",
      "local_avg_nearby_spine_onset\n",
      "local_avg_nearby_spine_jitter\n",
      "local_avg_nearby_event_onset\n",
      "local_avg_nearby_event_jitter\n",
      "local_sum_nearby_binary_traces\n",
      "local_sum_nearby_spine_traces\n",
      "local_avg_nearby_spine_traces\n",
      "local_sum_nearby_calcium_traces\n",
      "local_avg_nearby_calcium_traces\n",
      "avg_nearby_movement_correlation\n",
      "avg_nearby_movement_reliability\n",
      "avg_nearby_movement_specificity\n",
      "avg_nearby_coactivity_rate\n",
      "relative_local_coactivity_rate\n",
      "frac_local_coactivity_participation\n",
      "positional_coactivity\n",
      "positional_coactivity_norm\n",
      "relative_positional_coactivity\n",
      "relative_positional_coactivity_norm\n",
      "spine_dend_coactivity_rate\n",
      "spine_dend_coactivity_rate_norm\n",
      "spine_dend_spine_fraction_coactive\n",
      "spine_dend_dend_fraction_coactive\n",
      "spine_dend_spine_coactive_amplitude\n",
      "spine_dend_spine_coactive_calcium\n",
      "spine_dend_spine_coactive_auc\n",
      "spine_dend_spine_coactive_calcium_auc\n",
      "spine_dend_dend_coactive_amplitude\n",
      "spine_dend_dend_coactive_auc\n",
      "spine_dend_relative_onset\n",
      "spine_dend_spine_coactive_traces\n",
      "spine_dend_spine_coactive_calcium_traces\n",
      "spine_dend_dend_coactive_traces\n",
      "conj_coactivity_rate\n",
      "conj_coactivity_rate_norm\n",
      "conj_spine_fraction_coactive\n",
      "conj_dend_fraction_coactive\n",
      "conj_spine_coactive_amplitude\n",
      "conj_spine_coactive_calcium\n",
      "conj_spine_coactive_auc\n",
      "conj_spine_coactive_calcium_auc\n",
      "conj_dend_coactive_amplitude\n",
      "conj_dend_coactive_auc\n",
      "conj_relative_onset\n",
      "conj_spine_coactive_traces\n",
      "conj_spine_coactive_calcium_traces\n",
      "conj_dend_coactive_traces\n",
      "nonconj_coactivity_rate\n",
      "nonconj_coactivity_rate_norm\n",
      "nonconj_spine_fraction_coactive\n",
      "nonconj_dend_fraction_coactive\n",
      "nonconj_spine_coactive_amplitude\n",
      "nonconj_spine_coactive_calcium\n",
      "nonconj_spine_coactive_auc\n",
      "nonconj_spine_coactive_calcium_auc\n",
      "nonconj_dend_coactive_amplitude\n",
      "nonconj_dend_coactive_auc\n",
      "nonconj_relative_onset\n",
      "nonconj_spine_coactive_traces\n",
      "nonconj_spine_coactive_calcium_traces\n",
      "nonconj_dend_coactive_traces\n",
      "spine_dend_distance_coactivity_rate\n",
      "spine_dend_distance_coactivity_rate_norm\n",
      "spine_dend_avg_local_coactivity_rate\n",
      "spine_dend_avg_local_coactivity_rate_norm\n",
      "spine_dend_cluster_score\n",
      "spine_dend_coactive_num\n",
      "movement_spine_traces\n",
      "movement_spine_amplitude\n",
      "movement_spine_onset\n",
      "movement_dend_traces\n",
      "movement_dend_amplitude\n",
      "movement_dend_onset\n",
      "learned_movement_pattern\n",
      "spine_movements\n",
      "spine_movement_correlation\n",
      "spine_movement_reliability\n",
      "spine_movement_specificity\n",
      "dend_movements\n",
      "dend_movement_correlation\n",
      "dend_movement_reliability\n",
      "dend_movement_specificity\n",
      "local_movements\n",
      "local_movement_correlation\n",
      "local_movement_reliability\n",
      "local_movement_specificity\n",
      "spine_dend_movements\n",
      "spine_dend_movement_correlation\n",
      "spine_dend_movement_reliability\n",
      "spine_dend_movement_specificity\n",
      "distance_movement_corr\n",
      "relative_distance_movement_corr\n",
      "rel_spine_vs_dend_move_corr\n",
      "spine_to_dend_correlation\n",
      "spine_to_nearby_correlation\n"
     ]
    }
   ],
   "source": [
    "# Print out variable names\n",
    "for key in plot_data.__dict__.keys():\n",
    "    print(key)"
   ]
  },
  {
   "cell_type": "code",
   "execution_count": 7,
   "metadata": {},
   "outputs": [
    {
     "name": "stdout",
     "output_type": "stream",
     "text": [
      "79\n",
      "65\n",
      "99\n"
     ]
    }
   ],
   "source": [
    "print(sum(plot_data.enlarged_spines))\n",
    "print(sum(plot_data.shrunken_spines))\n",
    "print(sum(plot_data.stable_spines))"
   ]
  },
  {
   "cell_type": "code",
   "execution_count": null,
   "metadata": {
    "scrolled": false
   },
   "outputs": [],
   "source": [
    "# Correlation Plots\n",
    "plot_data.plot_volume_correlation(\n",
    "    variable_name=\"spine_activity_rate\",\n",
    "    volume_type=\"relative_volume\",\n",
    "    CI=95,\n",
    "    ytitle=\"Spine Calcium dF/F\",\n",
    "    xlim=None,\n",
    "    ylim=None,\n",
    "    face_color=\"mediumblue\",\n",
    "    edge_color=\"white\",\n",
    "    edge_width=1,\n",
    "    s_alpha=0.4,\n",
    "    line_color=\"mediumblue\",\n",
    "    line_width=1,\n",
    "    log_trans=True,\n",
    "    save=False,\n",
    "    save_path=figure_path\n",
    ")"
   ]
  },
  {
   "cell_type": "code",
   "execution_count": null,
   "metadata": {},
   "outputs": [],
   "source": [
    "# Group mean activity plots\n",
    "plot_data.plot_group_scatter_plot(\n",
    "    variable_name=\"spine_activity_rate\",\n",
    "    group_type=\"plastic_spines\",\n",
    "    mean_type=\"mean\",\n",
    "    err_type=\"sem\",\n",
    "    figsize=(3,4),\n",
    "    ytitle=\"Relative Coactivity Rate\",\n",
    "    ylim=None,\n",
    "    s_colors=[\"darkorange\", \"forestgreen\", \"silver\"],\n",
    "    s_size=5,\n",
    "    s_alpha=0.7,\n",
    "    b_colors=[\"darkorange\", \"forestgreen\", \"silver\"],\n",
    "    b_edgecolors = \"black\",\n",
    "    b_err_colors=\"black\",\n",
    "    b_width=0.7,\n",
    "    b_linewidth=0,\n",
    "    b_alpha=0.3,\n",
    "    test_type=\"nonparametric\",\n",
    "    test_method=\"holm-sidak\",\n",
    "    save=False,\n",
    "    save_path=figure_path,\n",
    ")"
   ]
  },
  {
   "cell_type": "code",
   "execution_count": null,
   "metadata": {
    "scrolled": false
   },
   "outputs": [],
   "source": [
    "\n",
    "plot_data.plot_multi_group_scatter_plots(\n",
    "    variable_name=\"spine_activity_rate\",\n",
    "    group_type=\"movement_spines\",\n",
    "    subgroup_type=\"plastic_spines\",\n",
    "    mean_type=\"mean\",\n",
    "    err_type=\"sem\",\n",
    "    figsize=(7,4),\n",
    "    ytitle=\"Fraction of Dendritic Events\",\n",
    "    ylim=None,\n",
    "    s_colors=[\"darkorange\", \"forestgreen\", \"silver\"],\n",
    "    s_alpha=0.8,\n",
    "    s_size=5,\n",
    "    b_colors=[\"darkorange\", \"forestgreen\", \"silver\"],\n",
    "    b_edgecolors=\"black\",\n",
    "    b_err_colors=\"black\",\n",
    "    b_width=0.2,\n",
    "    b_linewidth=0,\n",
    "    b_alpha=0.3,\n",
    "    test_method=\"sidak\",\n",
    "    save=False,\n",
    "    save_path=figure_path,\n",
    ")"
   ]
  },
  {
   "cell_type": "code",
   "execution_count": 16,
   "metadata": {
    "scrolled": false
   },
   "outputs": [
    {
     "name": "stderr",
     "output_type": "stream",
     "text": [
      "C:\\Users\\Jake\\Documents\\Anaconda3\\envs\\analysis_env\\lib\\site-packages\\pingouin\\distribution.py:1006: RuntimeWarning: divide by zero encountered in double_scalars\n",
      "  W = np.product(eig) / (eig.sum() / d) ** d\n"
     ]
    },
    {
     "name": "stdout",
     "output_type": "stream",
     "text": [
      "╒═════════════╤════════════╤═══════╤═══════╤═══════════╤═════════════╤══════════════╤═════════════╤══════════════╕\n",
      "│ Source      │         SS │   DF1 │   DF2 │        MS │           F │        p-unc │         np2 │          eps │\n",
      "╞═════════════╪════════════╪═══════╪═══════╪═══════════╪═════════════╪══════════════╪═════════════╪══════════════╡\n",
      "│ group       │   0.276958 │     2 │   236 │ 0.138479  │   0.0358307 │ 0.964809     │ 0.000303558 │ nan          │\n",
      "├─────────────┼────────────┼───────┼───────┼───────────┼─────────────┼──────────────┼─────────────┼──────────────┤\n",
      "│ rm_val      │ 721.061    │   359 │ 84724 │ 2.00853   │ 272.952     │ 0            │ 0.536302    │   0.00797679 │\n",
      "├─────────────┼────────────┼───────┼───────┼───────────┼─────────────┼──────────────┼─────────────┼──────────────┤\n",
      "│ Interaction │  14.6345   │   718 │ 84724 │ 0.0203823 │   2.76989   │ 1.02788e-117 │ 0.0229353   │ nan          │\n",
      "╘═════════════╧════════════╧═══════╧═══════╧═══════════╧═════════════╧══════════════╧═════════════╧══════════════╛\n"
     ]
    },
    {
     "name": "stderr",
     "output_type": "stream",
     "text": [
      "C:\\Users\\Jake\\Documents\\Anaconda3\\envs\\analysis_env\\lib\\site-packages\\matplotlib\\backends\\backend_agg.py:240: RuntimeWarning: Glyph 8320 missing from current font.\n",
      "  font.set_text(s, 0.0, flags=flags)\n",
      "C:\\Users\\Jake\\Documents\\Anaconda3\\envs\\analysis_env\\lib\\site-packages\\matplotlib\\backends\\backend_agg.py:203: RuntimeWarning: Glyph 8320 missing from current font.\n",
      "  font.set_text(s, 0, flags=flags)\n"
     ]
    },
    {
     "data": {
      "image/png": "[encoded data removed]",
      "text/plain": [
       "<Figure size 500x500 with 1 Axes>"
      ]
     },
     "metadata": {},
     "output_type": "display_data"
    }
   ],
   "source": [
    "plot_data.plot_group_spine_mean_traces(\n",
    "    group_type=\"plastic_spines\",\n",
    "    trace_type=\"local_sum_nearby_spine_traces\",\n",
    "    exclude=[],\n",
    "    avlines=(0,50,80),\n",
    "    figsize=(5,5),\n",
    "    colors=[\"darkorange\", \"forestgreen\", \"silver\"], \n",
    "    ylim=None,\n",
    "    save=False,\n",
    "    save_path=figure_path\n",
    ")"
   ]
  },
  {
   "cell_type": "code",
   "execution_count": null,
   "metadata": {},
   "outputs": [],
   "source": [
    "plot_data.plot_spine_coactivity_distance(\n",
    "    variable_name=\"movement_distance_coactivity_rate\",\n",
    "    group_type=\"plastic_spines\",\n",
    "    figsize=(5,5),\n",
    "    colors=[\"darkorange\", \"forestgreen\", \"silver\"],\n",
    "    ylim=None,\n",
    "    ytitle=\"Local Normalized Coactivity Rate\",\n",
    "    save=False,\n",
    "    save_path=figure_path,\n",
    ")"
   ]
  },
  {
   "cell_type": "code",
   "execution_count": null,
   "metadata": {},
   "outputs": [],
   "source": [
    "plot_data.plot_histogram(\n",
    "    variable=\"conj_relative_onset\",\n",
    "    bins=50,\n",
    "    max_lim=None,\n",
    "    avlines=(0,0),\n",
    "    figsize=(5,5),\n",
    "    color=\"blue\",\n",
    "    alpha=0.4,\n",
    "    save=False,\n",
    "    save_path=figure_path\n",
    ")"
   ]
  },
  {
   "cell_type": "code",
   "execution_count": null,
   "metadata": {},
   "outputs": [],
   "source": [
    "plot_data.plot_group_mean_heatmaps(\n",
    "    trace_type=\"movement_spine_traces\",\n",
    "    group_type=\"movement_spines\",\n",
    "    figsize=(10,5),\n",
    "    hmap_range=(0,1),\n",
    "    center=None,\n",
    "    sorted=\"peak\",\n",
    "    normalize=True,\n",
    "    cmap=\"plasma\",\n",
    "    save=False,\n",
    "    save_path=figure_path\n",
    ")"
   ]
  },
  {
   "cell_type": "code",
   "execution_count": null,
   "metadata": {},
   "outputs": [],
   "source": [
    "from Lab_Analyses.Spine_Analysis.spine_plotting import plot_sns_scatter_correlation\n",
    "\n",
    "\n"
   ]
  },
  {
   "cell_type": "code",
   "execution_count": null,
   "metadata": {},
   "outputs": [],
   "source": [
    "original = np.log10(a.relative_volumes)\n",
    "original = a.relative_volumes\n",
    "norm = b.relative_volumes"
   ]
  },
  {
   "cell_type": "code",
   "execution_count": null,
   "metadata": {},
   "outputs": [],
   "source": [
    "plot_sns_scatter_correlation(\n",
    "    original,\n",
    "    norm,\n",
    "    CI=95,\n",
    "    title=\"Relative Volume Comparison\",\n",
    "    xtitle=\"Original Relative Volume\",\n",
    "    ytitle=\"Normalized Relative Volume\",\n",
    "    marker_size=4,\n",
    "    \n",
    ")"
   ]
  },
  {
   "cell_type": "code",
   "execution_count": null,
   "metadata": {},
   "outputs": [],
   "source": [
    "a = np.float64(5)"
   ]
  },
  {
   "cell_type": "code",
   "execution_count": null,
   "metadata": {},
   "outputs": [],
   "source": [
    "from pingouin import mixed_anova, read_dataset\n",
    "df = read_dataset('mixed_anova')"
   ]
  },
  {
   "cell_type": "code",
   "execution_count": 17,
   "metadata": {},
   "outputs": [],
   "source": [
    "a = \"enlarged vs. shrunken\""
   ]
  },
  {
   "cell_type": "code",
   "execution_count": 18,
   "metadata": {},
   "outputs": [
    {
     "data": {
      "text/plain": [
       "['enlarged', 'shrunken']"
      ]
     },
     "execution_count": 18,
     "metadata": {},
     "output_type": "execute_result"
    }
   ],
   "source": [
    "a.split(\" vs. \")"
   ]
  },
  {
   "cell_type": "code",
   "execution_count": null,
   "metadata": {},
   "outputs": [],
   "source": []
  }
 ],
 "metadata": {
  "kernelspec": {
   "display_name": "Python 3 (ipykernel)",
   "language": "python",
   "name": "python3"
  },
  "language_info": {
   "codemirror_mode": {
    "name": "ipython",
    "version": 3
   },
   "file_extension": ".py",
   "mimetype": "text/x-python",
   "name": "python",
   "nbconvert_exporter": "python",
   "pygments_lexer": "ipython3",
   "version": "3.8.15"
  }
 },
 "nbformat": 4,
 "nbformat_minor": 2
}
