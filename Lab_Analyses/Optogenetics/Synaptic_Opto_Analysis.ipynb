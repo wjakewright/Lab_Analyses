{
 "cells": [
  {
   "cell_type": "markdown",
   "id": "aa7b5e7d",
   "metadata": {},
   "source": [
    "# Synaptic Opto Analysis\n",
    "Notebook to analyze synaptic responses to input-specific optogenetic stimulation"
   ]
  },
  {
   "cell_type": "code",
   "execution_count": null,
   "id": "b08a5d07",
   "metadata": {},
   "outputs": [],
   "source": [
    "# Import modules\n",
    "import os\n",
    "import numpy as np\n",
    "from Lab_Analyses.Behavior.process_multi_session_behavior import process_multi_session_behavior\n",
    "from Lab_Analyses.Optogenetics.synaptic_opto_processing import synaptic_opto_processing\n",
    "import Lab_Analyses.Optogenetics.synaptic_opto_plotting as plotting\n",
    "from Lab_Analyses.Optogenetics.synaptic_opto_dataclass import Grouped_Synaptic_Opto_Data"
   ]
  },
  {
   "cell_type": "code",
   "execution_count": null,
   "id": "92792688",
   "metadata": {},
   "outputs": [],
   "source": [
    "# Setup mice list and parameters\n",
    "## Mouse ids\n",
    "id_1 = \"JW268\"\n",
    "\n",
    "## Number of sessions for behavior\n",
    "days_1 = []\n",
    "\n",
    "mouse_ids = [id_1]\n",
    "days = [days_1]\n",
    "\n",
    "## Other parameters\n",
    "fov_type = \"apical\"\n",
    "\n",
    "base_path = r'Z:\\People\\Jake\\Behavior'"
   ]
  },
  {
   "cell_type": "markdown",
   "id": "ed9224e3",
   "metadata": {},
   "source": [
    "## Process behavioral data"
   ]
  },
  {
   "cell_type": "code",
   "execution_count": null,
   "id": "134c054f",
   "metadata": {},
   "outputs": [],
   "source": [
    "for mouse, day in zip(mouse_ids, days):\n",
    "    print(f\"---------------------\\nAnalyzing Mouse {mouse}\")\n",
    "    process_multi_session_behavior(mouse_id=mouse, base_path=base_path, days=day, save=True)\n",
    "    print(f\"                           \", end=\"\\r\")\n",
    "    print(\"Done\")"
   ]
  },
  {
   "cell_type": "markdown",
   "id": "c75b34fc",
   "metadata": {},
   "source": [
    "## Analyze optogenetic responses"
   ]
  },
  {
   "cell_type": "code",
   "execution_count": null,
   "id": "c4f44dec",
   "metadata": {},
   "outputs": [],
   "source": []
  }
 ],
 "metadata": {
  "kernelspec": {
   "display_name": "Python 3 (ipykernel)",
   "language": "python",
   "name": "python3"
  },
  "language_info": {
   "codemirror_mode": {
    "name": "ipython",
    "version": 3
   },
   "file_extension": ".py",
   "mimetype": "text/x-python",
   "name": "python",
   "nbconvert_exporter": "python",
   "pygments_lexer": "ipython3",
   "version": "3.8.18"
  }
 },
 "nbformat": 4,
 "nbformat_minor": 5
}
