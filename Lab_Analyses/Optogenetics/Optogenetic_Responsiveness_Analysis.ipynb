{
 "cells": [
  {
   "cell_type": "markdown",
   "id": "b7d63dc7",
   "metadata": {},
   "source": [
    "# Optogenetic Responsiveness Analysis\n",
    "\n",
    "Notebook for the bulk analysis of optogenetic responsiveness. Handles the loading and analysis of multiple mice and sessions, as wells as subsessions (e.g., different powers). Will save the analysis for each mouse and each session individually. Also allows for the grouping of mice. "
   ]
  },
  {
   "cell_type": "code",
   "execution_count": null,
   "id": "937ccb73",
   "metadata": {},
   "outputs": [],
   "source": [
    "# Import modules\n",
    "import os \n",
    "import numpy as np\n",
    "import matplotlib.pyplot as plt\n",
    "from Lab_Analyses.Utilities.save_load_pickle import load_pickle\n",
    "from Lab_Analyses.Optogenetics.optogenetic_responses import classify_opto_responses, group_opto_responses\n",
    "from Lab_Analyses.Optogenetics.load_opto_sessions import load_opto_sessions\n",
    "from Lab_Analyses.Optogenetics.power_curve import Power_Curve"
   ]
  },
  {
   "cell_type": "code",
   "execution_count": null,
   "id": "4550f25a",
   "metadata": {},
   "outputs": [],
   "source": [
    "# Load Datasets\n",
    "\n",
    "# Mice\n",
    "m1 = \"JW088\"\n",
    "m2 = \"JW095\"\n",
    "m3 = \"JW096\"\n",
    "m4 = \"JW097\"\n",
    "\n",
    "# Days\n",
    "d1 = [\"220507\", \"220510\"]\n",
    "d2 = [\"220606\", \"220609\"]\n",
    "d3 = [\"220606\", \"220609\"]\n",
    "d4 = [\"220606\", \"220609\"]\n",
    "\n",
    "# Keyword for which files to load\n",
    "keywords = [\"Soma\", \"Soma_2\"]\n",
    "\n",
    "# Specify which ROI types you want to include in the analysis\n",
    "## Put in a list\n",
    "### None will include all ROI types\n",
    "ROI_types = [\"Soma\"]\n",
    "\n",
    "mice = [m1, m2, m3, m4]\n",
    "days = [d1, d2, d3, d4]\n",
    "\n",
    "imaging_datasets, behavior_datasets = load_opto_sessions(mice, days, keywords)"
   ]
  },
  {
   "cell_type": "code",
   "execution_count": null,
   "id": "f25bf791",
   "metadata": {},
   "outputs": [],
   "source": [
    "# Analyze each imaging session/subsession for optogenetic responsiveness\n",
    "opto_datasets = {}\n",
    "for (key, image), (_, behavior) in zip(imaging_datasets.items(), behavior_datasets.items()):\n",
    "    optos = []\n",
    "    print(\"-----------------------------------------\")\n",
    "    print(f\"Analyzing {key}\")\n",
    "    for i, b in zip(image, behavior):\n",
    "        opto = classify_opto_responses(\n",
    "            imaging_data=i, \n",
    "            behavior_data=b,\n",
    "            session_type=\"pulsed\",\n",
    "            method=\"test\",\n",
    "            ROI_types=ROI_types,\n",
    "            window=[-1,1],\n",
    "            vis_window=[-2,3],\n",
    "            processed_dFoF=False,\n",
    "            save=True\n",
    "        )\n",
    "        optos.append(opto)\n",
    "    opto_datasets[key] = optos"
   ]
  },
  {
   "cell_type": "markdown",
   "id": "1e9fffbe",
   "metadata": {},
   "source": [
    "## Group the data together"
   ]
  },
  {
   "cell_type": "code",
   "execution_count": null,
   "id": "a20c99bf",
   "metadata": {},
   "outputs": [],
   "source": [
    "# Group datasets across the different mice and sessions\n",
    "group_path = r\"C:\\Users\\Jake\\Desktop\\Analyzed_data\\grouped\"\n",
    "experiment_directory = \"opto_pulsed\"\n",
    "base_name = \"soma_chrimson\"\n",
    "group_save_path = os.path.join(group_path, experiment_directory, base_name)\n",
    "grouped_datasets = {}\n",
    "for opto in zip(*opto_datasets.values()):\n",
    "    group_name = f\"{base_name}_{opto[0].session}\"\n",
    "    grouped_data = group_opto_responses(opto, group_name, save=True, save_path=group_save_path)\n",
    "    grouped_datasets[opto[0].session] = grouped_data"
   ]
  },
  {
   "cell_type": "markdown",
   "id": "59de2257",
   "metadata": {},
   "source": [
    "### Visualize the grouped data\n",
    "Automatically handles saving the figure outputs for each subsession type"
   ]
  },
  {
   "cell_type": "code",
   "execution_count": null,
   "id": "df87b8fd",
   "metadata": {
    "scrolled": true
   },
   "outputs": [],
   "source": [
    "# Visualize the data\n",
    "figure_base_path = r\"C:\\Users\\Jake\\Desktop\\Figures\\grouped_data\"\n",
    "figure_save_path = os.path.join(figure_base_path, experiment_directory, base_name)\n",
    "parameters = {\"title\": \"default\", \"hmap_range\": (0,3), \"cmap\": \"plasma\", \"zeroed\": True, \"sort\": True, \"center\": None}\n",
    "for name,dataset in grouped_datasets.items():\n",
    "    if dataset.ROI_types is None:\n",
    "        rois = \"allROIs\"\n",
    "    else:\n",
    "        if len(ROI_types) > 1:\n",
    "            sep = \"_\"\n",
    "            rois = sep.join(dataset.ROI_types)\n",
    "        else:\n",
    "            rois = dataset.ROI_types[0]\n",
    "    dataset_save_path = os.path.join(figure_save_path, rois, name)\n",
    "    if not os.path.isdir(dataset_save_path):\n",
    "        os.makedirs(dataset_save_path)\n",
    "    dataset.display_results(parameters=parameters, save=True, save_path=dataset_save_path)\n",
    "    \n",
    "    # Change if you want all figures to stay visible\n",
    "    plt.close(\"all\")"
   ]
  },
  {
   "cell_type": "markdown",
   "id": "1953b4a7",
   "metadata": {
    "scrolled": false
   },
   "source": [
    "## Generate Power curve"
   ]
  },
  {
   "cell_type": "code",
   "execution_count": null,
   "id": "f140dda3",
   "metadata": {
    "scrolled": false
   },
   "outputs": [],
   "source": [
    "power_save_path = group_save_path\n",
    "power_curve = Power_Curve(data=grouped_datasets, posttest=\"Bonferroni\", save=True, save_path=power_save_path)"
   ]
  },
  {
   "cell_type": "code",
   "execution_count": null,
   "id": "d2278adc",
   "metadata": {},
   "outputs": [],
   "source": []
  }
 ],
 "metadata": {
  "kernelspec": {
   "display_name": "Python 3 (ipykernel)",
   "language": "python",
   "name": "python3"
  },
  "language_info": {
   "codemirror_mode": {
    "name": "ipython",
    "version": 3
   },
   "file_extension": ".py",
   "mimetype": "text/x-python",
   "name": "python",
   "nbconvert_exporter": "python",
   "pygments_lexer": "ipython3",
   "version": "3.8.15"
  }
 },
 "nbformat": 4,
 "nbformat_minor": 5
}
