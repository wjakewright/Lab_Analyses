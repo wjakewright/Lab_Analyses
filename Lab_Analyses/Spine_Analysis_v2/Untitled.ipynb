{
 "cells": [
  {
   "cell_type": "code",
   "execution_count": 1,
   "id": "0e05ff93",
   "metadata": {},
   "outputs": [],
   "source": [
    "from Lab_Analyses.Spine_Analysis_v2.elimination_coactivity import elimination_coactivity_analysis\n",
    "%matplotlib qt"
   ]
  },
  {
   "cell_type": "code",
   "execution_count": 6,
   "id": "b1088926",
   "metadata": {},
   "outputs": [],
   "source": [
    "# Mouse ids\n",
    "id_1 = \"JW082\"\n",
    "id_2 = \"JW083\"\n",
    "id_3 = \"JW090\"\n",
    "id_4 = \"JW092\"\n",
    "id_5 = \"JW126\"\n",
    "id_6 = \"JW129\"\n",
    "id_7 = \"JW130\"\n",
    "id_8 = \"JW153\"\n",
    "id_9 = \"JW150\"\n",
    "id_10 = \"JW168\"\n",
    "\n",
    "mouse_list = [id_1, id_2, id_3, id_4, id_6, id_7, id_8, id_9, id_10]\n",
    "#mouse_list = [id_2, id_3, id_4, id_6]\n",
    "\n",
    "# FOV type\n",
    "fov_type = \"apical\""
   ]
  },
  {
   "cell_type": "code",
   "execution_count": 4,
   "id": "a8075184",
   "metadata": {},
   "outputs": [],
   "source": [
    "id_2 = \"JW153\"\n",
    "id_3 = \"JW154\"\n",
    "id_4 = \"JW167\"\n",
    "id_5 = \"JW168\"\n",
    "id_6 = \"JW169\"\n",
    "\n",
    "mouse_list = [id_2, id_3, id_4, id_5, id_6]\n",
    "fov_type = \"basal\""
   ]
  },
  {
   "cell_type": "code",
   "execution_count": 7,
   "id": "55a85b7a",
   "metadata": {
    "scrolled": false
   },
   "outputs": [
    {
     "name": "stderr",
     "output_type": "stream",
     "text": [
      "c:\\users\\jake\\desktop\\python_code\\lab_analyses\\Lab_Analyses\\Spine_Analysis_v2\\spine_utilities.py:149: RuntimeWarning: Mean of empty slice\n",
      "  binned_data.append(np.nanmean(data[idxs]))\n"
     ]
    },
    {
     "name": "stdout",
     "output_type": "stream",
     "text": [
      "(8, 84)\n",
      "(8, 385)\n",
      "Stable: 1.771885181542115\n",
      "New: 1.1335078805327259\n",
      "Elim: 0.9438102790781387\n"
     ]
    }
   ],
   "source": [
    "elimination_coactivity_analysis(\n",
    "    mice_list=mouse_list,\n",
    "    fov_type=fov_type,\n",
    "    include_inactive=True\n",
    ")"
   ]
  },
  {
   "cell_type": "code",
   "execution_count": null,
   "id": "c984de74",
   "metadata": {},
   "outputs": [],
   "source": [
    "import numpy as np\n",
    "np.nanmean([np.nan, np.nan, np.nan])"
   ]
  },
  {
   "cell_type": "code",
   "execution_count": null,
   "id": "265308e7",
   "metadata": {},
   "outputs": [],
   "source": [
    "import numpy as np\n",
    "import statsmodels.api as sm\n",
    "lowess = sm.nonparametric.lowess\n",
    "x = np.random.uniform(low=-2*np.pi, high=2*np.pi, size=500)\n",
    "x.sort()\n",
    "y = np.sin(x) + np.random.normal(size=len(x))\n",
    "z = lowess(y, x, return_sorted=False)\n",
    "w = lowess(y, x, frac=0.1, return_sorted=False)\n",
    "import scipy.signal as sysignal\n",
    "t = sysignal.savgol_filter(y, 101, 5)"
   ]
  },
  {
   "cell_type": "code",
   "execution_count": null,
   "id": "78df7e23",
   "metadata": {},
   "outputs": [],
   "source": [
    "import matplotlib.pyplot as plt\n",
    "%matplotlib notebook\n",
    "\n",
    "plt.figure()\n",
    "plt.plot(x, y, color=\"red\")\n",
    "plt.plot(x,z, color=\"blue\")\n",
    "plt.plot(x, w, color=\"green\")\n",
    "#plt.plot(x, t, color=\"blue\")"
   ]
  },
  {
   "cell_type": "code",
   "execution_count": null,
   "id": "32184fa0",
   "metadata": {},
   "outputs": [],
   "source": [
    "from Lab_Analyses.Spine_Analysis_v2 import spine_utilities as s_utils"
   ]
  },
  {
   "cell_type": "code",
   "execution_count": null,
   "id": "ee8b1431",
   "metadata": {},
   "outputs": [],
   "source": [
    "data = s_utils.load_spine_datasets(\"JW090\", [\"Early\"], \"apical\")"
   ]
  },
  {
   "cell_type": "code",
   "execution_count": null,
   "id": "04986b16",
   "metadata": {},
   "outputs": [],
   "source": [
    "d = data[\"FOV2_apical\"][\"Early\"]"
   ]
  },
  {
   "cell_type": "code",
   "execution_count": null,
   "id": "38a72bc0",
   "metadata": {},
   "outputs": [],
   "source": [
    "dFoF = d.spine_GluSnFr_processed_dFoF\n",
    "activitya = d.spine_GluSnFr_activity"
   ]
  },
  {
   "cell_type": "code",
   "execution_count": null,
   "id": "1eeca674",
   "metadata": {},
   "outputs": [],
   "source": [
    "plt.figure()\n",
    "plt.plot(dFoF[30000:35000, 0])\n",
    "plt.plot(activitya[30000:35000, 0])\n",
    "print(len(np.nonzero(np.diff(activitya[:, 0]) == 1)[0]))"
   ]
  },
  {
   "cell_type": "code",
   "execution_count": null,
   "id": "09dc5fbe",
   "metadata": {},
   "outputs": [],
   "source": [
    "smooth = sysignal.savgol_filter(dFoF[:, 0], 31, 2)\n",
    "smooth_2 = sysignal.savgol_filter(dFoF[:, 0], 61, 6)\n",
    "from Lab_Analyses.Utilities.event_detection import event_detection\n",
    "activity, _, _ = event_detection(dFoF[:, 0].reshape(-1,1), 2,1,0.2, sampling_rate=60, filt_poly=6, sec_smooth=1)"
   ]
  },
  {
   "cell_type": "code",
   "execution_count": null,
   "id": "b717ecf7",
   "metadata": {},
   "outputs": [],
   "source": [
    "print(np.sum(np.diff(activity.reshape(1,-1) == 1)[0]))"
   ]
  },
  {
   "cell_type": "code",
   "execution_count": null,
   "id": "a0dc8c72",
   "metadata": {
    "scrolled": false
   },
   "outputs": [],
   "source": [
    "plt.figure()\n",
    "#plt.plot(dFoF[10000:14000, 0])\n",
    "plt.plot(smooth, color=\"black\")\n",
    "plt.plot(activitya[:, 0], color=\"blue\")\n",
    "#plt.plot(activity, color=\"red\")\n",
    "\n"
   ]
  },
  {
   "cell_type": "code",
   "execution_count": null,
   "id": "d18fb7f0",
   "metadata": {},
   "outputs": [],
   "source": [
    "frac = 61 / len(dFoF[:, 0])\n",
    "frac"
   ]
  },
  {
   "cell_type": "code",
   "execution_count": null,
   "id": "651198ac",
   "metadata": {},
   "outputs": [],
   "source": [
    "smooth_l = lowess( dFoF[:, 0], np.arange(len(dFoF[:, 0])), frac=frac, return_sorted=False)"
   ]
  },
  {
   "cell_type": "code",
   "execution_count": null,
   "id": "8b13bdb4",
   "metadata": {},
   "outputs": [],
   "source": [
    "print(smooth_l.shape)\n",
    "print(dFoF[:, 0].shape)\n",
    "\n",
    "np.arange(10)"
   ]
  },
  {
   "cell_type": "code",
   "execution_count": null,
   "id": "156fe756",
   "metadata": {},
   "outputs": [],
   "source": [
    "plt.figure()\n",
    "#plt.plot(dFoF[30000:35000, 0], color=\"blue\")\n",
    "plt.plot(smooth_l[30000:35000], color=\"red\")\n",
    "plt.plot(smooth[30000:35000])"
   ]
  },
  {
   "cell_type": "code",
   "execution_count": null,
   "id": "67ff1c1d",
   "metadata": {},
   "outputs": [],
   "source": [
    "import numpy as np\n",
    "d = {\"a\": np.array([1,1,1]), \"b\": np.array([2,2,2])}"
   ]
  },
  {
   "cell_type": "code",
   "execution_count": null,
   "id": "3448d176",
   "metadata": {},
   "outputs": [],
   "source": [
    "a = np.array([1,1,1,1])\n",
    "b = a.reshape(-1,1)"
   ]
  },
  {
   "cell_type": "code",
   "execution_count": null,
   "id": "96e29edc",
   "metadata": {},
   "outputs": [],
   "source": [
    "a = np.array([[1,1,1,1,1,1],\n",
    "              [2,2,2,2,2,2],\n",
    "              [3,3,3,3,3,3]])"
   ]
  },
  {
   "cell_type": "code",
   "execution_count": null,
   "id": "7e980164",
   "metadata": {},
   "outputs": [],
   "source": [
    "np.hstack((a,a))"
   ]
  },
  {
   "cell_type": "code",
   "execution_count": null,
   "id": "007cee4d",
   "metadata": {},
   "outputs": [],
   "source": [
    "if \"F\" in a and \"Fnue\" not in a:\n",
    "    print(a)"
   ]
  },
  {
   "cell_type": "code",
   "execution_count": null,
   "id": "3b86429c",
   "metadata": {},
   "outputs": [],
   "source": [
    "from Lab_Analyses.Utilities.save_load_pickle import load_pickle"
   ]
  },
  {
   "cell_type": "code",
   "execution_count": null,
   "id": "4f357549",
   "metadata": {},
   "outputs": [],
   "source": [
    "fname = r\"C:\\Users\\Jake\\Desktop\\Analyzed_data\\individual\\JW092\\imaging\\FOV1_apical\\Early\\JW092_220606_GreenCh_imaging_data\"\n",
    "\n",
    "data = load_pickle([fname])[0]"
   ]
  },
  {
   "cell_type": "code",
   "execution_count": null,
   "id": "6345e75d",
   "metadata": {},
   "outputs": [],
   "source": [
    "data.processed_dFoF.keys()"
   ]
  },
  {
   "cell_type": "code",
   "execution_count": null,
   "id": "543810f2",
   "metadata": {},
   "outputs": [],
   "source": [
    "path = r\"Z:\\People\\Jake\\Behavior\\JW156\\230305\"\n",
    "from Lab_Analyses.Behavior.load_xsg_continuous import load_xsg_continuous"
   ]
  },
  {
   "cell_type": "code",
   "execution_count": null,
   "id": "f1cf2a47",
   "metadata": {},
   "outputs": [],
   "source": [
    "xsg_data = load_xsg_continuous(path)"
   ]
  },
  {
   "cell_type": "code",
   "execution_count": null,
   "id": "b8d3dd34",
   "metadata": {},
   "outputs": [],
   "source": [
    "import matplotlib.pyplot as plt\n",
    "%matplotlib notebook"
   ]
  },
  {
   "cell_type": "code",
   "execution_count": null,
   "id": "7312c0cd",
   "metadata": {},
   "outputs": [],
   "source": [
    "\n",
    "frame_trace = xsg_data.channels[\"Frame\"]\n",
    "print(frame_trace)"
   ]
  },
  {
   "cell_type": "code",
   "execution_count": null,
   "id": "f0304147",
   "metadata": {},
   "outputs": [],
   "source": [
    "frame_times = (\n",
    "        np.nonzero(\n",
    "            (frame_trace[1:] > 2.5).astype(int) & (frame_trace[:-1] < 2.5).astype(int)\n",
    "        )[0]\n",
    "        + 1\n",
    "    )\n",
    "frame_times = (frame_times + 1) / 10000"
   ]
  },
  {
   "cell_type": "code",
   "execution_count": null,
   "id": "ef8a94b3",
   "metadata": {},
   "outputs": [],
   "source": [
    "import numpy as np\n",
    "\n",
    "a = np.zeros(10) * np.nan"
   ]
  },
  {
   "cell_type": "code",
   "execution_count": null,
   "id": "9726c4ed",
   "metadata": {},
   "outputs": [],
   "source": [
    "a = np.array([0])\n",
    "b = np.array([1])\n",
    "np.concatenate((a,b))"
   ]
  },
  {
   "cell_type": "code",
   "execution_count": null,
   "id": "d08f16a5",
   "metadata": {},
   "outputs": [],
   "source": [
    "a=np.random.randint(10,50, size=(30))\n",
    "a = np.concatenate((a, np.array([100, 130]))) / 100\n",
    "b=np.random.randint(30,80, size=(30)) / 100\n",
    "c=np.random.randint(5,60, size=(30)) / 100"
   ]
  },
  {
   "cell_type": "code",
   "execution_count": null,
   "id": "d4f3d89c",
   "metadata": {},
   "outputs": [],
   "source": [
    "x = {\"a\":a, \"b\":b, \"c\":c}\n",
    "z = [a, b, c]"
   ]
  },
  {
   "cell_type": "code",
   "execution_count": null,
   "id": "a07f2c64",
   "metadata": {
    "scrolled": false
   },
   "outputs": [],
   "source": [
    "import matplotlib.pyplot as plt\n",
    "import matplotlib.colors as mcolors\n",
    "import seaborn as sns\n",
    "from Lab_Analyses.Plotting.adjust_axes import adjust_axes\n",
    "import pandas as pd\n",
    "median_color = \"white\"\n",
    "colors = [\"mediumslateblue\", \"tomato\", \"silver\"]\n",
    "whisk_colors = []\n",
    "for color in colors:\n",
    "    whisk_colors.append(color)\n",
    "    whisk_colors.append(color)\n",
    "\n",
    "new_colors = [mcolors.to_rgba(x, alpha=1) for x in colors]\n",
    "new_whisk_colors = [mcolors.to_rgba(x, alpha=1) for x in whisk_colors]\n",
    "\n",
    "\n",
    "fig, ax = plt.subplots(figsize=(1.5,2.5))\n",
    "bplot = ax.boxplot(z, widths=0.55, patch_artist=True, medianprops={\"color\": \"white\", \"linewidth\":1.5}, showcaps=False,\n",
    "                  whiskerprops={\"linewidth\":2}, boxprops={\"linewidth\":1, \"color\":\"white\",}, showmeans=False, \n",
    "                   meanprops={\"marker\":\"x\", \"markeredgecolor\":'white', \"markerfacecolor\": \"white\"},\n",
    "                  labels=[\"Enlarged\", \"Shrunken\", \"Stable\"], flierprops={\"marker\": \"o\"}, showfliers=False)\n",
    "\n",
    "\n",
    "for patch, color in zip(bplot['boxes'], new_colors):\n",
    "    print(color)\n",
    "    patch.set_facecolor(color)\n",
    "    #patch.set_edgecolor(color)\n",
    "for patch, color in zip(bplot['whiskers'], new_whisk_colors):\n",
    "    patch.set_color(color)\n",
    "for patch, color in zip(bplot[\"fliers\"], new_colors):\n",
    "    patch.set_markeredgecolor(color)\n",
    "    patch.set_markerfacecolor(\"white\")\n",
    "\n",
    "    \n",
    "adjust_axes(ax, minor_ticks=\"y\", xtitle=None, ytitle=\"Activity\", xlim=None, ylim=None, tick_len=3, axis_width=1.5)\n",
    "for tick in ax.get_xticklabels():\n",
    "    tick.set_rotation(45)\n",
    "    \n",
    "    \n",
    "\n",
    "ax.set_xmargin(0.2)\n",
    "\n",
    "#ax.relim()\n",
    "#plt.rcParams['axes.autolimit_mode'] = 'round_numbers'\n",
    "#ax.autoscale_view(tight=False)\n",
    "ticks = ax.get_yticks()\n",
    "print(ticks)\n",
    "#ax.set_ylim(ticks[0], ticks[-1])\n"
   ]
  },
  {
   "cell_type": "code",
   "execution_count": null,
   "id": "7ee0974d",
   "metadata": {},
   "outputs": [],
   "source": [
    "from Lab_Analyses.Plotting.plot_box_plot import plot_box_plot"
   ]
  },
  {
   "cell_type": "code",
   "execution_count": null,
   "id": "6471a51d",
   "metadata": {},
   "outputs": [],
   "source": [
    "plot_box_plot(x)"
   ]
  },
  {
   "cell_type": "code",
   "execution_count": null,
   "id": "c4a0ddbc",
   "metadata": {},
   "outputs": [],
   "source": [
    "%matplotlib notebook\n",
    "fig, axes = plt.subplot_mosaic(\"\"\"AB\"\"\")\n",
    "\n",
    "plot_box_plot(x, ax=axes[\"A\"])\n",
    "plot_box_plot(x, ax=axes[\"B\"])"
   ]
  },
  {
   "cell_type": "code",
   "execution_count": null,
   "id": "0a133f21",
   "metadata": {},
   "outputs": [],
   "source": [
    "from itertools import compress\n",
    "a = np.array([[1,1,1],\n",
    "              [2,2,2]])\n",
    "b = np.nanmean(a, axis=1)\n",
    "np.nanmean(np.vstack((b,b,b)), axis=0)"
   ]
  },
  {
   "cell_type": "code",
   "execution_count": null,
   "id": "872e0bc4",
   "metadata": {},
   "outputs": [],
   "source": [
    "c = [True, True]\n",
    "a[c,:]"
   ]
  },
  {
   "cell_type": "code",
   "execution_count": null,
   "id": "676b3070",
   "metadata": {},
   "outputs": [],
   "source": [
    "from Lab_Analyses.Spine_Analysis_v2 import spine_utilities as utils"
   ]
  },
  {
   "cell_type": "code",
   "execution_count": null,
   "id": "8b659d55",
   "metadata": {},
   "outputs": [],
   "source": [
    "stable_spines = []\n",
    "for flags in [data.spine_flags, data.followup_flags]:\n",
    "    stable_spines.append(utils.find_stable_spines(flags))"
   ]
  },
  {
   "cell_type": "code",
   "execution_count": null,
   "id": "6828a690",
   "metadata": {},
   "outputs": [],
   "source": [
    "max_len = np.max([len(x) for x in stable_spines])"
   ]
  },
  {
   "cell_type": "code",
   "execution_count": null,
   "id": "2024bb3a",
   "metadata": {},
   "outputs": [],
   "source": [
    "from Lab_Analyses.Utilities.data_utilities import pad_array_to_length"
   ]
  },
  {
   "cell_type": "code",
   "execution_count": null,
   "id": "dfb4f477",
   "metadata": {},
   "outputs": [],
   "source": [
    "padded_spines = []\n",
    "for i, s in enumerate(stable_spines):\n",
    "    if len(s) != max_len:\n",
    "        print(f\"{i} is not max length\")\n",
    "        padded_spines.append(pad_array_to_length(s, max_len, value=False).astype(bool))\n",
    "    else:\n",
    "        padded_spines.append(s)"
   ]
  },
  {
   "cell_type": "code",
   "execution_count": null,
   "id": "f9e22087",
   "metadata": {},
   "outputs": [],
   "source": [
    "a = [0,0,0,0]\n",
    "\n",
    "np.nonzero(a)[0].shape"
   ]
  },
  {
   "cell_type": "code",
   "execution_count": null,
   "id": "b4edf492",
   "metadata": {},
   "outputs": [],
   "source": [
    "from Lab_Analyses.Spine_Analysis_v2.spine_utilities import load_spine_datasets\n",
    "from Lab_Analyses.Plotting.plot_histogram import plot_histogram\n",
    "import matplotlib.pyplot as plt"
   ]
  },
  {
   "cell_type": "code",
   "execution_count": null,
   "id": "57e41ede",
   "metadata": {},
   "outputs": [],
   "source": [
    "mouse_list = [\"JW090\", \"JW092\"]"
   ]
  },
  {
   "cell_type": "code",
   "execution_count": null,
   "id": "348da602",
   "metadata": {},
   "outputs": [],
   "source": [
    "jw090 = load_spine_datasets(mouse_list[0], [\"Early\"], \"apical\")\n",
    "jw092 = load_spine_datasets(mouse_list[1], [\"Early\"], \"apical\")"
   ]
  },
  {
   "cell_type": "code",
   "execution_count": null,
   "id": "9549436e",
   "metadata": {},
   "outputs": [],
   "source": [
    "jw090_fov2 = jw090[\"FOV2_apical\"][\"Early\"]\n",
    "jw090_fov3 = jw090[\"FOV3_apical\"][\"Early\"]\n",
    "jw092_fov1 = jw092[\"FOV1_apical\"][\"Early\"]\n",
    "jw092_fov2 = jw092[\"FOV2_apical\"][\"Early\"]"
   ]
  },
  {
   "cell_type": "code",
   "execution_count": null,
   "id": "9b1ad1c2",
   "metadata": {},
   "outputs": [],
   "source": [
    "jw090_fov2"
   ]
  },
  {
   "cell_type": "code",
   "execution_count": null,
   "id": "9ab67bd9",
   "metadata": {},
   "outputs": [],
   "source": [
    "jw090_fov2_dict = {\n",
    "    \"Sampling Rate\": jw090_fov2.imaging_parameters[\"Sampling Rate\"],\n",
    "    \"Lever force smooth\": jw090_fov2.lever_force_smooth,\n",
    "    \"Lever active\": jw090_fov2.lever_active,\n",
    "    \"Spine flags\": jw090_fov2.spine_flags,\n",
    "    \"Spine groupings\": jw090_fov2.spine_groupings,\n",
    "    \"Spine volume\": jw090_fov2.corrected_spine_volume,\n",
    "    \"Spine GluSnFr dFoF\": jw090_fov2.spine_GluSnFr_processed_dFoF,\n",
    "    \"Spine Calcium dFoF\": jw090_fov2.spine_calcium_processed_dFoF,\n",
    "    \"Spine activity\": jw090_fov2.spine_GluSnFr_activity,\n",
    "    \"Dendrite dFoF\": jw090_fov2.dendrite_calcium_processed_dFoF,\n",
    "    \"Dendrite activity\": jw090_fov2.dendrite_calcium_activity,\n",
    "    \"Followup flags\": jw090_fov2.followup_flags,\n",
    "    \"Followup volumes\": jw090_fov2.corrected_followup_volume,\n",
    "}"
   ]
  },
  {
   "cell_type": "code",
   "execution_count": null,
   "id": "8aec3ec9",
   "metadata": {},
   "outputs": [],
   "source": [
    "jw090_fov3_dict = {\n",
    "    \"Sampling Rate\": jw090_fov3.imaging_parameters[\"Sampling Rate\"],\n",
    "    \"Lever force smooth\": jw090_fov3.lever_force_smooth,\n",
    "    \"Lever active\": jw090_fov3.lever_active,\n",
    "    \"Spine flags\": jw090_fov3.spine_flags,\n",
    "    \"Spine groupings\": jw090_fov3.spine_groupings,\n",
    "    \"Spine volume\": jw090_fov3.corrected_spine_volume,\n",
    "    \"Spine GluSnFr dFoF\": jw090_fov3.spine_GluSnFr_processed_dFoF,\n",
    "    \"Spine Calcium dFoF\": jw090_fov3.spine_calcium_processed_dFoF,\n",
    "    \"Spine activity\": jw090_fov3.spine_GluSnFr_activity,\n",
    "    \"Dendrite dFoF\": jw090_fov3.dendrite_calcium_processed_dFoF,\n",
    "    \"Dendrite activity\": jw090_fov3.dendrite_calcium_activity,\n",
    "    \"Followup flags\": jw090_fov3.followup_flags,\n",
    "    \"Followup volumes\": jw090_fov3.corrected_followup_volume,\n",
    "}"
   ]
  },
  {
   "cell_type": "code",
   "execution_count": null,
   "id": "bfce45a3",
   "metadata": {},
   "outputs": [],
   "source": [
    "jw092_fov1_dict = {\n",
    "    \"Sampling Rate\": jw092_fov1.imaging_parameters[\"Sampling Rate\"],\n",
    "    \"Lever force smooth\": jw092_fov1.lever_force_smooth,\n",
    "    \"Lever active\": jw092_fov1.lever_active,\n",
    "    \"Spine flags\": jw092_fov1.spine_flags,\n",
    "    \"Spine groupings\": jw092_fov1.spine_groupings,\n",
    "    \"Spine volume\": jw092_fov1.corrected_spine_volume,\n",
    "    \"Spine GluSnFr dFoF\": jw092_fov1.spine_GluSnFr_processed_dFoF,\n",
    "    \"Spine Calcium dFoF\": jw092_fov1.spine_calcium_processed_dFoF,\n",
    "    \"Spine activity\": jw092_fov1.spine_GluSnFr_activity,\n",
    "    \"Dendrite dFoF\": jw092_fov1.dendrite_calcium_processed_dFoF,\n",
    "    \"Dendrite activity\": jw092_fov1.dendrite_calcium_activity,\n",
    "    \"Followup flags\": jw092_fov1.followup_flags,\n",
    "    \"Followup volumes\": jw092_fov1.corrected_followup_volume,\n",
    "}"
   ]
  },
  {
   "cell_type": "code",
   "execution_count": null,
   "id": "7f884c94",
   "metadata": {},
   "outputs": [],
   "source": [
    "jw092_fov2_dict = {\n",
    "    \"Sampling Rate\": jw092_fov2.imaging_parameters[\"Sampling Rate\"],\n",
    "    \"Lever force smooth\": jw092_fov2.lever_force_smooth,\n",
    "    \"Lever active\": jw092_fov2.lever_active,\n",
    "    \"Spine flags\": jw092_fov2.spine_flags,\n",
    "    \"Spine groupings\": jw092_fov2.spine_groupings,\n",
    "    \"Spine volume\": jw092_fov2.corrected_spine_volume,\n",
    "    \"Spine GluSnFr dFoF\": jw092_fov2.spine_GluSnFr_processed_dFoF,\n",
    "    \"Spine Calcium dFoF\": jw092_fov2.spine_calcium_processed_dFoF,\n",
    "    \"Spine activity\": jw092_fov2.spine_GluSnFr_activity,\n",
    "    \"Dendrite dFoF\": jw092_fov2.dendrite_calcium_processed_dFoF,\n",
    "    \"Dendrite activity\": jw092_fov2.dendrite_calcium_activity,\n",
    "    \"Followup flags\": jw092_fov2.followup_flags,}\n",
    " "
   ]
  },
  {
   "cell_type": "code",
   "execution_count": null,
   "id": "23f2eaad",
   "metadata": {},
   "outputs": [],
   "source": [
    "from Lab_Analyses.Utilities.save_load_pickle import save_pickle"
   ]
  },
  {
   "cell_type": "code",
   "execution_count": null,
   "id": "c98cc357",
   "metadata": {},
   "outputs": [],
   "source": [
    "path = r\"C:\\Users\\Jake\\Desktop\""
   ]
  },
  {
   "cell_type": "code",
   "execution_count": null,
   "id": "a0854be5",
   "metadata": {},
   "outputs": [],
   "source": [
    "save_pickle(\"JW090_FOV2\", jw090_fov2_dict, path)\n",
    "save_pickle(\"JW090_FOV3\", jw090_fov3_dict, path)\n",
    "save_pickle(\"JW092_FOV1\", jw092_fov1_dict, path)\n",
    "save_pickle(\"JW092_FOV2\", jw092_fov2_dict, path)"
   ]
  },
  {
   "cell_type": "code",
   "execution_count": null,
   "id": "925c722b",
   "metadata": {},
   "outputs": [],
   "source": []
  }
 ],
 "metadata": {
  "kernelspec": {
   "display_name": "Python 3 (ipykernel)",
   "language": "python",
   "name": "python3"
  },
  "language_info": {
   "codemirror_mode": {
    "name": "ipython",
    "version": 3
   },
   "file_extension": ".py",
   "mimetype": "text/x-python",
   "name": "python",
   "nbconvert_exporter": "python",
   "pygments_lexer": "ipython3",
   "version": "3.8.15"
  }
 },
 "nbformat": 4,
 "nbformat_minor": 5
}
