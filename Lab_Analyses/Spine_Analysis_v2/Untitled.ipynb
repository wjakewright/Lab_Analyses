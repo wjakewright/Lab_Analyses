{
 "cells": [
  {
   "cell_type": "code",
   "execution_count": 19,
   "id": "0e05ff93",
   "metadata": {},
   "outputs": [],
   "source": [
    "from Lab_Analyses.Spine_Analysis_v2.elimination_coactivity import elimination_coactivity_analysis"
   ]
  },
  {
   "cell_type": "code",
   "execution_count": 20,
   "id": "b1088926",
   "metadata": {},
   "outputs": [],
   "source": [
    "# Mouse ids\n",
    "id_1 = \"JW082\"\n",
    "id_2 = \"JW083\"\n",
    "id_3 = \"JW090\"\n",
    "id_4 = \"JW092\"\n",
    "id_5 = \"JW126\"\n",
    "id_6 = \"JW129\"\n",
    "id_7 = \"JW130\"\n",
    "id_8 = \"JW153\"\n",
    "id_9 = \"JW150\"\n",
    "id_10 = \"JW168\"\n",
    "\n",
    "mouse_list = [id_1, id_2, id_3, id_4, id_6, id_7, id_8, id_9, id_10]\n",
    "#mouse_list = [id_2, id_3, id_4, id_6]\n",
    "\n",
    "# FOV type\n",
    "fov_type = \"apical\""
   ]
  },
  {
   "cell_type": "code",
   "execution_count": null,
   "id": "55a85b7a",
   "metadata": {
    "scrolled": false
   },
   "outputs": [
    {
     "name": "stderr",
     "output_type": "stream",
     "text": [
      "c:\\users\\jake\\desktop\\python_code\\lab_analyses\\Lab_Analyses\\Spine_Analysis_v2\\spine_utilities.py:149: RuntimeWarning: Mean of empty slice\n",
      "  binned_data.append(np.nanmean(data[idxs]))\n"
     ]
    }
   ],
   "source": [
    "elimination_coactivity_analysis(\n",
    "    mice_list=mouse_list,\n",
    "    fov_type=fov_type,\n",
    "    include_inactive=True\n",
    ")"
   ]
  },
  {
   "cell_type": "code",
   "execution_count": null,
   "id": "c984de74",
   "metadata": {},
   "outputs": [],
   "source": [
    "import numpy as np\n",
    "np.nanmean([np.nan, np.nan, np.nan])"
   ]
  },
  {
   "cell_type": "code",
   "execution_count": null,
   "id": "265308e7",
   "metadata": {},
   "outputs": [],
   "source": [
    "import numpy as np\n",
    "import statsmodels.api as sm\n",
    "lowess = sm.nonparametric.lowess\n",
    "x = np.random.uniform(low=-2*np.pi, high=2*np.pi, size=500)\n",
    "x.sort()\n",
    "y = np.sin(x) + np.random.normal(size=len(x))\n",
    "z = lowess(y, x, return_sorted=False)\n",
    "w = lowess(y, x, frac=0.1, return_sorted=False)\n",
    "import scipy.signal as sysignal\n",
    "t = sysignal.savgol_filter(y, 101, 5)"
   ]
  },
  {
   "cell_type": "code",
   "execution_count": null,
   "id": "78df7e23",
   "metadata": {},
   "outputs": [],
   "source": [
    "import matplotlib.pyplot as plt\n",
    "%matplotlib notebook\n",
    "\n",
    "plt.figure()\n",
    "plt.plot(x, y, color=\"red\")\n",
    "plt.plot(x,z, color=\"blue\")\n",
    "plt.plot(x, w, color=\"green\")\n",
    "#plt.plot(x, t, color=\"blue\")"
   ]
  },
  {
   "cell_type": "code",
   "execution_count": null,
   "id": "32184fa0",
   "metadata": {},
   "outputs": [],
   "source": [
    "from Lab_Analyses.Spine_Analysis_v2 import spine_utilities as s_utils"
   ]
  },
  {
   "cell_type": "code",
   "execution_count": null,
   "id": "ee8b1431",
   "metadata": {},
   "outputs": [],
   "source": [
    "data = s_utils.load_spine_datasets(\"JW090\", [\"Early\"], \"apical\")"
   ]
  },
  {
   "cell_type": "code",
   "execution_count": null,
   "id": "04986b16",
   "metadata": {},
   "outputs": [],
   "source": [
    "d = data[\"FOV2_apical\"][\"Early\"]"
   ]
  },
  {
   "cell_type": "code",
   "execution_count": null,
   "id": "38a72bc0",
   "metadata": {},
   "outputs": [],
   "source": [
    "dFoF = d.spine_GluSnFr_processed_dFoF\n",
    "activitya = d.spine_GluSnFr_activity"
   ]
  },
  {
   "cell_type": "code",
   "execution_count": null,
   "id": "1eeca674",
   "metadata": {},
   "outputs": [],
   "source": [
    "plt.figure()\n",
    "plt.plot(dFoF[30000:35000, 0])\n",
    "plt.plot(activitya[30000:35000, 0])\n",
    "print(len(np.nonzero(np.diff(activitya[:, 0]) == 1)[0]))"
   ]
  },
  {
   "cell_type": "code",
   "execution_count": null,
   "id": "09dc5fbe",
   "metadata": {},
   "outputs": [],
   "source": [
    "smooth = sysignal.savgol_filter(dFoF[:, 0], 31, 2)\n",
    "smooth_2 = sysignal.savgol_filter(dFoF[:, 0], 61, 6)\n",
    "from Lab_Analyses.Utilities.event_detection import event_detection\n",
    "activity, _, _ = event_detection(dFoF[:, 0].reshape(-1,1), 2,1,0.2, sampling_rate=60, filt_poly=6, sec_smooth=1)"
   ]
  },
  {
   "cell_type": "code",
   "execution_count": null,
   "id": "b717ecf7",
   "metadata": {},
   "outputs": [],
   "source": [
    "print(np.sum(np.diff(activity.reshape(1,-1) == 1)[0]))"
   ]
  },
  {
   "cell_type": "code",
   "execution_count": null,
   "id": "a0dc8c72",
   "metadata": {
    "scrolled": false
   },
   "outputs": [],
   "source": [
    "plt.figure()\n",
    "#plt.plot(dFoF[10000:14000, 0])\n",
    "plt.plot(smooth, color=\"black\")\n",
    "plt.plot(activitya[:, 0], color=\"blue\")\n",
    "#plt.plot(activity, color=\"red\")\n",
    "\n"
   ]
  },
  {
   "cell_type": "code",
   "execution_count": null,
   "id": "d18fb7f0",
   "metadata": {},
   "outputs": [],
   "source": [
    "frac = 61 / len(dFoF[:, 0])\n",
    "frac"
   ]
  },
  {
   "cell_type": "code",
   "execution_count": null,
   "id": "651198ac",
   "metadata": {},
   "outputs": [],
   "source": [
    "smooth_l = lowess( dFoF[:, 0], np.arange(len(dFoF[:, 0])), frac=frac, return_sorted=False)"
   ]
  },
  {
   "cell_type": "code",
   "execution_count": null,
   "id": "8b13bdb4",
   "metadata": {},
   "outputs": [],
   "source": [
    "print(smooth_l.shape)\n",
    "print(dFoF[:, 0].shape)\n",
    "\n",
    "np.arange(10)"
   ]
  },
  {
   "cell_type": "code",
   "execution_count": null,
   "id": "156fe756",
   "metadata": {},
   "outputs": [],
   "source": [
    "plt.figure()\n",
    "#plt.plot(dFoF[30000:35000, 0], color=\"blue\")\n",
    "plt.plot(smooth_l[30000:35000], color=\"red\")\n",
    "plt.plot(smooth[30000:35000])"
   ]
  },
  {
   "cell_type": "code",
   "execution_count": null,
   "id": "67ff1c1d",
   "metadata": {},
   "outputs": [],
   "source": [
    "import numpy as np\n",
    "d = {\"a\": np.array([1,1,1]), \"b\": np.array([2,2,2])}"
   ]
  },
  {
   "cell_type": "code",
   "execution_count": null,
   "id": "3448d176",
   "metadata": {},
   "outputs": [],
   "source": [
    "a = np.array([1,1,1,1])\n",
    "b = a.reshape(-1,1)"
   ]
  },
  {
   "cell_type": "code",
   "execution_count": null,
   "id": "96e29edc",
   "metadata": {},
   "outputs": [],
   "source": [
    "a = np.array([[1,1,1,1,1,1],\n",
    "              [2,2,2,2,2,2],\n",
    "              [3,3,3,3,3,3]])"
   ]
  },
  {
   "cell_type": "code",
   "execution_count": null,
   "id": "7e980164",
   "metadata": {},
   "outputs": [],
   "source": [
    "np.hstack((a,a))"
   ]
  },
  {
   "cell_type": "code",
   "execution_count": null,
   "id": "007cee4d",
   "metadata": {},
   "outputs": [],
   "source": [
    "if \"F\" in a and \"Fnue\" not in a:\n",
    "    print(a)"
   ]
  },
  {
   "cell_type": "code",
   "execution_count": null,
   "id": "3b86429c",
   "metadata": {},
   "outputs": [],
   "source": [
    "from Lab_Analyses.Utilities.save_load_pickle import load_pickle"
   ]
  },
  {
   "cell_type": "code",
   "execution_count": null,
   "id": "4f357549",
   "metadata": {},
   "outputs": [],
   "source": [
    "fname = r\"C:\\Users\\Jake\\Desktop\\Analyzed_data\\individual\\JW092\\imaging\\FOV1_apical\\Early\\JW092_220606_GreenCh_imaging_data\"\n",
    "\n",
    "data = load_pickle([fname])[0]"
   ]
  },
  {
   "cell_type": "code",
   "execution_count": null,
   "id": "6345e75d",
   "metadata": {},
   "outputs": [],
   "source": [
    "data.processed_dFoF.keys()"
   ]
  },
  {
   "cell_type": "code",
   "execution_count": null,
   "id": "543810f2",
   "metadata": {},
   "outputs": [],
   "source": [
    "path = r\"Z:\\People\\Jake\\Behavior\\JW156\\230305\"\n",
    "from Lab_Analyses.Behavior.load_xsg_continuous import load_xsg_continuous"
   ]
  },
  {
   "cell_type": "code",
   "execution_count": null,
   "id": "f1cf2a47",
   "metadata": {},
   "outputs": [],
   "source": [
    "xsg_data = load_xsg_continuous(path)"
   ]
  },
  {
   "cell_type": "code",
   "execution_count": null,
   "id": "b8d3dd34",
   "metadata": {},
   "outputs": [],
   "source": [
    "import matplotlib.pyplot as plt\n",
    "%matplotlib notebook"
   ]
  },
  {
   "cell_type": "code",
   "execution_count": null,
   "id": "7312c0cd",
   "metadata": {},
   "outputs": [],
   "source": [
    "\n",
    "frame_trace = xsg_data.channels[\"Frame\"]\n",
    "print(frame_trace)"
   ]
  },
  {
   "cell_type": "code",
   "execution_count": null,
   "id": "f0304147",
   "metadata": {},
   "outputs": [],
   "source": [
    "frame_times = (\n",
    "        np.nonzero(\n",
    "            (frame_trace[1:] > 2.5).astype(int) & (frame_trace[:-1] < 2.5).astype(int)\n",
    "        )[0]\n",
    "        + 1\n",
    "    )\n",
    "frame_times = (frame_times + 1) / 10000"
   ]
  },
  {
   "cell_type": "code",
   "execution_count": 1,
   "id": "ef8a94b3",
   "metadata": {},
   "outputs": [],
   "source": [
    "import numpy as np\n",
    "\n",
    "a = np.zeros(10) * np.nan"
   ]
  },
  {
   "cell_type": "code",
   "execution_count": 2,
   "id": "9726c4ed",
   "metadata": {},
   "outputs": [
    {
     "data": {
      "text/plain": [
       "array([0, 1])"
      ]
     },
     "execution_count": 2,
     "metadata": {},
     "output_type": "execute_result"
    }
   ],
   "source": [
    "a = np.array([0])\n",
    "b = np.array([1])\n",
    "np.concatenate((a,b))"
   ]
  },
  {
   "cell_type": "code",
   "execution_count": 3,
   "id": "d08f16a5",
   "metadata": {},
   "outputs": [],
   "source": [
    "a=np.random.randint(10,50, size=(30))\n",
    "a = np.concatenate((a, np.array([100, 130]))) / 100\n",
    "b=np.random.randint(30,80, size=(30)) / 100\n",
    "c=np.random.randint(5,60, size=(30)) / 100"
   ]
  },
  {
   "cell_type": "code",
   "execution_count": 4,
   "id": "d4f3d89c",
   "metadata": {},
   "outputs": [],
   "source": [
    "x = {\"a\":a, \"b\":b, \"c\":c}\n",
    "z = [a, b, c]"
   ]
  },
  {
   "cell_type": "code",
   "execution_count": 10,
   "id": "a07f2c64",
   "metadata": {
    "scrolled": false
   },
   "outputs": [
    {
     "name": "stdout",
     "output_type": "stream",
     "text": [
      "(0.4823529411764706, 0.40784313725490196, 0.9333333333333333, 1)\n",
      "(1.0, 0.38823529411764707, 0.2784313725490196, 1)\n",
      "(0.7529411764705882, 0.7529411764705882, 0.7529411764705882, 1)\n",
      "[0.  0.2 0.4 0.6 0.8 1. ]\n"
     ]
    },
    {
     "data": {
      "image/png": "[encoded data removed]",
      "text/plain": [
       "<Figure size 150x250 with 1 Axes>"
      ]
     },
     "metadata": {},
     "output_type": "display_data"
    }
   ],
   "source": [
    "import matplotlib.pyplot as plt\n",
    "import matplotlib.colors as mcolors\n",
    "import seaborn as sns\n",
    "from Lab_Analyses.Plotting.adjust_axes import adjust_axes\n",
    "import pandas as pd\n",
    "median_color = \"white\"\n",
    "colors = [\"mediumslateblue\", \"tomato\", \"silver\"]\n",
    "whisk_colors = []\n",
    "for color in colors:\n",
    "    whisk_colors.append(color)\n",
    "    whisk_colors.append(color)\n",
    "\n",
    "new_colors = [mcolors.to_rgba(x, alpha=1) for x in colors]\n",
    "new_whisk_colors = [mcolors.to_rgba(x, alpha=1) for x in whisk_colors]\n",
    "\n",
    "\n",
    "fig, ax = plt.subplots(figsize=(1.5,2.5))\n",
    "bplot = ax.boxplot(z, widths=0.55, patch_artist=True, medianprops={\"color\": \"white\", \"linewidth\":1.5}, showcaps=False,\n",
    "                  whiskerprops={\"linewidth\":2}, boxprops={\"linewidth\":1, \"color\":\"white\",}, showmeans=False, \n",
    "                   meanprops={\"marker\":\"x\", \"markeredgecolor\":'white', \"markerfacecolor\": \"white\"},\n",
    "                  labels=[\"Enlarged\", \"Shrunken\", \"Stable\"], flierprops={\"marker\": \"o\"}, showfliers=False)\n",
    "\n",
    "\n",
    "for patch, color in zip(bplot['boxes'], new_colors):\n",
    "    print(color)\n",
    "    patch.set_facecolor(color)\n",
    "    #patch.set_edgecolor(color)\n",
    "for patch, color in zip(bplot['whiskers'], new_whisk_colors):\n",
    "    patch.set_color(color)\n",
    "for patch, color in zip(bplot[\"fliers\"], new_colors):\n",
    "    patch.set_markeredgecolor(color)\n",
    "    patch.set_markerfacecolor(\"white\")\n",
    "\n",
    "    \n",
    "adjust_axes(ax, minor_ticks=\"y\", xtitle=None, ytitle=\"Activity\", xlim=None, ylim=None, tick_len=3, axis_width=1.5)\n",
    "for tick in ax.get_xticklabels():\n",
    "    tick.set_rotation(45)\n",
    "    \n",
    "    \n",
    "\n",
    "ax.set_xmargin(0.2)\n",
    "\n",
    "#ax.relim()\n",
    "#plt.rcParams['axes.autolimit_mode'] = 'round_numbers'\n",
    "#ax.autoscale_view(tight=False)\n",
    "ticks = ax.get_yticks()\n",
    "print(ticks)\n",
    "#ax.set_ylim(ticks[0], ticks[-1])\n"
   ]
  },
  {
   "cell_type": "code",
   "execution_count": null,
   "id": "7ee0974d",
   "metadata": {},
   "outputs": [],
   "source": [
    "from Lab_Analyses.Plotting.plot_box_plot import plot_box_plot"
   ]
  },
  {
   "cell_type": "code",
   "execution_count": null,
   "id": "6471a51d",
   "metadata": {},
   "outputs": [],
   "source": [
    "plot_box_plot(x)"
   ]
  },
  {
   "cell_type": "code",
   "execution_count": null,
   "id": "c4a0ddbc",
   "metadata": {},
   "outputs": [],
   "source": [
    "%matplotlib notebook\n",
    "fig, axes = plt.subplot_mosaic(\"\"\"AB\"\"\")\n",
    "\n",
    "plot_box_plot(x, ax=axes[\"A\"])\n",
    "plot_box_plot(x, ax=axes[\"B\"])"
   ]
  },
  {
   "cell_type": "code",
   "execution_count": null,
   "id": "0a133f21",
   "metadata": {},
   "outputs": [],
   "source": [
    "from itertools import compress\n",
    "a = np.array([[1,1,1],\n",
    "              [2,2,2]])\n",
    "b = np.nanmean(a, axis=1)\n",
    "np.nanmean(np.vstack((b,b,b)), axis=0)"
   ]
  },
  {
   "cell_type": "code",
   "execution_count": null,
   "id": "872e0bc4",
   "metadata": {},
   "outputs": [],
   "source": [
    "c = [True, True]\n",
    "a[c,:]"
   ]
  },
  {
   "cell_type": "code",
   "execution_count": null,
   "id": "676b3070",
   "metadata": {},
   "outputs": [],
   "source": [
    "from Lab_Analyses.Spine_Analysis_v2 import spine_utilities as utils"
   ]
  },
  {
   "cell_type": "code",
   "execution_count": null,
   "id": "8b659d55",
   "metadata": {},
   "outputs": [],
   "source": [
    "stable_spines = []\n",
    "for flags in [data.spine_flags, data.followup_flags]:\n",
    "    stable_spines.append(utils.find_stable_spines(flags))"
   ]
  },
  {
   "cell_type": "code",
   "execution_count": null,
   "id": "6828a690",
   "metadata": {},
   "outputs": [],
   "source": [
    "max_len = np.max([len(x) for x in stable_spines])"
   ]
  },
  {
   "cell_type": "code",
   "execution_count": null,
   "id": "2024bb3a",
   "metadata": {},
   "outputs": [],
   "source": [
    "from Lab_Analyses.Utilities.data_utilities import pad_array_to_length"
   ]
  },
  {
   "cell_type": "code",
   "execution_count": null,
   "id": "dfb4f477",
   "metadata": {},
   "outputs": [],
   "source": [
    "padded_spines = []\n",
    "for i, s in enumerate(stable_spines):\n",
    "    if len(s) != max_len:\n",
    "        print(f\"{i} is not max length\")\n",
    "        padded_spines.append(pad_array_to_length(s, max_len, value=False).astype(bool))\n",
    "    else:\n",
    "        padded_spines.append(s)"
   ]
  },
  {
   "cell_type": "code",
   "execution_count": null,
   "id": "f9e22087",
   "metadata": {},
   "outputs": [],
   "source": [
    "a = [0,0,0,0]\n",
    "\n",
    "np.nonzero(a)[0].shape"
   ]
  },
  {
   "cell_type": "code",
   "execution_count": 1,
   "id": "b4edf492",
   "metadata": {},
   "outputs": [],
   "source": [
    "from Lab_Analyses.Spine_Analysis_v2.spine_utilities import load_spine_datasets\n",
    "from Lab_Analyses.Plotting.plot_histogram import plot_histogram\n",
    "import matplotlib.pyplot as plt"
   ]
  },
  {
   "cell_type": "code",
   "execution_count": 2,
   "id": "57e41ede",
   "metadata": {},
   "outputs": [],
   "source": [
    "mouse_list = [\"JW090\", \"JW092\"]"
   ]
  },
  {
   "cell_type": "code",
   "execution_count": 3,
   "id": "348da602",
   "metadata": {},
   "outputs": [],
   "source": [
    "jw090 = load_spine_datasets(mouse_list[0], [\"Early\"], \"apical\")\n",
    "jw092 = load_spine_datasets(mouse_list[1], [\"Early\"], \"apical\")"
   ]
  },
  {
   "cell_type": "code",
   "execution_count": 9,
   "id": "9549436e",
   "metadata": {},
   "outputs": [],
   "source": [
    "jw090_fov2 = jw090[\"FOV2_apical\"][\"Early\"]\n",
    "jw090_fov3 = jw090[\"FOV3_apical\"][\"Early\"]\n",
    "jw092_fov1 = jw092[\"FOV1_apical\"][\"Early\"]\n",
    "jw092_fov2 = jw092[\"FOV2_apical\"][\"Early\"]"
   ]
  },
  {
   "cell_type": "code",
   "execution_count": 10,
   "id": "9b1ad1c2",
   "metadata": {},
   "outputs": [
    {
     "data": {
      "text/plain": [
       "Dual_Channel_Spine_Data(mouse_id='JW090', session='Early', date='220607', imaging_parameters={'Imaging Sensor': 'iGluSnFr3', 'Zoom': 9.0, 'Sampling Rate': 60.0, 'Calculate dFoF': True, 'Deconvolve': False, 'Calculate Volume': True, 'Correct Bout Separation': True, 'Ds Ratio': 20, 'Smooth Window': 0.5, 'Threshold': 2.0, 'Artifact Frames': [(1500, 1800), (18000, 18400), (48100, 48600)], 'Spine Groupings': [], 'Threshold Values': {'Dendrite': {'Upper Threshold': [0.2], 'Lower Threshold': [0.032000033510802585], 'Artifact Limit': [0.06129738000794987]}, 'Dendrite Poly': [{'Upper Threshold': [0.2223160609551791, 0.25733878112215697, 0.2717698508001157, 0.291605161823982, 0.30338812363024653, 0.29594814383819606, 0.29008413108075093, 0.2955589431909217, 0.29357281607946983, 0.2602791866611899, 0.2633130039540875, 0.25970948783967535, 0.24191422284487954, 0.23367726022882493, 0.23049025136695656, 0.2206202374678449, 0.2370165047655886, 0.2375832261835263, 0.24389945051800246, 0.23596639817981066, 0.26561488675346157, 0.2754999918366756, 0.252524883725001, 0.22158666121648968, 0.21309876637638497, 0.21689839597794697, 0.23527158141994098, 0.23548552020831656, 0.22335738882288153, 0.2433497028308832, 0.23838690685854447, 0.2657354313103534, 0.28908487799228455, 0.2962702197881405, 0.34731859718029245], 'Lower Threshold': [0.11115803047758956, 0.12866939056107848, 0.13588492540005784, 0.14462487670147264, 0.15169406181512327, 0.14797407191909803, 0.14504206554037546, 0.14394016726454337, 0.14432108425640436, 0.13013959333059494, 0.13165650197704376, 0.12985474391983767, 0.12095711142243977, 0.11683863011441246, 0.11524512568347828, 0.11031011873392245, 0.1185082523827943, 0.11741926541024114, 0.12161371455989892, 0.11798319908990533, 0.13280744337673078, 0.1377499959183378, 0.1262624418625005, 0.11079333060824484, 0.10654938318819249, 0.10844919798897348, 0.11763579070997049, 0.11774276010415828, 0.11167869441144077, 0.1216748514154416, 0.11919345342927223, 0.1328677156551767, 0.14063507738519318, 0.14201531487367053, 0.16776580710927647], 'Artifact Limit': [0.21964997746309553, 0.25697533316731536, 0.2666306869400726, 0.291605161823982, 0.2973563314311593, 0.2906351790384959, 0.2818456806989961, 0.2955589431909217, 0.29357281607946983, 0.25888255660283865, 0.25892291862863637, 0.25895496587477995, 0.23037181872847148, 0.23008266542385175, 0.228983199992116, 0.21690562825433388, 0.23480937564181265, 0.2375832261835263, 0.24389945051800246, 0.23282799019417116, 0.2635184987909145, 0.27017927555163546, 0.24766235270982834, 0.21665330832273316, 0.21042426154071558, 0.2134452522759025, 0.22218802698861775, 0.22483293682982605, 0.2128471517360702, 0.23773377289788117, 0.2253880519071064, 0.2624102912715347, 0.28908487799228455, 0.2962702197881405, 0.34731859718029245]}], 'Spine': {'Upper Threshold': [0.2171614389072104, 0.2579481320178733, 0.21908325407263485, 0.2, 0.2, 0.2, 0.2, 0.2, 0.2, 0.2, 0.2, 0.2, 0.2, 0.2, 0.2, 0.20897640519632807, 0.2, 0.2, 0.2, 0.2, 0.2, 0.2, 0.2, 0.2, 0.2, 0.2, 0.2, 0.2, 0.2, 0.2, 0.2, 0.21776919173472306], 'Lower Threshold': [0.10577260749206101, 0.11775763862654778, 0.10954162703631742, 0.05522253350327597, 0.0797516261567203, 0.08689066022947788, 0.07740955067686901, 0.08230079858064093, 0.07426064146643445, 0.06606056991953456, 0.08521045893590297, 0.08506983220566848, 0.09589080226608508, 0.08788500953170973, 0.0677032575411236, 0.0955808736411048, 0.0788978408591197, 0.08174836462436852, 0.08751868996462647, 0.07401300973241419, 0.0728540244614828, 0.07768268973060789, 0.0766958831576262, 0.08266306153954366, 0.07655287063401137, 0.07733996451035788, 0.07661075340461497, 0.06719052339266507, 0.07156446923689756, 0.06741306112745767, 0.08728878318295695, 0.09949636793720737], 'Artifact Limit': [0.2171614389072104, 0.2579481320178733, 0.2138846080326814, 0.11048949677145568, 0.15791741585189897, 0.1820842639923994, 0.1570962945945928, 0.16242213494601263, 0.14133521290642886, 0.1311077519533068, 0.1830733485934387, 0.17235207988167747, 0.18950914726667234, 0.17596819367663746, 0.13675523089252067, 0.20897640519632807, 0.1592753567562561, 0.16131171280521323, 0.18040643024948844, 0.14817883421465397, 0.14872410263057587, 0.15194488228705127, 0.15449736699387878, 0.16443353009832629, 0.15387412181323548, 0.14782317072133305, 0.14961442939722894, 0.1150439730736074, 0.14153962916147061, 0.1281177129657636, 0.1704813454937226, 0.21776919173472306]}}, 'Bout Separation Frames': None}, time=array([  35.5384,   35.5556,   35.5727, ..., 1485.9742, 1485.9913,\n",
       "       1486.0085]), lever_force_resample=array([0.00449883, 0.00710587, 0.00887526, ..., 0.06857357, 0.06644581,\n",
       "       0.07533285]), lever_force_smooth=array([1.14452460e-05, 1.52356132e-04, 3.73332158e-04, ...,\n",
       "       7.90514221e-02, 7.33909073e-02, 8.37092658e-02]), lever_velocity_envelope=array([ 1.10929634e-06,  1.35725097e-05,  3.05174888e-05, ...,\n",
       "       -4.52132297e-05, -5.67492813e-05, -5.14539016e-05]), lever_active=array([0., 0., 0., ..., 0., 0., 0.]), rewarded_movement_force=array([0., 0., 0., ..., 0., 0., 0.]), rewarded_movement_binary=array([0., 0., 0., ..., 0., 0., 0.]), binary_cue=array([0., 0., 0., ..., 0., 0., 0.]), reward_delivery=array([0., 0., 0., ..., 0., 0., 0.]), punish_delivery=array([0., 0., 0., ..., 0., 0., 0.]), spine_flags=[['Shaft Spine'], ['Shaft Spine', 'High Confidence'], [], ['High Confidence'], ['High Confidence'], ['High Confidence'], ['High Confidence', 'Shaft Spine'], ['Shaft Spine'], ['High Confidence'], ['High Confidence'], ['Shaft Spine'], ['High Confidence'], [], ['Shaft Spine'], ['High Confidence'], ['Shaft Spine'], ['High Confidence'], [], ['High Confidence'], ['High Confidence'], ['High Confidence'], ['High Confidence'], ['High Confidence', 'Shaft Spine'], ['High Confidence'], ['High Confidence'], ['High Confidence'], ['High Confidence'], ['Shaft Spine'], ['High Confidence', 'Shaft Spine'], [], ['High Confidence'], ['High Confidence'], ['Absent'], ['Absent'], ['Absent'], ['Absent'], ['Absent'], ['Absent'], ['Absent'], ['Absent'], ['Absent'], ['Absent'], ['Absent'], ['Absent'], ['Absent'], ['Absent'], ['Absent']], spine_groupings=[0, 1, 2, 3, 4, 5, 6, 7, 8, 9, 10, 11, 12, 13, 14, 15, 16, 17, 18, 19, 20, 21, 22, 23, 24, 25, 26, 27, 28, 29, 30, 31], spine_positions=array([ 3.54471953,  5.08485232,  7.03663851,  8.66690797, 14.14501362,\n",
       "       14.43742074, 17.29210654, 18.84014629, 21.33696532, 23.48708074,\n",
       "       24.10237186, 19.7084036 , 20.55228633, 21.87969154, 29.69120844,\n",
       "       32.6902898 , 31.50193648, 31.97017191, 37.011987  , 38.3922353 ,\n",
       "       41.24057897, 42.83497508, 41.98043382, 46.27803473, 49.05011431,\n",
       "       47.33356123, 44.2094121 , 50.80428801, 50.97055462, 49.4920245 ,\n",
       "       53.12841197, 53.82631524,         nan,         nan,         nan,\n",
       "               nan,         nan,         nan,         nan,         nan,\n",
       "               nan,         nan,         nan,         nan,         nan,\n",
       "               nan,         nan]), spine_volume=array([ 49.08208905,  63.95400217,  17.15013192,  13.98137311,\n",
       "        11.71376617,  21.07266639,  27.28968315,   6.84957599,\n",
       "        17.95861726,  42.92657962,  98.9913105 ,  36.98071286,\n",
       "        11.72343039,  26.54036898,  48.40947952,  65.64238223,\n",
       "        18.89913231,   7.44456394,  21.25681072,  29.89927159,\n",
       "        22.25880265,  27.95008996,  23.55219852,   9.58861163,\n",
       "        11.19436081,  32.87349906,  10.5283882 , 125.11026733,\n",
       "        14.03501077,  54.52492352,  20.01848121,  41.01217331,\n",
       "                nan,          nan,          nan,          nan,\n",
       "                nan,          nan,          nan,          nan,\n",
       "                nan,          nan,          nan,          nan,\n",
       "                nan,          nan,          nan]), corrected_spine_volume=array([ 47.04004611,  63.36731275,  16.7877662 ,  13.98137311,\n",
       "        11.57000172,  20.7783646 ,  27.24683452,   6.7457432 ,\n",
       "        17.64624689,  41.9470923 ,  94.30232988,  36.725944  ,\n",
       "        10.61797425,  26.37069255,  46.86999868,  62.22801604,\n",
       "        18.30713355,   7.26715289,  20.40216414,  29.55201609,\n",
       "        22.24095124,  27.5194888 ,  22.48480533,   9.38488009,\n",
       "        10.8450395 ,  26.6260938 ,  10.4493986 , 124.91382744,\n",
       "        13.9322968 ,  54.43834623,  15.50322771,  37.73736192,\n",
       "                nan,          nan,          nan,          nan,\n",
       "                nan,          nan,          nan,          nan,\n",
       "                nan,          nan,          nan,          nan,\n",
       "                nan,          nan,          nan]), spine_GluSnFr_dFoF=array([[ 0.4077931 ,  0.05696485,  0.82449565, ...,         nan,\n",
       "                nan,         nan],\n",
       "       [ 0.41155926, -0.25645979, -0.29061228, ...,         nan,\n",
       "                nan,         nan],\n",
       "       [-0.12496891, -0.14448313,  0.03247936, ...,         nan,\n",
       "                nan,         nan],\n",
       "       ...,\n",
       "       [ 0.37852856,  0.56275329, -0.35868273, ...,         nan,\n",
       "                nan,         nan],\n",
       "       [-0.06891005,  0.2343436 ,  0.14794862, ...,         nan,\n",
       "                nan,         nan],\n",
       "       [ 0.19033963, -0.19198651,  0.25030739, ...,         nan,\n",
       "                nan,         nan]]), spine_GluSnFr_processed_dFoF=array([[-0.00569958, -0.03839849,  0.03639743, ...,         nan,\n",
       "                nan,         nan],\n",
       "       [-0.03032884, -0.03283876,  0.04756331, ...,         nan,\n",
       "                nan,         nan],\n",
       "       [-0.03374872, -0.0311847 ,  0.02696372, ...,         nan,\n",
       "                nan,         nan],\n",
       "       ...,\n",
       "       [ 0.06363398,  0.29364301,  0.14315066, ...,         nan,\n",
       "                nan,         nan],\n",
       "       [ 0.08016111,  0.3153326 ,  0.14180356, ...,         nan,\n",
       "                nan,         nan],\n",
       "       [ 0.09750818,  0.3241259 ,  0.15351988, ...,         nan,\n",
       "                nan,         nan]]), spine_GluSnFr_activity=array([[ 0.,  0.,  0., ..., nan, nan, nan],\n",
       "       [ 0.,  0.,  0., ..., nan, nan, nan],\n",
       "       [ 0.,  0.,  0., ..., nan, nan, nan],\n",
       "       ...,\n",
       "       [ 0.,  1.,  0., ..., nan, nan, nan],\n",
       "       [ 0.,  1.,  0., ..., nan, nan, nan],\n",
       "       [ 0.,  0.,  0., ..., nan, nan, nan]]), spine_GluSnFr_floored=array([[0.        , 0.        , 0.        , ...,        nan,        nan,\n",
       "               nan],\n",
       "       [0.        , 0.        , 0.        , ...,        nan,        nan,\n",
       "               nan],\n",
       "       [0.        , 0.        , 0.        , ...,        nan,        nan,\n",
       "               nan],\n",
       "       ...,\n",
       "       [0.        , 0.29364301, 0.        , ...,        nan,        nan,\n",
       "               nan],\n",
       "       [0.        , 0.3153326 , 0.        , ...,        nan,        nan,\n",
       "               nan],\n",
       "       [0.        , 0.        , 0.        , ...,        nan,        nan,\n",
       "               nan]]), spine_calcium_dFoF=array([[ 0.10128699, -0.19258   ,  0.26698916, ...,         nan,\n",
       "                nan,         nan],\n",
       "       [ 0.18872512,  0.10665519, -0.18519867, ...,         nan,\n",
       "                nan,         nan],\n",
       "       [ 0.1671167 , -0.03740716, -0.59114787, ...,         nan,\n",
       "                nan,         nan],\n",
       "       ...,\n",
       "       [-0.28060878,  0.01858427,  0.84802122, ...,         nan,\n",
       "                nan,         nan],\n",
       "       [-0.34421624,  0.13323433,  0.3764916 , ...,         nan,\n",
       "                nan,         nan],\n",
       "       [-0.40022294, -0.12344483, -0.0400188 , ...,         nan,\n",
       "                nan,         nan]]), spine_calcium_processed_dFoF=array([[ 0.0192763 ,  0.06051467, -0.00623452, ...,         nan,\n",
       "                nan,         nan],\n",
       "       [ 0.026941  ,  0.03622849, -0.02553401, ...,         nan,\n",
       "                nan,         nan],\n",
       "       [ 0.02788269,  0.0331256 , -0.05440506, ...,         nan,\n",
       "                nan,         nan],\n",
       "       ...,\n",
       "       [-0.01808251,  0.0513687 ,  0.03107276, ...,         nan,\n",
       "                nan,         nan],\n",
       "       [-0.01568754,  0.0495918 ,  0.04341938, ...,         nan,\n",
       "                nan,         nan],\n",
       "       [-0.01045389,  0.05379486,  0.03814782, ...,         nan,\n",
       "                nan,         nan]]), spine_calcium_activity=array([[ 0.,  0.,  0., ..., nan, nan, nan],\n",
       "       [ 0.,  0.,  0., ..., nan, nan, nan],\n",
       "       [ 0.,  0.,  0., ..., nan, nan, nan],\n",
       "       ...,\n",
       "       [ 0.,  0.,  0., ..., nan, nan, nan],\n",
       "       [ 0.,  0.,  0., ..., nan, nan, nan],\n",
       "       [ 0.,  0.,  0., ..., nan, nan, nan]]), spine_calcium_floored=array([[ 0.,  0.,  0., ..., nan, nan, nan],\n",
       "       [ 0.,  0.,  0., ..., nan, nan, nan],\n",
       "       [ 0.,  0.,  0., ..., nan, nan, nan],\n",
       "       ...,\n",
       "       [ 0.,  0.,  0., ..., nan, nan, nan],\n",
       "       [ 0.,  0.,  0., ..., nan, nan, nan],\n",
       "       [ 0.,  0.,  0., ..., nan, nan, nan]]), movement_spines=[True, True, False, True, True, False, True, True, True, False, False, False, False, True, False, True, True, True, True, False, True, False, True, True, True, True, True, False, True, True, True, False, False, False, False, False, False, False, False, False, False, False, False, False, False, False, False], reward_movement_spines=[False, True, False, False, False, False, False, True, True, False, False, False, False, False, False, False, True, False, False, False, False, False, False, False, False, True, True, False, False, False, True, False, False, False, False, False, False, False, False, False, False, False, False, False, False, False, False], silent_spines=[False, False, False, False, False, False, False, False, False, False, False, True, True, False, False, False, False, False, False, False, False, False, False, False, False, False, False, False, False, False, False, False, False, False, False, False, False, False, False, False, False, False, False, False, False, False, False], reward_silent_spines=[False, False, False, False, False, False, False, False, False, False, False, False, True, False, False, False, False, False, False, False, False, False, False, False, False, False, False, False, False, False, False, False, False, False, False, False, False, False, False, False, False, False, False, False, False, False, False], dendrite_length=array([56.88322402, 56.88322402, 56.88322402, 56.88322402, 56.88322402,\n",
       "       56.88322402, 56.88322402, 56.88322402, 56.88322402, 56.88322402,\n",
       "       56.88322402, 56.88322402, 56.88322402, 56.88322402, 56.88322402,\n",
       "       56.88322402, 56.88322402, 56.88322402, 56.88322402, 56.88322402,\n",
       "       56.88322402, 56.88322402, 56.88322402, 56.88322402, 56.88322402,\n",
       "       56.88322402, 56.88322402, 56.88322402, 56.88322402, 56.88322402,\n",
       "       56.88322402, 56.88322402,         nan,         nan,         nan,\n",
       "               nan,         nan,         nan,         nan,         nan,\n",
       "               nan,         nan,         nan,         nan,         nan,\n",
       "               nan,         nan]), dendrite_calcium_dFoF=array([[-0.10268158, -0.10268158, -0.10268158, ...,         nan,\n",
       "                nan,         nan],\n",
       "       [ 0.0424693 ,  0.0424693 ,  0.0424693 , ...,         nan,\n",
       "                nan,         nan],\n",
       "       [-0.04412664, -0.04412664, -0.04412664, ...,         nan,\n",
       "                nan,         nan],\n",
       "       ...,\n",
       "       [-0.13774277, -0.13774277, -0.13774277, ...,         nan,\n",
       "                nan,         nan],\n",
       "       [-0.0268387 , -0.0268387 , -0.0268387 , ...,         nan,\n",
       "                nan,         nan],\n",
       "       [-0.04733707, -0.04733707, -0.04733707, ...,         nan,\n",
       "                nan,         nan]]), dendrite_calcium_processed_dFoF=array([[-0.01309141, -0.01309141, -0.01309141, ...,         nan,\n",
       "                nan,         nan],\n",
       "       [-0.01092274, -0.01092274, -0.01092274, ...,         nan,\n",
       "                nan,         nan],\n",
       "       [-0.01306263, -0.01306263, -0.01306263, ...,         nan,\n",
       "                nan,         nan],\n",
       "       ...,\n",
       "       [-0.01111474, -0.01111474, -0.01111474, ...,         nan,\n",
       "                nan,         nan],\n",
       "       [-0.00556083, -0.00556083, -0.00556083, ...,         nan,\n",
       "                nan,         nan],\n",
       "       [-0.00225456, -0.00225456, -0.00225456, ...,         nan,\n",
       "                nan,         nan]]), dendrite_calcium_activity=array([[ 0.,  0.,  0., ..., nan, nan, nan],\n",
       "       [ 0.,  0.,  0., ..., nan, nan, nan],\n",
       "       [ 0.,  0.,  0., ..., nan, nan, nan],\n",
       "       ...,\n",
       "       [ 0.,  0.,  0., ..., nan, nan, nan],\n",
       "       [ 0.,  0.,  0., ..., nan, nan, nan],\n",
       "       [ 0.,  0.,  0., ..., nan, nan, nan]]), dendrite_calcium_floored=array([[ 0.,  0.,  0., ..., nan, nan, nan],\n",
       "       [ 0.,  0.,  0., ..., nan, nan, nan],\n",
       "       [ 0.,  0.,  0., ..., nan, nan, nan],\n",
       "       ...,\n",
       "       [ 0.,  0.,  0., ..., nan, nan, nan],\n",
       "       [ 0.,  0.,  0., ..., nan, nan, nan],\n",
       "       [ 0.,  0.,  0., ..., nan, nan, nan]]), movement_dendrites=[True, True, True, True, True, True, True, True, True, True, True, True, True, True, True, True, True, True, True, True, True, True, True, True, True, True, True, True, True, True, True, True, False, False, False, False, False, False, False, False, False, False, False, False, False, False, False], reward_movement_dendrites=[True, True, True, True, True, True, True, True, True, True, True, True, True, True, True, True, True, True, True, True, True, True, True, True, True, True, True, True, True, True, True, True, False, False, False, False, False, False, False, False, False, False, False, False, False, False, False], silent_dendrites=[False, False, False, False, False, False, False, False, False, False, False, False, False, False, False, False, False, False, False, False, False, False, False, False, False, False, False, False, False, False, False, False, False, False, False, False, False, False, False, False, False, False, False, False, False, False, False], reward_silent_dendrites=[False, False, False, False, False, False, False, False, False, False, False, False, False, False, False, False, False, False, False, False, False, False, False, False, False, False, False, False, False, False, False, False, False, False, False, False, False, False, False, False, False, False, False, False, False, False, False], poly_dendrite_positions=[[0.0, 1.0342404367859652, 7.239683057501777, 8.273923494287747, 9.308163931073713, 10.342404367859677, 11.376644804645647, 12.410885241431615, 13.445125678217586, 14.479366115003549, 15.513606551789515, 16.54784698857549, 17.582087425361454, 18.61632786214743, 19.650568298933393, 20.684808735719354, 21.719049172505322, 25.856010919649197, 26.89025135643517, 27.924491793221133, 28.9587322300071, 29.99297266679307, 31.027213103579033, 35.16417485072291, 36.19841528750888, 37.23265572429484, 38.266896161080815, 39.30113659786678, 40.335377034652744, 41.369617471438715, 42.40385790822469, 43.43809834501065, 44.472338781796616, 45.506579218582594, 46.54081965536855, 47.575060092154516, 48.609300528940494, 52.746262276084366, 53.78050271287033, 54.81474314965631, 55.84898358644227, 56.88322402322823]], poly_dendrite_calcium_dFoF=[array([[-0.47677138, -0.06580782, -0.64422355, ...,  1.0767923 ,\n",
       "         0.01736785, -0.71429335],\n",
       "       [-0.19823169, -0.75521606,  0.52218529, ..., -0.56396458,\n",
       "        -0.73183258,  0.531449  ],\n",
       "       [ 0.09373766, -0.500508  , -0.00396684, ...,  0.74835005,\n",
       "        -0.92121643, -0.02184243],\n",
       "       ...,\n",
       "       [-0.33742344, -0.016992  , -0.6183971 , ..., -0.17832029,\n",
       "         0.40999853,  0.22490852],\n",
       "       [ 0.06207817,  0.11951108, -0.81648093, ..., -0.22259953,\n",
       "         1.25983615,  0.20033015],\n",
       "       [-0.61312435, -0.15879969,  0.00293018, ..., -0.48737177,\n",
       "         0.64748287, -0.28084969]])], poly_dendrite_calcium_processed_dFoF=[array([[-0.11273261, -0.16270667, -0.07116663, ..., -0.05444208,\n",
       "        -0.1734142 , -0.20021312],\n",
       "       [-0.12411333, -0.1621565 , -0.08353869, ..., -0.05411507,\n",
       "        -0.13881443, -0.15324917],\n",
       "       [-0.14978123, -0.12567198, -0.09613069, ..., -0.02679831,\n",
       "        -0.15044317, -0.13003026],\n",
       "       ...,\n",
       "       [-0.1341972 ,  0.08136092, -0.2232409 , ..., -0.0238127 ,\n",
       "         0.07702292, -0.0045257 ],\n",
       "       [-0.12841688,  0.10439223, -0.2254355 , ..., -0.05344015,\n",
       "         0.08889577,  0.00805218],\n",
       "       [-0.13643836,  0.07937574, -0.22393272, ..., -0.01955691,\n",
       "         0.0907326 ,  0.01462825]])], followup_flags=[['Shaft Spine', 'High Confidence'], ['Shaft Spine', 'High Confidence'], [], ['High Confidence'], ['High Confidence'], ['High Confidence'], ['High Confidence'], [], ['High Confidence'], ['High Confidence'], ['Shaft Spine'], ['High Confidence'], [], [], ['High Confidence', 'Shaft Spine'], ['Shaft Spine'], ['High Confidence'], [], ['High Confidence'], ['High Confidence'], ['High Confidence'], ['High Confidence'], ['High Confidence'], ['High Confidence'], ['High Confidence'], ['High Confidence'], ['High Confidence'], ['Shaft Spine'], ['High Confidence', 'Shaft Spine'], [], ['High Confidence'], ['High Confidence'], ['New Spine', 'Shaft Spine'], ['High Confidence', 'New Spine'], ['High Confidence', 'New Spine'], ['New Spine'], ['New Spine'], ['New Spine'], ['Absent'], ['Absent'], ['Absent'], ['Absent'], ['Absent'], ['Absent'], ['Absent'], ['Absent'], ['Absent']], followup_volume=array([ 49.83313482,  42.15422707,  17.33451307,  11.24899729,\n",
       "         8.40864863,  25.09867372,  37.29703692,   7.11310738,\n",
       "        16.20432455,  34.13672111,  84.61422172,  26.90496637,\n",
       "         6.32895107,  16.86036497,  41.07556615, 104.46211784,\n",
       "        14.17607531,   5.40826177,  27.34512764,  28.8821773 ,\n",
       "        23.54877961,  14.15868433,  21.04062059,   6.64869874,\n",
       "        12.30494991,  22.60681598,   7.887696  , 119.61954226,\n",
       "         7.95486886,  29.20013708,  19.5467494 ,  38.43868548,\n",
       "        17.29938494,  10.54119193,   7.20645226,  13.46592086,\n",
       "        13.04225857,  11.18717721,          nan,          nan,\n",
       "                nan,          nan,          nan,          nan,\n",
       "                nan,          nan,          nan]), corrected_followup_volume=array([ 42.34841796,  38.40757148,  16.34535145,  11.24899729,\n",
       "         8.26556278,  24.00548546,  36.94018045,   7.00225298,\n",
       "        15.79105013,  32.16990804,  83.69669544,  25.91391215,\n",
       "         5.63455755,  16.30255971,  39.71002736, 104.46211784,\n",
       "        14.0916531 ,   5.36147749,  27.32820783,  28.86453325,\n",
       "        23.53956591,  14.13065588,  20.81115651,   6.55999047,\n",
       "        12.27116535,  20.03824016,   7.86897946, 119.61954226,\n",
       "         7.81937908,  29.13477053,  17.17115255,  36.18780111,\n",
       "        16.47553922,  10.26254864,   7.14448441,  13.40971975,\n",
       "        12.95799196,  11.18562534,          nan,          nan,\n",
       "                nan,          nan,          nan,          nan,\n",
       "                nan,          nan,          nan]))"
      ]
     },
     "execution_count": 10,
     "metadata": {},
     "output_type": "execute_result"
    }
   ],
   "source": [
    "jw090_fov2"
   ]
  },
  {
   "cell_type": "code",
   "execution_count": 11,
   "id": "9ab67bd9",
   "metadata": {},
   "outputs": [],
   "source": [
    "jw090_fov2_dict = {\n",
    "    \"Sampling Rate\": jw090_fov2.imaging_parameters[\"Sampling Rate\"],\n",
    "    \"Lever force smooth\": jw090_fov2.lever_force_smooth,\n",
    "    \"Lever active\": jw090_fov2.lever_active,\n",
    "    \"Spine flags\": jw090_fov2.spine_flags,\n",
    "    \"Spine groupings\": jw090_fov2.spine_groupings,\n",
    "    \"Spine volume\": jw090_fov2.corrected_spine_volume,\n",
    "    \"Spine GluSnFr dFoF\": jw090_fov2.spine_GluSnFr_processed_dFoF,\n",
    "    \"Spine Calcium dFoF\": jw090_fov2.spine_calcium_processed_dFoF,\n",
    "    \"Spine activity\": jw090_fov2.spine_GluSnFr_activity,\n",
    "    \"Dendrite dFoF\": jw090_fov2.dendrite_calcium_processed_dFoF,\n",
    "    \"Dendrite activity\": jw090_fov2.dendrite_calcium_activity,\n",
    "    \"Followup flags\": jw090_fov2.followup_flags,\n",
    "    \"Followup volumes\": jw090_fov2.corrected_followup_volume,\n",
    "}"
   ]
  },
  {
   "cell_type": "code",
   "execution_count": 12,
   "id": "8aec3ec9",
   "metadata": {},
   "outputs": [],
   "source": [
    "jw090_fov3_dict = {\n",
    "    \"Sampling Rate\": jw090_fov3.imaging_parameters[\"Sampling Rate\"],\n",
    "    \"Lever force smooth\": jw090_fov3.lever_force_smooth,\n",
    "    \"Lever active\": jw090_fov3.lever_active,\n",
    "    \"Spine flags\": jw090_fov3.spine_flags,\n",
    "    \"Spine groupings\": jw090_fov3.spine_groupings,\n",
    "    \"Spine volume\": jw090_fov3.corrected_spine_volume,\n",
    "    \"Spine GluSnFr dFoF\": jw090_fov3.spine_GluSnFr_processed_dFoF,\n",
    "    \"Spine Calcium dFoF\": jw090_fov3.spine_calcium_processed_dFoF,\n",
    "    \"Spine activity\": jw090_fov3.spine_GluSnFr_activity,\n",
    "    \"Dendrite dFoF\": jw090_fov3.dendrite_calcium_processed_dFoF,\n",
    "    \"Dendrite activity\": jw090_fov3.dendrite_calcium_activity,\n",
    "    \"Followup flags\": jw090_fov3.followup_flags,\n",
    "    \"Followup volumes\": jw090_fov3.corrected_followup_volume,\n",
    "}"
   ]
  },
  {
   "cell_type": "code",
   "execution_count": 13,
   "id": "bfce45a3",
   "metadata": {},
   "outputs": [],
   "source": [
    "jw092_fov1_dict = {\n",
    "    \"Sampling Rate\": jw092_fov1.imaging_parameters[\"Sampling Rate\"],\n",
    "    \"Lever force smooth\": jw092_fov1.lever_force_smooth,\n",
    "    \"Lever active\": jw092_fov1.lever_active,\n",
    "    \"Spine flags\": jw092_fov1.spine_flags,\n",
    "    \"Spine groupings\": jw092_fov1.spine_groupings,\n",
    "    \"Spine volume\": jw092_fov1.corrected_spine_volume,\n",
    "    \"Spine GluSnFr dFoF\": jw092_fov1.spine_GluSnFr_processed_dFoF,\n",
    "    \"Spine Calcium dFoF\": jw092_fov1.spine_calcium_processed_dFoF,\n",
    "    \"Spine activity\": jw092_fov1.spine_GluSnFr_activity,\n",
    "    \"Dendrite dFoF\": jw092_fov1.dendrite_calcium_processed_dFoF,\n",
    "    \"Dendrite activity\": jw092_fov1.dendrite_calcium_activity,\n",
    "    \"Followup flags\": jw092_fov1.followup_flags,\n",
    "    \"Followup volumes\": jw092_fov1.corrected_followup_volume,\n",
    "}"
   ]
  },
  {
   "cell_type": "code",
   "execution_count": 15,
   "id": "7f884c94",
   "metadata": {},
   "outputs": [],
   "source": [
    "jw092_fov2_dict = {\n",
    "    \"Sampling Rate\": jw092_fov2.imaging_parameters[\"Sampling Rate\"],\n",
    "    \"Lever force smooth\": jw092_fov2.lever_force_smooth,\n",
    "    \"Lever active\": jw092_fov2.lever_active,\n",
    "    \"Spine flags\": jw092_fov2.spine_flags,\n",
    "    \"Spine groupings\": jw092_fov2.spine_groupings,\n",
    "    \"Spine volume\": jw092_fov2.corrected_spine_volume,\n",
    "    \"Spine GluSnFr dFoF\": jw092_fov2.spine_GluSnFr_processed_dFoF,\n",
    "    \"Spine Calcium dFoF\": jw092_fov2.spine_calcium_processed_dFoF,\n",
    "    \"Spine activity\": jw092_fov2.spine_GluSnFr_activity,\n",
    "    \"Dendrite dFoF\": jw092_fov2.dendrite_calcium_processed_dFoF,\n",
    "    \"Dendrite activity\": jw092_fov2.dendrite_calcium_activity,\n",
    "    \"Followup flags\": jw092_fov2.followup_flags,}\n",
    " "
   ]
  },
  {
   "cell_type": "code",
   "execution_count": 16,
   "id": "23f2eaad",
   "metadata": {},
   "outputs": [],
   "source": [
    "from Lab_Analyses.Utilities.save_load_pickle import save_pickle"
   ]
  },
  {
   "cell_type": "code",
   "execution_count": 17,
   "id": "c98cc357",
   "metadata": {},
   "outputs": [],
   "source": [
    "path = r\"C:\\Users\\Jake\\Desktop\""
   ]
  },
  {
   "cell_type": "code",
   "execution_count": 18,
   "id": "a0854be5",
   "metadata": {},
   "outputs": [],
   "source": [
    "save_pickle(\"JW090_FOV2\", jw090_fov2_dict, path)\n",
    "save_pickle(\"JW090_FOV3\", jw090_fov3_dict, path)\n",
    "save_pickle(\"JW092_FOV1\", jw092_fov1_dict, path)\n",
    "save_pickle(\"JW092_FOV2\", jw092_fov2_dict, path)"
   ]
  },
  {
   "cell_type": "code",
   "execution_count": null,
   "id": "925c722b",
   "metadata": {},
   "outputs": [],
   "source": []
  }
 ],
 "metadata": {
  "kernelspec": {
   "display_name": "Python 3 (ipykernel)",
   "language": "python",
   "name": "python3"
  },
  "language_info": {
   "codemirror_mode": {
    "name": "ipython",
    "version": 3
   },
   "file_extension": ".py",
   "mimetype": "text/x-python",
   "name": "python",
   "nbconvert_exporter": "python",
   "pygments_lexer": "ipython3",
   "version": "3.8.15"
  }
 },
 "nbformat": 4,
 "nbformat_minor": 5
}
