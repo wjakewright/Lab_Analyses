{
 "cells": [
  {
   "cell_type": "code",
   "execution_count": 1,
   "id": "706d45b8",
   "metadata": {},
   "outputs": [],
   "source": [
    "import os\n",
    "from Lab_Analyses.Utilities import data_utilities as d_utils\n",
    "from Lab_Analyses.Spine_Analysis_v2 import spine_utilities as s_utils\n",
    "from Lab_Analyses.Utilities.save_load_pickle import load_pickle, save_pickle"
   ]
  },
  {
   "cell_type": "code",
   "execution_count": null,
   "id": "26f514ca",
   "metadata": {},
   "outputs": [],
   "source": [
    "def convert_spine_data_to_dataclass(mouse_id, fov_type, days=[\"Early\"]):\n",
    "    initial_path = r\"G:\\Analyzed_data\\individual\"\n",
    "    dict_path = r\"G:\\Repository_data\\individual\"\n",
    "\n",
    "    data_path = os.path.join(initial_path, mouse_id, \"spine_data\")\n",
    "    FOVs = next(os.walk(data_path))[1]\n",
    "    FOVs = [x for x in FOVs if fov_type in x]\n",
    "    # Load each FOV and day separately\n",
    "    for FOV in FOVs:\n",
    "        FOV_path = os.path.join(data_path, FOV)\n",
    "        fnames = next(os.walk(FOV_path))[2]\n",
    "        for day in days:\n",
    "            load_name = [x for x in fnames if day in x][0]\n",
    "            data_dataclass = load_pickle([load_name], path=FOV_path)[0]\n",
    "            \n",
    "            data_dict = d_utils.convert_dataclass_to_dict(data_dataclass)\n",
    "            \n",
    "            save_path = os.path.join(dict_path, mouse_id, \"spine_data_dict\", FOV)\n",
    "\n",
    "            if not os.path.isdir(save_path):\n",
    "                os.makedirs(save_path)\n",
    "            save_name = load_name.split(\".\")[0]\n",
    "            save_pickle(save_name, data_dict, save_path)"
   ]
  },
  {
   "cell_type": "code",
   "execution_count": null,
   "id": "02da6e4b",
   "metadata": {},
   "outputs": [],
   "source": [
    "# Apical data\n",
    "# Mouse ids\n",
    "id_1 = \"JW082\"\n",
    "id_2 = \"JW083\" \n",
    "id_3 = \"JW090\"\n",
    "id_4 = \"JW092\"\n",
    "#id_5 = \"JW126\" # Not using\n",
    "id_6 = \"JW129\" \n",
    "id_7 = \"JW130\" \n",
    "id_8 = \"JW153\"\n",
    "id_9 = \"JW150\"\n",
    "id_10 = \"JW168\"\n",
    "id_11 = \"JW202\"\n",
    "#id_12 = \"JW215\"\n",
    "#id_13 = \"JW241\" # Not using\n",
    "#id_14 = \"JW242\" # Not using\n",
    "\n",
    "\n",
    "\n",
    "mouse_list = [id_1, id_2, id_3, id_4, id_6, id_7, id_8, id_9, id_10, id_11]\n",
    "\n",
    "for mouse in mouse_list:\n",
    "    convert_spine_data_to_dataclass(mouse, fov_type=\"apical\", days=[\"Early\"])"
   ]
  },
  {
   "cell_type": "code",
   "execution_count": null,
   "id": "2a3d1304",
   "metadata": {},
   "outputs": [],
   "source": [
    "# Basal data\n",
    "# Mouse ids\n",
    "id_2 = \"JW153\"\n",
    "id_3 = \"JW154\"\n",
    "id_4 = \"JW167\"\n",
    "id_5 = \"JW168\"\n",
    "id_6 = \"JW169\"\n",
    "id_7 = \"JW193\"\n",
    "id_8 = \"JW205\"\n",
    "id_9 = \"JW206\"\n",
    "id_10 = \"JW213\"\n",
    "id_11 = \"JW215\"\n",
    "id_12 = \"JW270\"\n",
    "# id_13 = \"JW280\" # Not using due to artifacts\n",
    "id_14 = \"JW306\"\n",
    "\n",
    "mouse_list = [id_2, id_3, id_4, id_5, id_6, id_7, id_8, id_9, id_10, id_11, id_12, id_14]\n",
    "\n",
    "for mouse in mouse_list:\n",
    "    convert_spine_data_to_dataclass(mouse, fov_type=\"basal\", days=[\"Early\"])"
   ]
  },
  {
   "cell_type": "code",
   "execution_count": null,
   "id": "9f59fdf7",
   "metadata": {},
   "outputs": [],
   "source": [
    "dict_path = r\"G:\\Repository_data\\individual\"\n",
    "load_path = os.path.join(dict_path, \"JW306\", \"spine_data_dict\", \"FOV1_basal\")\n",
    "name = \"JW306_FOV1_basal_Early_dual_spine_data\"\n",
    "data = load_pickle([name], load_path)[0]"
   ]
  },
  {
   "cell_type": "code",
   "execution_count": null,
   "id": "6082e586",
   "metadata": {},
   "outputs": [],
   "source": [
    "data.keys()"
   ]
  },
  {
   "cell_type": "code",
   "execution_count": null,
   "id": "96edea34",
   "metadata": {},
   "outputs": [],
   "source": [
    "len(data[\"imaging_parameters\"][\"Artifact Frames\"])"
   ]
  },
  {
   "cell_type": "code",
   "execution_count": null,
   "id": "b1fead0e",
   "metadata": {},
   "outputs": [],
   "source": [
    "import numpy as np\n",
    "from scipy import stats\n",
    "num_arts = np.array([2, 1, 1, 3, 3, 2, 3, 4, 0, 7, 2, 4, 4, 4, 3, 1, 1, 1, 2, 4, 2, 3, 0, 0, 0, 0, 0])"
   ]
  },
  {
   "cell_type": "code",
   "execution_count": null,
   "id": "22b7d2a4",
   "metadata": {},
   "outputs": [],
   "source": [
    "print(np.mean(num_arts))\n",
    "print(stats.sem(num_arts))"
   ]
  },
  {
   "cell_type": "code",
   "execution_count": 2,
   "id": "db296d20",
   "metadata": {},
   "outputs": [],
   "source": [
    "def convert_behavior_data_to_dataclass(mouse_id):\n",
    "    initial_path = r\"G:\\Analyzed_data\\individual\"\n",
    "    dict_path = r\"G:\\Repository_data\\individual\"\n",
    "\n",
    "    data_path = os.path.join(initial_path, mouse_id, \"behavior\")\n",
    "    sessions = next(os.walk(data_path))[1]\n",
    "    # Load each FOV and day separately\n",
    "    for session in sessions:\n",
    "        session_path = os.path.join(data_path, session)\n",
    "        fnames = next(os.walk(session_path))[2]\n",
    "        process_name = [x for x in fnames if \"processed\" in x][0]\n",
    "        summ_name = [x for x in fnames if \"summarized\" in x][0]\n",
    "        process_dataclass = load_pickle([process_name], path=session_path)[0]\n",
    "        summ_dataclass = load_pickle([summ_name], path=session_path)[0]\n",
    "            \n",
    "        process_dict = d_utils.convert_dataclass_to_dict(process_dataclass)\n",
    "        summ_dict = d_utils.convert_dataclass_to_dict(summ_dataclass)\n",
    "            \n",
    "        save_path = os.path.join(dict_path, mouse_id, \"behavior_dict\", session)\n",
    "\n",
    "        if not os.path.isdir(save_path):\n",
    "            os.makedirs(save_path)\n",
    "        p_save_name = process_name.split(\".\")[0]\n",
    "        s_save_name = summ_name.split(\".\")[0]\n",
    "        save_pickle(p_save_name, process_dict, save_path)\n",
    "        save_pickle(s_save_name, summ_dict, save_path)\n",
    "    \n",
    "    out_fnames = next(os.walk(data_path))[2]\n",
    "    all_name = [x for x in out_fnames if \"all_lever_data\" in x][0]\n",
    "    all_dataclass = load_pickle([all_name], path=data_path)[0]\n",
    "    all_dict = d_utils.convert_dataclass_to_dict(all_dataclass)\n",
    "    a_save_path = os.path.join(dict_path, mouse_id, \"behavior_dict\")\n",
    "    \n",
    "    a_save_name = all_name.split(\".\")[0]\n",
    "    save_pickle(a_save_name, all_dict, a_save_path)"
   ]
  },
  {
   "cell_type": "code",
   "execution_count": 3,
   "id": "07abf6b8",
   "metadata": {},
   "outputs": [],
   "source": [
    "id_1 = \"JW082\"\n",
    "id_2 = \"JW083\"\n",
    "id_3 = \"JW090\"\n",
    "id_4 = \"JW092\"\n",
    "id_5 = \"JW129\"\n",
    "id_6 = \"JW130\"\n",
    "id_7 = \"JW150\" \n",
    "id_8 = \"JW153\"\n",
    "id_9 = \"JW154\"\n",
    "id_10 = \"JW167\"\n",
    "id_11 = \"JW168\"\n",
    "id_12 = \"JW169\"\n",
    "id_13 = \"JW193\"\n",
    "id_14 = \"JW202\"\n",
    "id_15 = \"JW205\"\n",
    "id_16 = \"JW206\"\n",
    "id_17 = \"JW213\"\n",
    "id_18 = \"JW215\"\n",
    "id_19 = \"JW270\"\n",
    "id_21 = \"JW306\"\n",
    "\n",
    "mouse_ids = [id_1, id_2, id_3, id_4, id_5, id_6, id_7, id_8, id_9, id_10, id_11, id_12, id_13, id_14, id_15, id_16, id_17, id_18, id_19, id_21]"
   ]
  },
  {
   "cell_type": "code",
   "execution_count": 4,
   "id": "c1fffb7a",
   "metadata": {},
   "outputs": [],
   "source": [
    "for mouse in mouse_ids:\n",
    "    convert_behavior_data_to_dataclass(mouse)"
   ]
  },
  {
   "cell_type": "code",
   "execution_count": 5,
   "id": "c5d238bc",
   "metadata": {},
   "outputs": [],
   "source": [
    "dict_path = r\"G:\\Repository_data\\individual\"\n",
    "load_path = os.path.join(dict_path, \"JW082\", \"behavior_dict\", \"220503\")\n",
    "name = \"JW082_220503_processed_lever_data.pickle\"\n",
    "data = load_pickle([name], load_path)[0]"
   ]
  },
  {
   "cell_type": "code",
   "execution_count": 8,
   "id": "005c3a9d",
   "metadata": {},
   "outputs": [
    {
     "data": {
      "text/plain": [
       "array([0, 0, 0, ..., 0, 0, 0])"
      ]
     },
     "execution_count": 8,
     "metadata": {},
     "output_type": "execute_result"
    }
   ],
   "source": []
  },
  {
   "cell_type": "code",
   "execution_count": null,
   "id": "ca4b0011",
   "metadata": {},
   "outputs": [],
   "source": []
  }
 ],
 "metadata": {
  "kernelspec": {
   "display_name": "Python 3 (ipykernel)",
   "language": "python",
   "name": "python3"
  },
  "language_info": {
   "codemirror_mode": {
    "name": "ipython",
    "version": 3
   },
   "file_extension": ".py",
   "mimetype": "text/x-python",
   "name": "python",
   "nbconvert_exporter": "python",
   "pygments_lexer": "ipython3",
   "version": "3.8.18"
  }
 },
 "nbformat": 4,
 "nbformat_minor": 5
}
