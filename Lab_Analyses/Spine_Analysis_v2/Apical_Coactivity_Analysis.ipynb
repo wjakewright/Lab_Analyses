{
 "cells": [
  {
   "cell_type": "markdown",
   "id": "fb9a6a64",
   "metadata": {},
   "source": [
    "# Apical Coactivity Analysis\n",
    "## Notebook for preprocessing and analyzing coactivity spine data from apical FOVs"
   ]
  },
  {
   "cell_type": "code",
   "execution_count": null,
   "id": "165e4955",
   "metadata": {},
   "outputs": [],
   "source": [
    "# Configure Notebook width\n",
    "from IPython.display import display, HTML\n",
    "display(HTML(\"<style>.container { width:80% !important; }</style>\"))"
   ]
  },
  {
   "cell_type": "code",
   "execution_count": null,
   "id": "8aecfff9",
   "metadata": {},
   "outputs": [],
   "source": [
    "# Import packages and modules\n",
    "import os\n",
    "import numpy as np\n",
    "from Lab_Analyses.Spine_Analysis_v2 import spine_utilities as s_utils\n",
    "from Lab_Analyses.Spine_Analysis_v2.preprocess_spine_data import organize_dual_spine_data\n",
    "from Lab_Analyses.Spine_Analysis_v2.spine_activity_analysis import spine_activity_analysis\n",
    "from Lab_Analyses.Spine_Analysis_v2.local_coactivity_analysis import local_coactivity_analysis\n",
    "from Lab_Analyses.Spine_Analysis_v2.dendritic_coactivity_analysis import dendritic_coactivity_analysis\n",
    "from Lab_Analyses.Spine_Analysis_v2.spine_volume_normalization import batch_spine_volume_normalization\n",
    "## plotting modules\n",
    "from Lab_Analyses.Spine_Analysis_v2 import spine_activity_plotting as spine_plotting\n",
    "from Lab_Analyses.Spine_Analysis_v2 import dendrite_activity_plotting as dend_plotting\n",
    "from Lab_Analyses.Spine_Analysis_v2 import local_coactivity_plotting as local_plotting\n",
    "\n",
    "%matplotlib ipympl"
   ]
  },
  {
   "cell_type": "markdown",
   "id": "4f84575e",
   "metadata": {},
   "source": [
    "## Datasets\n",
    "Specify the mice the be analyzed and other analysis parameters"
   ]
  },
  {
   "cell_type": "code",
   "execution_count": null,
   "id": "dfb4a009",
   "metadata": {},
   "outputs": [],
   "source": [
    "# Mouse ids\n",
    "id_1 = \"JW082\"\n",
    "id_2 = \"JW083\"\n",
    "id_3 = \"JW090\"\n",
    "id_4 = \"JW092\"\n",
    "id_5 = \"JW126\"\n",
    "id_6 = \"JW129\"\n",
    "id_7 = \"JW130\"\n",
    "id_8 = \"JW150\"\n",
    "id_9 = \"JW153\"\n",
    "\n",
    "mouse_list = [id_1, id_2, id_3, id_4, id_5, id_6, id_7, id_8, id_9]\n",
    "\n",
    "# FOV type\n",
    "fov_type = \"apical\"\n",
    "\n",
    "# Preprocessing parameters\n",
    "reprocess = False\n",
    "channels = {\"GluSnFr\": \"GreenCh\", \"Calcium\": \"RedCh\"}\n",
    "redetection = True\n",
    "followup=True\n",
    "plot_norm=True\n",
    "\n",
    "# Analysis parameters\n",
    "activity_window = (-2,4) ## In seconds\n",
    "zscore = False\n",
    "volume_norm = True\n",
    "extend_dendrite = False\n",
    "cluster_dist = 5\n",
    "days = [\"Early\", \"Middle\", \"Late\"]\n",
    "movement_periods = [None, \"movement\", \"nonmovement\", \"rewarded movement\"]\n",
    "partners = None\n",
    "save_ind = False\n",
    "save_grouped = True"
   ]
  },
  {
   "cell_type": "markdown",
   "id": "ef8652c3",
   "metadata": {},
   "source": [
    "## Preprocess data"
   ]
  },
  {
   "cell_type": "code",
   "execution_count": null,
   "id": "273d166a",
   "metadata": {
    "scrolled": false
   },
   "outputs": [],
   "source": [
    "# Preprocess and reorganize the imaging datasets\n",
    "for mouse in mouse_list:\n",
    "    organize_dual_spine_data(\n",
    "        mouse,\n",
    "        channels=channels,\n",
    "        fov_type=fov_type,\n",
    "        redetection=redetection,\n",
    "        reprocess=reprocess,\n",
    "        save=True,\n",
    "        followup=followup,\n",
    "    )\n",
    "    \n",
    "\n",
    "# Generate volume normalization constants\n",
    "if volume_norm:\n",
    "    for day in days:\n",
    "        ## GluSnFr data\n",
    "        batch_spine_volume_normalization(\n",
    "            mice_list=mouse_list,\n",
    "            day=day,\n",
    "            fov_type=fov_type,\n",
    "            activity_type=\"GluSnFr\",\n",
    "            zscore=zscore,\n",
    "            plot=plot_norm\n",
    "        )\n",
    "        ## Calcium data\n",
    "        batch_spine_volume_normalization(\n",
    "            mice_list=mouse_list,\n",
    "            day=day,\n",
    "            fov_type=fov_type,\n",
    "            activity_type=\"Calcium\",\n",
    "            zscore=zscore,\n",
    "            plot=plot_norm\n",
    "        )"
   ]
  },
  {
   "cell_type": "markdown",
   "id": "41a11e73",
   "metadata": {},
   "source": [
    "# Data Analysis"
   ]
  },
  {
   "cell_type": "markdown",
   "id": "48775b1c",
   "metadata": {},
   "source": [
    "### Spine and dendrite activity analysis"
   ]
  },
  {
   "cell_type": "code",
   "execution_count": null,
   "id": "797054ff",
   "metadata": {
    "scrolled": false
   },
   "outputs": [],
   "source": [
    "# Perform spine- and dendrite-centric analysis\n",
    "for day in days:\n",
    "    print(f\"================ {day} =================\")\n",
    "    spine_activity_analysis(\n",
    "        mice_list=mouse_list,\n",
    "        session=day,\n",
    "        fov_type=fov_type,\n",
    "        activity_window=activity_window,\n",
    "        zscore=zscore,\n",
    "        volume_norm=volume_norm,\n",
    "        save_ind=save_ind,\n",
    "        save_grouped=save_grouped\n",
    "    )\n",
    "    print(f\"======================================\")"
   ]
  },
  {
   "cell_type": "markdown",
   "id": "3129f9c7",
   "metadata": {},
   "source": [
    "### Local coactivity analysis"
   ]
  },
  {
   "cell_type": "code",
   "execution_count": null,
   "id": "f69f7cda",
   "metadata": {},
   "outputs": [],
   "source": [
    "# Perform local coactivity analysis\n",
    "for day in days:\n",
    "    print(f\"================ day =================\")\n",
    "    for movement in movement_periods:\n",
    "        print(f\"- {movement.upper()})\n",
    "        local_coactivity_analysis(\n",
    "            mice_list=mouse_list,\n",
    "            session=day,\n",
    "            fov_type=fov_type,\n",
    "            activity_window=activity_window,\n",
    "            cluster_dist=cluster_dist,\n",
    "            zscore=zscore,\n",
    "            volume_norm=volume_norm,\n",
    "            partners=partners,\n",
    "            movement_period=movement,\n",
    "            save_ind=save_ind,\n",
    "            save_grouped=save_grouped\n",
    "        )\n",
    "    print(f\"======================================\")"
   ]
  },
  {
   "cell_type": "markdown",
   "id": "3d920998",
   "metadata": {},
   "source": [
    "### Spine-dendrite coactivity analysis"
   ]
  },
  {
   "cell_type": "code",
   "execution_count": null,
   "id": "e81fe750",
   "metadata": {},
   "outputs": [],
   "source": [
    "# Perform the dendritic coactivity analysis\n",
    "for day in days:\n",
    "    print(f\"================ day =================\")\n",
    "    for movement in movement_periods:\n",
    "        print(f\"- {movement.upper()})\n",
    "        dendritic_coactivity_analysis(\n",
    "            mice_list=mouse_list,\n",
    "            session=day,\n",
    "            fov_type=fov_type,\n",
    "            activity_window=activity_window,\n",
    "            cluster_dist=cluster_dist,\n",
    "            zscore=zscore,\n",
    "            volume_norm=volume_norm,\n",
    "            partners=partners,\n",
    "            movement_period=movement_period,\n",
    "            extend=extend_dendrite,\n",
    "            save_ind=save_ind,\n",
    "            save_grouped=save_grouped,\n",
    "        )\n",
    "    print(f\"======================================\")"
   ]
  },
  {
   "cell_type": "markdown",
   "id": "aecff1ed",
   "metadata": {},
   "source": [
    "# Visualize analyzed data"
   ]
  },
  {
   "cell_type": "code",
   "execution_count": null,
   "id": "62ea5169",
   "metadata": {},
   "outputs": [],
   "source": [
    "# Set up file and path information\n",
    "## Select session to analyze\n",
    "load_session = \"Early\"\n",
    "## Set path the save figures in\n",
    "figure_path = r\"C:\\Users\\Jake\\Desktop\\Figures\\grouped_data\\Dual_Spine_Imaging\\Coactivity_Plasticity\"\n",
    "save_path = os.path.join(figure_path, load_session)\n",
    "## Ensure the path exists\n",
    "if not os.path.isdir(save_path):\n",
    "    os.makedirs(save_path)"
   ]
  },
  {
   "cell_type": "code",
   "execution_count": null,
   "id": "4b25bcf3",
   "metadata": {},
   "outputs": [],
   "source": [
    "# General properties\n",
    "exclude = \"Shaft Spine\"\n",
    "threshold = 0.3\n",
    "mean_type = \"median\"\n",
    "err_type = \"CI\"\n",
    "test_type = \"nonparametric\"\n",
    "test_method = \"holm-sidak\"\n",
    "display_stats = True"
   ]
  },
  {
   "cell_type": "markdown",
   "id": "7361ec9a",
   "metadata": {},
   "source": [
    "## Spine and Dendrite Activity"
   ]
  },
  {
   "cell_type": "code",
   "execution_count": null,
   "id": "8aa364f2",
   "metadata": {},
   "outputs": [],
   "source": [
    "# Load specified datasets\n",
    "activity_data = s_utils.load_analyzed_datasets(\n",
    "    type=\"Activity\",\n",
    "    grouped=True,\n",
    "    session=\"Early\",\n",
    "    norm=True,\n",
    "    activity_type=\"dFoF\",\n",
    "    extended=None,\n",
    "    mouse=None,\n",
    "    fov=None,\n",
    "    fov_type=\"apical\",\n",
    "    period=None,\n",
    "    partner=None,\n",
    ")"
   ]
  },
  {
   "cell_type": "markdown",
   "id": "e94187f8",
   "metadata": {},
   "source": [
    "### Figure 1 - Basic Spine Features"
   ]
  },
  {
   "cell_type": "code",
   "execution_count": null,
   "id": "939c71cb",
   "metadata": {},
   "outputs": [],
   "source": [
    "# Figure 1 - Basic spine features\n",
    "spine_plotting.plot_basic_features(\n",
    "    dataset=activity_data,\n",
    "    followup_dataset=None,\n",
    "    exclude=exclude,\n",
    "    threshold=threshold,\n",
    "    figsize=(10,7),\n",
    "    hist_bins=20,\n",
    "    mean_type=mean_type,\n",
    "    err_type=err_type,\n",
    "    test_type=test_type,\n",
    "    test_method=test_method,\n",
    "    display_stats=display_stats,\n",
    "    save=False,\n",
    "    save_path=figure_path\n",
    ")"
   ]
  },
  {
   "cell_type": "markdown",
   "id": "f97cd7a2",
   "metadata": {},
   "source": [
    "### Figure 2 - Movement-related activity"
   ]
  },
  {
   "cell_type": "code",
   "execution_count": null,
   "id": "0f811a04",
   "metadata": {
    "scrolled": false
   },
   "outputs": [],
   "source": [
    "spine_plotting.plot_movement_related_activity(\n",
    "    dataset=activity_data,\n",
    "    followup_dataset=None,\n",
    "    exclude=exclude,\n",
    "    threshold=threshold,\n",
    "    figsize=(12,12),\n",
    "    hist_bins=20,\n",
    "    mean_type=mean_type,\n",
    "    err_type=err_type,\n",
    "    test_type=test_type,\n",
    "    test_method=test_method,\n",
    "    display_stats=display_stats,\n",
    "    save=False,\n",
    "    save_path=figure_path\n",
    ")"
   ]
  },
  {
   "cell_type": "markdown",
   "id": "41fce49b",
   "metadata": {},
   "source": [
    "### Figure 3 - Rewarded movement-related activity"
   ]
  },
  {
   "cell_type": "code",
   "execution_count": null,
   "id": "8f21e5b3",
   "metadata": {
    "scrolled": false
   },
   "outputs": [],
   "source": [
    "spine_plotting.plot_rewarded_movement_related_activity(\n",
    "    dataset=activity_data,\n",
    "    followup_dataset=None,\n",
    "    exclude=exclude,\n",
    "    threshold=threshold,\n",
    "    figsize=(14,10),\n",
    "    hist_bins=20,\n",
    "    mean_type=mean_type,\n",
    "    err_type=err_type,\n",
    "    test_type=test_type,\n",
    "    test_method=test_method,\n",
    "    display_stats=display_stats,\n",
    "    save=False,\n",
    "    save_path=figure_path\n",
    ")"
   ]
  },
  {
   "cell_type": "markdown",
   "id": "8d9d2f78",
   "metadata": {},
   "source": [
    "### Figure 4 - Spine movement encoding"
   ]
  },
  {
   "cell_type": "code",
   "execution_count": null,
   "id": "4181763e",
   "metadata": {
    "scrolled": false
   },
   "outputs": [],
   "source": [
    "spine_plotting.plot_spine_movement_encoding(\n",
    "    dataset=activity_data,\n",
    "    followup_dataset=None,\n",
    "    exclude=exclude,\n",
    "    threshold=threshold,\n",
    "    figsize=(13, 7),\n",
    "    mean_type=mean_type,\n",
    "    err_type=err_type,\n",
    "    test_type=test_type,\n",
    "    test_method=test_method,\n",
    "    display_stats=display_stats,\n",
    "    save=False,\n",
    "    save_path=figure_path,\n",
    ")"
   ]
  },
  {
   "cell_type": "markdown",
   "id": "0e64c7c3",
   "metadata": {},
   "source": [
    "### Figure 5 - Dendrite activity features"
   ]
  },
  {
   "cell_type": "code",
   "execution_count": null,
   "id": "ceacb432",
   "metadata": {},
   "outputs": [],
   "source": [
    "dend_plotting.plot_activity_features(\n",
    "    dataset=activity_data,\n",
    "    followup_dataset=None,\n",
    "    exclude=exclude,\n",
    "    threshold=threshold,\n",
    "    figsize=(14, 12),\n",
    "    hist_bins=10,\n",
    "    save=False,\n",
    "    save_path=figure_path,\n",
    ")"
   ]
  },
  {
   "cell_type": "markdown",
   "id": "33dcc897",
   "metadata": {},
   "source": [
    "### Figure 6 - Dendrite movement encoding"
   ]
  },
  {
   "cell_type": "code",
   "execution_count": null,
   "id": "5aaf56ec",
   "metadata": {},
   "outputs": [],
   "source": [
    "dend_plotting.plot_dendrite_movement_encoding(\n",
    "    dataset=activity_data,\n",
    "    followup_dataset=None,\n",
    "    exclude=exclude,\n",
    "    threshold=threshold,\n",
    "    figsize=(12, 15),\n",
    "    save=False,\n",
    "    save_path=figure_path,\n",
    ")"
   ]
  },
  {
   "cell_type": "code",
   "execution_count": null,
   "id": "4f6a8ab8",
   "metadata": {},
   "outputs": [],
   "source": []
  }
 ],
 "metadata": {
  "kernelspec": {
   "display_name": "Python 3 (ipykernel)",
   "language": "python",
   "name": "python3"
  },
  "language_info": {
   "codemirror_mode": {
    "name": "ipython",
    "version": 3
   },
   "file_extension": ".py",
   "mimetype": "text/x-python",
   "name": "python",
   "nbconvert_exporter": "python",
   "pygments_lexer": "ipython3",
   "version": "3.8.15"
  }
 },
 "nbformat": 4,
 "nbformat_minor": 5
}
