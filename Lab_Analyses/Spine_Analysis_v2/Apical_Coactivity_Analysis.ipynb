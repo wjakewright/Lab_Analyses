{
 "cells": [
  {
   "cell_type": "markdown",
   "id": "fb9a6a64",
   "metadata": {},
   "source": [
    "# Apical Coactivity Analysis\n",
    "## Notebook for preprocessing and analyzing coactivity spine data from apical FOVs"
   ]
  },
  {
   "cell_type": "code",
   "execution_count": null,
   "id": "74ba762f",
   "metadata": {},
   "outputs": [],
   "source": [
    "# Configure Notebook width\n",
    "from IPython.display import display, HTML\n",
    "display(HTML(\"<style>.container { width:90% !important; }</style>\"))"
   ]
  },
  {
   "cell_type": "code",
   "execution_count": null,
   "id": "8aecfff9",
   "metadata": {},
   "outputs": [],
   "source": [
    "# Import packages and modules\n",
    "import os\n",
    "import numpy as np\n",
    "from Lab_Analyses.Spine_Analysis_v2 import spine_utilities as s_utils\n",
    "from Lab_Analyses.Spine_Analysis_v2.preprocess_spine_data import organize_dual_spine_data\n",
    "from Lab_Analyses.Spine_Analysis_v2.spine_activity_analysis import spine_activity_analysis\n",
    "from Lab_Analyses.Spine_Analysis_v2.local_coactivity_analysis import local_coactivity_analysis\n",
    "from Lab_Analyses.Spine_Analysis_v2.dendritic_coactivity_analysis import dendritic_coactivity_analysis\n",
    "from Lab_Analyses.Spine_Analysis_v2.spine_volume_normalization import batch_spine_volume_normalization\n",
    "from Lab_Analyses.Spine_Analysis_v2.spine_activity_dataclass import Grouped_Spine_Activity_Data\n",
    "from Lab_Analyses.Spine_Analysis_v2.local_coactivity_dataclass import Grouped_Local_Coactivity_Data\n",
    "from Lab_Analyses.Spine_Analysis_v2.dendritic_coactivity_dataclass import Grouped_Dendritic_Coactivity_Data\n",
    "## plotting modules\n",
    "from Lab_Analyses.Spine_Analysis_v2 import spine_activity_plotting as spine_plotting\n",
    "from Lab_Analyses.Spine_Analysis_v2 import dendrite_activity_plotting as dend_plotting\n",
    "from Lab_Analyses.Spine_Analysis_v2 import local_coactivity_plotting as local_plotting\n",
    "from Lab_Analyses.Spine_Analysis_v2 import dendritic_coactivity_plotting as global_plotting\n",
    "\n",
    "#%matplotlib ipympl\n",
    "%matplotlib inline\n"
   ]
  },
  {
   "cell_type": "markdown",
   "id": "4f84575e",
   "metadata": {},
   "source": [
    "## Datasets\n",
    "Specify the mice the be analyzed and other analysis parameters"
   ]
  },
  {
   "cell_type": "code",
   "execution_count": null,
   "id": "dfb4a009",
   "metadata": {},
   "outputs": [],
   "source": [
    "# Mouse ids\n",
    "id_1 = \"JW082\"\n",
    "id_2 = \"JW083\" \n",
    "id_3 = \"JW090\"\n",
    "id_4 = \"JW092\"\n",
    "#id_5 = \"JW126\" # Not using\n",
    "id_6 = \"JW129\" \n",
    "id_7 = \"JW130\" \n",
    "id_8 = \"JW153\"\n",
    "id_9 = \"JW150\"\n",
    "id_10 = \"JW168\"\n",
    "id_11 = \"JW202\"\n",
    "id_12 = \"JW241\"\n",
    "id_13 = \"JW242\"\n",
    "\n",
    "\n",
    "mouse_list = [id_1, id_2, id_3, id_4, id_6, id_7, id_8, id_9, id_10, id_11]\n",
    "\n",
    "# FOV type\n",
    "fov_type = \"apical\"\n",
    "\n",
    "# Preprocessing parameters\n",
    "reprocess = False\n",
    "channels = {\"GluSnFr\": \"GreenCh\", \"Calcium\": \"RedCh\"}\n",
    "resmooth = True\n",
    "redetection = True\n",
    "followup=True\n",
    "plot_norm=True\n",
    "\n",
    "# Analysis parameters\n",
    "activity_window = (-2,4) ## In seconds\n",
    "zscore = False\n",
    "volume_norm = True\n",
    "extend_dendrite = None\n",
    "cluster_dist = 10\n",
    "days = [\"Early\", \"Middle\", \"Late\"]\n",
    "movement_periods = [None, \"movement\", \"nonmovement\"]\n",
    "partners = None\n",
    "save_ind = True\n",
    "save_grouped = False"
   ]
  },
  {
   "cell_type": "markdown",
   "id": "ef8652c3",
   "metadata": {},
   "source": [
    "## Preprocess data"
   ]
  },
  {
   "cell_type": "code",
   "execution_count": null,
   "id": "273d166a",
   "metadata": {
    "scrolled": false
   },
   "outputs": [],
   "source": [
    "# Preprocess and reorganize the imaging datasets\n",
    "for mouse in mouse_list:\n",
    "    organize_dual_spine_data(\n",
    "        mouse,\n",
    "        channels=channels,\n",
    "        fov_type=fov_type,\n",
    "        redetection=redetection,\n",
    "        resmooth=resmooth,\n",
    "        reprocess=reprocess,\n",
    "        save=True,\n",
    "        followup=followup,\n",
    "    )\n",
    "    \n",
    "\n",
    "# Generate volume normalization constants\n",
    "if volume_norm:\n",
    "    for day in days:\n",
    "        ## GluSnFr data\n",
    "        batch_spine_volume_normalization(\n",
    "            mice_list=mouse_list,\n",
    "            day=day,\n",
    "            fov_type=fov_type,\n",
    "            activity_type=\"GluSnFr\",\n",
    "            zscore=zscore,\n",
    "            plot=plot_norm\n",
    "        )\n",
    "        ## Calcium data\n",
    "        batch_spine_volume_normalization(\n",
    "            mice_list=mouse_list,\n",
    "            day=day,\n",
    "            fov_type=fov_type,\n",
    "            activity_type=\"Calcium\",\n",
    "            zscore=zscore,\n",
    "            plot=plot_norm\n",
    "        )"
   ]
  },
  {
   "cell_type": "markdown",
   "id": "41a11e73",
   "metadata": {},
   "source": [
    "# Data Analysis"
   ]
  },
  {
   "cell_type": "markdown",
   "id": "48775b1c",
   "metadata": {},
   "source": [
    "### Spine and dendrite activity analysis"
   ]
  },
  {
   "cell_type": "code",
   "execution_count": null,
   "id": "797054ff",
   "metadata": {
    "scrolled": true
   },
   "outputs": [],
   "source": [
    "# Perform spine- and dendrite-centric analysis\n",
    "for day in days:\n",
    "    print(f\"================ {day} =================\")\n",
    "    spine_activity_analysis(\n",
    "        mice_list=mouse_list,\n",
    "        session=day,\n",
    "        fov_type=fov_type,\n",
    "        activity_window=activity_window,\n",
    "        zscore=zscore,\n",
    "        volume_norm=volume_norm,\n",
    "        save_ind=save_ind,\n",
    "        save_grouped=save_grouped\n",
    "    )\n",
    "    print(f\"======================================\")"
   ]
  },
  {
   "cell_type": "markdown",
   "id": "3129f9c7",
   "metadata": {},
   "source": [
    "### Local coactivity analysis"
   ]
  },
  {
   "cell_type": "code",
   "execution_count": null,
   "id": "f69f7cda",
   "metadata": {
    "scrolled": false
   },
   "outputs": [],
   "source": [
    "# Perform local coactivity analysis\n",
    "for day in days:\n",
    "    print(f\" {day} \".center(40, \"#\"))\n",
    "    for movement in movement_periods:\n",
    "        if movement is None:\n",
    "            print(\" ALL PERIODS \".center(40,\"=\"))\n",
    "        else:\n",
    "            print(f\" {movement.upper()} \".center(40,\"=\"))\n",
    "        local_coactivity_analysis(\n",
    "            mice_list=mouse_list,\n",
    "            session=day,\n",
    "            fov_type=fov_type,\n",
    "            activity_window=activity_window,\n",
    "            cluster_dist=cluster_dist,\n",
    "            zscore=zscore,\n",
    "            volume_norm=volume_norm,\n",
    "            partners=partners,\n",
    "            movement_period=movement,\n",
    "            save_ind=save_ind,\n",
    "            save_grouped=save_grouped\n",
    "        )\n",
    "        print(\"========================================\")\n",
    "    print(f\"########################################\")"
   ]
  },
  {
   "cell_type": "markdown",
   "id": "3d920998",
   "metadata": {},
   "source": [
    "### Spine-dendrite coactivity analysis"
   ]
  },
  {
   "cell_type": "code",
   "execution_count": null,
   "id": "e81fe750",
   "metadata": {
    "scrolled": false
   },
   "outputs": [],
   "source": [
    "# Perform the dendritic coactivity analysis\n",
    "for day in days:\n",
    "    print(f\" {day} \".center(40, \"#\"))\n",
    "    for movement in movement_periods:\n",
    "        if movement is None:\n",
    "            print(\" ALL PERIODS \".center(40,\"=\"))\n",
    "        else:\n",
    "            print(f\" {movement.upper()} \".center(40,\"=\"))\n",
    "        dendritic_coactivity_analysis(\n",
    "            mice_list=mouse_list,\n",
    "            session=day,\n",
    "            fov_type=fov_type,\n",
    "            activity_window=activity_window,\n",
    "            cluster_dist=cluster_dist,\n",
    "            zscore=zscore,\n",
    "            volume_norm=volume_norm,\n",
    "            partners=partners,\n",
    "            movement_period=movement,\n",
    "            extend=extend_dendrite,\n",
    "            save_ind=save_ind,\n",
    "            save_grouped=save_grouped,\n",
    "        )\n",
    "        print(\"========================================\")\n",
    "    print(f\"########################################\")"
   ]
  },
  {
   "cell_type": "markdown",
   "id": "aecff1ed",
   "metadata": {},
   "source": [
    "# Visualize analyzed data"
   ]
  },
  {
   "cell_type": "code",
   "execution_count": null,
   "id": "62ea5169",
   "metadata": {},
   "outputs": [],
   "source": [
    "# Set up file and path information\n",
    "## Select session to analyze\n",
    "load_session = \"Early\"\n",
    "## Set path the save figures in\n",
    "figure_path = r\"C:\\Users\\Jake\\Desktop\\Figures\\grouped_data\\Dual_Spine_Imaging\\Coactivity_Plasticity\\apical\"\n",
    "save_path = os.path.join(figure_path, load_session)\n",
    "## Ensure the path exists\n",
    "if not os.path.isdir(save_path):\n",
    "    os.makedirs(save_path)"
   ]
  },
  {
   "cell_type": "code",
   "execution_count": null,
   "id": "4b25bcf3",
   "metadata": {},
   "outputs": [],
   "source": [
    "# General properties\n",
    "exclude = \"Shaft Spine\"\n",
    "threshold = (0.25,0.5)\n",
    "mean_type = \"median\"\n",
    "err_type = \"CI\"\n",
    "test_type = \"nonparametric\"\n",
    "test_method = \"holm-sidak\"\n",
    "display_stats = True\n",
    "vol_norm = False"
   ]
  },
  {
   "cell_type": "markdown",
   "id": "7361ec9a",
   "metadata": {},
   "source": [
    "## Spine and Dendrite Activity"
   ]
  },
  {
   "cell_type": "markdown",
   "id": "a3f90397",
   "metadata": {},
   "source": [
    "### Load Datasets"
   ]
  },
  {
   "cell_type": "markdown",
   "id": "90a6698e",
   "metadata": {},
   "source": [
    "#### Early"
   ]
  },
  {
   "cell_type": "code",
   "execution_count": null,
   "id": "8aa364f2",
   "metadata": {},
   "outputs": [],
   "source": [
    "# Load specified datasets\n",
    "## Early\n",
    "early_activity_data = s_utils.batch_load_individual_analyzed_datasets(\n",
    "    type=\"Activity\",\n",
    "    session=\"Early\",\n",
    "    norm=True,\n",
    "    activity_type=\"dFoF\",\n",
    "    extended=None,\n",
    "    mice_list=mouse_list,\n",
    "    fov_type=\"apical\",\n",
    "    period=None,\n",
    "    partner=None,\n",
    ")\n",
    "early_activity_data = Grouped_Spine_Activity_Data(early_activity_data)"
   ]
  },
  {
   "cell_type": "markdown",
   "id": "dfe3e041",
   "metadata": {},
   "source": [
    "#### Middle"
   ]
  },
  {
   "cell_type": "code",
   "execution_count": null,
   "id": "0f7d3e2c",
   "metadata": {},
   "outputs": [],
   "source": [
    "# Middle\n",
    "middle_activity_data = s_utils.batch_load_individual_analyzed_datasets(\n",
    "    type=\"Activity\",\n",
    "    session=\"Middle\",\n",
    "    norm=True,\n",
    "    activity_type=\"dFoF\",\n",
    "    extended=None,\n",
    "    mice_list=mouse_list,\n",
    "    fov_type=\"apical\",\n",
    "    period=None,\n",
    "    partner=None,\n",
    ")\n",
    "middle_activity_data = Grouped_Spine_Activity_Data(middle_activity_data)"
   ]
  },
  {
   "cell_type": "markdown",
   "id": "889afcf3",
   "metadata": {},
   "source": [
    "#### Late"
   ]
  },
  {
   "cell_type": "code",
   "execution_count": null,
   "id": "2d658978",
   "metadata": {},
   "outputs": [],
   "source": [
    "# Late\n",
    "late_activity_data = s_utils.batch_load_individual_analyzed_datasets(\n",
    "    type=\"Activity\",\n",
    "    session=\"Late\",\n",
    "    norm=True,\n",
    "    activity_type=\"dFoF\",\n",
    "    extended=None,\n",
    "    mice_list=mouse_list,\n",
    "    fov_type=\"apical\",\n",
    "    period=None,\n",
    "    partner=None,\n",
    ")\n",
    "late_activity_data = Grouped_Spine_Activity_Data(late_activity_data)\n"
   ]
  },
  {
   "cell_type": "markdown",
   "id": "28441c9d",
   "metadata": {},
   "source": [
    "#### Grouped Across Days"
   ]
  },
  {
   "cell_type": "code",
   "execution_count": null,
   "id": "51aef8f2",
   "metadata": {},
   "outputs": [],
   "source": [
    "grouped_activity_data = Grouped_Spine_Activity_Data([early_activity_data, middle_activity_data])"
   ]
  },
  {
   "cell_type": "code",
   "execution_count": null,
   "id": "80e3da0d",
   "metadata": {},
   "outputs": [],
   "source": [
    "print(len(early_activity_data.spine_volumes[~np.isnan(early_activity_data.spine_volumes)]))"
   ]
  },
  {
   "cell_type": "markdown",
   "id": "e94187f8",
   "metadata": {},
   "source": [
    "### Figure 1 - Basic Spine Features"
   ]
  },
  {
   "cell_type": "code",
   "execution_count": null,
   "id": "939c71cb",
   "metadata": {
    "scrolled": false
   },
   "outputs": [],
   "source": [
    "# Figure 1 - Basic spine features\n",
    "spine_plotting.plot_basic_features(\n",
    "    dataset=early_activity_data,\n",
    "    followup_dataset=None,\n",
    "    exclude=exclude,\n",
    "    MRSs=None,\n",
    "    threshold=threshold,\n",
    "    figsize=(10,7),\n",
    "    hist_bins=30,\n",
    "    showmeans=True,\n",
    "    test_type=test_type,\n",
    "    test_method=test_method,\n",
    "    display_stats=display_stats,\n",
    "    vol_norm=vol_norm,\n",
    "    save=False,\n",
    "    save_path=figure_path\n",
    ")"
   ]
  },
  {
   "cell_type": "markdown",
   "id": "f97cd7a2",
   "metadata": {},
   "source": [
    "### Figure 2 - Movement-related activity"
   ]
  },
  {
   "cell_type": "code",
   "execution_count": null,
   "id": "0f811a04",
   "metadata": {
    "scrolled": false
   },
   "outputs": [],
   "source": [
    "spine_plotting.plot_movement_related_activity(\n",
    "    dataset=early_activity_data,\n",
    "    followup_dataset=None,\n",
    "    exclude=exclude,\n",
    "    threshold=threshold,\n",
    "    figsize=(12,12),\n",
    "    hist_bins=20,\n",
    "    showmeans=True,\n",
    "    test_type=test_type,\n",
    "    test_method=test_method,\n",
    "    display_stats=display_stats,\n",
    "    vol_norm=vol_norm,\n",
    "    save=False,\n",
    "    save_path=figure_path\n",
    ")"
   ]
  },
  {
   "cell_type": "markdown",
   "id": "41fce49b",
   "metadata": {},
   "source": [
    "### Figure 3 - Rewarded movement-related activity"
   ]
  },
  {
   "cell_type": "code",
   "execution_count": null,
   "id": "8f21e5b3",
   "metadata": {
    "scrolled": false
   },
   "outputs": [],
   "source": [
    "spine_plotting.plot_rewarded_movement_related_activity(\n",
    "    dataset=early_activity_data,\n",
    "    followup_dataset=None,\n",
    "    exclude=exclude,\n",
    "    threshold=threshold,\n",
    "    figsize=(14,10),\n",
    "    hist_bins=20,\n",
    "    showmeans=True,\n",
    "    test_type=test_type,\n",
    "    test_method=test_method,\n",
    "    display_stats=display_stats,\n",
    "    vol_norm=vol_norm,\n",
    "    save=False,\n",
    "    save_path=figure_path\n",
    ")"
   ]
  },
  {
   "cell_type": "markdown",
   "id": "8d9d2f78",
   "metadata": {},
   "source": [
    "### Figure 4 - Spine movement encoding"
   ]
  },
  {
   "cell_type": "code",
   "execution_count": null,
   "id": "4181763e",
   "metadata": {
    "scrolled": false
   },
   "outputs": [],
   "source": [
    "spine_plotting.plot_spine_movement_encoding(\n",
    "    dataset=early_activity_data,\n",
    "    followup_dataset=None,\n",
    "    exclude=exclude,\n",
    "    threshold=threshold,\n",
    "    figsize=(11, 10),\n",
    "    showmeans=True,\n",
    "    test_type=test_type,\n",
    "    test_method=test_method,\n",
    "    display_stats=display_stats,\n",
    "    vol_norm=vol_norm,\n",
    "    save=False,\n",
    "    save_path=figure_path,\n",
    ")"
   ]
  },
  {
   "cell_type": "markdown",
   "id": "0e64c7c3",
   "metadata": {},
   "source": [
    "### Figure 5 - Dendrite activity features"
   ]
  },
  {
   "cell_type": "code",
   "execution_count": null,
   "id": "ceacb432",
   "metadata": {},
   "outputs": [],
   "source": [
    "dend_plotting.plot_activity_features(\n",
    "    dataset=early_activity_data,\n",
    "    followup_dataset=None,\n",
    "    exclude=exclude,\n",
    "    threshold=threshold,\n",
    "    figsize=(14, 12),\n",
    "    hist_bins=10,\n",
    "    save=False,\n",
    "    save_path=figure_path,\n",
    ")"
   ]
  },
  {
   "cell_type": "markdown",
   "id": "33dcc897",
   "metadata": {},
   "source": [
    "### Figure 6 - Dendrite movement encoding"
   ]
  },
  {
   "cell_type": "code",
   "execution_count": null,
   "id": "5aaf56ec",
   "metadata": {},
   "outputs": [],
   "source": [
    "dend_plotting.plot_dendrite_movement_encoding(\n",
    "    dataset=early_activity_data,\n",
    "    followup_dataset=None,\n",
    "    exclude=exclude,\n",
    "    threshold=threshold,\n",
    "    figsize=(12, 15),\n",
    "    save=False,\n",
    "    save_path=figure_path,\n",
    ")"
   ]
  },
  {
   "cell_type": "markdown",
   "id": "212d2d19",
   "metadata": {},
   "source": [
    "## Local Spine Coactivity"
   ]
  },
  {
   "cell_type": "markdown",
   "id": "3c478834",
   "metadata": {},
   "source": [
    "### Load Datasets"
   ]
  },
  {
   "cell_type": "markdown",
   "id": "647d6c70",
   "metadata": {},
   "source": [
    "#### Early"
   ]
  },
  {
   "cell_type": "code",
   "execution_count": null,
   "id": "8cc1c58e",
   "metadata": {
    "scrolled": false
   },
   "outputs": [],
   "source": [
    "## Entire session\n",
    "e_all_coactivity_data = s_utils.batch_load_individual_analyzed_datasets(\n",
    "    type=\"Local\",\n",
    "    session=\"Early\",\n",
    "    norm=True,\n",
    "    activity_type=\"dFoF\",\n",
    "    extended=None,\n",
    "    mice_list=mouse_list,\n",
    "    fov_type=\"apical\",\n",
    "    period=None,\n",
    "    partner=None,\n",
    ")\n",
    "e_mvmt_coactivity_data = s_utils.batch_load_individual_analyzed_datasets(\n",
    "    type=\"Local\",\n",
    "    session=\"Early\",\n",
    "    norm=True,\n",
    "    activity_type=\"dFoF\",\n",
    "    extended=None,\n",
    "    mice_list=mouse_list,\n",
    "    fov_type=\"apical\",\n",
    "    period=\"movement\",\n",
    "    partner=None,\n",
    ")\n",
    "e_nonmvmt_coactivity_data = s_utils.batch_load_individual_analyzed_datasets(\n",
    "    type=\"Local\",\n",
    "    session=\"Early\",\n",
    "    norm=True,\n",
    "    activity_type=\"dFoF\",\n",
    "    extended=None,\n",
    "    mice_list=mouse_list,\n",
    "    fov_type=\"apical\",\n",
    "    period=\"nonmovement\",\n",
    "    partner=None,\n",
    ")\n",
    "e_all_coactivity_data = Grouped_Local_Coactivity_Data(e_all_coactivity_data)\n",
    "e_mvmt_coactivity_data = Grouped_Local_Coactivity_Data(e_mvmt_coactivity_data)\n",
    "e_nonmvmt_coactivity_data = Grouped_Local_Coactivity_Data(e_nonmvmt_coactivity_data)"
   ]
  },
  {
   "cell_type": "markdown",
   "id": "e5f0f2b6",
   "metadata": {},
   "source": [
    "#### Middle "
   ]
  },
  {
   "cell_type": "code",
   "execution_count": null,
   "id": "aa22fa7c",
   "metadata": {},
   "outputs": [],
   "source": [
    "m_all_coactivity_data = s_utils.batch_load_individual_analyzed_datasets(\n",
    "    type=\"Local\",\n",
    "    session=\"Middle\",\n",
    "    norm=True,\n",
    "    activity_type=\"dFoF\",\n",
    "    extended=None,\n",
    "    mice_list=mouse_list,\n",
    "    fov_type=\"apical\",\n",
    "    period=None,\n",
    "    partner=None,\n",
    ")\n",
    "m_mvmt_coactivity_data = s_utils.batch_load_individual_analyzed_datasets(\n",
    "    type=\"Local\",\n",
    "    session=\"Middle\",\n",
    "    norm=True,\n",
    "    activity_type=\"dFoF\",\n",
    "    extended=None,\n",
    "    mice_list=mouse_list,\n",
    "    fov_type=\"apical\",\n",
    "    period=\"movement\",\n",
    "    partner=None,\n",
    ")\n",
    "m_nonmvmt_coactivity_data = s_utils.batch_load_individual_analyzed_datasets(\n",
    "    type=\"Local\",\n",
    "    session=\"Middle\",\n",
    "    norm=True,\n",
    "    activity_type=\"dFoF\",\n",
    "    extended=None,\n",
    "    mice_list=mouse_list,\n",
    "    fov_type=\"apical\",\n",
    "    period=\"nonmovement\",\n",
    "    partner=None,\n",
    ")\n",
    "m_all_coactivity_data = Grouped_Local_Coactivity_Data(m_all_coactivity_data)\n",
    "m_mvmt_coactivity_data = Grouped_Local_Coactivity_Data(m_mvmt_coactivity_data)\n",
    "m_nonmvmt_coactivity_data = Grouped_Local_Coactivity_Data(m_nonmvmt_coactivity_data)"
   ]
  },
  {
   "cell_type": "markdown",
   "id": "5f8a8a43",
   "metadata": {},
   "source": [
    "#### Late"
   ]
  },
  {
   "cell_type": "code",
   "execution_count": null,
   "id": "c747ac4c",
   "metadata": {},
   "outputs": [],
   "source": [
    "l_all_coactivity_data = s_utils.batch_load_individual_analyzed_datasets(\n",
    "    type=\"Local\",\n",
    "    session=\"Late\",\n",
    "    norm=True,\n",
    "    activity_type=\"dFoF\",\n",
    "    extended=None,\n",
    "    mice_list=mouse_list,\n",
    "    fov_type=\"apical\",\n",
    "    period=None,\n",
    "    partner=None,\n",
    ")\n",
    "l_mvmt_coactivity_data = s_utils.batch_load_individual_analyzed_datasets(\n",
    "    type=\"Local\",\n",
    "    session=\"Late\",\n",
    "    norm=True,\n",
    "    activity_type=\"dFoF\",\n",
    "    extended=None,\n",
    "    mice_list=mouse_list,\n",
    "    fov_type=\"apical\",\n",
    "    period=\"movement\",\n",
    "    partner=None,\n",
    ")\n",
    "l_nonmvmt_coactivity_data = s_utils.batch_load_individual_analyzed_datasets(\n",
    "    type=\"Local\",\n",
    "    session=\"Late\",\n",
    "    norm=True,\n",
    "    activity_type=\"dFoF\",\n",
    "    extended=None,\n",
    "    mice_list=mouse_list,\n",
    "    fov_type=\"apical\",\n",
    "    period=\"nonmovement\",\n",
    "    partner=None,\n",
    ")\n",
    "l_all_coactivity_data = Grouped_Local_Coactivity_Data(l_all_coactivity_data)\n",
    "l_mvmt_coactivity_data = Grouped_Local_Coactivity_Data(l_mvmt_coactivity_data)\n",
    "l_nonmvmt_coactivity_data = Grouped_Local_Coactivity_Data(l_nonmvmt_coactivity_data)"
   ]
  },
  {
   "cell_type": "markdown",
   "id": "5fecd299",
   "metadata": {},
   "source": [
    "#### Grouped Across Days"
   ]
  },
  {
   "cell_type": "code",
   "execution_count": null,
   "id": "b5b6ac70",
   "metadata": {},
   "outputs": [],
   "source": [
    "grouped_all_coactivity_data = Grouped_Local_Coactivity_Data([e_all_coactivity_data, m_all_coactivity_data])\n",
    "grouped_mvmt_coactivity_data = Grouped_Local_Coactivity_Data([e_mvmt_coactivity_data, m_mvmt_coactivity_data])\n",
    "grouped_nonmvmt_coactivity_data = Grouped_Local_Coactivity_Data([e_nonmvmt_coactivity_data, m_nonmvmt_coactivity_data])"
   ]
  },
  {
   "cell_type": "markdown",
   "id": "7e813d29",
   "metadata": {},
   "source": [
    "### Figure 1 Coactive vs Non-coactive events"
   ]
  },
  {
   "cell_type": "code",
   "execution_count": null,
   "id": "fa4f9a3f",
   "metadata": {
    "scrolled": false
   },
   "outputs": [],
   "source": [
    "local_plotting.plot_coactive_vs_noncoactive_events(\n",
    "    dataset=e_nonmvmt_coactivity_data,\n",
    "    norm_dend=False,\n",
    "    figsize=(9, 6),\n",
    "    showmeans=True,\n",
    "    test_type=test_type,\n",
    "    display_stats=True,\n",
    "    save=False,\n",
    "    save_path=figure_path\n",
    ")"
   ]
  },
  {
   "cell_type": "markdown",
   "id": "46c6ec2a",
   "metadata": {},
   "source": [
    "### Figure 2-3 Mvmt vs Non-mvmt coactivity"
   ]
  },
  {
   "cell_type": "code",
   "execution_count": null,
   "id": "e23cb6da",
   "metadata": {
    "scrolled": false
   },
   "outputs": [],
   "source": [
    "local_plotting.plot_comparative_mvmt_coactivity(\n",
    "    mvmt_dataset=e_mvmt_coactivity_data,\n",
    "    nonmvmt_dataset=e_nonmvmt_coactivity_data,\n",
    "    rwd_mvmts=False,\n",
    "    figsize=(12,8.5),\n",
    "    showmeans=False,\n",
    "    mean_type=mean_type,\n",
    "    err_type=err_type,\n",
    "    test_type=test_type,\n",
    "    display_stats=display_stats,\n",
    "    save=True,\n",
    "    save_path=figure_path\n",
    ")"
   ]
  },
  {
   "cell_type": "markdown",
   "id": "e09be9d5",
   "metadata": {},
   "source": [
    "### Figures 4-7 Plasticity Coactivity Rates"
   ]
  },
  {
   "cell_type": "code",
   "execution_count": null,
   "id": "a8662407",
   "metadata": {
    "scrolled": false
   },
   "outputs": [],
   "source": [
    "local_plotting.plot_plasticity_coactivity_rates(\n",
    "    dataset=e_all_coactivity_data,\n",
    "    mvmt_dataset=e_mvmt_coactivity_data,\n",
    "    nonmvmt_dataset=e_nonmvmt_coactivity_data,\n",
    "    followup_dataset=None,\n",
    "    norm=False, \n",
    "    rwd_mvmt=False,\n",
    "    exclude=exclude,\n",
    "    MRSs=None,\n",
    "    threshold=threshold,\n",
    "    figsize=(12, 12),\n",
    "    showmeans=True,\n",
    "    mean_type=mean_type,\n",
    "    err_type=err_type,\n",
    "    test_type=test_type,\n",
    "    test_method=\"fdr_tsbh\",\n",
    "    display_stats=display_stats,\n",
    "    vol_norm=vol_norm,\n",
    "    save=False,\n",
    "    save_path=figure_path,\n",
    ")"
   ]
  },
  {
   "cell_type": "markdown",
   "id": "40be2565",
   "metadata": {},
   "source": [
    "### Figures 8-9 Coactive event properties"
   ]
  },
  {
   "cell_type": "code",
   "execution_count": null,
   "id": "9f2cb7c2",
   "metadata": {
    "scrolled": false
   },
   "outputs": [],
   "source": [
    "local_plotting.plot_coactive_event_properties(\n",
    "    dataset=e_all_coactivity_data,\n",
    "    mvmt_dataset=e_mvmt_coactivity_data,\n",
    "    nonmvmt_dataset=e_nonmvmt_coactivity_data,\n",
    "    followup_dataset=None,\n",
    "    rwd_mvmt=False,\n",
    "    exclude=exclude,\n",
    "    threshold=threshold,\n",
    "    MRSs=None,\n",
    "    figsize=(10,15),\n",
    "    showmeans=True,\n",
    "    test_type=test_type,\n",
    "    test_method=test_method,\n",
    "    display_stats=display_stats,\n",
    "    vol_norm=vol_norm,\n",
    "    save=False,\n",
    "    save_path=figure_path,\n",
    ")"
   ]
  },
  {
   "cell_type": "markdown",
   "id": "8cd175e9",
   "metadata": {},
   "source": [
    "### Figure 10 Nearby spine properties"
   ]
  },
  {
   "cell_type": "code",
   "execution_count": null,
   "id": "04633c45",
   "metadata": {
    "scrolled": false
   },
   "outputs": [],
   "source": [
    "local_plotting.plot_nearby_spine_properties(\n",
    "    dataset=e_all_coactivity_data,\n",
    "    followup_dataset=None,\n",
    "    exclude=exclude,\n",
    "    MRSs=None,\n",
    "    threshold=threshold,\n",
    "    figsize=(14,22),\n",
    "    mean_type=mean_type,\n",
    "    err_type=err_type,\n",
    "    showmeans=True,\n",
    "    hist_bins=30,\n",
    "    test_type=test_type,\n",
    "    test_method=test_method,\n",
    "    display_stats=display_stats,\n",
    "    vol_norm=False,\n",
    "    save=False,\n",
    "    save_path=figure_path\n",
    ")"
   ]
  },
  {
   "cell_type": "markdown",
   "id": "ffba562a",
   "metadata": {},
   "source": [
    "### Figure 11 Nearby stable spine properties"
   ]
  },
  {
   "cell_type": "code",
   "execution_count": null,
   "id": "020ed405",
   "metadata": {
    "scrolled": false
   },
   "outputs": [],
   "source": [
    "local_plotting.plot_stable_nearby_spine_properties(\n",
    "    dataset=e_all_coactivity_data,\n",
    "    exclude=exclude,\n",
    "    threshold=threshold,\n",
    "    figsize=(14,12),\n",
    "    mean_type=\"median\",\n",
    "    err_type=\"CI\",\n",
    "    showmeans=True,\n",
    "    test_type=test_type,\n",
    "    test_method=test_method,\n",
    "    display_stats=True,\n",
    "    vol_norm=False,\n",
    "    save=False,\n",
    "    save_path=None,\n",
    ")"
   ]
  },
  {
   "cell_type": "markdown",
   "id": "e62c805f",
   "metadata": {},
   "source": [
    "### Figure 11-13 Nearby Spine Coactivity"
   ]
  },
  {
   "cell_type": "code",
   "execution_count": null,
   "id": "f69fc37c",
   "metadata": {
    "scrolled": false
   },
   "outputs": [],
   "source": [
    "## Select what type of movement period you wish to display\n",
    "local_plotting.plot_nearby_spine_coactivity(\n",
    "    e_all_coactivity_data,\n",
    "    followup_dataset=None,\n",
    "    mvmt_type=\"All periods\",\n",
    "    exclude=exclude,\n",
    "    threshold=threshold,\n",
    "    MRSs=None,\n",
    "    figsize=(12,6),\n",
    "    hist_bins=30,\n",
    "    showmeans=False,\n",
    "    test_type=test_type,\n",
    "    test_method=test_method,\n",
    "    display_stats=display_stats,\n",
    "    vol_norm=vol_norm,\n",
    "    save=False,\n",
    "    save_path=figure_path\n",
    ")"
   ]
  },
  {
   "cell_type": "markdown",
   "id": "696636f0",
   "metadata": {},
   "source": [
    "### Figure 14 Nearby Spine Movement Encoding"
   ]
  },
  {
   "cell_type": "code",
   "execution_count": null,
   "id": "363c399d",
   "metadata": {},
   "outputs": [],
   "source": [
    "local_plotting.plot_nearby_spine_movement_encoding(\n",
    "    e_all_coactivity_data,\n",
    "    followup_dataset=None,\n",
    "    exclude=exclude,\n",
    "    figsize=(10,6),\n",
    "    showmeans=False,\n",
    "    test_type=test_type,\n",
    "    test_method=test_method,\n",
    "    display_stats=display_stats,\n",
    "    vol_norm=False, \n",
    "    save=False,\n",
    "    save_path=figure_path,\n",
    ")"
   ]
  },
  {
   "cell_type": "markdown",
   "id": "f8be4afa",
   "metadata": {},
   "source": [
    "### Figure 15 Local Coactivity Movement Encoding"
   ]
  },
  {
   "cell_type": "code",
   "execution_count": null,
   "id": "9c5d10e7",
   "metadata": {
    "scrolled": false
   },
   "outputs": [],
   "source": [
    "local_plotting.plot_local_movement_encoding(\n",
    "    e_all_coactivity_data,\n",
    "    followup_dataset=None,\n",
    "    exclude=exclude,\n",
    "    threshold=threshold,\n",
    "    figsize=(10,8),\n",
    "    showmeans=True,\n",
    "    test_type=test_type,\n",
    "    test_method=test_method,\n",
    "    display_stats=display_stats,\n",
    "    vol_norm=vol_norm,\n",
    "    save=False,\n",
    "    save_path=figure_path,\n",
    ")"
   ]
  },
  {
   "cell_type": "markdown",
   "id": "1d8306ce",
   "metadata": {},
   "source": [
    "### Figure 16-17 Local Dendritic Activity"
   ]
  },
  {
   "cell_type": "code",
   "execution_count": null,
   "id": "a071e0f5",
   "metadata": {
    "scrolled": false
   },
   "outputs": [],
   "source": [
    "local_plotting.plot_local_dendrite_activity(\n",
    "    e_all_coactivity_data,\n",
    "    e_mvmt_coactivity_data,\n",
    "    e_nonmvmt_coactivity_data,\n",
    "    followup_dataset=None,\n",
    "    rwd_mvmt=False,\n",
    "    exclude=exclude,\n",
    "    threshold=threshold,\n",
    "    MRSs=None,\n",
    "    figsize=(12,8),\n",
    "    showmeans=False,\n",
    "    test_type=test_type,\n",
    "    test_method=test_method,\n",
    "    display_stats=display_stats,\n",
    "    vol_norm=vol_norm,\n",
    "    save=False,\n",
    "    save_path=figure_path\n",
    ")"
   ]
  },
  {
   "cell_type": "markdown",
   "id": "90189466",
   "metadata": {},
   "source": [
    "## Global Dendritic Coactivity"
   ]
  },
  {
   "cell_type": "markdown",
   "id": "46dccd4b",
   "metadata": {},
   "source": [
    "### Load Datasets"
   ]
  },
  {
   "cell_type": "markdown",
   "id": "b6e7f24c",
   "metadata": {},
   "source": [
    "#### Early"
   ]
  },
  {
   "cell_type": "code",
   "execution_count": null,
   "id": "360856ec",
   "metadata": {},
   "outputs": [],
   "source": [
    "## Entire session\n",
    "e_all_global_data = s_utils.batch_load_individual_analyzed_datasets(\n",
    "    type=\"Global\",\n",
    "    session=\"Early\",\n",
    "    norm=True,\n",
    "    activity_type=\"dFoF\",\n",
    "    extended=None,\n",
    "    mice_list=mouse_list,\n",
    "    fov_type=\"apical\",\n",
    "    period=None,\n",
    "    partner=None,\n",
    ")\n",
    "e_mvmt_global_data = s_utils.batch_load_individual_analyzed_datasets(\n",
    "    type=\"Global\",\n",
    "    session=\"Early\",\n",
    "    norm=True,\n",
    "    activity_type=\"dFoF\",\n",
    "    extended=None,\n",
    "    mice_list=mouse_list,\n",
    "    fov_type=\"apical\",\n",
    "    period=\"movement\",\n",
    "    partner=None,\n",
    ")\n",
    "e_nonmvmt_global_data = s_utils.batch_load_individual_analyzed_datasets(\n",
    "    type=\"Global\",\n",
    "    session=\"Early\",\n",
    "    norm=True,\n",
    "    activity_type=\"dFoF\",\n",
    "    extended=None,\n",
    "    mice_list=mouse_list,\n",
    "    fov_type=\"apical\",\n",
    "    period=\"nonmovement\",\n",
    "    partner=None,\n",
    ")\n",
    "e_all_global_data = Grouped_Dendritic_Coactivity_Data(e_all_global_data)\n",
    "e_mvmt_global_data = Grouped_Dendritic_Coactivity_Data(e_mvmt_global_data)\n",
    "e_nonmvmt_global_data = Grouped_Dendritic_Coactivity_Data(e_nonmvmt_global_data)"
   ]
  },
  {
   "cell_type": "markdown",
   "id": "57b16578",
   "metadata": {},
   "source": [
    "#### Middle"
   ]
  },
  {
   "cell_type": "code",
   "execution_count": null,
   "id": "70904a7e",
   "metadata": {},
   "outputs": [],
   "source": [
    "## Entire session\n",
    "m_all_global_data = s_utils.batch_load_individual_analyzed_datasets(\n",
    "    type=\"Global\",\n",
    "    session=\"Middle\",\n",
    "    norm=True,\n",
    "    activity_type=\"dFoF\",\n",
    "    extended=None,\n",
    "    mice_list=mouse_list,\n",
    "    fov_type=\"apical\",\n",
    "    period=None,\n",
    "    partner=None,\n",
    ")\n",
    "m_mvmt_global_data = s_utils.batch_load_individual_analyzed_datasets(\n",
    "    type=\"Global\",\n",
    "    session=\"Middle\",\n",
    "    norm=True,\n",
    "    activity_type=\"dFoF\",\n",
    "    extended=None,\n",
    "    mice_list=mouse_list,\n",
    "    fov_type=\"apical\",\n",
    "    period=\"movement\",\n",
    "    partner=None,\n",
    ")\n",
    "m_nonmvmt_global_data = s_utils.batch_load_individual_analyzed_datasets(\n",
    "    type=\"Global\",\n",
    "    session=\"Middle\",\n",
    "    norm=True,\n",
    "    activity_type=\"dFoF\",\n",
    "    extended=None,\n",
    "    mice_list=mouse_list,\n",
    "    fov_type=\"apical\",\n",
    "    period=\"nonmovement\",\n",
    "    partner=None,\n",
    ")\n",
    "m_all_global_data = Grouped_Dendritic_Coactivity_Data(m_all_global_data)\n",
    "m_mvmt_global_data = Grouped_Dendritic_Coactivity_Data(m_mvmt_global_data)\n",
    "m_nonmvmt_global_data = Grouped_Dendritic_Coactivity_Data(m_nonmvmt_global_data)"
   ]
  },
  {
   "cell_type": "markdown",
   "id": "6ba65309",
   "metadata": {},
   "source": [
    "#### Late"
   ]
  },
  {
   "cell_type": "code",
   "execution_count": null,
   "id": "ebf0814c",
   "metadata": {},
   "outputs": [],
   "source": [
    "## Entire session\n",
    "l_all_global_data = s_utils.batch_load_individual_analyzed_datasets(\n",
    "    type=\"Global\",\n",
    "    session=\"Late\",\n",
    "    norm=True,\n",
    "    activity_type=\"dFoF\",\n",
    "    extended=None,\n",
    "    mice_list=mouse_list,\n",
    "    fov_type=\"apical\",\n",
    "    period=None,\n",
    "    partner=None,\n",
    ")\n",
    "l_mvmt_global_data = s_utils.batch_load_individual_analyzed_datasets(\n",
    "    type=\"Global\",\n",
    "    session=\"Late\",\n",
    "    norm=True,\n",
    "    activity_type=\"dFoF\",\n",
    "    extended=None,\n",
    "    mice_list=mouse_list,\n",
    "    fov_type=\"apical\",\n",
    "    period=\"movement\",\n",
    "    partner=None,\n",
    ")\n",
    "l_nonmvmt_global_data = s_utils.batch_load_individual_analyzed_datasets(\n",
    "    type=\"Global\",\n",
    "    session=\"Late\",\n",
    "    norm=True,\n",
    "    activity_type=\"dFoF\",\n",
    "    extended=None,\n",
    "    mice_list=mouse_list,\n",
    "    fov_type=\"apical\",\n",
    "    period=\"nonmovement\",\n",
    "    partner=None,\n",
    ")\n",
    "    \n",
    "l_all_global_data = Grouped_Dendritic_Coactivity_Data(l_all_global_data)\n",
    "l_mvmt_global_data = Grouped_Dendritic_Coactivity_Data(l_mvmt_global_data)\n",
    "l_nonmvmt_global_data = Grouped_Dendritic_Coactivity_Data(l_nonmvmt_global_data)"
   ]
  },
  {
   "cell_type": "markdown",
   "id": "0c3fea9c",
   "metadata": {},
   "source": [
    "#### Grouped Across Days"
   ]
  },
  {
   "cell_type": "code",
   "execution_count": null,
   "id": "a3dbf26d",
   "metadata": {},
   "outputs": [],
   "source": [
    "grouped_all_global_data = Grouped_Dendritic_Coactivity_Data([e_all_global_data, m_all_global_data, l_all_global_data])\n",
    "grouped_mvmt_global_data = Grouped_Dendritic_Coactivity_Data([e_mvmt_global_data, m_mvmt_global_data, l_mvmt_global_data])\n",
    "grouped_nonmvmt_global_data = Grouped_Dendritic_Coactivity_Data([e_nonmvmt_global_data, m_nonmvmt_global_data, l_nonmvmt_global_data])"
   ]
  },
  {
   "cell_type": "markdown",
   "id": "4b06822d",
   "metadata": {},
   "source": [
    "### Figure 1 With local vs without local coactivity"
   ]
  },
  {
   "cell_type": "code",
   "execution_count": null,
   "id": "4e1edab4",
   "metadata": {},
   "outputs": [],
   "source": [
    "global_plotting.plot_conj_vs_nonconj_events(\n",
    "    dataset=e_all_global_data,\n",
    "    figsize=(9,6),\n",
    "    showmeans=True,\n",
    "    test_type=test_type,\n",
    "    display_stats=display_stats,\n",
    "    save=False,\n",
    "    save_path=figure_path\n",
    ")"
   ]
  },
  {
   "cell_type": "markdown",
   "id": "e742674b",
   "metadata": {},
   "source": [
    "### Figure 2-4 Mvmt vs Nonmvmt coactivity"
   ]
  },
  {
   "cell_type": "code",
   "execution_count": null,
   "id": "263e453e",
   "metadata": {
    "scrolled": false
   },
   "outputs": [],
   "source": [
    "global_plotting.plot_comparative_mvmt_coactivity(\n",
    "    mvmt_dataset=e_mvmt_global_data,\n",
    "    nonmvmt_dataset=e_nonmvmt_global_data,\n",
    "    coactivity_type=\"All\",\n",
    "    figsize=(10,10),\n",
    "    showmeans=False,\n",
    "    mean_type=mean_type,\n",
    "    err_type=err_type,\n",
    "    test_type=test_type,\n",
    "    display_stats=display_stats,\n",
    "    save=False,\n",
    "    save_path=figure_path\n",
    ")"
   ]
  },
  {
   "cell_type": "markdown",
   "id": "d434bd82",
   "metadata": {},
   "source": [
    "### Figure 5-10 Plasticity Coactivity Rates"
   ]
  },
  {
   "cell_type": "code",
   "execution_count": null,
   "id": "437ebc3d",
   "metadata": {
    "scrolled": false
   },
   "outputs": [],
   "source": [
    "global_plotting.plot_plasticity_coactivity_rates(\n",
    "    dataset=e_all_global_data,\n",
    "    followup_dataset=None,\n",
    "    period=\"All periods\",\n",
    "    norm=False,\n",
    "    exclude=\"Shaft Spine\",\n",
    "    MRSs=None,\n",
    "    threshold=threshold,\n",
    "    figsize=(9,16),\n",
    "    showmeans=True,\n",
    "    mean_type=mean_type,\n",
    "    err_type=err_type,\n",
    "    test_type=test_type,\n",
    "    test_method=test_method,\n",
    "    display_stats=display_stats,\n",
    "    vol_norm=vol_norm,\n",
    "    save=False,\n",
    "    save_path=figure_path\n",
    ")"
   ]
  },
  {
   "cell_type": "code",
   "execution_count": null,
   "id": "0db48595",
   "metadata": {
    "scrolled": false
   },
   "outputs": [],
   "source": [
    "global_plotting.plot_coactive_event_properties(\n",
    "    e_all_global_data,\n",
    "    event_type=\"All\",\n",
    "    period=\"All periods\",\n",
    "    followup_dataset=None,\n",
    "    threshold=threshold,\n",
    "    MRSs=None,\n",
    "    figsize=(12,9),\n",
    "    showmeans=True,\n",
    "    test_type=test_type,\n",
    "    test_method=\"fdr_tsbh\",\n",
    "    display_stats=display_stats,\n",
    "    vol_norm=vol_norm,\n",
    "    save=False,\n",
    "    save_path=figure_path,\n",
    ")"
   ]
  },
  {
   "cell_type": "code",
   "execution_count": null,
   "id": "80ca67d2",
   "metadata": {},
   "outputs": [],
   "source": [
    "global_plotting.plot_nearby_spine_conj_activity(\n",
    "    dataset=e_all_global_data,\n",
    "    followup_dataset=None,\n",
    "    period=\"All periods\",\n",
    "    exclude=exclude,\n",
    "    threshold=threshold,\n",
    "    figsize=(12,6),\n",
    "    hist_bins=30,\n",
    "    showmeans=True,\n",
    "    test_type=test_type,\n",
    "    test_method=test_method,\n",
    "    display_stats=display_stats,\n",
    "    vol_norm=vol_norm,\n",
    "    save=False,\n",
    "    save_path=figure_path,\n",
    ")"
   ]
  },
  {
   "cell_type": "code",
   "execution_count": null,
   "id": "fa96ab1b",
   "metadata": {
    "scrolled": false
   },
   "outputs": [],
   "source": [
    "global_plotting.plot_nearby_spine_properties(\n",
    "    dataset=e_all_global_data,\n",
    "    followup_dataset=None,\n",
    "    period=\"All periods\",\n",
    "    exclude=exclude,\n",
    "    threshold=threshold,\n",
    "    figsize=(14,12),\n",
    "    mean_type=mean_type,\n",
    "    err_type=err_type,\n",
    "    showmeans=True,\n",
    "    test_type=test_type,\n",
    "    test_method=test_method,\n",
    "    display_stats=display_stats,\n",
    "    vol_norm=vol_norm,\n",
    "    save=False,\n",
    "    save_path=figure_path,\n",
    ")"
   ]
  },
  {
   "cell_type": "code",
   "execution_count": null,
   "id": "b1c5e641",
   "metadata": {
    "scrolled": false
   },
   "outputs": [],
   "source": [
    "global_plotting.plot_global_movement_encoding(\n",
    "    dataset=e_all_global_data,\n",
    "    followup_dataset=None,\n",
    "    exclude=exclude,\n",
    "    threshold=threshold,\n",
    "    figsize=(8, 8),\n",
    "    showmeans=True,\n",
    "    test_type=test_type,\n",
    "    test_method=test_method,\n",
    "    display_stats=True,\n",
    "    vol_norm=False,\n",
    "    save=False,\n",
    "    save_path=figure_path,\n",
    ")"
   ]
  },
  {
   "cell_type": "code",
   "execution_count": null,
   "id": "85d7e99a",
   "metadata": {
    "scrolled": false
   },
   "outputs": [],
   "source": [
    "global_plotting.plot_noncoactive_calcium(\n",
    "    dataset=e_all_global_data,\n",
    "    period=\"All periods\",\n",
    "    followup_dataset=None,\n",
    "    exclude=exclude,\n",
    "    MRSs=None,\n",
    "    threshold=threshold,\n",
    "    figsize=(10,3),\n",
    "    showmeans=True,\n",
    "    test_type=test_type,\n",
    "    test_method=test_method,\n",
    "    display_stats=display_stats,\n",
    "    vol_norm=False,\n",
    "    save=False,\n",
    "    save_path=figure_path, \n",
    "    \n",
    ")"
   ]
  },
  {
   "cell_type": "code",
   "execution_count": null,
   "id": "64b3eb3f",
   "metadata": {},
   "outputs": [],
   "source": []
  }
 ],
 "metadata": {
  "kernelspec": {
   "display_name": "Python 3 (ipykernel)",
   "language": "python",
   "name": "python3"
  },
  "language_info": {
   "codemirror_mode": {
    "name": "ipython",
    "version": 3
   },
   "file_extension": ".py",
   "mimetype": "text/x-python",
   "name": "python",
   "nbconvert_exporter": "python",
   "pygments_lexer": "ipython3",
   "version": "3.8.18"
  }
 },
 "nbformat": 4,
 "nbformat_minor": 5
}
