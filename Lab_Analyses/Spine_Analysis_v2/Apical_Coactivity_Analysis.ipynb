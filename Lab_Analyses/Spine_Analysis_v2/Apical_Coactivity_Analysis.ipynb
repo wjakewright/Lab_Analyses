{
 "cells": [
  {
   "cell_type": "markdown",
   "id": "cfffc443",
   "metadata": {},
   "source": [
    "# Apical Coactivity Analysis\n",
    "## Notebook for preprocessing and analyzing coactivity spine data from apical FOVs"
   ]
  },
  {
   "cell_type": "code",
   "execution_count": null,
   "id": "58db5594",
   "metadata": {},
   "outputs": [],
   "source": [
    "# Import packages and modules\n",
    "import os\n",
    "import numpy as np\n",
    "from Lab_Analyses.Spine_Analysis_v2.preprocess_spine_data import organize_dual_spine_data\n",
    "from Lab_Analyses.Spine_Analysis_v2.spine_activity_analysis import spine_activity_analysis\n",
    "from Lab_Analyses.Spine_Analysis_v2.local_coactivity_analysis import local_coactivity_analysis\n",
    "from Lab_Analyses.Spine_Analysis_v2.dendritic_coactivity_analysis import dendritic_coactivity_analysis\n",
    "from Lab_Analyses.Spine_Analysis_v2.spine_volume_normalization import batch_spine_volume_normalization\n",
    "\n",
    "%matplotlib notebook"
   ]
  },
  {
   "cell_type": "markdown",
   "id": "75d98f62",
   "metadata": {},
   "source": [
    "## Datasets\n",
    "Specify the mice the be analyzed and other analysis parameters"
   ]
  },
  {
   "cell_type": "code",
   "execution_count": null,
   "id": "c9c35ccd",
   "metadata": {},
   "outputs": [],
   "source": [
    "# Mouse ids\n",
    "id_1 = \"JW082\"\n",
    "id_2 = \"JW083\"\n",
    "id_3 = \"JW090\"\n",
    "id_4 = \"JW092\"\n",
    "id_5 = \"JW126\"\n",
    "id_6 = \"JW129\"\n",
    "id_7 = \"JW130\"\n",
    "id_8 = \"JW150\"\n",
    "\n",
    "mouse_list = [id_1, id_2, id_3, id_4, id_5, id_6, id_7, id_8]\n",
    "\n",
    "# FOV type\n",
    "fov_type = \"apical\"\n",
    "\n",
    "# Preprocessing parameters\n",
    "reprocess = False\n",
    "channels = {\"GluSnFr\": \"GreenCh\", \"Calcium\": \"RedCh\"}\n",
    "redetection = True\n",
    "followup=True\n",
    "plot_norm=True\n",
    "\n",
    "# Analysis parameters\n",
    "activity_window = (-2,4) ## In seconds\n",
    "zscore = False\n",
    "volume_norm = True\n",
    "extend_dendrite = False\n",
    "cluster_dist = 5\n",
    "days = [\"Early\", \"Middle\", \"Late\"]\n",
    "movement_periods = [None, \"movement\", \"nonmovement\", \"rewarded movement\"]\n",
    "partners = None\n",
    "save_ind = False\n",
    "save_grouped = True"
   ]
  },
  {
   "cell_type": "markdown",
   "id": "aebdb0ee",
   "metadata": {},
   "source": [
    "## Preprocess data"
   ]
  },
  {
   "cell_type": "code",
   "execution_count": null,
   "id": "f5ffbd3a",
   "metadata": {},
   "outputs": [],
   "source": [
    "# Preprocess and reorganize the imaging datasets\n",
    "for mouse in mouse_list:\n",
    "    organize_dual_spine_data(\n",
    "        mouse,\n",
    "        channel=channels,\n",
    "        fov_type=fov_type,\n",
    "        redetection=redetection,\n",
    "        reprocess=reprocess,\n",
    "        save=True,\n",
    "        followup=followup,\n",
    "    )\n",
    "    \n",
    "\n",
    "# Generate volume normalization constants\n",
    "if volume_norm:\n",
    "    for day in days:\n",
    "        ## GluSnFr data\n",
    "        batch_spine_volume_normalization(\n",
    "            mice_list=mouse_list,\n",
    "            day=day,\n",
    "            fov_type=fov_type,\n",
    "            activity_type=\"GluSnFr\",\n",
    "            zscore=zscore,\n",
    "            plot=plot_norm\n",
    "        )\n",
    "        ## Calcium data\n",
    "        batch_spine_volume_normalization(\n",
    "            mice_list=mouse_list,\n",
    "            day=day,\n",
    "            fov_type=fov_type,\n",
    "            activity_type=\"Calcium\",\n",
    "            zscore=zscore,\n",
    "            plot=plot_norm\n",
    "        )"
   ]
  },
  {
   "cell_type": "markdown",
   "id": "1cdf7b0b",
   "metadata": {},
   "source": [
    "# Data Analysis"
   ]
  },
  {
   "cell_type": "markdown",
   "id": "1da46f03",
   "metadata": {},
   "source": [
    "### Spine and dendrite activity analysis"
   ]
  },
  {
   "cell_type": "code",
   "execution_count": null,
   "id": "ab4cf5a1",
   "metadata": {},
   "outputs": [],
   "source": [
    "# Perform spine- and dendrite-centric analysis\n",
    "for day in days:\n",
    "    spine_activity_analysis(\n",
    "        mice_list=mouse_list,\n",
    "        session=day,\n",
    "        fov_type=fov_type,\n",
    "        activity_window=activity_window,\n",
    "        zscore=zscore,\n",
    "        volume_norm=volume_norm,\n",
    "        save_ind=save_ind,\n",
    "        save_grouped=save_grouped\n",
    "    )"
   ]
  },
  {
   "cell_type": "markdown",
   "id": "da3fa555",
   "metadata": {},
   "source": [
    "### Local coactivity analysis"
   ]
  },
  {
   "cell_type": "code",
   "execution_count": null,
   "id": "bf0ad5d9",
   "metadata": {},
   "outputs": [],
   "source": [
    "# Perform local coactivity analysis\n",
    "for day in days:\n",
    "    for movement in movement_periods:\n",
    "        local_coactivity_analysis(\n",
    "            mice_list=mouse_list,\n",
    "            session=day,\n",
    "            fov_type=fov_type,\n",
    "            activity_window=activity_window,\n",
    "            cluster_dist=cluster_dist,\n",
    "            zscore=zscore,\n",
    "            volume_norm=volume_norm,\n",
    "            partners=partners,\n",
    "            movement_period=movement,\n",
    "            save_ind=save_ind,\n",
    "            save_grouped=save_grouped\n",
    "        )"
   ]
  },
  {
   "cell_type": "markdown",
   "id": "82d77c26",
   "metadata": {},
   "source": [
    "### Spine-dendrite coactivity analysis"
   ]
  },
  {
   "cell_type": "code",
   "execution_count": null,
   "id": "d4daaba7",
   "metadata": {},
   "outputs": [],
   "source": [
    "# Perform the dendritic coactivity analysis\n",
    "for day in days:\n",
    "    for movement in movement_periods:\n",
    "        dendritic_coactivity_analysis(\n",
    "            mice_list=mouse_list,\n",
    "            session=day,\n",
    "            fov_type=fov_type,\n",
    "            activity_window=activity_window,\n",
    "            cluster_dist=cluster_dist,\n",
    "            zscore=zscore,\n",
    "            volume_norm=volume_norm,\n",
    "            partners=partners,\n",
    "            movement_period=movement_period,\n",
    "            extend=extend_dendrite,\n",
    "            save_ind=save_ind,\n",
    "            save_grouped=save_grouped,\n",
    "        )"
   ]
  },
  {
   "cell_type": "markdown",
   "id": "b99cc11f",
   "metadata": {},
   "source": [
    "# Visualize analyzed data"
   ]
  },
  {
   "cell_type": "code",
   "execution_count": null,
   "id": "4b8610fa",
   "metadata": {},
   "outputs": [],
   "source": []
  }
 ],
 "metadata": {
  "kernelspec": {
   "display_name": "Python 3 (ipykernel)",
   "language": "python",
   "name": "python3"
  },
  "language_info": {
   "codemirror_mode": {
    "name": "ipython",
    "version": 3
   },
   "file_extension": ".py",
   "mimetype": "text/x-python",
   "name": "python",
   "nbconvert_exporter": "python",
   "pygments_lexer": "ipython3",
   "version": "3.8.15"
  }
 },
 "nbformat": 4,
 "nbformat_minor": 5
}
