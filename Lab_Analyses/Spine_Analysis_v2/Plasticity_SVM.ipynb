{
 "cells": [
  {
   "cell_type": "markdown",
   "id": "338fd496",
   "metadata": {},
   "source": [
    "# SVM Plasticity Decoding"
   ]
  },
  {
   "cell_type": "markdown",
   "id": "df1a0d9d",
   "metadata": {},
   "source": [
    "### Notebook to decode synaptic plasticity based on activity features using an SVM"
   ]
  },
  {
   "cell_type": "code",
   "execution_count": null,
   "id": "c56691c4",
   "metadata": {},
   "outputs": [],
   "source": [
    "# Import packages\n",
    "import os\n",
    "import numpy as np\n",
    "from Lab_Analyses.Spine_Analysis_v2 import spine_utilities as s_utils\n",
    "from Lab_Analyses.Spine_Analysis_v2.spine_activity_dataclass import Grouped_Spine_Activity_Data\n",
    "from Lab_Analyses.Spine_Analysis_v2.local_coactivity_dataclass import Grouped_Local_Coactivity_Data\n",
    "from Lab_Analyses.Spine_Analysis_v2.dendritic_coactivity_dataclass import Grouped_Dendritic_Coactivity_Data\n",
    "from Lab_Analyses.Spine_Analysis_v2.ML_plasticity_model import ML_Plasticity_Model, organize_input_data"
   ]
  },
  {
   "cell_type": "markdown",
   "id": "1eb9c8f3",
   "metadata": {},
   "source": [
    "## Apical Model"
   ]
  },
  {
   "cell_type": "code",
   "execution_count": null,
   "id": "c09c028a",
   "metadata": {},
   "outputs": [],
   "source": [
    "# Load dataset\n",
    "# Mouse ids\n",
    "id_1 = \"JW082\"\n",
    "id_2 = \"JW083\" \n",
    "id_3 = \"JW090\"\n",
    "id_4 = \"JW092\"\n",
    "#id_5 = \"JW126\" # Not using\n",
    "id_6 = \"JW129\" \n",
    "id_7 = \"JW130\" # Should I use? Nathan suspects layer 5?\n",
    "id_8 = \"JW153\"\n",
    "id_9 = \"JW150\"\n",
    "id_10 = \"JW168\"\n",
    "id_11 = \"JW202\"\n",
    "#id_12 = \"JW241\"\n",
    "#id_13 = \"JW242\"\n",
    "\n",
    "\n",
    "apical_mouse_list = [id_1, id_2, id_3, id_4, id_6, id_7, id_8, id_9, id_10, id_11]\n",
    "\n",
    "# Spine activity data\n",
    "## Early\n",
    "apical_activity_data = s_utils.batch_load_individual_analyzed_datasets(\n",
    "    type=\"Activity\",\n",
    "    session=\"Early\",\n",
    "    norm=True,\n",
    "    activity_type=\"dFoF\",\n",
    "    extended=None,\n",
    "    mice_list=apical_mouse_list,\n",
    "    fov_type=\"apical\",\n",
    "    period=None,\n",
    "    partner=None,\n",
    ")\n",
    "apical_activity_data = Grouped_Spine_Activity_Data(apical_activity_data)\n",
    "# Local Coactivity data\n",
    "## Early\n",
    "apical_coactivity_data = s_utils.batch_load_individual_analyzed_datasets(\n",
    "    type=\"Local\",\n",
    "    session=\"Early\",\n",
    "    norm=True,\n",
    "    activity_type=\"dFoF\",\n",
    "    extended=None,\n",
    "    mice_list=apical_mouse_list,\n",
    "    fov_type=\"apical\",\n",
    "    period=None,\n",
    "    partner=None,\n",
    ")\n",
    "apical_coactivity_data = Grouped_Local_Coactivity_Data(apical_coactivity_data)\n",
    "# Global_Coactivity_Data\n",
    "apical_global_data = s_utils.batch_load_individual_analyzed_datasets(\n",
    "    type=\"Global\",\n",
    "    session=\"Early\",\n",
    "    norm=True,\n",
    "    activity_type=\"dFoF\",\n",
    "    extended=None,\n",
    "    mice_list=apical_mouse_list,\n",
    "    fov_type=\"apical\",\n",
    "    period=None,\n",
    "    partner=None,\n",
    ")\n",
    "apical_global_data = Grouped_Dendritic_Coactivity_Data(apical_global_data)"
   ]
  },
  {
   "cell_type": "code",
   "execution_count": null,
   "id": "831f71c6",
   "metadata": {},
   "outputs": [],
   "source": [
    "# Organize the data for the model\n",
    "spine_features = [\"spine_volumes\", \"spine_activity_rate\"]\n",
    "local_features = [\n",
    "    \"avg_local_coactivity_rate\", \"near_vs_dist_coactivity\", \"avg_nearby_spine_rate\", \"near_vs_dist_activity_rate\",\n",
    "    \"avg_nearby_coactivity_rate\", \"near_vs_dist_nearby_coactivity_rate\",\n",
    "]\n",
    "global_features = [\n",
    "    \"all_dendrite_coactivity_rate\", \"fraction_conj_events\", \"all_relative_onsets\"\n",
    "]\n",
    "\n",
    "x_values, y_values, class_codes = organize_input_data(\n",
    "    spine_data=apical_activity_data,\n",
    "    local_data=apical_coactivity_data,\n",
    "    global_data=apical_global_data,\n",
    "    spine_features=spine_features,\n",
    "    local_features=local_features,\n",
    "    global_features=global_features,\n",
    "    exclude=\"Shaft Spine\",\n",
    "    threshold=(0.25, 0.5),\n",
    ")"
   ]
  },
  {
   "cell_type": "code",
   "execution_count": null,
   "id": "cfb167fa",
   "metadata": {
    "scrolled": false
   },
   "outputs": [],
   "source": [
    "x_values[\"s_spine_volumes\"].shape"
   ]
  },
  {
   "cell_type": "code",
   "execution_count": null,
   "id": "200ae47b",
   "metadata": {},
   "outputs": [],
   "source": []
  },
  {
   "cell_type": "code",
   "execution_count": null,
   "id": "1fc05c80",
   "metadata": {},
   "outputs": [],
   "source": [
    "np.unique(y_values, return_counts=True)"
   ]
  },
  {
   "cell_type": "code",
   "execution_count": null,
   "id": "5b9da28c",
   "metadata": {},
   "outputs": [],
   "source": [
    "# Initialize the model\n",
    "apical_model = ML_Plasticity_Model(model_name=\"Apical_Model\")"
   ]
  },
  {
   "cell_type": "code",
   "execution_count": null,
   "id": "56f4a8b6",
   "metadata": {
    "scrolled": false
   },
   "outputs": [],
   "source": [
    "# Train the model\n",
    "apical_model.train_full_model(x_values=x_values, y_values=y_values, classes=class_codes, score_method=\"accuracy\", \n",
    "                              cv_num=5, model_type=\"Logistic\", C=1, resample=\"under\")"
   ]
  },
  {
   "cell_type": "code",
   "execution_count": null,
   "id": "6a53834f",
   "metadata": {
    "scrolled": false
   },
   "outputs": [],
   "source": [
    "apical_model.plot_model_performance(iterations=5, figsize=(9,4))"
   ]
  },
  {
   "cell_type": "code",
   "execution_count": null,
   "id": "64651064",
   "metadata": {
    "scrolled": false
   },
   "outputs": [],
   "source": [
    "apical_model.plot_feature_weights(figsize=(10,6))"
   ]
  },
  {
   "cell_type": "code",
   "execution_count": null,
   "id": "9cf4345c",
   "metadata": {},
   "outputs": [],
   "source": [
    "apical_model.shuff_model_test_score"
   ]
  },
  {
   "cell_type": "code",
   "execution_count": null,
   "id": "de684ac1",
   "metadata": {},
   "outputs": [],
   "source": [
    "apical_model.full_model_test_score"
   ]
  },
  {
   "cell_type": "code",
   "execution_count": null,
   "id": "2c5a520a",
   "metadata": {},
   "outputs": [],
   "source": [
    "apical_model.X_corrected.shape"
   ]
  },
  {
   "cell_type": "code",
   "execution_count": null,
   "id": "7e3f8eca",
   "metadata": {},
   "outputs": [],
   "source": []
  }
 ],
 "metadata": {
  "kernelspec": {
   "display_name": "Python 3 (ipykernel)",
   "language": "python",
   "name": "python3"
  },
  "language_info": {
   "codemirror_mode": {
    "name": "ipython",
    "version": 3
   },
   "file_extension": ".py",
   "mimetype": "text/x-python",
   "name": "python",
   "nbconvert_exporter": "python",
   "pygments_lexer": "ipython3",
   "version": "3.8.18"
  }
 },
 "nbformat": 4,
 "nbformat_minor": 5
}
