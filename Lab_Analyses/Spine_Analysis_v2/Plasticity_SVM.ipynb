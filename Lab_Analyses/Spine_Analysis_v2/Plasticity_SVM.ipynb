{
 "cells": [
  {
   "cell_type": "markdown",
   "id": "338fd496",
   "metadata": {},
   "source": [
    "# SVM Plasticity Decoding"
   ]
  },
  {
   "cell_type": "markdown",
   "id": "df1a0d9d",
   "metadata": {},
   "source": [
    "### Notebook to decode synaptic plasticity based on activity features using an SVM"
   ]
  },
  {
   "cell_type": "code",
   "execution_count": 1,
   "id": "c56691c4",
   "metadata": {},
   "outputs": [],
   "source": [
    "# Import packages\n",
    "import os\n",
    "import numpy as np\n",
    "from Lab_Analyses.Spine_Analysis_v2 import spine_utilities as s_utils\n",
    "from Lab_Analyses.Spine_Analysis_v2.spine_activity_dataclass import Grouped_Spine_Activity_Data\n",
    "from Lab_Analyses.Spine_Analysis_v2.local_coactivity_dataclass import Grouped_Local_Coactivity_Data\n",
    "from Lab_Analyses.Spine_Analysis_v2.dendritic_coactivity_dataclass import Grouped_Dendritic_Coactivity_Data\n",
    "from Lab_Analyses.Spine_Analysis_v2.SVM_plasticity_model import SVM_Plasticity_Model, organize_input_data"
   ]
  },
  {
   "cell_type": "markdown",
   "id": "1eb9c8f3",
   "metadata": {},
   "source": [
    "## Apical Model"
   ]
  },
  {
   "cell_type": "code",
   "execution_count": 2,
   "id": "c09c028a",
   "metadata": {},
   "outputs": [],
   "source": [
    "# Load dataset\n",
    "# Mouse ids\n",
    "id_1 = \"JW082\"\n",
    "id_2 = \"JW083\" \n",
    "id_3 = \"JW090\"\n",
    "id_4 = \"JW092\"\n",
    "#id_5 = \"JW126\" # Not using\n",
    "id_6 = \"JW129\" \n",
    "id_7 = \"JW130\" # Should I use? Nathan suspects layer 5?\n",
    "id_8 = \"JW153\"\n",
    "id_9 = \"JW150\"\n",
    "id_10 = \"JW168\"\n",
    "id_11 = \"JW202\"\n",
    "#id_12 = \"JW241\"\n",
    "#id_13 = \"JW242\"\n",
    "\n",
    "\n",
    "apical_mouse_list = [id_1, id_2, id_3, id_4, id_6, id_7, id_8, id_9, id_10, id_11]\n",
    "\n",
    "# Spine activity data\n",
    "## Early\n",
    "apical_activity_data = s_utils.batch_load_individual_analyzed_datasets(\n",
    "    type=\"Activity\",\n",
    "    session=\"Early\",\n",
    "    norm=True,\n",
    "    activity_type=\"dFoF\",\n",
    "    extended=None,\n",
    "    mice_list=apical_mouse_list,\n",
    "    fov_type=\"apical\",\n",
    "    period=None,\n",
    "    partner=None,\n",
    ")\n",
    "apical_activity_data = Grouped_Spine_Activity_Data(apical_activity_data)\n",
    "# Local Coactivity data\n",
    "## Early\n",
    "apical_coactivity_data = s_utils.batch_load_individual_analyzed_datasets(\n",
    "    type=\"Local\",\n",
    "    session=\"Early\",\n",
    "    norm=True,\n",
    "    activity_type=\"dFoF\",\n",
    "    extended=None,\n",
    "    mice_list=apical_mouse_list,\n",
    "    fov_type=\"apical\",\n",
    "    period=None,\n",
    "    partner=None,\n",
    ")\n",
    "apical_coactivity_data = Grouped_Local_Coactivity_Data(apical_coactivity_data)\n",
    "# Global_Coactivity_Data\n",
    "apical_global_data = s_utils.batch_load_individual_analyzed_datasets(\n",
    "    type=\"Global\",\n",
    "    session=\"Early\",\n",
    "    norm=True,\n",
    "    activity_type=\"dFoF\",\n",
    "    extended=None,\n",
    "    mice_list=apical_mouse_list,\n",
    "    fov_type=\"apical\",\n",
    "    period=None,\n",
    "    partner=None,\n",
    ")\n",
    "apical_global_data = Grouped_Dendritic_Coactivity_Data(apical_global_data)"
   ]
  },
  {
   "cell_type": "code",
   "execution_count": 3,
   "id": "831f71c6",
   "metadata": {},
   "outputs": [
    {
     "name": "stdout",
     "output_type": "stream",
     "text": [
      "[3. 1. 3. 1. 3. 2. 3. 1. 3. 3. 3. 2. 3. 2. 2. 2. 3. 3. 2. 2. 3. 1. 1. 1.\n",
      " 3. 1. 2. 3. 1. 1. 3. 3. 3. 3. 3. 3. 2. 2. 3. 3. 3. 3. 3. 3. 1. 3. 1. 3.\n",
      " 3. 3. 3. 2. 3. 3. 3. 3. 2. 3. 3. 3. 3. 3. 2. 2. 2. 3. 2. 3. 3. 3. 2. 3.\n",
      " 2. 3. 3. 3. 2. 3. 3. 3. 3. 2. 3. 2. 2. 3. 1. 3. 1. 3. 1. 3. 1. 3. 1. 3.\n",
      " 2. 2. 3. 3. 1. 2. 3. 2. 3. 3. 3. 3. 3. 3. 3. 3. 3. 3. 3. 3. 3. 2. 3. 3.\n",
      " 3. 3. 3. 3. 3. 3. 1. 1. 3. 3. 1. 2. 2. 3. 3. 3. 3. 2. 3. 3. 3. 3. 1. 1.\n",
      " 3. 3. 2. 2. 2. 2. 3. 3. 2. 1. 1. 2. 2. 3. 2. 2. 2. 3. 3. 3. 2. 3. 3. 3.\n",
      " 3. 3. 2. 2. 2. 2. 1. 1. 3. 3. 3. 3. 2. 2. 3. 1. 2. 2. 2. 3. 2. 3. 3. 1.\n",
      " 3. 3. 3. 2. 2. 3. 2. 3. 1. 1. 2. 3. 2. 2. 3. 1. 2. 2. 3. 3. 2. 3. 2. 3.\n",
      " 1. 3. 3. 3. 3. 3. 3. 3. 3. 2. 3. 1. 2. 3. 3. 2. 1. 2. 1. 3. 3. 3. 1. 2.\n",
      " 3. 1. 3. 2. 3. 1. 1. 3. 3. 2. 1. 1. 2. 2. 3. 2. 3. 3. 3. 3. 2. 3. 3. 3.\n",
      " 3. 3. 1. 2. 1. 1. 3. 1. 1. 1. 2. 1. 2. 3. 3. 3. 3. 1. 3. 3. 2. 3. 2. 1.\n",
      " 3. 1. 3. 3. 3. 2. 2. 3. 1. 3. 3. 3. 3. 3. 3. 3. 3. 3. 3. 3. 3. 3. 3. 3.\n",
      " 3. 3. 3. 2. 1. 3. 3. 1. 3. 3. 3. 3. 3. 3. 3. 1. 3. 3. 3. 3. 3. 3. 2. 3.\n",
      " 2. 2. 3. 3. 3. 3. 3. 3. 3. 1. 3. 1. 2. 2. 3. 2. 3. 3. 3. 3. 1. 3. 3. 3.\n",
      " 3. 1. 1. 3. 2. 3. 3. 3. 3. 2. 3. 3. 3. 3. 2.]\n"
     ]
    }
   ],
   "source": [
    "# Organize the data for the model\n",
    "spine_features = [\"spine_volumes\", \"spine_activity_rate\"]\n",
    "local_features = [\n",
    "    \"avg_local_coactivity_rate\", \"near_vs_dist_coactivity\", \"avg_nearby_spine_rate\", \"near_vs_dist_activity_rate\",\n",
    "    \"avg_nearby_coactivity_rate\", \"near_vs_dist_nearby_coactivity_rate\",\n",
    "]\n",
    "global_features = [\n",
    "    \"all_dendrite_coactivity_rate\", \"fraction_conj_events\"\n",
    "]\n",
    "\n",
    "x_values, y_values, class_codes = organize_input_data(\n",
    "    spine_data=apical_activity_data,\n",
    "    local_data=apical_coactivity_data,\n",
    "    global_data=apical_global_data,\n",
    "    spine_features=spine_features,\n",
    "    local_features=local_features,\n",
    "    global_features=global_features,\n",
    "    exclude=\"Shaft Spine\",\n",
    "    threshold=(0.25, 0.5),\n",
    ")"
   ]
  },
  {
   "cell_type": "code",
   "execution_count": 4,
   "id": "cfb167fa",
   "metadata": {
    "scrolled": false
   },
   "outputs": [
    {
     "data": {
      "text/plain": [
       "array([0.51226916, 0.5578042 , 1.4229699 , 0.86191319, 0.55495826,\n",
       "       1.26486213, 0.85378194, 2.00638755, 1.323362  , 0.55292545,\n",
       "       0.88224134, 1.20240956, 0.69567417, 0.        , 0.0569188 ,\n",
       "       0.44396661, 0.61058345, 0.21732631, 0.27583724, 0.5325973 ,\n",
       "       0.94390336, 0.55292545, 0.55400961, 0.96761953, 1.47988869,\n",
       "       0.66113371, 0.35464788, 1.01578159, 1.56052365, 1.01505186,\n",
       "       1.84329331, 1.26644321, 0.62610675, 2.86491272, 3.11788515,\n",
       "       1.3518214 , 2.56846066, 2.36924488, 3.30840501, 2.45563948,\n",
       "       2.01113079, 1.68859094, 0.98659246, 2.76625348,        nan,\n",
       "              nan,        nan,        nan,        nan, 0.11219086,\n",
       "       0.29103628, 0.21118279, 0.08909274, 0.1435383 , 0.20102977,\n",
       "       0.47973013, 0.53455643, 1.05083743, 0.52465724, 0.47516127,\n",
       "       0.48011087, 0.37616934, 0.15658724, 0.05345564, 0.19189205,\n",
       "       0.60385079, 0.36627015, 0.26457844, 0.89092739, 0.31677418,\n",
       "       0.68898385, 0.80513438, 0.        , 0.34977149, 0.04454637,\n",
       "       0.05939516, 0.19189205, 0.16498655,        nan,        nan,\n",
       "              nan,        nan,        nan,        nan,        nan,\n",
       "              nan,        nan, 1.73064385, 1.36554912, 1.30865124,\n",
       "       0.08297608, 0.79419958, 0.72900409, 0.41962187, 0.79024834,\n",
       "       1.00282514, 0.86988105, 1.1051319 , 1.07394749, 1.42955924,\n",
       "       0.86639954, 0.95045323, 0.92459055, 0.5689788 , 0.70233321,\n",
       "       0.79657032, 0.37500876, 0.20320671, 0.67242949, 0.64602801,\n",
       "       0.8862939 , 1.26727097, 2.42408677, 0.5580369 , 0.1422447 ,\n",
       "       0.6918265 , 0.1616417 , 2.01809669, 2.31147638,        nan,\n",
       "              nan,        nan,        nan,        nan,        nan,\n",
       "              nan,        nan,        nan,        nan,        nan,\n",
       "              nan,        nan,        nan,        nan, 0.31033267,\n",
       "       0.60454416, 0.55416548, 0.59558795, 0.90278594, 0.72097488,\n",
       "       0.69888968, 0.58540026, 0.73094884, 0.7899377 , 1.06802801,\n",
       "       0.70530152, 0.85076995, 0.97419772, 1.03720811, 0.81731999,\n",
       "       1.09321735, 1.99443595, 1.01093217, 0.92081031, 0.63105925,\n",
       "       0.98742212, 0.59765023, 0.69045306, 0.87457388, 0.20806395,\n",
       "       0.80552857, 0.58913421, 1.12848243, 0.82285177, 0.55416548,\n",
       "       0.74056659, 0.11935872, 0.84048431, 0.75819913, 0.63477136,\n",
       "       0.09697896, 0.70530152, 0.64260805,        nan,        nan,\n",
       "              nan,        nan,        nan,        nan,        nan,\n",
       "              nan,        nan,        nan,        nan,        nan,\n",
       "              nan,        nan,        nan,        nan,        nan,\n",
       "              nan, 0.468039  , 1.04008667, 1.27410618, 1.00108342,\n",
       "       0.89057421, 0.63705309, 0.12629624, 0.61105092, 0.50270856,\n",
       "       0.45070423, 1.0227519 , 0.83206934, 0.312026  , 1.00294072,\n",
       "       0.76706392, 0.0780065 , 2.37328868, 0.66187334, 1.48921501,\n",
       "       1.50812568, 1.50812568, 2.79223269, 0.84507042, 1.48412368,\n",
       "       1.0184182 , 1.26370531, 1.48501264, 2.1173193 , 1.58613218,\n",
       "       1.62080173, 1.70314193, 2.02816901, 1.47345612, 1.71614301,\n",
       "       1.20043337, 1.97616468, 1.75081257, 1.84243925, 2.33276583,\n",
       "       2.54821235, 2.25568797, 2.05937161, 3.05785482, 1.3304442 ,\n",
       "       2.11799468, 0.57204767, 1.31429134, 1.54857349, 2.05937161,\n",
       "       1.35789094, 1.86695558, 1.15565186, 1.6756952 , 1.54279523,\n",
       "       0.53737811, 0.64572048,        nan,        nan,        nan,\n",
       "              nan,        nan,        nan,        nan,        nan,\n",
       "              nan,        nan,        nan,        nan,        nan,\n",
       "              nan,        nan,        nan,        nan,        nan,\n",
       "              nan,        nan,        nan,        nan,        nan,\n",
       "              nan,        nan,        nan,        nan,        nan,\n",
       "              nan,        nan,        nan, 0.98437909, 0.14960169,\n",
       "       0.7278122 , 0.11344794, 0.73304826, 0.79937167, 0.80984379,\n",
       "       1.21411118, 0.62832708, 0.57923903, 0.12915612, 0.71148802,\n",
       "       0.7723187 , 0.65123484, 0.52687844, 0.25598511, 0.50204566,\n",
       "       0.48972552, 0.44044496, 0.06981412, 0.24544027, 0.06889551,\n",
       "       0.09548108, 0.45088286, 0.17344445, 0.17017192, 0.11053902,\n",
       "       0.57073043, 0.41888472, 0.07165133, 0.13962824, 0.15417285,\n",
       "       0.89013003, 1.82338054, 0.36960416, 0.67741513, 0.41539401,\n",
       "       0.16406318, 0.65123484, 2.36931669, 0.92503709, 1.81516712,\n",
       "       1.68135672, 2.16174436, 0.11900134, 0.9320185 , 1.22809384,\n",
       "       1.73662623, 1.47482328, 0.65652124, 0.43499567, 0.47498535,\n",
       "       0.46750527, 0.59092666, 0.34782392, 1.50973034, 0.27925648,\n",
       "       0.27608311, 0.38556434, 0.30761847, 0.45161009, 0.45960962,\n",
       "       0.26834802, 0.45379178, 0.2842432 , 0.25432287, 0.60588683,\n",
       "       0.54978619, 0.8168252 , 0.98176106, 1.0472118 ,        nan,\n",
       "              nan,        nan,        nan,        nan,        nan,\n",
       "              nan,        nan,        nan,        nan,        nan,\n",
       "              nan, 0.15510779, 0.31021557, 0.10340519, 0.09601911,\n",
       "       0.03693043, 0.31883267, 0.54287725, 0.48009553, 0.74599459,\n",
       "       0.93064671, 0.93064671, 0.50668543, 0.80656048, 0.51702595,\n",
       "       0.20106565, 0.88411438, 1.02465143, 0.53112666, 0.31961604,\n",
       "       0.74733751, 1.22206134, 0.92490198, 0.68505939, 1.02666582,\n",
       "       0.76076676, 0.37053527, 0.38130664, 0.40328024, 0.44808916,\n",
       "       0.28201416, 0.5499276 , 0.44652241, 0.54804751, 0.4343018 ,\n",
       "       0.47106809, 0.5041003 , 0.84201369,        nan,        nan,\n",
       "              nan,        nan,        nan,        nan,        nan,\n",
       "              nan,        nan,        nan,        nan,        nan,\n",
       "              nan,        nan,        nan,        nan,        nan,\n",
       "       2.05068202, 1.67195246, 1.09264139, 1.09462081, 2.43864889,\n",
       "       2.17340623, 2.45943283, 1.15350864, 2.50792869, 3.04138313,\n",
       "       1.04653248, 1.83550712, 2.27930535, 1.07730086, 2.36936909,\n",
       "       2.19847892, 1.65902023, 2.20842679, 1.7973159 , 1.42122557,\n",
       "       2.0922499 , 2.05068202,        nan,        nan,        nan,\n",
       "              nan,        nan,        nan,        nan,        nan,\n",
       "       0.2016744 , 0.53779839, 0.26409742, 0.60377828, 1.66381376,\n",
       "       1.43107336, 1.415795  , 0.78428932, 0.65979895, 1.28287324,\n",
       "       0.01244904, 0.56020665, 0.89633065, 1.77025303, 0.52819485,\n",
       "       1.20044283, 0.38094052, 0.084031  , 0.0672248 , 0.0336124 ,\n",
       "       0.        , 1.30448121, 0.57888021, 0.1848682 , 0.26142977,\n",
       "       0.        , 0.00933678, 0.0336124 , 1.23245464,        nan,\n",
       "              nan,        nan,        nan,        nan,        nan,\n",
       "              nan,        nan,        nan,        nan, 1.69599077,\n",
       "       0.93947011, 1.10758581, 0.70762427, 0.79293075, 1.35253267,\n",
       "       1.84242639, 1.80515187, 1.38980719, 1.28863349, 1.76521488,\n",
       "       2.1706704 , 2.95500433, 2.08595327, 0.61840208, 0.94144794,\n",
       "       1.2407091 , 0.29287125, 1.0383617 , 0.31465506, 1.18546294,\n",
       "       0.5286205 , 0.69916354, 0.56148447,        nan,        nan,\n",
       "              nan,        nan,        nan,        nan,        nan,\n",
       "              nan,        nan, 0.75046365, 0.14787461, 1.13288382,\n",
       "       0.52273675, 1.14294751, 0.96925086, 0.84691822, 0.24937037,\n",
       "       1.03982738, 1.89905125, 1.10413043, 0.83280292, 0.69008152,\n",
       "       0.50561742, 0.50561742, 0.44362383, 0.31994688, 0.60037092,\n",
       "       1.1339294 , 0.63518867, 0.60813434, 1.14726052, 0.49537995,\n",
       "       0.19508074, 0.96454576, 1.6101902 , 0.        , 0.53826358,\n",
       "       0.54861481, 0.42144264, 0.68022321, 0.93161005, 0.8216283 ,\n",
       "       0.61460385, 1.56130943, 1.20764265, 0.9574881 , 0.99371738,\n",
       "       0.88847995, 0.39186772, 0.457179  , 1.05730347,        nan,\n",
       "              nan,        nan,        nan,        nan,        nan,\n",
       "              nan,        nan, 0.89520568, 0.56397958, 0.49435247,\n",
       "       0.31015712, 0.44561349, 0.79490948, 0.87301682, 0.8355253 ,\n",
       "       0.76589819, 0.69046882, 0.62084171, 1.0570661 , 0.98251586,\n",
       "       0.90515241, 0.74268915, 0.40228996, 0.04177626, 0.11140337,\n",
       "       0.18799319, 0.04430816, 0.10127579, 0.31946556, 0.31100108,\n",
       "       0.39318838, 0.09829709, 0.06575894, 0.08191424, 0.57094229,\n",
       "       0.26980504, 0.84858038, 0.56111258, 0.74655733, 0.58409407,\n",
       "       0.3674764 , 1.0034495 , 0.64985301, 0.47578524, 0.51349992,\n",
       "       0.23872151, 0.44760284, 0.24053001, 0.20191861, 0.61968126,\n",
       "       0.54154417, 0.16909441,        nan,        nan,        nan,\n",
       "              nan,        nan,        nan,        nan,        nan,\n",
       "              nan,        nan,        nan,        nan, 0.25345135,\n",
       "       0.55298477, 0.0691231 , 0.62210787, 0.49922237, 0.48386168,\n",
       "       0.27073213, 0.23962674, 0.05990668, 0.65436532, 0.3326549 ,\n",
       "       0.10138054, 0.40552217, 0.41473858, 0.04752213, 0.75171368,\n",
       "       0.3090209 , 0.60584361, 0.31308697, 0.60990968, 0.35329583,\n",
       "       0.42395499, 0.29492521, 0.10102606, 0.04147386, 0.29244387,\n",
       "       0.17774511, 0.11849674, 0.41473858, 0.40321806, 0.18432826,\n",
       "       0.13824619, 0.0691231 , 0.18851754, 0.33304765, 0.15360688,\n",
       "       0.24577101, 0.35329583, 0.13824619,        nan,        nan,\n",
       "              nan,        nan,        nan,        nan,        nan])"
      ]
     },
     "execution_count": 4,
     "metadata": {},
     "output_type": "execute_result"
    }
   ],
   "source": [
    "apical_coactivity_data.avg_local_coactivity_rate"
   ]
  },
  {
   "cell_type": "code",
   "execution_count": 5,
   "id": "5b9da28c",
   "metadata": {},
   "outputs": [],
   "source": [
    "# Initialize the model\n",
    "apical_model = SVM_Plasticity_Model(model_name=\"Apical_Model\")"
   ]
  },
  {
   "cell_type": "code",
   "execution_count": 6,
   "id": "56f4a8b6",
   "metadata": {
    "scrolled": false
   },
   "outputs": [
    {
     "name": "stdout",
     "output_type": "stream",
     "text": [
      "Fitting 10 folds for each of 5 candidates, totalling 50 fits\n"
     ]
    }
   ],
   "source": [
    "# Train the model\n",
    "apical_model.train_model(x_values=x_values, y_values=y_values, classes=class_codes, score_method=\"f1_micro\")"
   ]
  },
  {
   "cell_type": "code",
   "execution_count": 7,
   "id": "6a53834f",
   "metadata": {
    "scrolled": false
   },
   "outputs": [
    {
     "name": "stdout",
     "output_type": "stream",
     "text": [
      "PERFORMING SHUFFLE 0\n",
      "PERFORMING SHUFFLE 1\n",
      "PERFORMING SHUFFLE 2\n",
      "PERFORMING SHUFFLE 3\n",
      "PERFORMING SHUFFLE 4\n",
      "PERFORMING SHUFFLE 5\n",
      "PERFORMING SHUFFLE 6\n",
      "PERFORMING SHUFFLE 7\n",
      "PERFORMING SHUFFLE 8\n",
      "PERFORMING SHUFFLE 9\n"
     ]
    },
    {
     "name": "stderr",
     "output_type": "stream",
     "text": [
      "C:\\Users\\Jake\\Documents\\Anaconda3\\envs\\analysis_env\\lib\\site-packages\\numpy\\core\\_methods.py:264: RuntimeWarning: Degrees of freedom <= 0 for slice\n",
      "  ret = _var(a, axis=axis, dtype=dtype, out=out, ddof=ddof,\n",
      "C:\\Users\\Jake\\Documents\\Anaconda3\\envs\\analysis_env\\lib\\site-packages\\numpy\\core\\_methods.py:256: RuntimeWarning: invalid value encountered in double_scalars\n",
      "  ret = ret.dtype.type(ret / rcount)\n"
     ]
    },
    {
     "data": {
      "image/png": "[encoded data removed]",
      "text/plain": [
       "<Figure size 500x400 with 3 Axes>"
      ]
     },
     "metadata": {},
     "output_type": "display_data"
    }
   ],
   "source": [
    "apical_model.plot_model_performance()"
   ]
  },
  {
   "cell_type": "code",
   "execution_count": null,
   "id": "64651064",
   "metadata": {},
   "outputs": [],
   "source": [
    "apical_model.full_model_test_score"
   ]
  },
  {
   "cell_type": "code",
   "execution_count": null,
   "id": "9cf4345c",
   "metadata": {},
   "outputs": [],
   "source": [
    "apical_model.full_model_train_score"
   ]
  },
  {
   "cell_type": "code",
   "execution_count": null,
   "id": "de684ac1",
   "metadata": {},
   "outputs": [],
   "source": []
  }
 ],
 "metadata": {
  "kernelspec": {
   "display_name": "Python 3 (ipykernel)",
   "language": "python",
   "name": "python3"
  },
  "language_info": {
   "codemirror_mode": {
    "name": "ipython",
    "version": 3
   },
   "file_extension": ".py",
   "mimetype": "text/x-python",
   "name": "python",
   "nbconvert_exporter": "python",
   "pygments_lexer": "ipython3",
   "version": "3.8.18"
  }
 },
 "nbformat": 4,
 "nbformat_minor": 5
}
