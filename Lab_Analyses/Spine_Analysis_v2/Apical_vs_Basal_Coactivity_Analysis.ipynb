{
 "cells": [
  {
   "cell_type": "markdown",
   "id": "3ba7f9d1",
   "metadata": {},
   "source": [
    "# Apical vs Basal Coactivity Analysis\n",
    "\n",
    "### Notebook for comparing activity and coactivity of spines on apical and basal dendrites\n",
    "Loads in data previously analyzed in the Apical and Basal dedicated notebooks"
   ]
  },
  {
   "cell_type": "code",
   "execution_count": 1,
   "id": "543f48a9",
   "metadata": {},
   "outputs": [
    {
     "data": {
      "text/html": [
       "<style>.container { width:90% !important; }</style>"
      ],
      "text/plain": [
       "<IPython.core.display.HTML object>"
      ]
     },
     "metadata": {},
     "output_type": "display_data"
    }
   ],
   "source": [
    "# Configure Notebook width\n",
    "from IPython.display import display, HTML\n",
    "display(HTML(\"<style>.container { width:90% !important; }</style>\"))"
   ]
  },
  {
   "cell_type": "code",
   "execution_count": 2,
   "id": "26f16997",
   "metadata": {},
   "outputs": [
    {
     "name": "stderr",
     "output_type": "stream",
     "text": [
      "C:\\Users\\Jake\\Documents\\Anaconda3\\envs\\analysis_env\\lib\\site-packages\\outdated\\utils.py:14: OutdatedPackageWarning: The package pingouin is out of date. Your version is 0.5.3, the latest is 0.5.5.\n",
      "Set the environment variable OUTDATED_IGNORE=1 to disable these warnings.\n",
      "  return warn(\n"
     ]
    }
   ],
   "source": [
    "# Import packages and modules\n",
    "import os\n",
    "import numpy as np\n",
    "from Lab_Analyses.Spine_Analysis_v2 import spine_utilities as s_utils\n",
    "from Lab_Analyses.Spine_Analysis_v2.spine_activity_dataclass import Grouped_Spine_Activity_Data\n",
    "from Lab_Analyses.Spine_Analysis_v2.local_coactivity_dataclass import Grouped_Local_Coactivity_Data\n",
    "from Lab_Analyses.Spine_Analysis_v2.dendritic_coactivity_dataclass import Grouped_Dendritic_Coactivity_Data\n",
    "## plotting modules\n",
    "from Lab_Analyses.Spine_Analysis_v2 import apical_vs_basal_plotting as plotting\n",
    "from Lab_Analyses.Spine_Analysis_v2 import apical_vs_basal_plotting_v2 as plotting_v2\n",
    "#%matplotlib ipympl\n",
    "%matplotlib inline\n"
   ]
  },
  {
   "cell_type": "code",
   "execution_count": null,
   "id": "1c5de716",
   "metadata": {},
   "outputs": [],
   "source": [
    "# Setup save path\n",
    "## Set path the save figures in\n",
    "figure_path = r\"C:\\Users\\Jake\\Desktop\\Figures\\grouped_data\\Dual_Spine_Imaging\\Coactivity_Plasticity\\apical_vs_basal\"\n",
    "## Ensure the path exists\n",
    "if not os.path.isdir(figure_path):\n",
    "    os.makedirs(figure_path)"
   ]
  },
  {
   "cell_type": "code",
   "execution_count": 3,
   "id": "8f5a4978",
   "metadata": {},
   "outputs": [],
   "source": [
    "# Set up apical and basal mouse lists\n",
    "id_1 = \"JW082\"\n",
    "id_2 = \"JW083\" \n",
    "id_3 = \"JW090\"\n",
    "id_4 = \"JW092\"\n",
    "#id_5 = \"JW126\" # Not using\n",
    "id_6 = \"JW129\" \n",
    "id_7 = \"JW130\" \n",
    "id_8 = \"JW150\"\n",
    "id_9 = \"JW153\"\n",
    "id_10 = \"JW168\"\n",
    "id_11 = \"JW202\"\n",
    "\n",
    "\n",
    "\n",
    "apical_mouse_list = [id_1, id_2, id_3, id_4, id_6, id_7, id_8, id_9, id_10, id_11]\n",
    "\n",
    "\n",
    "id_2 = \"JW153\"\n",
    "id_3 = \"JW154\"\n",
    "id_4 = \"JW167\"\n",
    "id_5 = \"JW168\"\n",
    "id_6 = \"JW169\"\n",
    "id_7 = \"JW193\"\n",
    "id_8 = \"JW205\"\n",
    "id_9 = \"JW206\"\n",
    "id_10 = \"JW213\"\n",
    "id_11 = \"JW215\"\n",
    "id_12 = \"JW270\"\n",
    "id_14 = \"JW306\"\n",
    "\n",
    "basal_mouse_list = [id_2, id_3, id_4, id_5, id_6, id_7, id_8, id_9, id_10, id_11, id_12, id_14]\n",
    "\n"
   ]
  },
  {
   "cell_type": "markdown",
   "id": "32c70877",
   "metadata": {},
   "source": [
    "## Basic Structural and Activity Properties"
   ]
  },
  {
   "cell_type": "code",
   "execution_count": null,
   "id": "c5be94fe",
   "metadata": {},
   "outputs": [],
   "source": [
    "# Load the data\n",
    "## Apical data\n",
    "early_apical_activity_data = s_utils.batch_load_individual_analyzed_datasets(\n",
    "    type=\"Activity\",\n",
    "    session=\"Early\",\n",
    "    norm=True,\n",
    "    activity_type=\"dFoF\",\n",
    "    extended=None,\n",
    "    mice_list=apical_mouse_list,\n",
    "    fov_type=\"apical\",\n",
    "    period=None,\n",
    "    partner=None,\n",
    ")\n",
    "early_apical_activity_data = Grouped_Spine_Activity_Data(early_apical_activity_data)\n",
    "middle_apical_activity_data = s_utils.batch_load_individual_analyzed_datasets(\n",
    "    type=\"Activity\",\n",
    "    session=\"Middle\",\n",
    "    norm=True,\n",
    "    activity_type=\"dFoF\",\n",
    "    extended=None,\n",
    "    mice_list=apical_mouse_list,\n",
    "    fov_type=\"apical\",\n",
    "    period=None,\n",
    "    partner=None,\n",
    ")\n",
    "middle_apical_activity_data = Grouped_Spine_Activity_Data(middle_apical_activity_data)\n",
    "#late_apical_activity_data = s_utils.batch_load_individual_analyzed_datasets(\n",
    "#    type=\"Activity\",\n",
    "#    session=\"Late\",\n",
    "#    norm=True,\n",
    "#    activity_type=\"dFoF\",\n",
    "#    extended=None,\n",
    "#    mice_list=apical_mouse_list,\n",
    "#    fov_type=\"apical\",\n",
    "#    period=None,\n",
    "#    partner=None,\n",
    "#)\n",
    "#late_apical_activity_data = Grouped_Spine_Activity_Data(late_apical_activity_data)\n",
    "## Basal data\n",
    "early_basal_activity_data = s_utils.batch_load_individual_analyzed_datasets(\n",
    "    type=\"Activity\",\n",
    "    session=\"Early\",\n",
    "    norm=True,\n",
    "    activity_type=\"dFoF\",\n",
    "    extended=None,\n",
    "    mice_list=basal_mouse_list,\n",
    "    fov_type=\"basal\",\n",
    "    period=None,\n",
    "    partner=None,\n",
    ")\n",
    "early_basal_activity_data = Grouped_Spine_Activity_Data(early_basal_activity_data)\n",
    "middle_basal_activity_data = s_utils.batch_load_individual_analyzed_datasets(\n",
    "    type=\"Activity\",\n",
    "    session=\"Middle\",\n",
    "    norm=True,\n",
    "    activity_type=\"dFoF\",\n",
    "    extended=None,\n",
    "    mice_list=basal_mouse_list,\n",
    "    fov_type=\"basal\",\n",
    "    period=None,\n",
    "    partner=None,\n",
    ")\n",
    "middle_basal_activity_data = Grouped_Spine_Activity_Data(middle_basal_activity_data)\n",
    "#late_basal_activity_data = s_utils.batch_load_individual_analyzed_datasets(\n",
    "#    type=\"Activity\",\n",
    "#    session=\"Late\",\n",
    "#    norm=True,\n",
    "#    activity_type=\"dFoF\",\n",
    "#    extended=None,\n",
    "#    mice_list=basal_mouse_list,\n",
    "#    fov_type=\"basal\",\n",
    "#    period=None,\n",
    "#    partner=None,\n",
    "#)\n",
    "#late_basal_activity_data = Grouped_Spine_Activity_Data(late_basal_activity_data)\n",
    "## Put into lists\n"
   ]
  },
  {
   "cell_type": "code",
   "execution_count": null,
   "id": "45547935",
   "metadata": {},
   "outputs": [],
   "source": [
    "## Group data if desired\n",
    "apical_activity_data_list = [early_apical_activity_data, middle_apical_activity_data]\n",
    "basal_activity_data_list = [early_basal_activity_data, middle_basal_activity_data]\n",
    "\n",
    "apical_grouped_activity_data = Grouped_Spine_Activity_Data(apical_activity_data_list)\n",
    "basal_grouped_activity_data = Grouped_Spine_Activity_Data(basal_activity_data_list)"
   ]
  },
  {
   "cell_type": "markdown",
   "id": "699fad80",
   "metadata": {},
   "source": [
    "## Figure 1 - Longitudinal Structural Plasticity"
   ]
  },
  {
   "cell_type": "code",
   "execution_count": null,
   "id": "83dd9973",
   "metadata": {
    "scrolled": false
   },
   "outputs": [],
   "source": [
    "plotting_v2.plot_longitudinal_structural_plasticity(\n",
    "    apical_datasets=apical_activity_data_list,\n",
    "    basal_datasets=basal_activity_data_list,\n",
    "    figsize=(9,8),\n",
    "    threshold=(0.25, 0.5),\n",
    "    showmeans=True,\n",
    "    hist_bins=30,\n",
    "    test_type=\"nonparametric\",\n",
    "    display_stats=False,\n",
    "    save=False,\n",
    "    save_path=figure_path,\n",
    ")"
   ]
  },
  {
   "cell_type": "markdown",
   "id": "7d6bdc12",
   "metadata": {},
   "source": [
    "## Figure 2 - Structural Plasticity"
   ]
  },
  {
   "cell_type": "code",
   "execution_count": null,
   "id": "7c549a1b",
   "metadata": {
    "scrolled": false
   },
   "outputs": [],
   "source": [
    "plotting_v2.plot_structural_plasticity(\n",
    "    apical_dataset=early_apical_activity_data,\n",
    "    basal_dataset=early_basal_activity_data,\n",
    "    figsize=(11,6),\n",
    "    threshold=(0.25, 0.5),\n",
    "    showmeans=True,\n",
    "    mean_type=\"mean\",\n",
    "    err_type=\"sem\",\n",
    "    hist_bins=30,\n",
    "    test_type=\"nonparametric\",\n",
    "    display_stats=True,\n",
    "    save=False,\n",
    "    save_path=figure_path\n",
    ")"
   ]
  },
  {
   "cell_type": "markdown",
   "id": "26ab2b53",
   "metadata": {},
   "source": [
    "## Figure 3 - Movement Related Activity"
   ]
  },
  {
   "cell_type": "code",
   "execution_count": null,
   "id": "3b350761",
   "metadata": {
    "scrolled": false
   },
   "outputs": [],
   "source": [
    "plotting_v2.plot_movement_related_activity(\n",
    "    apical_dataset=early_apical_activity_data,\n",
    "    basal_dataset=early_basal_activity_data,\n",
    "    MRSs=None,\n",
    "    figsize=(9,7),\n",
    "    hist_bins=30,\n",
    "    showmeans=True,\n",
    "    test_type=\"ART\",\n",
    "    test_method=\"fdr_tsbh\",\n",
    "    display_stats=True,\n",
    "    save=False,\n",
    "    save_path=figure_path,\n",
    ")"
   ]
  },
  {
   "cell_type": "markdown",
   "id": "4a93fba1",
   "metadata": {},
   "source": [
    "## Figure 4 - Spine Movement Encoding"
   ]
  },
  {
   "cell_type": "code",
   "execution_count": null,
   "id": "6888c67c",
   "metadata": {},
   "outputs": [],
   "source": [
    "plotting_v2.plot_spine_movement_encoding(\n",
    "    apical_dataset=early_apical_activity_data,\n",
    "    basal_dataset=early_basal_activity_data,\n",
    "    MRSs=\"MRS\",\n",
    "    figsize=(10,4),\n",
    "    showmeans=True,\n",
    "    test_type=\"ART\",\n",
    "    test_method=\"fdr_tsbh\",\n",
    "    display_stats=True,\n",
    "    save=False,\n",
    "    save_path=figure_path,\n",
    ")"
   ]
  },
  {
   "cell_type": "markdown",
   "id": "4b49a2c8",
   "metadata": {},
   "source": [
    "## Local Synaptic Coactivity"
   ]
  },
  {
   "cell_type": "code",
   "execution_count": null,
   "id": "b40c9fec",
   "metadata": {},
   "outputs": [],
   "source": [
    "# Load the data\n",
    "## Entire session\n",
    "## Apical\n",
    "e_apical_coactivity_data = s_utils.batch_load_individual_analyzed_datasets(\n",
    "    type=\"Local\",\n",
    "    session=\"Early\",\n",
    "    norm=True,\n",
    "    activity_type=\"dFoF\",\n",
    "    extended=None,\n",
    "    mice_list=apical_mouse_list,\n",
    "    fov_type=\"apical\",\n",
    "    period=None,\n",
    "    partner=None,\n",
    ")\n",
    "e_apical_coactivity_data = Grouped_Local_Coactivity_Data(e_apical_coactivity_data)\n",
    "m_apical_coactivity_data = s_utils.batch_load_individual_analyzed_datasets(\n",
    "   type=\"Local\",\n",
    "   session=\"Middle\",\n",
    "   norm=True,\n",
    "   activity_type=\"dFoF\",\n",
    "   extended=None,\n",
    "   mice_list=apical_mouse_list,\n",
    "   fov_type=\"apical\",\n",
    "   period=None,\n",
    "   partner=None,\n",
    ")\n",
    "m_apical_coactivity_data = Grouped_Local_Coactivity_Data(m_apical_coactivity_data)\n",
    "#l_apical_coactivity_data = s_utils.batch_load_individual_analyzed_datasets(\n",
    "#    type=\"Local\",\n",
    "#    session=\"Late\",\n",
    "#    norm=True,\n",
    "#    activity_type=\"dFoF\",\n",
    "#    extended=None,\n",
    "#    mice_list=apical_mouse_list,\n",
    "#    fov_type=\"apical\",\n",
    "#    period=None,\n",
    "#    partner=None,\n",
    "#)\n",
    "#l_apical_coactivity_data = Grouped_Local_Coactivity_Data(l_apical_coactivity_data)\n",
    "## Basal\n",
    "e_basal_coactivity_data = s_utils.batch_load_individual_analyzed_datasets(\n",
    "    type=\"Local\",\n",
    "    session=\"Early\",\n",
    "    norm=True,\n",
    "    activity_type=\"dFoF\",\n",
    "    extended=None,\n",
    "    mice_list=basal_mouse_list,\n",
    "    fov_type=\"basal\",\n",
    "    period=None,\n",
    "    partner=None,\n",
    ")\n",
    "e_basal_coactivity_data = Grouped_Local_Coactivity_Data(e_basal_coactivity_data)\n",
    "m_basal_coactivity_data = s_utils.batch_load_individual_analyzed_datasets(\n",
    "   type=\"Local\",\n",
    "   session=\"Middle\",\n",
    "   norm=True,\n",
    "   activity_type=\"dFoF\",\n",
    "   extended=None,\n",
    "   mice_list=basal_mouse_list,\n",
    "   fov_type=\"basal\",\n",
    "   period=None,\n",
    "   partner=None,\n",
    ")\n",
    "m_basal_coactivity_data = Grouped_Local_Coactivity_Data(m_basal_coactivity_data)\n",
    "#l_basal_coactivity_data = s_utils.batch_load_individual_analyzed_datasets(\n",
    "#    type=\"Local\",\n",
    "#    session=\"Late\",\n",
    "#    norm=True,\n",
    "#    activity_type=\"dFoF\",\n",
    "#    extended=None,\n",
    "#    mice_list=basal_mouse_list,\n",
    "#    fov_type=\"basal\",\n",
    "#    period=None,\n",
    "#    partner=None,\n",
    "#)\n",
    "#l_basal_coactivity_data = Grouped_Local_Coactivity_Data(l_basal_coactivity_data)"
   ]
  },
  {
   "cell_type": "code",
   "execution_count": null,
   "id": "a5b3895e",
   "metadata": {},
   "outputs": [],
   "source": [
    "## Group data if desired\n",
    "apical_grouped_coactivity_data = Grouped_Local_Coactivity_Data([e_apical_coactivity_data, m_apical_coactivity_data])\n",
    "basal_grouped_coactivity_data = Grouped_Local_Coactivity_Data([e_basal_coactivity_data, m_basal_coactivity_data])"
   ]
  },
  {
   "cell_type": "markdown",
   "id": "761d3196",
   "metadata": {},
   "source": [
    "## Figure 5 - Local Spine Coactivity"
   ]
  },
  {
   "cell_type": "code",
   "execution_count": null,
   "id": "255da190",
   "metadata": {
    "scrolled": false
   },
   "outputs": [],
   "source": [
    "plotting_v2.plot_local_coactivity(\n",
    "    apical_dataset=e_apical_coactivity_data,\n",
    "    basal_dataset=e_basal_coactivity_data,\n",
    "    figsize=(13,11),\n",
    "    showmeans=True,\n",
    "    mean_type=\"median\",\n",
    "    test_type=\"ART\",\n",
    "    test_method=\"fdr_tsbh\",\n",
    "    display_stats=False,\n",
    "    save=True,\n",
    "    save_path=figure_path\n",
    ")"
   ]
  },
  {
   "cell_type": "markdown",
   "id": "a90201cc",
   "metadata": {},
   "source": [
    "## Dendritic Coactivity"
   ]
  },
  {
   "cell_type": "code",
   "execution_count": null,
   "id": "7d54b3a4",
   "metadata": {},
   "outputs": [],
   "source": [
    "## Load the data\n",
    "## Apical\n",
    "e_apical_global_data = s_utils.batch_load_individual_analyzed_datasets(\n",
    "    type=\"Global\",\n",
    "    session=\"Early\",\n",
    "    norm=True,\n",
    "    activity_type=\"dFoF\",\n",
    "    extended=None,\n",
    "    mice_list=apical_mouse_list,\n",
    "    fov_type=\"apical\",\n",
    "    period=None,\n",
    "    partner=None,\n",
    ")\n",
    "e_apical_global_data = Grouped_Dendritic_Coactivity_Data(e_apical_global_data)\n",
    "#m_apical_global_data = s_utils.batch_load_individual_analyzed_datasets(\n",
    "#     type=\"Global\",\n",
    "#     session=\"Middle\",\n",
    "#     norm=True,\n",
    "#     activity_type=\"dFoF\",\n",
    "#     extended=None,\n",
    "#     mice_list=apical_mouse_list,\n",
    "#     fov_type=\"apical\",\n",
    "#     period=None,\n",
    "#     partner=None,\n",
    "# )\n",
    "# m_apical_global_data = Grouped_Dendritic_Coactivity_Data(m_apical_global_data)\n",
    "# l_apical_global_data = s_utils.batch_load_individual_analyzed_datasets(\n",
    "#     type=\"Global\",\n",
    "#     session=\"Late\",\n",
    "#     norm=True,\n",
    "#     activity_type=\"dFoF\",\n",
    "#     extended=None,\n",
    "#     mice_list=apical_mouse_list,\n",
    "#     fov_type=\"apical\",\n",
    "#     period=None,\n",
    "#     partner=None,\n",
    "# )\n",
    "# l_apical_global_data = Grouped_Dendritic_Coactivity_Data(l_apical_global_data)\n",
    "## Basal\n",
    "e_basal_global_data = s_utils.batch_load_individual_analyzed_datasets(\n",
    "    type=\"Global\",\n",
    "    session=\"Early\",\n",
    "    norm=True,\n",
    "    activity_type=\"dFoF\",\n",
    "    extended=None,\n",
    "    mice_list=basal_mouse_list,\n",
    "    fov_type=\"basal\",\n",
    "    period=None,\n",
    "    partner=None,\n",
    ")\n",
    "e_basal_global_data = Grouped_Dendritic_Coactivity_Data(e_basal_global_data)\n",
    "# m_basal_global_data = s_utils.batch_load_individual_analyzed_datasets(\n",
    "#     type=\"Global\",\n",
    "#     session=\"Middle\",\n",
    "#     norm=True,\n",
    "#     activity_type=\"dFoF\",\n",
    "#     extended=None,\n",
    "#     mice_list=basal_mouse_list,\n",
    "#     fov_type=\"basal\",\n",
    "#     period=None,\n",
    "#     partner=None,\n",
    "# )\n",
    "# m_basal_global_data = Grouped_Dendritic_Coactivity_Data(m_basal_global_data)\n",
    "# l_basal_global_data = s_utils.batch_load_individual_analyzed_datasets(\n",
    "#     type=\"Global\",\n",
    "#     session=\"Late\",\n",
    "#     norm=True,\n",
    "#     activity_type=\"dFoF\",\n",
    "#     extended=None,\n",
    "#     mice_list=basal_mouse_list,\n",
    "#     fov_type=\"basal\",\n",
    "#     period=None,\n",
    "#     partner=None,\n",
    "# )\n",
    "# l_basal_global_data = Grouped_Dendritic_Coactivity_Data(l_basal_global_data)"
   ]
  },
  {
   "cell_type": "code",
   "execution_count": null,
   "id": "6f662356",
   "metadata": {},
   "outputs": [],
   "source": [
    "## Group data if desired\n",
    "apical_grouped_global_data = Grouped_Spine_Coactivity_Data([e_apical_global_data, m_apical_global_data, l_apical_global_data])\n",
    "basal_grouped_global_data = Grouped_Spine_Coactivity_Data([e_basal_global_data, m_basal_global_data, l_basal_global_data])"
   ]
  },
  {
   "cell_type": "markdown",
   "id": "70e46917",
   "metadata": {},
   "source": [
    "## Figure 6 - Dendritic Coactivity"
   ]
  },
  {
   "cell_type": "code",
   "execution_count": null,
   "id": "c120c7eb",
   "metadata": {
    "scrolled": false
   },
   "outputs": [],
   "source": [
    "plotting_v2.plot_dendrite_coactivity(\n",
    "    apical_dataset=e_apical_global_data,\n",
    "    basal_dataset=e_basal_global_data,\n",
    "    MRSs=None,\n",
    "    figsize=(13,15),\n",
    "    showmeans=True,\n",
    "    hist_bins=30,\n",
    "    test_type=\"mixed-effect\",\n",
    "    display_stats=True,\n",
    "    save=False,\n",
    "    save_path=figure_path,\n",
    ")"
   ]
  },
  {
   "cell_type": "code",
   "execution_count": null,
   "id": "31a3ab5b",
   "metadata": {},
   "outputs": [],
   "source": [
    "import numpy as np\n",
    "from skimage.measure import block_reduce\n",
    "\n",
    "a = np.array([[1,1,1],\n",
    "              [2,2,2],\n",
    "              [3,3,3],\n",
    "              [4,4,4],\n",
    "              [5,5,5],\n",
    "              [6,6,6],\n",
    "              [1,1,1],\n",
    "              [2,2,2],\n",
    "              [3,3,3],\n",
    "              [4,4,4],\n",
    "              [5,5,5],\n",
    "              [6,6,6]])"
   ]
  },
  {
   "cell_type": "code",
   "execution_count": null,
   "id": "64dd6841",
   "metadata": {},
   "outputs": [],
   "source": [
    "a"
   ]
  },
  {
   "cell_type": "code",
   "execution_count": null,
   "id": "e6220eeb",
   "metadata": {},
   "outputs": [],
   "source": [
    "arr_reduced = block_reduce(a, block_size=(2,1), func=np.mean, cval=0)"
   ]
  },
  {
   "cell_type": "code",
   "execution_count": null,
   "id": "e6800c26",
   "metadata": {},
   "outputs": [],
   "source": [
    "arr_reduced"
   ]
  },
  {
   "cell_type": "code",
   "execution_count": null,
   "id": "f026548c",
   "metadata": {},
   "outputs": [],
   "source": [
    "np.nanmean([np.nan, np.nan])"
   ]
  },
  {
   "cell_type": "code",
   "execution_count": null,
   "id": "5903ed1d",
   "metadata": {},
   "outputs": [],
   "source": [
    "from scipy import stats\n",
    "mu , sigma = 0.2 , 0.1\n",
    "normal_distributed = np.random.default_rng().normal(mu, sigma, 50)  \n",
    "\n",
    " #restore the skewed one   \n",
    "skewed_distributed = np.exp(normal_distributed)\n",
    "\n",
    " #Try to make it more skewed\n",
    "N = 2   \n",
    "for i in range(N):\n",
    "  skewed_distributed = np.exp(skewed_distributed)\n",
    "\n",
    "x = skewed_distributed"
   ]
  },
  {
   "cell_type": "code",
   "execution_count": null,
   "id": "5296300c",
   "metadata": {},
   "outputs": [],
   "source": [
    "est_MAD = stats.median_abs_deviation(x, scale=1)\n",
    "sd = np.nanstd(x)\n",
    "const = sd / est_MAD\n",
    "const\n",
    "\n",
    "MAD = stats.median_abs_deviation(x, scale=const)\n",
    "\n",
    "MAD"
   ]
  },
  {
   "cell_type": "code",
   "execution_count": null,
   "id": "24c80f86",
   "metadata": {},
   "outputs": [],
   "source": [
    "d = (x,)\n",
    "bootstrap = stats.bootstrap(\n",
    "    d,\n",
    "    np.nanmedian,\n",
    "    confidence_level=0.95,\n",
    "    method=\"percentile\",\n",
    "    n_resamples=100,\n",
    ")"
   ]
  },
  {
   "cell_type": "code",
   "execution_count": null,
   "id": "bc1d8a0e",
   "metadata": {},
   "outputs": [],
   "source": [
    "boot_low = np.nanmedian(x) - bootstrap.confidence_interval.low\n",
    "boot_high = bootstrap.confidence_interval.high - np.nanmedian(x)"
   ]
  },
  {
   "cell_type": "code",
   "execution_count": null,
   "id": "55d61bce",
   "metadata": {},
   "outputs": [],
   "source": [
    "x_data = [np.nanmedian(x), np.nanmedian(x)]\n",
    "yerr = np.array([[boot_low, MAD],\n",
    "                 [boot_high, MAD]])"
   ]
  },
  {
   "cell_type": "code",
   "execution_count": null,
   "id": "171276db",
   "metadata": {},
   "outputs": [],
   "source": [
    "import matplotlib.pyplot as plt\n",
    "\n",
    "plt.bar(\n",
    "x=[0,1],\n",
    "height=x_data,\n",
    "yerr=yerr,\n",
    ")"
   ]
  },
  {
   "cell_type": "code",
   "execution_count": null,
   "id": "6117c82c",
   "metadata": {},
   "outputs": [],
   "source": [
    "a = np.array([[1,2,3],\n",
    "              [2,3,4],\n",
    "              [4,5,6],\n",
    "              [5,2,5]])\n",
    "sort = np.array([2,0,1,3])\n",
    "\n",
    "temp = np.hstack((a, sort.reshape(-1,1)))\n",
    "temp"
   ]
  },
  {
   "cell_type": "code",
   "execution_count": null,
   "id": "ca6d00e2",
   "metadata": {},
   "outputs": [],
   "source": [
    "import numpy as np\n",
    "a = np.array([1,2,1,2,1,2,1,2,1])\n",
    "b = a * 5\n",
    "c = a * 2\n",
    "d = c * 2\n",
    "\n",
    "data_dict = {\"A\": [a, b], \"B\": [c, d]}"
   ]
  },
  {
   "cell_type": "code",
   "execution_count": null,
   "id": "d4be339d",
   "metadata": {},
   "outputs": [],
   "source": [
    "from Lab_Analyses.Plotting.plot_dot_plot import plot_dot_plot"
   ]
  },
  {
   "cell_type": "code",
   "execution_count": 4,
   "id": "c0d9997f",
   "metadata": {},
   "outputs": [],
   "source": [
    "from Lab_Analyses.Spine_Analysis_v2.structural_plasticity import calculate_fraction_plastic\n",
    "from Lab_Analyses.Utilities.save_load_pickle import load_pickle\n",
    "\n",
    "def check_longitudinal_volume(mouse_list, FOV_type=\"apical\"):\n",
    "    initial_path = r\"G:\\Analyzed_data\\individual\"\n",
    "    early_fraction_LTP = []\n",
    "    middle_fraction_LTP = []\n",
    "    late_fraction_LTP = []\n",
    "    early_fraction_LTD = []\n",
    "    middle_fraction_LTD = []\n",
    "    late_fraction_LTD = []\n",
    "    for mouse in mouse_list:\n",
    "        print(mouse)\n",
    "        mouse_path = os.path.join(initial_path, mouse)\n",
    "        imaging_path = os.path.join(mouse_path, \"imaging\")\n",
    "        \n",
    "        FOVs = next(os.walk(imaging_path))[1]\n",
    "        FOVs = [x for x in FOVs if \"FOV\" in x]\n",
    "        FOVs = [x for x in FOVs if FOV_type in x]\n",
    "        \n",
    "        for FOV in FOVs:\n",
    "            print(FOV)\n",
    "            FOV_path = os.path.join(imaging_path, FOV)\n",
    "            sessions = [\"Early\", \"Middle\", \"Late\"]\n",
    "            for session in sessions:\n",
    "                print(session)\n",
    "                session_path = os.path.join(FOV_path, session)\n",
    "                fnames = next(os.walk(session_path))[2]\n",
    "                fnames = [x for x in fnames if \"imaging_data\" in x]\n",
    "                fname1 = os.path.join(\n",
    "                    session_path,\n",
    "                    [x for x in fnames if \"GreenCh\" in x and \"structural\" not in x][0]\n",
    "                )\n",
    "                fname2 = os.path.join(\n",
    "                    session_path,\n",
    "                    [x for x in fnames if \"structural\" in x][0]\n",
    "                )\n",
    "                data = load_pickle([fname1])[0]\n",
    "                followup = load_pickle([fname2])[0]\n",
    "                \n",
    "                zoom = data.parameters[\"Zoom\"]\n",
    "                pix_to_zoom = zoom / 2\n",
    "            \n",
    "                \n",
    "                spine_flags = data.ROI_flags[\"Spine\"]\n",
    "                spine_positions = np.array(data.ROI_positions[\"Spine\"])\n",
    "                spine_groupings = data.parameters[\"Spine Groupings\"]\n",
    "                spine_volumes = np.array(data.corrected_spine_volume)\n",
    "                spine_volumes = np.sqrt(spine_volumes / pix_to_zoom) ** 2\n",
    "                if len(spine_groupings) == 0:\n",
    "                    spine_groupings = [list(range(len(spine_positions)))]\n",
    "                    \n",
    "                followup_flags = followup.ROI_flags[\"Spine\"]\n",
    "                followup_positions = np.array(followup.ROI_positions[\"Spine\"])\n",
    "                followup_groupings = followup.parameters[\"Spine Groupings\"]\n",
    "                followup_volumes = np.array(followup.corrected_spine_volume)\n",
    "                followup_volumes = np.sqrt(followup_volumes / pix_to_zoom) ** 2\n",
    "                if len(followup_groupings) == 0:\n",
    "                    followup_groupings = [list(range(len(spine_positions)))]\n",
    "                    \n",
    "                dendrite_ids = [None for _ in spine_positions]\n",
    "                for i, grouping in enumerate(spine_groupings):\n",
    "                    for spine in grouping:\n",
    "                        dendrite_ids[spine] = f\"{mouse}_{FOV}_{i+1}\"\n",
    "                    \n",
    "                \n",
    "                unique_dendrites = set(dendrite_ids)\n",
    "#                 for groupings in spine_groupings:\n",
    "#                     vol_list = [spine_volumes[groupings], followup_volumes[groupings]]\n",
    "#                     curr_flags = [spine_flags[x] for x in groupings]\n",
    "#                     foll_flags = [followup_flags[x] for x in groupings]\n",
    "#                     flag_list = [curr_flags, foll_flags]\n",
    "\n",
    "\n",
    "#                     e, s, _ = calculate_fraction_plastic(\n",
    "#                         vol_list,\n",
    "#                         flag_list,\n",
    "#                         threshold=(0.25, 0.5),\n",
    "#                         exclude=\"Shaft Spine\"\n",
    "#                     )\n",
    "#                     if session == \"Early\":\n",
    "#                         print(e)\n",
    "#                         early_fraction_LTP.append(e)\n",
    "#                         early_fraction_LTD.append(s)\n",
    "#                     if session == \"Middle\":\n",
    "#                         print(e)\n",
    "#                         middle_fraction_LTP.append(e)\n",
    "#                         middle_fraction_LTD.append(s)\n",
    "#                     if session == \"Late\":\n",
    "#                         print(e)\n",
    "#                         late_fraction_LTP.append(e)\n",
    "#                         late_fraction_LTD.append(s)\n",
    "                        \n",
    "                for dend in unique_dendrites:\n",
    "                    if dend is None:\n",
    "                        continue\n",
    "                    print(dend)\n",
    "                    dend_idxs = [i for i, x in enumerate(dendrite_ids) if x == dend]\n",
    "            \n",
    "                    vol_list = [spine_volumes[dend_idxs], followup_volumes[dend_idxs]]\n",
    "                    curr_flags = [spine_flags[x] for x in dend_idxs]\n",
    "                    foll_flags = [followup_flags[x] for x in dend_idxs]\n",
    "                    flag_list = [curr_flags, foll_flags]\n",
    "\n",
    "\n",
    "                    e, s, _ = calculate_fraction_plastic(\n",
    "                        vol_list,\n",
    "                        flag_list,\n",
    "                        threshold=(0.25, 0.5),\n",
    "                        exclude=\"Shaft Spine\"\n",
    "                    )\n",
    "                    if session == \"Early\":\n",
    "                        print(e)\n",
    "                        early_fraction_LTP.append(e)\n",
    "                        early_fraction_LTD.append(s)\n",
    "                    if session == \"Middle\":\n",
    "                        print(e)\n",
    "                        middle_fraction_LTP.append(e)\n",
    "                        middle_fraction_LTD.append(s)\n",
    "                    if session == \"Late\":\n",
    "                        print(e)\n",
    "                        late_fraction_LTP.append(e)\n",
    "                        late_fraction_LTD.append(s)\n",
    "\n",
    "#                 vol_list = [spine_volumes, followup_volumes]\n",
    "#                 flag_list = [spine_flags, followup_flags]\n",
    "\n",
    "\n",
    "#                 e, s, _ = calculate_fraction_plastic(\n",
    "#                     vol_list,\n",
    "#                     flag_list,\n",
    "#                     threshold=(0.25, 0.5),\n",
    "#                     exclude=\"Shaft Spine\"\n",
    "#                 )\n",
    "#                 if session == \"Early\":\n",
    "#                     print(e)\n",
    "#                     early_fraction_LTP.append(e)\n",
    "#                     early_fraction_LTD.append(s)\n",
    "#                 if session == \"Middle\":\n",
    "#                     print(e)\n",
    "#                     middle_fraction_LTP.append(e)\n",
    "#                     middle_fraction_LTD.append(s)\n",
    "#                 if session == \"Late\":\n",
    "#                     print(e)\n",
    "#                     late_fraction_LTP.append(e)\n",
    "#                     late_fraction_LTD.append(s)\n",
    "    \n",
    "    return early_fraction_LTP, middle_fraction_LTP, late_fraction_LTP, early_fraction_LTD, middle_fraction_LTD, late_fraction_LTD"
   ]
  },
  {
   "cell_type": "code",
   "execution_count": null,
   "id": "004ff76b",
   "metadata": {
    "scrolled": false
   },
   "outputs": [],
   "source": [
    "(\n",
    "    aearly_LTP,\n",
    "    amiddle_LTP,\n",
    "    alate_LTP,\n",
    "    aearly_LTD,\n",
    "    amiddle_LTD,\n",
    "    alate_LTD,\n",
    ") = check_longitudinal_volume(apical_mouse_list, FOV_type=\"apical\")"
   ]
  },
  {
   "cell_type": "code",
   "execution_count": null,
   "id": "d471b3c7",
   "metadata": {},
   "outputs": [],
   "source": [
    "for e, m, l in zip(aearly_LTP, amiddle_LTP, alate_LTP):\n",
    "    print(f\"Early {e}  Middle {m}  Late{l}\")"
   ]
  },
  {
   "cell_type": "code",
   "execution_count": null,
   "id": "45494bb0",
   "metadata": {},
   "outputs": [],
   "source": [
    "print(np.nanmedian(aearly_LTP))\n",
    "print(np.nanmedian(amiddle_LTP))\n",
    "print(np.nanmedian(alate_LTP))"
   ]
  },
  {
   "cell_type": "code",
   "execution_count": null,
   "id": "f5f72777",
   "metadata": {},
   "outputs": [],
   "source": [
    "for e, m, l in zip(aearly_LTD, amiddle_LTD, alate_LTD):\n",
    "    print(f\"Early {e}  Middle {m}  Late{l}\")"
   ]
  },
  {
   "cell_type": "code",
   "execution_count": null,
   "id": "cb5ab692",
   "metadata": {},
   "outputs": [],
   "source": [
    "a = np.zeros((9, 10))\n",
    "b = np.zeros((4, 10))\n",
    "\n",
    "a[: b.shape[0], :]"
   ]
  },
  {
   "cell_type": "code",
   "execution_count": 6,
   "id": "b57b59ee",
   "metadata": {},
   "outputs": [
    {
     "ename": "NameError",
     "evalue": "name 'aearly_LTP' is not defined",
     "output_type": "error",
     "traceback": [
      "\u001b[1;31m---------------------------------------------------------------------------\u001b[0m",
      "\u001b[1;31mNameError\u001b[0m                                 Traceback (most recent call last)",
      "Cell \u001b[1;32mIn[6], line 10\u001b[0m\n\u001b[0;32m      5\u001b[0m fig, ax \u001b[38;5;241m=\u001b[39m plt\u001b[38;5;241m.\u001b[39msubplots(figsize\u001b[38;5;241m=\u001b[39m(\u001b[38;5;241m3\u001b[39m,\u001b[38;5;241m2\u001b[39m))\n\u001b[0;32m      7\u001b[0m save_path \u001b[38;5;241m=\u001b[39m \u001b[38;5;124mr\u001b[39m\u001b[38;5;124m\"\u001b[39m\u001b[38;5;124mC:\u001b[39m\u001b[38;5;124m\\\u001b[39m\u001b[38;5;124mUsers\u001b[39m\u001b[38;5;124m\\\u001b[39m\u001b[38;5;124mJake\u001b[39m\u001b[38;5;124m\\\u001b[39m\u001b[38;5;124mDesktop\u001b[39m\u001b[38;5;124m\\\u001b[39m\u001b[38;5;124mFigures\u001b[39m\u001b[38;5;124m\\\u001b[39m\u001b[38;5;124mgrouped_data\u001b[39m\u001b[38;5;124m\\\u001b[39m\u001b[38;5;124mDual_Spine_Imaging\u001b[39m\u001b[38;5;124m\\\u001b[39m\u001b[38;5;124mCoactivity_Plasticity\u001b[39m\u001b[38;5;124m\"\u001b[39m\n\u001b[0;32m      9\u001b[0m plot_multi_line_plot(\n\u001b[1;32m---> 10\u001b[0m     data_dict\u001b[38;5;241m=\u001b[39m{\u001b[38;5;124m\"\u001b[39m\u001b[38;5;124mApical training\u001b[39m\u001b[38;5;124m\"\u001b[39m: np\u001b[38;5;241m.\u001b[39mvstack((\u001b[43maearly_LTP\u001b[49m, amiddle_LTP, alate_LTP))},\n\u001b[0;32m     11\u001b[0m     x_vals\u001b[38;5;241m=\u001b[39m[\u001b[38;5;241m0\u001b[39m,\u001b[38;5;241m1\u001b[39m,\u001b[38;5;241m2\u001b[39m],\n\u001b[0;32m     12\u001b[0m     x_labels\u001b[38;5;241m=\u001b[39m[\u001b[38;5;241m0\u001b[39m,\u001b[38;5;241m1\u001b[39m,\u001b[38;5;241m2\u001b[39m],\n\u001b[0;32m     13\u001b[0m     plot_ind\u001b[38;5;241m=\u001b[39m\u001b[38;5;28;01mTrue\u001b[39;00m,\n\u001b[0;32m     14\u001b[0m     mean_type\u001b[38;5;241m=\u001b[39m\u001b[38;5;124m\"\u001b[39m\u001b[38;5;124mmean\u001b[39m\u001b[38;5;124m\"\u001b[39m,\n\u001b[0;32m     15\u001b[0m     title\u001b[38;5;241m=\u001b[39m\u001b[38;5;28;01mNone\u001b[39;00m,\n\u001b[0;32m     16\u001b[0m     ytitle\u001b[38;5;241m=\u001b[39m\u001b[38;5;124m\"\u001b[39m\u001b[38;5;124mFraction LTP\u001b[39m\u001b[38;5;124m\"\u001b[39m,\n\u001b[0;32m     17\u001b[0m     xtitle\u001b[38;5;241m=\u001b[39m\u001b[38;5;124m\"\u001b[39m\u001b[38;5;124mSession\u001b[39m\u001b[38;5;124m\"\u001b[39m,\n\u001b[0;32m     18\u001b[0m     ylim\u001b[38;5;241m=\u001b[39m(\u001b[38;5;241m0\u001b[39m, \u001b[38;5;241m0.2\u001b[39m),\n\u001b[0;32m     19\u001b[0m     line_color\u001b[38;5;241m=\u001b[39m\u001b[38;5;124m\"\u001b[39m\u001b[38;5;124mgoldenrod\u001b[39m\u001b[38;5;124m\"\u001b[39m,\n\u001b[0;32m     20\u001b[0m     face_color\u001b[38;5;241m=\u001b[39m\u001b[38;5;124m\"\u001b[39m\u001b[38;5;124mwhite\u001b[39m\u001b[38;5;124m\"\u001b[39m,\n\u001b[0;32m     21\u001b[0m     m_size\u001b[38;5;241m=\u001b[39m\u001b[38;5;241m7\u001b[39m,\n\u001b[0;32m     22\u001b[0m     linewidth\u001b[38;5;241m=\u001b[39m\u001b[38;5;241m1\u001b[39m,\n\u001b[0;32m     23\u001b[0m     linestyle\u001b[38;5;241m=\u001b[39m\u001b[38;5;124m\"\u001b[39m\u001b[38;5;124m-\u001b[39m\u001b[38;5;124m\"\u001b[39m,\n\u001b[0;32m     24\u001b[0m     axis_width\u001b[38;5;241m=\u001b[39m\u001b[38;5;241m1\u001b[39m,\n\u001b[0;32m     25\u001b[0m     minor_ticks\u001b[38;5;241m=\u001b[39m\u001b[38;5;28;01mNone\u001b[39;00m,\n\u001b[0;32m     26\u001b[0m     tick_len\u001b[38;5;241m=\u001b[39m\u001b[38;5;241m3\u001b[39m,\n\u001b[0;32m     27\u001b[0m     ax\u001b[38;5;241m=\u001b[39max,\n\u001b[0;32m     28\u001b[0m     legend\u001b[38;5;241m=\u001b[39m\u001b[38;5;28;01mTrue\u001b[39;00m,\n\u001b[0;32m     29\u001b[0m     save\u001b[38;5;241m=\u001b[39m\u001b[38;5;28;01mFalse\u001b[39;00m,\n\u001b[0;32m     30\u001b[0m     save_path\u001b[38;5;241m=\u001b[39m\u001b[38;5;28;01mNone\u001b[39;00m,\n\u001b[0;32m     31\u001b[0m )\n\u001b[0;32m     33\u001b[0m name \u001b[38;5;241m=\u001b[39m os\u001b[38;5;241m.\u001b[39mpath\u001b[38;5;241m.\u001b[39mjoin(save_path, \u001b[38;5;124m\"\u001b[39m\u001b[38;5;124mApical_Longitudinal_LTP\u001b[39m\u001b[38;5;124m\"\u001b[39m)\n\u001b[0;32m     34\u001b[0m fig\u001b[38;5;241m.\u001b[39msavefig(name \u001b[38;5;241m+\u001b[39m \u001b[38;5;124m\"\u001b[39m\u001b[38;5;124m.svg\u001b[39m\u001b[38;5;124m\"\u001b[39m)\n",
      "\u001b[1;31mNameError\u001b[0m: name 'aearly_LTP' is not defined"
     ]
    },
    {
     "data": {
      "image/png": "[encoded data removed]",
      "text/plain": [
       "<Figure size 300x200 with 1 Axes>"
      ]
     },
     "metadata": {},
     "output_type": "display_data"
    }
   ],
   "source": [
    "from Lab_Analyses.Plotting.plot_multi_line_plot import plot_multi_line_plot\n",
    "\n",
    "import matplotlib.pyplot as plt\n",
    "import os\n",
    "fig, ax = plt.subplots(figsize=(3,2))\n",
    "\n",
    "save_path = r\"C:\\Users\\Jake\\Desktop\\Figures\\grouped_data\\Dual_Spine_Imaging\\Coactivity_Plasticity\"\n",
    "\n",
    "plot_multi_line_plot(\n",
    "    data_dict={\"Apical training\": np.vstack((aearly_LTP, amiddle_LTP, alate_LTP))},\n",
    "    x_vals=[0,1,2],\n",
    "    x_labels=[0,1,2],\n",
    "    plot_ind=True,\n",
    "    mean_type=\"mean\",\n",
    "    title=None,\n",
    "    ytitle=\"Fraction LTP\",\n",
    "    xtitle=\"Session\",\n",
    "    ylim=(0, 0.2),\n",
    "    line_color=\"goldenrod\",\n",
    "    face_color=\"white\",\n",
    "    m_size=7,\n",
    "    linewidth=1,\n",
    "    linestyle=\"-\",\n",
    "    axis_width=1,\n",
    "    minor_ticks=None,\n",
    "    tick_len=3,\n",
    "    ax=ax,\n",
    "    legend=True,\n",
    "    save=False,\n",
    "    save_path=None,\n",
    ")\n",
    "\n",
    "name = os.path.join(save_path, \"Apical_Longitudinal_LTP\")\n",
    "fig.savefig(name + \".svg\")"
   ]
  },
  {
   "cell_type": "code",
   "execution_count": null,
   "id": "87496528",
   "metadata": {},
   "outputs": [],
   "source": [
    "np.vstack((aearly_LTP, amiddle_LTP, alate_LTP))"
   ]
  },
  {
   "cell_type": "code",
   "execution_count": 8,
   "id": "f1c78583",
   "metadata": {},
   "outputs": [
    {
     "ename": "NameError",
     "evalue": "name 'aearly_LTP' is not defined",
     "output_type": "error",
     "traceback": [
      "\u001b[1;31m---------------------------------------------------------------------------\u001b[0m",
      "\u001b[1;31mNameError\u001b[0m                                 Traceback (most recent call last)",
      "Cell \u001b[1;32mIn[8], line 4\u001b[0m\n\u001b[0;32m      1\u001b[0m \u001b[38;5;28;01mfrom\u001b[39;00m \u001b[38;5;21;01mLab_Analyses\u001b[39;00m\u001b[38;5;21;01m.\u001b[39;00m\u001b[38;5;21;01mUtilities\u001b[39;00m \u001b[38;5;28;01mimport\u001b[39;00m test_utilities \u001b[38;5;28;01mas\u001b[39;00m t_utils\n\u001b[0;32m      3\u001b[0m f, p, table \u001b[38;5;241m=\u001b[39m t_utils\u001b[38;5;241m.\u001b[39mkruskal_wallis_test(\n\u001b[1;32m----> 4\u001b[0m     data_dict\u001b[38;5;241m=\u001b[39m{\u001b[38;5;124m\"\u001b[39m\u001b[38;5;124mEarly\u001b[39m\u001b[38;5;124m\"\u001b[39m: np\u001b[38;5;241m.\u001b[39marray(\u001b[43maearly_LTP\u001b[49m), \u001b[38;5;124m\"\u001b[39m\u001b[38;5;124mMiddle\u001b[39m\u001b[38;5;124m\"\u001b[39m: np\u001b[38;5;241m.\u001b[39marray(amiddle_LTP), \u001b[38;5;124m\"\u001b[39m\u001b[38;5;124mLate\u001b[39m\u001b[38;5;124m\"\u001b[39m: np\u001b[38;5;241m.\u001b[39marray(alate_LTP)}, post_method\u001b[38;5;241m=\u001b[39m\u001b[38;5;124m\"\u001b[39m\u001b[38;5;124mConover\u001b[39m\u001b[38;5;124m\"\u001b[39m, adj_method\u001b[38;5;241m=\u001b[39m\u001b[38;5;124m\"\u001b[39m\u001b[38;5;124mfdr_tsbh\u001b[39m\u001b[38;5;124m\"\u001b[39m\n\u001b[0;32m      5\u001b[0m )\n",
      "\u001b[1;31mNameError\u001b[0m: name 'aearly_LTP' is not defined"
     ]
    }
   ],
   "source": [
    "from Lab_Analyses.Utilities import test_utilities as t_utils\n",
    "\n",
    "f, p, table = t_utils.kruskal_wallis_test(\n",
    "    data_dict={\"Early\": np.array(aearly_LTP), \"Middle\": np.array(amiddle_LTP), \"Late\": np.array(alate_LTP)}, post_method=\"Conover\", adj_method=\"fdr_tsbh\"\n",
    ")"
   ]
  },
  {
   "cell_type": "code",
   "execution_count": null,
   "id": "250fd3de",
   "metadata": {},
   "outputs": [],
   "source": [
    "f"
   ]
  },
  {
   "cell_type": "code",
   "execution_count": null,
   "id": "5a5946af",
   "metadata": {},
   "outputs": [],
   "source": [
    "p"
   ]
  },
  {
   "cell_type": "code",
   "execution_count": null,
   "id": "f46b23b1",
   "metadata": {},
   "outputs": [],
   "source": [
    "table"
   ]
  },
  {
   "cell_type": "code",
   "execution_count": null,
   "id": "99fe1395",
   "metadata": {},
   "outputs": [],
   "source": [
    "af, ap, _, atable = t_utils.ANOVA_1way_posthoc(\n",
    "    data_dict={\"Early\": np.array(aearly_LTP), \"Middle\": np.array(amiddle_LTP), \"Late\": np.array(alate_LTP)}, method=\"fdr_tsbh\"\n",
    ")\n",
    "\n",
    "print(f\"{af}   {ap}\")\n",
    "print(atable)"
   ]
  },
  {
   "cell_type": "code",
   "execution_count": null,
   "id": "9ac92b9d",
   "metadata": {},
   "outputs": [],
   "source": [
    "fig, ax = plt.subplots(figsize=(3,2))\n",
    "\n",
    "plot_multi_line_plot(\n",
    "    data_dict={\"Apical training\": np.vstack((aearly_LTD, amiddle_LTD, alate_LTD))},\n",
    "    x_vals=[0,1,2],\n",
    "    x_labels=[0,1,2],\n",
    "    plot_ind=False,\n",
    "    mean_type=\"mean\",\n",
    "    title=None,\n",
    "    ytitle=\"Fraction LTD\",\n",
    "    xtitle=\"Session\",\n",
    "    ylim=(0, 0.4),\n",
    "    line_color=\"goldenrod\",\n",
    "    face_color=\"white\",\n",
    "    m_size=7,\n",
    "    linewidth=1,\n",
    "    linestyle=\"-\",\n",
    "    axis_width=1,\n",
    "    minor_ticks=None,\n",
    "    tick_len=3,\n",
    "    ax=ax,\n",
    "    legend=True,\n",
    "    save=False,\n",
    "    save_path=None,\n",
    ")\n",
    "\n",
    "name = os.path.join(save_path, \"Apical_Longitudinal_LTD\")\n",
    "fig.savefig(name + \".svg\")"
   ]
  },
  {
   "cell_type": "code",
   "execution_count": null,
   "id": "a3aa586c",
   "metadata": {},
   "outputs": [],
   "source": [
    "np.nan > 0"
   ]
  },
  {
   "cell_type": "code",
   "execution_count": null,
   "id": "52974ac6",
   "metadata": {},
   "outputs": [],
   "source": [
    "f, p, table = kruskal_wallis_test(\n",
    "    data_dict={\"Early\": np.array(early_LTD), \"Middle\": np.array(middle_LTD), \"Late\": np.array(late_LTD)}, post_method=\"Conover\", adj_method=\"fdr_tsbh\"\n",
    ")"
   ]
  },
  {
   "cell_type": "code",
   "execution_count": null,
   "id": "1ccfdf9b",
   "metadata": {},
   "outputs": [],
   "source": [
    "f"
   ]
  },
  {
   "cell_type": "code",
   "execution_count": null,
   "id": "2cab293d",
   "metadata": {},
   "outputs": [],
   "source": [
    "p"
   ]
  },
  {
   "cell_type": "code",
   "execution_count": null,
   "id": "5fbdcf1a",
   "metadata": {},
   "outputs": [],
   "source": [
    "table"
   ]
  },
  {
   "cell_type": "code",
   "execution_count": 25,
   "id": "2729597b",
   "metadata": {
    "scrolled": false
   },
   "outputs": [
    {
     "name": "stdout",
     "output_type": "stream",
     "text": [
      "JW153\n",
      "FOV1_basal\n",
      "Early\n",
      "JW153_FOV1_basal_2\n",
      "0.05\n",
      "JW153_FOV1_basal_1\n",
      "0.09523809523809523\n",
      "Middle\n",
      "JW153_FOV1_basal_2\n",
      "0.05\n",
      "JW153_FOV1_basal_1\n",
      "0.05555555555555555\n",
      "Late\n",
      "JW153_FOV1_basal_2\n",
      "0.07142857142857142\n",
      "JW153_FOV1_basal_1\n",
      "0.06666666666666667\n",
      "JW154\n",
      "FOV1_basal\n",
      "Early\n",
      "JW154_FOV1_basal_1\n",
      "0.0\n",
      "Middle\n",
      "JW154_FOV1_basal_1\n",
      "0.0\n",
      "Late\n",
      "JW154_FOV1_basal_1\n",
      "0.04\n",
      "FOV3_basal\n",
      "Early\n",
      "JW154_FOV3_basal_1\n",
      "0.11538461538461539\n",
      "Middle\n",
      "JW154_FOV3_basal_1\n",
      "0.0\n",
      "Late\n",
      "JW154_FOV3_basal_1\n",
      "0.043478260869565216\n",
      "JW167\n",
      "FOV2_basal\n",
      "Early\n",
      "JW167_FOV2_basal_1\n",
      "0.25\n",
      "Middle\n",
      "JW167_FOV2_basal_1\n",
      "0.0\n",
      "Late\n",
      "JW167_FOV2_basal_1\n",
      "0.1\n",
      "JW168\n",
      "FOV2_basal\n",
      "Early\n",
      "JW168_FOV2_basal_2\n",
      "0.07692307692307693\n",
      "JW168_FOV2_basal_1\n",
      "0.15\n",
      "Middle\n",
      "JW168_FOV2_basal_2\n",
      "0.0\n",
      "JW168_FOV2_basal_1\n",
      "0.0\n",
      "Late\n",
      "JW168_FOV2_basal_2\n",
      "0.0\n",
      "JW168_FOV2_basal_1\n",
      "0.125\n",
      "JW169\n",
      "FOV3_basal\n",
      "Early\n",
      "JW169_FOV3_basal_1\n",
      "0.2777777777777778\n",
      "Middle\n",
      "JW169_FOV3_basal_1\n",
      "0.11764705882352941\n",
      "Late\n",
      "JW169_FOV3_basal_1\n",
      "0.0\n",
      "JW193\n",
      "FOV3_basal\n",
      "Early\n",
      "JW193_FOV3_basal_1\n",
      "0.08695652173913043\n",
      "Middle\n",
      "JW193_FOV3_basal_1\n",
      "0.04\n",
      "Late\n",
      "JW193_FOV3_basal_1\n",
      "0.0\n",
      "JW205\n",
      "FOV1_basal\n",
      "Early\n",
      "JW205_FOV1_basal_1\n",
      "0.0\n",
      "Middle\n",
      "JW205_FOV1_basal_1\n",
      "0.0\n",
      "Late\n",
      "JW205_FOV1_basal_1\n",
      "0.045454545454545456\n",
      "FOV2_basal\n",
      "Early\n",
      "JW205_FOV2_basal_2\n",
      "0.0\n",
      "JW205_FOV2_basal_1\n",
      "0.0\n",
      "Middle\n",
      "JW205_FOV2_basal_2\n",
      "0.0\n",
      "JW205_FOV2_basal_1\n",
      "0.0\n",
      "Late\n",
      "JW205_FOV2_basal_2\n",
      "0.0\n",
      "JW205_FOV2_basal_1\n",
      "0.0\n",
      "JW206\n",
      "FOV3_basal\n",
      "Early\n",
      "JW206_FOV3_basal_1\n",
      "0.045454545454545456\n",
      "Middle\n",
      "JW206_FOV3_basal_1\n",
      "0.0\n",
      "Late\n",
      "JW206_FOV3_basal_1\n",
      "0.05\n",
      "JW213\n",
      "FOV3_basal\n",
      "Early\n",
      "JW213_FOV3_basal_1\n",
      "0.21428571428571427\n",
      "Middle\n",
      "JW213_FOV3_basal_1\n",
      "0.16666666666666666\n",
      "Late\n",
      "JW213_FOV3_basal_1\n",
      "0.0\n",
      "JW215\n",
      "FOV2_basal\n",
      "Early\n",
      "JW215_FOV2_basal_1\n",
      "0.20833333333333334\n",
      "Middle\n",
      "JW215_FOV2_basal_1\n",
      "0.11538461538461539\n",
      "Late\n",
      "JW215_FOV2_basal_1\n",
      "0.0\n",
      "JW270\n",
      "FOV3_basal\n",
      "Early\n",
      "JW270_FOV3_basal_1\n",
      "0.22580645161290322\n",
      "Middle\n",
      "JW270_FOV3_basal_1\n",
      "0.09375\n",
      "Late\n",
      "JW270_FOV3_basal_1\n",
      "0.0\n",
      "JW306\n",
      "FOV1_basal\n",
      "Early\n",
      "JW306_FOV1_basal_1\n",
      "0.13636363636363635\n",
      "Middle\n",
      "JW306_FOV1_basal_1\n",
      "0.05263157894736842\n",
      "Late\n",
      "JW306_FOV1_basal_1\n",
      "0.13333333333333333\n"
     ]
    }
   ],
   "source": [
    "(\n",
    "    bearly_LTP,\n",
    "    bmiddle_LTP,\n",
    "    blate_LTP,\n",
    "    bearly_LTD,\n",
    "    bmiddle_LTD,\n",
    "    blate_LTD,\n",
    ") = check_longitudinal_volume(basal_mouse_list, FOV_type=\"basal\")"
   ]
  },
  {
   "cell_type": "code",
   "execution_count": 26,
   "id": "f1d2678c",
   "metadata": {},
   "outputs": [
    {
     "data": {
      "image/png": "[encoded data removed]",
      "text/plain": [
       "<Figure size 300x200 with 1 Axes>"
      ]
     },
     "metadata": {},
     "output_type": "display_data"
    }
   ],
   "source": [
    "fig, ax = plt.subplots(figsize=(3,2))\n",
    "\n",
    "plot_multi_line_plot(\n",
    "    data_dict={\"Basal training\": np.vstack((bearly_LTP, bmiddle_LTP, blate_LTP))},\n",
    "    x_vals=[0,1,2],\n",
    "    x_labels=[0,1,2],\n",
    "    plot_ind=True,\n",
    "    mean_type=\"mean\",\n",
    "    title=None,\n",
    "    ytitle=\"Fraction LTP\",\n",
    "    xtitle=\"Session\",\n",
    "    ylim=(0, 0.2),\n",
    "    line_color=\"mediumseagreen\",\n",
    "    face_color=\"white\",\n",
    "    m_size=7,\n",
    "    linewidth=1,\n",
    "    linestyle=\"-\",\n",
    "    axis_width=1,\n",
    "    minor_ticks=None,\n",
    "    tick_len=3,\n",
    "    ax=ax,\n",
    "    legend=True,\n",
    "    save=False,\n",
    "    save_path=None,\n",
    ")\n",
    "name = os.path.join(save_path, \"Basal_Longitudinal_LTP\")\n",
    "fig.savefig(name + \".svg\")"
   ]
  },
  {
   "cell_type": "code",
   "execution_count": null,
   "id": "6d0d2755",
   "metadata": {},
   "outputs": [],
   "source": [
    "fig, ax = plt.subplots(figsize=(3,2))\n",
    "\n",
    "plot_multi_line_plot(\n",
    "    data_dict={\"Basal training\": np.vstack((bearly_LTD, bmiddle_LTD, blate_LTD))},\n",
    "    x_vals=[0,1,2],\n",
    "    x_labels=[0,1,2],\n",
    "    plot_ind=False,\n",
    "    mean_type=\"mean\",\n",
    "    title=None,\n",
    "    ytitle=\"Fraction LTD\",\n",
    "    xtitle=\"Session\",\n",
    "    ylim=(0, 0.4),\n",
    "    line_color=\"mediumseagreen\",\n",
    "    face_color=\"white\",\n",
    "    m_size=7,\n",
    "    linewidth=1,\n",
    "    linestyle=\"-\",\n",
    "    axis_width=1,\n",
    "    minor_ticks=None,\n",
    "    tick_len=3,\n",
    "    ax=ax,\n",
    "    legend=True,\n",
    "    save=False,\n",
    "    save_path=None,\n",
    ")\n",
    "\n",
    "name = os.path.join(save_path, \"Basal_Longitudinal_LTD\")\n",
    "fig.savefig(name + \".svg\")"
   ]
  },
  {
   "cell_type": "code",
   "execution_count": 27,
   "id": "72e80862",
   "metadata": {},
   "outputs": [],
   "source": [
    "f, p, table = t_utils.kruskal_wallis_test(\n",
    "    data_dict={\"Early\": np.array(bearly_LTP), \"Middle\": np.array(bmiddle_LTP), \"Late\": np.array(blate_LTP)}, post_method=\"Conover\", adj_method=\"fdr_tsbh\"\n",
    ")"
   ]
  },
  {
   "cell_type": "code",
   "execution_count": 28,
   "id": "bc14f87a",
   "metadata": {},
   "outputs": [
    {
     "data": {
      "text/plain": [
       "7.825392600479136"
      ]
     },
     "execution_count": 28,
     "metadata": {},
     "output_type": "execute_result"
    }
   ],
   "source": [
    "f"
   ]
  },
  {
   "cell_type": "code",
   "execution_count": 29,
   "id": "440129d4",
   "metadata": {},
   "outputs": [
    {
     "data": {
      "text/plain": [
       "0.01998653863601336"
      ]
     },
     "execution_count": 29,
     "metadata": {},
     "output_type": "execute_result"
    }
   ],
   "source": [
    "p"
   ]
  },
  {
   "cell_type": "code",
   "execution_count": 30,
   "id": "64a50e4d",
   "metadata": {},
   "outputs": [
    {
     "data": {
      "text/html": [
       "<div>\n",
       "<style scoped>\n",
       "    .dataframe tbody tr th:only-of-type {\n",
       "        vertical-align: middle;\n",
       "    }\n",
       "\n",
       "    .dataframe tbody tr th {\n",
       "        vertical-align: top;\n",
       "    }\n",
       "\n",
       "    .dataframe thead th {\n",
       "        text-align: right;\n",
       "    }\n",
       "</style>\n",
       "<table border=\"1\" class=\"dataframe\">\n",
       "  <thead>\n",
       "    <tr style=\"text-align: right;\">\n",
       "      <th></th>\n",
       "      <th>comparison</th>\n",
       "      <th>adjusted p-vals</th>\n",
       "    </tr>\n",
       "  </thead>\n",
       "  <tbody>\n",
       "    <tr>\n",
       "      <th>0</th>\n",
       "      <td>Early vs Middle</td>\n",
       "      <td>6.7468E-03</td>\n",
       "    </tr>\n",
       "    <tr>\n",
       "      <th>1</th>\n",
       "      <td>Early vs Late</td>\n",
       "      <td>6.7468E-03</td>\n",
       "    </tr>\n",
       "    <tr>\n",
       "      <th>2</th>\n",
       "      <td>Middle vs Late</td>\n",
       "      <td>3.2321E-01</td>\n",
       "    </tr>\n",
       "  </tbody>\n",
       "</table>\n",
       "</div>"
      ],
      "text/plain": [
       "        comparison adjusted p-vals\n",
       "0  Early vs Middle      6.7468E-03\n",
       "1    Early vs Late      6.7468E-03\n",
       "2   Middle vs Late      3.2321E-01"
      ]
     },
     "execution_count": 30,
     "metadata": {},
     "output_type": "execute_result"
    }
   ],
   "source": [
    "table"
   ]
  },
  {
   "cell_type": "code",
   "execution_count": null,
   "id": "abc4e78a",
   "metadata": {},
   "outputs": [],
   "source": [
    "from scipy.stats import friedmanchisquare\n",
    "\n",
    "print(friedmanchisquare(bearly_LTP, bmiddle_LTP, blate_LTP))\n",
    "print(friedmanchisquare(aearly_LTP, amiddle_LTP, alate_LTP))"
   ]
  },
  {
   "cell_type": "code",
   "execution_count": null,
   "id": "5d6514ba",
   "metadata": {},
   "outputs": [],
   "source": [
    "import scikit_posthocs as sp\n",
    "\n",
    "data = np.array([bearly_LTP, bmiddle_LTP, blate_LTP])\n",
    "sp.posthoc_nemenyi_friedman(data.T)"
   ]
  },
  {
   "cell_type": "code",
   "execution_count": null,
   "id": "ea14f945",
   "metadata": {},
   "outputs": [],
   "source": [
    "data = np.array([aearly_LTP, amiddle_LTP, alate_LTP])\n",
    "sp.posthoc_nemenyi_friedman(data.T)"
   ]
  },
  {
   "cell_type": "code",
   "execution_count": null,
   "id": "1b357705",
   "metadata": {},
   "outputs": [],
   "source": [
    "from scipy import stats\n",
    "\n",
    "print(stats.mannwhitneyu(x=np.array(aearly_LTP),y=np.array(amiddle_LTP)))\n",
    "print(stats.wilcoxon(x=np.array(aearly_LTP),y=np.array(amiddle_LTP)))"
   ]
  },
  {
   "cell_type": "code",
   "execution_count": null,
   "id": "8e5f6831",
   "metadata": {},
   "outputs": [],
   "source": [
    "stats.wilcoxon(x=np.array(aearly_LTP),y=np.array(alate_LTP))"
   ]
  },
  {
   "cell_type": "code",
   "execution_count": null,
   "id": "b9a7e998",
   "metadata": {},
   "outputs": [],
   "source": [
    "stats.ttest_ind(a=np.array(early_LTP),b=np.array(middle_LTP))"
   ]
  },
  {
   "cell_type": "code",
   "execution_count": null,
   "id": "5a514f7f",
   "metadata": {},
   "outputs": [],
   "source": [
    "stats.ttest_ind(a=np.array(early_LTP),b=np.array(late_LTP))"
   ]
  },
  {
   "cell_type": "code",
   "execution_count": null,
   "id": "bb56484e",
   "metadata": {},
   "outputs": [],
   "source": [
    "def correlate_btw_sessions(A, B, length):\n",
    "    \"\"\"Helper function to perform pairwise correlations between movements from two\n",
    "    different sessions. This is a vectorized approach for faster run time\n",
    "\n",
    "    INPUT PARAMETERS\n",
    "        A - np.array of movement matrix of the first session\n",
    "\n",
    "        B - np.array of movement matrix fo the second session\n",
    "\n",
    "    OUTPUT PARAMETER\n",
    "        across_corr - float of the median pairwise correlation for all movements\n",
    "                      in session A with those of session B\n",
    "\n",
    "    \"\"\"\n",
    "    # Transpose movement rows to columns\n",
    "    A = A[:, :length]\n",
    "    B = B[:, :length]\n",
    "    A = A.T\n",
    "    B = B.T\n",
    "\n",
    "    # Get number of rows in either A or B (should be same)\n",
    "    n = B.shape[0]\n",
    "    # Store column-wise in A and B\n",
    "    sA = A.sum(axis=0)\n",
    "    sB = B.sum(axis=0)\n",
    "\n",
    "    # Vectorize and broadcast the A and B\n",
    "    p1 = n * np.dot(B.T, A)\n",
    "    p2 = sA * sB[:, None]\n",
    "    p3 = n * ((B**2).sum(axis=0)) - (sB**2)\n",
    "    p4 = n * ((A**2).sum(axis=0)) - (sA**2)\n",
    "\n",
    "    # Compute pairwise Pearsons Correlation Coefficient as 2D array\n",
    "    pcorr = (p1 - p2) / np.sqrt(p4 * p3[:, None])\n",
    "    \n",
    "\n",
    "    across_corr = np.nanmedian(pcorr)\n",
    "\n",
    "    return across_corr, pcorr"
   ]
  },
  {
   "cell_type": "code",
   "execution_count": null,
   "id": "c84fd527",
   "metadata": {},
   "outputs": [],
   "source": [
    "A = np.random.rand(1000,100)\n",
    "B = np.random.rand(1000,100)"
   ]
  },
  {
   "cell_type": "code",
   "execution_count": null,
   "id": "05737eb8",
   "metadata": {},
   "outputs": [],
   "source": [
    "across_corr, p_corr = correlate_btw_sessions(A, B, 100)"
   ]
  },
  {
   "cell_type": "code",
   "execution_count": null,
   "id": "3c4e462c",
   "metadata": {},
   "outputs": [],
   "source": [
    "across_corr"
   ]
  },
  {
   "cell_type": "code",
   "execution_count": null,
   "id": "d66870f0",
   "metadata": {},
   "outputs": [],
   "source": [
    "a = np.array([1,2,3,4,5,6,7,8])\n",
    "\n",
    "b = np.tile(a, (10,1))"
   ]
  },
  {
   "cell_type": "code",
   "execution_count": null,
   "id": "7b0cde3f",
   "metadata": {},
   "outputs": [],
   "source": [
    "b"
   ]
  },
  {
   "cell_type": "code",
   "execution_count": null,
   "id": "c6961b2b",
   "metadata": {},
   "outputs": [],
   "source": [
    "np.stack((a,a,a), axis=0)"
   ]
  },
  {
   "cell_type": "code",
   "execution_count": null,
   "id": "b53648c4",
   "metadata": {},
   "outputs": [],
   "source": [
    "np.nanmean(b, axis=0)"
   ]
  },
  {
   "cell_type": "code",
   "execution_count": null,
   "id": "ab58d940",
   "metadata": {},
   "outputs": [],
   "source": [
    "from scipy import stats\n",
    "stats.pearsonr(a, a*2)[0]"
   ]
  },
  {
   "cell_type": "code",
   "execution_count": null,
   "id": "bb448c66",
   "metadata": {},
   "outputs": [],
   "source": [
    "import numpy as np\n",
    "import multiprocessing\n",
    "import time"
   ]
  },
  {
   "cell_type": "code",
   "execution_count": null,
   "id": "d90b024c",
   "metadata": {},
   "outputs": [],
   "source": [
    "def square(x):\n",
    "    time.sleep(1)\n",
    "    return x *x "
   ]
  },
  {
   "cell_type": "code",
   "execution_count": null,
   "id": "90216c95",
   "metadata": {},
   "outputs": [],
   "source": [
    "inputs = np.random.randn(100) * 100\n",
    "inputs"
   ]
  },
  {
   "cell_type": "code",
   "execution_count": null,
   "id": "1796f948",
   "metadata": {},
   "outputs": [],
   "source": [
    "pool = multiprocessing.Pool(processes=4)\n",
    "st = time.process_time()\n",
    "outputs = pool.map(square, start)\n",
    "print(f\"Complete {time.process_time() - st} seconds\")"
   ]
  },
  {
   "cell_type": "code",
   "execution_count": null,
   "id": "6a15c94b",
   "metadata": {},
   "outputs": [],
   "source": [
    "import subprocess\n",
    "file = r\"C:\\Users\\Jake\\Desktop\\Python_code\\Lab_Analyses\\Lab_Analyses\\Utilities\\multiprocess_test.py\"\n",
    "start = time.perf_counter()\n",
    "result = subprocess.run([\"Python\", file], capture_output=True)\n",
    "print(f\"{time.perf_counter() - start}\")"
   ]
  },
  {
   "cell_type": "code",
   "execution_count": null,
   "id": "0a1ff958",
   "metadata": {},
   "outputs": [],
   "source": [
    "start = time.perf_counter()\n",
    "for val in inputs:\n",
    "    r = square(val)\n",
    "    \n",
    "print(f\"{time.perf_counter() - start}\")"
   ]
  },
  {
   "cell_type": "code",
   "execution_count": null,
   "id": "e78dff34",
   "metadata": {},
   "outputs": [],
   "source": [
    "result.stdout"
   ]
  },
  {
   "cell_type": "code",
   "execution_count": null,
   "id": "69b885cd",
   "metadata": {},
   "outputs": [],
   "source": [
    "multiprocessing.cpu_count()"
   ]
  },
  {
   "cell_type": "code",
   "execution_count": null,
   "id": "db53a8c4",
   "metadata": {},
   "outputs": [],
   "source": []
  }
 ],
 "metadata": {
  "kernelspec": {
   "display_name": "Python 3 (ipykernel)",
   "language": "python",
   "name": "python3"
  },
  "language_info": {
   "codemirror_mode": {
    "name": "ipython",
    "version": 3
   },
   "file_extension": ".py",
   "mimetype": "text/x-python",
   "name": "python",
   "nbconvert_exporter": "python",
   "pygments_lexer": "ipython3",
   "version": "3.8.20"
  }
 },
 "nbformat": 4,
 "nbformat_minor": 5
}
