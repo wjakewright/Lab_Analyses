{
 "cells": [
  {
   "cell_type": "code",
   "execution_count": 1,
   "id": "8e3c22a8",
   "metadata": {},
   "outputs": [
    {
     "name": "stderr",
     "output_type": "stream",
     "text": [
      "C:\\Users\\Jake\\Documents\\Anaconda3\\envs\\analysis_env\\lib\\site-packages\\outdated\\utils.py:14: OutdatedPackageWarning: The package pingouin is out of date. Your version is 0.5.3, the latest is 0.5.4.\n",
      "Set the environment variable OUTDATED_IGNORE=1 to disable these warnings.\n",
      "  return warn(\n"
     ]
    }
   ],
   "source": [
    "import os\n",
    "import numpy as np\n",
    "import pandas as pd\n",
    "import matplotlib.pyplot as plt\n",
    "from Lab_Analyses.Spine_Analysis_v2.spine_calcium_vs_volume_v2 import spine_calcium_vs_volume\n",
    "from Lab_Analyses.Utilities.save_load_pickle import load_pickle\n",
    "from Lab_Analyses.Plotting.plot_scatter_correlation import plot_scatter_correlation"
   ]
  },
  {
   "cell_type": "code",
   "execution_count": 2,
   "id": "cc89d766",
   "metadata": {},
   "outputs": [],
   "source": [
    "figure_path = r\"C:\\Users\\Jake\\Desktop\\Figures\\grouped_data\\Dual_Spine_Imaging\\Volume_Validation\""
   ]
  },
  {
   "cell_type": "markdown",
   "id": "63bc6078",
   "metadata": {},
   "source": [
    "# Calcium changes and plasticity"
   ]
  },
  {
   "cell_type": "code",
   "execution_count": null,
   "id": "6d60420d",
   "metadata": {
    "scrolled": false
   },
   "outputs": [],
   "source": [
    "# Combined data\n",
    "id_1 = \"JW082\"\n",
    "id_2 = \"JW083\" \n",
    "id_3 = \"JW090\"\n",
    "id_4 = \"JW092\"\n",
    "id_5 = \"JW129\" \n",
    "id_6 = \"JW130\" \n",
    "id_7 = \"JW153\"\n",
    "id_8 = \"JW154\"\n",
    "id_9 = \"JW150\"\n",
    "id_10 = \"JW167\"\n",
    "id_11 = \"JW168\"\n",
    "id_12 = \"JW169\"\n",
    "id_13 = \"JW193\"\n",
    "id_14 = \"JW202\"\n",
    "id_15 = \"JW213\"\n",
    "id_16 = \"JW215\"\n",
    "id_17 = \"JW270\"\n",
    "id_18 = \"JW306\"\n",
    "\n",
    "mouse_list = [id_1, id_2, id_3, id_4, id_5, id_6, id_7, id_8, id_9, id_10, id_11, id_12, id_13, id_14, id_15, id_16, id_17, id_18]\n",
    "\n",
    "spine_calcium_vs_volume(mouse_list, fov_type=\"all\", transform=False, LTP_id=\"JW130 FOV1_apical 9\", \n",
    "                        LTD_id=\"JW150 FOV3_apical 7\", stable_id=\"JW150 FOV3_apical -3\",save=True, save_path=figure_path)"
   ]
  },
  {
   "cell_type": "markdown",
   "id": "3962b008",
   "metadata": {},
   "source": [
    "# EM comparision"
   ]
  },
  {
   "cell_type": "code",
   "execution_count": 3,
   "id": "a2dc0b61",
   "metadata": {},
   "outputs": [],
   "source": [
    "# Load the datasets\n",
    "NH_path = r\"G:\\Analyzed_data\\individual\\NH089\"\n",
    "NH_fname = os.path.join(NH_path, \"NH089_240424_combined_volumes.csv\")\n",
    "NH_data = pd.read_csv(NH_fname)\n",
    "\n",
    "PY_path = r\"G:\\Analyzed_data\\individual\\PY006\"\n",
    "PY_fname = os.path.join(PY_path, \"PY006_241125_combined_volumes.csv\")\n",
    "PY_data = pd.read_csv(PY_fname)"
   ]
  },
  {
   "cell_type": "code",
   "execution_count": 6,
   "id": "6240810f",
   "metadata": {},
   "outputs": [
    {
     "data": {
      "text/html": [
       "<div>\n",
       "<style scoped>\n",
       "    .dataframe tbody tr th:only-of-type {\n",
       "        vertical-align: middle;\n",
       "    }\n",
       "\n",
       "    .dataframe tbody tr th {\n",
       "        vertical-align: top;\n",
       "    }\n",
       "\n",
       "    .dataframe thead th {\n",
       "        text-align: right;\n",
       "    }\n",
       "</style>\n",
       "<table border=\"1\" class=\"dataframe\">\n",
       "  <thead>\n",
       "    <tr style=\"text-align: right;\">\n",
       "      <th></th>\n",
       "      <th>in_vivo</th>\n",
       "      <th>EM</th>\n",
       "    </tr>\n",
       "  </thead>\n",
       "  <tbody>\n",
       "    <tr>\n",
       "      <th>0</th>\n",
       "      <td>2.532817</td>\n",
       "      <td>0.1660</td>\n",
       "    </tr>\n",
       "    <tr>\n",
       "      <th>1</th>\n",
       "      <td>2.737342</td>\n",
       "      <td>0.2490</td>\n",
       "    </tr>\n",
       "    <tr>\n",
       "      <th>2</th>\n",
       "      <td>2.089118</td>\n",
       "      <td>0.1020</td>\n",
       "    </tr>\n",
       "    <tr>\n",
       "      <th>3</th>\n",
       "      <td>1.646274</td>\n",
       "      <td>0.0620</td>\n",
       "    </tr>\n",
       "    <tr>\n",
       "      <th>4</th>\n",
       "      <td>1.633255</td>\n",
       "      <td>0.0720</td>\n",
       "    </tr>\n",
       "    <tr>\n",
       "      <th>...</th>\n",
       "      <td>...</td>\n",
       "      <td>...</td>\n",
       "    </tr>\n",
       "    <tr>\n",
       "      <th>57</th>\n",
       "      <td>1.072487</td>\n",
       "      <td>0.0425</td>\n",
       "    </tr>\n",
       "    <tr>\n",
       "      <th>58</th>\n",
       "      <td>0.784631</td>\n",
       "      <td>0.0458</td>\n",
       "    </tr>\n",
       "    <tr>\n",
       "      <th>59</th>\n",
       "      <td>2.147516</td>\n",
       "      <td>0.1353</td>\n",
       "    </tr>\n",
       "    <tr>\n",
       "      <th>60</th>\n",
       "      <td>1.424498</td>\n",
       "      <td>0.0377</td>\n",
       "    </tr>\n",
       "    <tr>\n",
       "      <th>61</th>\n",
       "      <td>1.616771</td>\n",
       "      <td>0.0804</td>\n",
       "    </tr>\n",
       "  </tbody>\n",
       "</table>\n",
       "<p>62 rows × 2 columns</p>\n",
       "</div>"
      ],
      "text/plain": [
       "     in_vivo      EM\n",
       "0   2.532817  0.1660\n",
       "1   2.737342  0.2490\n",
       "2   2.089118  0.1020\n",
       "3   1.646274  0.0620\n",
       "4   1.633255  0.0720\n",
       "..       ...     ...\n",
       "57  1.072487  0.0425\n",
       "58  0.784631  0.0458\n",
       "59  2.147516  0.1353\n",
       "60  1.424498  0.0377\n",
       "61  1.616771  0.0804\n",
       "\n",
       "[62 rows x 2 columns]"
      ]
     },
     "execution_count": 6,
     "metadata": {},
     "output_type": "execute_result"
    }
   ],
   "source": [
    "# Combine data\n",
    "combined_dataframe = pd.concat([NH_data, PY_data], ignore_index=True)\n",
    "combined_dataframe"
   ]
  },
  {
   "cell_type": "code",
   "execution_count": 5,
   "id": "b0c8bb2d",
   "metadata": {},
   "outputs": [
    {
     "data": {
      "image/png": "[encoded data removed]",
      "text/plain": [
       "<Figure size 300x300 with 1 Axes>"
      ]
     },
     "metadata": {},
     "output_type": "display_data"
    }
   ],
   "source": [
    "# Plot combined data\n",
    "plot_scatter_correlation(\n",
    "    x_var=np.array(combined_dataframe[\"EM\"]),\n",
    "    y_var=np.array(combined_dataframe[\"in_vivo\"]),\n",
    "    CI=95,\n",
    "    title=\"Combined data\",\n",
    "    xtitle=\"EM volume ($um^{3}$)\", \n",
    "    ytitle=\"In vivo area ($um^{2}$)\",\n",
    "    figsize=(3,3),\n",
    "    xlim=(0,0.8),\n",
    "    ylim=(0,8),\n",
    "    marker_size=50,\n",
    "    face_color=\"black\",\n",
    "    cmap_color=\"plasma\",\n",
    "    edge_color=\"white\",\n",
    "    edge_width=1,\n",
    "    line_color=\"red\",\n",
    "    s_alpha=1,\n",
    "    line_width=1.5,\n",
    "    axis_width=1.5,\n",
    "    minor_ticks=\"both\",\n",
    "    tick_len=3,\n",
    "    unity=False,\n",
    "    ax=None,\n",
    "    save=False,\n",
    "    save_path=figure_path,\n",
    ")"
   ]
  },
  {
   "cell_type": "code",
   "execution_count": null,
   "id": "bc63f9a8",
   "metadata": {},
   "outputs": [],
   "source": [
    "# Plot FOVs seperately\n",
    "plot_scatter_correlation(\n",
    "    x_var=np.array(NH_data[\"EM\"]),\n",
    "    y_var=np.array(NH_data[\"in_vivo\"]),\n",
    "    CI=95,\n",
    "    title=\"FOV1 data\",\n",
    "    xtitle=\"EM volume ($um^{3}$)\", \n",
    "    ytitle=\"In vivo area ($um^{2}$)\",\n",
    "    figsize=(3,3),\n",
    "    xlim=(0,0.6),\n",
    "    ylim=(0,6),\n",
    "    marker_size=50,\n",
    "    face_color=\"black\",\n",
    "    cmap_color=None,\n",
    "    edge_color=\"white\",\n",
    "    edge_width=1,\n",
    "    line_color=\"black\",\n",
    "    s_alpha=1,\n",
    "    line_width=1.5,\n",
    "    axis_width=1.5,\n",
    "    minor_ticks=\"both\",\n",
    "    tick_len=3,\n",
    "    unity=False,\n",
    "    ax=None,\n",
    "    save=False,\n",
    "    save_path=figure_path,\n",
    ")"
   ]
  },
  {
   "cell_type": "code",
   "execution_count": null,
   "id": "d6b1f87e",
   "metadata": {},
   "outputs": [],
   "source": [
    "# Plot FOVs seperately\n",
    "plot_scatter_correlation(\n",
    "    x_var=np.array(PY_data[\"EM\"]),\n",
    "    y_var=np.array(PY_data[\"in_vivo\"]),\n",
    "    CI=95,\n",
    "    title=\"FOV2 data\",\n",
    "    xtitle=\"EM volume ($um^{3}$)\", \n",
    "    ytitle=\"In vivo area ($um^{2}$)\",\n",
    "    figsize=(3,3),\n",
    "    xlim=(0,0.8),\n",
    "    ylim=(0,8),\n",
    "    marker_size=50,\n",
    "    face_color=\"black\",\n",
    "    cmap_color=None,\n",
    "    edge_color=\"white\",\n",
    "    edge_width=1,\n",
    "    line_color=\"black\",\n",
    "    s_alpha=1,\n",
    "    line_width=1.5,\n",
    "    axis_width=1.5,\n",
    "    minor_ticks=\"both\",\n",
    "    tick_len=3,\n",
    "    unity=False,\n",
    "    ax=None,\n",
    "    save=False,\n",
    "    save_path=figure_path,\n",
    ")"
   ]
  },
  {
   "cell_type": "code",
   "execution_count": null,
   "id": "b2c2f75e",
   "metadata": {},
   "outputs": [],
   "source": [
    "import numpy as np\n",
    "a = np.zeros(5)\n",
    "b = np.ones(5)\n",
    "c = np.hstack((a.reshape(-1,1),b.reshape(-1,1)))\n",
    "c"
   ]
  },
  {
   "cell_type": "code",
   "execution_count": null,
   "id": "b3590f32",
   "metadata": {},
   "outputs": [],
   "source": [
    "from scipy import signal\n",
    "rng = np.random.default_rng()\n",
    "\n",
    "x = np.arange(128) / 128\n",
    "sig = np.sin(2 * np.pi * x)\n",
    "sig_noise = sig + rng.standard_normal(len(sig))\n",
    "corr = signal.correlate(sig_noise, sig)\n",
    "#lags = signal.correlation_lags(len(sig), len(sig_noise))\n",
    "#corr /= np.max(corr)"
   ]
  },
  {
   "cell_type": "code",
   "execution_count": null,
   "id": "b0a7f798",
   "metadata": {},
   "outputs": [],
   "source": [
    "lags = signal.correlation_lags(len(sig), len(sig_noise))\n",
    "lags"
   ]
  },
  {
   "cell_type": "code",
   "execution_count": null,
   "id": "f178b369",
   "metadata": {},
   "outputs": [],
   "source": [
    "a = np.array([[1,1,1],\n",
    "              [2,2,2]])\n",
    "\n",
    "a"
   ]
  },
  {
   "cell_type": "code",
   "execution_count": null,
   "id": "57a2a3ed",
   "metadata": {},
   "outputs": [],
   "source": [
    "a = np.ones(10)\n",
    "b = np.ones(10)\n",
    "c = [a,b]\n",
    "\n",
    "np.vstack(c).T"
   ]
  },
  {
   "cell_type": "code",
   "execution_count": null,
   "id": "86bf2bcb",
   "metadata": {},
   "outputs": [],
   "source": [
    "d = c[:len(a)]\n",
    "e = c[len(a):]"
   ]
  },
  {
   "cell_type": "code",
   "execution_count": null,
   "id": "b98373b3",
   "metadata": {},
   "outputs": [],
   "source": [
    "print(d)\n",
    "print(e)"
   ]
  },
  {
   "cell_type": "code",
   "execution_count": null,
   "id": "769f3b0d",
   "metadata": {},
   "outputs": [],
   "source": []
  }
 ],
 "metadata": {
  "kernelspec": {
   "display_name": "Python 3 (ipykernel)",
   "language": "python",
   "name": "python3"
  },
  "language_info": {
   "codemirror_mode": {
    "name": "ipython",
    "version": 3
   },
   "file_extension": ".py",
   "mimetype": "text/x-python",
   "name": "python",
   "nbconvert_exporter": "python",
   "pygments_lexer": "ipython3",
   "version": "3.8.18"
  }
 },
 "nbformat": 4,
 "nbformat_minor": 5
}
