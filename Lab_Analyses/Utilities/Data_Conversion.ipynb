{
 "cells": [
  {
   "cell_type": "markdown",
   "id": "ddb0ab5b",
   "metadata": {},
   "source": [
    "# Data Converstion\n",
    "Jupyter Notebook to convert data from .mat files to pickle files\n",
    "Updated to use the generic load_mat function"
   ]
  },
  {
   "cell_type": "code",
   "execution_count": 1,
   "id": "b194a19c",
   "metadata": {},
   "outputs": [],
   "source": [
    "import os\n",
    "from save_load_pickle import save_pickle, load_pickle\n",
    "from load_mat_files import load_mat, merge_imaging_behavior"
   ]
  },
  {
   "cell_type": "markdown",
   "id": "7f91c438",
   "metadata": {},
   "source": [
    "### Loop through list of files to be converted "
   ]
  },
  {
   "cell_type": "markdown",
   "id": "aee03cd6",
   "metadata": {},
   "source": [
    "Section for standalone behavior or imaging files ctrl+/ to comment/uncomment if needed"
   ]
  },
  {
   "cell_type": "code",
   "execution_count": null,
   "id": "aca77847",
   "metadata": {},
   "outputs": [],
   "source": [
    "os.chdir(r'C:\\Users\\Jake\\Desktop\\Processed_data')\n",
    "load_path = r'matlab_data\\to_convert' # string for the directory of where to load the files\n",
    "mat_name =['JW070_220311_Summary_dend1g', 'JW070_220311_Summary_dend1r', \n",
    "           'JW070_220311_Summary_dend2g', 'JW070_220311_Summary_dend2r'] # current name of .mat file\n",
    "mat_name1 = ['JW070_220311_Summary','JW070_220311_Summary','JW070_220311_Summary',\n",
    "             'JW070_220311_Summary'] # name of structure saved in .mat file\n",
    "# mat_name1 = None # uncomment if mat_name and mat_name1 will be the same\n",
    "new_name = ['JW070_220311_Summary_dend1g', 'JW070_220311_Summary_dend1r', \n",
    "           'JW070_220311_Summary_dend2g', 'JW070_220311_Summary_dend2r'] # new name for the pickle file\n",
    "save_path = r'python_data\\converted'\n",
    "for m_name, m_name1, n_name in zip(mat_name,mat_name1,new_name):\n",
    "    mat_data = load_mat(m_name,m_name1,load_path)\n",
    "    save_pickle(n_name,mat_data,save_path)"
   ]
  },
  {
   "cell_type": "markdown",
   "id": "a78d014c",
   "metadata": {},
   "source": [
    "Section for paired behavior and imaging files. ctrl+/ to comment/uncomment if needed"
   ]
  },
  {
   "cell_type": "code",
   "execution_count": 7,
   "id": "8f07bd8d",
   "metadata": {},
   "outputs": [],
   "source": [
    "os.chdir(r'C:\\Users\\Jake\\Desktop\\Processed_data')\n",
    "load_path = r'matlab_data\\to_convert' # string for the directory of where to load the files\n",
    "save_path = r'python_data\\converted' # string for the directory of where to save the files\n",
    "\n",
    "image_mat_name = ['JW030_221213_Summary_5mw','JW030_221213_Summary_8mw','JW030_221213_Summary_10mw',\n",
    "                 'JW030_221213_Summary_15mw'] #Name of the current imaging .mat files \n",
    "image_mat_name1 = ['JW030_221213_Summary','JW030_221213_Summary','JW030_221213_Summary',\n",
    "                  'JW030_221213_Summary'] #Name of the structure within .mat file if not the same as file name\n",
    "beh_mat_name =['JW030_211213_Behavior_5mw','JW030_211213_Behavior_8mw','JW030_211213_Behavior_10mw',\n",
    "                 'JW030_211213_Behavior_15mw'] #Name of the current behavioral .mat files\n",
    "beh_mat_name1 = ['JW030_211213_Behavior','JW030_211213_Behavior','JW030_211213_Behavior',\n",
    "                'JW030_211213_Behavior'] #Name of the strucutre within the .mat file if not the same as file name\n",
    "new_name = ['JW030_211213_5mw','JW030_211213_8mw','JW030_211213_10mw','JW030_211213_15mw'] #Name for the new pickle files\n",
    "\n",
    "for i_name, i_name1, b_name, b_name1, n_name in zip(image_mat_name,image_mat_name1,beh_mat_name,\n",
    "                                                    beh_mat_name1, new_name):\n",
    "    imaging = load_mat(i_name,i_name1,load_path)\n",
    "    behavior = load_mat(b_name,b_name1,load_path)\n",
    "    data = merge_imaging_behavior(imaging,behavior)\n",
    "    save_pickle(n_name,data,save_path)"
   ]
  },
  {
   "cell_type": "code",
   "execution_count": null,
   "id": "0b458afc",
   "metadata": {},
   "outputs": [],
   "source": [
    "# Check if data saved correctly\n",
    "data = load_pickle(new_name,save_path)\n",
    "data[0]['imaging'].Processed_dFoF"
   ]
  },
  {
   "cell_type": "code",
   "execution_count": null,
   "id": "36c813b8",
   "metadata": {},
   "outputs": [],
   "source": []
  }
 ],
 "metadata": {
  "kernelspec": {
   "display_name": "Python 3 (ipykernel)",
   "language": "python",
   "name": "python3"
  },
  "language_info": {
   "codemirror_mode": {
    "name": "ipython",
    "version": 3
   },
   "file_extension": ".py",
   "mimetype": "text/x-python",
   "name": "python",
   "nbconvert_exporter": "python",
   "pygments_lexer": "ipython3",
   "version": "3.9.7"
  }
 },
 "nbformat": 4,
 "nbformat_minor": 5
}
