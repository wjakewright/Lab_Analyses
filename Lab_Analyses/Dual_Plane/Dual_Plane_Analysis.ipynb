{
 "cells": [
  {
   "cell_type": "markdown",
   "id": "920b968d",
   "metadata": {},
   "source": [
    "# Dual Plane Analysis\n",
    "\n",
    "### Notebook for processing and analyzing dual plane somatic and dendritic recordings"
   ]
  },
  {
   "cell_type": "code",
   "execution_count": null,
   "id": "3d61513b",
   "metadata": {},
   "outputs": [],
   "source": [
    "import os\n",
    "import numpy as np\n",
    "from Lab_Analyses.Dual_Plane.organize_dual_plane_data import organize_dual_plane_data\n",
    "from Lab_Analyses.Dual_Plane.analyze_dual_plane_data import analyze_dual_plane_data\n",
    "from Lab_Analyses.Dual_Plane import plot_dual_plane_data as plotting\n",
    "from Lab_Analyses.Utilities.save_load_pickle import load_pickle, save_pickle\n",
    "%matplotlib notebook"
   ]
  },
  {
   "cell_type": "markdown",
   "id": "e1353a9f",
   "metadata": {},
   "source": [
    "### Datasets\n",
    "Specify which mice to be analyzed"
   ]
  },
  {
   "cell_type": "code",
   "execution_count": null,
   "id": "bf9226f4",
   "metadata": {},
   "outputs": [],
   "source": [
    "# Mouse ids\n",
    "id_1 = \"JW129\"\n",
    "id_2 = \"JW130\"\n",
    "id_3 = \"JW152\"\n",
    "\n",
    "mouse_list = [id_1, id_2]\n"
   ]
  },
  {
   "cell_type": "markdown",
   "id": "4f7e1191",
   "metadata": {},
   "source": [
    "### Data Organization\n",
    "Organize the dual plane data"
   ]
  },
  {
   "cell_type": "code",
   "execution_count": null,
   "id": "0bd242f5",
   "metadata": {},
   "outputs": [],
   "source": [
    "# Reprocess?\n",
    "reprocess = True\n",
    "\n",
    "# Inputs\n",
    "data_dir = \"two_plane\"\n",
    "file_types = {\"Dendrite\": \"dendrite\", \"Soma\": \"soma\"}\n",
    "\n",
    "# Preprocess data\n",
    "for mouse in mouse_list:\n",
    "    organize_dual_plane_data(mouse_id=mouse, data_dir=data_dir, file_types=file_types, reprocess=reprocess, save=True)"
   ]
  },
  {
   "cell_type": "markdown",
   "id": "3bcb0622",
   "metadata": {},
   "source": [
    "### Analyze dual plane data"
   ]
  },
  {
   "cell_type": "code",
   "execution_count": null,
   "id": "f221dc01",
   "metadata": {},
   "outputs": [],
   "source": [
    "# Save path\n",
    "group_path = r'C:\\Users\\Jake\\Desktop\\Analyzed_data\\grouped'\n",
    "experiment_dir = \"Dual_Spine_Imaging\"\n",
    "dual_plane_dir = \"Dual_Plane\"\n",
    "dual_plane_path = os.path.join(group_path, experiment_dir, dual_plane_dir)\n",
    "\n",
    "# Analyze\n",
    "reanalyze = True\n",
    "if reanalyze:\n",
    "    dual_plane_data = analyze_dual_plane_data(mouse_list, save=True, save_path=dual_plane_path)\n",
    "else:\n",
    "    dual_plane_data = load_pickle([\"analyzed_dual_plane_data\"], path=dual_plane_path)[0]"
   ]
  },
  {
   "cell_type": "markdown",
   "id": "09a85d29",
   "metadata": {},
   "source": [
    "### Visualize Data"
   ]
  },
  {
   "cell_type": "code",
   "execution_count": null,
   "id": "81024a11",
   "metadata": {},
   "outputs": [],
   "source": [
    "# Set up figure save path\n",
    "initial_path = r\"C:\\Users\\Jake\\Desktop\\Figures\\grouped_data\"\n",
    "fig_path = os.path.join(initial_path, experiment_dir, dual_plane_dir)\n",
    "if not os.path.isdir(fig_path):\n",
    "    os.makedirs(fig_path)"
   ]
  },
  {
   "cell_type": "code",
   "execution_count": null,
   "id": "d672b5e0",
   "metadata": {
    "scrolled": false
   },
   "outputs": [],
   "source": [
    "# Plot the traces\n",
    "plotting.plot_soma_dend_traces(\n",
    "    dual_plane_data,\n",
    "    colors=[\"forestgreen\", \"black\"],\n",
    "    norm=False,\n",
    "    subselect=None, \n",
    "    save=False, \n",
    "    save_path=fig_path,\n",
    ")"
   ]
  },
  {
   "cell_type": "code",
   "execution_count": null,
   "id": "f04e620e",
   "metadata": {
    "scrolled": false
   },
   "outputs": [],
   "source": [
    "# Plot fraction coactivity\n",
    "plotting.plot_soma_dend_coactivity(\n",
    "    dual_plane_data,\n",
    "    colors=[\"black\", \"forestgreen\"],\n",
    "    mean_type=\"mean\", \n",
    "    err_type=\"sem\",\n",
    "    norm=False,\n",
    "    trace_avg=\"all\",\n",
    "    figsize=(4,4),\n",
    "    save=False,\n",
    "    save_path=fig_path,\n",
    ")"
   ]
  },
  {
   "cell_type": "code",
   "execution_count": null,
   "id": "0cea8f9f",
   "metadata": {
    "scrolled": false
   },
   "outputs": [],
   "source": [
    "# Plot paired event amplitudes\n",
    "plotting.plot_amplitude_correlations(\n",
    "    dual_plane_data,\n",
    "    norm=True,\n",
    "    dend_examples=[1,6],\n",
    "    soma_examples=[1,6],\n",
    "    color=[\"black\", \"black\"],\n",
    "    figsize=(11, 5.5),\n",
    "    corr_lim=(0,1.2),\n",
    "    s_size=25,\n",
    "    s_alpha=0.8,\n",
    "    bins=15,\n",
    "    save=False,\n",
    "    save_path=fig_path,\n",
    ")"
   ]
  },
  {
   "cell_type": "code",
   "execution_count": null,
   "id": "0e6b1c96",
   "metadata": {},
   "outputs": [],
   "source": [
    "from Lab_Analyses.Spine_Analysis_v2.preprocess_spine_data import organize_dual_spine_data"
   ]
  },
  {
   "cell_type": "code",
   "execution_count": null,
   "id": "e493c2b0",
   "metadata": {},
   "outputs": [],
   "source": []
  },
  {
   "cell_type": "code",
   "execution_count": null,
   "id": "a2e94e23",
   "metadata": {},
   "outputs": [],
   "source": [
    "from Lab_Analyses.Utilities.data_utilities import pad_array_to_length"
   ]
  },
  {
   "cell_type": "code",
   "execution_count": null,
   "id": "dbeb644c",
   "metadata": {},
   "outputs": [],
   "source": [
    "mouse_id = \"JW130\"\n",
    "organize_dual_spine_data(mouse_id, channels={\"GluSnFr\": \"GreenCh\", \"Calcium\": \"RedCh\"},\n",
    "    fov_type=\"apical\",\n",
    "    redetection=False,\n",
    "    save=True,\n",
    "    followup=True,)"
   ]
  },
  {
   "cell_type": "code",
   "execution_count": null,
   "id": "85acd3a9",
   "metadata": {},
   "outputs": [],
   "source": [
    "from Lab_Analyses.Utilities.save_load_pickle import load_pickle\n",
    "path = r\"C:\\Users\\Jake\\Desktop\\Analyzed_data\\individual\\JW130\\spine_data_test\\FOV1_apical\"\n",
    "fname1 = \"JW130_FOV1_apical_Early_dual_spine_data.pickle\"\n",
    "fname2 = \"JW130_FOV1_apical_Middle_dual_spine_data.pickle\"\n",
    "fname3 = \"JW130_FOV1_apical_Late_dual_spine_data.pickle\"\n",
    "files = load_pickle([fname1, fname2, fname3], path=path)"
   ]
  },
  {
   "cell_type": "code",
   "execution_count": null,
   "id": "80d13e62",
   "metadata": {},
   "outputs": [],
   "source": [
    "f1 = files[0]\n",
    "f2 = files[1]\n",
    "f3 = files[2]"
   ]
  },
  {
   "cell_type": "code",
   "execution_count": null,
   "id": "d0c596e7",
   "metadata": {},
   "outputs": [],
   "source": [
    "s1 = f1.dendrite_calcium_activity\n",
    "s2 = f2.dendrite_calcium_activity\n",
    "s3 = f3.dendrite_calcium_activity"
   ]
  },
  {
   "cell_type": "code",
   "execution_count": null,
   "id": "07c36c82",
   "metadata": {},
   "outputs": [],
   "source": [
    "f1.movement_spines"
   ]
  },
  {
   "cell_type": "code",
   "execution_count": null,
   "id": "6d53aa03",
   "metadata": {},
   "outputs": [],
   "source": [
    "import numpy as np\n",
    "np.zeros(10).astype(bool)"
   ]
  },
  {
   "cell_type": "code",
   "execution_count": null,
   "id": "1e65a86b",
   "metadata": {},
   "outputs": [],
   "source": [
    "a = {}\n",
    "b = {}\n",
    "b[\"World\"] = []\n",
    "a[\"Hello\"] = b"
   ]
  },
  {
   "cell_type": "code",
   "execution_count": null,
   "id": "6eae49c5",
   "metadata": {},
   "outputs": [],
   "source": [
    "a[\"Hello\"][\"World\"] = 26"
   ]
  },
  {
   "cell_type": "code",
   "execution_count": null,
   "id": "522f7780",
   "metadata": {},
   "outputs": [],
   "source": [
    "a = np.array([1,2,np.nan, 3, 4, np.nan, 5])\n"
   ]
  },
  {
   "cell_type": "code",
   "execution_count": null,
   "id": "910dcf44",
   "metadata": {},
   "outputs": [],
   "source": [
    "a[np.isnan(a)] = 0"
   ]
  },
  {
   "cell_type": "code",
   "execution_count": 1,
   "id": "51d32ab0",
   "metadata": {},
   "outputs": [],
   "source": [
    "from Lab_Analyses.Spine_Analysis_v2.spine_volume_normalization import batch_spine_volume_normalization"
   ]
  },
  {
   "cell_type": "code",
   "execution_count": 2,
   "id": "4ec98862",
   "metadata": {},
   "outputs": [
    {
     "data": {
      "text/plain": [
       "{'JW082': {'FOV3_apical': array([2.05829591, 2.05718664, 4.53389519, 2.39993216, 2.16512091,\n",
       "         8.66368201, 1.96614647, 5.34969086, 3.07852267, 2.12861424,\n",
       "         2.11478741, 3.77346301, 4.99733143, 4.22804343, 2.2613296 ,\n",
       "         2.70922558, 2.18412133, 2.55322721, 4.7900176 , 2.14177934,\n",
       "         2.18634661, 3.0383958 , 2.5656933 , 2.44295806, 4.02836933,\n",
       "         3.45349356, 3.44289499, 2.04160502, 2.03427571, 2.11803714,\n",
       "         4.18227646, 2.90143027, 2.85688289, 5.47624424, 4.82814821,\n",
       "         3.32165341, 2.73166306, 2.44224913, 4.56484566, 2.20256772,\n",
       "         2.68877105, 2.05863203, 2.74457764, 7.47763352])},\n",
       " 'JW083': {'FOV3_apical': array([4.32639371, 3.2636731 , 2.18472436, 2.01233353, 2.83038276,\n",
       "         3.35341581, 2.84582581, 2.22281521, 8.29592088, 2.77660962,\n",
       "         2.40513605, 2.04829382, 2.68129515, 4.17728234, 2.28108598,\n",
       "         2.51646037, 2.1122195 , 2.2598504 , 3.16036747, 2.21861236,\n",
       "         2.89734107, 2.25111035, 2.10804258, 7.30078334, 2.65423455,\n",
       "         3.83270042, 4.39593089, 5.10324915, 3.78720429])},\n",
       " 'JW090': {'FOV2_apical': array([4.12341136, 4.85782682, 2.54652459, 2.39004267, 2.27806208,\n",
       "         2.74023   , 3.04724317, 2.03785516, 2.58644979, 3.81943559,\n",
       "         6.58806427, 3.52581254, 2.27853933, 3.01024   , 4.09019608,\n",
       "         4.94120362, 2.63289498, 2.06723728, 2.74932354, 3.17611173,\n",
       "         2.79880463, 3.07985585, 2.86267603, 2.17311618, 2.25241244,\n",
       "         3.32298716, 2.2195249 , 7.8778893 , 2.39269145, 4.39219331,\n",
       "         2.68817147, 3.724897  ]),\n",
       "  'FOV3_apical': array([3.82019855, 2.94058041, 2.72301305, 3.14621542, 6.21469125,\n",
       "         4.64228912, 4.10024861, 2.78147124, 3.90239964, 2.93689757,\n",
       "         2.68309671, 2.3343152 , 2.46409711, 4.25067084, 4.01981588,\n",
       "         2.07102656, 2.3640962 , 3.93383032, 6.28655636, 2.12481891,\n",
       "         2.29496001, 2.77641611, 2.95318481, 2.60203954, 2.88245838,\n",
       "         6.22792148, 3.06769529, 2.60434237, 3.11505673, 2.81652597,\n",
       "         2.70950754, 2.58006977, 3.29769671, 2.35556296, 2.27146887,\n",
       "         2.19103572, 7.98268817, 5.22369709, 3.1182982 ])},\n",
       " 'JW092': {'FOV1_apical': array([3.2641064 , 2.34606996, 2.18580403, 2.18710883, 2.80800749,\n",
       "         3.45280318, 4.74836746, 1.97911552, 2.80748867, 2.5464435 ,\n",
       "         5.11858723, 2.72500361, 5.20155779, 2.0821208 , 3.12991686,\n",
       "         8.3420816 , 3.57762495, 2.58731612, 3.88505956, 2.42226583,\n",
       "         2.32084603, 4.60543316, 3.96274264, 2.09097337, 3.10253974,\n",
       "         3.29232364, 3.95546806, 5.48276734, 2.76479442, 2.79069642,\n",
       "         2.17546962, 2.43973633, 2.52351115, 2.71995686, 3.27677299,\n",
       "         1.95265885, 2.59214748, 2.24900768, 2.04639566, 2.28787316,\n",
       "         4.47619318, 2.57546552, 2.02392941, 2.71531907, 2.05383462,\n",
       "         4.38122456, 2.64416324, 2.11481585, 4.03579322, 3.12167149,\n",
       "         2.0034564 , 2.27427316, 2.15035833, 2.42432232, 2.71715981,\n",
       "         3.8486094 ]),\n",
       "  'FOV2_apical': array([3.48115125, 3.77466102, 3.23205518, 2.91520493, 2.43679086,\n",
       "         2.79221919, 2.35651767, 2.54222098, 2.18359608, 2.51014312,\n",
       "         2.40143436, 2.65813504, 1.88936274, 2.00618466, 2.00974071,\n",
       "         2.84254288, 2.21954465, 2.52477923, 4.88164406, 2.80495311,\n",
       "         3.7690756 , 3.14950129, 7.08220389, 4.73651028, 3.89852689,\n",
       "         2.353931  , 4.7956002 , 2.84120817, 2.48677218, 5.14928008,\n",
       "         4.35234052, 5.45041168, 3.46641866, 2.36810925, 6.42035626,\n",
       "         2.80952457, 5.20632532, 4.78631061, 2.70374575, 5.85373858,\n",
       "         5.57792679, 2.43528184, 2.64098123, 3.12827144, 7.61601521,\n",
       "         2.57421083, 3.20590293, 2.59369959, 2.12949512, 2.56346972,\n",
       "         2.69210307, 3.72337212, 2.88114124, 2.58635319, 6.92519333,\n",
       "         3.50452842, 2.78863158, 6.74066061, 2.48661833, 2.1902877 ,\n",
       "         2.65885248, 2.20576261, 2.31222501, 2.01288487, 2.35153842,\n",
       "         2.46023987, 3.29412065, 6.49501189, 2.44710883, 2.2613631 ,\n",
       "         2.18372086])},\n",
       " 'JW126': {'FOV2_apical': array([2.22029112, 2.9761182 , 2.39883038, 2.87028112, 2.03448541,\n",
       "         3.03148581, 3.367584  , 3.03124395, 3.95787353, 3.05131011,\n",
       "         3.77765315, 2.61973464, 2.50540991, 2.13246641, 2.03741633,\n",
       "         1.92433221, 1.84073206, 1.84933676, 2.00339791, 2.78486243,\n",
       "         2.64670322, 3.62451829, 2.63073093, 3.36827751, 3.78609164,\n",
       "         3.36035145, 3.49036151])},\n",
       " 'JW129': {'FOV2_apical': array([2.43901447, 2.40602733, 3.51741627, 4.41337034, 5.19577346,\n",
       "         3.27223269, 2.79830052, 5.17565655, 2.47053594, 5.36277381,\n",
       "         2.46018927, 3.39191267, 2.1003    , 3.86438338, 5.71286151,\n",
       "         2.38245564, 2.30143236, 9.51947599, 3.84421628, 4.3015946 ,\n",
       "         2.01027104, 2.55044736, 6.22965613, 2.04589011, 2.75866846,\n",
       "         4.58699241, 3.83604941, 4.09348565, 2.49331645, 5.10273885,\n",
       "         2.13889221, 3.05595755, 2.01577379, 2.63528591, 3.26127813,\n",
       "         4.33708556, 2.61907601]),\n",
       "  'FOV3_apical': array([4.26884749, 2.67533182, 2.96264025, 3.09380605, 3.96979903,\n",
       "         2.47757592, 2.46350388, 3.29548565, 2.63104687, 2.99279203,\n",
       "         3.61872847, 2.90382133, 2.92466783, 3.69588471, 3.0812649 ,\n",
       "         2.03766362, 3.2782251 , 2.95819375, 2.13379938, 4.09558981,\n",
       "         2.06582132, 3.25162956])},\n",
       " 'JW130': {'FOV1_apical': array([3.36738849, 2.27305574, 2.34929088, 4.15678066, 1.96737402,\n",
       "         2.56336619, 5.15539398, 2.0546267 , 2.58989637, 2.37489358,\n",
       "         3.82043983, 2.13856105, 3.02176299, 2.72127776, 3.35123407,\n",
       "         1.95799462, 2.21558324, 3.05717894, 2.10841523, 3.04462263,\n",
       "         3.45723408, 5.99892834, 5.03075422, 8.05271753, 3.13098459,\n",
       "         4.60144258, 3.27365461, 4.04650392, 4.94170968])},\n",
       " 'JW150': {'FOV3_apical': array([3.32663565, 4.71165832, 2.78026546, 3.66693294, 2.8541073 ,\n",
       "         2.6371479 , 3.20772015, 4.54917467, 3.00271348, 4.30612657,\n",
       "         2.49066605, 2.76922285, 2.25452611, 2.6550766 , 2.28469147,\n",
       "         2.2373377 , 3.27765468, 2.54075992, 2.13236295, 2.21087297,\n",
       "         2.48981737, 2.13119922, 2.27623824, 3.4624735 , 2.69809247,\n",
       "         3.13051558, 6.50842388, 2.23082507, 2.14687849, 3.26115967,\n",
       "         2.1611384 , 2.43092247, 4.11722645, 3.43280588, 2.59271331,\n",
       "         2.52922205, 2.89553127, 3.44054269, 3.26290064, 2.80085156,\n",
       "         2.90470295, 2.00374376])}}"
      ]
     },
     "execution_count": 2,
     "metadata": {},
     "output_type": "execute_result"
    },
    {
     "data": {
      "image/png": "[encoded data removed]",
      "text/plain": [
       "<Figure size 600x350 with 2 Axes>"
      ]
     },
     "metadata": {},
     "output_type": "display_data"
    }
   ],
   "source": [
    "# Mouse ids\n",
    "id_1 = \"JW082\"\n",
    "id_2 = \"JW083\"\n",
    "id_3 = \"JW090\"\n",
    "id_4 = \"JW092\"\n",
    "id_5 = \"JW126\"\n",
    "id_6 = \"JW129\"\n",
    "id_7 = \"JW130\"\n",
    "id_8 = \"JW150\"\n",
    "\n",
    "mouse_list = [id_1, id_2, id_3, id_4, id_5, id_6, id_7, id_8]\n",
    "\n",
    "batch_spine_volume_normalization(mouse_list, \"Early\", \"apical\", \"Calcium\", plot=True)"
   ]
  },
  {
   "cell_type": "code",
   "execution_count": null,
   "id": "439fb9c8",
   "metadata": {},
   "outputs": [],
   "source": []
  }
 ],
 "metadata": {
  "kernelspec": {
   "display_name": "Python 3 (ipykernel)",
   "language": "python",
   "name": "python3"
  },
  "language_info": {
   "codemirror_mode": {
    "name": "ipython",
    "version": 3
   },
   "file_extension": ".py",
   "mimetype": "text/x-python",
   "name": "python",
   "nbconvert_exporter": "python",
   "pygments_lexer": "ipython3",
   "version": "3.8.15"
  }
 },
 "nbformat": 4,
 "nbformat_minor": 5
}
