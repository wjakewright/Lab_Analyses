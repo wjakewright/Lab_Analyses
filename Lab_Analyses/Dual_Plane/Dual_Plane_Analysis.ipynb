{
 "cells": [
  {
   "cell_type": "markdown",
   "id": "920b968d",
   "metadata": {},
   "source": [
    "# Dual Plane Analysis\n",
    "\n",
    "### Notebook for processing and analyzing dual plane somatic and dendritic recordings"
   ]
  },
  {
   "cell_type": "code",
   "execution_count": null,
   "id": "3d61513b",
   "metadata": {},
   "outputs": [],
   "source": [
    "import os\n",
    "import numpy as np\n",
    "from Lab_Analyses.Dual_Plane.organize_dual_plane_data import organize_dual_plane_data\n",
    "from Lab_Analyses.Dual_Plane.analyze_dual_plane_data import analyze_dual_plane_data\n",
    "from Lab_Analyses.Dual_Plane import plot_dual_plane_data as plotting\n",
    "from Lab_Analyses.Utilities.save_load_pickle import load_pickle, save_pickle\n",
    "%matplotlib notebook"
   ]
  },
  {
   "cell_type": "markdown",
   "id": "e1353a9f",
   "metadata": {},
   "source": [
    "### Datasets\n",
    "Specify which mice to be analyzed"
   ]
  },
  {
   "cell_type": "code",
   "execution_count": null,
   "id": "bf9226f4",
   "metadata": {},
   "outputs": [],
   "source": [
    "# Mouse ids\n",
    "id_1 = \"JW129\"\n",
    "id_2 = \"JW130\"\n",
    "id_3 = \"JW152\"\n",
    "\n",
    "mouse_list = [id_1, id_2]\n"
   ]
  },
  {
   "cell_type": "markdown",
   "id": "4f7e1191",
   "metadata": {},
   "source": [
    "### Data Organization\n",
    "Organize the dual plane data"
   ]
  },
  {
   "cell_type": "code",
   "execution_count": null,
   "id": "0bd242f5",
   "metadata": {},
   "outputs": [],
   "source": [
    "# Reprocess?\n",
    "reprocess = True\n",
    "\n",
    "# Inputs\n",
    "data_dir = \"two_plane\"\n",
    "file_types = {\"Dendrite\": \"dendrite\", \"Soma\": \"soma\"}\n",
    "\n",
    "# Preprocess data\n",
    "for mouse in mouse_list:\n",
    "    organize_dual_plane_data(mouse_id=mouse, data_dir=data_dir, file_types=file_types, reprocess=reprocess, save=True)"
   ]
  },
  {
   "cell_type": "markdown",
   "id": "3bcb0622",
   "metadata": {},
   "source": [
    "### Analyze dual plane data"
   ]
  },
  {
   "cell_type": "code",
   "execution_count": null,
   "id": "f221dc01",
   "metadata": {},
   "outputs": [],
   "source": [
    "# Save path\n",
    "group_path = r'C:\\Users\\Jake\\Desktop\\Analyzed_data\\grouped'\n",
    "experiment_dir = \"Dual_Spine_Imaging\"\n",
    "dual_plane_dir = \"Dual_Plane\"\n",
    "dual_plane_path = os.path.join(group_path, experiment_dir, dual_plane_dir)\n",
    "\n",
    "# Analyze\n",
    "reanalyze = True\n",
    "if reanalyze:\n",
    "    dual_plane_data = analyze_dual_plane_data(mouse_list, save=True, save_path=dual_plane_path)\n",
    "else:\n",
    "    dual_plane_data = load_pickle([\"analyzed_dual_plane_data\"], path=dual_plane_path)[0]"
   ]
  },
  {
   "cell_type": "markdown",
   "id": "09a85d29",
   "metadata": {},
   "source": [
    "### Visualize Data"
   ]
  },
  {
   "cell_type": "code",
   "execution_count": null,
   "id": "81024a11",
   "metadata": {},
   "outputs": [],
   "source": [
    "# Set up figure save path\n",
    "initial_path = r\"C:\\Users\\Jake\\Desktop\\Figures\\grouped_data\"\n",
    "fig_path = os.path.join(initial_path, experiment_dir, dual_plane_dir)\n",
    "if not os.path.isdir(fig_path):\n",
    "    os.makedirs(fig_path)"
   ]
  },
  {
   "cell_type": "code",
   "execution_count": null,
   "id": "d672b5e0",
   "metadata": {
    "scrolled": false
   },
   "outputs": [],
   "source": [
    "# Plot the traces\n",
    "plotting.plot_soma_dend_traces(\n",
    "    dual_plane_data,\n",
    "    colors=[\"forestgreen\", \"black\"],\n",
    "    norm=False,\n",
    "    subselect=None, \n",
    "    save=False, \n",
    "    save_path=fig_path,\n",
    ")"
   ]
  },
  {
   "cell_type": "code",
   "execution_count": null,
   "id": "f04e620e",
   "metadata": {
    "scrolled": false
   },
   "outputs": [],
   "source": [
    "# Plot fraction coactivity\n",
    "plotting.plot_soma_dend_coactivity(\n",
    "    dual_plane_data,\n",
    "    colors=[\"black\", \"forestgreen\"],\n",
    "    mean_type=\"mean\", \n",
    "    err_type=\"sem\",\n",
    "    norm=False,\n",
    "    trace_avg=\"all\",\n",
    "    figsize=(4,4),\n",
    "    save=False,\n",
    "    save_path=fig_path,\n",
    ")"
   ]
  },
  {
   "cell_type": "code",
   "execution_count": null,
   "id": "0cea8f9f",
   "metadata": {
    "scrolled": false
   },
   "outputs": [],
   "source": [
    "# Plot paired event amplitudes\n",
    "plotting.plot_amplitude_correlations(\n",
    "    dual_plane_data,\n",
    "    norm=True,\n",
    "    dend_examples=[1,6],\n",
    "    soma_examples=[1,6],\n",
    "    color=[\"black\", \"black\"],\n",
    "    figsize=(11, 5.5),\n",
    "    corr_lim=(0,1.2),\n",
    "    s_size=25,\n",
    "    s_alpha=0.8,\n",
    "    bins=15,\n",
    "    save=False,\n",
    "    save_path=fig_path,\n",
    ")"
   ]
  },
  {
   "cell_type": "code",
   "execution_count": null,
   "id": "bf0207be",
   "metadata": {},
   "outputs": [],
   "source": [
    "from Lab_Analyses.Spine_Analysis_v2.preprocess_spine_data import organize_dual_spine_data"
   ]
  },
  {
   "cell_type": "code",
   "execution_count": null,
   "id": "740caa36",
   "metadata": {},
   "outputs": [],
   "source": []
  },
  {
   "cell_type": "code",
   "execution_count": null,
   "id": "e51df2d8",
   "metadata": {},
   "outputs": [],
   "source": [
    "from Lab_Analyses.Utilities.data_utilities import pad_array_to_length"
   ]
  },
  {
   "cell_type": "code",
   "execution_count": null,
   "id": "b10ad5e3",
   "metadata": {},
   "outputs": [],
   "source": [
    "mouse_id = \"JW130\"\n",
    "organize_dual_spine_data(mouse_id, channels={\"GluSnFr\": \"GreenCh\", \"Calcium\": \"RedCh\"},\n",
    "    fov_type=\"apical\",\n",
    "    redetection=False,\n",
    "    reprocess=False,\n",
    "    save=True,\n",
    "    followup=True,)"
   ]
  },
  {
   "cell_type": "code",
   "execution_count": null,
   "id": "3fb9df34",
   "metadata": {},
   "outputs": [],
   "source": [
    "from Lab_Analyses.Utilities.save_load_pickle import load_pickle\n",
    "path = r\"C:\\Users\\Jake\\Desktop\\Analyzed_data\\individual\\JW130\\spine_data_test\\FOV1_apical\"\n",
    "fname1 = \"JW130_FOV1_apical_Early_dual_spine_data.pickle\"\n",
    "fname2 = \"JW130_FOV1_apical_Middle_dual_spine_data.pickle\"\n",
    "fname3 = \"JW130_FOV1_apical_Late_dual_spine_data.pickle\"\n",
    "files = load_pickle([fname1, fname2, fname3], path=path)"
   ]
  },
  {
   "cell_type": "code",
   "execution_count": null,
   "id": "95d0b984",
   "metadata": {},
   "outputs": [],
   "source": [
    "f1 = files[0]\n",
    "f2 = files[1]\n",
    "f3 = files[2]"
   ]
  },
  {
   "cell_type": "code",
   "execution_count": null,
   "id": "f55e2081",
   "metadata": {},
   "outputs": [],
   "source": [
    "f1.spine_groupings"
   ]
  },
  {
   "cell_type": "code",
   "execution_count": null,
   "id": "86280e16",
   "metadata": {},
   "outputs": [],
   "source": [
    "f1.spine_positions"
   ]
  },
  {
   "cell_type": "code",
   "execution_count": null,
   "id": "8aa4419a",
   "metadata": {},
   "outputs": [],
   "source": [
    "from Lab_Analyses.Spine_Analysis_v2.structural_plasticity import calculate_spine_dynamics"
   ]
  },
  {
   "cell_type": "code",
   "execution_count": null,
   "id": "1c09ed18",
   "metadata": {},
   "outputs": [],
   "source": [
    "calculate_spine_dynamics([f1.spine_flags,f2.spine_flags, f3.spine_flags], \n",
    "                         [f1.spine_positions,f2.spine_positions, f3.spine_positions], \n",
    "                         [f1.spine_groupings,f2.spine_groupings, f3.spine_groupings])"
   ]
  },
  {
   "cell_type": "code",
   "execution_count": null,
   "id": "6a66948b",
   "metadata": {},
   "outputs": [],
   "source": [
    "a[\"Hello\"][\"World\"] = 26"
   ]
  },
  {
   "cell_type": "code",
   "execution_count": null,
   "id": "e35b7e6c",
   "metadata": {},
   "outputs": [],
   "source": [
    "from dataclasses import dataclass\n",
    "\n",
    "@dataclass\n",
    "class A:\n",
    "    a: int\n",
    "    b: int\n",
    "    show: str\n",
    "        \n",
    "    def save(self):\n",
    "\n",
    "        print(self.show)"
   ]
  },
  {
   "cell_type": "code",
   "execution_count": null,
   "id": "97b8606f",
   "metadata": {},
   "outputs": [],
   "source": [
    "from Lab_Analyses.Utilities.save_load_pickle import load_pickle\n",
    "\n",
    "load_pickle([\"Hellow_World\"])"
   ]
  },
  {
   "cell_type": "code",
   "execution_count": 1,
   "id": "c9c8b741",
   "metadata": {},
   "outputs": [],
   "source": [
    "from Lab_Analyses.Spine_Analysis_v2.spine_volume_normalization import batch_spine_volume_normalization"
   ]
  },
  {
   "cell_type": "code",
   "execution_count": 2,
   "id": "5104fc1b",
   "metadata": {
    "scrolled": false
   },
   "outputs": [
    {
     "name": "stdout",
     "output_type": "stream",
     "text": [
      "4.6844022999999995\n"
     ]
    },
    {
     "data": {
      "image/png": "[encoded data removed]",
      "text/plain": [
       "<Figure size 600x350 with 2 Axes>"
      ]
     },
     "metadata": {},
     "output_type": "display_data"
    }
   ],
   "source": [
    "# Mouse ids\n",
    "id_1 = \"JW082\"\n",
    "id_2 = \"JW083\"\n",
    "id_3 = \"JW090\"\n",
    "id_4 = \"JW092\"\n",
    "id_5 = \"JW126\"\n",
    "id_6 = \"JW129\"\n",
    "id_7 = \"JW130\"\n",
    "id_8 = \"JW150\"\n",
    "mouse_list = [id_1, id_2, id_3, id_4, id_5, id_6, id_7, id_8]\n",
    "from timeit import default_timer as timer\n",
    "\n",
    "start = timer()\n",
    "batch_spine_volume_normalization(mouse_list, \"Early\", \"apical\", \"GluSnFr\", plot=True, zscore=True)\n",
    "end = timer()\n",
    "print(end - start) # Time in seconds, e.g. 5.38091952400282\n"
   ]
  },
  {
   "cell_type": "code",
   "execution_count": 3,
   "id": "f513a12f",
   "metadata": {},
   "outputs": [],
   "source": [
    "import numpy as np\n",
    "a = np.array([True, False, True])\n",
    "b = np.array([True, True, True])"
   ]
  },
  {
   "cell_type": "code",
   "execution_count": 7,
   "id": "96fa3bf7",
   "metadata": {},
   "outputs": [
    {
     "data": {
      "text/plain": [
       "array([False,  True, False])"
      ]
     },
     "execution_count": 7,
     "metadata": {},
     "output_type": "execute_result"
    }
   ],
   "source": [
    "(b.astype(int) - a.astype(int)).astype(bool)"
   ]
  },
  {
   "cell_type": "code",
   "execution_count": 11,
   "id": "6cb0a5db",
   "metadata": {},
   "outputs": [],
   "source": [
    "from dataclasses import dataclass\n",
    "@dataclass\n",
    "class A:\n",
    "    a: np.ndarray\n",
    "    b: np.ndarray"
   ]
  },
  {
   "cell_type": "code",
   "execution_count": 12,
   "id": "9dc2da11",
   "metadata": {},
   "outputs": [],
   "source": [
    "a = A(a=np.array([1,1]), b=np.array([2,2]))\n",
    "b = A(a=np.array([3,3]), b=np.array([4,4]))"
   ]
  },
  {
   "cell_type": "code",
   "execution_count": 33,
   "id": "80dd26f1",
   "metadata": {},
   "outputs": [],
   "source": [
    "class  C:\n",
    "    def __init__(self, data_list):\n",
    "        attributes = list(data_list[0].__dict__.keys())\n",
    "        for i, data in enumerate(data_list):\n",
    "            for attribute in attributes:\n",
    "                var = getattr(data, attribute)\n",
    "                if i == 0:\n",
    "                    setattr(self, attribute, var)\n",
    "                else:\n",
    "                    old_var = getattr(self, attribute)\n",
    "                    print(type(old_var))\n",
    "                    print(type(var))\n",
    "                    \n",
    "                    new_var = np.concatenate((getattr(self, attribute), var))\n",
    "                    setattr(self, attribute, new_var)\n",
    "                    pass"
   ]
  },
  {
   "cell_type": "code",
   "execution_count": 34,
   "id": "e6a77a71",
   "metadata": {},
   "outputs": [
    {
     "name": "stdout",
     "output_type": "stream",
     "text": [
      "<class 'numpy.ndarray'>\n",
      "<class 'numpy.ndarray'>\n",
      "<class 'numpy.ndarray'>\n",
      "<class 'numpy.ndarray'>\n"
     ]
    }
   ],
   "source": [
    "c = C([a,b])"
   ]
  },
  {
   "cell_type": "code",
   "execution_count": 35,
   "id": "e9568b1c",
   "metadata": {},
   "outputs": [
    {
     "data": {
      "text/plain": [
       "array([1, 1, 3, 3])"
      ]
     },
     "execution_count": 35,
     "metadata": {},
     "output_type": "execute_result"
    }
   ],
   "source": [
    "c.a"
   ]
  },
  {
   "cell_type": "code",
   "execution_count": null,
   "id": "c119bcc7",
   "metadata": {},
   "outputs": [],
   "source": []
  }
 ],
 "metadata": {
  "kernelspec": {
   "display_name": "Python 3 (ipykernel)",
   "language": "python",
   "name": "python3"
  },
  "language_info": {
   "codemirror_mode": {
    "name": "ipython",
    "version": 3
   },
   "file_extension": ".py",
   "mimetype": "text/x-python",
   "name": "python",
   "nbconvert_exporter": "python",
   "pygments_lexer": "ipython3",
   "version": "3.8.15"
  }
 },
 "nbformat": 4,
 "nbformat_minor": 5
}
