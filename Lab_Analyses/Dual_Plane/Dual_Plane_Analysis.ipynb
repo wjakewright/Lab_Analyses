{
 "cells": [
  {
   "cell_type": "markdown",
   "id": "920b968d",
   "metadata": {},
   "source": [
    "# Dual Plane Analysis\n",
    "\n",
    "### Notebook for processing and analyzing dual plane somatic and dendritic recordings"
   ]
  },
  {
   "cell_type": "code",
   "execution_count": null,
   "id": "3d61513b",
   "metadata": {},
   "outputs": [],
   "source": [
    "import os\n",
    "import numpy as np\n",
    "from Lab_Analyses.Dual_Plane.organize_dual_plane_data import organize_dual_plane_data\n",
    "from Lab_Analyses.Dual_Plane.analyze_dual_plane_data import analyze_dual_plane_data\n",
    "from Lab_Analyses.Dual_Plane import plot_dual_plane_data as plotting\n",
    "from Lab_Analyses.Utilities.save_load_pickle import load_pickle, save_pickle\n",
    "%matplotlib notebook"
   ]
  },
  {
   "cell_type": "markdown",
   "id": "e1353a9f",
   "metadata": {},
   "source": [
    "### Datasets\n",
    "Specify which mice to be analyzed"
   ]
  },
  {
   "cell_type": "code",
   "execution_count": null,
   "id": "bf9226f4",
   "metadata": {},
   "outputs": [],
   "source": [
    "# Mouse ids\n",
    "id_1 = \"JW129\"\n",
    "id_2 = \"JW130\"\n",
    "id_3 = \"JW167\"\n",
    "\n",
    "mouse_list = [id_2, id_3]\n"
   ]
  },
  {
   "cell_type": "markdown",
   "id": "4f7e1191",
   "metadata": {},
   "source": [
    "### Data Organization\n",
    "Organize the dual plane data"
   ]
  },
  {
   "cell_type": "code",
   "execution_count": null,
   "id": "0bd242f5",
   "metadata": {},
   "outputs": [],
   "source": [
    "# Reprocess?\n",
    "reprocess = True\n",
    "\n",
    "# Inputs\n",
    "data_dir = \"two_plane\"\n",
    "file_types = {\"Dendrite\": \"dendrite\", \"Soma\": \"soma\"}\n",
    "\n",
    "# Preprocess data\n",
    "for mouse in mouse_list:\n",
    "    organize_dual_plane_data(mouse_id=mouse, data_dir=data_dir, file_types=file_types, reprocess=reprocess, save=True)"
   ]
  },
  {
   "cell_type": "markdown",
   "id": "3bcb0622",
   "metadata": {},
   "source": [
    "### Analyze dual plane data"
   ]
  },
  {
   "cell_type": "code",
   "execution_count": null,
   "id": "f221dc01",
   "metadata": {},
   "outputs": [],
   "source": [
    "# Save path\n",
    "group_path = r'C:\\Users\\Jake\\Desktop\\Analyzed_data\\grouped'\n",
    "experiment_dir = \"Dual_Spine_Imaging\"\n",
    "dual_plane_dir = \"Dual_Plane\"\n",
    "dual_plane_path = os.path.join(group_path, experiment_dir, dual_plane_dir)\n",
    "\n",
    "# Analyze\n",
    "reanalyze = True\n",
    "if reanalyze:\n",
    "    dual_plane_data = analyze_dual_plane_data(mouse_list, save=True, save_path=dual_plane_path)\n",
    "else:\n",
    "    dual_plane_data = load_pickle([\"analyzed_dual_plane_data\"], path=dual_plane_path)[0]"
   ]
  },
  {
   "cell_type": "markdown",
   "id": "09a85d29",
   "metadata": {},
   "source": [
    "### Visualize Data"
   ]
  },
  {
   "cell_type": "code",
   "execution_count": null,
   "id": "81024a11",
   "metadata": {},
   "outputs": [],
   "source": [
    "# Set up figure save path\n",
    "initial_path = r\"C:\\Users\\Jake\\Desktop\\Figures\\grouped_data\"\n",
    "fig_path = os.path.join(initial_path, experiment_dir, dual_plane_dir)\n",
    "if not os.path.isdir(fig_path):\n",
    "    os.makedirs(fig_path)"
   ]
  },
  {
   "cell_type": "code",
   "execution_count": null,
   "id": "d672b5e0",
   "metadata": {
    "scrolled": false
   },
   "outputs": [],
   "source": [
    "# Plot the traces\n",
    "plotting.plot_soma_dend_traces(\n",
    "    dual_plane_data,\n",
    "    colors=[\"forestgreen\", \"black\"],\n",
    "    norm=True,\n",
    "    subselect=None, \n",
    "    save=False, \n",
    "    save_path=fig_path,\n",
    ")"
   ]
  },
  {
   "cell_type": "code",
   "execution_count": null,
   "id": "f04e620e",
   "metadata": {
    "scrolled": false
   },
   "outputs": [],
   "source": [
    "# Plot fraction coactivity\n",
    "plotting.plot_soma_dend_coactivity(\n",
    "    dual_plane_data,\n",
    "    colors=[\"black\", \"forestgreen\"],\n",
    "    mean_type=\"mean\", \n",
    "    err_type=\"sem\",\n",
    "    norm=False,\n",
    "    trace_avg=\"dend\",\n",
    "    figsize=(11,5),\n",
    "    save=True,\n",
    "    save_path=fig_path,\n",
    ")"
   ]
  },
  {
   "cell_type": "code",
   "execution_count": null,
   "id": "0cea8f9f",
   "metadata": {
    "scrolled": false
   },
   "outputs": [],
   "source": [
    "# Plot paired event amplitudes\n",
    "plotting.plot_amplitude_correlations(\n",
    "    dual_plane_data,\n",
    "    norm=False,\n",
    "    dend_examples=[6,11],\n",
    "    soma_examples=[6,11],\n",
    "    color=[\"forestgreen\", \"black\"],\n",
    "    figsize=(11, 5.5),\n",
    "    corr_lim=(0,3),\n",
    "    s_size=25,\n",
    "    s_alpha=0.8,\n",
    "    bins=7,\n",
    "    save=False,\n",
    "    save_path=fig_path,\n",
    ")"
   ]
  },
  {
   "cell_type": "code",
   "execution_count": null,
   "id": "6ebf9522",
   "metadata": {
    "scrolled": false
   },
   "outputs": [],
   "source": [
    "# Plot individual events\n",
    "plotting.plot_ind_events(\n",
    "    dual_plane_data,\n",
    "    colors=[\"black\", \"forestgreen\"],\n",
    "    norm=True,\n",
    "    event_type=\"noncoactive\",\n",
    "    figsize=(3,3),\n",
    "    save=False,\n",
    "    save_path=fig_path\n",
    ")"
   ]
  },
  {
   "cell_type": "code",
   "execution_count": null,
   "id": "b5d050c7",
   "metadata": {},
   "outputs": [],
   "source": []
  },
  {
   "cell_type": "code",
   "execution_count": null,
   "id": "939d6d1b",
   "metadata": {},
   "outputs": [],
   "source": [
    "dual_plane_data.__dict__.keys()"
   ]
  },
  {
   "cell_type": "code",
   "execution_count": null,
   "id": "616fbb7a",
   "metadata": {},
   "outputs": [],
   "source": [
    "s_dFoF = dual_plane_data.somatic_dFoF[:, 5]"
   ]
  },
  {
   "cell_type": "code",
   "execution_count": null,
   "id": "c8c6810e",
   "metadata": {},
   "outputs": [],
   "source": [
    "smooth_window = int(15 * 0.5)\n",
    "# Make sure smooth window is odd\n",
    "if not smooth_window % 2:\n",
    "    smooth_window = smooth_window + 1\n",
    "from scipy.signal import savgol_filter\n",
    "f_dFoF = savgol_filter(s_dFoF, smooth_window, 1)"
   ]
  },
  {
   "cell_type": "code",
   "execution_count": null,
   "id": "7bb837f7",
   "metadata": {},
   "outputs": [],
   "source": [
    "import matplotlib.pyplot as plt\n",
    "\n",
    "plt.figure()\n",
    "plt.plot(s_dFoF[0:500])\n",
    "plt.figure()\n",
    "plt.plot(f_dFoF[0:500])"
   ]
  },
  {
   "cell_type": "code",
   "execution_count": null,
   "id": "5ac3dd87",
   "metadata": {},
   "outputs": [],
   "source": [
    "f1.spine_groupings"
   ]
  },
  {
   "cell_type": "code",
   "execution_count": null,
   "id": "136daeac",
   "metadata": {},
   "outputs": [],
   "source": [
    "import numpy as np\n",
    "a = np.array([1,2,3,4,2,1])\n",
    "np.argmin(a)"
   ]
  },
  {
   "cell_type": "code",
   "execution_count": null,
   "id": "a7480dff",
   "metadata": {},
   "outputs": [],
   "source": [
    "from Lab_Analyses.Spine_Analysis_v2.structural_plasticity import calculate_spine_dynamics"
   ]
  },
  {
   "cell_type": "code",
   "execution_count": null,
   "id": "6d6877cc",
   "metadata": {},
   "outputs": [],
   "source": [
    "calculate_spine_dynamics([f1.spine_flags,f2.spine_flags, f3.spine_flags], \n",
    "                         [f1.spine_positions,f2.spine_positions, f3.spine_positions], \n",
    "                         [f1.spine_groupings,f2.spine_groupings, f3.spine_groupings])"
   ]
  },
  {
   "cell_type": "code",
   "execution_count": null,
   "id": "6ae9ea42",
   "metadata": {},
   "outputs": [],
   "source": [
    "a = None\n",
    "if a is not None:\n",
    "    print(\"Hello\")"
   ]
  },
  {
   "cell_type": "code",
   "execution_count": null,
   "id": "5f2eb9cd",
   "metadata": {},
   "outputs": [],
   "source": [
    "from dataclasses import dataclass\n",
    "\n",
    "@dataclass\n",
    "class A:\n",
    "    a: int\n",
    "    b: int\n",
    "    show: str\n",
    "        \n",
    "    def save(self):\n",
    "\n",
    "        print(self.show)"
   ]
  },
  {
   "cell_type": "code",
   "execution_count": null,
   "id": "dc334f2e",
   "metadata": {},
   "outputs": [],
   "source": [
    "from Lab_Analyses.Utilities.save_load_pickle import load_pickle\n",
    "\n",
    "load_pickle([\"Hellow_World\"])"
   ]
  },
  {
   "cell_type": "code",
   "execution_count": null,
   "id": "079f839d",
   "metadata": {},
   "outputs": [],
   "source": [
    "from Lab_Analyses.Spine_Analysis_v2.spine_volume_normalization import batch_spine_volume_normalization"
   ]
  },
  {
   "cell_type": "code",
   "execution_count": null,
   "id": "a2bd26fd",
   "metadata": {
    "scrolled": false
   },
   "outputs": [],
   "source": [
    "# Mouse ids\n",
    "id_1 = \"JW082\"\n",
    "id_2 = \"JW083\"\n",
    "id_3 = \"JW090\"\n",
    "id_4 = \"JW092\"\n",
    "id_5 = \"JW126\"\n",
    "id_6 = \"JW129\"\n",
    "id_7 = \"JW130\"\n",
    "id_8 = \"JW150\"\n",
    "mouse_list = [id_1, id_2, id_3, id_4, id_5, id_6, id_7, id_8]\n",
    "from timeit import default_timer as timer\n",
    "\n",
    "start = timer()\n",
    "batch_spine_volume_normalization(mouse_list, \"Early\", \"apical\", \"GluSnFr\", plot=True, zscore=True)\n",
    "end = timer()\n",
    "print(end - start) # Time in seconds, e.g. 5.38091952400282\n"
   ]
  },
  {
   "cell_type": "code",
   "execution_count": null,
   "id": "726f2c50",
   "metadata": {},
   "outputs": [],
   "source": [
    "import numpy as np\n",
    "a = np.array([True, False, True])\n",
    "b = np.array([True, True, True])"
   ]
  },
  {
   "cell_type": "code",
   "execution_count": null,
   "id": "3c3f5f2e",
   "metadata": {
    "scrolled": false
   },
   "outputs": [],
   "source": [
    "def func(pct, allvals):\n",
    "    absolute = int(np.round(pct/100.*np.sum(allvals)))\n",
    "    return f\"{pct:.1f}%\"\n",
    "fig, ax = plt.subplots(figsize=(5,3))\n",
    "data = [4,5,6]\n",
    "colors = [\"darkorange\", \"darkviolet\", \"silver\"]\n",
    "wedges, texts, _ = ax.pie(data, wedgeprops=dict(width=0.6, alpha=0.8, linewidth=2, edgecolor=\"white\"), autopct=lambda pct: f\"{pct:.1f}%\",\n",
    "                                  textprops=dict(color=\"white\", fontsize=11, weight=\"bold\"), pctdistance=0.7, colors=colors)\n",
    "\n",
    "ax.legend(wedges, [\"enlarged\", \"shrunken\", \"stable\",],\n",
    "         ncol=1, \n",
    "          loc=\"center right\",\n",
    "          bbox_to_anchor=(1, 0, 0.5, 1),\n",
    "         frameon=False)\n",
    "ax.set_title(\"Test\")\n",
    "fig.tight_layout()"
   ]
  },
  {
   "cell_type": "code",
   "execution_count": null,
   "id": "c0ef518e",
   "metadata": {},
   "outputs": [],
   "source": [
    "from Lab_Analyses.Utilities import test_utilities as t_utils\n",
    "import numpy as np"
   ]
  },
  {
   "cell_type": "code",
   "execution_count": null,
   "id": "40b5c2dd",
   "metadata": {},
   "outputs": [],
   "source": [
    "import matplotlib.pyplot as plt\n",
    "%matplotlib notebook"
   ]
  },
  {
   "cell_type": "code",
   "execution_count": null,
   "id": "55e316cd",
   "metadata": {},
   "outputs": [],
   "source": [
    "data_dict = {\"A\": np.array([1,2,2,1,3,4,3,2,1,2]), \n",
    "             \"B\": np.array([10,11,12,10,14,12,15,16,17]),\n",
    "             \"C\": np.array([-2, -1, -6, -8, -3, -4, -5, -3])}"
   ]
  },
  {
   "cell_type": "code",
   "execution_count": null,
   "id": "c5252d27",
   "metadata": {},
   "outputs": [],
   "source": [
    "c = C([a,b])"
   ]
  },
  {
   "cell_type": "code",
   "execution_count": null,
   "id": "d4209c59",
   "metadata": {},
   "outputs": [],
   "source": [
    "fstat, p, table, df = t_utils.kruskal_wallis_test(data_dict, \"Conover\", \"holm-sidak\")"
   ]
  },
  {
   "cell_type": "code",
   "execution_count": null,
   "id": "52786ab4",
   "metadata": {},
   "outputs": [],
   "source": [
    "#df.style.format({'adjusted p-vals': '{:.3E}'})\n",
    "df.update(df[[\"adjusted p-vals\"]].applymap('{:.3E}'.format))"
   ]
  },
  {
   "cell_type": "code",
   "execution_count": null,
   "id": "7c4bee37",
   "metadata": {},
   "outputs": [],
   "source": [
    "test_method=\"holm-sidak\""
   ]
  },
  {
   "cell_type": "code",
   "execution_count": null,
   "id": "6d75b698",
   "metadata": {},
   "outputs": [],
   "source": [
    "fig, ax = plt.subplot_mosaic([[\"A\", \"B\"]], figsize=(8, 4))\n",
    "ax[\"A\"].axis('off')\n",
    "ax[\"A\"].axis('tight')\n",
    "ax[\"A\"].set_title(f\"A vs B vs C Kruskal Wallis {test_method}\\nF = {fstat:.4}  p = {p:.3E}\")\n",
    "mpl_table = ax[\"A\"].table(cellText = df.values, colLabels=df.columns, loc=\"center\",bbox=[0, 0.3, 0.9,0.5])\n",
    "mpl_table.auto_set_font_size(False)\n",
    "mpl_table.set_fontsize(8)\n",
    "\n",
    "ax[\"B\"].axis('off')\n",
    "ax[\"B\"].axis('tight')\n",
    "ax[\"B\"].set_title(\"A vs B vs C Kruskal Wallis\")\n",
    "mpl_table2 = ax[\"B\"].table(cellText = df.values, colLabels=df.columns, loc=\"center\",bbox=[0, 0.3, 0.9,0.5])\n",
    "mpl_table2.auto_set_font_size(False)\n",
    "mpl_table2.set_fontsize(8)\n",
    "fig.tight_layout()"
   ]
  },
  {
   "cell_type": "code",
   "execution_count": null,
   "id": "b9cd0cf2",
   "metadata": {},
   "outputs": [],
   "source": [
    "import Lab_Analyses.Plotting as plotting"
   ]
  },
  {
   "cell_type": "code",
   "execution_count": null,
   "id": "3bd9b4cb",
   "metadata": {},
   "outputs": [],
   "source": [
    "a = np.array([1,2,np.nan,3, 4])\n",
    "b = np.array([1,2,np.nan,3, 4])\n",
    "\n",
    "b/a"
   ]
  },
  {
   "cell_type": "code",
   "execution_count": null,
   "id": "90deb20b",
   "metadata": {},
   "outputs": [],
   "source": [
    "import seaborn as sns\n",
    "\n",
    "fig, axes = plt.subplot_mosaic(\n",
    "\"\"\"AA\"\"\", figsize=(8,4))\n",
    "\n",
    "axin = axes[\"A\"].inset_axes([0.9, 0.4,0.25, 0.6])\n",
    "sns.despine(ax=axin)\n",
    "sns.despine()\n",
    "fig.tight_layout()"
   ]
  },
  {
   "cell_type": "code",
   "execution_count": null,
   "id": "cd6ce1e9",
   "metadata": {},
   "outputs": [],
   "source": [
    "a = np.array([1,1,1,1,1]).reshape(-1,1)"
   ]
  },
  {
   "cell_type": "code",
   "execution_count": null,
   "id": "2adccd6f",
   "metadata": {},
   "outputs": [],
   "source": [
    "b = np.zeros(a.shape)"
   ]
  },
  {
   "cell_type": "code",
   "execution_count": null,
   "id": "7ac49473",
   "metadata": {},
   "outputs": [],
   "source": [
    "b"
   ]
  },
  {
   "cell_type": "code",
   "execution_count": null,
   "id": "bf4d3940",
   "metadata": {},
   "outputs": [],
   "source": [
    "b[:, 0] = a.reshape(1,-1)"
   ]
  },
  {
   "cell_type": "code",
   "execution_count": null,
   "id": "3be94fd9",
   "metadata": {},
   "outputs": [],
   "source": [
    "from Lab_Analyses.Utilities.save_load_pickle import load_pickle"
   ]
  },
  {
   "cell_type": "code",
   "execution_count": null,
   "id": "056e8322",
   "metadata": {},
   "outputs": [],
   "source": [
    "fname = r\"C:\\Users\\Jake\\Desktop\\Analyzed_data\\individual\\JW082\\spine_data\\FOV3_apical\\JW082_FOV3_apical_Early_dual_spine_data\""
   ]
  },
  {
   "cell_type": "code",
   "execution_count": null,
   "id": "eb27d2f2",
   "metadata": {},
   "outputs": [],
   "source": [
    "data = load_pickle([fname])"
   ]
  },
  {
   "cell_type": "code",
   "execution_count": null,
   "id": "b7f11e05",
   "metadata": {},
   "outputs": [],
   "source": [
    "data = data[0]"
   ]
  },
  {
   "cell_type": "code",
   "execution_count": null,
   "id": "db2c8b61",
   "metadata": {},
   "outputs": [],
   "source": [
    "data.__dict__.keys()"
   ]
  },
  {
   "cell_type": "code",
   "execution_count": null,
   "id": "bcf91f2c",
   "metadata": {},
   "outputs": [],
   "source": [
    "data.dendrite_calcium_activity.shape"
   ]
  },
  {
   "cell_type": "code",
   "execution_count": null,
   "id": "5eac6815",
   "metadata": {},
   "outputs": [],
   "source": [
    "data.corrected_spine_volume.shape"
   ]
  },
  {
   "cell_type": "code",
   "execution_count": null,
   "id": "3568433f",
   "metadata": {},
   "outputs": [],
   "source": []
  }
 ],
 "metadata": {
  "kernelspec": {
   "display_name": "Python 3 (ipykernel)",
   "language": "python",
   "name": "python3"
  },
  "language_info": {
   "codemirror_mode": {
    "name": "ipython",
    "version": 3
   },
   "file_extension": ".py",
   "mimetype": "text/x-python",
   "name": "python",
   "nbconvert_exporter": "python",
   "pygments_lexer": "ipython3",
   "version": "3.8.15"
  }
 },
 "nbformat": 4,
 "nbformat_minor": 5
}
