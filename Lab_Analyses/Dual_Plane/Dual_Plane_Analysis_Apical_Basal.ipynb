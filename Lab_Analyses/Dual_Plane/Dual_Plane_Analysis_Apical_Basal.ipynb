{
 "cells": [
  {
   "cell_type": "markdown",
   "id": "920b968d",
   "metadata": {},
   "source": [
    "# Dual Plane Analysis\n",
    "\n",
    "### Notebook for processing and analyzing dual plane somatic and dendritic recordings for both apical and basal dendrites"
   ]
  },
  {
   "cell_type": "code",
   "execution_count": 1,
   "id": "5217fcdb",
   "metadata": {},
   "outputs": [
    {
     "data": {
      "text/html": [
       "<style>.container { width:90% !important; }</style>"
      ],
      "text/plain": [
       "<IPython.core.display.HTML object>"
      ]
     },
     "metadata": {},
     "output_type": "display_data"
    }
   ],
   "source": [
    "# Configure Notebook width\n",
    "from IPython.display import display, HTML\n",
    "display(HTML(\"<style>.container { width:90% !important; }</style>\"))"
   ]
  },
  {
   "cell_type": "code",
   "execution_count": 2,
   "id": "3d61513b",
   "metadata": {},
   "outputs": [],
   "source": [
    "import os\n",
    "import numpy as np\n",
    "from Lab_Analyses.Dual_Plane.organize_dual_plane_data_multi_fov import organize_dual_plane_data\n",
    "from Lab_Analyses.Dual_Plane.analyze_dual_plane_data_multi_fov import analyze_dual_plane_data\n",
    "from Lab_Analyses.Dual_Plane import plot_dual_plane_data_multi_fov as plotting\n",
    "from Lab_Analyses.Utilities.save_load_pickle import load_pickle, save_pickle\n",
    "%matplotlib inline"
   ]
  },
  {
   "cell_type": "markdown",
   "id": "e1353a9f",
   "metadata": {},
   "source": [
    "### Datasets\n",
    "Specify which mice to be analyzed"
   ]
  },
  {
   "cell_type": "code",
   "execution_count": 3,
   "id": "bf9226f4",
   "metadata": {},
   "outputs": [],
   "source": [
    "# Mouse ids\n",
    "id_1 = \"JW129\"\n",
    "id_2 = \"JW130\"\n",
    "id_3 = \"JW167\"\n",
    "\n",
    "mouse_list = [id_2, id_3]\n"
   ]
  },
  {
   "cell_type": "markdown",
   "id": "4f7e1191",
   "metadata": {},
   "source": [
    "### Data Organization\n",
    "Organize the dual plane data"
   ]
  },
  {
   "cell_type": "code",
   "execution_count": 4,
   "id": "0bd242f5",
   "metadata": {},
   "outputs": [],
   "source": [
    "# Reprocess?\n",
    "reprocess = True\n",
    "\n",
    "# Inputs\n",
    "data_dir = \"two_plane\"\n",
    "file_types = {\"Apical\": \"apical\", \"Basal\": \"basal\", \"Soma\": \"soma\"}\n",
    "\n",
    "# Preprocess data\n",
    "for mouse in mouse_list:\n",
    "    organize_dual_plane_data(mouse_id=mouse, data_dir=data_dir, file_types=file_types, reprocess=reprocess, save=True)"
   ]
  },
  {
   "cell_type": "markdown",
   "id": "3bcb0622",
   "metadata": {},
   "source": [
    "### Analyze dual plane data"
   ]
  },
  {
   "cell_type": "code",
   "execution_count": 5,
   "id": "f221dc01",
   "metadata": {
    "scrolled": false
   },
   "outputs": [
    {
     "name": "stdout",
     "output_type": "stream",
     "text": [
      "Dataset number: 3\n"
     ]
    }
   ],
   "source": [
    "# Save path\n",
    "group_path = r'G:\\Analyzed_data\\grouped'\n",
    "experiment_dir = \"Dual_Spine_Imaging\"\n",
    "dual_plane_dir = \"Dual_Plane\"\n",
    "dual_plane_path = os.path.join(group_path, experiment_dir, dual_plane_dir)\n",
    "\n",
    "# Analyze\n",
    "reanalyze = True\n",
    "if reanalyze:\n",
    "    dual_plane_data = analyze_dual_plane_data(mouse_list, save=True, save_path=dual_plane_path)\n",
    "else:\n",
    "    dual_plane_data = load_pickle([\"analyzed_dual_plane_apical_basal_data\"], path=dual_plane_path)[0]"
   ]
  },
  {
   "cell_type": "markdown",
   "id": "09a85d29",
   "metadata": {},
   "source": [
    "### Visualize Data"
   ]
  },
  {
   "cell_type": "code",
   "execution_count": null,
   "id": "81024a11",
   "metadata": {},
   "outputs": [],
   "source": [
    "# Set up figure save path\n",
    "initial_path = r\"C:\\Users\\Jake\\Desktop\\Figures\\grouped_data\"\n",
    "fig_path = os.path.join(initial_path, experiment_dir, dual_plane_dir)\n",
    "if not os.path.isdir(fig_path):\n",
    "    os.makedirs(fig_path)"
   ]
  },
  {
   "cell_type": "code",
   "execution_count": null,
   "id": "d672b5e0",
   "metadata": {
    "scrolled": false
   },
   "outputs": [],
   "source": [
    "# Plot the traces\n",
    "plotting.plot_soma_dend_traces(\n",
    "    dual_plane_data,\n",
    "    colors=[\"forestgreen\", \"black\"],\n",
    "    norm=False,\n",
    "    subselect=None, \n",
    "    save=True, \n",
    "    save_path=fig_path,\n",
    ")"
   ]
  },
  {
   "cell_type": "code",
   "execution_count": null,
   "id": "f04e620e",
   "metadata": {
    "scrolled": false
   },
   "outputs": [],
   "source": [
    "# Plot fraction coactivity\n",
    "plotting.plot_soma_dend_coactivity(\n",
    "    dual_plane_data,\n",
    "    colors=[\"black\", \"forestgreen\"],\n",
    "    mean_type=\"mean\", \n",
    "    err_type=\"sem\",\n",
    "    norm=True,\n",
    "    trace_avg=\"dend\",\n",
    "    figsize=(11,5),\n",
    "    save=False,\n",
    "    save_path=fig_path,\n",
    ")"
   ]
  },
  {
   "cell_type": "code",
   "execution_count": null,
   "id": "0cea8f9f",
   "metadata": {
    "scrolled": false
   },
   "outputs": [],
   "source": [
    "# Plot paired event amplitudes\n",
    "plotting.plot_amplitude_correlations(\n",
    "    dual_plane_data,\n",
    "    norm=True,\n",
    "    apical_examples=[0,6],\n",
    "    basal_examples=[0,8],\n",
    "    soma_examples=[0,8],\n",
    "    color=[\"goldenrod\", \"black\", \"forestgreen\", \"deeppink\"],\n",
    "    figsize=(11, 15),\n",
    "    corr_lim=(0,1.1),\n",
    "    s_size=35,\n",
    "    s_alpha=0.8,\n",
    "    bins=10,\n",
    "    save=True,\n",
    "    save_path=fig_path,\n",
    ")"
   ]
  },
  {
   "cell_type": "code",
   "execution_count": null,
   "id": "6ebf9522",
   "metadata": {
    "scrolled": false
   },
   "outputs": [],
   "source": [
    "# Plot individual events\n",
    "plotting.plot_ind_events(\n",
    "    dual_plane_data,\n",
    "    colors=[\"black\", \"forestgreen\"],\n",
    "    norm=True,\n",
    "    event_type=\"noncoactive\",\n",
    "    figsize=(3,3),\n",
    "    save=False,\n",
    "    save_path=fig_path\n",
    ")"
   ]
  },
  {
   "cell_type": "code",
   "execution_count": null,
   "id": "3568433f",
   "metadata": {},
   "outputs": [],
   "source": []
  }
 ],
 "metadata": {
  "kernelspec": {
   "display_name": "Python 3 (ipykernel)",
   "language": "python",
   "name": "python3"
  },
  "language_info": {
   "codemirror_mode": {
    "name": "ipython",
    "version": 3
   },
   "file_extension": ".py",
   "mimetype": "text/x-python",
   "name": "python",
   "nbconvert_exporter": "python",
   "pygments_lexer": "ipython3",
   "version": "3.8.18"
  }
 },
 "nbformat": 4,
 "nbformat_minor": 5
}
