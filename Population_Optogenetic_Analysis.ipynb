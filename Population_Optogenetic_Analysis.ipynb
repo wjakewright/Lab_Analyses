{
 "cells": [
  {
   "cell_type": "markdown",
   "id": "8d1191b2",
   "metadata": {},
   "source": [
    "# Population Optogenetic Analysis\n",
    "\n",
    "Jupyter Notebook implementation of population optogenetic analysis. Determines if neurons were significantly activated by direct optogenetic stimulation"
   ]
  },
  {
   "cell_type": "code",
   "execution_count": null,
   "id": "4102a928",
   "metadata": {},
   "outputs": [],
   "source": [
    "import os\n",
    "from pop_opto_curve import pop_opto_curve as opto_curve\n",
    "from group_opto_analysis import group_opto_analysis as group_analysis\n",
    "from optogenetic_analysis_v2 import optogenetic_analysis, power_curve\n",
    "from save_load_pickle import load_pickle\n",
    "%matplotlib notebook"
   ]
  },
  {
   "cell_type": "markdown",
   "id": "1395f672",
   "metadata": {},
   "source": [
    "# Single Dataset Analysis"
   ]
  },
  {
   "cell_type": "code",
   "execution_count": null,
   "id": "51692d80",
   "metadata": {},
   "outputs": [],
   "source": [
    "# Load some pickled data\n",
    "## list of the file names to be loaded\n",
    "os.chdir(r'C:\\Users\\Jake\\Desktop\\Processed_data')\n",
    "fnames = ['JW015_211119_1mw','JW015_211119_2mw','JW015_211119_5mw','JW015_211119_8mw']\n",
    "## Path if data is not in the same folder. Comment out otherwise\n",
    "path = r'python_data\\JW015\\dend_1_1119'\n",
    "data = load_pickle(fnames,path)\n",
    "i_data = []\n",
    "b_data = []\n",
    "for d in data:\n",
    "    i_data.append(d['imaging'])\n",
    "    b_data.append(d['behavior'])"
   ]
  },
  {
   "cell_type": "markdown",
   "id": "03ecd71e",
   "metadata": {},
   "source": [
    "## Power Curve\n",
    "\n",
    "Visualize the change in activity induced by optogenetic stimulation and the percentage of neurons significantly modulated for different stimulation powers"
   ]
  },
  {
   "cell_type": "code",
   "execution_count": null,
   "id": "a681158d",
   "metadata": {
    "scrolled": true
   },
   "outputs": [],
   "source": [
    "# specify which method you want to use to assess if neuron was significantly activated\n",
    "# 'test' uses wilcoxon signed-rank tet and 'shuff' compares against a shuffled distribution of activity\n",
    "# specify if you would like to use z_scored data for not\n",
    "curve = power_curve(grouped=False,data=data,powers=[1,2,5,8],method='test',sampling_rate=30,window=[-2,2],vis_window=None,\n",
    "                        zscore=False,spines=True)\n",
    "curve.generate_power_curve('bonferroni')"
   ]
  },
  {
   "cell_type": "markdown",
   "id": "c90e6217",
   "metadata": {},
   "source": [
    "## Visualize Individual sessions"
   ]
  },
  {
   "cell_type": "code",
   "execution_count": null,
   "id": "5921b596",
   "metadata": {
    "scrolled": true
   },
   "outputs": [],
   "source": [
    "# Specify which session you wish to visualize\n",
    "curve.visualize_session(3)"
   ]
  },
  {
   "cell_type": "markdown",
   "id": "6ad4e868",
   "metadata": {},
   "source": [
    "# Multi-Dataset Analysis"
   ]
  },
  {
   "cell_type": "code",
   "execution_count": null,
   "id": "173c6f7c",
   "metadata": {},
   "outputs": [],
   "source": [
    "# Import multiple datasets\n",
    "## Dataset 1\n",
    "os.chdir(r'C:\\Users\\Jake\\Desktop\\Processed_data')\n",
    "fnames = ['JW012_211112_5mw','JW012_211112_8mw','JW012_211112_10mw','JW012_211112_15mw']\n",
    "## Path if data is not in the same folder. Comment out otherwise\n",
    "path = r'python_data\\JW012\\soma_1112'\n",
    "data1 = load_pickle(fnames,path)\n",
    "i_data1 = []\n",
    "b_data1 = []\n",
    "for d in data1:\n",
    "    i_data1.append(d['imaging'])\n",
    "    b_data1.append(d['behavior'])\n",
    "\n",
    "## Dataset 2\n",
    "os.chdir(r'C:\\Users\\Jake\\Desktop\\Processed_data')\n",
    "fnames = ['JW015_211112_5mw','JW015_211112_8mw','JW015_211112_10mw','JW015_211112_15mw']\n",
    "## Path if data is not in the same folder. Comment out otherwise\n",
    "path = r'python_data\\JW015\\field_1'\n",
    "data2 = load_pickle(fnames,path)\n",
    "i_data2 = []\n",
    "b_data2 = []\n",
    "for d in data2:\n",
    "    i_data2.append(d['imaging'])\n",
    "    b_data2.append(d['behavior'])\n",
    "    \n",
    "## Dataset 3\n",
    "fnames = ['JW015_211112_5mw','JW015_211112_8mw','JW015_211112_10mw','JW015_211112_15mw']\n",
    "## Path if data is not in the same folder. Comment out otherwise\n",
    "path = r'python_data\\JW015\\field_2'\n",
    "data3 = load_pickle(fnames,path)\n",
    "i_data3 = []\n",
    "b_data3 = []\n",
    "for d in data3:\n",
    "    i_data3.append(d['imaging'])\n",
    "    b_data3.append(d['behavior'])"
   ]
  },
  {
   "cell_type": "markdown",
   "id": "5a5efc01",
   "metadata": {},
   "source": [
    "## Power Curve"
   ]
  },
  {
   "cell_type": "code",
   "execution_count": null,
   "id": "f7bcc0e3",
   "metadata": {},
   "outputs": [],
   "source": [
    "curve = power_curve(grouped=True,data=list(zip(data1,data2,data3)),powers=[1,2,5,8],method='test',sampling_rate=30,window=[-2,2],vis_window=None,\n",
    "                        zscore=True,spines=True)\n",
    "curve.generate_power_curve('bonferroni')"
   ]
  },
  {
   "cell_type": "markdown",
   "id": "e11803e1",
   "metadata": {},
   "source": [
    "## Visualize Individual Sessions"
   ]
  },
  {
   "cell_type": "code",
   "execution_count": null,
   "id": "b75879bf",
   "metadata": {
    "scrolled": false
   },
   "outputs": [],
   "source": [
    "curve.visualize_session(3)"
   ]
  },
  {
   "cell_type": "code",
   "execution_count": null,
   "id": "70a734cc",
   "metadata": {},
   "outputs": [],
   "source": []
  }
 ],
 "metadata": {
  "kernelspec": {
   "display_name": "Python 3 (ipykernel)",
   "language": "python",
   "name": "python3"
  },
  "language_info": {
   "codemirror_mode": {
    "name": "ipython",
    "version": 3
   },
   "file_extension": ".py",
   "mimetype": "text/x-python",
   "name": "python",
   "nbconvert_exporter": "python",
   "pygments_lexer": "ipython3",
   "version": "3.8.8"
  }
 },
 "nbformat": 4,
 "nbformat_minor": 5
}
