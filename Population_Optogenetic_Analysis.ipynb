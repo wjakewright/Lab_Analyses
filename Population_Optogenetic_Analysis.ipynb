{
 "cells": [
  {
   "cell_type": "markdown",
   "id": "8d1191b2",
   "metadata": {},
   "source": [
    "# Population Optogenetic Analysis\n",
    "\n",
    "Jupyter Notebook implementation of population optogenetic analysis. Determines if neurons were significantly activated by direct optogenetic stimulation"
   ]
  },
  {
   "cell_type": "code",
   "execution_count": null,
   "id": "4102a928",
   "metadata": {},
   "outputs": [],
   "source": [
    "import utilities as utils\n",
    "import pop_opto_analysis as opto_anal\n",
    "import pop_opto_curve as power_curve\n",
    "import load_pickle as lp\n",
    "%matplotlib notebook"
   ]
  },
  {
   "cell_type": "code",
   "execution_count": null,
   "id": "51692d80",
   "metadata": {},
   "outputs": [],
   "source": [
    "# Load some pickled data\n",
    "## list of the file names to be loaded\n",
    "i_fnames = ['i_8mW.pickle','i_11mW.pickle','i_15mW.pickle','i_20mW.pickle']\n",
    "b_fnames = ['b_8mW.pickle','b_11mW.pickle','b_15mW.pickle','b_20mW.pickle']\n",
    "## Path if data is not in the same folder. Comment out otherwise\n",
    "path = 'test_data'\n",
    "i_data = lp.load_pickle(i_fnames,path)\n",
    "b_data  = lp.load_pickle(b_fnames,path)"
   ]
  },
  {
   "cell_type": "markdown",
   "id": "03ecd71e",
   "metadata": {},
   "source": [
    "## Power Curve\n",
    "\n",
    "Visualize the change in activity induced by optogenetic stimulation and the percentage of neurons significantly modulated for different stimulation powers"
   ]
  },
  {
   "cell_type": "code",
   "execution_count": null,
   "id": "a681158d",
   "metadata": {},
   "outputs": [],
   "source": [
    "# specify which method you want to use to assess if neuron was significantly activated\n",
    "# 'test' uses wilcoxon signed-rank tet and 'shuff' compares against a shuffled distribution of activity\n",
    "# specify if you would like to use z_scored data for not\n",
    "curve = power_curve.pop_opto_curve(imaging_data=i_data,behavioral_data=b_data,powers=[8,11,15,20],method='shuff',zscore=True)\n",
    "curve.get_power_curves()"
   ]
  },
  {
   "cell_type": "code",
   "execution_count": null,
   "id": "071cdda0",
   "metadata": {},
   "outputs": [],
   "source": [
    "# Include code that prints out results in easy to read manner. Include ANOVA to compare the different power \n",
    "# levels.\n",
    "curve.disp_results()"
   ]
  },
  {
   "cell_type": "markdown",
   "id": "c90e6217",
   "metadata": {},
   "source": [
    "### Visualize Individual sessions"
   ]
  },
  {
   "cell_type": "code",
   "execution_count": null,
   "id": "5921b596",
   "metadata": {
    "scrolled": false
   },
   "outputs": [],
   "source": [
    "# Specify which session you wish to visualize\n",
    "curve.visualize_individual_sessions(3)"
   ]
  },
  {
   "cell_type": "code",
   "execution_count": null,
   "id": "87cc54ea",
   "metadata": {},
   "outputs": [],
   "source": []
  },
  {
   "cell_type": "code",
   "execution_count": null,
   "id": "328663f1",
   "metadata": {},
   "outputs": [],
   "source": []
  }
 ],
 "metadata": {
  "kernelspec": {
   "display_name": "Python 3",
   "language": "python",
   "name": "python3"
  },
  "language_info": {
   "codemirror_mode": {
    "name": "ipython",
    "version": 3
   },
   "file_extension": ".py",
   "mimetype": "text/x-python",
   "name": "python",
   "nbconvert_exporter": "python",
   "pygments_lexer": "ipython3",
   "version": "3.8.8"
  }
 },
 "nbformat": 4,
 "nbformat_minor": 5
}
