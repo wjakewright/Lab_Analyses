{
 "cells": [
  {
   "cell_type": "markdown",
   "id": "8d1191b2",
   "metadata": {},
   "source": [
    "# Population Optogenetic Analysis\n",
    "\n",
    "Jupyter Notebook implementation of population optogenetic analysis. Determines if neurons were significantly activated by direct optogenetic stimulation"
   ]
  },
  {
   "cell_type": "code",
   "execution_count": null,
   "id": "4102a928",
   "metadata": {},
   "outputs": [],
   "source": [
    "import os\n",
    "from optogenetic_analysis_v2 import optogenetic_analysis, power_curve\n",
    "from save_load_pickle import load_pickle, save_pickle\n",
    "%matplotlib notebook"
   ]
  },
  {
   "cell_type": "markdown",
   "id": "d3984d76",
   "metadata": {},
   "source": [
    "# Single Dataset Analysis"
   ]
  },
  {
   "cell_type": "code",
   "execution_count": null,
   "id": "51692d80",
   "metadata": {},
   "outputs": [],
   "source": [
    "# Load some pickled data\n",
    "## list of the file names to be loaded\n",
    "os.chdir(r'C:\\Users\\Jake\\Desktop\\Processed_data')\n",
    "fnames = ['JW015_211119_1mw','JW015_211119_2mw','JW015_211119_5mw','JW015_211119_8mw']\n",
    "## Path if data is not in the same folder. Comment out otherwise\n",
    "path = r'python_data\\JW015\\dend_1_1119'\n",
    "data = load_pickle(fnames,path)\n",
    "i_data = []\n",
    "b_data = []\n",
    "for d in data:\n",
    "    i_data.append(d['imaging'])\n",
    "    b_data.append(d['behavior'])"
   ]
  },
  {
   "cell_type": "markdown",
   "id": "03ecd71e",
   "metadata": {},
   "source": [
    "## Power Curve\n",
    "\n",
    "Visualize the change in activity induced by optogenetic stimulation and the percentage of neurons significantly modulated for different stimulation powers"
   ]
  },
  {
   "cell_type": "code",
   "execution_count": null,
   "id": "a681158d",
   "metadata": {
    "scrolled": true
   },
   "outputs": [],
   "source": [
    "# specify which method you want to use to assess if neuron was significantly activated\n",
    "# 'test' uses wilcoxon signed-rank tet and 'shuff' compares against a shuffled distribution of activity\n",
    "# specify if you would like to use z_scored data for not\n",
    "curve = power_curve(grouped=False,data=data,powers=[1,2,5,8],method='test',sampling_rate=30,window=[-2,2],vis_window=None,\n",
    "                        zscore=False,spines=True)\n",
    "curve.generate_power_curve('bonferroni')"
   ]
  },
  {
   "cell_type": "markdown",
   "id": "c90e6217",
   "metadata": {},
   "source": [
    "## Visualize Individual sessions"
   ]
  },
  {
   "cell_type": "code",
   "execution_count": null,
   "id": "5921b596",
   "metadata": {
    "scrolled": true
   },
   "outputs": [],
   "source": [
    "# Specify which session you wish to visualize\n",
    "curve.visualize_session(3)"
   ]
  },
  {
   "cell_type": "markdown",
   "id": "ccb491d6",
   "metadata": {},
   "source": [
    "# Multi-Dataset Analysis"
   ]
  },
  {
   "cell_type": "code",
   "execution_count": null,
   "id": "a10ce469",
   "metadata": {},
   "outputs": [],
   "source": [
    "# Import multiple datasets\n",
    "## Dataset 1\n",
    "os.chdir(r'C:\\Users\\Jake\\Desktop\\Processed_data')\n",
    "fnames = ['JW015_211119_1mw','JW015_211119_2mw','JW015_211119_5mw','JW015_211119_8mw']\n",
    "## Path if data is not in the same folder. Comment out otherwise\n",
    "path = r'python_data\\JW015\\dend_1_1119'\n",
    "data1 = load_pickle(fnames,path)\n",
    "i_data1 = []\n",
    "b_data1 = []\n",
    "for d in data1:\n",
    "    i_data1.append(d['imaging'])\n",
    "    b_data1.append(d['behavior'])\n",
    "\n",
    "## Dataset 2\n",
    "os.chdir(r'C:\\Users\\Jake\\Desktop\\Processed_data')\n",
    "fnames = ['JW015_211119_1mw','JW015_211119_2mw','JW015_211119_5mw','JW015_211119_8mw']\n",
    "## Path if data is not in the same folder. Comment out otherwise\n",
    "path = r'python_data\\JW015\\dend_2_1119'\n",
    "data2 = load_pickle(fnames,path)\n",
    "i_data2 = []\n",
    "b_data2 = []\n",
    "for d in data2:\n",
    "    i_data2.append(d['imaging'])\n",
    "    b_data2.append(d['behavior'])\n",
    "    \n",
    "# ## Dataset 3\n",
    "# fnames = ['JW004_211018_10mw','JW004_211018_15mw','JW004_211018_20mw','JW004_211018_25mw']\n",
    "# ## Path if data is not in the same folder. Comment out otherwise\n",
    "# path = r'python_data\\JW004'\n",
    "# data3 = load_pickle(fnames,path)\n",
    "# i_data3 = []\n",
    "# b_data3 = []\n",
    "# for d in data3:\n",
    "#     i_data3.append(d['imaging'])\n",
    "#     b_data3.append(d['behavior'])\n",
    "    \n",
    "# ## Dataset 4\n",
    "# fnames = ['JW006_211018_10mw','JW006_211018_15mw','JW006_211018_20mw','JW006_211018_25mw']\n",
    "# ## Path if data is not in the same folder. Comment out otherwise\n",
    "# path = r'python_data\\JW006'\n",
    "# data4 = load_pickle(fnames,path)\n",
    "# i_data4 = []\n",
    "# b_data4 = []\n",
    "# for d in data4:\n",
    "#     i_data4.append(d['imaging'])\n",
    "#     b_data4.append(d['behavior'])"
   ]
  },
  {
   "cell_type": "markdown",
   "id": "f8004dd0",
   "metadata": {},
   "source": [
    "## Power Curve"
   ]
  },
  {
   "cell_type": "code",
   "execution_count": null,
   "id": "64fd2956",
   "metadata": {
    "scrolled": false
   },
   "outputs": [],
   "source": [
    "curve = power_curve(grouped=True,data=list(zip(data1,data2)),powers=[1,2,5,8],method='shuff',sampling_rate=30,window=[-2,2],vis_window=None,\n",
    "                        zscore=True,spines=True)\n",
    "curve.generate_power_curve('bonferroni',save=False)"
   ]
  },
  {
   "cell_type": "markdown",
   "id": "437f6d0a",
   "metadata": {},
   "source": [
    "## Visualize Individual Sessions"
   ]
  },
  {
   "cell_type": "code",
   "execution_count": null,
   "id": "1798a557",
   "metadata": {
    "scrolled": false
   },
   "outputs": [],
   "source": [
    "curve.visualize_session(3,fig2_size=(10,50),fig3_size=(10,20),save=False,hmap_range=(-3,3))"
   ]
  },
  {
   "cell_type": "markdown",
   "id": "325a3668",
   "metadata": {},
   "source": [
    "## Save Section"
   ]
  },
  {
   "cell_type": "code",
   "execution_count": null,
   "id": "cf0c4bea",
   "metadata": {},
   "outputs": [],
   "source": [
    "file_name = '6_to_1_Crimson_z'\n",
    "save_path = r'Analysis_Outputs\\6_to_1_Crimson\\dendrites\\1_to_8mw\\zscore'\n",
    "save_pickle(file_name,curve,save_path)"
   ]
  },
  {
   "cell_type": "markdown",
   "id": "bf3f4109",
   "metadata": {},
   "source": [
    "### Load Data"
   ]
  },
  {
   "cell_type": "code",
   "execution_count": null,
   "id": "66bb9aa1",
   "metadata": {},
   "outputs": [],
   "source": [
    "# file_name = ['6_to_1_Crimson']\n",
    "# load_path = r'Analysis_Outputs\\6_to_1_Crimson\\dendrites\\1_to_8mw'\n",
    "# data = load_pickle(file_name,load_path)"
   ]
  },
  {
   "cell_type": "markdown",
   "id": "74ec95a8",
   "metadata": {},
   "source": [
    "#### ReExamine Data"
   ]
  },
  {
   "cell_type": "code",
   "execution_count": null,
   "id": "eb822829",
   "metadata": {},
   "outputs": [],
   "source": [
    "# data[0].zscore"
   ]
  },
  {
   "cell_type": "code",
   "execution_count": null,
   "id": "67047cc2",
   "metadata": {
    "scrolled": true
   },
   "outputs": [],
   "source": [
    "# data[0].visualize_session(3,fig2_size=(10,50),fig3_size=(10,30),save=True,hmap_range=(0,5))"
   ]
  },
  {
   "cell_type": "code",
   "execution_count": null,
   "id": "b8b71189",
   "metadata": {},
   "outputs": [],
   "source": []
  },
  {
   "cell_type": "code",
   "execution_count": null,
   "id": "707d039d",
   "metadata": {},
   "outputs": [],
   "source": []
  }
 ],
 "metadata": {
  "kernelspec": {
   "display_name": "Python 3 (ipykernel)",
   "language": "python",
   "name": "python3"
  },
  "language_info": {
   "codemirror_mode": {
    "name": "ipython",
    "version": 3
   },
   "file_extension": ".py",
   "mimetype": "text/x-python",
   "name": "python",
   "nbconvert_exporter": "python",
   "pygments_lexer": "ipython3",
   "version": "3.8.8"
  }
 },
 "nbformat": 4,
 "nbformat_minor": 5
}
