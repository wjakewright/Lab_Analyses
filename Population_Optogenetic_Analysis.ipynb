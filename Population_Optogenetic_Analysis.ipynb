{
 "cells": [
  {
   "cell_type": "markdown",
   "id": "8d1191b2",
   "metadata": {},
   "source": [
    "# Population Optogenetic Analysis\n",
    "\n",
    "Jupyter Notebook implementation of population optogenetic analysis. Determines if neurons were significantly activated by direct optogenetic stimulation"
   ]
  },
  {
   "cell_type": "code",
   "execution_count": 1,
   "id": "4102a928",
   "metadata": {},
   "outputs": [],
   "source": [
    "import os\n",
    "from pop_opto_curve import pop_opto_curve as opto_curve\n",
    "from save_load_pickle import load_pickle\n",
    "%matplotlib notebook"
   ]
  },
  {
   "cell_type": "code",
   "execution_count": 2,
   "id": "51692d80",
   "metadata": {},
   "outputs": [],
   "source": [
    "# Load some pickled data\n",
    "## list of the file names to be loaded\n",
    "os.chdir(r'C:\\Users\\Jake\\Desktop\\Processed_data')\n",
    "fnames = ['JW012_211113_5mw','JW012_211113_8mw','JW012_211113_10mw','JW012_211113_15mw']\n",
    "## Path if data is not in the same folder. Comment out otherwise\n",
    "path = r'python_data\\JW012\\dend_1113'\n",
    "data = load_pickle(fnames,path)\n",
    "i_data = []\n",
    "b_data = []\n",
    "for d in data:\n",
    "    i_data.append(d['imaging'])\n",
    "    b_data.append(d['behavior'])"
   ]
  },
  {
   "cell_type": "code",
   "execution_count": 3,
   "id": "5ac11e77",
   "metadata": {},
   "outputs": [
    {
     "name": "stdout",
     "output_type": "stream",
     "text": [
      "(16, 12000)\n",
      "(16, 12000)\n",
      "(16, 12000)\n",
      "(16, 12000)\n"
     ]
    }
   ],
   "source": [
    "# Fix issues with data\n",
    "for i in i_data:\n",
    "    print(i['spine_processed_dFoF'].shape)"
   ]
  },
  {
   "cell_type": "markdown",
   "id": "03ecd71e",
   "metadata": {},
   "source": [
    "## Power Curve\n",
    "\n",
    "Visualize the change in activity induced by optogenetic stimulation and the percentage of neurons significantly modulated for different stimulation powers"
   ]
  },
  {
   "cell_type": "code",
   "execution_count": null,
   "id": "a681158d",
   "metadata": {},
   "outputs": [
    {
     "name": "stderr",
     "output_type": "stream",
     "text": [
      "C:\\Users\\Jake\\Documents\\Anaconda3\\lib\\site-packages\\numpy\\core\\_methods.py:262: RuntimeWarning: Degrees of freedom <= 0 for slice\n",
      "  ret = _var(a, axis=axis, dtype=dtype, out=out, ddof=ddof,\n",
      "C:\\Users\\Jake\\Documents\\Anaconda3\\lib\\site-packages\\numpy\\core\\_methods.py:251: RuntimeWarning: invalid value encountered in true_divide\n",
      "  ret = um.true_divide(\n",
      "C:\\Users\\Jake\\Desktop\\python_code\\Lab_Analyses\\pop_opto_curve.py:133: VisibleDeprecationWarning: Creating an ndarray from ragged nested sequences (which is a list-or-tuple of lists-or-tuples-or ndarrays with different lengths or shapes) is deprecated. If you meant to do this, you must specify 'dtype=object' when creating the ndarray.\n",
      "  self.sem_diffs = np.array(sem_diffs)\n"
     ]
    }
   ],
   "source": [
    "# specify which method you want to use to assess if neuron was significantly activated\n",
    "# 'test' uses wilcoxon signed-rank tet and 'shuff' compares against a shuffled distribution of activity\n",
    "# specify if you would like to use z_scored data for not\n",
    "curve = opto_curve(imaging_data=i_data,behavioral_data=b_data,powers=[5,8,10,15],method='shuff',zscore=True,spines=True)\n",
    "curve.get_power_curves()"
   ]
  },
  {
   "cell_type": "code",
   "execution_count": null,
   "id": "071cdda0",
   "metadata": {},
   "outputs": [],
   "source": [
    "# Display results\n",
    "curve.disp_results()"
   ]
  },
  {
   "cell_type": "markdown",
   "id": "c90e6217",
   "metadata": {},
   "source": [
    "### Visualize Individual sessions"
   ]
  },
  {
   "cell_type": "code",
   "execution_count": null,
   "id": "5921b596",
   "metadata": {
    "scrolled": false
   },
   "outputs": [],
   "source": [
    "# Specify which session you wish to visualize\n",
    "curve.visualize_individual_sessions(0)"
   ]
  },
  {
   "cell_type": "code",
   "execution_count": null,
   "id": "0b10fbf5",
   "metadata": {},
   "outputs": [],
   "source": []
  }
 ],
 "metadata": {
  "kernelspec": {
   "display_name": "Python 3 (ipykernel)",
   "language": "python",
   "name": "python3"
  },
  "language_info": {
   "codemirror_mode": {
    "name": "ipython",
    "version": 3
   },
   "file_extension": ".py",
   "mimetype": "text/x-python",
   "name": "python",
   "nbconvert_exporter": "python",
   "pygments_lexer": "ipython3",
   "version": "3.8.8"
  }
 },
 "nbformat": 4,
 "nbformat_minor": 5
}
